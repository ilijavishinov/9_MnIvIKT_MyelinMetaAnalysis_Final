{
 "cells": [
  {
   "cell_type": "markdown",
   "source": [
    "## Зошто овој труд е значаен?\n",
    "\n",
    "Во научната литература се предложени многу MRI (Magnetic Resonance Imaging) мерења како биомаркери за миелинот (Видео 1) во случаи на in vivo\n",
    "и ex vivo (Видео 2). Но, кое од овие мерења е најдобро за кфантифицирањето на миелинот е сеуште тема на дебата?\n",
    "\n",
    "Ова истражување на систематски начин ги ревидира публикуваните студии кои ги анализираат овие мерења, и преку мета-анализа пробува да ја долови\n",
    "разликата помеѓу мерењата. Анализата која ја спроведуваат истражувачите дека повеќето мерења немаат доволно добар коефициент на детерминација (Равенка 1).\n",
    "\n",
    "Заклучокот на студијата е дека овие мерења не носат со себе доволно информација за квантифицирањето на миелинот, и дополнителни истражувања се потребни.\n"
   ],
   "metadata": {
    "collapsed": false,
    "pycharm": {
     "name": "#%% md\n"
    }
   }
  },
  {
   "cell_type": "markdown",
   "source": [
    "## Видео 1\n",
    "### Кратко и интересен вовед во што е тоа миелин и кои се неговите функции во нервниот систем"
   ],
   "metadata": {
    "collapsed": false
   }
  },
  {
   "cell_type": "code",
   "execution_count": 27,
   "outputs": [
    {
     "data": {
      "text/plain": "<IPython.lib.display.YouTubeVideo at 0x21d77e97580>",
      "text/html": "\n        <iframe\n            width=\"800\"\n            height=\"300\"\n            src=\"https://www.youtube.com/embed/https://www.youtube.com/watch?v=5V7RZwDpmXE\"\n            frameborder=\"0\"\n            allowfullscreen\n        ></iframe>\n        "
     },
     "execution_count": 27,
     "metadata": {},
     "output_type": "execute_result"
    }
   ],
   "source": [
    "from IPython.display import YouTubeVideo\n",
    "\n",
    "YouTubeVideo('https://www.youtube.com/watch?v=5V7RZwDpmXE', width=800, height=300)\n"
   ],
   "metadata": {
    "collapsed": false,
    "pycharm": {
     "name": "#%%\n"
    }
   }
  },
  {
   "cell_type": "markdown",
   "source": [
    "## Видео 2\n",
    "### Што е in vivo, а што е ex vivo"
   ],
   "metadata": {
    "collapsed": false,
    "pycharm": {
     "name": "#%% md\n"
    }
   }
  },
  {
   "cell_type": "code",
   "execution_count": 28,
   "outputs": [
    {
     "data": {
      "text/plain": "<IPython.lib.display.YouTubeVideo at 0x21d79098370>",
      "text/html": "\n        <iframe\n            width=\"800\"\n            height=\"300\"\n            src=\"https://www.youtube.com/embed/https://www.youtube.com/watch?v=ZAHUO36EfV8\"\n            frameborder=\"0\"\n            allowfullscreen\n        ></iframe>\n        "
     },
     "execution_count": 28,
     "metadata": {},
     "output_type": "execute_result"
    }
   ],
   "source": [
    "\n",
    "YouTubeVideo('https://www.youtube.com/watch?v=ZAHUO36EfV8', width=800, height=300)"
   ],
   "metadata": {
    "collapsed": false,
    "pycharm": {
     "name": "#%%\n"
    }
   }
  },
  {
   "cell_type": "markdown",
   "source": [
    "## Равенка 1\n",
    "\n",
    "$$ \\tilde{y} = (1/n) * \\sum_{i=1}^{n} y_i $$\n",
    "\n",
    "$$ SS_{tot} = \\sum_{i=1}^{n} (y_i - \\tilde{y})^2 $$\n",
    "\n",
    "$$ SS_{res} = \\sum_{i=1}^{n} (y_i - f_i)^2 =  \\sum_{i=1}^{n} e_i^2$$\n",
    "\n",
    "$$ R^2 = 1 - (SS_{res} / SS_{tot}) $$\n"
   ],
   "metadata": {
    "collapsed": false,
    "pycharm": {
     "name": "#%% md\n"
    }
   }
  },
  {
   "cell_type": "markdown",
   "source": [
    "## Literature overview\n",
    "\n",
    "First, how were the studies selected? We used the [Medline database](https://pubmed.ncbi.nlm.nih.gov) and retrieved all the records mentioning (1) myelin, (2) MRI and (3) histology (or a related technique). The full list of keywords is provided in the preprint.\n",
    "\n",
    "\n",
    "```{admonition} Figure 1\n",
    ":class: tip\n",
    "The Sankey diagram shows the screening procdess. You can hover with the mouse on each block and connection to see details about the number of studies and exclusion criteria.\n",
    "```"
   ],
   "metadata": {
    "collapsed": false
   }
  },
  {
   "cell_type": "code",
   "execution_count": 12,
   "outputs": [],
   "source": [
    "import numpy as np\n",
    "import pandas as pd\n",
    "\n",
    "import plotly.graph_objects as go\n",
    "from IPython.core.display import display, HTML\n",
    "from plotly.offline import plot\n",
    "import plotly.express as px\n",
    "import plotly.colors\n",
    "from plotly.subplots import make_subplots\n",
    "\n",
    "from rpy2.robjects.packages import importr\n",
    "import rpy2.robjects\n",
    "import subprocess\n",
    "subprocess.call('curl https://raw.githubusercontent.com/Notebook-Factory/brand/main/insertLogo.py --output /tmp/insertLogo.py', shell=True)\n",
    "def insertLogo(fig,scX,scY,posX,posY,imXshift,imYshift):\n",
    "    fig.layout.images = [dict(source=\"https://raw.githubusercontent.com/notebook-factory/brand/main/nlibre_custom2.svg\",xref=\"paper\", yref=\"paper\",x=posX+imXshift, y=posY+imYshift,\n",
    "                sizex=scX , sizey=scY, opacity = 0.9)]\n",
    "    fig.add_annotation(x=posX,y=posY,xref=\"paper\",yref=\"paper\",text=\"<a href=\\\"https://neurolibre.com\\\" target=\\\"_blank\\\" style=\\\"color:gray!important\\\">NeuroLibre</a>\",\n",
    "               showarrow = False, font=dict(size=8, color=\"gray\"))\n",
    "\n",
    "    return fig\n",
    "\n",
    "import plotly.offline"
   ],
   "metadata": {
    "collapsed": false,
    "pycharm": {
     "name": "#%%\n"
    }
   }
  },
  {
   "cell_type": "markdown",
   "source": [
    "### Figure 1"
   ],
   "metadata": {
    "collapsed": false
   }
  },
  {
   "cell_type": "code",
   "execution_count": 13,
   "outputs": [
    {
     "data": {
      "application/vnd.plotly.v1+json": {
       "config": {
        "linkText": "Export to plot.ly",
        "plotlyServerURL": "https://plot.ly",
        "showLink": false
       },
       "data": [
        {
         "arrangement": "freeform",
         "link": {
          "customdata": [
           "Records obtained from the Medline database",
           "Records obtained from previous reviews",
           "\n                    Exclusion critera:<br>\n                    - work relying only on MRI;<br>\n                    - work relying only on histology or equivalent approach;<br>\n                    - work reporting only qualitative comparisons.\n                  ",
           "Records selected for full-text evaluation",
           "\n                    Exclusion criteria:<br>\n                    - studies using MRI-based measures in arbitrary units;<br>\n                    - studies using measures of variation in myelin content;<br>\n                    - studies using arbitrary assessment scales;<br>\n                    - studies comparing absolute measures of myelin with relative measures;<br>\n                    - studies reporting other quantitative measures than correlation or R^2 values;<br>\n                    - studies comparing histology from one dataset and MRI from a different one.\n                  ",
           "Studies selected for literature overview",
           "\n                    Exclusion criteria:<br>\n                     - not providing an indication of both number of subjects and number of ROIs.\n                  "
          ],
          "hovertemplate": "%{customdata}",
          "source": [
           0,
           1,
           2,
           2,
           4,
           4,
           6
          ],
          "target": [
           2,
           2,
           3,
           4,
           5,
           6,
           7
          ],
          "value": [
           688,
           1,
           597,
           92,
           34,
           58,
           43
          ]
         },
         "node": {
          "color": [
           "darkblue",
           "darkblue",
           "darkblue",
           "darkred",
           "darkgreen",
           "darkred",
           "darkgreen",
           "darkgreen"
          ],
          "hovertemplate": "%{label}<extra>%{value}</extra>",
          "label": [
           "Main records identified (database searching)",
           "Additional records (reviews)",
           "Records screened",
           "Records excluded",
           "Full-text articles assessed for eligibility",
           "Full-text articles excluded",
           "Studied included in the literature overview",
           "Studies included in the meta-analysis"
          ],
          "line": {
           "color": "black",
           "width": 0.5
          },
          "pad": 80,
          "thickness": 10,
          "x": [
           0,
           0,
           0.4,
           0.6,
           0.5,
           0.8,
           0.7,
           1
          ],
          "y": [
           0,
           0,
           0.5,
           0.8,
           0.15,
           0.05,
           0.4,
           0.6
          ]
         },
         "type": "sankey"
        }
       ],
       "layout": {
        "annotations": [
         {
          "font": {
           "color": "gray",
           "size": 8
          },
          "showarrow": false,
          "text": "<a href=\"https://neurolibre.com\" target=\"_blank\" style=\"color:gray!important\">NeuroLibre</a>",
          "x": 1.1,
          "xref": "paper",
          "y": 0,
          "yref": "paper"
         }
        ],
        "font": {
         "size": 10
        },
        "height": 450,
        "images": [
         {
          "opacity": 0.9,
          "sizex": 0.07,
          "sizey": 0.07,
          "source": "https://raw.githubusercontent.com/notebook-factory/brand/main/nlibre_custom2.svg",
          "x": 0.9870000000000001,
          "xref": "paper",
          "y": 0.07,
          "yref": "paper"
         }
        ],
        "margin": {
         "l": 0
        },
        "template": {
         "data": {
          "bar": [
           {
            "error_x": {
             "color": "#2a3f5f"
            },
            "error_y": {
             "color": "#2a3f5f"
            },
            "marker": {
             "line": {
              "color": "#E5ECF6",
              "width": 0.5
             }
            },
            "type": "bar"
           }
          ],
          "barpolar": [
           {
            "marker": {
             "line": {
              "color": "#E5ECF6",
              "width": 0.5
             }
            },
            "type": "barpolar"
           }
          ],
          "carpet": [
           {
            "aaxis": {
             "endlinecolor": "#2a3f5f",
             "gridcolor": "white",
             "linecolor": "white",
             "minorgridcolor": "white",
             "startlinecolor": "#2a3f5f"
            },
            "baxis": {
             "endlinecolor": "#2a3f5f",
             "gridcolor": "white",
             "linecolor": "white",
             "minorgridcolor": "white",
             "startlinecolor": "#2a3f5f"
            },
            "type": "carpet"
           }
          ],
          "choropleth": [
           {
            "colorbar": {
             "outlinewidth": 0,
             "ticks": ""
            },
            "type": "choropleth"
           }
          ],
          "contour": [
           {
            "colorbar": {
             "outlinewidth": 0,
             "ticks": ""
            },
            "colorscale": [
             [
              0.0,
              "#0d0887"
             ],
             [
              0.1111111111111111,
              "#46039f"
             ],
             [
              0.2222222222222222,
              "#7201a8"
             ],
             [
              0.3333333333333333,
              "#9c179e"
             ],
             [
              0.4444444444444444,
              "#bd3786"
             ],
             [
              0.5555555555555556,
              "#d8576b"
             ],
             [
              0.6666666666666666,
              "#ed7953"
             ],
             [
              0.7777777777777778,
              "#fb9f3a"
             ],
             [
              0.8888888888888888,
              "#fdca26"
             ],
             [
              1.0,
              "#f0f921"
             ]
            ],
            "type": "contour"
           }
          ],
          "contourcarpet": [
           {
            "colorbar": {
             "outlinewidth": 0,
             "ticks": ""
            },
            "type": "contourcarpet"
           }
          ],
          "heatmap": [
           {
            "colorbar": {
             "outlinewidth": 0,
             "ticks": ""
            },
            "colorscale": [
             [
              0.0,
              "#0d0887"
             ],
             [
              0.1111111111111111,
              "#46039f"
             ],
             [
              0.2222222222222222,
              "#7201a8"
             ],
             [
              0.3333333333333333,
              "#9c179e"
             ],
             [
              0.4444444444444444,
              "#bd3786"
             ],
             [
              0.5555555555555556,
              "#d8576b"
             ],
             [
              0.6666666666666666,
              "#ed7953"
             ],
             [
              0.7777777777777778,
              "#fb9f3a"
             ],
             [
              0.8888888888888888,
              "#fdca26"
             ],
             [
              1.0,
              "#f0f921"
             ]
            ],
            "type": "heatmap"
           }
          ],
          "heatmapgl": [
           {
            "colorbar": {
             "outlinewidth": 0,
             "ticks": ""
            },
            "colorscale": [
             [
              0.0,
              "#0d0887"
             ],
             [
              0.1111111111111111,
              "#46039f"
             ],
             [
              0.2222222222222222,
              "#7201a8"
             ],
             [
              0.3333333333333333,
              "#9c179e"
             ],
             [
              0.4444444444444444,
              "#bd3786"
             ],
             [
              0.5555555555555556,
              "#d8576b"
             ],
             [
              0.6666666666666666,
              "#ed7953"
             ],
             [
              0.7777777777777778,
              "#fb9f3a"
             ],
             [
              0.8888888888888888,
              "#fdca26"
             ],
             [
              1.0,
              "#f0f921"
             ]
            ],
            "type": "heatmapgl"
           }
          ],
          "histogram": [
           {
            "marker": {
             "colorbar": {
              "outlinewidth": 0,
              "ticks": ""
             }
            },
            "type": "histogram"
           }
          ],
          "histogram2d": [
           {
            "colorbar": {
             "outlinewidth": 0,
             "ticks": ""
            },
            "colorscale": [
             [
              0.0,
              "#0d0887"
             ],
             [
              0.1111111111111111,
              "#46039f"
             ],
             [
              0.2222222222222222,
              "#7201a8"
             ],
             [
              0.3333333333333333,
              "#9c179e"
             ],
             [
              0.4444444444444444,
              "#bd3786"
             ],
             [
              0.5555555555555556,
              "#d8576b"
             ],
             [
              0.6666666666666666,
              "#ed7953"
             ],
             [
              0.7777777777777778,
              "#fb9f3a"
             ],
             [
              0.8888888888888888,
              "#fdca26"
             ],
             [
              1.0,
              "#f0f921"
             ]
            ],
            "type": "histogram2d"
           }
          ],
          "histogram2dcontour": [
           {
            "colorbar": {
             "outlinewidth": 0,
             "ticks": ""
            },
            "colorscale": [
             [
              0.0,
              "#0d0887"
             ],
             [
              0.1111111111111111,
              "#46039f"
             ],
             [
              0.2222222222222222,
              "#7201a8"
             ],
             [
              0.3333333333333333,
              "#9c179e"
             ],
             [
              0.4444444444444444,
              "#bd3786"
             ],
             [
              0.5555555555555556,
              "#d8576b"
             ],
             [
              0.6666666666666666,
              "#ed7953"
             ],
             [
              0.7777777777777778,
              "#fb9f3a"
             ],
             [
              0.8888888888888888,
              "#fdca26"
             ],
             [
              1.0,
              "#f0f921"
             ]
            ],
            "type": "histogram2dcontour"
           }
          ],
          "mesh3d": [
           {
            "colorbar": {
             "outlinewidth": 0,
             "ticks": ""
            },
            "type": "mesh3d"
           }
          ],
          "parcoords": [
           {
            "line": {
             "colorbar": {
              "outlinewidth": 0,
              "ticks": ""
             }
            },
            "type": "parcoords"
           }
          ],
          "pie": [
           {
            "automargin": true,
            "type": "pie"
           }
          ],
          "scatter": [
           {
            "marker": {
             "colorbar": {
              "outlinewidth": 0,
              "ticks": ""
             }
            },
            "type": "scatter"
           }
          ],
          "scatter3d": [
           {
            "line": {
             "colorbar": {
              "outlinewidth": 0,
              "ticks": ""
             }
            },
            "marker": {
             "colorbar": {
              "outlinewidth": 0,
              "ticks": ""
             }
            },
            "type": "scatter3d"
           }
          ],
          "scattercarpet": [
           {
            "marker": {
             "colorbar": {
              "outlinewidth": 0,
              "ticks": ""
             }
            },
            "type": "scattercarpet"
           }
          ],
          "scattergeo": [
           {
            "marker": {
             "colorbar": {
              "outlinewidth": 0,
              "ticks": ""
             }
            },
            "type": "scattergeo"
           }
          ],
          "scattergl": [
           {
            "marker": {
             "colorbar": {
              "outlinewidth": 0,
              "ticks": ""
             }
            },
            "type": "scattergl"
           }
          ],
          "scattermapbox": [
           {
            "marker": {
             "colorbar": {
              "outlinewidth": 0,
              "ticks": ""
             }
            },
            "type": "scattermapbox"
           }
          ],
          "scatterpolar": [
           {
            "marker": {
             "colorbar": {
              "outlinewidth": 0,
              "ticks": ""
             }
            },
            "type": "scatterpolar"
           }
          ],
          "scatterpolargl": [
           {
            "marker": {
             "colorbar": {
              "outlinewidth": 0,
              "ticks": ""
             }
            },
            "type": "scatterpolargl"
           }
          ],
          "scatterternary": [
           {
            "marker": {
             "colorbar": {
              "outlinewidth": 0,
              "ticks": ""
             }
            },
            "type": "scatterternary"
           }
          ],
          "surface": [
           {
            "colorbar": {
             "outlinewidth": 0,
             "ticks": ""
            },
            "colorscale": [
             [
              0.0,
              "#0d0887"
             ],
             [
              0.1111111111111111,
              "#46039f"
             ],
             [
              0.2222222222222222,
              "#7201a8"
             ],
             [
              0.3333333333333333,
              "#9c179e"
             ],
             [
              0.4444444444444444,
              "#bd3786"
             ],
             [
              0.5555555555555556,
              "#d8576b"
             ],
             [
              0.6666666666666666,
              "#ed7953"
             ],
             [
              0.7777777777777778,
              "#fb9f3a"
             ],
             [
              0.8888888888888888,
              "#fdca26"
             ],
             [
              1.0,
              "#f0f921"
             ]
            ],
            "type": "surface"
           }
          ],
          "table": [
           {
            "cells": {
             "fill": {
              "color": "#EBF0F8"
             },
             "line": {
              "color": "white"
             }
            },
            "header": {
             "fill": {
              "color": "#C8D4E3"
             },
             "line": {
              "color": "white"
             }
            },
            "type": "table"
           }
          ]
         },
         "layout": {
          "annotationdefaults": {
           "arrowcolor": "#2a3f5f",
           "arrowhead": 0,
           "arrowwidth": 1
          },
          "coloraxis": {
           "colorbar": {
            "outlinewidth": 0,
            "ticks": ""
           }
          },
          "colorscale": {
           "diverging": [
            [
             0,
             "#8e0152"
            ],
            [
             0.1,
             "#c51b7d"
            ],
            [
             0.2,
             "#de77ae"
            ],
            [
             0.3,
             "#f1b6da"
            ],
            [
             0.4,
             "#fde0ef"
            ],
            [
             0.5,
             "#f7f7f7"
            ],
            [
             0.6,
             "#e6f5d0"
            ],
            [
             0.7,
             "#b8e186"
            ],
            [
             0.8,
             "#7fbc41"
            ],
            [
             0.9,
             "#4d9221"
            ],
            [
             1,
             "#276419"
            ]
           ],
           "sequential": [
            [
             0.0,
             "#0d0887"
            ],
            [
             0.1111111111111111,
             "#46039f"
            ],
            [
             0.2222222222222222,
             "#7201a8"
            ],
            [
             0.3333333333333333,
             "#9c179e"
            ],
            [
             0.4444444444444444,
             "#bd3786"
            ],
            [
             0.5555555555555556,
             "#d8576b"
            ],
            [
             0.6666666666666666,
             "#ed7953"
            ],
            [
             0.7777777777777778,
             "#fb9f3a"
            ],
            [
             0.8888888888888888,
             "#fdca26"
            ],
            [
             1.0,
             "#f0f921"
            ]
           ],
           "sequentialminus": [
            [
             0.0,
             "#0d0887"
            ],
            [
             0.1111111111111111,
             "#46039f"
            ],
            [
             0.2222222222222222,
             "#7201a8"
            ],
            [
             0.3333333333333333,
             "#9c179e"
            ],
            [
             0.4444444444444444,
             "#bd3786"
            ],
            [
             0.5555555555555556,
             "#d8576b"
            ],
            [
             0.6666666666666666,
             "#ed7953"
            ],
            [
             0.7777777777777778,
             "#fb9f3a"
            ],
            [
             0.8888888888888888,
             "#fdca26"
            ],
            [
             1.0,
             "#f0f921"
            ]
           ]
          },
          "colorway": [
           "#636efa",
           "#EF553B",
           "#00cc96",
           "#ab63fa",
           "#FFA15A",
           "#19d3f3",
           "#FF6692",
           "#B6E880",
           "#FF97FF",
           "#FECB52"
          ],
          "font": {
           "color": "#2a3f5f"
          },
          "geo": {
           "bgcolor": "white",
           "lakecolor": "white",
           "landcolor": "#E5ECF6",
           "showlakes": true,
           "showland": true,
           "subunitcolor": "white"
          },
          "hoverlabel": {
           "align": "left"
          },
          "hovermode": "closest",
          "mapbox": {
           "style": "light"
          },
          "paper_bgcolor": "white",
          "plot_bgcolor": "#E5ECF6",
          "polar": {
           "angularaxis": {
            "gridcolor": "white",
            "linecolor": "white",
            "ticks": ""
           },
           "bgcolor": "#E5ECF6",
           "radialaxis": {
            "gridcolor": "white",
            "linecolor": "white",
            "ticks": ""
           }
          },
          "scene": {
           "xaxis": {
            "backgroundcolor": "#E5ECF6",
            "gridcolor": "white",
            "gridwidth": 2,
            "linecolor": "white",
            "showbackground": true,
            "ticks": "",
            "zerolinecolor": "white"
           },
           "yaxis": {
            "backgroundcolor": "#E5ECF6",
            "gridcolor": "white",
            "gridwidth": 2,
            "linecolor": "white",
            "showbackground": true,
            "ticks": "",
            "zerolinecolor": "white"
           },
           "zaxis": {
            "backgroundcolor": "#E5ECF6",
            "gridcolor": "white",
            "gridwidth": 2,
            "linecolor": "white",
            "showbackground": true,
            "ticks": "",
            "zerolinecolor": "white"
           }
          },
          "shapedefaults": {
           "line": {
            "color": "#2a3f5f"
           }
          },
          "ternary": {
           "aaxis": {
            "gridcolor": "white",
            "linecolor": "white",
            "ticks": ""
           },
           "baxis": {
            "gridcolor": "white",
            "linecolor": "white",
            "ticks": ""
           },
           "bgcolor": "#E5ECF6",
           "caxis": {
            "gridcolor": "white",
            "linecolor": "white",
            "ticks": ""
           }
          },
          "title": {
           "x": 0.05
          },
          "xaxis": {
           "automargin": true,
           "gridcolor": "white",
           "linecolor": "white",
           "ticks": "",
           "title": {
            "standoff": 15
           },
           "zerolinecolor": "white",
           "zerolinewidth": 2
          },
          "yaxis": {
           "automargin": true,
           "gridcolor": "white",
           "linecolor": "white",
           "ticks": "",
           "title": {
            "standoff": 15
           },
           "zerolinecolor": "white",
           "zerolinewidth": 2
          }
         }
        },
        "title": {
         "text": "Figure 1 - Review methodology"
        },
        "width": 650
       }
      },
      "text/html": "<div>\n        \n        \n            <div id=\"bff508c5-6f9a-4d22-a112-b5c33795b851\" class=\"plotly-graph-div\" style=\"height:450px; width:650px;\"></div>\n            <script type=\"text/javascript\">\n                require([\"plotly\"], function(Plotly) {\n                    window.PLOTLYENV=window.PLOTLYENV || {};\n                    \n                if (document.getElementById(\"bff508c5-6f9a-4d22-a112-b5c33795b851\")) {\n                    Plotly.newPlot(\n                        'bff508c5-6f9a-4d22-a112-b5c33795b851',\n                        [{\"arrangement\": \"freeform\", \"link\": {\"customdata\": [\"Records obtained from the Medline database\", \"Records obtained from previous reviews\", \"\\n                    Exclusion critera:<br>\\n                    - work relying only on MRI;<br>\\n                    - work relying only on histology or equivalent approach;<br>\\n                    - work reporting only qualitative comparisons.\\n                  \", \"Records selected for full-text evaluation\", \"\\n                    Exclusion criteria:<br>\\n                    - studies using MRI-based measures in arbitrary units;<br>\\n                    - studies using measures of variation in myelin content;<br>\\n                    - studies using arbitrary assessment scales;<br>\\n                    - studies comparing absolute measures of myelin with relative measures;<br>\\n                    - studies reporting other quantitative measures than correlation or R^2 values;<br>\\n                    - studies comparing histology from one dataset and MRI from a different one.\\n                  \", \"Studies selected for literature overview\", \"\\n                    Exclusion criteria:<br>\\n                     - not providing an indication of both number of subjects and number of ROIs.\\n                  \"], \"hovertemplate\": \"%{customdata}\", \"source\": [0, 1, 2, 2, 4, 4, 6], \"target\": [2, 2, 3, 4, 5, 6, 7], \"value\": [688, 1, 597, 92, 34, 58, 43]}, \"node\": {\"color\": [\"darkblue\", \"darkblue\", \"darkblue\", \"darkred\", \"darkgreen\", \"darkred\", \"darkgreen\", \"darkgreen\"], \"hovertemplate\": \"%{label}<extra>%{value}</extra>\", \"label\": [\"Main records identified (database searching)\", \"Additional records (reviews)\", \"Records screened\", \"Records excluded\", \"Full-text articles assessed for eligibility\", \"Full-text articles excluded\", \"Studied included in the literature overview\", \"Studies included in the meta-analysis\"], \"line\": {\"color\": \"black\", \"width\": 0.5}, \"pad\": 80, \"thickness\": 10, \"x\": [0, 0, 0.4, 0.6, 0.5, 0.8, 0.7, 1], \"y\": [0, 0, 0.5, 0.8, 0.15, 0.05, 0.4, 0.6]}, \"type\": \"sankey\"}],\n                        {\"annotations\": [{\"font\": {\"color\": \"gray\", \"size\": 8}, \"showarrow\": false, \"text\": \"<a href=\\\"https://neurolibre.com\\\" target=\\\"_blank\\\" style=\\\"color:gray!important\\\">NeuroLibre</a>\", \"x\": 1.1, \"xref\": \"paper\", \"y\": 0, \"yref\": \"paper\"}], \"font\": {\"size\": 10}, \"height\": 450, \"images\": [{\"opacity\": 0.9, \"sizex\": 0.07, \"sizey\": 0.07, \"source\": \"https://raw.githubusercontent.com/notebook-factory/brand/main/nlibre_custom2.svg\", \"x\": 0.9870000000000001, \"xref\": \"paper\", \"y\": 0.07, \"yref\": \"paper\"}], \"margin\": {\"l\": 0}, \"template\": {\"data\": {\"bar\": [{\"error_x\": {\"color\": \"#2a3f5f\"}, \"error_y\": {\"color\": \"#2a3f5f\"}, \"marker\": {\"line\": {\"color\": \"#E5ECF6\", \"width\": 0.5}}, \"type\": \"bar\"}], \"barpolar\": [{\"marker\": {\"line\": {\"color\": \"#E5ECF6\", \"width\": 0.5}}, \"type\": \"barpolar\"}], \"carpet\": [{\"aaxis\": {\"endlinecolor\": \"#2a3f5f\", \"gridcolor\": \"white\", \"linecolor\": \"white\", \"minorgridcolor\": \"white\", \"startlinecolor\": \"#2a3f5f\"}, \"baxis\": {\"endlinecolor\": \"#2a3f5f\", \"gridcolor\": \"white\", \"linecolor\": \"white\", \"minorgridcolor\": \"white\", \"startlinecolor\": \"#2a3f5f\"}, \"type\": \"carpet\"}], \"choropleth\": [{\"colorbar\": {\"outlinewidth\": 0, \"ticks\": \"\"}, \"type\": \"choropleth\"}], \"contour\": [{\"colorbar\": {\"outlinewidth\": 0, \"ticks\": \"\"}, \"colorscale\": [[0.0, \"#0d0887\"], [0.1111111111111111, \"#46039f\"], [0.2222222222222222, \"#7201a8\"], [0.3333333333333333, \"#9c179e\"], [0.4444444444444444, \"#bd3786\"], [0.5555555555555556, \"#d8576b\"], [0.6666666666666666, \"#ed7953\"], [0.7777777777777778, \"#fb9f3a\"], [0.8888888888888888, \"#fdca26\"], [1.0, \"#f0f921\"]], \"type\": \"contour\"}], \"contourcarpet\": [{\"colorbar\": {\"outlinewidth\": 0, \"ticks\": \"\"}, \"type\": \"contourcarpet\"}], \"heatmap\": [{\"colorbar\": {\"outlinewidth\": 0, \"ticks\": \"\"}, \"colorscale\": [[0.0, \"#0d0887\"], [0.1111111111111111, \"#46039f\"], [0.2222222222222222, \"#7201a8\"], [0.3333333333333333, \"#9c179e\"], [0.4444444444444444, \"#bd3786\"], [0.5555555555555556, \"#d8576b\"], [0.6666666666666666, \"#ed7953\"], [0.7777777777777778, \"#fb9f3a\"], [0.8888888888888888, \"#fdca26\"], [1.0, \"#f0f921\"]], \"type\": \"heatmap\"}], \"heatmapgl\": [{\"colorbar\": {\"outlinewidth\": 0, \"ticks\": \"\"}, \"colorscale\": [[0.0, \"#0d0887\"], [0.1111111111111111, \"#46039f\"], [0.2222222222222222, \"#7201a8\"], [0.3333333333333333, \"#9c179e\"], [0.4444444444444444, \"#bd3786\"], [0.5555555555555556, \"#d8576b\"], [0.6666666666666666, \"#ed7953\"], [0.7777777777777778, \"#fb9f3a\"], [0.8888888888888888, \"#fdca26\"], [1.0, \"#f0f921\"]], \"type\": \"heatmapgl\"}], \"histogram\": [{\"marker\": {\"colorbar\": {\"outlinewidth\": 0, \"ticks\": \"\"}}, \"type\": \"histogram\"}], \"histogram2d\": [{\"colorbar\": {\"outlinewidth\": 0, \"ticks\": \"\"}, \"colorscale\": [[0.0, \"#0d0887\"], [0.1111111111111111, \"#46039f\"], [0.2222222222222222, \"#7201a8\"], [0.3333333333333333, \"#9c179e\"], [0.4444444444444444, \"#bd3786\"], [0.5555555555555556, \"#d8576b\"], [0.6666666666666666, \"#ed7953\"], [0.7777777777777778, \"#fb9f3a\"], [0.8888888888888888, \"#fdca26\"], [1.0, \"#f0f921\"]], \"type\": \"histogram2d\"}], \"histogram2dcontour\": [{\"colorbar\": {\"outlinewidth\": 0, \"ticks\": \"\"}, \"colorscale\": [[0.0, \"#0d0887\"], [0.1111111111111111, \"#46039f\"], [0.2222222222222222, \"#7201a8\"], [0.3333333333333333, \"#9c179e\"], [0.4444444444444444, \"#bd3786\"], [0.5555555555555556, \"#d8576b\"], [0.6666666666666666, \"#ed7953\"], [0.7777777777777778, \"#fb9f3a\"], [0.8888888888888888, \"#fdca26\"], [1.0, \"#f0f921\"]], \"type\": \"histogram2dcontour\"}], \"mesh3d\": [{\"colorbar\": {\"outlinewidth\": 0, \"ticks\": \"\"}, \"type\": \"mesh3d\"}], \"parcoords\": [{\"line\": {\"colorbar\": {\"outlinewidth\": 0, \"ticks\": \"\"}}, \"type\": \"parcoords\"}], \"pie\": [{\"automargin\": true, \"type\": \"pie\"}], \"scatter\": [{\"marker\": {\"colorbar\": {\"outlinewidth\": 0, \"ticks\": \"\"}}, \"type\": \"scatter\"}], \"scatter3d\": [{\"line\": {\"colorbar\": {\"outlinewidth\": 0, \"ticks\": \"\"}}, \"marker\": {\"colorbar\": {\"outlinewidth\": 0, \"ticks\": \"\"}}, \"type\": \"scatter3d\"}], \"scattercarpet\": [{\"marker\": {\"colorbar\": {\"outlinewidth\": 0, \"ticks\": \"\"}}, \"type\": \"scattercarpet\"}], \"scattergeo\": [{\"marker\": {\"colorbar\": {\"outlinewidth\": 0, \"ticks\": \"\"}}, \"type\": \"scattergeo\"}], \"scattergl\": [{\"marker\": {\"colorbar\": {\"outlinewidth\": 0, \"ticks\": \"\"}}, \"type\": \"scattergl\"}], \"scattermapbox\": [{\"marker\": {\"colorbar\": {\"outlinewidth\": 0, \"ticks\": \"\"}}, \"type\": \"scattermapbox\"}], \"scatterpolar\": [{\"marker\": {\"colorbar\": {\"outlinewidth\": 0, \"ticks\": \"\"}}, \"type\": \"scatterpolar\"}], \"scatterpolargl\": [{\"marker\": {\"colorbar\": {\"outlinewidth\": 0, \"ticks\": \"\"}}, \"type\": \"scatterpolargl\"}], \"scatterternary\": [{\"marker\": {\"colorbar\": {\"outlinewidth\": 0, \"ticks\": \"\"}}, \"type\": \"scatterternary\"}], \"surface\": [{\"colorbar\": {\"outlinewidth\": 0, \"ticks\": \"\"}, \"colorscale\": [[0.0, \"#0d0887\"], [0.1111111111111111, \"#46039f\"], [0.2222222222222222, \"#7201a8\"], [0.3333333333333333, \"#9c179e\"], [0.4444444444444444, \"#bd3786\"], [0.5555555555555556, \"#d8576b\"], [0.6666666666666666, \"#ed7953\"], [0.7777777777777778, \"#fb9f3a\"], [0.8888888888888888, \"#fdca26\"], [1.0, \"#f0f921\"]], \"type\": \"surface\"}], \"table\": [{\"cells\": {\"fill\": {\"color\": \"#EBF0F8\"}, \"line\": {\"color\": \"white\"}}, \"header\": {\"fill\": {\"color\": \"#C8D4E3\"}, \"line\": {\"color\": \"white\"}}, \"type\": \"table\"}]}, \"layout\": {\"annotationdefaults\": {\"arrowcolor\": \"#2a3f5f\", \"arrowhead\": 0, \"arrowwidth\": 1}, \"coloraxis\": {\"colorbar\": {\"outlinewidth\": 0, \"ticks\": \"\"}}, \"colorscale\": {\"diverging\": [[0, \"#8e0152\"], [0.1, \"#c51b7d\"], [0.2, \"#de77ae\"], [0.3, \"#f1b6da\"], [0.4, \"#fde0ef\"], [0.5, \"#f7f7f7\"], [0.6, \"#e6f5d0\"], [0.7, \"#b8e186\"], [0.8, \"#7fbc41\"], [0.9, \"#4d9221\"], [1, \"#276419\"]], \"sequential\": [[0.0, \"#0d0887\"], [0.1111111111111111, \"#46039f\"], [0.2222222222222222, \"#7201a8\"], [0.3333333333333333, \"#9c179e\"], [0.4444444444444444, \"#bd3786\"], [0.5555555555555556, \"#d8576b\"], [0.6666666666666666, \"#ed7953\"], [0.7777777777777778, \"#fb9f3a\"], [0.8888888888888888, \"#fdca26\"], [1.0, \"#f0f921\"]], \"sequentialminus\": [[0.0, \"#0d0887\"], [0.1111111111111111, \"#46039f\"], [0.2222222222222222, \"#7201a8\"], [0.3333333333333333, \"#9c179e\"], [0.4444444444444444, \"#bd3786\"], [0.5555555555555556, \"#d8576b\"], [0.6666666666666666, \"#ed7953\"], [0.7777777777777778, \"#fb9f3a\"], [0.8888888888888888, \"#fdca26\"], [1.0, \"#f0f921\"]]}, \"colorway\": [\"#636efa\", \"#EF553B\", \"#00cc96\", \"#ab63fa\", \"#FFA15A\", \"#19d3f3\", \"#FF6692\", \"#B6E880\", \"#FF97FF\", \"#FECB52\"], \"font\": {\"color\": \"#2a3f5f\"}, \"geo\": {\"bgcolor\": \"white\", \"lakecolor\": \"white\", \"landcolor\": \"#E5ECF6\", \"showlakes\": true, \"showland\": true, \"subunitcolor\": \"white\"}, \"hoverlabel\": {\"align\": \"left\"}, \"hovermode\": \"closest\", \"mapbox\": {\"style\": \"light\"}, \"paper_bgcolor\": \"white\", \"plot_bgcolor\": \"#E5ECF6\", \"polar\": {\"angularaxis\": {\"gridcolor\": \"white\", \"linecolor\": \"white\", \"ticks\": \"\"}, \"bgcolor\": \"#E5ECF6\", \"radialaxis\": {\"gridcolor\": \"white\", \"linecolor\": \"white\", \"ticks\": \"\"}}, \"scene\": {\"xaxis\": {\"backgroundcolor\": \"#E5ECF6\", \"gridcolor\": \"white\", \"gridwidth\": 2, \"linecolor\": \"white\", \"showbackground\": true, \"ticks\": \"\", \"zerolinecolor\": \"white\"}, \"yaxis\": {\"backgroundcolor\": \"#E5ECF6\", \"gridcolor\": \"white\", \"gridwidth\": 2, \"linecolor\": \"white\", \"showbackground\": true, \"ticks\": \"\", \"zerolinecolor\": \"white\"}, \"zaxis\": {\"backgroundcolor\": \"#E5ECF6\", \"gridcolor\": \"white\", \"gridwidth\": 2, \"linecolor\": \"white\", \"showbackground\": true, \"ticks\": \"\", \"zerolinecolor\": \"white\"}}, \"shapedefaults\": {\"line\": {\"color\": \"#2a3f5f\"}}, \"ternary\": {\"aaxis\": {\"gridcolor\": \"white\", \"linecolor\": \"white\", \"ticks\": \"\"}, \"baxis\": {\"gridcolor\": \"white\", \"linecolor\": \"white\", \"ticks\": \"\"}, \"bgcolor\": \"#E5ECF6\", \"caxis\": {\"gridcolor\": \"white\", \"linecolor\": \"white\", \"ticks\": \"\"}}, \"title\": {\"x\": 0.05}, \"xaxis\": {\"automargin\": true, \"gridcolor\": \"white\", \"linecolor\": \"white\", \"ticks\": \"\", \"title\": {\"standoff\": 15}, \"zerolinecolor\": \"white\", \"zerolinewidth\": 2}, \"yaxis\": {\"automargin\": true, \"gridcolor\": \"white\", \"linecolor\": \"white\", \"ticks\": \"\", \"title\": {\"standoff\": 15}, \"zerolinecolor\": \"white\", \"zerolinewidth\": 2}}}, \"title\": {\"text\": \"Figure 1 - Review methodology\"}, \"width\": 650},\n                        {\"responsive\": true}\n                    ).then(function(){\n                            \nvar gd = document.getElementById('bff508c5-6f9a-4d22-a112-b5c33795b851');\nvar x = new MutationObserver(function (mutations, observer) {{\n        var display = window.getComputedStyle(gd).display;\n        if (!display || display === 'none') {{\n            console.log([gd, 'removed!']);\n            Plotly.purge(gd);\n            observer.disconnect();\n        }}\n}});\n\n// Listen for the removal of the full notebook cells\nvar notebookContainer = gd.closest('#notebook-container');\nif (notebookContainer) {{\n    x.observe(notebookContainer, {childList: true});\n}}\n\n// Listen for the clearing of the current output cell\nvar outputEl = gd.closest('.output');\nif (outputEl) {{\n    x.observe(outputEl, {childList: true});\n}}\n\n                        })\n                };\n                });\n            </script>\n        </div>"
     },
     "metadata": {},
     "output_type": "display_data"
    }
   ],
   "source": [
    "config={'showLink': False, 'displayModeBar': False}\n",
    "\n",
    "screening_info = ['Records obtained from the Medline database',\n",
    "                  'Records obtained from previous reviews',\n",
    "                  \"\"\"\n",
    "                    Exclusion critera:<br>\n",
    "                    - work relying only on MRI;<br>\n",
    "                    - work relying only on histology or equivalent approach;<br>\n",
    "                    - work reporting only qualitative comparisons.\n",
    "                  \"\"\",\n",
    "                  'Records selected for full-text evaluation',\n",
    "                  \"\"\"\n",
    "                    Exclusion criteria:<br>\n",
    "                    - studies using MRI-based measures in arbitrary units;<br>\n",
    "                    - studies using measures of variation in myelin content;<br>\n",
    "                    - studies using arbitrary assessment scales;<br>\n",
    "                    - studies comparing absolute measures of myelin with relative measures;<br>\n",
    "                    - studies reporting other quantitative measures than correlation or R^2 values;<br>\n",
    "                    - studies comparing histology from one dataset and MRI from a different one.\n",
    "                  \"\"\",\n",
    "                  'Studies selected for literature overview',\n",
    "                  \"\"\"\n",
    "                    Exclusion criteria:<br>\n",
    "                     - not providing an indication of both number of subjects and number of ROIs.\n",
    "                  \"\"\"]\n",
    "\n",
    "fig1 = go.Figure(data=[go.Sankey(\n",
    "    arrangement = \"freeform\",\n",
    "    node = dict(\n",
    "      pad = 80,\n",
    "      thickness = 10,\n",
    "      line = dict(color = \"black\", width = 0.5),\n",
    "      label = [\"Main records identified (database searching)\",\n",
    "               \"Additional records (reviews)\",\n",
    "               \"Records screened\",\n",
    "               \"Records excluded\",\n",
    "               \"Full-text articles assessed for eligibility\",\n",
    "               \"Full-text articles excluded\",\n",
    "               \"Studied included in the literature overview\",\n",
    "               \"Studies included in the meta-analysis\"],\n",
    "      x = [0, 0, 0.4, 0.6, 0.5, 0.8, 0.7, 1],\n",
    "      y = [0, 0, 0.5, 0.8, 0.15, 0.05, 0.4, 0.6],\n",
    "      hovertemplate = \"%{label}<extra>%{value}</extra>\",\n",
    "      color = [\"darkblue\",\"darkblue\",\"darkblue\",\"darkred\",\"darkgreen\",\"darkred\",\"darkgreen\",\"darkgreen\"]\n",
    "    ),\n",
    "    link = dict(\n",
    "      source = [0, 1, 2, 2, 4, 4, 6],\n",
    "      target = [2, 2, 3, 4, 5, 6, 7],\n",
    "      value = [688, 1, 597, 92, 34, 58, 43],\n",
    "      customdata = screening_info,\n",
    "      hovertemplate = \"%{customdata}\",\n",
    "  ))])\n",
    "\n",
    "fig1.update_layout(title = dict(text=\"Figure 1 - Review methodology\"),\n",
    "                   width=650,\n",
    "                   height=450,\n",
    "                   font_size=10,\n",
    "                   margin=dict(l=0))\n",
    "\n",
    "plot(insertLogo(fig1,0.07,0.07,1.1,0,-0.113,0.07), filename = 'fig1.html',config = config)\n",
    "# display(HTML('fig1.html'))\n",
    "\n",
    "# fig1.show()\n",
    "plotly.offline.iplot(fig1, filename=\"Figure 1\")"
   ],
   "metadata": {
    "collapsed": false,
    "pycharm": {
     "name": "#%%\n"
    }
   }
  },
  {
   "cell_type": "markdown",
   "source": [
    "We identified 58 studies reporting quantitative comparisons between MRI and histology: these included a variety of methodological choices and experimental conditions, in terms of tissue type (brain, spinal cord, peripheral nerve), condition (*in vivo*, *ex vivo*, *in situ*), species (human, animal), pathology model, and many more. A glimpse of these subdivisions is provided in the following treemap.\n",
    "\n",
    "```{admonition} Figure 2\n",
    ":class: tip\n",
    "You can click on each box to expand the related category, and for each study you can find out more details and the link to the original paper.\n",
    "```"
   ],
   "metadata": {
    "collapsed": false
   }
  },
  {
   "cell_type": "markdown",
   "source": [
    "### Figure 2"
   ],
   "metadata": {
    "collapsed": false
   }
  },
  {
   "cell_type": "code",
   "execution_count": 14,
   "outputs": [
    {
     "data": {
      "application/vnd.plotly.v1+json": {
       "config": {
        "linkText": "Export to plot.ly",
        "plotlyServerURL": "https://plot.ly",
        "showLink": false
       },
       "data": [
        {
         "branchvalues": "total",
         "hoverinfo": "label",
         "ids": [
          "Brain/Ex vivo - Fixed/Animal - Mouse/Optogenetic stimulation/Abe et al., 2019",
          "Brain/In vivo/Animal - Rat/Hydrocephalus/Aojula et al., 2016",
          "Brain/In vivo/Animal - Mouse/Demyelination - Cuprizone/Beckmann et al., 2018",
          "Brain/Ex vivo - Fixed/Animal - Mouse/Demyelination - Knockout/Berman et al., 2018",
          "Brain/In vivo/Animal - Mouse/Demyelination - Cuprizone/Chandran et al., 2012",
          "Brain/Ex vivo - Fixed/Animal - Mouse/Healthy/Chang et al., 2017",
          "Spinal cord/Ex vivo - Fixed/Animal - Rat/Injury - Dorsal columnar transection/Chen et al., 2017",
          "Brain/In vivo/Animal - Mouse/Healthy/Duhamel et al., 2019",
          "Brain/In vivo/Animal - Mouse/Ischemia - Induced hypoxia/Fatemi et al., 2011",
          "Brain/In vivo/Animal - Mouse/Demyelination - Cuprizone/Fjaer et al., 2013",
          "Brain/In vivo/Animal - Mouse/Demyelination - Autoimmune encephalomyelitis/Fjaer et al., 2015",
          "Brain/In vivo/Animal - Mouse/Healthy/Guglielmetti et al., 2020",
          "Brain/Ex vivo - Fixed/Animal - Rat/Healthy/Hakkarainen et al., 2016",
          "Brain/In situ/Human/Vascular diseases/Hametner et al., 2018",
          "Spinal cord/In vivo/Animal - Rat/Edema - Hexachlorophene/Harkins et al., 2013",
          "Brain/Ex vivo - Fixed/Animal - Rat/Demyelination - Lipopolysaccharide/Janve et al., 2013",
          "Brain/In vivo/Animal - Mouse/Demyelination - Cuprizone/Jelescu et al., 2016",
          "Brain/In vivo/Animal - Mouse/Healthy/Jito et al., 2008",
          "Brain/Ex vivo - Fixed/Animal - Mouse/Demyelination - Knockout/Kelm et al., 2016",
          "Brain/In vivo/Animal - Mouse/Demyelination - Cuprizone/Khodanovic et al., 2017",
          "Brain/In vivo/Animal - Mouse/Demyelination - Cuprizone/Khodanovic et al., 2019",
          "Spinal cord/Ex vivo - Fixed/Animal - Rat/Injury - Dorsal columnar transection/Kozlowski et al., 2008",
          "Spinal cord/In vivo/Animal - Rat/Injury - Dorsal columnar transection/Kozlowski et al., 2014",
          "Brain/Ex vivo - Fixed/Human/Multiple sclerosis/Laule et al., 2006",
          "Brain/Ex vivo - Fixed/Human/Multiple sclerosis/Laule et al., 2008",
          "Brain/Ex vivo - Fixed/Human/Multiple sclerosis/Laule et al., 2011",
          "Brain/In vivo/Animal - Rat/Demyelination - Lipopolysaccharide/Lehto et al., 2017a",
          "Brain/Ex vivo - Unfixed/Animal - Rat/Traumatic brain injury/Lehto et al., 2017b",
          "Brain/Ex vivo - Fixed/Human/Amyotrophic lateral sclerosis/Mollink et al., 2019",
          "Peripheral nerve/Ex vivo - Unfixed/Animal - Rat/Demyelination - Tellurium/Odrobina et al., 2005",
          "Brain/Ex vivo - Fixed/Human/Tuberous sclerosis complex/Peters et al., 2019",
          "Brain/In vivo/Animal - Mouse/Healthy/Pol et al., 2019",
          "Brain/In vivo/Animal - Mouse/Amyloidosis/Praet et al., 2018",
          "Peripheral nerve/Ex vivo - Unfixed/Animal - Rat/Demyelination - Tellurium/Pun et al., 2005",
          "Brain/Ex vivo - Fixed/Human/Epilepsy/Reeves et al., 2016",
          "Brain/Ex vivo - Unfixed/Human/Multiple sclerosis/Schmierer et al., 2004",
          "Brain/Ex vivo - Unfixed/Human/Multiple sclerosis/Schmierer et al., 2007a",
          "Brain/Ex vivo - Unfixed/Human/Multiple sclerosis/Schmierer et al., 2007b",
          "Brain/Ex vivo - Fixed/Human/Multiple sclerosis/Schmierer et al., 2008",
          "Brain/Ex vivo - Fixed/Human/Multiple sclerosis/Schmierer et al., 2010",
          "Brain/Ex vivo - Fixed/Human/Healthy/Seehaus et al., 2015",
          "Brain/In situ/Animal - Mouse/Demyelination - Cuprizone/Soustelle et al., 2019",
          "Peripheral nerve/Ex vivo - Unfixed/Animal - Rat/Degeneration - Contusive injury/Takagi et al., 2009",
          "Brain/Ex vivo - Fixed/Human/Multiple sclerosis/Tardif et al., 2012",
          "Brain/Ex vivo - Unfixed/Animal - Mouse/Demyelination - Cuprizone/Thiessen et al., 2013",
          "Brain/In vivo/Animal - Rat/Traumatic brain injury/Tu et al., 2016",
          "Brain/In vivo/Animal - Mouse/Demyelination - Cuprizone/Turati et al., 2015",
          "Brain/In vivo/Animal - Mouse/Healthy/Underhill et al., 2011",
          "Brain/In vivo/Animal - Rat/Ischemia - Induced hypoxia/Wang et al., 2009",
          "Spinal cord/Ex vivo - Fixed/Animal - Mouse/Demyelination - Autoimmune encephalomyelitis/Wang et al., 2014",
          "Spinal cord/Ex vivo - Fixed/Human/Multiple sclerosis/Wang et al., 2015",
          "Brain/Ex vivo - Fixed/Animal - Mouse/Traumatic brain injury/Wendel et al., 2018",
          "Brain/Ex vivo - Fixed/Animal - Mouse/Demyelination - Knockout/West et al., 2018",
          "Brain/In vivo/Animal - Mouse/Demyelination - Cuprizone/Wu et al., 2008",
          "Brain/Ex vivo - Fixed/Animal - Mouse/Demyelination - Cuprizone/Yano et al., 2018",
          "Brain/In vivo/Animal - Mouse/Demyelination - Cuprizone/Zaaraoui et al., 2008",
          "Spinal cord/Ex vivo - Fixed/Animal - Rat/Injury - Dorsal columnar transection/Zhang et al., 2009",
          "Brain/Ex vivo - Fixed/Animal - Rat/White matter injury/van Tilborg et al., 2017",
          "Brain/In vivo/Animal - Mouse/Amyloidosis",
          "Brain/Ex vivo - Fixed/Human/Amyotrophic lateral sclerosis",
          "Peripheral nerve/Ex vivo - Unfixed/Animal - Rat/Degeneration - Contusive injury",
          "Spinal cord/Ex vivo - Fixed/Animal - Mouse/Demyelination - Autoimmune encephalomyelitis",
          "Brain/In vivo/Animal - Mouse/Demyelination - Autoimmune encephalomyelitis",
          "Brain/Ex vivo - Fixed/Animal - Mouse/Demyelination - Cuprizone",
          "Brain/Ex vivo - Unfixed/Animal - Mouse/Demyelination - Cuprizone",
          "Brain/In situ/Animal - Mouse/Demyelination - Cuprizone",
          "Brain/In vivo/Animal - Mouse/Demyelination - Cuprizone",
          "Brain/Ex vivo - Fixed/Animal - Mouse/Demyelination - Knockout",
          "Brain/Ex vivo - Fixed/Animal - Rat/Demyelination - Lipopolysaccharide",
          "Brain/In vivo/Animal - Rat/Demyelination - Lipopolysaccharide",
          "Peripheral nerve/Ex vivo - Unfixed/Animal - Rat/Demyelination - Tellurium",
          "Spinal cord/In vivo/Animal - Rat/Edema - Hexachlorophene",
          "Brain/Ex vivo - Fixed/Human/Epilepsy",
          "Brain/Ex vivo - Fixed/Animal - Mouse/Healthy",
          "Brain/In vivo/Animal - Mouse/Healthy",
          "Brain/Ex vivo - Fixed/Animal - Rat/Healthy",
          "Brain/Ex vivo - Fixed/Human/Healthy",
          "Brain/In vivo/Animal - Rat/Hydrocephalus",
          "Spinal cord/Ex vivo - Fixed/Animal - Rat/Injury - Dorsal columnar transection",
          "Spinal cord/In vivo/Animal - Rat/Injury - Dorsal columnar transection",
          "Brain/In vivo/Animal - Mouse/Ischemia - Induced hypoxia",
          "Brain/In vivo/Animal - Rat/Ischemia - Induced hypoxia",
          "Brain/Ex vivo - Fixed/Human/Multiple sclerosis",
          "Spinal cord/Ex vivo - Fixed/Human/Multiple sclerosis",
          "Brain/Ex vivo - Unfixed/Human/Multiple sclerosis",
          "Brain/Ex vivo - Fixed/Animal - Mouse/Optogenetic stimulation",
          "Brain/Ex vivo - Fixed/Animal - Mouse/Traumatic brain injury",
          "Brain/Ex vivo - Unfixed/Animal - Rat/Traumatic brain injury",
          "Brain/In vivo/Animal - Rat/Traumatic brain injury",
          "Brain/Ex vivo - Fixed/Human/Tuberous sclerosis complex",
          "Brain/In situ/Human/Vascular diseases",
          "Brain/Ex vivo - Fixed/Animal - Rat/White matter injury",
          "Brain/Ex vivo - Fixed/Animal - Mouse",
          "Spinal cord/Ex vivo - Fixed/Animal - Mouse",
          "Brain/Ex vivo - Unfixed/Animal - Mouse",
          "Brain/In situ/Animal - Mouse",
          "Brain/In vivo/Animal - Mouse",
          "Brain/Ex vivo - Fixed/Animal - Rat",
          "Spinal cord/Ex vivo - Fixed/Animal - Rat",
          "Brain/Ex vivo - Unfixed/Animal - Rat",
          "Peripheral nerve/Ex vivo - Unfixed/Animal - Rat",
          "Brain/In vivo/Animal - Rat",
          "Spinal cord/In vivo/Animal - Rat",
          "Brain/Ex vivo - Fixed/Human",
          "Spinal cord/Ex vivo - Fixed/Human",
          "Brain/Ex vivo - Unfixed/Human",
          "Brain/In situ/Human",
          "Brain/Ex vivo - Fixed",
          "Spinal cord/Ex vivo - Fixed",
          "Brain/Ex vivo - Unfixed",
          "Peripheral nerve/Ex vivo - Unfixed",
          "Brain/In situ",
          "Brain/In vivo",
          "Spinal cord/In vivo",
          "Brain",
          "Peripheral nerve",
          "Spinal cord"
         ],
         "labels": [
          "Abe et al., 2019",
          "Aojula et al., 2016",
          "Beckmann et al., 2018",
          "Berman et al., 2018",
          "Chandran et al., 2012",
          "Chang et al., 2017",
          "Chen et al., 2017",
          "Duhamel et al., 2019",
          "Fatemi et al., 2011",
          "Fjaer et al., 2013",
          "Fjaer et al., 2015",
          "Guglielmetti et al., 2020",
          "Hakkarainen et al., 2016",
          "Hametner et al., 2018",
          "Harkins et al., 2013",
          "Janve et al., 2013",
          "Jelescu et al., 2016",
          "Jito et al., 2008",
          "Kelm et al., 2016",
          "Khodanovic et al., 2017",
          "Khodanovic et al., 2019",
          "Kozlowski et al., 2008",
          "Kozlowski et al., 2014",
          "Laule et al., 2006",
          "Laule et al., 2008",
          "Laule et al., 2011",
          "Lehto et al., 2017a",
          "Lehto et al., 2017b",
          "Mollink et al., 2019",
          "Odrobina et al., 2005",
          "Peters et al., 2019",
          "Pol et al., 2019",
          "Praet et al., 2018",
          "Pun et al., 2005",
          "Reeves et al., 2016",
          "Schmierer et al., 2004",
          "Schmierer et al., 2007a",
          "Schmierer et al., 2007b",
          "Schmierer et al., 2008",
          "Schmierer et al., 2010",
          "Seehaus et al., 2015",
          "Soustelle et al., 2019",
          "Takagi et al., 2009",
          "Tardif et al., 2012",
          "Thiessen et al., 2013",
          "Tu et al., 2016",
          "Turati et al., 2015",
          "Underhill et al., 2011",
          "Wang et al., 2009",
          "Wang et al., 2014",
          "Wang et al., 2015",
          "Wendel et al., 2018",
          "West et al., 2018",
          "Wu et al., 2008",
          "Yano et al., 2018",
          "Zaaraoui et al., 2008",
          "Zhang et al., 2009",
          "van Tilborg et al., 2017",
          "Amyloidosis",
          "Amyotrophic lateral sclerosis",
          "Degeneration - Contusive injury",
          "Demyelination - Autoimmune encephalomyelitis",
          "Demyelination - Autoimmune encephalomyelitis",
          "Demyelination - Cuprizone",
          "Demyelination - Cuprizone",
          "Demyelination - Cuprizone",
          "Demyelination - Cuprizone",
          "Demyelination - Knockout",
          "Demyelination - Lipopolysaccharide",
          "Demyelination - Lipopolysaccharide",
          "Demyelination - Tellurium",
          "Edema - Hexachlorophene",
          "Epilepsy",
          "Healthy",
          "Healthy",
          "Healthy",
          "Healthy",
          "Hydrocephalus",
          "Injury - Dorsal columnar transection",
          "Injury - Dorsal columnar transection",
          "Ischemia - Induced hypoxia",
          "Ischemia - Induced hypoxia",
          "Multiple sclerosis",
          "Multiple sclerosis",
          "Multiple sclerosis",
          "Optogenetic stimulation",
          "Traumatic brain injury",
          "Traumatic brain injury",
          "Traumatic brain injury",
          "Tuberous sclerosis complex",
          "Vascular diseases",
          "White matter injury",
          "Animal - Mouse",
          "Animal - Mouse",
          "Animal - Mouse",
          "Animal - Mouse",
          "Animal - Mouse",
          "Animal - Rat",
          "Animal - Rat",
          "Animal - Rat",
          "Animal - Rat",
          "Animal - Rat",
          "Animal - Rat",
          "Human",
          "Human",
          "Human",
          "Human",
          "Ex vivo - Fixed",
          "Ex vivo - Fixed",
          "Ex vivo - Unfixed",
          "Ex vivo - Unfixed",
          "In situ",
          "In vivo",
          "In vivo",
          "Brain",
          "Peripheral nerve",
          "Spinal cord"
         ],
         "parents": [
          "Brain/Ex vivo - Fixed/Animal - Mouse/Optogenetic stimulation",
          "Brain/In vivo/Animal - Rat/Hydrocephalus",
          "Brain/In vivo/Animal - Mouse/Demyelination - Cuprizone",
          "Brain/Ex vivo - Fixed/Animal - Mouse/Demyelination - Knockout",
          "Brain/In vivo/Animal - Mouse/Demyelination - Cuprizone",
          "Brain/Ex vivo - Fixed/Animal - Mouse/Healthy",
          "Spinal cord/Ex vivo - Fixed/Animal - Rat/Injury - Dorsal columnar transection",
          "Brain/In vivo/Animal - Mouse/Healthy",
          "Brain/In vivo/Animal - Mouse/Ischemia - Induced hypoxia",
          "Brain/In vivo/Animal - Mouse/Demyelination - Cuprizone",
          "Brain/In vivo/Animal - Mouse/Demyelination - Autoimmune encephalomyelitis",
          "Brain/In vivo/Animal - Mouse/Healthy",
          "Brain/Ex vivo - Fixed/Animal - Rat/Healthy",
          "Brain/In situ/Human/Vascular diseases",
          "Spinal cord/In vivo/Animal - Rat/Edema - Hexachlorophene",
          "Brain/Ex vivo - Fixed/Animal - Rat/Demyelination - Lipopolysaccharide",
          "Brain/In vivo/Animal - Mouse/Demyelination - Cuprizone",
          "Brain/In vivo/Animal - Mouse/Healthy",
          "Brain/Ex vivo - Fixed/Animal - Mouse/Demyelination - Knockout",
          "Brain/In vivo/Animal - Mouse/Demyelination - Cuprizone",
          "Brain/In vivo/Animal - Mouse/Demyelination - Cuprizone",
          "Spinal cord/Ex vivo - Fixed/Animal - Rat/Injury - Dorsal columnar transection",
          "Spinal cord/In vivo/Animal - Rat/Injury - Dorsal columnar transection",
          "Brain/Ex vivo - Fixed/Human/Multiple sclerosis",
          "Brain/Ex vivo - Fixed/Human/Multiple sclerosis",
          "Brain/Ex vivo - Fixed/Human/Multiple sclerosis",
          "Brain/In vivo/Animal - Rat/Demyelination - Lipopolysaccharide",
          "Brain/Ex vivo - Unfixed/Animal - Rat/Traumatic brain injury",
          "Brain/Ex vivo - Fixed/Human/Amyotrophic lateral sclerosis",
          "Peripheral nerve/Ex vivo - Unfixed/Animal - Rat/Demyelination - Tellurium",
          "Brain/Ex vivo - Fixed/Human/Tuberous sclerosis complex",
          "Brain/In vivo/Animal - Mouse/Healthy",
          "Brain/In vivo/Animal - Mouse/Amyloidosis",
          "Peripheral nerve/Ex vivo - Unfixed/Animal - Rat/Demyelination - Tellurium",
          "Brain/Ex vivo - Fixed/Human/Epilepsy",
          "Brain/Ex vivo - Unfixed/Human/Multiple sclerosis",
          "Brain/Ex vivo - Unfixed/Human/Multiple sclerosis",
          "Brain/Ex vivo - Unfixed/Human/Multiple sclerosis",
          "Brain/Ex vivo - Fixed/Human/Multiple sclerosis",
          "Brain/Ex vivo - Fixed/Human/Multiple sclerosis",
          "Brain/Ex vivo - Fixed/Human/Healthy",
          "Brain/In situ/Animal - Mouse/Demyelination - Cuprizone",
          "Peripheral nerve/Ex vivo - Unfixed/Animal - Rat/Degeneration - Contusive injury",
          "Brain/Ex vivo - Fixed/Human/Multiple sclerosis",
          "Brain/Ex vivo - Unfixed/Animal - Mouse/Demyelination - Cuprizone",
          "Brain/In vivo/Animal - Rat/Traumatic brain injury",
          "Brain/In vivo/Animal - Mouse/Demyelination - Cuprizone",
          "Brain/In vivo/Animal - Mouse/Healthy",
          "Brain/In vivo/Animal - Rat/Ischemia - Induced hypoxia",
          "Spinal cord/Ex vivo - Fixed/Animal - Mouse/Demyelination - Autoimmune encephalomyelitis",
          "Spinal cord/Ex vivo - Fixed/Human/Multiple sclerosis",
          "Brain/Ex vivo - Fixed/Animal - Mouse/Traumatic brain injury",
          "Brain/Ex vivo - Fixed/Animal - Mouse/Demyelination - Knockout",
          "Brain/In vivo/Animal - Mouse/Demyelination - Cuprizone",
          "Brain/Ex vivo - Fixed/Animal - Mouse/Demyelination - Cuprizone",
          "Brain/In vivo/Animal - Mouse/Demyelination - Cuprizone",
          "Spinal cord/Ex vivo - Fixed/Animal - Rat/Injury - Dorsal columnar transection",
          "Brain/Ex vivo - Fixed/Animal - Rat/White matter injury",
          "Brain/In vivo/Animal - Mouse",
          "Brain/Ex vivo - Fixed/Human",
          "Peripheral nerve/Ex vivo - Unfixed/Animal - Rat",
          "Spinal cord/Ex vivo - Fixed/Animal - Mouse",
          "Brain/In vivo/Animal - Mouse",
          "Brain/Ex vivo - Fixed/Animal - Mouse",
          "Brain/Ex vivo - Unfixed/Animal - Mouse",
          "Brain/In situ/Animal - Mouse",
          "Brain/In vivo/Animal - Mouse",
          "Brain/Ex vivo - Fixed/Animal - Mouse",
          "Brain/Ex vivo - Fixed/Animal - Rat",
          "Brain/In vivo/Animal - Rat",
          "Peripheral nerve/Ex vivo - Unfixed/Animal - Rat",
          "Spinal cord/In vivo/Animal - Rat",
          "Brain/Ex vivo - Fixed/Human",
          "Brain/Ex vivo - Fixed/Animal - Mouse",
          "Brain/In vivo/Animal - Mouse",
          "Brain/Ex vivo - Fixed/Animal - Rat",
          "Brain/Ex vivo - Fixed/Human",
          "Brain/In vivo/Animal - Rat",
          "Spinal cord/Ex vivo - Fixed/Animal - Rat",
          "Spinal cord/In vivo/Animal - Rat",
          "Brain/In vivo/Animal - Mouse",
          "Brain/In vivo/Animal - Rat",
          "Brain/Ex vivo - Fixed/Human",
          "Spinal cord/Ex vivo - Fixed/Human",
          "Brain/Ex vivo - Unfixed/Human",
          "Brain/Ex vivo - Fixed/Animal - Mouse",
          "Brain/Ex vivo - Fixed/Animal - Mouse",
          "Brain/Ex vivo - Unfixed/Animal - Rat",
          "Brain/In vivo/Animal - Rat",
          "Brain/Ex vivo - Fixed/Human",
          "Brain/In situ/Human",
          "Brain/Ex vivo - Fixed/Animal - Rat",
          "Brain/Ex vivo - Fixed",
          "Spinal cord/Ex vivo - Fixed",
          "Brain/Ex vivo - Unfixed",
          "Brain/In situ",
          "Brain/In vivo",
          "Brain/Ex vivo - Fixed",
          "Spinal cord/Ex vivo - Fixed",
          "Brain/Ex vivo - Unfixed",
          "Peripheral nerve/Ex vivo - Unfixed",
          "Brain/In vivo",
          "Spinal cord/In vivo",
          "Brain/Ex vivo - Fixed",
          "Spinal cord/Ex vivo - Fixed",
          "Brain/Ex vivo - Unfixed",
          "Brain/In situ",
          "Brain",
          "Spinal cord",
          "Brain",
          "Peripheral nerve",
          "Brain",
          "Brain",
          "Spinal cord",
          "",
          "",
          ""
         ],
         "text": [
          "<a style='color:white' href='https://doi.org/10.1016/j.neuint.2019.02.017'>->Go to the paper</a><br><br>Approach: Diffusion<br><br>Magnetic field: 7.0<br><br>MRI measure(s): FA, RD, AD<br><br>Histology/microscopy measure: Microscopy - Myelin thickness<br><br>Specific structure(s): Putamen, Accumbens, Globus pallidus, Substantia nigra, Cortex<br><br>",
          "<a style='color:white' href='https://doi.org/10.1186/s12987-016-0033-2'>->Go to the paper</a><br><br>Approach: Diffusion<br><br>Magnetic field: 7.0<br><br>MRI measure(s): FA, AD, RD, MD<br><br>Histology/microscopy measure: Immunohistochemistry - MBP<br><br>Specific structure(s): Corpus callosum<br><br>",
          "<a style='color:white' href='https://doi.org/10.1186/s40478-018-0510-8'>->Go to the paper</a><br><br>Approach: Magnetization transfer<br><br>Magnetic field: 7.0<br><br>MRI measure(s): MTR<br><br>Histology/microscopy measure: Histology - LFB<br><br>Specific structure(s): Corpus callosum, External capsule<br><br>",
          "<a style='color:white' href='https://doi.org/10.1016/j.neuroimage.2017.06.076'>->Go to the paper</a><br><br>Approach: Other<br><br>Magnetic field: 15.2<br><br>MRI measure(s): MTV<br><br>Histology/microscopy measure: EM - Myelin fraction<br><br>Specific structure(s): Corpus callosum<br><br>",
          "<a style='color:white' href='https://doi.org/10.1016/j.neuroscience.2011.10.051'>->Go to the paper</a><br><br>Approach: Diffusion<br><br>Magnetic field: 7.0<br><br>MRI measure(s): FA, RD<br><br>Histology/microscopy measure: Immunohistochemistry - MBP<br><br>Specific structure(s): White matter<br><br>",
          "<a style='color:white' href='https://doi.org/10.1016/j.dib.2016.12.018'>->Go to the paper</a><br><br>Approach: Diffusion<br><br>Magnetic field: 11.7<br><br>MRI measure(s): FA, AD, RD, MD<br><br>Histology/microscopy measure: Immunohistochemistry - MBP<br><br>Specific structure(s): Corpus callosum, Anterior commissure, Fimbria, Fornix, Stria medullaris, Fasciculus retroflexus, Mammilothalamic tract<br><br>",
          "<a style='color:white' href='https://doi.org/10.1016/j.neuroimage.2017.03.065'>->Go to the paper</a><br><br>Approach: T2 relaxometry<br><br>Magnetic field: 7.0<br><br>MRI measure(s): MWF<br><br>Histology/microscopy measure: EM - Myelin fraction<br><br>Specific structure(s): Cervical sections<br><br>",
          "<a style='color:white' href='https://doi.org/10.1016/j.neuroimage.2019.05.061'>->Go to the paper</a><br><br>Approach: Magnetization transfer<br><br>Magnetic field: 11.75<br><br>MRI measure(s): ihMTR, MTR<br><br>Histology/microscopy measure: Microscopy - Fluorescence<br><br>Specific structure(s): Corpus callosum, Internal capsule, Optic nerve, Thalamus, Cortex, Hippocampus, Inter-peduncular nuclues<br><br>",
          "<a style='color:white' href='https://doi.org/10.1038/jcbfm.2011.68'>->Go to the paper</a><br><br>Approach: Magnetization transfer<br><br>Magnetic field: 9.4<br><br>MRI measure(s): MTR<br><br>Histology/microscopy measure: Immunohistochemistry - MBP<br><br>Specific structure(s): Corpus callosum, Internal capsule<br><br>",
          "<a style='color:white' href='https://doi.org/10.1371/journal.pone.0084162'>->Go to the paper</a><br><br>Approach: Magnetization transfer<br><br>Magnetic field: 7.0<br><br>MRI measure(s): MTR<br><br>Histology/microscopy measure: Immunohistochemistry - PLP<br><br>Specific structure(s): Corpus callosum<br><br>",
          "<a style='color:white' href='https://doi.org/10.1016/j.neuint.2015.02.006'>->Go to the paper</a><br><br>Approach: Magnetization transfer<br><br>Magnetic field: 7.0<br><br>MRI measure(s): MTR<br><br>Histology/microscopy measure: Immunohistochemistry - PLP<br><br>Specific structure(s): Corpus callosum<br><br>",
          "<a style='color:white' href='https://doi.org/10.1016/j.neuroimage.2019.116415'>->Go to the paper</a><br><br>Approach: Magnetization transfer<br><br>Magnetic field: 7.0<br><br>MRI measure(s): MTR, MTR-UTE<br><br>Histology/microscopy measure: Immunohistochemistry - MBP<br><br>Specific structure(s): Corpus callosum, Internal capsule, Thalamus, Putamen, Hippocampus, Cortex<br><br>",
          "<a style='color:white' href='https://doi.org/10.1002/mrm.25590'>->Go to the paper</a><br><br>Approach: Magnetization transfer, T1 relaxometry, T2 relaxometry, Other<br><br>Magnetic field: 9.4<br><br>MRI measure(s): T1, T2, MTR, T1p, T2p, RAFF<br><br>Histology/microscopy measure: Histology - Gold chloride<br><br>Specific structure(s): Corpus callosum, External capsule, Internal capsule, Cingulum, Fimbria, Optic tract, Dentate gyrus, Hippocampus, Amygdala, Somatosensory cortex, Thalamic nuclei<br><br>",
          "<a style='color:white' href='https://doi.org/10.1016/j.neuroimage.2018.06.007'>->Go to the paper</a><br><br>Approach: T1 relaxometry, Other<br><br>Magnetic field: 7.0<br><br>MRI measure(s): R2*, T1, QSM<br><br>Histology/microscopy measure: Histology - LFB<br><br>Specific structure(s): White matter, Grey matter, Thalamus, Basal ganglia<br><br>",
          "<a style='color:white' href='https://doi.org/10.1016/j.nicl.2013.06.007'>->Go to the paper</a><br><br>Approach: Magnetization transfer, T2 relaxometry<br><br>Magnetic field: 9.4<br><br>MRI measure(s): MWF, MPF<br><br>Histology/microscopy measure: Microscopy - Myelin fraction<br><br>Specific structure(s): Cervical sections<br><br>",
          "<a style='color:white' href='https://doi.org/10.1016/j.neuroimage.2013.02.034'>->Go to the paper</a><br><br>Approach: Diffusion, Magnetization transfer<br><br>Magnetic field: 9.4<br><br>MRI measure(s): MPF, R1a, k_ba, FA, RD, MD, AD<br><br>Histology/microscopy measure: Histology - LFB<br><br>Specific structure(s): Corpus callosum<br><br>",
          "<a style='color:white' href='https://doi.org/10.1016/j.neuroimage.2016.02.004'>->Go to the paper</a><br><br>Approach: Diffusion, Magnetization transfer, T2 relaxometry<br><br>Magnetic field: 7.0<br><br>MRI measure(s): RD, RK, AWF, Rde, T2, MTR<br><br>Histology/microscopy measure: EM - Myelin fraction<br><br>Specific structure(s): Corpus callosum<br><br>",
          "<a style='color:white' href='https://doi.org/10.1002/jmri.21496'>->Go to the paper</a><br><br>Approach: Diffusion<br><br>Magnetic field: 7.0<br><br>MRI measure(s): FA<br><br>Histology/microscopy measure: Microscopy - Myelin sheath area<br><br>Specific structure(s): Corpus callosum<br><br>",
          "<a style='color:white' href='https://doi.org/10.1016/j.neuroimage.2015.09.028'>->Go to the paper</a><br><br>Approach: Diffusion<br><br>Magnetic field: 15.2<br><br>MRI measure(s): MD, RD, MK, RK, AWF<br><br>Histology/microscopy measure: EM - Myelin fraction<br><br>Specific structure(s): Corpus callosum, External capsule, Internal capsule, Anterior commissure<br><br>",
          "<a style='color:white' href='https://doi.org/10.1038/srep46686'>->Go to the paper</a><br><br>Approach: Magnetization transfer<br><br>Magnetic field: 11.7<br><br>MRI measure(s): MPF<br><br>Histology/microscopy measure: Histology - LFB<br><br>Specific structure(s): Corpus callosum, Internal capsule, Anterior commissure, Thalamus, Putamen, Cortex<br><br>",
          "<a style='color:white' href='https://doi.org/10.3390/cells8101204'>->Go to the paper</a><br><br>Approach: Magnetization transfer<br><br>Magnetic field: 11.7<br><br>MRI measure(s): MPF<br><br>Histology/microscopy measure: Immunohistochemistry - MBP<br><br>Specific structure(s): Corpus callosum<br><br>",
          "<a style='color:white' href='https://doi.org/10.1089/neu.2007.0462'>->Go to the paper</a><br><br>Approach: Diffusion, T2 relaxometry<br><br>Magnetic field: 7.0<br><br>MRI measure(s): MWF, FA, AD, RD, MD<br><br>Histology/microscopy measure: Immunohistochemistry - MBP<br><br>Specific structure(s): Cervical sections<br><br>",
          "<a style='color:white' href='https://doi.org/10.1016/j.mri.2013.12.006'>->Go to the paper</a><br><br>Approach: T2 relaxometry<br><br>Magnetic field: 7.0<br><br>MRI measure(s): MWF<br><br>Histology/microscopy measure: Immunohistochemistry - MBP<br><br>Specific structure(s): Cervical sections<br><br>",
          "<a style='color:white' href='https://doi.org/10.1177/1352458506070928'>->Go to the paper</a><br><br>Approach: T2 relaxometry<br><br>Magnetic field: 1.5<br><br>MRI measure(s): MWF<br><br>Histology/microscopy measure: Histology - LFB<br><br>Specific structure(s): White matter, Grey matter<br><br>",
          "<a style='color:white' href='https://doi.org/10.1016/j.neuroimage.2007.12.008'>->Go to the paper</a><br><br>Approach: T2 relaxometry<br><br>Magnetic field: 7.0<br><br>MRI measure(s): MWF<br><br>Histology/microscopy measure: Histology - LFB<br><br>Specific structure(s): White matter, Grey matter<br><br>",
          "<a style='color:white' href='https://doi.org/10.1177/1352458510384008'>->Go to the paper</a><br><br>Approach: T2 relaxometry<br><br>Magnetic field: 1.5<br><br>MRI measure(s): MWF<br><br>Histology/microscopy measure: Immunohistochemistry - MBP<br><br>Specific structure(s): White matter<br><br>",
          "<a style='color:white' href='https://doi.org/10.3389/fnins.2017.00433'>->Go to the paper</a><br><br>Approach: Diffusion, Magnetization transfer, Other<br><br>Magnetic field: 7.0<br><br>MRI measure(s): RAFF, MTR, T1sat, FA, MD, AD, RD<br><br>Histology/microscopy measure: Histology - Gold chloride<br><br>Specific structure(s): Corpus callosum, Dorsal tegmental tract<br><br>",
          "<a style='color:white' href='https://doi.org/10.1002/nbm.3678'>->Go to the paper</a><br><br>Approach: Magnetization transfer<br><br>Magnetic field: 9.4<br><br>MRI measure(s): MTR<br><br>Histology/microscopy measure: Histology - Gold chloride<br><br>Specific structure(s): Internal capsule, Globus pallidus, Striatum, Thalamus<br><br>",
          "<a style='color:white' href='https://doi.org/10.1111/nan.12555'>->Go to the paper</a><br><br>Approach: Diffusion<br><br>Magnetic field: 11.7<br><br>MRI measure(s): FA<br><br>Histology/microscopy measure: Immunohistochemistry - MBP<br><br>Specific structure(s): Perforant pathway<br><br>",
          "<a style='color:white' href='https://doi.org/10.1002/nbm.951'>->Go to the paper</a><br><br>Approach: Magnetization transfer, T1 relaxometry, T2 relaxometry<br><br>Magnetic field: 1.5<br><br>MRI measure(s): T1, T2, T2int, MWF, M0m, MTR<br><br>Histology/microscopy measure: Microscopy - Myelin fraction<br><br>Specific structure(s): Sciatic nerve<br><br>",
          "<a style='color:white' href='https://doi.org/10.1002/acn3.793'>->Go to the paper</a><br><br>Approach: Diffusion<br><br>Magnetic field: 3.0<br><br>MRI measure(s): FA, MD<br><br>Histology/microscopy measure: Histology - LFB<br><br>Specific structure(s): White matter<br><br>",
          "<a style='color:white' href='https://doi.org/10.1111/jon.12561'>->Go to the paper</a><br><br>Approach: Diffusion, Other<br><br>Magnetic field: 9.4<br><br>MRI measure(s): QSM, FA, MD<br><br>Histology/microscopy measure: Histology - Solochrome<br><br>Specific structure(s): Corpus callosum<br><br>",
          "<a style='color:white' href='https://doi.org/10.1186/s13195-017-0329-8'>->Go to the paper</a><br><br>Approach: Diffusion<br><br>Magnetic field: 7.0<br><br>MRI measure(s): MK, RK, AK, FA, MD, RD, AD<br><br>Histology/microscopy measure: Immunohistochemistry - MBP<br><br>Specific structure(s): Motor cortex<br><br>",
          "<a style='color:white' href='https://doi.org/10.1111/j.1085-9489.2005.10107.x'>->Go to the paper</a><br><br>Approach: T1 relaxometry, T2 relaxometry<br><br>Magnetic field: 1.5<br><br>MRI measure(s): T1, T2int, MWF<br><br>Histology/microscopy measure: Microscopy - Myelin fraction<br><br>Specific structure(s): Sciatic nerve<br><br>",
          "<a style='color:white' href='https://doi.org/10.1111/bpa.12298'>->Go to the paper</a><br><br>Approach: T1 relaxometry, T2 relaxometry<br><br>Magnetic field: 9.4<br><br>MRI measure(s): T1, T2<br><br>Histology/microscopy measure: Immunohistochemistry - MBP<br><br>Specific structure(s): White matter, Grey matter<br><br>",
          "<a style='color:white' href='https://doi.org/10.1002/ana.20202'>->Go to the paper</a><br><br>Approach: Magnetization transfer, T1 relaxometry<br><br>Magnetic field: 1.5<br><br>MRI measure(s): T1, MTR<br><br>Histology/microscopy measure: Histology - LFB<br><br>Specific structure(s): White matter, Lesions<br><br>",
          "<a style='color:white' href='https://doi.org/10.1002/jmri.20984'>->Go to the paper</a><br><br>Approach: Magnetization transfer, T1 relaxometry<br><br>Magnetic field: 1.5<br><br>MRI measure(s): T1, MTR, MPF, T2m<br><br>Histology/microscopy measure: Histology - LFB<br><br>Specific structure(s): White matter, Lesions<br><br>",
          "<a style='color:white' href='https://doi.org/10.1016/j.neuroimage.2006.12.010'>->Go to the paper</a><br><br>Approach: Diffusion<br><br>Magnetic field: 1.5<br><br>MRI measure(s): FA, MD<br><br>Histology/microscopy measure: Histology - LFB<br><br>Specific structure(s): White matter, Lesions<br><br>",
          "<a style='color:white' href='https://doi.org/10.1002/mrm.21487'>->Go to the paper</a><br><br>Approach: Diffusion, Magnetization transfer, T1 relaxometry, T2 relaxometry<br><br>Magnetic field: 1.5<br><br>MRI measure(s): T1, T2, MTR, MPF, MD, FA, AD, RD<br><br>Histology/microscopy measure: Histology - LFB<br><br>Specific structure(s): White matter, Lesions<br><br>",
          "<a style='color:white' href='https://doi.org/10.1093/brain/awp335'>->Go to the paper</a><br><br>Approach: Magnetization transfer, T2 relaxometry<br><br>Magnetic field: 9.4<br><br>MRI measure(s): MTR, T2<br><br>Histology/microscopy measure: Histology - LFB<br><br>Specific structure(s): Grey matter, Lesions<br><br>",
          "<a style='color:white' href='https://doi.org/10.3389/fnana.2015.00098'>->Go to the paper</a><br><br>Approach: Diffusion<br><br>Magnetic field: 9.4<br><br>MRI measure(s): FA, RD, MD<br><br>Histology/microscopy measure: Histology - Silver<br><br>Specific structure(s): White matter, Grey matter<br><br>",
          "<a style='color:white' href='https://doi.org/10.1002/nbm.4116'>->Go to the paper</a><br><br>Approach: Diffusion, Magnetization transfer, T2 relaxometry, Other<br><br>Magnetic field: 7.0<br><br>MRI measure(s): MPF, RD, MWF, rSPF<br><br>Histology/microscopy measure: Immunohistochemistry - MBP<br><br>Specific structure(s): Corpus callosum<br><br>",
          "<a style='color:white' href='https://doi.org/10.1016/j.neuroimage.2008.09.022'>->Go to the paper</a><br><br>Approach: Diffusion<br><br>Magnetic field: 7.0<br><br>MRI measure(s): FA, AD<br><br>Histology/microscopy measure: EM - Myelin thickness<br><br>Specific structure(s): Sciatic nerve<br><br>",
          "<a style='color:white' href='https://doi.org/10.1155/2012/742018'>->Go to the paper</a><br><br>Approach: Magnetization transfer, T1 relaxometry, T2 relaxometry, Other<br><br>Magnetic field: 3.0<br><br>MRI measure(s): T1, T2, MTR, PD<br><br>Histology/microscopy measure: Immunohistochemistry - MBP<br><br>Specific structure(s): White matter, Grey matter, Lesions<br><br>",
          "<a style='color:white' href='https://doi.org/10.1002/nbm.2992'>->Go to the paper</a><br><br>Approach: Diffusion, Magnetization transfer, T1 relaxometry, T2 relaxometry<br><br>Magnetic field: 7.0<br><br>MRI measure(s): MPF, R1f, k_fm, k_mf, T2f, T2m, MD, RD, AD, FA, T1, T2<br><br>Histology/microscopy measure: EM - Myelin thickness<br><br>Specific structure(s): Corpus callosum<br><br>",
          "<a style='color:white' href='https://doi.org/10.1002/ana.24641'>->Go to the paper</a><br><br>Approach: Diffusion, Magnetization transfer<br><br>Magnetic field: 7.0<br><br>MRI measure(s): FA, AD, RD, MD, MTR<br><br>Histology/microscopy measure: Immunohistochemistry - MBP<br><br>Specific structure(s): Corpus callosum<br><br>",
          "<a style='color:white' href='https://doi.org/10.1002/nbm.3253'>->Go to the paper</a><br><br>Approach: Magnetization transfer<br><br>Magnetic field: 7.0<br><br>MRI measure(s): MPF<br><br>Histology/microscopy measure: Immunohistochemistry - MBP<br><br>Specific structure(s): Corpus callosum<br><br>",
          "<a style='color:white' href='https://doi.org/10.1016/j.neuroimage.2010.10.065'>->Go to the paper</a><br><br>Approach: Magnetization transfer<br><br>Magnetic field: 3.0<br><br>MRI measure(s): MPF<br><br>Histology/microscopy measure: Histology - LFB<br><br>Specific structure(s): Putamen, Cerebellum, Cortex, Superior colliculus, Thalamus, Anterior commissure, Corpus callosum, Internal capsule, Hippocampal commissure<br><br>",
          "<a style='color:white' href='https://doi.org/10.3174/ajnr.A1697'>->Go to the paper</a><br><br>Approach: Diffusion<br><br>Magnetic field: 7.0<br><br>MRI measure(s): FA, RD<br><br>Histology/microscopy measure: Histology - LFB<br><br>Specific structure(s): External capsule<br><br>",
          "<a style='color:white' href='https://doi.org/10.1002/nbm.3129'>->Go to the paper</a><br><br>Approach: Diffusion<br><br>Magnetic field: 4.7<br><br>MRI measure(s): RD, RD-DBSI<br><br>Histology/microscopy measure: Immunohistochemistry - MBP<br><br>Specific structure(s): Cervical sections<br><br>",
          "<a style='color:white' href='https://doi.org/10.1093/brain/awv046'>->Go to the paper</a><br><br>Approach: Diffusion<br><br>Magnetic field: 4.7<br><br>MRI measure(s): RD-DBSI<br><br>Histology/microscopy measure: Histology - LFB<br><br>Specific structure(s): Cervical sections<br><br>",
          "<a style='color:white' href='https://doi.org/10.1089/neu.2018.5670'>->Go to the paper</a><br><br>Approach: Diffusion<br><br>Magnetic field: 9.4<br><br>MRI measure(s): FA, AD, RD, MD<br><br>Histology/microscopy measure: Immunohistochemistry - MBP<br><br>Specific structure(s): Corpus callosum<br><br>",
          "<a style='color:white' href='https://doi.org/10.1016/j.neuroimage.2016.12.067'>->Go to the paper</a><br><br>Approach: Magnetization transfer, T2 relaxometry<br><br>Magnetic field: 15.2<br><br>MRI measure(s): MPF, MWF, MVF-T2, MVF-MT<br><br>Histology/microscopy measure: EM - Myelin fraction<br><br>Specific structure(s): Corpus callosum, Anterior commissure<br><br>",
          "<a style='color:white' href='https://doi.org/10.1002/jmri.21111'>->Go to the paper</a><br><br>Approach: T2 relaxometry<br><br>Magnetic field: 4.7<br><br>MRI measure(s): T2<br><br>Histology/microscopy measure: Histology - LFB<br><br>Specific structure(s): Corpus callosum<br><br>",
          "<a style='color:white' href='https://doi.org/10.1016/j.neuint.2017.10.004'>->Go to the paper</a><br><br>Approach: Diffusion<br><br>Magnetic field: 7.0<br><br>MRI measure(s): FA, RD, MD<br><br>Histology/microscopy measure: Immunohistochemistry - PLP<br><br>Specific structure(s): Corpus callosum<br><br>",
          "<a style='color:white' href='https://doi.org/10.1007/s10334-008-0141-3'>->Go to the paper</a><br><br>Approach: Magnetization transfer<br><br>Magnetic field: 9.4<br><br>MRI measure(s): MTR<br><br>Histology/microscopy measure: Immunohistochemistry - MBP<br><br>Specific structure(s): Corpus callosum<br><br>",
          "<a style='color:white' href='https://doi.org/10.1523/jneurosci.3941-08.2009'>->Go to the paper</a><br><br>Approach: Diffusion<br><br>Magnetic field: 11.7<br><br>MRI measure(s): RD<br><br>Histology/microscopy measure: Histology - LFB<br><br>Specific structure(s): Lumbar sections<br><br>",
          "<a style='color:white' href='https://doi.org/10.1002/glia.23216'>->Go to the paper</a><br><br>Approach: Diffusion<br><br>Magnetic field: 9.4<br><br>MRI measure(s): FA<br><br>Histology/microscopy measure: Immunohistochemistry - MBP<br><br>Specific structure(s): Motor cortex<br><br>"
         ],
         "textfont": {
          "size": 15
         },
         "type": "treemap",
         "values": [
          1.0,
          1.0,
          1.0,
          1.0,
          1.0,
          1.0,
          1.0,
          1.0,
          1.0,
          1.0,
          1.0,
          1.0,
          1.0,
          1.0,
          1.0,
          1.0,
          1.0,
          1.0,
          1.0,
          1.0,
          1.0,
          1.0,
          1.0,
          1.0,
          1.0,
          1.0,
          1.0,
          1.0,
          1.0,
          1.0,
          1.0,
          1.0,
          1.0,
          1.0,
          1.0,
          1.0,
          1.0,
          1.0,
          1.0,
          1.0,
          1.0,
          1.0,
          1.0,
          1.0,
          1.0,
          1.0,
          1.0,
          1.0,
          1.0,
          1.0,
          1.0,
          1.0,
          1.0,
          1.0,
          1.0,
          1.0,
          1.0,
          1.0,
          1.0,
          1.0,
          1.0,
          1.0,
          1.0,
          1.0,
          1.0,
          1.0,
          9.0,
          3.0,
          1.0,
          1.0,
          2.0,
          1.0,
          1.0,
          1.0,
          5.0,
          1.0,
          1.0,
          1.0,
          3.0,
          1.0,
          1.0,
          1.0,
          6.0,
          1.0,
          3.0,
          1.0,
          1.0,
          1.0,
          1.0,
          1.0,
          1.0,
          1.0,
          7.0,
          1.0,
          1.0,
          1.0,
          17.0,
          3.0,
          3.0,
          1.0,
          3.0,
          4.0,
          2.0,
          10.0,
          1.0,
          3.0,
          1.0,
          20.0,
          5.0,
          5.0,
          3.0,
          2.0,
          21.0,
          2.0,
          48.0,
          3.0,
          7.0
         ]
        }
       ],
       "layout": {
        "annotations": [
         {
          "font": {
           "color": "gray",
           "size": 8
          },
          "showarrow": false,
          "text": "<a href=\"https://neurolibre.com\" target=\"_blank\" style=\"color:gray!important\">NeuroLibre</a>",
          "x": 0.99,
          "xref": "paper",
          "y": -0.02,
          "yref": "paper"
         }
        ],
        "autosize": false,
        "height": 600,
        "images": [
         {
          "opacity": 0.9,
          "sizex": 0.03,
          "sizey": 0.03,
          "source": "https://raw.githubusercontent.com/notebook-factory/brand/main/nlibre_custom2.svg",
          "x": 0.897,
          "xref": "paper",
          "y": 0.009999999999999998,
          "yref": "paper"
         }
        ],
        "margin": {
         "b": 45,
         "l": 0,
         "r": 0,
         "t": 0
        },
        "template": {
         "data": {
          "bar": [
           {
            "error_x": {
             "color": "#2a3f5f"
            },
            "error_y": {
             "color": "#2a3f5f"
            },
            "marker": {
             "line": {
              "color": "#E5ECF6",
              "width": 0.5
             }
            },
            "type": "bar"
           }
          ],
          "barpolar": [
           {
            "marker": {
             "line": {
              "color": "#E5ECF6",
              "width": 0.5
             }
            },
            "type": "barpolar"
           }
          ],
          "carpet": [
           {
            "aaxis": {
             "endlinecolor": "#2a3f5f",
             "gridcolor": "white",
             "linecolor": "white",
             "minorgridcolor": "white",
             "startlinecolor": "#2a3f5f"
            },
            "baxis": {
             "endlinecolor": "#2a3f5f",
             "gridcolor": "white",
             "linecolor": "white",
             "minorgridcolor": "white",
             "startlinecolor": "#2a3f5f"
            },
            "type": "carpet"
           }
          ],
          "choropleth": [
           {
            "colorbar": {
             "outlinewidth": 0,
             "ticks": ""
            },
            "type": "choropleth"
           }
          ],
          "contour": [
           {
            "colorbar": {
             "outlinewidth": 0,
             "ticks": ""
            },
            "colorscale": [
             [
              0.0,
              "#0d0887"
             ],
             [
              0.1111111111111111,
              "#46039f"
             ],
             [
              0.2222222222222222,
              "#7201a8"
             ],
             [
              0.3333333333333333,
              "#9c179e"
             ],
             [
              0.4444444444444444,
              "#bd3786"
             ],
             [
              0.5555555555555556,
              "#d8576b"
             ],
             [
              0.6666666666666666,
              "#ed7953"
             ],
             [
              0.7777777777777778,
              "#fb9f3a"
             ],
             [
              0.8888888888888888,
              "#fdca26"
             ],
             [
              1.0,
              "#f0f921"
             ]
            ],
            "type": "contour"
           }
          ],
          "contourcarpet": [
           {
            "colorbar": {
             "outlinewidth": 0,
             "ticks": ""
            },
            "type": "contourcarpet"
           }
          ],
          "heatmap": [
           {
            "colorbar": {
             "outlinewidth": 0,
             "ticks": ""
            },
            "colorscale": [
             [
              0.0,
              "#0d0887"
             ],
             [
              0.1111111111111111,
              "#46039f"
             ],
             [
              0.2222222222222222,
              "#7201a8"
             ],
             [
              0.3333333333333333,
              "#9c179e"
             ],
             [
              0.4444444444444444,
              "#bd3786"
             ],
             [
              0.5555555555555556,
              "#d8576b"
             ],
             [
              0.6666666666666666,
              "#ed7953"
             ],
             [
              0.7777777777777778,
              "#fb9f3a"
             ],
             [
              0.8888888888888888,
              "#fdca26"
             ],
             [
              1.0,
              "#f0f921"
             ]
            ],
            "type": "heatmap"
           }
          ],
          "heatmapgl": [
           {
            "colorbar": {
             "outlinewidth": 0,
             "ticks": ""
            },
            "colorscale": [
             [
              0.0,
              "#0d0887"
             ],
             [
              0.1111111111111111,
              "#46039f"
             ],
             [
              0.2222222222222222,
              "#7201a8"
             ],
             [
              0.3333333333333333,
              "#9c179e"
             ],
             [
              0.4444444444444444,
              "#bd3786"
             ],
             [
              0.5555555555555556,
              "#d8576b"
             ],
             [
              0.6666666666666666,
              "#ed7953"
             ],
             [
              0.7777777777777778,
              "#fb9f3a"
             ],
             [
              0.8888888888888888,
              "#fdca26"
             ],
             [
              1.0,
              "#f0f921"
             ]
            ],
            "type": "heatmapgl"
           }
          ],
          "histogram": [
           {
            "marker": {
             "colorbar": {
              "outlinewidth": 0,
              "ticks": ""
             }
            },
            "type": "histogram"
           }
          ],
          "histogram2d": [
           {
            "colorbar": {
             "outlinewidth": 0,
             "ticks": ""
            },
            "colorscale": [
             [
              0.0,
              "#0d0887"
             ],
             [
              0.1111111111111111,
              "#46039f"
             ],
             [
              0.2222222222222222,
              "#7201a8"
             ],
             [
              0.3333333333333333,
              "#9c179e"
             ],
             [
              0.4444444444444444,
              "#bd3786"
             ],
             [
              0.5555555555555556,
              "#d8576b"
             ],
             [
              0.6666666666666666,
              "#ed7953"
             ],
             [
              0.7777777777777778,
              "#fb9f3a"
             ],
             [
              0.8888888888888888,
              "#fdca26"
             ],
             [
              1.0,
              "#f0f921"
             ]
            ],
            "type": "histogram2d"
           }
          ],
          "histogram2dcontour": [
           {
            "colorbar": {
             "outlinewidth": 0,
             "ticks": ""
            },
            "colorscale": [
             [
              0.0,
              "#0d0887"
             ],
             [
              0.1111111111111111,
              "#46039f"
             ],
             [
              0.2222222222222222,
              "#7201a8"
             ],
             [
              0.3333333333333333,
              "#9c179e"
             ],
             [
              0.4444444444444444,
              "#bd3786"
             ],
             [
              0.5555555555555556,
              "#d8576b"
             ],
             [
              0.6666666666666666,
              "#ed7953"
             ],
             [
              0.7777777777777778,
              "#fb9f3a"
             ],
             [
              0.8888888888888888,
              "#fdca26"
             ],
             [
              1.0,
              "#f0f921"
             ]
            ],
            "type": "histogram2dcontour"
           }
          ],
          "mesh3d": [
           {
            "colorbar": {
             "outlinewidth": 0,
             "ticks": ""
            },
            "type": "mesh3d"
           }
          ],
          "parcoords": [
           {
            "line": {
             "colorbar": {
              "outlinewidth": 0,
              "ticks": ""
             }
            },
            "type": "parcoords"
           }
          ],
          "pie": [
           {
            "automargin": true,
            "type": "pie"
           }
          ],
          "scatter": [
           {
            "marker": {
             "colorbar": {
              "outlinewidth": 0,
              "ticks": ""
             }
            },
            "type": "scatter"
           }
          ],
          "scatter3d": [
           {
            "line": {
             "colorbar": {
              "outlinewidth": 0,
              "ticks": ""
             }
            },
            "marker": {
             "colorbar": {
              "outlinewidth": 0,
              "ticks": ""
             }
            },
            "type": "scatter3d"
           }
          ],
          "scattercarpet": [
           {
            "marker": {
             "colorbar": {
              "outlinewidth": 0,
              "ticks": ""
             }
            },
            "type": "scattercarpet"
           }
          ],
          "scattergeo": [
           {
            "marker": {
             "colorbar": {
              "outlinewidth": 0,
              "ticks": ""
             }
            },
            "type": "scattergeo"
           }
          ],
          "scattergl": [
           {
            "marker": {
             "colorbar": {
              "outlinewidth": 0,
              "ticks": ""
             }
            },
            "type": "scattergl"
           }
          ],
          "scattermapbox": [
           {
            "marker": {
             "colorbar": {
              "outlinewidth": 0,
              "ticks": ""
             }
            },
            "type": "scattermapbox"
           }
          ],
          "scatterpolar": [
           {
            "marker": {
             "colorbar": {
              "outlinewidth": 0,
              "ticks": ""
             }
            },
            "type": "scatterpolar"
           }
          ],
          "scatterpolargl": [
           {
            "marker": {
             "colorbar": {
              "outlinewidth": 0,
              "ticks": ""
             }
            },
            "type": "scatterpolargl"
           }
          ],
          "scatterternary": [
           {
            "marker": {
             "colorbar": {
              "outlinewidth": 0,
              "ticks": ""
             }
            },
            "type": "scatterternary"
           }
          ],
          "surface": [
           {
            "colorbar": {
             "outlinewidth": 0,
             "ticks": ""
            },
            "colorscale": [
             [
              0.0,
              "#0d0887"
             ],
             [
              0.1111111111111111,
              "#46039f"
             ],
             [
              0.2222222222222222,
              "#7201a8"
             ],
             [
              0.3333333333333333,
              "#9c179e"
             ],
             [
              0.4444444444444444,
              "#bd3786"
             ],
             [
              0.5555555555555556,
              "#d8576b"
             ],
             [
              0.6666666666666666,
              "#ed7953"
             ],
             [
              0.7777777777777778,
              "#fb9f3a"
             ],
             [
              0.8888888888888888,
              "#fdca26"
             ],
             [
              1.0,
              "#f0f921"
             ]
            ],
            "type": "surface"
           }
          ],
          "table": [
           {
            "cells": {
             "fill": {
              "color": "#EBF0F8"
             },
             "line": {
              "color": "white"
             }
            },
            "header": {
             "fill": {
              "color": "#C8D4E3"
             },
             "line": {
              "color": "white"
             }
            },
            "type": "table"
           }
          ]
         },
         "layout": {
          "annotationdefaults": {
           "arrowcolor": "#2a3f5f",
           "arrowhead": 0,
           "arrowwidth": 1
          },
          "coloraxis": {
           "colorbar": {
            "outlinewidth": 0,
            "ticks": ""
           }
          },
          "colorscale": {
           "diverging": [
            [
             0,
             "#8e0152"
            ],
            [
             0.1,
             "#c51b7d"
            ],
            [
             0.2,
             "#de77ae"
            ],
            [
             0.3,
             "#f1b6da"
            ],
            [
             0.4,
             "#fde0ef"
            ],
            [
             0.5,
             "#f7f7f7"
            ],
            [
             0.6,
             "#e6f5d0"
            ],
            [
             0.7,
             "#b8e186"
            ],
            [
             0.8,
             "#7fbc41"
            ],
            [
             0.9,
             "#4d9221"
            ],
            [
             1,
             "#276419"
            ]
           ],
           "sequential": [
            [
             0.0,
             "#0d0887"
            ],
            [
             0.1111111111111111,
             "#46039f"
            ],
            [
             0.2222222222222222,
             "#7201a8"
            ],
            [
             0.3333333333333333,
             "#9c179e"
            ],
            [
             0.4444444444444444,
             "#bd3786"
            ],
            [
             0.5555555555555556,
             "#d8576b"
            ],
            [
             0.6666666666666666,
             "#ed7953"
            ],
            [
             0.7777777777777778,
             "#fb9f3a"
            ],
            [
             0.8888888888888888,
             "#fdca26"
            ],
            [
             1.0,
             "#f0f921"
            ]
           ],
           "sequentialminus": [
            [
             0.0,
             "#0d0887"
            ],
            [
             0.1111111111111111,
             "#46039f"
            ],
            [
             0.2222222222222222,
             "#7201a8"
            ],
            [
             0.3333333333333333,
             "#9c179e"
            ],
            [
             0.4444444444444444,
             "#bd3786"
            ],
            [
             0.5555555555555556,
             "#d8576b"
            ],
            [
             0.6666666666666666,
             "#ed7953"
            ],
            [
             0.7777777777777778,
             "#fb9f3a"
            ],
            [
             0.8888888888888888,
             "#fdca26"
            ],
            [
             1.0,
             "#f0f921"
            ]
           ]
          },
          "colorway": [
           "#636efa",
           "#EF553B",
           "#00cc96",
           "#ab63fa",
           "#FFA15A",
           "#19d3f3",
           "#FF6692",
           "#B6E880",
           "#FF97FF",
           "#FECB52"
          ],
          "font": {
           "color": "#2a3f5f"
          },
          "geo": {
           "bgcolor": "white",
           "lakecolor": "white",
           "landcolor": "#E5ECF6",
           "showlakes": true,
           "showland": true,
           "subunitcolor": "white"
          },
          "hoverlabel": {
           "align": "left"
          },
          "hovermode": "closest",
          "mapbox": {
           "style": "light"
          },
          "paper_bgcolor": "white",
          "plot_bgcolor": "#E5ECF6",
          "polar": {
           "angularaxis": {
            "gridcolor": "white",
            "linecolor": "white",
            "ticks": ""
           },
           "bgcolor": "#E5ECF6",
           "radialaxis": {
            "gridcolor": "white",
            "linecolor": "white",
            "ticks": ""
           }
          },
          "scene": {
           "xaxis": {
            "backgroundcolor": "#E5ECF6",
            "gridcolor": "white",
            "gridwidth": 2,
            "linecolor": "white",
            "showbackground": true,
            "ticks": "",
            "zerolinecolor": "white"
           },
           "yaxis": {
            "backgroundcolor": "#E5ECF6",
            "gridcolor": "white",
            "gridwidth": 2,
            "linecolor": "white",
            "showbackground": true,
            "ticks": "",
            "zerolinecolor": "white"
           },
           "zaxis": {
            "backgroundcolor": "#E5ECF6",
            "gridcolor": "white",
            "gridwidth": 2,
            "linecolor": "white",
            "showbackground": true,
            "ticks": "",
            "zerolinecolor": "white"
           }
          },
          "shapedefaults": {
           "line": {
            "color": "#2a3f5f"
           }
          },
          "ternary": {
           "aaxis": {
            "gridcolor": "white",
            "linecolor": "white",
            "ticks": ""
           },
           "baxis": {
            "gridcolor": "white",
            "linecolor": "white",
            "ticks": ""
           },
           "bgcolor": "#E5ECF6",
           "caxis": {
            "gridcolor": "white",
            "linecolor": "white",
            "ticks": ""
           }
          },
          "title": {
           "x": 0.05
          },
          "xaxis": {
           "automargin": true,
           "gridcolor": "white",
           "linecolor": "white",
           "ticks": "",
           "title": {
            "standoff": 15
           },
           "zerolinecolor": "white",
           "zerolinewidth": 2
          },
          "yaxis": {
           "automargin": true,
           "gridcolor": "white",
           "linecolor": "white",
           "ticks": "",
           "title": {
            "standoff": 15
           },
           "zerolinecolor": "white",
           "zerolinewidth": 2
          }
         }
        },
        "width": 680
       }
      },
      "text/html": "<div>\n        \n        \n            <div id=\"fb03bf84-a45a-4abc-9b3d-e458b4dbd72c\" class=\"plotly-graph-div\" style=\"height:600px; width:680px;\"></div>\n            <script type=\"text/javascript\">\n                require([\"plotly\"], function(Plotly) {\n                    window.PLOTLYENV=window.PLOTLYENV || {};\n                    \n                if (document.getElementById(\"fb03bf84-a45a-4abc-9b3d-e458b4dbd72c\")) {\n                    Plotly.newPlot(\n                        'fb03bf84-a45a-4abc-9b3d-e458b4dbd72c',\n                        [{\"branchvalues\": \"total\", \"hoverinfo\": \"label\", \"ids\": [\"Brain/Ex vivo - Fixed/Animal - Mouse/Optogenetic stimulation/Abe et al., 2019\", \"Brain/In vivo/Animal - Rat/Hydrocephalus/Aojula et al., 2016\", \"Brain/In vivo/Animal - Mouse/Demyelination - Cuprizone/Beckmann et al., 2018\", \"Brain/Ex vivo - Fixed/Animal - Mouse/Demyelination - Knockout/Berman et al., 2018\", \"Brain/In vivo/Animal - Mouse/Demyelination - Cuprizone/Chandran et al., 2012\", \"Brain/Ex vivo - Fixed/Animal - Mouse/Healthy/Chang et al., 2017\", \"Spinal cord/Ex vivo - Fixed/Animal - Rat/Injury - Dorsal columnar transection/Chen et al., 2017\", \"Brain/In vivo/Animal - Mouse/Healthy/Duhamel et al., 2019\", \"Brain/In vivo/Animal - Mouse/Ischemia - Induced hypoxia/Fatemi et al., 2011\", \"Brain/In vivo/Animal - Mouse/Demyelination - Cuprizone/Fjaer et al., 2013\", \"Brain/In vivo/Animal - Mouse/Demyelination - Autoimmune encephalomyelitis/Fjaer et al., 2015\", \"Brain/In vivo/Animal - Mouse/Healthy/Guglielmetti et al., 2020\", \"Brain/Ex vivo - Fixed/Animal - Rat/Healthy/Hakkarainen et al., 2016\", \"Brain/In situ/Human/Vascular diseases/Hametner et al., 2018\", \"Spinal cord/In vivo/Animal - Rat/Edema - Hexachlorophene/Harkins et al., 2013\", \"Brain/Ex vivo - Fixed/Animal - Rat/Demyelination - Lipopolysaccharide/Janve et al., 2013\", \"Brain/In vivo/Animal - Mouse/Demyelination - Cuprizone/Jelescu et al., 2016\", \"Brain/In vivo/Animal - Mouse/Healthy/Jito et al., 2008\", \"Brain/Ex vivo - Fixed/Animal - Mouse/Demyelination - Knockout/Kelm et al., 2016\", \"Brain/In vivo/Animal - Mouse/Demyelination - Cuprizone/Khodanovic et al., 2017\", \"Brain/In vivo/Animal - Mouse/Demyelination - Cuprizone/Khodanovic et al., 2019\", \"Spinal cord/Ex vivo - Fixed/Animal - Rat/Injury - Dorsal columnar transection/Kozlowski et al., 2008\", \"Spinal cord/In vivo/Animal - Rat/Injury - Dorsal columnar transection/Kozlowski et al., 2014\", \"Brain/Ex vivo - Fixed/Human/Multiple sclerosis/Laule et al., 2006\", \"Brain/Ex vivo - Fixed/Human/Multiple sclerosis/Laule et al., 2008\", \"Brain/Ex vivo - Fixed/Human/Multiple sclerosis/Laule et al., 2011\", \"Brain/In vivo/Animal - Rat/Demyelination - Lipopolysaccharide/Lehto et al., 2017a\", \"Brain/Ex vivo - Unfixed/Animal - Rat/Traumatic brain injury/Lehto et al., 2017b\", \"Brain/Ex vivo - Fixed/Human/Amyotrophic lateral sclerosis/Mollink et al., 2019\", \"Peripheral nerve/Ex vivo - Unfixed/Animal - Rat/Demyelination - Tellurium/Odrobina et al., 2005\", \"Brain/Ex vivo - Fixed/Human/Tuberous sclerosis complex/Peters et al., 2019\", \"Brain/In vivo/Animal - Mouse/Healthy/Pol et al., 2019\", \"Brain/In vivo/Animal - Mouse/Amyloidosis/Praet et al., 2018\", \"Peripheral nerve/Ex vivo - Unfixed/Animal - Rat/Demyelination - Tellurium/Pun et al., 2005\", \"Brain/Ex vivo - Fixed/Human/Epilepsy/Reeves et al., 2016\", \"Brain/Ex vivo - Unfixed/Human/Multiple sclerosis/Schmierer et al., 2004\", \"Brain/Ex vivo - Unfixed/Human/Multiple sclerosis/Schmierer et al., 2007a\", \"Brain/Ex vivo - Unfixed/Human/Multiple sclerosis/Schmierer et al., 2007b\", \"Brain/Ex vivo - Fixed/Human/Multiple sclerosis/Schmierer et al., 2008\", \"Brain/Ex vivo - Fixed/Human/Multiple sclerosis/Schmierer et al., 2010\", \"Brain/Ex vivo - Fixed/Human/Healthy/Seehaus et al., 2015\", \"Brain/In situ/Animal - Mouse/Demyelination - Cuprizone/Soustelle et al., 2019\", \"Peripheral nerve/Ex vivo - Unfixed/Animal - Rat/Degeneration - Contusive injury/Takagi et al., 2009\", \"Brain/Ex vivo - Fixed/Human/Multiple sclerosis/Tardif et al., 2012\", \"Brain/Ex vivo - Unfixed/Animal - Mouse/Demyelination - Cuprizone/Thiessen et al., 2013\", \"Brain/In vivo/Animal - Rat/Traumatic brain injury/Tu et al., 2016\", \"Brain/In vivo/Animal - Mouse/Demyelination - Cuprizone/Turati et al., 2015\", \"Brain/In vivo/Animal - Mouse/Healthy/Underhill et al., 2011\", \"Brain/In vivo/Animal - Rat/Ischemia - Induced hypoxia/Wang et al., 2009\", \"Spinal cord/Ex vivo - Fixed/Animal - Mouse/Demyelination - Autoimmune encephalomyelitis/Wang et al., 2014\", \"Spinal cord/Ex vivo - Fixed/Human/Multiple sclerosis/Wang et al., 2015\", \"Brain/Ex vivo - Fixed/Animal - Mouse/Traumatic brain injury/Wendel et al., 2018\", \"Brain/Ex vivo - Fixed/Animal - Mouse/Demyelination - Knockout/West et al., 2018\", \"Brain/In vivo/Animal - Mouse/Demyelination - Cuprizone/Wu et al., 2008\", \"Brain/Ex vivo - Fixed/Animal - Mouse/Demyelination - Cuprizone/Yano et al., 2018\", \"Brain/In vivo/Animal - Mouse/Demyelination - Cuprizone/Zaaraoui et al., 2008\", \"Spinal cord/Ex vivo - Fixed/Animal - Rat/Injury - Dorsal columnar transection/Zhang et al., 2009\", \"Brain/Ex vivo - Fixed/Animal - Rat/White matter injury/van Tilborg et al., 2017\", \"Brain/In vivo/Animal - Mouse/Amyloidosis\", \"Brain/Ex vivo - Fixed/Human/Amyotrophic lateral sclerosis\", \"Peripheral nerve/Ex vivo - Unfixed/Animal - Rat/Degeneration - Contusive injury\", \"Spinal cord/Ex vivo - Fixed/Animal - Mouse/Demyelination - Autoimmune encephalomyelitis\", \"Brain/In vivo/Animal - Mouse/Demyelination - Autoimmune encephalomyelitis\", \"Brain/Ex vivo - Fixed/Animal - Mouse/Demyelination - Cuprizone\", \"Brain/Ex vivo - Unfixed/Animal - Mouse/Demyelination - Cuprizone\", \"Brain/In situ/Animal - Mouse/Demyelination - Cuprizone\", \"Brain/In vivo/Animal - Mouse/Demyelination - Cuprizone\", \"Brain/Ex vivo - Fixed/Animal - Mouse/Demyelination - Knockout\", \"Brain/Ex vivo - Fixed/Animal - Rat/Demyelination - Lipopolysaccharide\", \"Brain/In vivo/Animal - Rat/Demyelination - Lipopolysaccharide\", \"Peripheral nerve/Ex vivo - Unfixed/Animal - Rat/Demyelination - Tellurium\", \"Spinal cord/In vivo/Animal - Rat/Edema - Hexachlorophene\", \"Brain/Ex vivo - Fixed/Human/Epilepsy\", \"Brain/Ex vivo - Fixed/Animal - Mouse/Healthy\", \"Brain/In vivo/Animal - Mouse/Healthy\", \"Brain/Ex vivo - Fixed/Animal - Rat/Healthy\", \"Brain/Ex vivo - Fixed/Human/Healthy\", \"Brain/In vivo/Animal - Rat/Hydrocephalus\", \"Spinal cord/Ex vivo - Fixed/Animal - Rat/Injury - Dorsal columnar transection\", \"Spinal cord/In vivo/Animal - Rat/Injury - Dorsal columnar transection\", \"Brain/In vivo/Animal - Mouse/Ischemia - Induced hypoxia\", \"Brain/In vivo/Animal - Rat/Ischemia - Induced hypoxia\", \"Brain/Ex vivo - Fixed/Human/Multiple sclerosis\", \"Spinal cord/Ex vivo - Fixed/Human/Multiple sclerosis\", \"Brain/Ex vivo - Unfixed/Human/Multiple sclerosis\", \"Brain/Ex vivo - Fixed/Animal - Mouse/Optogenetic stimulation\", \"Brain/Ex vivo - Fixed/Animal - Mouse/Traumatic brain injury\", \"Brain/Ex vivo - Unfixed/Animal - Rat/Traumatic brain injury\", \"Brain/In vivo/Animal - Rat/Traumatic brain injury\", \"Brain/Ex vivo - Fixed/Human/Tuberous sclerosis complex\", \"Brain/In situ/Human/Vascular diseases\", \"Brain/Ex vivo - Fixed/Animal - Rat/White matter injury\", \"Brain/Ex vivo - Fixed/Animal - Mouse\", \"Spinal cord/Ex vivo - Fixed/Animal - Mouse\", \"Brain/Ex vivo - Unfixed/Animal - Mouse\", \"Brain/In situ/Animal - Mouse\", \"Brain/In vivo/Animal - Mouse\", \"Brain/Ex vivo - Fixed/Animal - Rat\", \"Spinal cord/Ex vivo - Fixed/Animal - Rat\", \"Brain/Ex vivo - Unfixed/Animal - Rat\", \"Peripheral nerve/Ex vivo - Unfixed/Animal - Rat\", \"Brain/In vivo/Animal - Rat\", \"Spinal cord/In vivo/Animal - Rat\", \"Brain/Ex vivo - Fixed/Human\", \"Spinal cord/Ex vivo - Fixed/Human\", \"Brain/Ex vivo - Unfixed/Human\", \"Brain/In situ/Human\", \"Brain/Ex vivo - Fixed\", \"Spinal cord/Ex vivo - Fixed\", \"Brain/Ex vivo - Unfixed\", \"Peripheral nerve/Ex vivo - Unfixed\", \"Brain/In situ\", \"Brain/In vivo\", \"Spinal cord/In vivo\", \"Brain\", \"Peripheral nerve\", \"Spinal cord\"], \"labels\": [\"Abe et al., 2019\", \"Aojula et al., 2016\", \"Beckmann et al., 2018\", \"Berman et al., 2018\", \"Chandran et al., 2012\", \"Chang et al., 2017\", \"Chen et al., 2017\", \"Duhamel et al., 2019\", \"Fatemi et al., 2011\", \"Fjaer et al., 2013\", \"Fjaer et al., 2015\", \"Guglielmetti et al., 2020\", \"Hakkarainen et al., 2016\", \"Hametner et al., 2018\", \"Harkins et al., 2013\", \"Janve et al., 2013\", \"Jelescu et al., 2016\", \"Jito et al., 2008\", \"Kelm et al., 2016\", \"Khodanovic et al., 2017\", \"Khodanovic et al., 2019\", \"Kozlowski et al., 2008\", \"Kozlowski et al., 2014\", \"Laule et al., 2006\", \"Laule et al., 2008\", \"Laule et al., 2011\", \"Lehto et al., 2017a\", \"Lehto et al., 2017b\", \"Mollink et al., 2019\", \"Odrobina et al., 2005\", \"Peters et al., 2019\", \"Pol et al., 2019\", \"Praet et al., 2018\", \"Pun et al., 2005\", \"Reeves et al., 2016\", \"Schmierer et al., 2004\", \"Schmierer et al., 2007a\", \"Schmierer et al., 2007b\", \"Schmierer et al., 2008\", \"Schmierer et al., 2010\", \"Seehaus et al., 2015\", \"Soustelle et al., 2019\", \"Takagi et al., 2009\", \"Tardif et al., 2012\", \"Thiessen et al., 2013\", \"Tu et al., 2016\", \"Turati et al., 2015\", \"Underhill et al., 2011\", \"Wang et al., 2009\", \"Wang et al., 2014\", \"Wang et al., 2015\", \"Wendel et al., 2018\", \"West et al., 2018\", \"Wu et al., 2008\", \"Yano et al., 2018\", \"Zaaraoui et al., 2008\", \"Zhang et al., 2009\", \"van Tilborg et al., 2017\", \"Amyloidosis\", \"Amyotrophic lateral sclerosis\", \"Degeneration - Contusive injury\", \"Demyelination - Autoimmune encephalomyelitis\", \"Demyelination - Autoimmune encephalomyelitis\", \"Demyelination - Cuprizone\", \"Demyelination - Cuprizone\", \"Demyelination - Cuprizone\", \"Demyelination - Cuprizone\", \"Demyelination - Knockout\", \"Demyelination - Lipopolysaccharide\", \"Demyelination - Lipopolysaccharide\", \"Demyelination - Tellurium\", \"Edema - Hexachlorophene\", \"Epilepsy\", \"Healthy\", \"Healthy\", \"Healthy\", \"Healthy\", \"Hydrocephalus\", \"Injury - Dorsal columnar transection\", \"Injury - Dorsal columnar transection\", \"Ischemia - Induced hypoxia\", \"Ischemia - Induced hypoxia\", \"Multiple sclerosis\", \"Multiple sclerosis\", \"Multiple sclerosis\", \"Optogenetic stimulation\", \"Traumatic brain injury\", \"Traumatic brain injury\", \"Traumatic brain injury\", \"Tuberous sclerosis complex\", \"Vascular diseases\", \"White matter injury\", \"Animal - Mouse\", \"Animal - Mouse\", \"Animal - Mouse\", \"Animal - Mouse\", \"Animal - Mouse\", \"Animal - Rat\", \"Animal - Rat\", \"Animal - Rat\", \"Animal - Rat\", \"Animal - Rat\", \"Animal - Rat\", \"Human\", \"Human\", \"Human\", \"Human\", \"Ex vivo - Fixed\", \"Ex vivo - Fixed\", \"Ex vivo - Unfixed\", \"Ex vivo - Unfixed\", \"In situ\", \"In vivo\", \"In vivo\", \"Brain\", \"Peripheral nerve\", \"Spinal cord\"], \"parents\": [\"Brain/Ex vivo - Fixed/Animal - Mouse/Optogenetic stimulation\", \"Brain/In vivo/Animal - Rat/Hydrocephalus\", \"Brain/In vivo/Animal - Mouse/Demyelination - Cuprizone\", \"Brain/Ex vivo - Fixed/Animal - Mouse/Demyelination - Knockout\", \"Brain/In vivo/Animal - Mouse/Demyelination - Cuprizone\", \"Brain/Ex vivo - Fixed/Animal - Mouse/Healthy\", \"Spinal cord/Ex vivo - Fixed/Animal - Rat/Injury - Dorsal columnar transection\", \"Brain/In vivo/Animal - Mouse/Healthy\", \"Brain/In vivo/Animal - Mouse/Ischemia - Induced hypoxia\", \"Brain/In vivo/Animal - Mouse/Demyelination - Cuprizone\", \"Brain/In vivo/Animal - Mouse/Demyelination - Autoimmune encephalomyelitis\", \"Brain/In vivo/Animal - Mouse/Healthy\", \"Brain/Ex vivo - Fixed/Animal - Rat/Healthy\", \"Brain/In situ/Human/Vascular diseases\", \"Spinal cord/In vivo/Animal - Rat/Edema - Hexachlorophene\", \"Brain/Ex vivo - Fixed/Animal - Rat/Demyelination - Lipopolysaccharide\", \"Brain/In vivo/Animal - Mouse/Demyelination - Cuprizone\", \"Brain/In vivo/Animal - Mouse/Healthy\", \"Brain/Ex vivo - Fixed/Animal - Mouse/Demyelination - Knockout\", \"Brain/In vivo/Animal - Mouse/Demyelination - Cuprizone\", \"Brain/In vivo/Animal - Mouse/Demyelination - Cuprizone\", \"Spinal cord/Ex vivo - Fixed/Animal - Rat/Injury - Dorsal columnar transection\", \"Spinal cord/In vivo/Animal - Rat/Injury - Dorsal columnar transection\", \"Brain/Ex vivo - Fixed/Human/Multiple sclerosis\", \"Brain/Ex vivo - Fixed/Human/Multiple sclerosis\", \"Brain/Ex vivo - Fixed/Human/Multiple sclerosis\", \"Brain/In vivo/Animal - Rat/Demyelination - Lipopolysaccharide\", \"Brain/Ex vivo - Unfixed/Animal - Rat/Traumatic brain injury\", \"Brain/Ex vivo - Fixed/Human/Amyotrophic lateral sclerosis\", \"Peripheral nerve/Ex vivo - Unfixed/Animal - Rat/Demyelination - Tellurium\", \"Brain/Ex vivo - Fixed/Human/Tuberous sclerosis complex\", \"Brain/In vivo/Animal - Mouse/Healthy\", \"Brain/In vivo/Animal - Mouse/Amyloidosis\", \"Peripheral nerve/Ex vivo - Unfixed/Animal - Rat/Demyelination - Tellurium\", \"Brain/Ex vivo - Fixed/Human/Epilepsy\", \"Brain/Ex vivo - Unfixed/Human/Multiple sclerosis\", \"Brain/Ex vivo - Unfixed/Human/Multiple sclerosis\", \"Brain/Ex vivo - Unfixed/Human/Multiple sclerosis\", \"Brain/Ex vivo - Fixed/Human/Multiple sclerosis\", \"Brain/Ex vivo - Fixed/Human/Multiple sclerosis\", \"Brain/Ex vivo - Fixed/Human/Healthy\", \"Brain/In situ/Animal - Mouse/Demyelination - Cuprizone\", \"Peripheral nerve/Ex vivo - Unfixed/Animal - Rat/Degeneration - Contusive injury\", \"Brain/Ex vivo - Fixed/Human/Multiple sclerosis\", \"Brain/Ex vivo - Unfixed/Animal - Mouse/Demyelination - Cuprizone\", \"Brain/In vivo/Animal - Rat/Traumatic brain injury\", \"Brain/In vivo/Animal - Mouse/Demyelination - Cuprizone\", \"Brain/In vivo/Animal - Mouse/Healthy\", \"Brain/In vivo/Animal - Rat/Ischemia - Induced hypoxia\", \"Spinal cord/Ex vivo - Fixed/Animal - Mouse/Demyelination - Autoimmune encephalomyelitis\", \"Spinal cord/Ex vivo - Fixed/Human/Multiple sclerosis\", \"Brain/Ex vivo - Fixed/Animal - Mouse/Traumatic brain injury\", \"Brain/Ex vivo - Fixed/Animal - Mouse/Demyelination - Knockout\", \"Brain/In vivo/Animal - Mouse/Demyelination - Cuprizone\", \"Brain/Ex vivo - Fixed/Animal - Mouse/Demyelination - Cuprizone\", \"Brain/In vivo/Animal - Mouse/Demyelination - Cuprizone\", \"Spinal cord/Ex vivo - Fixed/Animal - Rat/Injury - Dorsal columnar transection\", \"Brain/Ex vivo - Fixed/Animal - Rat/White matter injury\", \"Brain/In vivo/Animal - Mouse\", \"Brain/Ex vivo - Fixed/Human\", \"Peripheral nerve/Ex vivo - Unfixed/Animal - Rat\", \"Spinal cord/Ex vivo - Fixed/Animal - Mouse\", \"Brain/In vivo/Animal - Mouse\", \"Brain/Ex vivo - Fixed/Animal - Mouse\", \"Brain/Ex vivo - Unfixed/Animal - Mouse\", \"Brain/In situ/Animal - Mouse\", \"Brain/In vivo/Animal - Mouse\", \"Brain/Ex vivo - Fixed/Animal - Mouse\", \"Brain/Ex vivo - Fixed/Animal - Rat\", \"Brain/In vivo/Animal - Rat\", \"Peripheral nerve/Ex vivo - Unfixed/Animal - Rat\", \"Spinal cord/In vivo/Animal - Rat\", \"Brain/Ex vivo - Fixed/Human\", \"Brain/Ex vivo - Fixed/Animal - Mouse\", \"Brain/In vivo/Animal - Mouse\", \"Brain/Ex vivo - Fixed/Animal - Rat\", \"Brain/Ex vivo - Fixed/Human\", \"Brain/In vivo/Animal - Rat\", \"Spinal cord/Ex vivo - Fixed/Animal - Rat\", \"Spinal cord/In vivo/Animal - Rat\", \"Brain/In vivo/Animal - Mouse\", \"Brain/In vivo/Animal - Rat\", \"Brain/Ex vivo - Fixed/Human\", \"Spinal cord/Ex vivo - Fixed/Human\", \"Brain/Ex vivo - Unfixed/Human\", \"Brain/Ex vivo - Fixed/Animal - Mouse\", \"Brain/Ex vivo - Fixed/Animal - Mouse\", \"Brain/Ex vivo - Unfixed/Animal - Rat\", \"Brain/In vivo/Animal - Rat\", \"Brain/Ex vivo - Fixed/Human\", \"Brain/In situ/Human\", \"Brain/Ex vivo - Fixed/Animal - Rat\", \"Brain/Ex vivo - Fixed\", \"Spinal cord/Ex vivo - Fixed\", \"Brain/Ex vivo - Unfixed\", \"Brain/In situ\", \"Brain/In vivo\", \"Brain/Ex vivo - Fixed\", \"Spinal cord/Ex vivo - Fixed\", \"Brain/Ex vivo - Unfixed\", \"Peripheral nerve/Ex vivo - Unfixed\", \"Brain/In vivo\", \"Spinal cord/In vivo\", \"Brain/Ex vivo - Fixed\", \"Spinal cord/Ex vivo - Fixed\", \"Brain/Ex vivo - Unfixed\", \"Brain/In situ\", \"Brain\", \"Spinal cord\", \"Brain\", \"Peripheral nerve\", \"Brain\", \"Brain\", \"Spinal cord\", \"\", \"\", \"\"], \"text\": [\"<a style='color:white' href='https://doi.org/10.1016/j.neuint.2019.02.017'>->Go to the paper</a><br><br>Approach: Diffusion<br><br>Magnetic field: 7.0<br><br>MRI measure(s): FA, RD, AD<br><br>Histology/microscopy measure: Microscopy - Myelin thickness<br><br>Specific structure(s): Putamen, Accumbens, Globus pallidus, Substantia nigra, Cortex<br><br>\", \"<a style='color:white' href='https://doi.org/10.1186/s12987-016-0033-2'>->Go to the paper</a><br><br>Approach: Diffusion<br><br>Magnetic field: 7.0<br><br>MRI measure(s): FA, AD, RD, MD<br><br>Histology/microscopy measure: Immunohistochemistry - MBP<br><br>Specific structure(s): Corpus callosum<br><br>\", \"<a style='color:white' href='https://doi.org/10.1186/s40478-018-0510-8'>->Go to the paper</a><br><br>Approach: Magnetization transfer<br><br>Magnetic field: 7.0<br><br>MRI measure(s): MTR<br><br>Histology/microscopy measure: Histology - LFB<br><br>Specific structure(s): Corpus callosum, External capsule<br><br>\", \"<a style='color:white' href='https://doi.org/10.1016/j.neuroimage.2017.06.076'>->Go to the paper</a><br><br>Approach: Other<br><br>Magnetic field: 15.2<br><br>MRI measure(s): MTV<br><br>Histology/microscopy measure: EM - Myelin fraction<br><br>Specific structure(s): Corpus callosum<br><br>\", \"<a style='color:white' href='https://doi.org/10.1016/j.neuroscience.2011.10.051'>->Go to the paper</a><br><br>Approach: Diffusion<br><br>Magnetic field: 7.0<br><br>MRI measure(s): FA, RD<br><br>Histology/microscopy measure: Immunohistochemistry - MBP<br><br>Specific structure(s): White matter<br><br>\", \"<a style='color:white' href='https://doi.org/10.1016/j.dib.2016.12.018'>->Go to the paper</a><br><br>Approach: Diffusion<br><br>Magnetic field: 11.7<br><br>MRI measure(s): FA, AD, RD, MD<br><br>Histology/microscopy measure: Immunohistochemistry - MBP<br><br>Specific structure(s): Corpus callosum, Anterior commissure, Fimbria, Fornix, Stria medullaris, Fasciculus retroflexus, Mammilothalamic tract<br><br>\", \"<a style='color:white' href='https://doi.org/10.1016/j.neuroimage.2017.03.065'>->Go to the paper</a><br><br>Approach: T2 relaxometry<br><br>Magnetic field: 7.0<br><br>MRI measure(s): MWF<br><br>Histology/microscopy measure: EM - Myelin fraction<br><br>Specific structure(s): Cervical sections<br><br>\", \"<a style='color:white' href='https://doi.org/10.1016/j.neuroimage.2019.05.061'>->Go to the paper</a><br><br>Approach: Magnetization transfer<br><br>Magnetic field: 11.75<br><br>MRI measure(s): ihMTR, MTR<br><br>Histology/microscopy measure: Microscopy - Fluorescence<br><br>Specific structure(s): Corpus callosum, Internal capsule, Optic nerve, Thalamus, Cortex, Hippocampus, Inter-peduncular nuclues<br><br>\", \"<a style='color:white' href='https://doi.org/10.1038/jcbfm.2011.68'>->Go to the paper</a><br><br>Approach: Magnetization transfer<br><br>Magnetic field: 9.4<br><br>MRI measure(s): MTR<br><br>Histology/microscopy measure: Immunohistochemistry - MBP<br><br>Specific structure(s): Corpus callosum, Internal capsule<br><br>\", \"<a style='color:white' href='https://doi.org/10.1371/journal.pone.0084162'>->Go to the paper</a><br><br>Approach: Magnetization transfer<br><br>Magnetic field: 7.0<br><br>MRI measure(s): MTR<br><br>Histology/microscopy measure: Immunohistochemistry - PLP<br><br>Specific structure(s): Corpus callosum<br><br>\", \"<a style='color:white' href='https://doi.org/10.1016/j.neuint.2015.02.006'>->Go to the paper</a><br><br>Approach: Magnetization transfer<br><br>Magnetic field: 7.0<br><br>MRI measure(s): MTR<br><br>Histology/microscopy measure: Immunohistochemistry - PLP<br><br>Specific structure(s): Corpus callosum<br><br>\", \"<a style='color:white' href='https://doi.org/10.1016/j.neuroimage.2019.116415'>->Go to the paper</a><br><br>Approach: Magnetization transfer<br><br>Magnetic field: 7.0<br><br>MRI measure(s): MTR, MTR-UTE<br><br>Histology/microscopy measure: Immunohistochemistry - MBP<br><br>Specific structure(s): Corpus callosum, Internal capsule, Thalamus, Putamen, Hippocampus, Cortex<br><br>\", \"<a style='color:white' href='https://doi.org/10.1002/mrm.25590'>->Go to the paper</a><br><br>Approach: Magnetization transfer, T1 relaxometry, T2 relaxometry, Other<br><br>Magnetic field: 9.4<br><br>MRI measure(s): T1, T2, MTR, T1p, T2p, RAFF<br><br>Histology/microscopy measure: Histology - Gold chloride<br><br>Specific structure(s): Corpus callosum, External capsule, Internal capsule, Cingulum, Fimbria, Optic tract, Dentate gyrus, Hippocampus, Amygdala, Somatosensory cortex, Thalamic nuclei<br><br>\", \"<a style='color:white' href='https://doi.org/10.1016/j.neuroimage.2018.06.007'>->Go to the paper</a><br><br>Approach: T1 relaxometry, Other<br><br>Magnetic field: 7.0<br><br>MRI measure(s): R2*, T1, QSM<br><br>Histology/microscopy measure: Histology - LFB<br><br>Specific structure(s): White matter, Grey matter, Thalamus, Basal ganglia<br><br>\", \"<a style='color:white' href='https://doi.org/10.1016/j.nicl.2013.06.007'>->Go to the paper</a><br><br>Approach: Magnetization transfer, T2 relaxometry<br><br>Magnetic field: 9.4<br><br>MRI measure(s): MWF, MPF<br><br>Histology/microscopy measure: Microscopy - Myelin fraction<br><br>Specific structure(s): Cervical sections<br><br>\", \"<a style='color:white' href='https://doi.org/10.1016/j.neuroimage.2013.02.034'>->Go to the paper</a><br><br>Approach: Diffusion, Magnetization transfer<br><br>Magnetic field: 9.4<br><br>MRI measure(s): MPF, R1a, k_ba, FA, RD, MD, AD<br><br>Histology/microscopy measure: Histology - LFB<br><br>Specific structure(s): Corpus callosum<br><br>\", \"<a style='color:white' href='https://doi.org/10.1016/j.neuroimage.2016.02.004'>->Go to the paper</a><br><br>Approach: Diffusion, Magnetization transfer, T2 relaxometry<br><br>Magnetic field: 7.0<br><br>MRI measure(s): RD, RK, AWF, Rde, T2, MTR<br><br>Histology/microscopy measure: EM - Myelin fraction<br><br>Specific structure(s): Corpus callosum<br><br>\", \"<a style='color:white' href='https://doi.org/10.1002/jmri.21496'>->Go to the paper</a><br><br>Approach: Diffusion<br><br>Magnetic field: 7.0<br><br>MRI measure(s): FA<br><br>Histology/microscopy measure: Microscopy - Myelin sheath area<br><br>Specific structure(s): Corpus callosum<br><br>\", \"<a style='color:white' href='https://doi.org/10.1016/j.neuroimage.2015.09.028'>->Go to the paper</a><br><br>Approach: Diffusion<br><br>Magnetic field: 15.2<br><br>MRI measure(s): MD, RD, MK, RK, AWF<br><br>Histology/microscopy measure: EM - Myelin fraction<br><br>Specific structure(s): Corpus callosum, External capsule, Internal capsule, Anterior commissure<br><br>\", \"<a style='color:white' href='https://doi.org/10.1038/srep46686'>->Go to the paper</a><br><br>Approach: Magnetization transfer<br><br>Magnetic field: 11.7<br><br>MRI measure(s): MPF<br><br>Histology/microscopy measure: Histology - LFB<br><br>Specific structure(s): Corpus callosum, Internal capsule, Anterior commissure, Thalamus, Putamen, Cortex<br><br>\", \"<a style='color:white' href='https://doi.org/10.3390/cells8101204'>->Go to the paper</a><br><br>Approach: Magnetization transfer<br><br>Magnetic field: 11.7<br><br>MRI measure(s): MPF<br><br>Histology/microscopy measure: Immunohistochemistry - MBP<br><br>Specific structure(s): Corpus callosum<br><br>\", \"<a style='color:white' href='https://doi.org/10.1089/neu.2007.0462'>->Go to the paper</a><br><br>Approach: Diffusion, T2 relaxometry<br><br>Magnetic field: 7.0<br><br>MRI measure(s): MWF, FA, AD, RD, MD<br><br>Histology/microscopy measure: Immunohistochemistry - MBP<br><br>Specific structure(s): Cervical sections<br><br>\", \"<a style='color:white' href='https://doi.org/10.1016/j.mri.2013.12.006'>->Go to the paper</a><br><br>Approach: T2 relaxometry<br><br>Magnetic field: 7.0<br><br>MRI measure(s): MWF<br><br>Histology/microscopy measure: Immunohistochemistry - MBP<br><br>Specific structure(s): Cervical sections<br><br>\", \"<a style='color:white' href='https://doi.org/10.1177/1352458506070928'>->Go to the paper</a><br><br>Approach: T2 relaxometry<br><br>Magnetic field: 1.5<br><br>MRI measure(s): MWF<br><br>Histology/microscopy measure: Histology - LFB<br><br>Specific structure(s): White matter, Grey matter<br><br>\", \"<a style='color:white' href='https://doi.org/10.1016/j.neuroimage.2007.12.008'>->Go to the paper</a><br><br>Approach: T2 relaxometry<br><br>Magnetic field: 7.0<br><br>MRI measure(s): MWF<br><br>Histology/microscopy measure: Histology - LFB<br><br>Specific structure(s): White matter, Grey matter<br><br>\", \"<a style='color:white' href='https://doi.org/10.1177/1352458510384008'>->Go to the paper</a><br><br>Approach: T2 relaxometry<br><br>Magnetic field: 1.5<br><br>MRI measure(s): MWF<br><br>Histology/microscopy measure: Immunohistochemistry - MBP<br><br>Specific structure(s): White matter<br><br>\", \"<a style='color:white' href='https://doi.org/10.3389/fnins.2017.00433'>->Go to the paper</a><br><br>Approach: Diffusion, Magnetization transfer, Other<br><br>Magnetic field: 7.0<br><br>MRI measure(s): RAFF, MTR, T1sat, FA, MD, AD, RD<br><br>Histology/microscopy measure: Histology - Gold chloride<br><br>Specific structure(s): Corpus callosum, Dorsal tegmental tract<br><br>\", \"<a style='color:white' href='https://doi.org/10.1002/nbm.3678'>->Go to the paper</a><br><br>Approach: Magnetization transfer<br><br>Magnetic field: 9.4<br><br>MRI measure(s): MTR<br><br>Histology/microscopy measure: Histology - Gold chloride<br><br>Specific structure(s): Internal capsule, Globus pallidus, Striatum, Thalamus<br><br>\", \"<a style='color:white' href='https://doi.org/10.1111/nan.12555'>->Go to the paper</a><br><br>Approach: Diffusion<br><br>Magnetic field: 11.7<br><br>MRI measure(s): FA<br><br>Histology/microscopy measure: Immunohistochemistry - MBP<br><br>Specific structure(s): Perforant pathway<br><br>\", \"<a style='color:white' href='https://doi.org/10.1002/nbm.951'>->Go to the paper</a><br><br>Approach: Magnetization transfer, T1 relaxometry, T2 relaxometry<br><br>Magnetic field: 1.5<br><br>MRI measure(s): T1, T2, T2int, MWF, M0m, MTR<br><br>Histology/microscopy measure: Microscopy - Myelin fraction<br><br>Specific structure(s): Sciatic nerve<br><br>\", \"<a style='color:white' href='https://doi.org/10.1002/acn3.793'>->Go to the paper</a><br><br>Approach: Diffusion<br><br>Magnetic field: 3.0<br><br>MRI measure(s): FA, MD<br><br>Histology/microscopy measure: Histology - LFB<br><br>Specific structure(s): White matter<br><br>\", \"<a style='color:white' href='https://doi.org/10.1111/jon.12561'>->Go to the paper</a><br><br>Approach: Diffusion, Other<br><br>Magnetic field: 9.4<br><br>MRI measure(s): QSM, FA, MD<br><br>Histology/microscopy measure: Histology - Solochrome<br><br>Specific structure(s): Corpus callosum<br><br>\", \"<a style='color:white' href='https://doi.org/10.1186/s13195-017-0329-8'>->Go to the paper</a><br><br>Approach: Diffusion<br><br>Magnetic field: 7.0<br><br>MRI measure(s): MK, RK, AK, FA, MD, RD, AD<br><br>Histology/microscopy measure: Immunohistochemistry - MBP<br><br>Specific structure(s): Motor cortex<br><br>\", \"<a style='color:white' href='https://doi.org/10.1111/j.1085-9489.2005.10107.x'>->Go to the paper</a><br><br>Approach: T1 relaxometry, T2 relaxometry<br><br>Magnetic field: 1.5<br><br>MRI measure(s): T1, T2int, MWF<br><br>Histology/microscopy measure: Microscopy - Myelin fraction<br><br>Specific structure(s): Sciatic nerve<br><br>\", \"<a style='color:white' href='https://doi.org/10.1111/bpa.12298'>->Go to the paper</a><br><br>Approach: T1 relaxometry, T2 relaxometry<br><br>Magnetic field: 9.4<br><br>MRI measure(s): T1, T2<br><br>Histology/microscopy measure: Immunohistochemistry - MBP<br><br>Specific structure(s): White matter, Grey matter<br><br>\", \"<a style='color:white' href='https://doi.org/10.1002/ana.20202'>->Go to the paper</a><br><br>Approach: Magnetization transfer, T1 relaxometry<br><br>Magnetic field: 1.5<br><br>MRI measure(s): T1, MTR<br><br>Histology/microscopy measure: Histology - LFB<br><br>Specific structure(s): White matter, Lesions<br><br>\", \"<a style='color:white' href='https://doi.org/10.1002/jmri.20984'>->Go to the paper</a><br><br>Approach: Magnetization transfer, T1 relaxometry<br><br>Magnetic field: 1.5<br><br>MRI measure(s): T1, MTR, MPF, T2m<br><br>Histology/microscopy measure: Histology - LFB<br><br>Specific structure(s): White matter, Lesions<br><br>\", \"<a style='color:white' href='https://doi.org/10.1016/j.neuroimage.2006.12.010'>->Go to the paper</a><br><br>Approach: Diffusion<br><br>Magnetic field: 1.5<br><br>MRI measure(s): FA, MD<br><br>Histology/microscopy measure: Histology - LFB<br><br>Specific structure(s): White matter, Lesions<br><br>\", \"<a style='color:white' href='https://doi.org/10.1002/mrm.21487'>->Go to the paper</a><br><br>Approach: Diffusion, Magnetization transfer, T1 relaxometry, T2 relaxometry<br><br>Magnetic field: 1.5<br><br>MRI measure(s): T1, T2, MTR, MPF, MD, FA, AD, RD<br><br>Histology/microscopy measure: Histology - LFB<br><br>Specific structure(s): White matter, Lesions<br><br>\", \"<a style='color:white' href='https://doi.org/10.1093/brain/awp335'>->Go to the paper</a><br><br>Approach: Magnetization transfer, T2 relaxometry<br><br>Magnetic field: 9.4<br><br>MRI measure(s): MTR, T2<br><br>Histology/microscopy measure: Histology - LFB<br><br>Specific structure(s): Grey matter, Lesions<br><br>\", \"<a style='color:white' href='https://doi.org/10.3389/fnana.2015.00098'>->Go to the paper</a><br><br>Approach: Diffusion<br><br>Magnetic field: 9.4<br><br>MRI measure(s): FA, RD, MD<br><br>Histology/microscopy measure: Histology - Silver<br><br>Specific structure(s): White matter, Grey matter<br><br>\", \"<a style='color:white' href='https://doi.org/10.1002/nbm.4116'>->Go to the paper</a><br><br>Approach: Diffusion, Magnetization transfer, T2 relaxometry, Other<br><br>Magnetic field: 7.0<br><br>MRI measure(s): MPF, RD, MWF, rSPF<br><br>Histology/microscopy measure: Immunohistochemistry - MBP<br><br>Specific structure(s): Corpus callosum<br><br>\", \"<a style='color:white' href='https://doi.org/10.1016/j.neuroimage.2008.09.022'>->Go to the paper</a><br><br>Approach: Diffusion<br><br>Magnetic field: 7.0<br><br>MRI measure(s): FA, AD<br><br>Histology/microscopy measure: EM - Myelin thickness<br><br>Specific structure(s): Sciatic nerve<br><br>\", \"<a style='color:white' href='https://doi.org/10.1155/2012/742018'>->Go to the paper</a><br><br>Approach: Magnetization transfer, T1 relaxometry, T2 relaxometry, Other<br><br>Magnetic field: 3.0<br><br>MRI measure(s): T1, T2, MTR, PD<br><br>Histology/microscopy measure: Immunohistochemistry - MBP<br><br>Specific structure(s): White matter, Grey matter, Lesions<br><br>\", \"<a style='color:white' href='https://doi.org/10.1002/nbm.2992'>->Go to the paper</a><br><br>Approach: Diffusion, Magnetization transfer, T1 relaxometry, T2 relaxometry<br><br>Magnetic field: 7.0<br><br>MRI measure(s): MPF, R1f, k_fm, k_mf, T2f, T2m, MD, RD, AD, FA, T1, T2<br><br>Histology/microscopy measure: EM - Myelin thickness<br><br>Specific structure(s): Corpus callosum<br><br>\", \"<a style='color:white' href='https://doi.org/10.1002/ana.24641'>->Go to the paper</a><br><br>Approach: Diffusion, Magnetization transfer<br><br>Magnetic field: 7.0<br><br>MRI measure(s): FA, AD, RD, MD, MTR<br><br>Histology/microscopy measure: Immunohistochemistry - MBP<br><br>Specific structure(s): Corpus callosum<br><br>\", \"<a style='color:white' href='https://doi.org/10.1002/nbm.3253'>->Go to the paper</a><br><br>Approach: Magnetization transfer<br><br>Magnetic field: 7.0<br><br>MRI measure(s): MPF<br><br>Histology/microscopy measure: Immunohistochemistry - MBP<br><br>Specific structure(s): Corpus callosum<br><br>\", \"<a style='color:white' href='https://doi.org/10.1016/j.neuroimage.2010.10.065'>->Go to the paper</a><br><br>Approach: Magnetization transfer<br><br>Magnetic field: 3.0<br><br>MRI measure(s): MPF<br><br>Histology/microscopy measure: Histology - LFB<br><br>Specific structure(s): Putamen, Cerebellum, Cortex, Superior colliculus, Thalamus, Anterior commissure, Corpus callosum, Internal capsule, Hippocampal commissure<br><br>\", \"<a style='color:white' href='https://doi.org/10.3174/ajnr.A1697'>->Go to the paper</a><br><br>Approach: Diffusion<br><br>Magnetic field: 7.0<br><br>MRI measure(s): FA, RD<br><br>Histology/microscopy measure: Histology - LFB<br><br>Specific structure(s): External capsule<br><br>\", \"<a style='color:white' href='https://doi.org/10.1002/nbm.3129'>->Go to the paper</a><br><br>Approach: Diffusion<br><br>Magnetic field: 4.7<br><br>MRI measure(s): RD, RD-DBSI<br><br>Histology/microscopy measure: Immunohistochemistry - MBP<br><br>Specific structure(s): Cervical sections<br><br>\", \"<a style='color:white' href='https://doi.org/10.1093/brain/awv046'>->Go to the paper</a><br><br>Approach: Diffusion<br><br>Magnetic field: 4.7<br><br>MRI measure(s): RD-DBSI<br><br>Histology/microscopy measure: Histology - LFB<br><br>Specific structure(s): Cervical sections<br><br>\", \"<a style='color:white' href='https://doi.org/10.1089/neu.2018.5670'>->Go to the paper</a><br><br>Approach: Diffusion<br><br>Magnetic field: 9.4<br><br>MRI measure(s): FA, AD, RD, MD<br><br>Histology/microscopy measure: Immunohistochemistry - MBP<br><br>Specific structure(s): Corpus callosum<br><br>\", \"<a style='color:white' href='https://doi.org/10.1016/j.neuroimage.2016.12.067'>->Go to the paper</a><br><br>Approach: Magnetization transfer, T2 relaxometry<br><br>Magnetic field: 15.2<br><br>MRI measure(s): MPF, MWF, MVF-T2, MVF-MT<br><br>Histology/microscopy measure: EM - Myelin fraction<br><br>Specific structure(s): Corpus callosum, Anterior commissure<br><br>\", \"<a style='color:white' href='https://doi.org/10.1002/jmri.21111'>->Go to the paper</a><br><br>Approach: T2 relaxometry<br><br>Magnetic field: 4.7<br><br>MRI measure(s): T2<br><br>Histology/microscopy measure: Histology - LFB<br><br>Specific structure(s): Corpus callosum<br><br>\", \"<a style='color:white' href='https://doi.org/10.1016/j.neuint.2017.10.004'>->Go to the paper</a><br><br>Approach: Diffusion<br><br>Magnetic field: 7.0<br><br>MRI measure(s): FA, RD, MD<br><br>Histology/microscopy measure: Immunohistochemistry - PLP<br><br>Specific structure(s): Corpus callosum<br><br>\", \"<a style='color:white' href='https://doi.org/10.1007/s10334-008-0141-3'>->Go to the paper</a><br><br>Approach: Magnetization transfer<br><br>Magnetic field: 9.4<br><br>MRI measure(s): MTR<br><br>Histology/microscopy measure: Immunohistochemistry - MBP<br><br>Specific structure(s): Corpus callosum<br><br>\", \"<a style='color:white' href='https://doi.org/10.1523/jneurosci.3941-08.2009'>->Go to the paper</a><br><br>Approach: Diffusion<br><br>Magnetic field: 11.7<br><br>MRI measure(s): RD<br><br>Histology/microscopy measure: Histology - LFB<br><br>Specific structure(s): Lumbar sections<br><br>\", \"<a style='color:white' href='https://doi.org/10.1002/glia.23216'>->Go to the paper</a><br><br>Approach: Diffusion<br><br>Magnetic field: 9.4<br><br>MRI measure(s): FA<br><br>Histology/microscopy measure: Immunohistochemistry - MBP<br><br>Specific structure(s): Motor cortex<br><br>\"], \"textfont\": {\"size\": 15}, \"type\": \"treemap\", \"values\": [1.0, 1.0, 1.0, 1.0, 1.0, 1.0, 1.0, 1.0, 1.0, 1.0, 1.0, 1.0, 1.0, 1.0, 1.0, 1.0, 1.0, 1.0, 1.0, 1.0, 1.0, 1.0, 1.0, 1.0, 1.0, 1.0, 1.0, 1.0, 1.0, 1.0, 1.0, 1.0, 1.0, 1.0, 1.0, 1.0, 1.0, 1.0, 1.0, 1.0, 1.0, 1.0, 1.0, 1.0, 1.0, 1.0, 1.0, 1.0, 1.0, 1.0, 1.0, 1.0, 1.0, 1.0, 1.0, 1.0, 1.0, 1.0, 1.0, 1.0, 1.0, 1.0, 1.0, 1.0, 1.0, 1.0, 9.0, 3.0, 1.0, 1.0, 2.0, 1.0, 1.0, 1.0, 5.0, 1.0, 1.0, 1.0, 3.0, 1.0, 1.0, 1.0, 6.0, 1.0, 3.0, 1.0, 1.0, 1.0, 1.0, 1.0, 1.0, 1.0, 7.0, 1.0, 1.0, 1.0, 17.0, 3.0, 3.0, 1.0, 3.0, 4.0, 2.0, 10.0, 1.0, 3.0, 1.0, 20.0, 5.0, 5.0, 3.0, 2.0, 21.0, 2.0, 48.0, 3.0, 7.0]}],\n                        {\"annotations\": [{\"font\": {\"color\": \"gray\", \"size\": 8}, \"showarrow\": false, \"text\": \"<a href=\\\"https://neurolibre.com\\\" target=\\\"_blank\\\" style=\\\"color:gray!important\\\">NeuroLibre</a>\", \"x\": 0.99, \"xref\": \"paper\", \"y\": -0.02, \"yref\": \"paper\"}], \"autosize\": false, \"height\": 600, \"images\": [{\"opacity\": 0.9, \"sizex\": 0.03, \"sizey\": 0.03, \"source\": \"https://raw.githubusercontent.com/notebook-factory/brand/main/nlibre_custom2.svg\", \"x\": 0.897, \"xref\": \"paper\", \"y\": 0.009999999999999998, \"yref\": \"paper\"}], \"margin\": {\"b\": 45, \"l\": 0, \"r\": 0, \"t\": 0}, \"template\": {\"data\": {\"bar\": [{\"error_x\": {\"color\": \"#2a3f5f\"}, \"error_y\": {\"color\": \"#2a3f5f\"}, \"marker\": {\"line\": {\"color\": \"#E5ECF6\", \"width\": 0.5}}, \"type\": \"bar\"}], \"barpolar\": [{\"marker\": {\"line\": {\"color\": \"#E5ECF6\", \"width\": 0.5}}, \"type\": \"barpolar\"}], \"carpet\": [{\"aaxis\": {\"endlinecolor\": \"#2a3f5f\", \"gridcolor\": \"white\", \"linecolor\": \"white\", \"minorgridcolor\": \"white\", \"startlinecolor\": \"#2a3f5f\"}, \"baxis\": {\"endlinecolor\": \"#2a3f5f\", \"gridcolor\": \"white\", \"linecolor\": \"white\", \"minorgridcolor\": \"white\", \"startlinecolor\": \"#2a3f5f\"}, \"type\": \"carpet\"}], \"choropleth\": [{\"colorbar\": {\"outlinewidth\": 0, \"ticks\": \"\"}, \"type\": \"choropleth\"}], \"contour\": [{\"colorbar\": {\"outlinewidth\": 0, \"ticks\": \"\"}, \"colorscale\": [[0.0, \"#0d0887\"], [0.1111111111111111, \"#46039f\"], [0.2222222222222222, \"#7201a8\"], [0.3333333333333333, \"#9c179e\"], [0.4444444444444444, \"#bd3786\"], [0.5555555555555556, \"#d8576b\"], [0.6666666666666666, \"#ed7953\"], [0.7777777777777778, \"#fb9f3a\"], [0.8888888888888888, \"#fdca26\"], [1.0, \"#f0f921\"]], \"type\": \"contour\"}], \"contourcarpet\": [{\"colorbar\": {\"outlinewidth\": 0, \"ticks\": \"\"}, \"type\": \"contourcarpet\"}], \"heatmap\": [{\"colorbar\": {\"outlinewidth\": 0, \"ticks\": \"\"}, \"colorscale\": [[0.0, \"#0d0887\"], [0.1111111111111111, \"#46039f\"], [0.2222222222222222, \"#7201a8\"], [0.3333333333333333, \"#9c179e\"], [0.4444444444444444, \"#bd3786\"], [0.5555555555555556, \"#d8576b\"], [0.6666666666666666, \"#ed7953\"], [0.7777777777777778, \"#fb9f3a\"], [0.8888888888888888, \"#fdca26\"], [1.0, \"#f0f921\"]], \"type\": \"heatmap\"}], \"heatmapgl\": [{\"colorbar\": {\"outlinewidth\": 0, \"ticks\": \"\"}, \"colorscale\": [[0.0, \"#0d0887\"], [0.1111111111111111, \"#46039f\"], [0.2222222222222222, \"#7201a8\"], [0.3333333333333333, \"#9c179e\"], [0.4444444444444444, \"#bd3786\"], [0.5555555555555556, \"#d8576b\"], [0.6666666666666666, \"#ed7953\"], [0.7777777777777778, \"#fb9f3a\"], [0.8888888888888888, \"#fdca26\"], [1.0, \"#f0f921\"]], \"type\": \"heatmapgl\"}], \"histogram\": [{\"marker\": {\"colorbar\": {\"outlinewidth\": 0, \"ticks\": \"\"}}, \"type\": \"histogram\"}], \"histogram2d\": [{\"colorbar\": {\"outlinewidth\": 0, \"ticks\": \"\"}, \"colorscale\": [[0.0, \"#0d0887\"], [0.1111111111111111, \"#46039f\"], [0.2222222222222222, \"#7201a8\"], [0.3333333333333333, \"#9c179e\"], [0.4444444444444444, \"#bd3786\"], [0.5555555555555556, \"#d8576b\"], [0.6666666666666666, \"#ed7953\"], [0.7777777777777778, \"#fb9f3a\"], [0.8888888888888888, \"#fdca26\"], [1.0, \"#f0f921\"]], \"type\": \"histogram2d\"}], \"histogram2dcontour\": [{\"colorbar\": {\"outlinewidth\": 0, \"ticks\": \"\"}, \"colorscale\": [[0.0, \"#0d0887\"], [0.1111111111111111, \"#46039f\"], [0.2222222222222222, \"#7201a8\"], [0.3333333333333333, \"#9c179e\"], [0.4444444444444444, \"#bd3786\"], [0.5555555555555556, \"#d8576b\"], [0.6666666666666666, \"#ed7953\"], [0.7777777777777778, \"#fb9f3a\"], [0.8888888888888888, \"#fdca26\"], [1.0, \"#f0f921\"]], \"type\": \"histogram2dcontour\"}], \"mesh3d\": [{\"colorbar\": {\"outlinewidth\": 0, \"ticks\": \"\"}, \"type\": \"mesh3d\"}], \"parcoords\": [{\"line\": {\"colorbar\": {\"outlinewidth\": 0, \"ticks\": \"\"}}, \"type\": \"parcoords\"}], \"pie\": [{\"automargin\": true, \"type\": \"pie\"}], \"scatter\": [{\"marker\": {\"colorbar\": {\"outlinewidth\": 0, \"ticks\": \"\"}}, \"type\": \"scatter\"}], \"scatter3d\": [{\"line\": {\"colorbar\": {\"outlinewidth\": 0, \"ticks\": \"\"}}, \"marker\": {\"colorbar\": {\"outlinewidth\": 0, \"ticks\": \"\"}}, \"type\": \"scatter3d\"}], \"scattercarpet\": [{\"marker\": {\"colorbar\": {\"outlinewidth\": 0, \"ticks\": \"\"}}, \"type\": \"scattercarpet\"}], \"scattergeo\": [{\"marker\": {\"colorbar\": {\"outlinewidth\": 0, \"ticks\": \"\"}}, \"type\": \"scattergeo\"}], \"scattergl\": [{\"marker\": {\"colorbar\": {\"outlinewidth\": 0, \"ticks\": \"\"}}, \"type\": \"scattergl\"}], \"scattermapbox\": [{\"marker\": {\"colorbar\": {\"outlinewidth\": 0, \"ticks\": \"\"}}, \"type\": \"scattermapbox\"}], \"scatterpolar\": [{\"marker\": {\"colorbar\": {\"outlinewidth\": 0, \"ticks\": \"\"}}, \"type\": \"scatterpolar\"}], \"scatterpolargl\": [{\"marker\": {\"colorbar\": {\"outlinewidth\": 0, \"ticks\": \"\"}}, \"type\": \"scatterpolargl\"}], \"scatterternary\": [{\"marker\": {\"colorbar\": {\"outlinewidth\": 0, \"ticks\": \"\"}}, \"type\": \"scatterternary\"}], \"surface\": [{\"colorbar\": {\"outlinewidth\": 0, \"ticks\": \"\"}, \"colorscale\": [[0.0, \"#0d0887\"], [0.1111111111111111, \"#46039f\"], [0.2222222222222222, \"#7201a8\"], [0.3333333333333333, \"#9c179e\"], [0.4444444444444444, \"#bd3786\"], [0.5555555555555556, \"#d8576b\"], [0.6666666666666666, \"#ed7953\"], [0.7777777777777778, \"#fb9f3a\"], [0.8888888888888888, \"#fdca26\"], [1.0, \"#f0f921\"]], \"type\": \"surface\"}], \"table\": [{\"cells\": {\"fill\": {\"color\": \"#EBF0F8\"}, \"line\": {\"color\": \"white\"}}, \"header\": {\"fill\": {\"color\": \"#C8D4E3\"}, \"line\": {\"color\": \"white\"}}, \"type\": \"table\"}]}, \"layout\": {\"annotationdefaults\": {\"arrowcolor\": \"#2a3f5f\", \"arrowhead\": 0, \"arrowwidth\": 1}, \"coloraxis\": {\"colorbar\": {\"outlinewidth\": 0, \"ticks\": \"\"}}, \"colorscale\": {\"diverging\": [[0, \"#8e0152\"], [0.1, \"#c51b7d\"], [0.2, \"#de77ae\"], [0.3, \"#f1b6da\"], [0.4, \"#fde0ef\"], [0.5, \"#f7f7f7\"], [0.6, \"#e6f5d0\"], [0.7, \"#b8e186\"], [0.8, \"#7fbc41\"], [0.9, \"#4d9221\"], [1, \"#276419\"]], \"sequential\": [[0.0, \"#0d0887\"], [0.1111111111111111, \"#46039f\"], [0.2222222222222222, \"#7201a8\"], [0.3333333333333333, \"#9c179e\"], [0.4444444444444444, \"#bd3786\"], [0.5555555555555556, \"#d8576b\"], [0.6666666666666666, \"#ed7953\"], [0.7777777777777778, \"#fb9f3a\"], [0.8888888888888888, \"#fdca26\"], [1.0, \"#f0f921\"]], \"sequentialminus\": [[0.0, \"#0d0887\"], [0.1111111111111111, \"#46039f\"], [0.2222222222222222, \"#7201a8\"], [0.3333333333333333, \"#9c179e\"], [0.4444444444444444, \"#bd3786\"], [0.5555555555555556, \"#d8576b\"], [0.6666666666666666, \"#ed7953\"], [0.7777777777777778, \"#fb9f3a\"], [0.8888888888888888, \"#fdca26\"], [1.0, \"#f0f921\"]]}, \"colorway\": [\"#636efa\", \"#EF553B\", \"#00cc96\", \"#ab63fa\", \"#FFA15A\", \"#19d3f3\", \"#FF6692\", \"#B6E880\", \"#FF97FF\", \"#FECB52\"], \"font\": {\"color\": \"#2a3f5f\"}, \"geo\": {\"bgcolor\": \"white\", \"lakecolor\": \"white\", \"landcolor\": \"#E5ECF6\", \"showlakes\": true, \"showland\": true, \"subunitcolor\": \"white\"}, \"hoverlabel\": {\"align\": \"left\"}, \"hovermode\": \"closest\", \"mapbox\": {\"style\": \"light\"}, \"paper_bgcolor\": \"white\", \"plot_bgcolor\": \"#E5ECF6\", \"polar\": {\"angularaxis\": {\"gridcolor\": \"white\", \"linecolor\": \"white\", \"ticks\": \"\"}, \"bgcolor\": \"#E5ECF6\", \"radialaxis\": {\"gridcolor\": \"white\", \"linecolor\": \"white\", \"ticks\": \"\"}}, \"scene\": {\"xaxis\": {\"backgroundcolor\": \"#E5ECF6\", \"gridcolor\": \"white\", \"gridwidth\": 2, \"linecolor\": \"white\", \"showbackground\": true, \"ticks\": \"\", \"zerolinecolor\": \"white\"}, \"yaxis\": {\"backgroundcolor\": \"#E5ECF6\", \"gridcolor\": \"white\", \"gridwidth\": 2, \"linecolor\": \"white\", \"showbackground\": true, \"ticks\": \"\", \"zerolinecolor\": \"white\"}, \"zaxis\": {\"backgroundcolor\": \"#E5ECF6\", \"gridcolor\": \"white\", \"gridwidth\": 2, \"linecolor\": \"white\", \"showbackground\": true, \"ticks\": \"\", \"zerolinecolor\": \"white\"}}, \"shapedefaults\": {\"line\": {\"color\": \"#2a3f5f\"}}, \"ternary\": {\"aaxis\": {\"gridcolor\": \"white\", \"linecolor\": \"white\", \"ticks\": \"\"}, \"baxis\": {\"gridcolor\": \"white\", \"linecolor\": \"white\", \"ticks\": \"\"}, \"bgcolor\": \"#E5ECF6\", \"caxis\": {\"gridcolor\": \"white\", \"linecolor\": \"white\", \"ticks\": \"\"}}, \"title\": {\"x\": 0.05}, \"xaxis\": {\"automargin\": true, \"gridcolor\": \"white\", \"linecolor\": \"white\", \"ticks\": \"\", \"title\": {\"standoff\": 15}, \"zerolinecolor\": \"white\", \"zerolinewidth\": 2}, \"yaxis\": {\"automargin\": true, \"gridcolor\": \"white\", \"linecolor\": \"white\", \"ticks\": \"\", \"title\": {\"standoff\": 15}, \"zerolinecolor\": \"white\", \"zerolinewidth\": 2}}}, \"width\": 680},\n                        {\"responsive\": true}\n                    ).then(function(){\n                            \nvar gd = document.getElementById('fb03bf84-a45a-4abc-9b3d-e458b4dbd72c');\nvar x = new MutationObserver(function (mutations, observer) {{\n        var display = window.getComputedStyle(gd).display;\n        if (!display || display === 'none') {{\n            console.log([gd, 'removed!']);\n            Plotly.purge(gd);\n            observer.disconnect();\n        }}\n}});\n\n// Listen for the removal of the full notebook cells\nvar notebookContainer = gd.closest('#notebook-container');\nif (notebookContainer) {{\n    x.observe(notebookContainer, {childList: true});\n}}\n\n// Listen for the clearing of the current output cell\nvar outputEl = gd.closest('.output');\nif (outputEl) {{\n    x.observe(outputEl, {childList: true});\n}}\n\n                        })\n                };\n                });\n            </script>\n        </div>"
     },
     "metadata": {},
     "output_type": "display_data"
    }
   ],
   "source": [
    "info = pd.read_excel('database.xlsx', sheet_name='Details')\n",
    "\n",
    "year_str = info['Year'].astype(str)\n",
    "info['Study'] = info['First author'] + ' et al., ' + year_str\n",
    "info['Study'] = info.groupby('Study')['Study'].apply(lambda n: n+list(map(chr,np.arange(len(n))+97))\n",
    "                                                     if len(n)>1 else n)\n",
    "info['Number of studies'] = np.ones((len(info),1))\n",
    "info = info.sort_values('Study')\n",
    "\n",
    "info['Link'] = info['DOI']\n",
    "info['Link'].replace('http',\"\"\"<a style='color:white' href='http\"\"\",\n",
    "                    inplace=True, regex=True)\n",
    "info['Link'] = info['Link'] + \"\"\"'>->Go to the paper</a>\"\"\"\n",
    "\n",
    "fields = ['Approach', 'Magnetic field', 'MRI measure(s)',\n",
    "          'Histology/microscopy measure', 'Specific structure(s)']\n",
    "info['Summary'] = info['Link'] + '<br><br>'\n",
    "for i in fields:\n",
    "    info['Summary'] = info['Summary'] + i + ': ' + info[i].astype(str) + '<br><br>'\n",
    "\n",
    "args = dict(data_frame=info, values='Number of studies',\n",
    "            color='Number of studies', hover_data='',\n",
    "            path=['Focus', 'Tissue condition', 'Human/animal', 'Condition', 'Study'],\n",
    "            color_continuous_scale='Viridis')\n",
    "args = px._core.build_dataframe(args, go.Treemap)\n",
    "treemap_df = px._core.process_dataframe_hierarchy(args)['data_frame']\n",
    "\n",
    "fig2 = go.Figure(go.Treemap(\n",
    "        ids=treemap_df['id'].tolist(),\n",
    "        labels=treemap_df['labels'].tolist(),\n",
    "        parents=treemap_df['parent'].tolist(),\n",
    "        values=treemap_df['Number of studies'].tolist(),\n",
    "        branchvalues='total',\n",
    "        text=info['Summary'],\n",
    "        hoverinfo='label',\n",
    "        textfont=dict(\n",
    "            size=15,\n",
    "        )\n",
    "    )\n",
    ")\n",
    "\n",
    "fig2 = fig2.update_layout(\n",
    "    autosize=False,\n",
    "    width=680,\n",
    "    height=600,\n",
    "    margin=dict(\n",
    "        l=0,\n",
    "        r=0,\n",
    "        t=0,\n",
    "        b=45,\n",
    "    )\n",
    ")\n",
    "\n",
    "plot(insertLogo(fig2,0.03,0.03,0.99,-0.02,-0.093,0.03), filename = 'fig2.html',config = config)\n",
    "# display(HTML('fig2.html'))\n",
    "\n",
    "# fig2.show()\n",
    "plotly.offline.iplot(fig2, filename=\"Figure 2\")\n",
    "\n"
   ],
   "metadata": {
    "collapsed": false,
    "pycharm": {
     "name": "#%%\n"
    }
   }
  },
  {
   "cell_type": "markdown",
   "source": [
    "### Figure 3"
   ],
   "metadata": {
    "collapsed": false
   }
  },
  {
   "cell_type": "code",
   "execution_count": 15,
   "outputs": [
    {
     "data": {
      "application/vnd.plotly.v1+json": {
       "config": {
        "linkText": "Export to plot.ly",
        "plotlyServerURL": "https://plot.ly",
        "showLink": false
       },
       "data": [
        {
         "line": {
          "color": "rgba(0,0,0,0)"
         },
         "marker": {
          "color": "rgb(127, 60, 141)",
          "size": [
           8.246211251235321,
           10.954451150103322,
           17.88854381999832,
           15.491933384829668,
           12.0,
           13.856406460551018,
           14.966629547095765,
           6.324555320336759,
           10.0,
           17.663521732655695,
           9.16515138991168,
           14.966629547095765,
           10.0,
           13.856406460551018,
           17.88854381999832,
           6.324555320336759,
           8.94427190999916,
           12.0,
           7.745966692414834,
           8.246211251235321,
           10.954451150103322,
           6.928203230275509,
           8.48528137423857,
           9.16515138991168,
           13.856406460551018,
           15.491933384829668,
           12.0,
           6.6332495807108,
           10.0,
           6.324555320336759,
           14.966629547095765,
           13.856406460551018,
           6.6332495807108,
           17.88854381999832,
           13.856406460551018,
           9.16515138991168,
           10.954451150103322,
           12.0,
           8.246211251235321,
           17.663521732655695,
           17.663521732655695,
           6.324555320336759,
           8.246211251235321,
           8.94427190999916,
           7.745966692414834,
           9.16515138991168,
           17.88854381999832,
           7.745966692414834,
           15.491933384829668,
           9.16515138991168,
           13.856406460551018,
           12.0,
           10.954451150103322,
           10.0,
           17.663521732655695,
           14.966629547095765,
           9.16515138991168,
           9.16515138991168,
           17.663521732655695
          ]
         },
         "mode": "markers",
         "name": "Diffusion",
         "opacity": 0.6,
         "text": [
          "Study: Aojula et al., 2016<br>Measure: AD<br>Number of subjects: 17.0<br>ROIs per subject: 1.0<br>Total number of samples: 17.0",
          "Study: Schmierer et al., 2008<br>Measure: AD<br>Number of subjects: 15.0<br>ROIs per subject: 2.0<br>Total number of samples: 30.0",
          "Study: Lehto et al., 2017a<br>Measure: AD<br>Number of subjects: 20.0<br>ROIs per subject: 4.0<br>Total number of samples: 80.0",
          "Study: Abe et al., 2019<br>Measure: AD<br>Number of subjects: 5.0<br>ROIs per subject: 12.0<br>Total number of samples: 60.0",
          "Study: Wendel et al., 2018<br>Measure: AD<br>Number of subjects: 12.0<br>ROIs per subject: 3.0<br>Total number of samples: 36.0",
          "Study: Janve et al., 2013<br>Measure: AD<br>Number of subjects: 8.0<br>ROIs per subject: 6.0<br>Total number of samples: 48.0",
          "Study: Chang et al., 2017<br>Measure: AD<br>Number of subjects: 4.0<br>ROIs per subject: 14.0<br>Total number of samples: 56.0",
          "Study: Thiessen et al., 2013<br>Measure: AD<br>Number of subjects: 10.0<br>ROIs per subject: 1.0<br>Total number of samples: 10.0",
          "Study: Tu et al., 2016<br>Measure: AD<br>Number of subjects: 25.0<br>ROIs per subject: 1.0<br>Total number of samples: 25.0",
          "Study: Kelm et al., 2016<br>Measure: AWF<br>Number of subjects: 13.0<br>ROIs per subject: 6.0<br>Total number of samples: 78.0",
          "Study: Jelescu et al., 2016<br>Measure: AWF<br>Number of subjects: 21.0<br>ROIs per subject: 1.0<br>Total number of samples: 21.0",
          "Study: Chang et al., 2017<br>Measure: FA<br>Number of subjects: 4.0<br>ROIs per subject: 14.0<br>Total number of samples: 56.0",
          "Study: Tu et al., 2016<br>Measure: FA<br>Number of subjects: 25.0<br>ROIs per subject: 1.0<br>Total number of samples: 25.0",
          "Study: Janve et al., 2013<br>Measure: FA<br>Number of subjects: 8.0<br>ROIs per subject: 6.0<br>Total number of samples: 48.0",
          "Study: Lehto et al., 2017a<br>Measure: FA<br>Number of subjects: 20.0<br>ROIs per subject: 4.0<br>Total number of samples: 80.0",
          "Study: Thiessen et al., 2013<br>Measure: FA<br>Number of subjects: 10.0<br>ROIs per subject: 1.0<br>Total number of samples: 10.0",
          "Study: Chandran et al., 2012<br>Measure: FA<br>Number of subjects: 20.0<br>ROIs per subject: 1.0<br>Total number of samples: 20.0",
          "Study: Wendel et al., 2018<br>Measure: FA<br>Number of subjects: 12.0<br>ROIs per subject: 3.0<br>Total number of samples: 36.0",
          "Study: Wang et al., 2009<br>Measure: FA<br>Number of subjects: 15.0<br>ROIs per subject: 1.0<br>Total number of samples: 15.0",
          "Study: Aojula et al., 2016<br>Measure: FA<br>Number of subjects: 17.0<br>ROIs per subject: 1.0<br>Total number of samples: 17.0",
          "Study: Schmierer et al., 2008<br>Measure: FA<br>Number of subjects: 15.0<br>ROIs per subject: 2.0<br>Total number of samples: 30.0",
          "Study: van Tilborg et al., 2017<br>Measure: FA<br>Number of subjects: 12.0<br>ROIs per subject: 1.0<br>Total number of samples: 12.0",
          "Study: Mollink et al., 2019<br>Measure: FA<br>Number of subjects: 18.0<br>ROIs per subject: 1.0<br>Total number of samples: 18.0",
          "Study: Yano et al., 2018<br>Measure: FA<br>Number of subjects: 21.0<br>ROIs per subject: 1.0<br>Total number of samples: 21.0",
          "Study: Schmierer et al., 2007b<br>Measure: FA<br>Number of subjects: 16.0<br>ROIs per subject: 3.0<br>Total number of samples: 48.0",
          "Study: Abe et al., 2019<br>Measure: FA<br>Number of subjects: 5.0<br>ROIs per subject: 12.0<br>Total number of samples: 60.0",
          "Study: Jito et al., 2008<br>Measure: FA<br>Number of subjects: 36.0<br>ROIs per subject: 1.0<br>Total number of samples: 36.0",
          "Study: Pol et al., 2019<br>Measure: FA<br>Number of subjects: 11.0<br>ROIs per subject: 1.0<br>Total number of samples: 11.0",
          "Study: Tu et al., 2016<br>Measure: MD<br>Number of subjects: 25.0<br>ROIs per subject: 1.0<br>Total number of samples: 25.0",
          "Study: Thiessen et al., 2013<br>Measure: MD<br>Number of subjects: 10.0<br>ROIs per subject: 1.0<br>Total number of samples: 10.0",
          "Study: Chang et al., 2017<br>Measure: MD<br>Number of subjects: 4.0<br>ROIs per subject: 14.0<br>Total number of samples: 56.0",
          "Study: Janve et al., 2013<br>Measure: MD<br>Number of subjects: 8.0<br>ROIs per subject: 6.0<br>Total number of samples: 48.0",
          "Study: Pol et al., 2019<br>Measure: MD<br>Number of subjects: 11.0<br>ROIs per subject: 1.0<br>Total number of samples: 11.0",
          "Study: Lehto et al., 2017a<br>Measure: MD<br>Number of subjects: 20.0<br>ROIs per subject: 4.0<br>Total number of samples: 80.0",
          "Study: Schmierer et al., 2007b<br>Measure: MD<br>Number of subjects: 16.0<br>ROIs per subject: 3.0<br>Total number of samples: 48.0",
          "Study: Yano et al., 2018<br>Measure: MD<br>Number of subjects: 21.0<br>ROIs per subject: 1.0<br>Total number of samples: 21.0",
          "Study: Schmierer et al., 2008<br>Measure: MD<br>Number of subjects: 15.0<br>ROIs per subject: 2.0<br>Total number of samples: 30.0",
          "Study: Wendel et al., 2018<br>Measure: MD<br>Number of subjects: 12.0<br>ROIs per subject: 3.0<br>Total number of samples: 36.0",
          "Study: Aojula et al., 2016<br>Measure: MD<br>Number of subjects: 17.0<br>ROIs per subject: 1.0<br>Total number of samples: 17.0",
          "Study: Kelm et al., 2016<br>Measure: MD<br>Number of subjects: 13.0<br>ROIs per subject: 6.0<br>Total number of samples: 78.0",
          "Study: Kelm et al., 2016<br>Measure: MK<br>Number of subjects: 13.0<br>ROIs per subject: 6.0<br>Total number of samples: 78.0",
          "Study: Thiessen et al., 2013<br>Measure: RD<br>Number of subjects: 10.0<br>ROIs per subject: 1.0<br>Total number of samples: 10.0",
          "Study: Aojula et al., 2016<br>Measure: RD<br>Number of subjects: 17.0<br>ROIs per subject: 1.0<br>Total number of samples: 17.0",
          "Study: Chandran et al., 2012<br>Measure: RD<br>Number of subjects: 20.0<br>ROIs per subject: 1.0<br>Total number of samples: 20.0",
          "Study: Wang et al., 2009<br>Measure: RD<br>Number of subjects: 15.0<br>ROIs per subject: 1.0<br>Total number of samples: 15.0",
          "Study: Yano et al., 2018<br>Measure: RD<br>Number of subjects: 21.0<br>ROIs per subject: 1.0<br>Total number of samples: 21.0",
          "Study: Lehto et al., 2017a<br>Measure: RD<br>Number of subjects: 20.0<br>ROIs per subject: 4.0<br>Total number of samples: 80.0",
          "Study: Soustelle et al., 2019<br>Measure: RD<br>Number of subjects: 15.0<br>ROIs per subject: 1.0<br>Total number of samples: 15.0",
          "Study: Abe et al., 2019<br>Measure: RD<br>Number of subjects: 5.0<br>ROIs per subject: 12.0<br>Total number of samples: 60.0",
          "Study: Jelescu et al., 2016<br>Measure: RD<br>Number of subjects: 21.0<br>ROIs per subject: 1.0<br>Total number of samples: 21.0",
          "Study: Janve et al., 2013<br>Measure: RD<br>Number of subjects: 8.0<br>ROIs per subject: 6.0<br>Total number of samples: 48.0",
          "Study: Wendel et al., 2018<br>Measure: RD<br>Number of subjects: 12.0<br>ROIs per subject: 3.0<br>Total number of samples: 36.0",
          "Study: Schmierer et al., 2008<br>Measure: RD<br>Number of subjects: 15.0<br>ROIs per subject: 2.0<br>Total number of samples: 30.0",
          "Study: Tu et al., 2016<br>Measure: RD<br>Number of subjects: 25.0<br>ROIs per subject: 1.0<br>Total number of samples: 25.0",
          "Study: Kelm et al., 2016<br>Measure: RD<br>Number of subjects: 13.0<br>ROIs per subject: 6.0<br>Total number of samples: 78.0",
          "Study: Chang et al., 2017<br>Measure: RD<br>Number of subjects: 4.0<br>ROIs per subject: 14.0<br>Total number of samples: 56.0",
          "Study: Jelescu et al., 2016<br>Measure: RDe<br>Number of subjects: 21.0<br>ROIs per subject: 1.0<br>Total number of samples: 21.0",
          "Study: Jelescu et al., 2016<br>Measure: RK<br>Number of subjects: 21.0<br>ROIs per subject: 1.0<br>Total number of samples: 21.0",
          "Study: Kelm et al., 2016<br>Measure: RK<br>Number of subjects: 13.0<br>ROIs per subject: 6.0<br>Total number of samples: 78.0"
         ],
         "type": "scatter",
         "x": [
          "AD",
          "AD",
          "AD",
          "AD",
          "AD",
          "AD",
          "AD",
          "AD",
          "AD",
          "AWF",
          "AWF",
          "FA",
          "FA",
          "FA",
          "FA",
          "FA",
          "FA",
          "FA",
          "FA",
          "FA",
          "FA",
          "FA",
          "FA",
          "FA",
          "FA",
          "FA",
          "FA",
          "FA",
          "MD",
          "MD",
          "MD",
          "MD",
          "MD",
          "MD",
          "MD",
          "MD",
          "MD",
          "MD",
          "MD",
          "MD",
          "MK",
          "RD",
          "RD",
          "RD",
          "RD",
          "RD",
          "RD",
          "RD",
          "RD",
          "RD",
          "RD",
          "RD",
          "RD",
          "RD",
          "RD",
          "RD",
          "RDe",
          "RK",
          "RK"
         ],
         "y": [
          0.1296,
          0.64,
          0.4199,
          0.0121,
          0.1987,
          0.0064,
          0.1482,
          0.5625,
          1.0E-4,
          0.3364,
          0.3025,
          0.1989,
          0.0169,
          0.0729,
          0.2237,
          0.7056,
          0.5,
          0.5707,
          0.4637,
          0.1197,
          0.6889,
          0.334,
          0.2704,
          0.7569,
          0.6241000000000001,
          0.1024,
          0.7327,
          0.0576,
          0.0289,
          0.6561,
          0.0129,
          0.0784,
          0.3481,
          0.3492,
          0.4624000000000001,
          0.5329,
          0.6084,
          0.0564,
          0.245,
          0.1225,
          0.2304,
          0.7569,
          0.2097,
          0.34,
          0.2787,
          0.8281,
          0.0015,
          0.49,
          0.1681,
          0.5041,
          0.2401,
          0.2973,
          0.6561,
          0.2116,
          0.1369,
          0.038,
          0.25,
          0.0196,
          0.2401
         ]
        },
        {
         "line": {
          "color": "rgba(0,0,0,0)"
         },
         "marker": {
          "color": "rgb(17, 165, 121)",
          "size": [
           13.856406460551018,
           21.166010488516726,
           10.954451150103322,
           6.0,
           21.071307505705477,
           15.491933384829668,
           6.324555320336759,
           7.745966692414834,
           7.211102550927978,
           7.745966692414834,
           15.491933384829668,
           9.797958971132712,
           9.16515138991168,
           10.954451150103322,
           9.16515138991168,
           21.071307505705477,
           17.88854381999832,
           14.696938456699069,
           8.48528137423857,
           11.313708498984761,
           15.491933384829668,
           48.98979485566356,
           8.94427190999916,
           8.0,
           10.0,
           6.0,
           6.0,
           15.491933384829668,
           13.856406460551018,
           6.324555320336759,
           6.324555320336759,
           6.324555320336759,
           21.071307505705477,
           9.16515138991168,
           6.324555320336759,
           6.324555320336759,
           13.856406460551018
          ]
         },
         "mode": "markers",
         "name": "Magnetization transfer",
         "opacity": 0.6,
         "text": [
          "Study: Janve et al., 2013<br>Measure: MPF<br>Number of subjects: 8.0<br>ROIs per subject: 6.0<br>Total number of samples: 48.0",
          "Study: Khodanovic et al., 2017<br>Measure: MPF<br>Number of subjects: 14.0<br>ROIs per subject: 8.0<br>Total number of samples: 112.0",
          "Study: Schmierer et al., 2008<br>Measure: MPF<br>Number of subjects: 15.0<br>ROIs per subject: 2.0<br>Total number of samples: 30.0",
          "Study: Underhill et al., 2011<br>Measure: MPF<br>Number of subjects: 1.0<br>ROIs per subject: 9.0<br>Total number of samples: 9.0",
          "Study: Schmierer et al., 2007a<br>Measure: MPF<br>Number of subjects: 37.0<br>ROIs per subject: 3.0<br>Total number of samples: 111.0",
          "Study: West et al., 2018<br>Measure: MPF<br>Number of subjects: 15.0<br>ROIs per subject: 4.0<br>Total number of samples: 60.0",
          "Study: Thiessen et al., 2013<br>Measure: MPF<br>Number of subjects: 10.0<br>ROIs per subject: 1.0<br>Total number of samples: 10.0",
          "Study: Soustelle et al., 2019<br>Measure: MPF<br>Number of subjects: 15.0<br>ROIs per subject: 1.0<br>Total number of samples: 15.0",
          "Study: Khodanovic et al., 2019<br>Measure: MPF<br>Number of subjects: 13.0<br>ROIs per subject: 1.0<br>Total number of samples: 13.0",
          "Study: Turati et al., 2015<br>Measure: MPF<br>Number of subjects: 15.0<br>ROIs per subject: 1.0<br>Total number of samples: 15.0",
          "Study: Schmierer et al., 2004<br>Measure: MTR<br>Number of subjects: 20.0<br>ROIs per subject: 3.0<br>Total number of samples: 60.0",
          "Study: Fjaer et al., 2015<br>Measure: MTR<br>Number of subjects: 24.0<br>ROIs per subject: 1.0<br>Total number of samples: 24.0",
          "Study: Jelescu et al., 2016<br>Measure: MTR<br>Number of subjects: 21.0<br>ROIs per subject: 1.0<br>Total number of samples: 21.0",
          "Study: Schmierer et al., 2008<br>Measure: MTR<br>Number of subjects: 15.0<br>ROIs per subject: 2.0<br>Total number of samples: 30.0",
          "Study: Duhamel et al., 2019<br>Measure: MTR<br>Number of subjects: 3.0<br>ROIs per subject: 7.0<br>Total number of samples: 21.0",
          "Study: Schmierer et al., 2007a<br>Measure: MTR<br>Number of subjects: 37.0<br>ROIs per subject: 3.0<br>Total number of samples: 111.0",
          "Study: Lehto et al., 2017a<br>Measure: MTR<br>Number of subjects: 20.0<br>ROIs per subject: 4.0<br>Total number of samples: 80.0",
          "Study: Fjaer et al., 2013<br>Measure: MTR<br>Number of subjects: 54.0<br>ROIs per subject: 1.0<br>Total number of samples: 54.0",
          "Study: Tardif et al., 2012<br>Measure: MTR<br>Number of subjects: 1.0<br>ROIs per subject: 18.0<br>Total number of samples: 18.0",
          "Study: Lehto et al., 2017b<br>Measure: MTR<br>Number of subjects: 2.0<br>ROIs per subject: 16.0<br>Total number of samples: 32.0",
          "Study: Hakkarainen et al., 2016<br>Measure: MTR<br>Number of subjects: 5.0<br>ROIs per subject: 12.0<br>Total number of samples: 60.0",
          "Study: Fatemi et al., 2011<br>Measure: MTR<br>Number of subjects: 24.0<br>ROIs per subject: 25.0<br>Total number of samples: 600.0",
          "Study: Beckmann et al., 2018<br>Measure: MTR<br>Number of subjects: 20.0<br>ROIs per subject: 1.0<br>Total number of samples: 20.0",
          "Study: Zaaraoui et al., 2008<br>Measure: MTR<br>Number of subjects: 16.0<br>ROIs per subject: 1.0<br>Total number of samples: 16.0",
          "Study: Tu et al., 2016<br>Measure: MTR<br>Number of subjects: 25.0<br>ROIs per subject: 1.0<br>Total number of samples: 25.0",
          "Study: Guglielmetti et al., 2020<br>Measure: MTR<br>Number of subjects: 1.0<br>ROIs per subject: 9.0<br>Total number of samples: 9.0",
          "Study: Guglielmetti et al., 2020<br>Measure: MTR-UTE<br>Number of subjects: 1.0<br>ROIs per subject: 9.0<br>Total number of samples: 9.0",
          "Study: West et al., 2018<br>Measure: MVF-MT<br>Number of subjects: 15.0<br>ROIs per subject: 4.0<br>Total number of samples: 60.0",
          "Study: Janve et al., 2013<br>Measure: R1f<br>Number of subjects: 8.0<br>ROIs per subject: 6.0<br>Total number of samples: 48.0",
          "Study: Thiessen et al., 2013<br>Measure: R1f<br>Number of subjects: 10.0<br>ROIs per subject: 1.0<br>Total number of samples: 10.0",
          "Study: Thiessen et al., 2013<br>Measure: T2f<br>Number of subjects: 10.0<br>ROIs per subject: 1.0<br>Total number of samples: 10.0",
          "Study: Thiessen et al., 2013<br>Measure: T2m<br>Number of subjects: 10.0<br>ROIs per subject: 1.0<br>Total number of samples: 10.0",
          "Study: Schmierer et al., 2007a<br>Measure: T2m<br>Number of subjects: 37.0<br>ROIs per subject: 3.0<br>Total number of samples: 111.0",
          "Study: Duhamel et al., 2019<br>Measure: ihMTR<br>Number of subjects: 3.0<br>ROIs per subject: 7.0<br>Total number of samples: 21.0",
          "Study: Thiessen et al., 2013<br>Measure: k_fm<br>Number of subjects: 10.0<br>ROIs per subject: 1.0<br>Total number of samples: 10.0",
          "Study: Thiessen et al., 2013<br>Measure: k_mf<br>Number of subjects: 10.0<br>ROIs per subject: 1.0<br>Total number of samples: 10.0",
          "Study: Janve et al., 2013<br>Measure: k_mf<br>Number of subjects: 8.0<br>ROIs per subject: 6.0<br>Total number of samples: 48.0"
         ],
         "type": "scatter",
         "x": [
          "MPF",
          "MPF",
          "MPF",
          "MPF",
          "MPF",
          "MPF",
          "MPF",
          "MPF",
          "MPF",
          "MPF",
          "MTR",
          "MTR",
          "MTR",
          "MTR",
          "MTR",
          "MTR",
          "MTR",
          "MTR",
          "MTR",
          "MTR",
          "MTR",
          "MTR",
          "MTR",
          "MTR",
          "MTR",
          "MTR",
          "MTR-UTE",
          "MVF-MT",
          "R1f",
          "R1f",
          "T2f",
          "T2m",
          "T2m",
          "ihMTR",
          "k_fm",
          "k_mf",
          "k_mf"
         ],
         "y": [
          0.7225,
          0.779,
          0.7396,
          0.9801,
          0.6400000000000001,
          0.7,
          0.8649,
          0.7569,
          0.82,
          0.2872,
          0.7055999999999999,
          0.01,
          0.1024,
          0.4624,
          0.78,
          0.7055999999999999,
          0.5169,
          0.338,
          0.36,
          0.94,
          0.34,
          0.695,
          0.7668,
          0.6241000000000001,
          0.1444,
          0.46,
          0.76,
          0.7,
          0.0961,
          0.4356,
          0.36,
          0.1521,
          1.0E-4,
          0.96,
          0.1089,
          0.6724,
          0.0256
         ]
        },
        {
         "line": {
          "color": "rgba(0,0,0,0)"
         },
         "marker": {
          "color": "rgb(57, 105, 172)",
          "size": [
           15.491933384829668,
           8.48528137423857,
           15.491933384829668,
           6.324555320336759,
           21.071307505705477,
           12.489995996796797,
           43.54308211415448,
           10.954451150103322
          ]
         },
         "mode": "markers",
         "name": "T1 relaxometry",
         "opacity": 0.6,
         "text": [
          "Study: Schmierer et al., 2004<br>Measure: T1<br>Number of subjects: 20.0<br>ROIs per subject: 3.0<br>Total number of samples: 60.0",
          "Study: Tardif et al., 2012<br>Measure: T1<br>Number of subjects: 1.0<br>ROIs per subject: 18.0<br>Total number of samples: 18.0",
          "Study: Hakkarainen et al., 2016<br>Measure: T1<br>Number of subjects: 5.0<br>ROIs per subject: 12.0<br>Total number of samples: 60.0",
          "Study: Thiessen et al., 2013<br>Measure: T1<br>Number of subjects: 10.0<br>ROIs per subject: 1.0<br>Total number of samples: 10.0",
          "Study: Schmierer et al., 2007a<br>Measure: T1<br>Number of subjects: 37.0<br>ROIs per subject: 3.0<br>Total number of samples: 111.0",
          "Study: Reeves et al., 2016<br>Measure: T1<br>Number of subjects: 13.0<br>ROIs per subject: 3.0<br>Total number of samples: 39.0",
          "Study: Hametner et al., 2018<br>Measure: T1<br>Number of subjects: 6.0<br>ROIs per subject: 79.0<br>Total number of samples: 474.0",
          "Study: Schmierer et al., 2008<br>Measure: T1<br>Number of subjects: 15.0<br>ROIs per subject: 2.0<br>Total number of samples: 30.0"
         ],
         "type": "scatter",
         "x": [
          "T1",
          "T1",
          "T1",
          "T1",
          "T1",
          "T1",
          "T1",
          "T1"
         ],
         "y": [
          0.48999999999999994,
          0.5929,
          0.77,
          0.4356,
          0.4760999999999999,
          0.27,
          0.3398,
          0.7921
         ]
        },
        {
         "line": {
          "color": "rgba(0,0,0,0)"
         },
         "marker": {
          "color": "rgb(242, 183, 1)",
          "size": [
           15.491933384829668,
           29.597297173897484,
           47.83304297240559,
           15.491933384829668,
           7.745966692414834,
           9.797958971132712,
           9.16515138991168,
           12.489995996796797,
           10.954451150103322,
           15.491933384829668,
           6.324555320336759,
           8.48528137423857
          ]
         },
         "mode": "markers",
         "name": "T2 relaxometry",
         "opacity": 0.6,
         "text": [
          "Study: West et al., 2018<br>Measure: MVF-T2<br>Number of subjects: 15.0<br>ROIs per subject: 4.0<br>Total number of samples: 60.0",
          "Study: Laule et al., 2008<br>Measure: MWF<br>Number of subjects: 3.0<br>ROIs per subject: 73.0<br>Total number of samples: 219.0",
          "Study: Laule et al., 2006<br>Measure: MWF<br>Number of subjects: 13.0<br>ROIs per subject: 44.0<br>Total number of samples: 572.0",
          "Study: West et al., 2018<br>Measure: MWF<br>Number of subjects: 15.0<br>ROIs per subject: 4.0<br>Total number of samples: 60.0",
          "Study: Soustelle et al., 2019<br>Measure: MWF<br>Number of subjects: 15.0<br>ROIs per subject: 1.0<br>Total number of samples: 15.0",
          "Study: Wu et al., 2008<br>Measure: T2<br>Number of subjects: 8.0<br>ROIs per subject: 3.0<br>Total number of samples: 24.0",
          "Study: Jelescu et al., 2016<br>Measure: T2<br>Number of subjects: 21.0<br>ROIs per subject: 1.0<br>Total number of samples: 21.0",
          "Study: Reeves et al., 2016<br>Measure: T2<br>Number of subjects: 13.0<br>ROIs per subject: 3.0<br>Total number of samples: 39.0",
          "Study: Schmierer et al., 2008<br>Measure: T2<br>Number of subjects: 15.0<br>ROIs per subject: 2.0<br>Total number of samples: 30.0",
          "Study: Hakkarainen et al., 2016<br>Measure: T2<br>Number of subjects: 5.0<br>ROIs per subject: 12.0<br>Total number of samples: 60.0",
          "Study: Thiessen et al., 2013<br>Measure: T2<br>Number of subjects: 10.0<br>ROIs per subject: 1.0<br>Total number of samples: 10.0",
          "Study: Tardif et al., 2012<br>Measure: T2<br>Number of subjects: 1.0<br>ROIs per subject: 18.0<br>Total number of samples: 18.0"
         ],
         "type": "scatter",
         "x": [
          "MVF-T2",
          "MWF",
          "MWF",
          "MWF",
          "MWF",
          "T2",
          "T2",
          "T2",
          "T2",
          "T2",
          "T2",
          "T2"
         ],
         "y": [
          0.68,
          0.78,
          0.67,
          0.66,
          0.4624,
          0.5184,
          0.4096,
          0.235,
          0.8464,
          0.18,
          0.0676,
          0.4225
         ]
        },
        {
         "line": {
          "color": "rgba(0,0,0,0)"
         },
         "marker": {
          "color": "rgb(231, 63, 116)",
          "size": [
           4.0,
           8.48528137423857,
           43.54308211415448,
           6.6332495807108,
           43.54308211415448,
           17.88854381999832,
           15.491933384829668,
           15.491933384829668,
           17.88854381999832,
           15.491933384829668,
           7.745966692414834
          ]
         },
         "mode": "markers",
         "name": "Other",
         "opacity": 0.6,
         "text": [
          "Study: Berman et al., 2018<br>Measure: MTV<br>Number of subjects: 4.0<br>ROIs per subject: 1.0<br>Total number of samples: 4.0",
          "Study: Tardif et al., 2012<br>Measure: PD<br>Number of subjects: 1.0<br>ROIs per subject: 18.0<br>Total number of samples: 18.0",
          "Study: Hametner et al., 2018<br>Measure: QSM<br>Number of subjects: 6.0<br>ROIs per subject: 79.0<br>Total number of samples: 474.0",
          "Study: Pol et al., 2019<br>Measure: QSM<br>Number of subjects: 11.0<br>ROIs per subject: 1.0<br>Total number of samples: 11.0",
          "Study: Hametner et al., 2018<br>Measure: R2*<br>Number of subjects: 6.0<br>ROIs per subject: 79.0<br>Total number of samples: 474.0",
          "Study: Lehto et al., 2017a<br>Measure: RAFF<br>Number of subjects: 20.0<br>ROIs per subject: 4.0<br>Total number of samples: 80.0",
          "Study: Hakkarainen et al., 2016<br>Measure: RAFF<br>Number of subjects: 5.0<br>ROIs per subject: 12.0<br>Total number of samples: 60.0",
          "Study: Hakkarainen et al., 2016<br>Measure: T1p<br>Number of subjects: 5.0<br>ROIs per subject: 12.0<br>Total number of samples: 60.0",
          "Study: Lehto et al., 2017a<br>Measure: T1sat<br>Number of subjects: 20.0<br>ROIs per subject: 4.0<br>Total number of samples: 80.0",
          "Study: Hakkarainen et al., 2016<br>Measure: T2p<br>Number of subjects: 5.0<br>ROIs per subject: 12.0<br>Total number of samples: 60.0",
          "Study: Soustelle et al., 2019<br>Measure: rSPF<br>Number of subjects: 15.0<br>ROIs per subject: 1.0<br>Total number of samples: 15.0"
         ],
         "type": "scatter",
         "x": [
          "MTV",
          "PD",
          "QSM",
          "QSM",
          "R2*",
          "RAFF",
          "RAFF",
          "T1p",
          "T1sat",
          "T2p",
          "rSPF"
         ],
         "y": [
          0.74,
          0.3481,
          0.1239,
          0.0361,
          7.0E-4,
          0.552,
          0.84,
          0.63,
          0.49,
          0.34,
          0.7396
         ]
        }
       ],
       "layout": {
        "annotations": [
         {
          "font": {
           "color": "gray",
           "size": 8
          },
          "showarrow": false,
          "text": "<a href=\"https://neurolibre.com\" target=\"_blank\" style=\"color:gray!important\">NeuroLibre</a>",
          "x": 1,
          "xref": "paper",
          "y": -0.25,
          "yref": "paper"
         }
        ],
        "autosize": false,
        "height": 500,
        "images": [
         {
          "opacity": 0.9,
          "sizex": 0.05,
          "sizey": 0.05,
          "source": "https://raw.githubusercontent.com/notebook-factory/brand/main/nlibre_custom2.svg",
          "x": 0.89,
          "xref": "paper",
          "y": -0.198,
          "yref": "paper"
         }
        ],
        "margin": {
         "l": 0
        },
        "template": {
         "data": {
          "bar": [
           {
            "error_x": {
             "color": "#2a3f5f"
            },
            "error_y": {
             "color": "#2a3f5f"
            },
            "marker": {
             "line": {
              "color": "#E5ECF6",
              "width": 0.5
             }
            },
            "type": "bar"
           }
          ],
          "barpolar": [
           {
            "marker": {
             "line": {
              "color": "#E5ECF6",
              "width": 0.5
             }
            },
            "type": "barpolar"
           }
          ],
          "carpet": [
           {
            "aaxis": {
             "endlinecolor": "#2a3f5f",
             "gridcolor": "white",
             "linecolor": "white",
             "minorgridcolor": "white",
             "startlinecolor": "#2a3f5f"
            },
            "baxis": {
             "endlinecolor": "#2a3f5f",
             "gridcolor": "white",
             "linecolor": "white",
             "minorgridcolor": "white",
             "startlinecolor": "#2a3f5f"
            },
            "type": "carpet"
           }
          ],
          "choropleth": [
           {
            "colorbar": {
             "outlinewidth": 0,
             "ticks": ""
            },
            "type": "choropleth"
           }
          ],
          "contour": [
           {
            "colorbar": {
             "outlinewidth": 0,
             "ticks": ""
            },
            "colorscale": [
             [
              0.0,
              "#0d0887"
             ],
             [
              0.1111111111111111,
              "#46039f"
             ],
             [
              0.2222222222222222,
              "#7201a8"
             ],
             [
              0.3333333333333333,
              "#9c179e"
             ],
             [
              0.4444444444444444,
              "#bd3786"
             ],
             [
              0.5555555555555556,
              "#d8576b"
             ],
             [
              0.6666666666666666,
              "#ed7953"
             ],
             [
              0.7777777777777778,
              "#fb9f3a"
             ],
             [
              0.8888888888888888,
              "#fdca26"
             ],
             [
              1.0,
              "#f0f921"
             ]
            ],
            "type": "contour"
           }
          ],
          "contourcarpet": [
           {
            "colorbar": {
             "outlinewidth": 0,
             "ticks": ""
            },
            "type": "contourcarpet"
           }
          ],
          "heatmap": [
           {
            "colorbar": {
             "outlinewidth": 0,
             "ticks": ""
            },
            "colorscale": [
             [
              0.0,
              "#0d0887"
             ],
             [
              0.1111111111111111,
              "#46039f"
             ],
             [
              0.2222222222222222,
              "#7201a8"
             ],
             [
              0.3333333333333333,
              "#9c179e"
             ],
             [
              0.4444444444444444,
              "#bd3786"
             ],
             [
              0.5555555555555556,
              "#d8576b"
             ],
             [
              0.6666666666666666,
              "#ed7953"
             ],
             [
              0.7777777777777778,
              "#fb9f3a"
             ],
             [
              0.8888888888888888,
              "#fdca26"
             ],
             [
              1.0,
              "#f0f921"
             ]
            ],
            "type": "heatmap"
           }
          ],
          "heatmapgl": [
           {
            "colorbar": {
             "outlinewidth": 0,
             "ticks": ""
            },
            "colorscale": [
             [
              0.0,
              "#0d0887"
             ],
             [
              0.1111111111111111,
              "#46039f"
             ],
             [
              0.2222222222222222,
              "#7201a8"
             ],
             [
              0.3333333333333333,
              "#9c179e"
             ],
             [
              0.4444444444444444,
              "#bd3786"
             ],
             [
              0.5555555555555556,
              "#d8576b"
             ],
             [
              0.6666666666666666,
              "#ed7953"
             ],
             [
              0.7777777777777778,
              "#fb9f3a"
             ],
             [
              0.8888888888888888,
              "#fdca26"
             ],
             [
              1.0,
              "#f0f921"
             ]
            ],
            "type": "heatmapgl"
           }
          ],
          "histogram": [
           {
            "marker": {
             "colorbar": {
              "outlinewidth": 0,
              "ticks": ""
             }
            },
            "type": "histogram"
           }
          ],
          "histogram2d": [
           {
            "colorbar": {
             "outlinewidth": 0,
             "ticks": ""
            },
            "colorscale": [
             [
              0.0,
              "#0d0887"
             ],
             [
              0.1111111111111111,
              "#46039f"
             ],
             [
              0.2222222222222222,
              "#7201a8"
             ],
             [
              0.3333333333333333,
              "#9c179e"
             ],
             [
              0.4444444444444444,
              "#bd3786"
             ],
             [
              0.5555555555555556,
              "#d8576b"
             ],
             [
              0.6666666666666666,
              "#ed7953"
             ],
             [
              0.7777777777777778,
              "#fb9f3a"
             ],
             [
              0.8888888888888888,
              "#fdca26"
             ],
             [
              1.0,
              "#f0f921"
             ]
            ],
            "type": "histogram2d"
           }
          ],
          "histogram2dcontour": [
           {
            "colorbar": {
             "outlinewidth": 0,
             "ticks": ""
            },
            "colorscale": [
             [
              0.0,
              "#0d0887"
             ],
             [
              0.1111111111111111,
              "#46039f"
             ],
             [
              0.2222222222222222,
              "#7201a8"
             ],
             [
              0.3333333333333333,
              "#9c179e"
             ],
             [
              0.4444444444444444,
              "#bd3786"
             ],
             [
              0.5555555555555556,
              "#d8576b"
             ],
             [
              0.6666666666666666,
              "#ed7953"
             ],
             [
              0.7777777777777778,
              "#fb9f3a"
             ],
             [
              0.8888888888888888,
              "#fdca26"
             ],
             [
              1.0,
              "#f0f921"
             ]
            ],
            "type": "histogram2dcontour"
           }
          ],
          "mesh3d": [
           {
            "colorbar": {
             "outlinewidth": 0,
             "ticks": ""
            },
            "type": "mesh3d"
           }
          ],
          "parcoords": [
           {
            "line": {
             "colorbar": {
              "outlinewidth": 0,
              "ticks": ""
             }
            },
            "type": "parcoords"
           }
          ],
          "pie": [
           {
            "automargin": true,
            "type": "pie"
           }
          ],
          "scatter": [
           {
            "marker": {
             "colorbar": {
              "outlinewidth": 0,
              "ticks": ""
             }
            },
            "type": "scatter"
           }
          ],
          "scatter3d": [
           {
            "line": {
             "colorbar": {
              "outlinewidth": 0,
              "ticks": ""
             }
            },
            "marker": {
             "colorbar": {
              "outlinewidth": 0,
              "ticks": ""
             }
            },
            "type": "scatter3d"
           }
          ],
          "scattercarpet": [
           {
            "marker": {
             "colorbar": {
              "outlinewidth": 0,
              "ticks": ""
             }
            },
            "type": "scattercarpet"
           }
          ],
          "scattergeo": [
           {
            "marker": {
             "colorbar": {
              "outlinewidth": 0,
              "ticks": ""
             }
            },
            "type": "scattergeo"
           }
          ],
          "scattergl": [
           {
            "marker": {
             "colorbar": {
              "outlinewidth": 0,
              "ticks": ""
             }
            },
            "type": "scattergl"
           }
          ],
          "scattermapbox": [
           {
            "marker": {
             "colorbar": {
              "outlinewidth": 0,
              "ticks": ""
             }
            },
            "type": "scattermapbox"
           }
          ],
          "scatterpolar": [
           {
            "marker": {
             "colorbar": {
              "outlinewidth": 0,
              "ticks": ""
             }
            },
            "type": "scatterpolar"
           }
          ],
          "scatterpolargl": [
           {
            "marker": {
             "colorbar": {
              "outlinewidth": 0,
              "ticks": ""
             }
            },
            "type": "scatterpolargl"
           }
          ],
          "scatterternary": [
           {
            "marker": {
             "colorbar": {
              "outlinewidth": 0,
              "ticks": ""
             }
            },
            "type": "scatterternary"
           }
          ],
          "surface": [
           {
            "colorbar": {
             "outlinewidth": 0,
             "ticks": ""
            },
            "colorscale": [
             [
              0.0,
              "#0d0887"
             ],
             [
              0.1111111111111111,
              "#46039f"
             ],
             [
              0.2222222222222222,
              "#7201a8"
             ],
             [
              0.3333333333333333,
              "#9c179e"
             ],
             [
              0.4444444444444444,
              "#bd3786"
             ],
             [
              0.5555555555555556,
              "#d8576b"
             ],
             [
              0.6666666666666666,
              "#ed7953"
             ],
             [
              0.7777777777777778,
              "#fb9f3a"
             ],
             [
              0.8888888888888888,
              "#fdca26"
             ],
             [
              1.0,
              "#f0f921"
             ]
            ],
            "type": "surface"
           }
          ],
          "table": [
           {
            "cells": {
             "fill": {
              "color": "#EBF0F8"
             },
             "line": {
              "color": "white"
             }
            },
            "header": {
             "fill": {
              "color": "#C8D4E3"
             },
             "line": {
              "color": "white"
             }
            },
            "type": "table"
           }
          ]
         },
         "layout": {
          "annotationdefaults": {
           "arrowcolor": "#2a3f5f",
           "arrowhead": 0,
           "arrowwidth": 1
          },
          "coloraxis": {
           "colorbar": {
            "outlinewidth": 0,
            "ticks": ""
           }
          },
          "colorscale": {
           "diverging": [
            [
             0,
             "#8e0152"
            ],
            [
             0.1,
             "#c51b7d"
            ],
            [
             0.2,
             "#de77ae"
            ],
            [
             0.3,
             "#f1b6da"
            ],
            [
             0.4,
             "#fde0ef"
            ],
            [
             0.5,
             "#f7f7f7"
            ],
            [
             0.6,
             "#e6f5d0"
            ],
            [
             0.7,
             "#b8e186"
            ],
            [
             0.8,
             "#7fbc41"
            ],
            [
             0.9,
             "#4d9221"
            ],
            [
             1,
             "#276419"
            ]
           ],
           "sequential": [
            [
             0.0,
             "#0d0887"
            ],
            [
             0.1111111111111111,
             "#46039f"
            ],
            [
             0.2222222222222222,
             "#7201a8"
            ],
            [
             0.3333333333333333,
             "#9c179e"
            ],
            [
             0.4444444444444444,
             "#bd3786"
            ],
            [
             0.5555555555555556,
             "#d8576b"
            ],
            [
             0.6666666666666666,
             "#ed7953"
            ],
            [
             0.7777777777777778,
             "#fb9f3a"
            ],
            [
             0.8888888888888888,
             "#fdca26"
            ],
            [
             1.0,
             "#f0f921"
            ]
           ],
           "sequentialminus": [
            [
             0.0,
             "#0d0887"
            ],
            [
             0.1111111111111111,
             "#46039f"
            ],
            [
             0.2222222222222222,
             "#7201a8"
            ],
            [
             0.3333333333333333,
             "#9c179e"
            ],
            [
             0.4444444444444444,
             "#bd3786"
            ],
            [
             0.5555555555555556,
             "#d8576b"
            ],
            [
             0.6666666666666666,
             "#ed7953"
            ],
            [
             0.7777777777777778,
             "#fb9f3a"
            ],
            [
             0.8888888888888888,
             "#fdca26"
            ],
            [
             1.0,
             "#f0f921"
            ]
           ]
          },
          "colorway": [
           "#636efa",
           "#EF553B",
           "#00cc96",
           "#ab63fa",
           "#FFA15A",
           "#19d3f3",
           "#FF6692",
           "#B6E880",
           "#FF97FF",
           "#FECB52"
          ],
          "font": {
           "color": "#2a3f5f"
          },
          "geo": {
           "bgcolor": "white",
           "lakecolor": "white",
           "landcolor": "#E5ECF6",
           "showlakes": true,
           "showland": true,
           "subunitcolor": "white"
          },
          "hoverlabel": {
           "align": "left"
          },
          "hovermode": "closest",
          "mapbox": {
           "style": "light"
          },
          "paper_bgcolor": "white",
          "plot_bgcolor": "#E5ECF6",
          "polar": {
           "angularaxis": {
            "gridcolor": "white",
            "linecolor": "white",
            "ticks": ""
           },
           "bgcolor": "#E5ECF6",
           "radialaxis": {
            "gridcolor": "white",
            "linecolor": "white",
            "ticks": ""
           }
          },
          "scene": {
           "xaxis": {
            "backgroundcolor": "#E5ECF6",
            "gridcolor": "white",
            "gridwidth": 2,
            "linecolor": "white",
            "showbackground": true,
            "ticks": "",
            "zerolinecolor": "white"
           },
           "yaxis": {
            "backgroundcolor": "#E5ECF6",
            "gridcolor": "white",
            "gridwidth": 2,
            "linecolor": "white",
            "showbackground": true,
            "ticks": "",
            "zerolinecolor": "white"
           },
           "zaxis": {
            "backgroundcolor": "#E5ECF6",
            "gridcolor": "white",
            "gridwidth": 2,
            "linecolor": "white",
            "showbackground": true,
            "ticks": "",
            "zerolinecolor": "white"
           }
          },
          "shapedefaults": {
           "line": {
            "color": "#2a3f5f"
           }
          },
          "ternary": {
           "aaxis": {
            "gridcolor": "white",
            "linecolor": "white",
            "ticks": ""
           },
           "baxis": {
            "gridcolor": "white",
            "linecolor": "white",
            "ticks": ""
           },
           "bgcolor": "#E5ECF6",
           "caxis": {
            "gridcolor": "white",
            "linecolor": "white",
            "ticks": ""
           }
          },
          "title": {
           "x": 0.05
          },
          "xaxis": {
           "automargin": true,
           "gridcolor": "white",
           "linecolor": "white",
           "ticks": "",
           "title": {
            "standoff": 15
           },
           "zerolinecolor": "white",
           "zerolinewidth": 2
          },
          "yaxis": {
           "automargin": true,
           "gridcolor": "white",
           "linecolor": "white",
           "ticks": "",
           "title": {
            "standoff": 15
           },
           "zerolinecolor": "white",
           "zerolinewidth": 2
          }
         }
        },
        "title": {
         "text": "Figure 3 - R<sup>2</sup> between MRI and histology across measures "
        },
        "width": 800,
        "xaxis": {
         "title": {
          "text": "MRI measure"
         }
        },
        "yaxis": {
         "title": {
          "text": "R<sup>2</sup>"
         }
        }
       }
      },
      "text/html": "<div>\n        \n        \n            <div id=\"28355167-4bb8-452d-9045-6481af8241b8\" class=\"plotly-graph-div\" style=\"height:500px; width:800px;\"></div>\n            <script type=\"text/javascript\">\n                require([\"plotly\"], function(Plotly) {\n                    window.PLOTLYENV=window.PLOTLYENV || {};\n                    \n                if (document.getElementById(\"28355167-4bb8-452d-9045-6481af8241b8\")) {\n                    Plotly.newPlot(\n                        '28355167-4bb8-452d-9045-6481af8241b8',\n                        [{\"line\": {\"color\": \"rgba(0,0,0,0)\"}, \"marker\": {\"color\": \"rgb(127, 60, 141)\", \"size\": [8.246211251235321, 10.954451150103322, 17.88854381999832, 15.491933384829668, 12.0, 13.856406460551018, 14.966629547095765, 6.324555320336759, 10.0, 17.663521732655695, 9.16515138991168, 14.966629547095765, 10.0, 13.856406460551018, 17.88854381999832, 6.324555320336759, 8.94427190999916, 12.0, 7.745966692414834, 8.246211251235321, 10.954451150103322, 6.928203230275509, 8.48528137423857, 9.16515138991168, 13.856406460551018, 15.491933384829668, 12.0, 6.6332495807108, 10.0, 6.324555320336759, 14.966629547095765, 13.856406460551018, 6.6332495807108, 17.88854381999832, 13.856406460551018, 9.16515138991168, 10.954451150103322, 12.0, 8.246211251235321, 17.663521732655695, 17.663521732655695, 6.324555320336759, 8.246211251235321, 8.94427190999916, 7.745966692414834, 9.16515138991168, 17.88854381999832, 7.745966692414834, 15.491933384829668, 9.16515138991168, 13.856406460551018, 12.0, 10.954451150103322, 10.0, 17.663521732655695, 14.966629547095765, 9.16515138991168, 9.16515138991168, 17.663521732655695]}, \"mode\": \"markers\", \"name\": \"Diffusion\", \"opacity\": 0.6, \"text\": [\"Study: Aojula et al., 2016<br>Measure: AD<br>Number of subjects: 17.0<br>ROIs per subject: 1.0<br>Total number of samples: 17.0\", \"Study: Schmierer et al., 2008<br>Measure: AD<br>Number of subjects: 15.0<br>ROIs per subject: 2.0<br>Total number of samples: 30.0\", \"Study: Lehto et al., 2017a<br>Measure: AD<br>Number of subjects: 20.0<br>ROIs per subject: 4.0<br>Total number of samples: 80.0\", \"Study: Abe et al., 2019<br>Measure: AD<br>Number of subjects: 5.0<br>ROIs per subject: 12.0<br>Total number of samples: 60.0\", \"Study: Wendel et al., 2018<br>Measure: AD<br>Number of subjects: 12.0<br>ROIs per subject: 3.0<br>Total number of samples: 36.0\", \"Study: Janve et al., 2013<br>Measure: AD<br>Number of subjects: 8.0<br>ROIs per subject: 6.0<br>Total number of samples: 48.0\", \"Study: Chang et al., 2017<br>Measure: AD<br>Number of subjects: 4.0<br>ROIs per subject: 14.0<br>Total number of samples: 56.0\", \"Study: Thiessen et al., 2013<br>Measure: AD<br>Number of subjects: 10.0<br>ROIs per subject: 1.0<br>Total number of samples: 10.0\", \"Study: Tu et al., 2016<br>Measure: AD<br>Number of subjects: 25.0<br>ROIs per subject: 1.0<br>Total number of samples: 25.0\", \"Study: Kelm et al., 2016<br>Measure: AWF<br>Number of subjects: 13.0<br>ROIs per subject: 6.0<br>Total number of samples: 78.0\", \"Study: Jelescu et al., 2016<br>Measure: AWF<br>Number of subjects: 21.0<br>ROIs per subject: 1.0<br>Total number of samples: 21.0\", \"Study: Chang et al., 2017<br>Measure: FA<br>Number of subjects: 4.0<br>ROIs per subject: 14.0<br>Total number of samples: 56.0\", \"Study: Tu et al., 2016<br>Measure: FA<br>Number of subjects: 25.0<br>ROIs per subject: 1.0<br>Total number of samples: 25.0\", \"Study: Janve et al., 2013<br>Measure: FA<br>Number of subjects: 8.0<br>ROIs per subject: 6.0<br>Total number of samples: 48.0\", \"Study: Lehto et al., 2017a<br>Measure: FA<br>Number of subjects: 20.0<br>ROIs per subject: 4.0<br>Total number of samples: 80.0\", \"Study: Thiessen et al., 2013<br>Measure: FA<br>Number of subjects: 10.0<br>ROIs per subject: 1.0<br>Total number of samples: 10.0\", \"Study: Chandran et al., 2012<br>Measure: FA<br>Number of subjects: 20.0<br>ROIs per subject: 1.0<br>Total number of samples: 20.0\", \"Study: Wendel et al., 2018<br>Measure: FA<br>Number of subjects: 12.0<br>ROIs per subject: 3.0<br>Total number of samples: 36.0\", \"Study: Wang et al., 2009<br>Measure: FA<br>Number of subjects: 15.0<br>ROIs per subject: 1.0<br>Total number of samples: 15.0\", \"Study: Aojula et al., 2016<br>Measure: FA<br>Number of subjects: 17.0<br>ROIs per subject: 1.0<br>Total number of samples: 17.0\", \"Study: Schmierer et al., 2008<br>Measure: FA<br>Number of subjects: 15.0<br>ROIs per subject: 2.0<br>Total number of samples: 30.0\", \"Study: van Tilborg et al., 2017<br>Measure: FA<br>Number of subjects: 12.0<br>ROIs per subject: 1.0<br>Total number of samples: 12.0\", \"Study: Mollink et al., 2019<br>Measure: FA<br>Number of subjects: 18.0<br>ROIs per subject: 1.0<br>Total number of samples: 18.0\", \"Study: Yano et al., 2018<br>Measure: FA<br>Number of subjects: 21.0<br>ROIs per subject: 1.0<br>Total number of samples: 21.0\", \"Study: Schmierer et al., 2007b<br>Measure: FA<br>Number of subjects: 16.0<br>ROIs per subject: 3.0<br>Total number of samples: 48.0\", \"Study: Abe et al., 2019<br>Measure: FA<br>Number of subjects: 5.0<br>ROIs per subject: 12.0<br>Total number of samples: 60.0\", \"Study: Jito et al., 2008<br>Measure: FA<br>Number of subjects: 36.0<br>ROIs per subject: 1.0<br>Total number of samples: 36.0\", \"Study: Pol et al., 2019<br>Measure: FA<br>Number of subjects: 11.0<br>ROIs per subject: 1.0<br>Total number of samples: 11.0\", \"Study: Tu et al., 2016<br>Measure: MD<br>Number of subjects: 25.0<br>ROIs per subject: 1.0<br>Total number of samples: 25.0\", \"Study: Thiessen et al., 2013<br>Measure: MD<br>Number of subjects: 10.0<br>ROIs per subject: 1.0<br>Total number of samples: 10.0\", \"Study: Chang et al., 2017<br>Measure: MD<br>Number of subjects: 4.0<br>ROIs per subject: 14.0<br>Total number of samples: 56.0\", \"Study: Janve et al., 2013<br>Measure: MD<br>Number of subjects: 8.0<br>ROIs per subject: 6.0<br>Total number of samples: 48.0\", \"Study: Pol et al., 2019<br>Measure: MD<br>Number of subjects: 11.0<br>ROIs per subject: 1.0<br>Total number of samples: 11.0\", \"Study: Lehto et al., 2017a<br>Measure: MD<br>Number of subjects: 20.0<br>ROIs per subject: 4.0<br>Total number of samples: 80.0\", \"Study: Schmierer et al., 2007b<br>Measure: MD<br>Number of subjects: 16.0<br>ROIs per subject: 3.0<br>Total number of samples: 48.0\", \"Study: Yano et al., 2018<br>Measure: MD<br>Number of subjects: 21.0<br>ROIs per subject: 1.0<br>Total number of samples: 21.0\", \"Study: Schmierer et al., 2008<br>Measure: MD<br>Number of subjects: 15.0<br>ROIs per subject: 2.0<br>Total number of samples: 30.0\", \"Study: Wendel et al., 2018<br>Measure: MD<br>Number of subjects: 12.0<br>ROIs per subject: 3.0<br>Total number of samples: 36.0\", \"Study: Aojula et al., 2016<br>Measure: MD<br>Number of subjects: 17.0<br>ROIs per subject: 1.0<br>Total number of samples: 17.0\", \"Study: Kelm et al., 2016<br>Measure: MD<br>Number of subjects: 13.0<br>ROIs per subject: 6.0<br>Total number of samples: 78.0\", \"Study: Kelm et al., 2016<br>Measure: MK<br>Number of subjects: 13.0<br>ROIs per subject: 6.0<br>Total number of samples: 78.0\", \"Study: Thiessen et al., 2013<br>Measure: RD<br>Number of subjects: 10.0<br>ROIs per subject: 1.0<br>Total number of samples: 10.0\", \"Study: Aojula et al., 2016<br>Measure: RD<br>Number of subjects: 17.0<br>ROIs per subject: 1.0<br>Total number of samples: 17.0\", \"Study: Chandran et al., 2012<br>Measure: RD<br>Number of subjects: 20.0<br>ROIs per subject: 1.0<br>Total number of samples: 20.0\", \"Study: Wang et al., 2009<br>Measure: RD<br>Number of subjects: 15.0<br>ROIs per subject: 1.0<br>Total number of samples: 15.0\", \"Study: Yano et al., 2018<br>Measure: RD<br>Number of subjects: 21.0<br>ROIs per subject: 1.0<br>Total number of samples: 21.0\", \"Study: Lehto et al., 2017a<br>Measure: RD<br>Number of subjects: 20.0<br>ROIs per subject: 4.0<br>Total number of samples: 80.0\", \"Study: Soustelle et al., 2019<br>Measure: RD<br>Number of subjects: 15.0<br>ROIs per subject: 1.0<br>Total number of samples: 15.0\", \"Study: Abe et al., 2019<br>Measure: RD<br>Number of subjects: 5.0<br>ROIs per subject: 12.0<br>Total number of samples: 60.0\", \"Study: Jelescu et al., 2016<br>Measure: RD<br>Number of subjects: 21.0<br>ROIs per subject: 1.0<br>Total number of samples: 21.0\", \"Study: Janve et al., 2013<br>Measure: RD<br>Number of subjects: 8.0<br>ROIs per subject: 6.0<br>Total number of samples: 48.0\", \"Study: Wendel et al., 2018<br>Measure: RD<br>Number of subjects: 12.0<br>ROIs per subject: 3.0<br>Total number of samples: 36.0\", \"Study: Schmierer et al., 2008<br>Measure: RD<br>Number of subjects: 15.0<br>ROIs per subject: 2.0<br>Total number of samples: 30.0\", \"Study: Tu et al., 2016<br>Measure: RD<br>Number of subjects: 25.0<br>ROIs per subject: 1.0<br>Total number of samples: 25.0\", \"Study: Kelm et al., 2016<br>Measure: RD<br>Number of subjects: 13.0<br>ROIs per subject: 6.0<br>Total number of samples: 78.0\", \"Study: Chang et al., 2017<br>Measure: RD<br>Number of subjects: 4.0<br>ROIs per subject: 14.0<br>Total number of samples: 56.0\", \"Study: Jelescu et al., 2016<br>Measure: RDe<br>Number of subjects: 21.0<br>ROIs per subject: 1.0<br>Total number of samples: 21.0\", \"Study: Jelescu et al., 2016<br>Measure: RK<br>Number of subjects: 21.0<br>ROIs per subject: 1.0<br>Total number of samples: 21.0\", \"Study: Kelm et al., 2016<br>Measure: RK<br>Number of subjects: 13.0<br>ROIs per subject: 6.0<br>Total number of samples: 78.0\"], \"type\": \"scatter\", \"x\": [\"AD\", \"AD\", \"AD\", \"AD\", \"AD\", \"AD\", \"AD\", \"AD\", \"AD\", \"AWF\", \"AWF\", \"FA\", \"FA\", \"FA\", \"FA\", \"FA\", \"FA\", \"FA\", \"FA\", \"FA\", \"FA\", \"FA\", \"FA\", \"FA\", \"FA\", \"FA\", \"FA\", \"FA\", \"MD\", \"MD\", \"MD\", \"MD\", \"MD\", \"MD\", \"MD\", \"MD\", \"MD\", \"MD\", \"MD\", \"MD\", \"MK\", \"RD\", \"RD\", \"RD\", \"RD\", \"RD\", \"RD\", \"RD\", \"RD\", \"RD\", \"RD\", \"RD\", \"RD\", \"RD\", \"RD\", \"RD\", \"RDe\", \"RK\", \"RK\"], \"y\": [0.1296, 0.64, 0.4199, 0.0121, 0.1987, 0.0064, 0.1482, 0.5625, 0.0001, 0.3364, 0.3025, 0.1989, 0.0169, 0.0729, 0.2237, 0.7056, 0.5, 0.5707, 0.4637, 0.1197, 0.6889, 0.334, 0.2704, 0.7569, 0.6241000000000001, 0.1024, 0.7327, 0.0576, 0.0289, 0.6561, 0.0129, 0.0784, 0.3481, 0.3492, 0.4624000000000001, 0.5329, 0.6084, 0.0564, 0.245, 0.1225, 0.2304, 0.7569, 0.2097, 0.34, 0.2787, 0.8281, 0.0015, 0.49, 0.1681, 0.5041, 0.2401, 0.2973, 0.6561, 0.2116, 0.1369, 0.038, 0.25, 0.0196, 0.2401]}, {\"line\": {\"color\": \"rgba(0,0,0,0)\"}, \"marker\": {\"color\": \"rgb(17, 165, 121)\", \"size\": [13.856406460551018, 21.166010488516726, 10.954451150103322, 6.0, 21.071307505705477, 15.491933384829668, 6.324555320336759, 7.745966692414834, 7.211102550927978, 7.745966692414834, 15.491933384829668, 9.797958971132712, 9.16515138991168, 10.954451150103322, 9.16515138991168, 21.071307505705477, 17.88854381999832, 14.696938456699069, 8.48528137423857, 11.313708498984761, 15.491933384829668, 48.98979485566356, 8.94427190999916, 8.0, 10.0, 6.0, 6.0, 15.491933384829668, 13.856406460551018, 6.324555320336759, 6.324555320336759, 6.324555320336759, 21.071307505705477, 9.16515138991168, 6.324555320336759, 6.324555320336759, 13.856406460551018]}, \"mode\": \"markers\", \"name\": \"Magnetization transfer\", \"opacity\": 0.6, \"text\": [\"Study: Janve et al., 2013<br>Measure: MPF<br>Number of subjects: 8.0<br>ROIs per subject: 6.0<br>Total number of samples: 48.0\", \"Study: Khodanovic et al., 2017<br>Measure: MPF<br>Number of subjects: 14.0<br>ROIs per subject: 8.0<br>Total number of samples: 112.0\", \"Study: Schmierer et al., 2008<br>Measure: MPF<br>Number of subjects: 15.0<br>ROIs per subject: 2.0<br>Total number of samples: 30.0\", \"Study: Underhill et al., 2011<br>Measure: MPF<br>Number of subjects: 1.0<br>ROIs per subject: 9.0<br>Total number of samples: 9.0\", \"Study: Schmierer et al., 2007a<br>Measure: MPF<br>Number of subjects: 37.0<br>ROIs per subject: 3.0<br>Total number of samples: 111.0\", \"Study: West et al., 2018<br>Measure: MPF<br>Number of subjects: 15.0<br>ROIs per subject: 4.0<br>Total number of samples: 60.0\", \"Study: Thiessen et al., 2013<br>Measure: MPF<br>Number of subjects: 10.0<br>ROIs per subject: 1.0<br>Total number of samples: 10.0\", \"Study: Soustelle et al., 2019<br>Measure: MPF<br>Number of subjects: 15.0<br>ROIs per subject: 1.0<br>Total number of samples: 15.0\", \"Study: Khodanovic et al., 2019<br>Measure: MPF<br>Number of subjects: 13.0<br>ROIs per subject: 1.0<br>Total number of samples: 13.0\", \"Study: Turati et al., 2015<br>Measure: MPF<br>Number of subjects: 15.0<br>ROIs per subject: 1.0<br>Total number of samples: 15.0\", \"Study: Schmierer et al., 2004<br>Measure: MTR<br>Number of subjects: 20.0<br>ROIs per subject: 3.0<br>Total number of samples: 60.0\", \"Study: Fjaer et al., 2015<br>Measure: MTR<br>Number of subjects: 24.0<br>ROIs per subject: 1.0<br>Total number of samples: 24.0\", \"Study: Jelescu et al., 2016<br>Measure: MTR<br>Number of subjects: 21.0<br>ROIs per subject: 1.0<br>Total number of samples: 21.0\", \"Study: Schmierer et al., 2008<br>Measure: MTR<br>Number of subjects: 15.0<br>ROIs per subject: 2.0<br>Total number of samples: 30.0\", \"Study: Duhamel et al., 2019<br>Measure: MTR<br>Number of subjects: 3.0<br>ROIs per subject: 7.0<br>Total number of samples: 21.0\", \"Study: Schmierer et al., 2007a<br>Measure: MTR<br>Number of subjects: 37.0<br>ROIs per subject: 3.0<br>Total number of samples: 111.0\", \"Study: Lehto et al., 2017a<br>Measure: MTR<br>Number of subjects: 20.0<br>ROIs per subject: 4.0<br>Total number of samples: 80.0\", \"Study: Fjaer et al., 2013<br>Measure: MTR<br>Number of subjects: 54.0<br>ROIs per subject: 1.0<br>Total number of samples: 54.0\", \"Study: Tardif et al., 2012<br>Measure: MTR<br>Number of subjects: 1.0<br>ROIs per subject: 18.0<br>Total number of samples: 18.0\", \"Study: Lehto et al., 2017b<br>Measure: MTR<br>Number of subjects: 2.0<br>ROIs per subject: 16.0<br>Total number of samples: 32.0\", \"Study: Hakkarainen et al., 2016<br>Measure: MTR<br>Number of subjects: 5.0<br>ROIs per subject: 12.0<br>Total number of samples: 60.0\", \"Study: Fatemi et al., 2011<br>Measure: MTR<br>Number of subjects: 24.0<br>ROIs per subject: 25.0<br>Total number of samples: 600.0\", \"Study: Beckmann et al., 2018<br>Measure: MTR<br>Number of subjects: 20.0<br>ROIs per subject: 1.0<br>Total number of samples: 20.0\", \"Study: Zaaraoui et al., 2008<br>Measure: MTR<br>Number of subjects: 16.0<br>ROIs per subject: 1.0<br>Total number of samples: 16.0\", \"Study: Tu et al., 2016<br>Measure: MTR<br>Number of subjects: 25.0<br>ROIs per subject: 1.0<br>Total number of samples: 25.0\", \"Study: Guglielmetti et al., 2020<br>Measure: MTR<br>Number of subjects: 1.0<br>ROIs per subject: 9.0<br>Total number of samples: 9.0\", \"Study: Guglielmetti et al., 2020<br>Measure: MTR-UTE<br>Number of subjects: 1.0<br>ROIs per subject: 9.0<br>Total number of samples: 9.0\", \"Study: West et al., 2018<br>Measure: MVF-MT<br>Number of subjects: 15.0<br>ROIs per subject: 4.0<br>Total number of samples: 60.0\", \"Study: Janve et al., 2013<br>Measure: R1f<br>Number of subjects: 8.0<br>ROIs per subject: 6.0<br>Total number of samples: 48.0\", \"Study: Thiessen et al., 2013<br>Measure: R1f<br>Number of subjects: 10.0<br>ROIs per subject: 1.0<br>Total number of samples: 10.0\", \"Study: Thiessen et al., 2013<br>Measure: T2f<br>Number of subjects: 10.0<br>ROIs per subject: 1.0<br>Total number of samples: 10.0\", \"Study: Thiessen et al., 2013<br>Measure: T2m<br>Number of subjects: 10.0<br>ROIs per subject: 1.0<br>Total number of samples: 10.0\", \"Study: Schmierer et al., 2007a<br>Measure: T2m<br>Number of subjects: 37.0<br>ROIs per subject: 3.0<br>Total number of samples: 111.0\", \"Study: Duhamel et al., 2019<br>Measure: ihMTR<br>Number of subjects: 3.0<br>ROIs per subject: 7.0<br>Total number of samples: 21.0\", \"Study: Thiessen et al., 2013<br>Measure: k_fm<br>Number of subjects: 10.0<br>ROIs per subject: 1.0<br>Total number of samples: 10.0\", \"Study: Thiessen et al., 2013<br>Measure: k_mf<br>Number of subjects: 10.0<br>ROIs per subject: 1.0<br>Total number of samples: 10.0\", \"Study: Janve et al., 2013<br>Measure: k_mf<br>Number of subjects: 8.0<br>ROIs per subject: 6.0<br>Total number of samples: 48.0\"], \"type\": \"scatter\", \"x\": [\"MPF\", \"MPF\", \"MPF\", \"MPF\", \"MPF\", \"MPF\", \"MPF\", \"MPF\", \"MPF\", \"MPF\", \"MTR\", \"MTR\", \"MTR\", \"MTR\", \"MTR\", \"MTR\", \"MTR\", \"MTR\", \"MTR\", \"MTR\", \"MTR\", \"MTR\", \"MTR\", \"MTR\", \"MTR\", \"MTR\", \"MTR-UTE\", \"MVF-MT\", \"R1f\", \"R1f\", \"T2f\", \"T2m\", \"T2m\", \"ihMTR\", \"k_fm\", \"k_mf\", \"k_mf\"], \"y\": [0.7225, 0.779, 0.7396, 0.9801, 0.6400000000000001, 0.7, 0.8649, 0.7569, 0.82, 0.2872, 0.7055999999999999, 0.01, 0.1024, 0.4624, 0.78, 0.7055999999999999, 0.5169, 0.338, 0.36, 0.94, 0.34, 0.695, 0.7668, 0.6241000000000001, 0.1444, 0.46, 0.76, 0.7, 0.0961, 0.4356, 0.36, 0.1521, 0.0001, 0.96, 0.1089, 0.6724, 0.0256]}, {\"line\": {\"color\": \"rgba(0,0,0,0)\"}, \"marker\": {\"color\": \"rgb(57, 105, 172)\", \"size\": [15.491933384829668, 8.48528137423857, 15.491933384829668, 6.324555320336759, 21.071307505705477, 12.489995996796797, 43.54308211415448, 10.954451150103322]}, \"mode\": \"markers\", \"name\": \"T1 relaxometry\", \"opacity\": 0.6, \"text\": [\"Study: Schmierer et al., 2004<br>Measure: T1<br>Number of subjects: 20.0<br>ROIs per subject: 3.0<br>Total number of samples: 60.0\", \"Study: Tardif et al., 2012<br>Measure: T1<br>Number of subjects: 1.0<br>ROIs per subject: 18.0<br>Total number of samples: 18.0\", \"Study: Hakkarainen et al., 2016<br>Measure: T1<br>Number of subjects: 5.0<br>ROIs per subject: 12.0<br>Total number of samples: 60.0\", \"Study: Thiessen et al., 2013<br>Measure: T1<br>Number of subjects: 10.0<br>ROIs per subject: 1.0<br>Total number of samples: 10.0\", \"Study: Schmierer et al., 2007a<br>Measure: T1<br>Number of subjects: 37.0<br>ROIs per subject: 3.0<br>Total number of samples: 111.0\", \"Study: Reeves et al., 2016<br>Measure: T1<br>Number of subjects: 13.0<br>ROIs per subject: 3.0<br>Total number of samples: 39.0\", \"Study: Hametner et al., 2018<br>Measure: T1<br>Number of subjects: 6.0<br>ROIs per subject: 79.0<br>Total number of samples: 474.0\", \"Study: Schmierer et al., 2008<br>Measure: T1<br>Number of subjects: 15.0<br>ROIs per subject: 2.0<br>Total number of samples: 30.0\"], \"type\": \"scatter\", \"x\": [\"T1\", \"T1\", \"T1\", \"T1\", \"T1\", \"T1\", \"T1\", \"T1\"], \"y\": [0.48999999999999994, 0.5929, 0.77, 0.4356, 0.4760999999999999, 0.27, 0.3398, 0.7921]}, {\"line\": {\"color\": \"rgba(0,0,0,0)\"}, \"marker\": {\"color\": \"rgb(242, 183, 1)\", \"size\": [15.491933384829668, 29.597297173897484, 47.83304297240559, 15.491933384829668, 7.745966692414834, 9.797958971132712, 9.16515138991168, 12.489995996796797, 10.954451150103322, 15.491933384829668, 6.324555320336759, 8.48528137423857]}, \"mode\": \"markers\", \"name\": \"T2 relaxometry\", \"opacity\": 0.6, \"text\": [\"Study: West et al., 2018<br>Measure: MVF-T2<br>Number of subjects: 15.0<br>ROIs per subject: 4.0<br>Total number of samples: 60.0\", \"Study: Laule et al., 2008<br>Measure: MWF<br>Number of subjects: 3.0<br>ROIs per subject: 73.0<br>Total number of samples: 219.0\", \"Study: Laule et al., 2006<br>Measure: MWF<br>Number of subjects: 13.0<br>ROIs per subject: 44.0<br>Total number of samples: 572.0\", \"Study: West et al., 2018<br>Measure: MWF<br>Number of subjects: 15.0<br>ROIs per subject: 4.0<br>Total number of samples: 60.0\", \"Study: Soustelle et al., 2019<br>Measure: MWF<br>Number of subjects: 15.0<br>ROIs per subject: 1.0<br>Total number of samples: 15.0\", \"Study: Wu et al., 2008<br>Measure: T2<br>Number of subjects: 8.0<br>ROIs per subject: 3.0<br>Total number of samples: 24.0\", \"Study: Jelescu et al., 2016<br>Measure: T2<br>Number of subjects: 21.0<br>ROIs per subject: 1.0<br>Total number of samples: 21.0\", \"Study: Reeves et al., 2016<br>Measure: T2<br>Number of subjects: 13.0<br>ROIs per subject: 3.0<br>Total number of samples: 39.0\", \"Study: Schmierer et al., 2008<br>Measure: T2<br>Number of subjects: 15.0<br>ROIs per subject: 2.0<br>Total number of samples: 30.0\", \"Study: Hakkarainen et al., 2016<br>Measure: T2<br>Number of subjects: 5.0<br>ROIs per subject: 12.0<br>Total number of samples: 60.0\", \"Study: Thiessen et al., 2013<br>Measure: T2<br>Number of subjects: 10.0<br>ROIs per subject: 1.0<br>Total number of samples: 10.0\", \"Study: Tardif et al., 2012<br>Measure: T2<br>Number of subjects: 1.0<br>ROIs per subject: 18.0<br>Total number of samples: 18.0\"], \"type\": \"scatter\", \"x\": [\"MVF-T2\", \"MWF\", \"MWF\", \"MWF\", \"MWF\", \"T2\", \"T2\", \"T2\", \"T2\", \"T2\", \"T2\", \"T2\"], \"y\": [0.68, 0.78, 0.67, 0.66, 0.4624, 0.5184, 0.4096, 0.235, 0.8464, 0.18, 0.0676, 0.4225]}, {\"line\": {\"color\": \"rgba(0,0,0,0)\"}, \"marker\": {\"color\": \"rgb(231, 63, 116)\", \"size\": [4.0, 8.48528137423857, 43.54308211415448, 6.6332495807108, 43.54308211415448, 17.88854381999832, 15.491933384829668, 15.491933384829668, 17.88854381999832, 15.491933384829668, 7.745966692414834]}, \"mode\": \"markers\", \"name\": \"Other\", \"opacity\": 0.6, \"text\": [\"Study: Berman et al., 2018<br>Measure: MTV<br>Number of subjects: 4.0<br>ROIs per subject: 1.0<br>Total number of samples: 4.0\", \"Study: Tardif et al., 2012<br>Measure: PD<br>Number of subjects: 1.0<br>ROIs per subject: 18.0<br>Total number of samples: 18.0\", \"Study: Hametner et al., 2018<br>Measure: QSM<br>Number of subjects: 6.0<br>ROIs per subject: 79.0<br>Total number of samples: 474.0\", \"Study: Pol et al., 2019<br>Measure: QSM<br>Number of subjects: 11.0<br>ROIs per subject: 1.0<br>Total number of samples: 11.0\", \"Study: Hametner et al., 2018<br>Measure: R2*<br>Number of subjects: 6.0<br>ROIs per subject: 79.0<br>Total number of samples: 474.0\", \"Study: Lehto et al., 2017a<br>Measure: RAFF<br>Number of subjects: 20.0<br>ROIs per subject: 4.0<br>Total number of samples: 80.0\", \"Study: Hakkarainen et al., 2016<br>Measure: RAFF<br>Number of subjects: 5.0<br>ROIs per subject: 12.0<br>Total number of samples: 60.0\", \"Study: Hakkarainen et al., 2016<br>Measure: T1p<br>Number of subjects: 5.0<br>ROIs per subject: 12.0<br>Total number of samples: 60.0\", \"Study: Lehto et al., 2017a<br>Measure: T1sat<br>Number of subjects: 20.0<br>ROIs per subject: 4.0<br>Total number of samples: 80.0\", \"Study: Hakkarainen et al., 2016<br>Measure: T2p<br>Number of subjects: 5.0<br>ROIs per subject: 12.0<br>Total number of samples: 60.0\", \"Study: Soustelle et al., 2019<br>Measure: rSPF<br>Number of subjects: 15.0<br>ROIs per subject: 1.0<br>Total number of samples: 15.0\"], \"type\": \"scatter\", \"x\": [\"MTV\", \"PD\", \"QSM\", \"QSM\", \"R2*\", \"RAFF\", \"RAFF\", \"T1p\", \"T1sat\", \"T2p\", \"rSPF\"], \"y\": [0.74, 0.3481, 0.1239, 0.0361, 0.0007, 0.552, 0.84, 0.63, 0.49, 0.34, 0.7396]}],\n                        {\"annotations\": [{\"font\": {\"color\": \"gray\", \"size\": 8}, \"showarrow\": false, \"text\": \"<a href=\\\"https://neurolibre.com\\\" target=\\\"_blank\\\" style=\\\"color:gray!important\\\">NeuroLibre</a>\", \"x\": 1, \"xref\": \"paper\", \"y\": -0.25, \"yref\": \"paper\"}], \"autosize\": false, \"height\": 500, \"images\": [{\"opacity\": 0.9, \"sizex\": 0.05, \"sizey\": 0.05, \"source\": \"https://raw.githubusercontent.com/notebook-factory/brand/main/nlibre_custom2.svg\", \"x\": 0.89, \"xref\": \"paper\", \"y\": -0.198, \"yref\": \"paper\"}], \"margin\": {\"l\": 0}, \"template\": {\"data\": {\"bar\": [{\"error_x\": {\"color\": \"#2a3f5f\"}, \"error_y\": {\"color\": \"#2a3f5f\"}, \"marker\": {\"line\": {\"color\": \"#E5ECF6\", \"width\": 0.5}}, \"type\": \"bar\"}], \"barpolar\": [{\"marker\": {\"line\": {\"color\": \"#E5ECF6\", \"width\": 0.5}}, \"type\": \"barpolar\"}], \"carpet\": [{\"aaxis\": {\"endlinecolor\": \"#2a3f5f\", \"gridcolor\": \"white\", \"linecolor\": \"white\", \"minorgridcolor\": \"white\", \"startlinecolor\": \"#2a3f5f\"}, \"baxis\": {\"endlinecolor\": \"#2a3f5f\", \"gridcolor\": \"white\", \"linecolor\": \"white\", \"minorgridcolor\": \"white\", \"startlinecolor\": \"#2a3f5f\"}, \"type\": \"carpet\"}], \"choropleth\": [{\"colorbar\": {\"outlinewidth\": 0, \"ticks\": \"\"}, \"type\": \"choropleth\"}], \"contour\": [{\"colorbar\": {\"outlinewidth\": 0, \"ticks\": \"\"}, \"colorscale\": [[0.0, \"#0d0887\"], [0.1111111111111111, \"#46039f\"], [0.2222222222222222, \"#7201a8\"], [0.3333333333333333, \"#9c179e\"], [0.4444444444444444, \"#bd3786\"], [0.5555555555555556, \"#d8576b\"], [0.6666666666666666, \"#ed7953\"], [0.7777777777777778, \"#fb9f3a\"], [0.8888888888888888, \"#fdca26\"], [1.0, \"#f0f921\"]], \"type\": \"contour\"}], \"contourcarpet\": [{\"colorbar\": {\"outlinewidth\": 0, \"ticks\": \"\"}, \"type\": \"contourcarpet\"}], \"heatmap\": [{\"colorbar\": {\"outlinewidth\": 0, \"ticks\": \"\"}, \"colorscale\": [[0.0, \"#0d0887\"], [0.1111111111111111, \"#46039f\"], [0.2222222222222222, \"#7201a8\"], [0.3333333333333333, \"#9c179e\"], [0.4444444444444444, \"#bd3786\"], [0.5555555555555556, \"#d8576b\"], [0.6666666666666666, \"#ed7953\"], [0.7777777777777778, \"#fb9f3a\"], [0.8888888888888888, \"#fdca26\"], [1.0, \"#f0f921\"]], \"type\": \"heatmap\"}], \"heatmapgl\": [{\"colorbar\": {\"outlinewidth\": 0, \"ticks\": \"\"}, \"colorscale\": [[0.0, \"#0d0887\"], [0.1111111111111111, \"#46039f\"], [0.2222222222222222, \"#7201a8\"], [0.3333333333333333, \"#9c179e\"], [0.4444444444444444, \"#bd3786\"], [0.5555555555555556, \"#d8576b\"], [0.6666666666666666, \"#ed7953\"], [0.7777777777777778, \"#fb9f3a\"], [0.8888888888888888, \"#fdca26\"], [1.0, \"#f0f921\"]], \"type\": \"heatmapgl\"}], \"histogram\": [{\"marker\": {\"colorbar\": {\"outlinewidth\": 0, \"ticks\": \"\"}}, \"type\": \"histogram\"}], \"histogram2d\": [{\"colorbar\": {\"outlinewidth\": 0, \"ticks\": \"\"}, \"colorscale\": [[0.0, \"#0d0887\"], [0.1111111111111111, \"#46039f\"], [0.2222222222222222, \"#7201a8\"], [0.3333333333333333, \"#9c179e\"], [0.4444444444444444, \"#bd3786\"], [0.5555555555555556, \"#d8576b\"], [0.6666666666666666, \"#ed7953\"], [0.7777777777777778, \"#fb9f3a\"], [0.8888888888888888, \"#fdca26\"], [1.0, \"#f0f921\"]], \"type\": \"histogram2d\"}], \"histogram2dcontour\": [{\"colorbar\": {\"outlinewidth\": 0, \"ticks\": \"\"}, \"colorscale\": [[0.0, \"#0d0887\"], [0.1111111111111111, \"#46039f\"], [0.2222222222222222, \"#7201a8\"], [0.3333333333333333, \"#9c179e\"], [0.4444444444444444, \"#bd3786\"], [0.5555555555555556, \"#d8576b\"], [0.6666666666666666, \"#ed7953\"], [0.7777777777777778, \"#fb9f3a\"], [0.8888888888888888, \"#fdca26\"], [1.0, \"#f0f921\"]], \"type\": \"histogram2dcontour\"}], \"mesh3d\": [{\"colorbar\": {\"outlinewidth\": 0, \"ticks\": \"\"}, \"type\": \"mesh3d\"}], \"parcoords\": [{\"line\": {\"colorbar\": {\"outlinewidth\": 0, \"ticks\": \"\"}}, \"type\": \"parcoords\"}], \"pie\": [{\"automargin\": true, \"type\": \"pie\"}], \"scatter\": [{\"marker\": {\"colorbar\": {\"outlinewidth\": 0, \"ticks\": \"\"}}, \"type\": \"scatter\"}], \"scatter3d\": [{\"line\": {\"colorbar\": {\"outlinewidth\": 0, \"ticks\": \"\"}}, \"marker\": {\"colorbar\": {\"outlinewidth\": 0, \"ticks\": \"\"}}, \"type\": \"scatter3d\"}], \"scattercarpet\": [{\"marker\": {\"colorbar\": {\"outlinewidth\": 0, \"ticks\": \"\"}}, \"type\": \"scattercarpet\"}], \"scattergeo\": [{\"marker\": {\"colorbar\": {\"outlinewidth\": 0, \"ticks\": \"\"}}, \"type\": \"scattergeo\"}], \"scattergl\": [{\"marker\": {\"colorbar\": {\"outlinewidth\": 0, \"ticks\": \"\"}}, \"type\": \"scattergl\"}], \"scattermapbox\": [{\"marker\": {\"colorbar\": {\"outlinewidth\": 0, \"ticks\": \"\"}}, \"type\": \"scattermapbox\"}], \"scatterpolar\": [{\"marker\": {\"colorbar\": {\"outlinewidth\": 0, \"ticks\": \"\"}}, \"type\": \"scatterpolar\"}], \"scatterpolargl\": [{\"marker\": {\"colorbar\": {\"outlinewidth\": 0, \"ticks\": \"\"}}, \"type\": \"scatterpolargl\"}], \"scatterternary\": [{\"marker\": {\"colorbar\": {\"outlinewidth\": 0, \"ticks\": \"\"}}, \"type\": \"scatterternary\"}], \"surface\": [{\"colorbar\": {\"outlinewidth\": 0, \"ticks\": \"\"}, \"colorscale\": [[0.0, \"#0d0887\"], [0.1111111111111111, \"#46039f\"], [0.2222222222222222, \"#7201a8\"], [0.3333333333333333, \"#9c179e\"], [0.4444444444444444, \"#bd3786\"], [0.5555555555555556, \"#d8576b\"], [0.6666666666666666, \"#ed7953\"], [0.7777777777777778, \"#fb9f3a\"], [0.8888888888888888, \"#fdca26\"], [1.0, \"#f0f921\"]], \"type\": \"surface\"}], \"table\": [{\"cells\": {\"fill\": {\"color\": \"#EBF0F8\"}, \"line\": {\"color\": \"white\"}}, \"header\": {\"fill\": {\"color\": \"#C8D4E3\"}, \"line\": {\"color\": \"white\"}}, \"type\": \"table\"}]}, \"layout\": {\"annotationdefaults\": {\"arrowcolor\": \"#2a3f5f\", \"arrowhead\": 0, \"arrowwidth\": 1}, \"coloraxis\": {\"colorbar\": {\"outlinewidth\": 0, \"ticks\": \"\"}}, \"colorscale\": {\"diverging\": [[0, \"#8e0152\"], [0.1, \"#c51b7d\"], [0.2, \"#de77ae\"], [0.3, \"#f1b6da\"], [0.4, \"#fde0ef\"], [0.5, \"#f7f7f7\"], [0.6, \"#e6f5d0\"], [0.7, \"#b8e186\"], [0.8, \"#7fbc41\"], [0.9, \"#4d9221\"], [1, \"#276419\"]], \"sequential\": [[0.0, \"#0d0887\"], [0.1111111111111111, \"#46039f\"], [0.2222222222222222, \"#7201a8\"], [0.3333333333333333, \"#9c179e\"], [0.4444444444444444, \"#bd3786\"], [0.5555555555555556, \"#d8576b\"], [0.6666666666666666, \"#ed7953\"], [0.7777777777777778, \"#fb9f3a\"], [0.8888888888888888, \"#fdca26\"], [1.0, \"#f0f921\"]], \"sequentialminus\": [[0.0, \"#0d0887\"], [0.1111111111111111, \"#46039f\"], [0.2222222222222222, \"#7201a8\"], [0.3333333333333333, \"#9c179e\"], [0.4444444444444444, \"#bd3786\"], [0.5555555555555556, \"#d8576b\"], [0.6666666666666666, \"#ed7953\"], [0.7777777777777778, \"#fb9f3a\"], [0.8888888888888888, \"#fdca26\"], [1.0, \"#f0f921\"]]}, \"colorway\": [\"#636efa\", \"#EF553B\", \"#00cc96\", \"#ab63fa\", \"#FFA15A\", \"#19d3f3\", \"#FF6692\", \"#B6E880\", \"#FF97FF\", \"#FECB52\"], \"font\": {\"color\": \"#2a3f5f\"}, \"geo\": {\"bgcolor\": \"white\", \"lakecolor\": \"white\", \"landcolor\": \"#E5ECF6\", \"showlakes\": true, \"showland\": true, \"subunitcolor\": \"white\"}, \"hoverlabel\": {\"align\": \"left\"}, \"hovermode\": \"closest\", \"mapbox\": {\"style\": \"light\"}, \"paper_bgcolor\": \"white\", \"plot_bgcolor\": \"#E5ECF6\", \"polar\": {\"angularaxis\": {\"gridcolor\": \"white\", \"linecolor\": \"white\", \"ticks\": \"\"}, \"bgcolor\": \"#E5ECF6\", \"radialaxis\": {\"gridcolor\": \"white\", \"linecolor\": \"white\", \"ticks\": \"\"}}, \"scene\": {\"xaxis\": {\"backgroundcolor\": \"#E5ECF6\", \"gridcolor\": \"white\", \"gridwidth\": 2, \"linecolor\": \"white\", \"showbackground\": true, \"ticks\": \"\", \"zerolinecolor\": \"white\"}, \"yaxis\": {\"backgroundcolor\": \"#E5ECF6\", \"gridcolor\": \"white\", \"gridwidth\": 2, \"linecolor\": \"white\", \"showbackground\": true, \"ticks\": \"\", \"zerolinecolor\": \"white\"}, \"zaxis\": {\"backgroundcolor\": \"#E5ECF6\", \"gridcolor\": \"white\", \"gridwidth\": 2, \"linecolor\": \"white\", \"showbackground\": true, \"ticks\": \"\", \"zerolinecolor\": \"white\"}}, \"shapedefaults\": {\"line\": {\"color\": \"#2a3f5f\"}}, \"ternary\": {\"aaxis\": {\"gridcolor\": \"white\", \"linecolor\": \"white\", \"ticks\": \"\"}, \"baxis\": {\"gridcolor\": \"white\", \"linecolor\": \"white\", \"ticks\": \"\"}, \"bgcolor\": \"#E5ECF6\", \"caxis\": {\"gridcolor\": \"white\", \"linecolor\": \"white\", \"ticks\": \"\"}}, \"title\": {\"x\": 0.05}, \"xaxis\": {\"automargin\": true, \"gridcolor\": \"white\", \"linecolor\": \"white\", \"ticks\": \"\", \"title\": {\"standoff\": 15}, \"zerolinecolor\": \"white\", \"zerolinewidth\": 2}, \"yaxis\": {\"automargin\": true, \"gridcolor\": \"white\", \"linecolor\": \"white\", \"ticks\": \"\", \"title\": {\"standoff\": 15}, \"zerolinecolor\": \"white\", \"zerolinewidth\": 2}}}, \"title\": {\"text\": \"Figure 3 - R<sup>2</sup> between MRI and histology across measures \"}, \"width\": 800, \"xaxis\": {\"title\": {\"text\": \"MRI measure\"}}, \"yaxis\": {\"title\": {\"text\": \"R<sup>2</sup>\"}}},\n                        {\"responsive\": true}\n                    ).then(function(){\n                            \nvar gd = document.getElementById('28355167-4bb8-452d-9045-6481af8241b8');\nvar x = new MutationObserver(function (mutations, observer) {{\n        var display = window.getComputedStyle(gd).display;\n        if (!display || display === 'none') {{\n            console.log([gd, 'removed!']);\n            Plotly.purge(gd);\n            observer.disconnect();\n        }}\n}});\n\n// Listen for the removal of the full notebook cells\nvar notebookContainer = gd.closest('#notebook-container');\nif (notebookContainer) {{\n    x.observe(notebookContainer, {childList: true});\n}}\n\n// Listen for the clearing of the current output cell\nvar outputEl = gd.closest('.output');\nif (outputEl) {{\n    x.observe(outputEl, {childList: true});\n}}\n\n                        })\n                };\n                });\n            </script>\n        </div>"
     },
     "metadata": {},
     "output_type": "display_data"
    }
   ],
   "source": [
    "config={'showLink': False, 'displayModeBar': False}\n",
    "\n",
    "info = pd.read_excel('database.xlsx', sheet_name='Details')\n",
    "\n",
    "year_str = info['Year'].astype(str)\n",
    "info['Study'] = info['First author'] + ' et al., ' + year_str\n",
    "info['Study'] = info.groupby('Study')['Study'].apply(lambda n: n+list(map(chr,np.arange(len(n))+97))\n",
    "                                                     if len(n)>1 else n)\n",
    "info['Number of studies'] = np.ones((len(info),1))\n",
    "info = info.sort_values('Study')\n",
    "\n",
    "info['Link'] = info['DOI']\n",
    "info['Link'].replace('http',\"\"\"<a style='color:white' href='http\"\"\",\n",
    "                    inplace=True, regex=True)\n",
    "info['Link'] = info['Link'] + \"\"\"'>->Go to the paper</a>\"\"\"\n",
    "\n",
    "fields = ['Approach', 'Magnetic field', 'MRI measure(s)',\n",
    "          'Histology/microscopy measure', 'Specific structure(s)']\n",
    "info['Summary'] = info['Link'] + '<br><br>'\n",
    "for i in fields:\n",
    "    info['Summary'] = info['Summary'] + i + ': ' + info[i].astype(str) + '<br><br>'\n",
    "\n",
    "df = pd.DataFrame()\n",
    "data = pd.read_excel('database.xlsx', sheet_name='R^2')\n",
    "\n",
    "measures = data.columns[1:]\n",
    "for _, row in data.iterrows():\n",
    "    measure_avail = {m:value for m, value in zip(measures, row.tolist()[1:])\n",
    "                    if not np.isnan(value)}\n",
    "    for m in measure_avail.keys():\n",
    "        df = df.append([[row.DOI, m, measure_avail[m],\n",
    "                         *info[info.DOI==row.DOI].values.tolist()[0][1:]]])\n",
    "df.columns = ['DOI', 'Measure', 'R^2', *info.columns[1:]]\n",
    "\n",
    "df['ROI per subject'] = pd.to_numeric(df['ROI per subject'], errors='coerce')\n",
    "df['Subjects'] = pd.to_numeric(df['Subjects'], errors='coerce')\n",
    "df = df.dropna(subset=['ROI per subject', 'Subjects'])\n",
    "df = df[df['ROI per subject']<100]\n",
    "df['Sample points'] = df['ROI per subject'] * df['Subjects']\n",
    "\n",
    "df=df.sort_values(by=['Measure'])\n",
    "\n",
    "filtered_df=df[df.Focus=='Brain'].copy()\n",
    "\n",
    "measure_type = {'Diffusion':['RD', 'AD', 'FA', 'MD',\n",
    "                'AWF', 'RK', 'RDe', 'MK'],\n",
    "                'Magnetization transfer':['MTR',\n",
    "                'ihMTR', 'MTR-UTE', 'MPF', 'MVF-MT',\n",
    "                'R1f', 'T2m', 'T2f', 'k_mf','k_fm'],\n",
    "                'T1 relaxometry':['T1'], 'T2 relaxometry':['T2', 'MWF', 'MVF-T2'],\n",
    "                'Other':['QSM', 'R2*', 'rSPF', 'MTV',\n",
    "                'T1p', 'T2p', 'RAFF', 'PD', 'T1sat']}\n",
    "\n",
    "color_dict = {m:plotly.colors.qualitative.Bold[n]\n",
    "              for n,m in enumerate(measure_type.keys())}\n",
    "\n",
    "hover_text = []\n",
    "bubble_size = []\n",
    "\n",
    "for index, row in filtered_df.iterrows():\n",
    "    hover_text.append(('Measure: {measure}<br>'+\n",
    "                      'Number of subjects: {subjects}<br>'+\n",
    "                      'ROIs per subject: {rois}<br>'+\n",
    "                      'Total number of samples: {samples}').format(measure=row['Measure'],\n",
    "                                            subjects=row['Subjects'],\n",
    "                                            rois=row['ROI per subject'],\n",
    "                                            samples=row['Sample points']))\n",
    "    bubble_size.append(2*np.sqrt(row['Sample points']))\n",
    "\n",
    "filtered_df['Details'] = hover_text\n",
    "filtered_df['Size'] = bubble_size\n",
    "\n",
    "fig3 = go.Figure()\n",
    "\n",
    "for m in measure_type.keys():\n",
    "    df_m = filtered_df[filtered_df['Measure'].isin(measure_type[m])]\n",
    "    fig3.add_trace(go.Scatter(\n",
    "                    x=df_m['Measure'],\n",
    "                    y=df_m['R^2'],\n",
    "                    text='Study: ' +\n",
    "                        df_m['Study']+ '<br>' + df_m['Details'],\n",
    "                    mode='markers',\n",
    "                    line = dict(color = 'rgba(0,0,0,0)'),\n",
    "                    marker = dict(color=color_dict[m]),\n",
    "                    marker_size = df_m['Size'],\n",
    "                    opacity=0.6,\n",
    "                    name=m\n",
    "                    ))\n",
    "\n",
    "fig3.update_layout(\n",
    "    title = dict(text=\"Figure 3 - R<sup>2</sup> between MRI and histology across measures \"),\n",
    "    margin=dict(l=0),\n",
    "    xaxis=dict(title='MRI measure'),\n",
    "    yaxis=dict(title='R<sup>2</sup>'),\n",
    "    autosize=False,\n",
    "    width=800,\n",
    "    height=500\n",
    ")\n",
    "\n",
    "plot(insertLogo(fig3,0.05,0.05,1,-0.25,-0.11,0.052), filename = 'fig3.html',config = config)\n",
    "# display(HTML('fig3.html'))\n",
    "\n",
    "# fig3.show()\n",
    "plotly.offline.iplot(fig3, filename=\"Figure 3\")"
   ],
   "metadata": {
    "collapsed": false,
    "pycharm": {
     "name": "#%%\n"
    }
   }
  },
  {
   "cell_type": "markdown",
   "source": [
    "To provide a different way to explore sample size and effect size, we also prepared another treemap, where the studies are organised by measures. For each study, the area of its box is proportional to the sample size, while the color represents the related coefficient of determination.\n",
    "\n",
    "\n",
    "```{admonition} Figure 4\n",
    ":class: tip\n",
    "You can click on each box to expand the related category, and for each study you can find out more details.\n",
    "```"
   ],
   "metadata": {
    "collapsed": false
   }
  },
  {
   "cell_type": "markdown",
   "source": [
    "### Figure 4"
   ],
   "metadata": {
    "collapsed": false
   }
  },
  {
   "cell_type": "code",
   "execution_count": 16,
   "outputs": [
    {
     "data": {
      "application/vnd.plotly.v1+json": {
       "config": {
        "linkText": "Export to plot.ly",
        "plotlyServerURL": "https://plot.ly",
        "showLink": false
       },
       "data": [
        {
         "branchvalues": "total",
         "hoverinfo": "text",
         "hovertext": [
          "Abe et al., 2019<br>R<sup>2</sup>: 0.0121<br>Number of samples: 60.0",
          "Abe et al., 2019<br>R<sup>2</sup>: 0.1024<br>Number of samples: 60.0",
          "Abe et al., 2019<br>R<sup>2</sup>: 0.1681<br>Number of samples: 60.0",
          "Aojula et al., 2016<br>R<sup>2</sup>: 0.1296<br>Number of samples: 17.0",
          "Aojula et al., 2016<br>R<sup>2</sup>: 0.1197<br>Number of samples: 17.0",
          "Aojula et al., 2016<br>R<sup>2</sup>: 0.245<br>Number of samples: 17.0",
          "Aojula et al., 2016<br>R<sup>2</sup>: 0.2097<br>Number of samples: 17.0",
          "Beckmann et al., 2018<br>R<sup>2</sup>: 0.7668<br>Number of samples: 20.0",
          "Berman et al., 2018<br>R<sup>2</sup>: 0.74<br>Number of samples: 4.0",
          "Chandran et al., 2012<br>R<sup>2</sup>: 0.5<br>Number of samples: 20.0",
          "Chandran et al., 2012<br>R<sup>2</sup>: 0.34<br>Number of samples: 20.0",
          "Chang et al., 2017<br>R<sup>2</sup>: 0.1482<br>Number of samples: 56.0",
          "Chang et al., 2017<br>R<sup>2</sup>: 0.1989<br>Number of samples: 56.0",
          "Chang et al., 2017<br>R<sup>2</sup>: 0.0129<br>Number of samples: 56.0",
          "Chang et al., 2017<br>R<sup>2</sup>: 0.038<br>Number of samples: 56.0",
          "Duhamel et al., 2019<br>R<sup>2</sup>: 0.78<br>Number of samples: 21.0",
          "Duhamel et al., 2019<br>R<sup>2</sup>: 0.96<br>Number of samples: 21.0",
          "Fatemi et al., 2011<br>R<sup>2</sup>: 0.695<br>Number of samples: 600.0",
          "Fjaer et al., 2013<br>R<sup>2</sup>: 0.338<br>Number of samples: 54.0",
          "Fjaer et al., 2015<br>R<sup>2</sup>: 0.01<br>Number of samples: 24.0",
          "Guglielmetti et al., 2020<br>R<sup>2</sup>: 0.46<br>Number of samples: 9.0",
          "Guglielmetti et al., 2020<br>R<sup>2</sup>: 0.76<br>Number of samples: 9.0",
          "Hakkarainen et al., 2016<br>R<sup>2</sup>: 0.34<br>Number of samples: 60.0",
          "Hakkarainen et al., 2016<br>R<sup>2</sup>: 0.84<br>Number of samples: 60.0",
          "Hakkarainen et al., 2016<br>R<sup>2</sup>: 0.77<br>Number of samples: 60.0",
          "Hakkarainen et al., 2016<br>R<sup>2</sup>: 0.63<br>Number of samples: 60.0",
          "Hakkarainen et al., 2016<br>R<sup>2</sup>: 0.18<br>Number of samples: 60.0",
          "Hakkarainen et al., 2016<br>R<sup>2</sup>: 0.34<br>Number of samples: 60.0",
          "Hametner et al., 2018<br>R<sup>2</sup>: 0.1239<br>Number of samples: 474.0",
          "Hametner et al., 2018<br>R<sup>2</sup>: 0.0007<br>Number of samples: 474.0",
          "Hametner et al., 2018<br>R<sup>2</sup>: 0.3398<br>Number of samples: 474.0",
          "Janve et al., 2013<br>R<sup>2</sup>: 0.0064<br>Number of samples: 48.0",
          "Janve et al., 2013<br>R<sup>2</sup>: 0.0729<br>Number of samples: 48.0",
          "Janve et al., 2013<br>R<sup>2</sup>: 0.0784<br>Number of samples: 48.0",
          "Janve et al., 2013<br>R<sup>2</sup>: 0.7225<br>Number of samples: 48.0",
          "Janve et al., 2013<br>R<sup>2</sup>: 0.0961<br>Number of samples: 48.0",
          "Janve et al., 2013<br>R<sup>2</sup>: 0.2401<br>Number of samples: 48.0",
          "Janve et al., 2013<br>R<sup>2</sup>: 0.0256<br>Number of samples: 48.0",
          "Jelescu et al., 2016<br>R<sup>2</sup>: 0.3025<br>Number of samples: 21.0",
          "Jelescu et al., 2016<br>R<sup>2</sup>: 0.1024<br>Number of samples: 21.0",
          "Jelescu et al., 2016<br>R<sup>2</sup>: 0.5041<br>Number of samples: 21.0",
          "Jelescu et al., 2016<br>R<sup>2</sup>: 0.25<br>Number of samples: 21.0",
          "Jelescu et al., 2016<br>R<sup>2</sup>: 0.0196<br>Number of samples: 21.0",
          "Jelescu et al., 2016<br>R<sup>2</sup>: 0.4096<br>Number of samples: 21.0",
          "Jito et al., 2008<br>R<sup>2</sup>: 0.7327<br>Number of samples: 36.0",
          "Kelm et al., 2016<br>R<sup>2</sup>: 0.3364<br>Number of samples: 78.0",
          "Kelm et al., 2016<br>R<sup>2</sup>: 0.1225<br>Number of samples: 78.0",
          "Kelm et al., 2016<br>R<sup>2</sup>: 0.2304<br>Number of samples: 78.0",
          "Kelm et al., 2016<br>R<sup>2</sup>: 0.1369<br>Number of samples: 78.0",
          "Kelm et al., 2016<br>R<sup>2</sup>: 0.2401<br>Number of samples: 78.0",
          "Khodanovic et al., 2017<br>R<sup>2</sup>: 0.779<br>Number of samples: 112.0",
          "Khodanovic et al., 2019<br>R<sup>2</sup>: 0.82<br>Number of samples: 13.0",
          "Laule et al., 2006<br>R<sup>2</sup>: 0.67<br>Number of samples: 572.0",
          "Laule et al., 2008<br>R<sup>2</sup>: 0.78<br>Number of samples: 219.0",
          "Lehto et al., 2017a<br>R<sup>2</sup>: 0.4199<br>Number of samples: 80.0",
          "Lehto et al., 2017a<br>R<sup>2</sup>: 0.2237<br>Number of samples: 80.0",
          "Lehto et al., 2017a<br>R<sup>2</sup>: 0.3492<br>Number of samples: 80.0",
          "Lehto et al., 2017a<br>R<sup>2</sup>: 0.5169<br>Number of samples: 80.0",
          "Lehto et al., 2017a<br>R<sup>2</sup>: 0.552<br>Number of samples: 80.0",
          "Lehto et al., 2017a<br>R<sup>2</sup>: 0.0015<br>Number of samples: 80.0",
          "Lehto et al., 2017a<br>R<sup>2</sup>: 0.49<br>Number of samples: 80.0",
          "Lehto et al., 2017b<br>R<sup>2</sup>: 0.94<br>Number of samples: 32.0",
          "Mollink et al., 2019<br>R<sup>2</sup>: 0.2704<br>Number of samples: 18.0",
          "Pol et al., 2019<br>R<sup>2</sup>: 0.0576<br>Number of samples: 11.0",
          "Pol et al., 2019<br>R<sup>2</sup>: 0.3481<br>Number of samples: 11.0",
          "Pol et al., 2019<br>R<sup>2</sup>: 0.0361<br>Number of samples: 11.0",
          "Reeves et al., 2016<br>R<sup>2</sup>: 0.27<br>Number of samples: 39.0",
          "Reeves et al., 2016<br>R<sup>2</sup>: 0.235<br>Number of samples: 39.0",
          "Schmierer et al., 2004<br>R<sup>2</sup>: 0.7055999999999999<br>Number of samples: 60.0",
          "Schmierer et al., 2004<br>R<sup>2</sup>: 0.48999999999999994<br>Number of samples: 60.0",
          "Schmierer et al., 2007a<br>R<sup>2</sup>: 0.6400000000000001<br>Number of samples: 111.0",
          "Schmierer et al., 2007a<br>R<sup>2</sup>: 0.7055999999999999<br>Number of samples: 111.0",
          "Schmierer et al., 2007a<br>R<sup>2</sup>: 0.4760999999999999<br>Number of samples: 111.0",
          "Schmierer et al., 2007a<br>R<sup>2</sup>: 0.0001<br>Number of samples: 111.0",
          "Schmierer et al., 2007b<br>R<sup>2</sup>: 0.6241000000000001<br>Number of samples: 48.0",
          "Schmierer et al., 2007b<br>R<sup>2</sup>: 0.4624000000000001<br>Number of samples: 48.0",
          "Schmierer et al., 2008<br>R<sup>2</sup>: 0.64<br>Number of samples: 30.0",
          "Schmierer et al., 2008<br>R<sup>2</sup>: 0.6889<br>Number of samples: 30.0",
          "Schmierer et al., 2008<br>R<sup>2</sup>: 0.6084<br>Number of samples: 30.0",
          "Schmierer et al., 2008<br>R<sup>2</sup>: 0.7396<br>Number of samples: 30.0",
          "Schmierer et al., 2008<br>R<sup>2</sup>: 0.4624<br>Number of samples: 30.0",
          "Schmierer et al., 2008<br>R<sup>2</sup>: 0.6561<br>Number of samples: 30.0",
          "Schmierer et al., 2008<br>R<sup>2</sup>: 0.7921<br>Number of samples: 30.0",
          "Schmierer et al., 2008<br>R<sup>2</sup>: 0.8464<br>Number of samples: 30.0",
          "Soustelle et al., 2019<br>R<sup>2</sup>: 0.7569<br>Number of samples: 15.0",
          "Soustelle et al., 2019<br>R<sup>2</sup>: 0.4624<br>Number of samples: 15.0",
          "Soustelle et al., 2019<br>R<sup>2</sup>: 0.49<br>Number of samples: 15.0",
          "Soustelle et al., 2019<br>R<sup>2</sup>: 0.7396<br>Number of samples: 15.0",
          "Tardif et al., 2012<br>R<sup>2</sup>: 0.36<br>Number of samples: 18.0",
          "Tardif et al., 2012<br>R<sup>2</sup>: 0.3481<br>Number of samples: 18.0",
          "Tardif et al., 2012<br>R<sup>2</sup>: 0.5929<br>Number of samples: 18.0",
          "Tardif et al., 2012<br>R<sup>2</sup>: 0.4225<br>Number of samples: 18.0",
          "Thiessen et al., 2013<br>R<sup>2</sup>: 0.5625<br>Number of samples: 10.0",
          "Thiessen et al., 2013<br>R<sup>2</sup>: 0.7056<br>Number of samples: 10.0",
          "Thiessen et al., 2013<br>R<sup>2</sup>: 0.6561<br>Number of samples: 10.0",
          "Thiessen et al., 2013<br>R<sup>2</sup>: 0.8649<br>Number of samples: 10.0",
          "Thiessen et al., 2013<br>R<sup>2</sup>: 0.4356<br>Number of samples: 10.0",
          "Thiessen et al., 2013<br>R<sup>2</sup>: 0.7569<br>Number of samples: 10.0",
          "Thiessen et al., 2013<br>R<sup>2</sup>: 0.4356<br>Number of samples: 10.0",
          "Thiessen et al., 2013<br>R<sup>2</sup>: 0.0676<br>Number of samples: 10.0",
          "Thiessen et al., 2013<br>R<sup>2</sup>: 0.36<br>Number of samples: 10.0",
          "Thiessen et al., 2013<br>R<sup>2</sup>: 0.1521<br>Number of samples: 10.0",
          "Thiessen et al., 2013<br>R<sup>2</sup>: 0.1089<br>Number of samples: 10.0",
          "Thiessen et al., 2013<br>R<sup>2</sup>: 0.6724<br>Number of samples: 10.0",
          "Tu et al., 2016<br>R<sup>2</sup>: 0.0001<br>Number of samples: 25.0",
          "Tu et al., 2016<br>R<sup>2</sup>: 0.0169<br>Number of samples: 25.0",
          "Tu et al., 2016<br>R<sup>2</sup>: 0.0289<br>Number of samples: 25.0",
          "Tu et al., 2016<br>R<sup>2</sup>: 0.1444<br>Number of samples: 25.0",
          "Tu et al., 2016<br>R<sup>2</sup>: 0.2116<br>Number of samples: 25.0",
          "Turati et al., 2015<br>R<sup>2</sup>: 0.2872<br>Number of samples: 15.0",
          "Underhill et al., 2011<br>R<sup>2</sup>: 0.9801<br>Number of samples: 9.0",
          "Wang et al., 2009<br>R<sup>2</sup>: 0.4637<br>Number of samples: 15.0",
          "Wang et al., 2009<br>R<sup>2</sup>: 0.2787<br>Number of samples: 15.0",
          "Wendel et al., 2018<br>R<sup>2</sup>: 0.1987<br>Number of samples: 36.0",
          "Wendel et al., 2018<br>R<sup>2</sup>: 0.5707<br>Number of samples: 36.0",
          "Wendel et al., 2018<br>R<sup>2</sup>: 0.0564<br>Number of samples: 36.0",
          "Wendel et al., 2018<br>R<sup>2</sup>: 0.2973<br>Number of samples: 36.0",
          "West et al., 2018<br>R<sup>2</sup>: 0.7<br>Number of samples: 60.0",
          "West et al., 2018<br>R<sup>2</sup>: 0.7<br>Number of samples: 60.0",
          "West et al., 2018<br>R<sup>2</sup>: 0.68<br>Number of samples: 60.0",
          "West et al., 2018<br>R<sup>2</sup>: 0.66<br>Number of samples: 60.0",
          "Wu et al., 2008<br>R<sup>2</sup>: 0.5184<br>Number of samples: 24.0",
          "Yano et al., 2018<br>R<sup>2</sup>: 0.7569<br>Number of samples: 21.0",
          "Yano et al., 2018<br>R<sup>2</sup>: 0.5329<br>Number of samples: 21.0",
          "Yano et al., 2018<br>R<sup>2</sup>: 0.8281<br>Number of samples: 21.0",
          "Zaaraoui et al., 2008<br>R<sup>2</sup>: 0.6241000000000001<br>Number of samples: 16.0",
          "van Tilborg et al., 2017<br>R<sup>2</sup>: 0.334<br>Number of samples: 12.0"
         ],
         "ids": [
          "AD/Abe et al., 2019",
          "FA/Abe et al., 2019",
          "RD/Abe et al., 2019",
          "AD/Aojula et al., 2016",
          "FA/Aojula et al., 2016",
          "MD/Aojula et al., 2016",
          "RD/Aojula et al., 2016",
          "MTR/Beckmann et al., 2018",
          "MTV/Berman et al., 2018",
          "FA/Chandran et al., 2012",
          "RD/Chandran et al., 2012",
          "AD/Chang et al., 2017",
          "FA/Chang et al., 2017",
          "MD/Chang et al., 2017",
          "RD/Chang et al., 2017",
          "MTR/Duhamel et al., 2019",
          "ihMTR/Duhamel et al., 2019",
          "MTR/Fatemi et al., 2011",
          "MTR/Fjaer et al., 2013",
          "MTR/Fjaer et al., 2015",
          "MTR/Guglielmetti et al., 2020",
          "MTR-UTE/Guglielmetti et al., 2020",
          "MTR/Hakkarainen et al., 2016",
          "RAFF/Hakkarainen et al., 2016",
          "T1/Hakkarainen et al., 2016",
          "T1p/Hakkarainen et al., 2016",
          "T2/Hakkarainen et al., 2016",
          "T2p/Hakkarainen et al., 2016",
          "QSM/Hametner et al., 2018",
          "R2*/Hametner et al., 2018",
          "T1/Hametner et al., 2018",
          "AD/Janve et al., 2013",
          "FA/Janve et al., 2013",
          "MD/Janve et al., 2013",
          "MPF/Janve et al., 2013",
          "R1f/Janve et al., 2013",
          "RD/Janve et al., 2013",
          "k_mf/Janve et al., 2013",
          "AWF/Jelescu et al., 2016",
          "MTR/Jelescu et al., 2016",
          "RD/Jelescu et al., 2016",
          "RDe/Jelescu et al., 2016",
          "RK/Jelescu et al., 2016",
          "T2/Jelescu et al., 2016",
          "FA/Jito et al., 2008",
          "AWF/Kelm et al., 2016",
          "MD/Kelm et al., 2016",
          "MK/Kelm et al., 2016",
          "RD/Kelm et al., 2016",
          "RK/Kelm et al., 2016",
          "MPF/Khodanovic et al., 2017",
          "MPF/Khodanovic et al., 2019",
          "MWF/Laule et al., 2006",
          "MWF/Laule et al., 2008",
          "AD/Lehto et al., 2017a",
          "FA/Lehto et al., 2017a",
          "MD/Lehto et al., 2017a",
          "MTR/Lehto et al., 2017a",
          "RAFF/Lehto et al., 2017a",
          "RD/Lehto et al., 2017a",
          "T1sat/Lehto et al., 2017a",
          "MTR/Lehto et al., 2017b",
          "FA/Mollink et al., 2019",
          "FA/Pol et al., 2019",
          "MD/Pol et al., 2019",
          "QSM/Pol et al., 2019",
          "T1/Reeves et al., 2016",
          "T2/Reeves et al., 2016",
          "MTR/Schmierer et al., 2004",
          "T1/Schmierer et al., 2004",
          "MPF/Schmierer et al., 2007a",
          "MTR/Schmierer et al., 2007a",
          "T1/Schmierer et al., 2007a",
          "T2m/Schmierer et al., 2007a",
          "FA/Schmierer et al., 2007b",
          "MD/Schmierer et al., 2007b",
          "AD/Schmierer et al., 2008",
          "FA/Schmierer et al., 2008",
          "MD/Schmierer et al., 2008",
          "MPF/Schmierer et al., 2008",
          "MTR/Schmierer et al., 2008",
          "RD/Schmierer et al., 2008",
          "T1/Schmierer et al., 2008",
          "T2/Schmierer et al., 2008",
          "MPF/Soustelle et al., 2019",
          "MWF/Soustelle et al., 2019",
          "RD/Soustelle et al., 2019",
          "rSPF/Soustelle et al., 2019",
          "MTR/Tardif et al., 2012",
          "PD/Tardif et al., 2012",
          "T1/Tardif et al., 2012",
          "T2/Tardif et al., 2012",
          "AD/Thiessen et al., 2013",
          "FA/Thiessen et al., 2013",
          "MD/Thiessen et al., 2013",
          "MPF/Thiessen et al., 2013",
          "R1f/Thiessen et al., 2013",
          "RD/Thiessen et al., 2013",
          "T1/Thiessen et al., 2013",
          "T2/Thiessen et al., 2013",
          "T2f/Thiessen et al., 2013",
          "T2m/Thiessen et al., 2013",
          "k_fm/Thiessen et al., 2013",
          "k_mf/Thiessen et al., 2013",
          "AD/Tu et al., 2016",
          "FA/Tu et al., 2016",
          "MD/Tu et al., 2016",
          "MTR/Tu et al., 2016",
          "RD/Tu et al., 2016",
          "MPF/Turati et al., 2015",
          "MPF/Underhill et al., 2011",
          "FA/Wang et al., 2009",
          "RD/Wang et al., 2009",
          "AD/Wendel et al., 2018",
          "FA/Wendel et al., 2018",
          "MD/Wendel et al., 2018",
          "RD/Wendel et al., 2018",
          "MPF/West et al., 2018",
          "MVF-MT/West et al., 2018",
          "MVF-T2/West et al., 2018",
          "MWF/West et al., 2018",
          "T2/Wu et al., 2008",
          "FA/Yano et al., 2018",
          "MD/Yano et al., 2018",
          "RD/Yano et al., 2018",
          "MTR/Zaaraoui et al., 2008",
          "FA/van Tilborg et al., 2017",
          "AD",
          "AWF",
          "FA",
          "MD",
          "MK",
          "MPF",
          "MTR",
          "MTR-UTE",
          "MTV",
          "MVF-MT",
          "MVF-T2",
          "MWF",
          "PD",
          "QSM",
          "R1f",
          "R2*",
          "RAFF",
          "RD",
          "RDe",
          "RK",
          "T1",
          "T1p",
          "T1sat",
          "T2",
          "T2f",
          "T2m",
          "T2p",
          "ihMTR",
          "k_fm",
          "k_mf",
          "rSPF"
         ],
         "labels": [
          "Abe et al., 2019",
          "Abe et al., 2019",
          "Abe et al., 2019",
          "Aojula et al., 2016",
          "Aojula et al., 2016",
          "Aojula et al., 2016",
          "Aojula et al., 2016",
          "Beckmann et al., 2018",
          "Berman et al., 2018",
          "Chandran et al., 2012",
          "Chandran et al., 2012",
          "Chang et al., 2017",
          "Chang et al., 2017",
          "Chang et al., 2017",
          "Chang et al., 2017",
          "Duhamel et al., 2019",
          "Duhamel et al., 2019",
          "Fatemi et al., 2011",
          "Fjaer et al., 2013",
          "Fjaer et al., 2015",
          "Guglielmetti et al., 2020",
          "Guglielmetti et al., 2020",
          "Hakkarainen et al., 2016",
          "Hakkarainen et al., 2016",
          "Hakkarainen et al., 2016",
          "Hakkarainen et al., 2016",
          "Hakkarainen et al., 2016",
          "Hakkarainen et al., 2016",
          "Hametner et al., 2018",
          "Hametner et al., 2018",
          "Hametner et al., 2018",
          "Janve et al., 2013",
          "Janve et al., 2013",
          "Janve et al., 2013",
          "Janve et al., 2013",
          "Janve et al., 2013",
          "Janve et al., 2013",
          "Janve et al., 2013",
          "Jelescu et al., 2016",
          "Jelescu et al., 2016",
          "Jelescu et al., 2016",
          "Jelescu et al., 2016",
          "Jelescu et al., 2016",
          "Jelescu et al., 2016",
          "Jito et al., 2008",
          "Kelm et al., 2016",
          "Kelm et al., 2016",
          "Kelm et al., 2016",
          "Kelm et al., 2016",
          "Kelm et al., 2016",
          "Khodanovic et al., 2017",
          "Khodanovic et al., 2019",
          "Laule et al., 2006",
          "Laule et al., 2008",
          "Lehto et al., 2017a",
          "Lehto et al., 2017a",
          "Lehto et al., 2017a",
          "Lehto et al., 2017a",
          "Lehto et al., 2017a",
          "Lehto et al., 2017a",
          "Lehto et al., 2017a",
          "Lehto et al., 2017b",
          "Mollink et al., 2019",
          "Pol et al., 2019",
          "Pol et al., 2019",
          "Pol et al., 2019",
          "Reeves et al., 2016",
          "Reeves et al., 2016",
          "Schmierer et al., 2004",
          "Schmierer et al., 2004",
          "Schmierer et al., 2007a",
          "Schmierer et al., 2007a",
          "Schmierer et al., 2007a",
          "Schmierer et al., 2007a",
          "Schmierer et al., 2007b",
          "Schmierer et al., 2007b",
          "Schmierer et al., 2008",
          "Schmierer et al., 2008",
          "Schmierer et al., 2008",
          "Schmierer et al., 2008",
          "Schmierer et al., 2008",
          "Schmierer et al., 2008",
          "Schmierer et al., 2008",
          "Schmierer et al., 2008",
          "Soustelle et al., 2019",
          "Soustelle et al., 2019",
          "Soustelle et al., 2019",
          "Soustelle et al., 2019",
          "Tardif et al., 2012",
          "Tardif et al., 2012",
          "Tardif et al., 2012",
          "Tardif et al., 2012",
          "Thiessen et al., 2013",
          "Thiessen et al., 2013",
          "Thiessen et al., 2013",
          "Thiessen et al., 2013",
          "Thiessen et al., 2013",
          "Thiessen et al., 2013",
          "Thiessen et al., 2013",
          "Thiessen et al., 2013",
          "Thiessen et al., 2013",
          "Thiessen et al., 2013",
          "Thiessen et al., 2013",
          "Thiessen et al., 2013",
          "Tu et al., 2016",
          "Tu et al., 2016",
          "Tu et al., 2016",
          "Tu et al., 2016",
          "Tu et al., 2016",
          "Turati et al., 2015",
          "Underhill et al., 2011",
          "Wang et al., 2009",
          "Wang et al., 2009",
          "Wendel et al., 2018",
          "Wendel et al., 2018",
          "Wendel et al., 2018",
          "Wendel et al., 2018",
          "West et al., 2018",
          "West et al., 2018",
          "West et al., 2018",
          "West et al., 2018",
          "Wu et al., 2008",
          "Yano et al., 2018",
          "Yano et al., 2018",
          "Yano et al., 2018",
          "Zaaraoui et al., 2008",
          "van Tilborg et al., 2017",
          "AD",
          "AWF",
          "FA",
          "MD",
          "MK",
          "MPF",
          "MTR",
          "MTR-UTE",
          "MTV",
          "MVF-MT",
          "MVF-T2",
          "MWF",
          "PD",
          "QSM",
          "R1f",
          "R2*",
          "RAFF",
          "RD",
          "RDe",
          "RK",
          "T1",
          "T1p",
          "T1sat",
          "T2",
          "T2f",
          "T2m",
          "T2p",
          "ihMTR",
          "k_fm",
          "k_mf",
          "rSPF"
         ],
         "marker": {
          "colorbar": {
           "title": {
            "text": "R<sup>2</sup>"
           }
          },
          "colors": [
           0.0121,
           0.1024,
           0.1681,
           0.1296,
           0.1197,
           0.245,
           0.2097,
           0.7668,
           0.74,
           0.5,
           0.34,
           0.1482,
           0.1989,
           0.0129,
           0.038,
           0.78,
           0.96,
           0.695,
           0.338,
           0.01,
           0.46,
           0.76,
           0.34,
           0.84,
           0.77,
           0.63,
           0.18,
           0.34,
           0.1239,
           7.0E-4,
           0.3398,
           0.0064,
           0.0729,
           0.0784,
           0.7225,
           0.0961,
           0.2401,
           0.0256,
           0.3025,
           0.1024,
           0.5041,
           0.25,
           0.0196,
           0.4096,
           0.7327,
           0.3364,
           0.1225,
           0.2304,
           0.1369,
           0.2401,
           0.779,
           0.82,
           0.67,
           0.78,
           0.4199,
           0.2237,
           0.3492,
           0.5169,
           0.552,
           0.0015,
           0.49,
           0.94,
           0.2704,
           0.0576,
           0.3481,
           0.0361,
           0.27,
           0.235,
           0.7055999999999999,
           0.48999999999999994,
           0.6400000000000001,
           0.7055999999999999,
           0.4760999999999999,
           1.0E-4,
           0.6241000000000001,
           0.4624000000000001,
           0.64,
           0.6889,
           0.6084,
           0.7396,
           0.4624,
           0.6561,
           0.7921,
           0.8464,
           0.7569,
           0.4624,
           0.49,
           0.7396,
           0.36,
           0.3481,
           0.5929,
           0.4225,
           0.5625,
           0.7056,
           0.6561,
           0.8649,
           0.4356,
           0.7569,
           0.4356,
           0.0676,
           0.36,
           0.1521,
           0.1089,
           0.6724,
           1.0E-4,
           0.0169,
           0.0289,
           0.1444,
           0.2116,
           0.2872,
           0.9801,
           0.4637,
           0.2787,
           0.1987,
           0.5707,
           0.0564,
           0.2973,
           0.7,
           0.7,
           0.68,
           0.66,
           0.5184,
           0.7569,
           0.5329,
           0.8281,
           0.6241000000000001,
           0.334
          ],
          "colorscale": [
           [
            0.0,
            "#440154"
           ],
           [
            0.1111111111111111,
            "#482878"
           ],
           [
            0.2222222222222222,
            "#3e4989"
           ],
           [
            0.3333333333333333,
            "#31688e"
           ],
           [
            0.4444444444444444,
            "#26828e"
           ],
           [
            0.5555555555555556,
            "#1f9e89"
           ],
           [
            0.6666666666666666,
            "#35b779"
           ],
           [
            0.7777777777777778,
            "#6ece58"
           ],
           [
            0.8888888888888888,
            "#b5de2b"
           ],
           [
            1.0,
            "#fde725"
           ]
          ],
          "showscale": true
         },
         "parents": [
          "AD",
          "FA",
          "RD",
          "AD",
          "FA",
          "MD",
          "RD",
          "MTR",
          "MTV",
          "FA",
          "RD",
          "AD",
          "FA",
          "MD",
          "RD",
          "MTR",
          "ihMTR",
          "MTR",
          "MTR",
          "MTR",
          "MTR",
          "MTR-UTE",
          "MTR",
          "RAFF",
          "T1",
          "T1p",
          "T2",
          "T2p",
          "QSM",
          "R2*",
          "T1",
          "AD",
          "FA",
          "MD",
          "MPF",
          "R1f",
          "RD",
          "k_mf",
          "AWF",
          "MTR",
          "RD",
          "RDe",
          "RK",
          "T2",
          "FA",
          "AWF",
          "MD",
          "MK",
          "RD",
          "RK",
          "MPF",
          "MPF",
          "MWF",
          "MWF",
          "AD",
          "FA",
          "MD",
          "MTR",
          "RAFF",
          "RD",
          "T1sat",
          "MTR",
          "FA",
          "FA",
          "MD",
          "QSM",
          "T1",
          "T2",
          "MTR",
          "T1",
          "MPF",
          "MTR",
          "T1",
          "T2m",
          "FA",
          "MD",
          "AD",
          "FA",
          "MD",
          "MPF",
          "MTR",
          "RD",
          "T1",
          "T2",
          "MPF",
          "MWF",
          "RD",
          "rSPF",
          "MTR",
          "PD",
          "T1",
          "T2",
          "AD",
          "FA",
          "MD",
          "MPF",
          "R1f",
          "RD",
          "T1",
          "T2",
          "T2f",
          "T2m",
          "k_fm",
          "k_mf",
          "AD",
          "FA",
          "MD",
          "MTR",
          "RD",
          "MPF",
          "MPF",
          "FA",
          "RD",
          "AD",
          "FA",
          "MD",
          "RD",
          "MPF",
          "MVF-MT",
          "MVF-T2",
          "MWF",
          "T2",
          "FA",
          "MD",
          "RD",
          "MTR",
          "FA",
          "",
          "",
          "",
          "",
          "",
          "",
          "",
          "",
          "",
          "",
          "",
          "",
          "",
          "",
          "",
          "",
          "",
          "",
          "",
          "",
          "",
          "",
          "",
          "",
          "",
          "",
          "",
          "",
          "",
          "",
          ""
         ],
         "text": [
          "R<sup>2</sup>: 0.0121<br>Measure: AD<br>Number of subjects: 5.0<br>ROIs per subject: 12.0<br>Total number of samples: 60.0",
          "R<sup>2</sup>: 0.1024<br>Measure: FA<br>Number of subjects: 5.0<br>ROIs per subject: 12.0<br>Total number of samples: 60.0",
          "R<sup>2</sup>: 0.1681<br>Measure: RD<br>Number of subjects: 5.0<br>ROIs per subject: 12.0<br>Total number of samples: 60.0",
          "R<sup>2</sup>: 0.1296<br>Measure: AD<br>Number of subjects: 17.0<br>ROIs per subject: 1.0<br>Total number of samples: 17.0",
          "R<sup>2</sup>: 0.1197<br>Measure: FA<br>Number of subjects: 17.0<br>ROIs per subject: 1.0<br>Total number of samples: 17.0",
          "R<sup>2</sup>: 0.245<br>Measure: MD<br>Number of subjects: 17.0<br>ROIs per subject: 1.0<br>Total number of samples: 17.0",
          "R<sup>2</sup>: 0.2097<br>Measure: RD<br>Number of subjects: 17.0<br>ROIs per subject: 1.0<br>Total number of samples: 17.0",
          "R<sup>2</sup>: 0.7668<br>Measure: MTR<br>Number of subjects: 20.0<br>ROIs per subject: 1.0<br>Total number of samples: 20.0",
          "R<sup>2</sup>: 0.74<br>Measure: MTV<br>Number of subjects: 4.0<br>ROIs per subject: 1.0<br>Total number of samples: 4.0",
          "R<sup>2</sup>: 0.5<br>Measure: FA<br>Number of subjects: 20.0<br>ROIs per subject: 1.0<br>Total number of samples: 20.0",
          "R<sup>2</sup>: 0.34<br>Measure: RD<br>Number of subjects: 20.0<br>ROIs per subject: 1.0<br>Total number of samples: 20.0",
          "R<sup>2</sup>: 0.1482<br>Measure: AD<br>Number of subjects: 4.0<br>ROIs per subject: 14.0<br>Total number of samples: 56.0",
          "R<sup>2</sup>: 0.1989<br>Measure: FA<br>Number of subjects: 4.0<br>ROIs per subject: 14.0<br>Total number of samples: 56.0",
          "R<sup>2</sup>: 0.0129<br>Measure: MD<br>Number of subjects: 4.0<br>ROIs per subject: 14.0<br>Total number of samples: 56.0",
          "R<sup>2</sup>: 0.038<br>Measure: RD<br>Number of subjects: 4.0<br>ROIs per subject: 14.0<br>Total number of samples: 56.0",
          "R<sup>2</sup>: 0.78<br>Measure: MTR<br>Number of subjects: 3.0<br>ROIs per subject: 7.0<br>Total number of samples: 21.0",
          "R<sup>2</sup>: 0.96<br>Measure: ihMTR<br>Number of subjects: 3.0<br>ROIs per subject: 7.0<br>Total number of samples: 21.0",
          "R<sup>2</sup>: 0.695<br>Measure: MTR<br>Number of subjects: 24.0<br>ROIs per subject: 25.0<br>Total number of samples: 600.0",
          "R<sup>2</sup>: 0.338<br>Measure: MTR<br>Number of subjects: 54.0<br>ROIs per subject: 1.0<br>Total number of samples: 54.0",
          "R<sup>2</sup>: 0.01<br>Measure: MTR<br>Number of subjects: 24.0<br>ROIs per subject: 1.0<br>Total number of samples: 24.0",
          "R<sup>2</sup>: 0.46<br>Measure: MTR<br>Number of subjects: 1.0<br>ROIs per subject: 9.0<br>Total number of samples: 9.0",
          "R<sup>2</sup>: 0.76<br>Measure: MTR-UTE<br>Number of subjects: 1.0<br>ROIs per subject: 9.0<br>Total number of samples: 9.0",
          "R<sup>2</sup>: 0.34<br>Measure: MTR<br>Number of subjects: 5.0<br>ROIs per subject: 12.0<br>Total number of samples: 60.0",
          "R<sup>2</sup>: 0.84<br>Measure: RAFF<br>Number of subjects: 5.0<br>ROIs per subject: 12.0<br>Total number of samples: 60.0",
          "R<sup>2</sup>: 0.77<br>Measure: T1<br>Number of subjects: 5.0<br>ROIs per subject: 12.0<br>Total number of samples: 60.0",
          "R<sup>2</sup>: 0.63<br>Measure: T1p<br>Number of subjects: 5.0<br>ROIs per subject: 12.0<br>Total number of samples: 60.0",
          "R<sup>2</sup>: 0.18<br>Measure: T2<br>Number of subjects: 5.0<br>ROIs per subject: 12.0<br>Total number of samples: 60.0",
          "R<sup>2</sup>: 0.34<br>Measure: T2p<br>Number of subjects: 5.0<br>ROIs per subject: 12.0<br>Total number of samples: 60.0",
          "R<sup>2</sup>: 0.1239<br>Measure: QSM<br>Number of subjects: 6.0<br>ROIs per subject: 79.0<br>Total number of samples: 474.0",
          "R<sup>2</sup>: 0.0007<br>Measure: R2*<br>Number of subjects: 6.0<br>ROIs per subject: 79.0<br>Total number of samples: 474.0",
          "R<sup>2</sup>: 0.3398<br>Measure: T1<br>Number of subjects: 6.0<br>ROIs per subject: 79.0<br>Total number of samples: 474.0",
          "R<sup>2</sup>: 0.0064<br>Measure: AD<br>Number of subjects: 8.0<br>ROIs per subject: 6.0<br>Total number of samples: 48.0",
          "R<sup>2</sup>: 0.0729<br>Measure: FA<br>Number of subjects: 8.0<br>ROIs per subject: 6.0<br>Total number of samples: 48.0",
          "R<sup>2</sup>: 0.0784<br>Measure: MD<br>Number of subjects: 8.0<br>ROIs per subject: 6.0<br>Total number of samples: 48.0",
          "R<sup>2</sup>: 0.7225<br>Measure: MPF<br>Number of subjects: 8.0<br>ROIs per subject: 6.0<br>Total number of samples: 48.0",
          "R<sup>2</sup>: 0.0961<br>Measure: R1f<br>Number of subjects: 8.0<br>ROIs per subject: 6.0<br>Total number of samples: 48.0",
          "R<sup>2</sup>: 0.2401<br>Measure: RD<br>Number of subjects: 8.0<br>ROIs per subject: 6.0<br>Total number of samples: 48.0",
          "R<sup>2</sup>: 0.0256<br>Measure: k_mf<br>Number of subjects: 8.0<br>ROIs per subject: 6.0<br>Total number of samples: 48.0",
          "R<sup>2</sup>: 0.3025<br>Measure: AWF<br>Number of subjects: 21.0<br>ROIs per subject: 1.0<br>Total number of samples: 21.0",
          "R<sup>2</sup>: 0.1024<br>Measure: MTR<br>Number of subjects: 21.0<br>ROIs per subject: 1.0<br>Total number of samples: 21.0",
          "R<sup>2</sup>: 0.5041<br>Measure: RD<br>Number of subjects: 21.0<br>ROIs per subject: 1.0<br>Total number of samples: 21.0",
          "R<sup>2</sup>: 0.25<br>Measure: RDe<br>Number of subjects: 21.0<br>ROIs per subject: 1.0<br>Total number of samples: 21.0",
          "R<sup>2</sup>: 0.0196<br>Measure: RK<br>Number of subjects: 21.0<br>ROIs per subject: 1.0<br>Total number of samples: 21.0",
          "R<sup>2</sup>: 0.4096<br>Measure: T2<br>Number of subjects: 21.0<br>ROIs per subject: 1.0<br>Total number of samples: 21.0",
          "R<sup>2</sup>: 0.7327<br>Measure: FA<br>Number of subjects: 36.0<br>ROIs per subject: 1.0<br>Total number of samples: 36.0",
          "R<sup>2</sup>: 0.3364<br>Measure: AWF<br>Number of subjects: 13.0<br>ROIs per subject: 6.0<br>Total number of samples: 78.0",
          "R<sup>2</sup>: 0.1225<br>Measure: MD<br>Number of subjects: 13.0<br>ROIs per subject: 6.0<br>Total number of samples: 78.0",
          "R<sup>2</sup>: 0.2304<br>Measure: MK<br>Number of subjects: 13.0<br>ROIs per subject: 6.0<br>Total number of samples: 78.0",
          "R<sup>2</sup>: 0.1369<br>Measure: RD<br>Number of subjects: 13.0<br>ROIs per subject: 6.0<br>Total number of samples: 78.0",
          "R<sup>2</sup>: 0.2401<br>Measure: RK<br>Number of subjects: 13.0<br>ROIs per subject: 6.0<br>Total number of samples: 78.0",
          "R<sup>2</sup>: 0.779<br>Measure: MPF<br>Number of subjects: 14.0<br>ROIs per subject: 8.0<br>Total number of samples: 112.0",
          "R<sup>2</sup>: 0.82<br>Measure: MPF<br>Number of subjects: 13.0<br>ROIs per subject: 1.0<br>Total number of samples: 13.0",
          "R<sup>2</sup>: 0.67<br>Measure: MWF<br>Number of subjects: 13.0<br>ROIs per subject: 44.0<br>Total number of samples: 572.0",
          "R<sup>2</sup>: 0.78<br>Measure: MWF<br>Number of subjects: 3.0<br>ROIs per subject: 73.0<br>Total number of samples: 219.0",
          "R<sup>2</sup>: 0.4199<br>Measure: AD<br>Number of subjects: 20.0<br>ROIs per subject: 4.0<br>Total number of samples: 80.0",
          "R<sup>2</sup>: 0.2237<br>Measure: FA<br>Number of subjects: 20.0<br>ROIs per subject: 4.0<br>Total number of samples: 80.0",
          "R<sup>2</sup>: 0.3492<br>Measure: MD<br>Number of subjects: 20.0<br>ROIs per subject: 4.0<br>Total number of samples: 80.0",
          "R<sup>2</sup>: 0.5169<br>Measure: MTR<br>Number of subjects: 20.0<br>ROIs per subject: 4.0<br>Total number of samples: 80.0",
          "R<sup>2</sup>: 0.552<br>Measure: RAFF<br>Number of subjects: 20.0<br>ROIs per subject: 4.0<br>Total number of samples: 80.0",
          "R<sup>2</sup>: 0.0015<br>Measure: RD<br>Number of subjects: 20.0<br>ROIs per subject: 4.0<br>Total number of samples: 80.0",
          "R<sup>2</sup>: 0.49<br>Measure: T1sat<br>Number of subjects: 20.0<br>ROIs per subject: 4.0<br>Total number of samples: 80.0",
          "R<sup>2</sup>: 0.94<br>Measure: MTR<br>Number of subjects: 2.0<br>ROIs per subject: 16.0<br>Total number of samples: 32.0",
          "R<sup>2</sup>: 0.2704<br>Measure: FA<br>Number of subjects: 18.0<br>ROIs per subject: 1.0<br>Total number of samples: 18.0",
          "R<sup>2</sup>: 0.0576<br>Measure: FA<br>Number of subjects: 11.0<br>ROIs per subject: 1.0<br>Total number of samples: 11.0",
          "R<sup>2</sup>: 0.3481<br>Measure: MD<br>Number of subjects: 11.0<br>ROIs per subject: 1.0<br>Total number of samples: 11.0",
          "R<sup>2</sup>: 0.0361<br>Measure: QSM<br>Number of subjects: 11.0<br>ROIs per subject: 1.0<br>Total number of samples: 11.0",
          "R<sup>2</sup>: 0.27<br>Measure: T1<br>Number of subjects: 13.0<br>ROIs per subject: 3.0<br>Total number of samples: 39.0",
          "R<sup>2</sup>: 0.235<br>Measure: T2<br>Number of subjects: 13.0<br>ROIs per subject: 3.0<br>Total number of samples: 39.0",
          "R<sup>2</sup>: 0.7055999999999999<br>Measure: MTR<br>Number of subjects: 20.0<br>ROIs per subject: 3.0<br>Total number of samples: 60.0",
          "R<sup>2</sup>: 0.48999999999999994<br>Measure: T1<br>Number of subjects: 20.0<br>ROIs per subject: 3.0<br>Total number of samples: 60.0",
          "R<sup>2</sup>: 0.6400000000000001<br>Measure: MPF<br>Number of subjects: 37.0<br>ROIs per subject: 3.0<br>Total number of samples: 111.0",
          "R<sup>2</sup>: 0.7055999999999999<br>Measure: MTR<br>Number of subjects: 37.0<br>ROIs per subject: 3.0<br>Total number of samples: 111.0",
          "R<sup>2</sup>: 0.4760999999999999<br>Measure: T1<br>Number of subjects: 37.0<br>ROIs per subject: 3.0<br>Total number of samples: 111.0",
          "R<sup>2</sup>: 0.0001<br>Measure: T2m<br>Number of subjects: 37.0<br>ROIs per subject: 3.0<br>Total number of samples: 111.0",
          "R<sup>2</sup>: 0.6241000000000001<br>Measure: FA<br>Number of subjects: 16.0<br>ROIs per subject: 3.0<br>Total number of samples: 48.0",
          "R<sup>2</sup>: 0.4624000000000001<br>Measure: MD<br>Number of subjects: 16.0<br>ROIs per subject: 3.0<br>Total number of samples: 48.0",
          "R<sup>2</sup>: 0.64<br>Measure: AD<br>Number of subjects: 15.0<br>ROIs per subject: 2.0<br>Total number of samples: 30.0",
          "R<sup>2</sup>: 0.6889<br>Measure: FA<br>Number of subjects: 15.0<br>ROIs per subject: 2.0<br>Total number of samples: 30.0",
          "R<sup>2</sup>: 0.6084<br>Measure: MD<br>Number of subjects: 15.0<br>ROIs per subject: 2.0<br>Total number of samples: 30.0",
          "R<sup>2</sup>: 0.7396<br>Measure: MPF<br>Number of subjects: 15.0<br>ROIs per subject: 2.0<br>Total number of samples: 30.0",
          "R<sup>2</sup>: 0.4624<br>Measure: MTR<br>Number of subjects: 15.0<br>ROIs per subject: 2.0<br>Total number of samples: 30.0",
          "R<sup>2</sup>: 0.6561<br>Measure: RD<br>Number of subjects: 15.0<br>ROIs per subject: 2.0<br>Total number of samples: 30.0",
          "R<sup>2</sup>: 0.7921<br>Measure: T1<br>Number of subjects: 15.0<br>ROIs per subject: 2.0<br>Total number of samples: 30.0",
          "R<sup>2</sup>: 0.8464<br>Measure: T2<br>Number of subjects: 15.0<br>ROIs per subject: 2.0<br>Total number of samples: 30.0",
          "R<sup>2</sup>: 0.7569<br>Measure: MPF<br>Number of subjects: 15.0<br>ROIs per subject: 1.0<br>Total number of samples: 15.0",
          "R<sup>2</sup>: 0.4624<br>Measure: MWF<br>Number of subjects: 15.0<br>ROIs per subject: 1.0<br>Total number of samples: 15.0",
          "R<sup>2</sup>: 0.49<br>Measure: RD<br>Number of subjects: 15.0<br>ROIs per subject: 1.0<br>Total number of samples: 15.0",
          "R<sup>2</sup>: 0.7396<br>Measure: rSPF<br>Number of subjects: 15.0<br>ROIs per subject: 1.0<br>Total number of samples: 15.0",
          "R<sup>2</sup>: 0.36<br>Measure: MTR<br>Number of subjects: 1.0<br>ROIs per subject: 18.0<br>Total number of samples: 18.0",
          "R<sup>2</sup>: 0.3481<br>Measure: PD<br>Number of subjects: 1.0<br>ROIs per subject: 18.0<br>Total number of samples: 18.0",
          "R<sup>2</sup>: 0.5929<br>Measure: T1<br>Number of subjects: 1.0<br>ROIs per subject: 18.0<br>Total number of samples: 18.0",
          "R<sup>2</sup>: 0.4225<br>Measure: T2<br>Number of subjects: 1.0<br>ROIs per subject: 18.0<br>Total number of samples: 18.0",
          "R<sup>2</sup>: 0.5625<br>Measure: AD<br>Number of subjects: 10.0<br>ROIs per subject: 1.0<br>Total number of samples: 10.0",
          "R<sup>2</sup>: 0.7056<br>Measure: FA<br>Number of subjects: 10.0<br>ROIs per subject: 1.0<br>Total number of samples: 10.0",
          "R<sup>2</sup>: 0.6561<br>Measure: MD<br>Number of subjects: 10.0<br>ROIs per subject: 1.0<br>Total number of samples: 10.0",
          "R<sup>2</sup>: 0.8649<br>Measure: MPF<br>Number of subjects: 10.0<br>ROIs per subject: 1.0<br>Total number of samples: 10.0",
          "R<sup>2</sup>: 0.4356<br>Measure: R1f<br>Number of subjects: 10.0<br>ROIs per subject: 1.0<br>Total number of samples: 10.0",
          "R<sup>2</sup>: 0.7569<br>Measure: RD<br>Number of subjects: 10.0<br>ROIs per subject: 1.0<br>Total number of samples: 10.0",
          "R<sup>2</sup>: 0.4356<br>Measure: T1<br>Number of subjects: 10.0<br>ROIs per subject: 1.0<br>Total number of samples: 10.0",
          "R<sup>2</sup>: 0.0676<br>Measure: T2<br>Number of subjects: 10.0<br>ROIs per subject: 1.0<br>Total number of samples: 10.0",
          "R<sup>2</sup>: 0.36<br>Measure: T2f<br>Number of subjects: 10.0<br>ROIs per subject: 1.0<br>Total number of samples: 10.0",
          "R<sup>2</sup>: 0.1521<br>Measure: T2m<br>Number of subjects: 10.0<br>ROIs per subject: 1.0<br>Total number of samples: 10.0",
          "R<sup>2</sup>: 0.1089<br>Measure: k_fm<br>Number of subjects: 10.0<br>ROIs per subject: 1.0<br>Total number of samples: 10.0",
          "R<sup>2</sup>: 0.6724<br>Measure: k_mf<br>Number of subjects: 10.0<br>ROIs per subject: 1.0<br>Total number of samples: 10.0",
          "R<sup>2</sup>: 0.0001<br>Measure: AD<br>Number of subjects: 25.0<br>ROIs per subject: 1.0<br>Total number of samples: 25.0",
          "R<sup>2</sup>: 0.0169<br>Measure: FA<br>Number of subjects: 25.0<br>ROIs per subject: 1.0<br>Total number of samples: 25.0",
          "R<sup>2</sup>: 0.0289<br>Measure: MD<br>Number of subjects: 25.0<br>ROIs per subject: 1.0<br>Total number of samples: 25.0",
          "R<sup>2</sup>: 0.1444<br>Measure: MTR<br>Number of subjects: 25.0<br>ROIs per subject: 1.0<br>Total number of samples: 25.0",
          "R<sup>2</sup>: 0.2116<br>Measure: RD<br>Number of subjects: 25.0<br>ROIs per subject: 1.0<br>Total number of samples: 25.0",
          "R<sup>2</sup>: 0.2872<br>Measure: MPF<br>Number of subjects: 15.0<br>ROIs per subject: 1.0<br>Total number of samples: 15.0",
          "R<sup>2</sup>: 0.9801<br>Measure: MPF<br>Number of subjects: 1.0<br>ROIs per subject: 9.0<br>Total number of samples: 9.0",
          "R<sup>2</sup>: 0.4637<br>Measure: FA<br>Number of subjects: 15.0<br>ROIs per subject: 1.0<br>Total number of samples: 15.0",
          "R<sup>2</sup>: 0.2787<br>Measure: RD<br>Number of subjects: 15.0<br>ROIs per subject: 1.0<br>Total number of samples: 15.0",
          "R<sup>2</sup>: 0.1987<br>Measure: AD<br>Number of subjects: 12.0<br>ROIs per subject: 3.0<br>Total number of samples: 36.0",
          "R<sup>2</sup>: 0.5707<br>Measure: FA<br>Number of subjects: 12.0<br>ROIs per subject: 3.0<br>Total number of samples: 36.0",
          "R<sup>2</sup>: 0.0564<br>Measure: MD<br>Number of subjects: 12.0<br>ROIs per subject: 3.0<br>Total number of samples: 36.0",
          "R<sup>2</sup>: 0.2973<br>Measure: RD<br>Number of subjects: 12.0<br>ROIs per subject: 3.0<br>Total number of samples: 36.0",
          "R<sup>2</sup>: 0.7<br>Measure: MPF<br>Number of subjects: 15.0<br>ROIs per subject: 4.0<br>Total number of samples: 60.0",
          "R<sup>2</sup>: 0.7<br>Measure: MVF-MT<br>Number of subjects: 15.0<br>ROIs per subject: 4.0<br>Total number of samples: 60.0",
          "R<sup>2</sup>: 0.68<br>Measure: MVF-T2<br>Number of subjects: 15.0<br>ROIs per subject: 4.0<br>Total number of samples: 60.0",
          "R<sup>2</sup>: 0.66<br>Measure: MWF<br>Number of subjects: 15.0<br>ROIs per subject: 4.0<br>Total number of samples: 60.0",
          "R<sup>2</sup>: 0.5184<br>Measure: T2<br>Number of subjects: 8.0<br>ROIs per subject: 3.0<br>Total number of samples: 24.0",
          "R<sup>2</sup>: 0.7569<br>Measure: FA<br>Number of subjects: 21.0<br>ROIs per subject: 1.0<br>Total number of samples: 21.0",
          "R<sup>2</sup>: 0.5329<br>Measure: MD<br>Number of subjects: 21.0<br>ROIs per subject: 1.0<br>Total number of samples: 21.0",
          "R<sup>2</sup>: 0.8281<br>Measure: RD<br>Number of subjects: 21.0<br>ROIs per subject: 1.0<br>Total number of samples: 21.0",
          "R<sup>2</sup>: 0.6241000000000001<br>Measure: MTR<br>Number of subjects: 16.0<br>ROIs per subject: 1.0<br>Total number of samples: 16.0",
          "R<sup>2</sup>: 0.334<br>Measure: FA<br>Number of subjects: 12.0<br>ROIs per subject: 1.0<br>Total number of samples: 12.0"
         ],
         "textfont": {
          "size": 15
         },
         "type": "treemap",
         "values": [
          60.0,
          60.0,
          60.0,
          17.0,
          17.0,
          17.0,
          17.0,
          20.0,
          4.0,
          20.0,
          20.0,
          56.0,
          56.0,
          56.0,
          56.0,
          21.0,
          21.0,
          600.0,
          54.0,
          24.0,
          9.0,
          9.0,
          60.0,
          60.0,
          60.0,
          60.0,
          60.0,
          60.0,
          474.0,
          474.0,
          474.0,
          48.0,
          48.0,
          48.0,
          48.0,
          48.0,
          48.0,
          48.0,
          21.0,
          21.0,
          21.0,
          21.0,
          21.0,
          21.0,
          36.0,
          78.0,
          78.0,
          78.0,
          78.0,
          78.0,
          112.0,
          13.0,
          572.0,
          219.0,
          80.0,
          80.0,
          80.0,
          80.0,
          80.0,
          80.0,
          80.0,
          32.0,
          18.0,
          11.0,
          11.0,
          11.0,
          39.0,
          39.0,
          60.0,
          60.0,
          111.0,
          111.0,
          111.0,
          111.0,
          48.0,
          48.0,
          30.0,
          30.0,
          30.0,
          30.0,
          30.0,
          30.0,
          30.0,
          30.0,
          15.0,
          15.0,
          15.0,
          15.0,
          18.0,
          18.0,
          18.0,
          18.0,
          10.0,
          10.0,
          10.0,
          10.0,
          10.0,
          10.0,
          10.0,
          10.0,
          10.0,
          10.0,
          10.0,
          10.0,
          25.0,
          25.0,
          25.0,
          25.0,
          25.0,
          15.0,
          9.0,
          15.0,
          15.0,
          36.0,
          36.0,
          36.0,
          36.0,
          60.0,
          60.0,
          60.0,
          60.0,
          24.0,
          21.0,
          21.0,
          21.0,
          16.0,
          12.0,
          362.0,
          99.0,
          543.0,
          460.0,
          78.0,
          423.0,
          1181.0,
          9.0,
          4.0,
          60.0,
          60.0,
          866.0,
          18.0,
          485.0,
          58.0,
          474.0,
          140.0,
          532.0,
          21.0,
          99.0,
          802.0,
          60.0,
          80.0,
          202.0,
          10.0,
          121.0,
          60.0,
          21.0,
          10.0,
          58.0,
          15.0
         ]
        }
       ],
       "layout": {
        "annotations": [
         {
          "font": {
           "color": "gray",
           "size": 8
          },
          "showarrow": false,
          "text": "<a href=\"https://neurolibre.com\" target=\"_blank\" style=\"color:gray!important\">NeuroLibre</a>",
          "x": 1,
          "xref": "paper",
          "y": -0.055,
          "yref": "paper"
         }
        ],
        "autosize": false,
        "height": 600,
        "images": [
         {
          "opacity": 0.9,
          "sizex": 0.04,
          "sizey": 0.04,
          "source": "https://raw.githubusercontent.com/notebook-factory/brand/main/nlibre_custom2.svg",
          "x": 0.89,
          "xref": "paper",
          "y": -0.010000000000000002,
          "yref": "paper"
         }
        ],
        "margin": {
         "l": 0
        },
        "template": {
         "data": {
          "bar": [
           {
            "error_x": {
             "color": "#2a3f5f"
            },
            "error_y": {
             "color": "#2a3f5f"
            },
            "marker": {
             "line": {
              "color": "#E5ECF6",
              "width": 0.5
             }
            },
            "type": "bar"
           }
          ],
          "barpolar": [
           {
            "marker": {
             "line": {
              "color": "#E5ECF6",
              "width": 0.5
             }
            },
            "type": "barpolar"
           }
          ],
          "carpet": [
           {
            "aaxis": {
             "endlinecolor": "#2a3f5f",
             "gridcolor": "white",
             "linecolor": "white",
             "minorgridcolor": "white",
             "startlinecolor": "#2a3f5f"
            },
            "baxis": {
             "endlinecolor": "#2a3f5f",
             "gridcolor": "white",
             "linecolor": "white",
             "minorgridcolor": "white",
             "startlinecolor": "#2a3f5f"
            },
            "type": "carpet"
           }
          ],
          "choropleth": [
           {
            "colorbar": {
             "outlinewidth": 0,
             "ticks": ""
            },
            "type": "choropleth"
           }
          ],
          "contour": [
           {
            "colorbar": {
             "outlinewidth": 0,
             "ticks": ""
            },
            "colorscale": [
             [
              0.0,
              "#0d0887"
             ],
             [
              0.1111111111111111,
              "#46039f"
             ],
             [
              0.2222222222222222,
              "#7201a8"
             ],
             [
              0.3333333333333333,
              "#9c179e"
             ],
             [
              0.4444444444444444,
              "#bd3786"
             ],
             [
              0.5555555555555556,
              "#d8576b"
             ],
             [
              0.6666666666666666,
              "#ed7953"
             ],
             [
              0.7777777777777778,
              "#fb9f3a"
             ],
             [
              0.8888888888888888,
              "#fdca26"
             ],
             [
              1.0,
              "#f0f921"
             ]
            ],
            "type": "contour"
           }
          ],
          "contourcarpet": [
           {
            "colorbar": {
             "outlinewidth": 0,
             "ticks": ""
            },
            "type": "contourcarpet"
           }
          ],
          "heatmap": [
           {
            "colorbar": {
             "outlinewidth": 0,
             "ticks": ""
            },
            "colorscale": [
             [
              0.0,
              "#0d0887"
             ],
             [
              0.1111111111111111,
              "#46039f"
             ],
             [
              0.2222222222222222,
              "#7201a8"
             ],
             [
              0.3333333333333333,
              "#9c179e"
             ],
             [
              0.4444444444444444,
              "#bd3786"
             ],
             [
              0.5555555555555556,
              "#d8576b"
             ],
             [
              0.6666666666666666,
              "#ed7953"
             ],
             [
              0.7777777777777778,
              "#fb9f3a"
             ],
             [
              0.8888888888888888,
              "#fdca26"
             ],
             [
              1.0,
              "#f0f921"
             ]
            ],
            "type": "heatmap"
           }
          ],
          "heatmapgl": [
           {
            "colorbar": {
             "outlinewidth": 0,
             "ticks": ""
            },
            "colorscale": [
             [
              0.0,
              "#0d0887"
             ],
             [
              0.1111111111111111,
              "#46039f"
             ],
             [
              0.2222222222222222,
              "#7201a8"
             ],
             [
              0.3333333333333333,
              "#9c179e"
             ],
             [
              0.4444444444444444,
              "#bd3786"
             ],
             [
              0.5555555555555556,
              "#d8576b"
             ],
             [
              0.6666666666666666,
              "#ed7953"
             ],
             [
              0.7777777777777778,
              "#fb9f3a"
             ],
             [
              0.8888888888888888,
              "#fdca26"
             ],
             [
              1.0,
              "#f0f921"
             ]
            ],
            "type": "heatmapgl"
           }
          ],
          "histogram": [
           {
            "marker": {
             "colorbar": {
              "outlinewidth": 0,
              "ticks": ""
             }
            },
            "type": "histogram"
           }
          ],
          "histogram2d": [
           {
            "colorbar": {
             "outlinewidth": 0,
             "ticks": ""
            },
            "colorscale": [
             [
              0.0,
              "#0d0887"
             ],
             [
              0.1111111111111111,
              "#46039f"
             ],
             [
              0.2222222222222222,
              "#7201a8"
             ],
             [
              0.3333333333333333,
              "#9c179e"
             ],
             [
              0.4444444444444444,
              "#bd3786"
             ],
             [
              0.5555555555555556,
              "#d8576b"
             ],
             [
              0.6666666666666666,
              "#ed7953"
             ],
             [
              0.7777777777777778,
              "#fb9f3a"
             ],
             [
              0.8888888888888888,
              "#fdca26"
             ],
             [
              1.0,
              "#f0f921"
             ]
            ],
            "type": "histogram2d"
           }
          ],
          "histogram2dcontour": [
           {
            "colorbar": {
             "outlinewidth": 0,
             "ticks": ""
            },
            "colorscale": [
             [
              0.0,
              "#0d0887"
             ],
             [
              0.1111111111111111,
              "#46039f"
             ],
             [
              0.2222222222222222,
              "#7201a8"
             ],
             [
              0.3333333333333333,
              "#9c179e"
             ],
             [
              0.4444444444444444,
              "#bd3786"
             ],
             [
              0.5555555555555556,
              "#d8576b"
             ],
             [
              0.6666666666666666,
              "#ed7953"
             ],
             [
              0.7777777777777778,
              "#fb9f3a"
             ],
             [
              0.8888888888888888,
              "#fdca26"
             ],
             [
              1.0,
              "#f0f921"
             ]
            ],
            "type": "histogram2dcontour"
           }
          ],
          "mesh3d": [
           {
            "colorbar": {
             "outlinewidth": 0,
             "ticks": ""
            },
            "type": "mesh3d"
           }
          ],
          "parcoords": [
           {
            "line": {
             "colorbar": {
              "outlinewidth": 0,
              "ticks": ""
             }
            },
            "type": "parcoords"
           }
          ],
          "pie": [
           {
            "automargin": true,
            "type": "pie"
           }
          ],
          "scatter": [
           {
            "marker": {
             "colorbar": {
              "outlinewidth": 0,
              "ticks": ""
             }
            },
            "type": "scatter"
           }
          ],
          "scatter3d": [
           {
            "line": {
             "colorbar": {
              "outlinewidth": 0,
              "ticks": ""
             }
            },
            "marker": {
             "colorbar": {
              "outlinewidth": 0,
              "ticks": ""
             }
            },
            "type": "scatter3d"
           }
          ],
          "scattercarpet": [
           {
            "marker": {
             "colorbar": {
              "outlinewidth": 0,
              "ticks": ""
             }
            },
            "type": "scattercarpet"
           }
          ],
          "scattergeo": [
           {
            "marker": {
             "colorbar": {
              "outlinewidth": 0,
              "ticks": ""
             }
            },
            "type": "scattergeo"
           }
          ],
          "scattergl": [
           {
            "marker": {
             "colorbar": {
              "outlinewidth": 0,
              "ticks": ""
             }
            },
            "type": "scattergl"
           }
          ],
          "scattermapbox": [
           {
            "marker": {
             "colorbar": {
              "outlinewidth": 0,
              "ticks": ""
             }
            },
            "type": "scattermapbox"
           }
          ],
          "scatterpolar": [
           {
            "marker": {
             "colorbar": {
              "outlinewidth": 0,
              "ticks": ""
             }
            },
            "type": "scatterpolar"
           }
          ],
          "scatterpolargl": [
           {
            "marker": {
             "colorbar": {
              "outlinewidth": 0,
              "ticks": ""
             }
            },
            "type": "scatterpolargl"
           }
          ],
          "scatterternary": [
           {
            "marker": {
             "colorbar": {
              "outlinewidth": 0,
              "ticks": ""
             }
            },
            "type": "scatterternary"
           }
          ],
          "surface": [
           {
            "colorbar": {
             "outlinewidth": 0,
             "ticks": ""
            },
            "colorscale": [
             [
              0.0,
              "#0d0887"
             ],
             [
              0.1111111111111111,
              "#46039f"
             ],
             [
              0.2222222222222222,
              "#7201a8"
             ],
             [
              0.3333333333333333,
              "#9c179e"
             ],
             [
              0.4444444444444444,
              "#bd3786"
             ],
             [
              0.5555555555555556,
              "#d8576b"
             ],
             [
              0.6666666666666666,
              "#ed7953"
             ],
             [
              0.7777777777777778,
              "#fb9f3a"
             ],
             [
              0.8888888888888888,
              "#fdca26"
             ],
             [
              1.0,
              "#f0f921"
             ]
            ],
            "type": "surface"
           }
          ],
          "table": [
           {
            "cells": {
             "fill": {
              "color": "#EBF0F8"
             },
             "line": {
              "color": "white"
             }
            },
            "header": {
             "fill": {
              "color": "#C8D4E3"
             },
             "line": {
              "color": "white"
             }
            },
            "type": "table"
           }
          ]
         },
         "layout": {
          "annotationdefaults": {
           "arrowcolor": "#2a3f5f",
           "arrowhead": 0,
           "arrowwidth": 1
          },
          "coloraxis": {
           "colorbar": {
            "outlinewidth": 0,
            "ticks": ""
           }
          },
          "colorscale": {
           "diverging": [
            [
             0,
             "#8e0152"
            ],
            [
             0.1,
             "#c51b7d"
            ],
            [
             0.2,
             "#de77ae"
            ],
            [
             0.3,
             "#f1b6da"
            ],
            [
             0.4,
             "#fde0ef"
            ],
            [
             0.5,
             "#f7f7f7"
            ],
            [
             0.6,
             "#e6f5d0"
            ],
            [
             0.7,
             "#b8e186"
            ],
            [
             0.8,
             "#7fbc41"
            ],
            [
             0.9,
             "#4d9221"
            ],
            [
             1,
             "#276419"
            ]
           ],
           "sequential": [
            [
             0.0,
             "#0d0887"
            ],
            [
             0.1111111111111111,
             "#46039f"
            ],
            [
             0.2222222222222222,
             "#7201a8"
            ],
            [
             0.3333333333333333,
             "#9c179e"
            ],
            [
             0.4444444444444444,
             "#bd3786"
            ],
            [
             0.5555555555555556,
             "#d8576b"
            ],
            [
             0.6666666666666666,
             "#ed7953"
            ],
            [
             0.7777777777777778,
             "#fb9f3a"
            ],
            [
             0.8888888888888888,
             "#fdca26"
            ],
            [
             1.0,
             "#f0f921"
            ]
           ],
           "sequentialminus": [
            [
             0.0,
             "#0d0887"
            ],
            [
             0.1111111111111111,
             "#46039f"
            ],
            [
             0.2222222222222222,
             "#7201a8"
            ],
            [
             0.3333333333333333,
             "#9c179e"
            ],
            [
             0.4444444444444444,
             "#bd3786"
            ],
            [
             0.5555555555555556,
             "#d8576b"
            ],
            [
             0.6666666666666666,
             "#ed7953"
            ],
            [
             0.7777777777777778,
             "#fb9f3a"
            ],
            [
             0.8888888888888888,
             "#fdca26"
            ],
            [
             1.0,
             "#f0f921"
            ]
           ]
          },
          "colorway": [
           "#636efa",
           "#EF553B",
           "#00cc96",
           "#ab63fa",
           "#FFA15A",
           "#19d3f3",
           "#FF6692",
           "#B6E880",
           "#FF97FF",
           "#FECB52"
          ],
          "font": {
           "color": "#2a3f5f"
          },
          "geo": {
           "bgcolor": "white",
           "lakecolor": "white",
           "landcolor": "#E5ECF6",
           "showlakes": true,
           "showland": true,
           "subunitcolor": "white"
          },
          "hoverlabel": {
           "align": "left"
          },
          "hovermode": "closest",
          "mapbox": {
           "style": "light"
          },
          "paper_bgcolor": "white",
          "plot_bgcolor": "#E5ECF6",
          "polar": {
           "angularaxis": {
            "gridcolor": "white",
            "linecolor": "white",
            "ticks": ""
           },
           "bgcolor": "#E5ECF6",
           "radialaxis": {
            "gridcolor": "white",
            "linecolor": "white",
            "ticks": ""
           }
          },
          "scene": {
           "xaxis": {
            "backgroundcolor": "#E5ECF6",
            "gridcolor": "white",
            "gridwidth": 2,
            "linecolor": "white",
            "showbackground": true,
            "ticks": "",
            "zerolinecolor": "white"
           },
           "yaxis": {
            "backgroundcolor": "#E5ECF6",
            "gridcolor": "white",
            "gridwidth": 2,
            "linecolor": "white",
            "showbackground": true,
            "ticks": "",
            "zerolinecolor": "white"
           },
           "zaxis": {
            "backgroundcolor": "#E5ECF6",
            "gridcolor": "white",
            "gridwidth": 2,
            "linecolor": "white",
            "showbackground": true,
            "ticks": "",
            "zerolinecolor": "white"
           }
          },
          "shapedefaults": {
           "line": {
            "color": "#2a3f5f"
           }
          },
          "ternary": {
           "aaxis": {
            "gridcolor": "white",
            "linecolor": "white",
            "ticks": ""
           },
           "baxis": {
            "gridcolor": "white",
            "linecolor": "white",
            "ticks": ""
           },
           "bgcolor": "#E5ECF6",
           "caxis": {
            "gridcolor": "white",
            "linecolor": "white",
            "ticks": ""
           }
          },
          "title": {
           "x": 0.05
          },
          "xaxis": {
           "automargin": true,
           "gridcolor": "white",
           "linecolor": "white",
           "ticks": "",
           "title": {
            "standoff": 15
           },
           "zerolinecolor": "white",
           "zerolinewidth": 2
          },
          "yaxis": {
           "automargin": true,
           "gridcolor": "white",
           "linecolor": "white",
           "ticks": "",
           "title": {
            "standoff": 15
           },
           "zerolinecolor": "white",
           "zerolinewidth": 2
          }
         }
        },
        "title": {
         "text": "Figure 4 - R<sup>2</sup> values across studies"
        },
        "width": 650
       }
      },
      "text/html": "<div>\n        \n        \n            <div id=\"67a21735-44fd-4a28-a521-173d75930388\" class=\"plotly-graph-div\" style=\"height:600px; width:650px;\"></div>\n            <script type=\"text/javascript\">\n                require([\"plotly\"], function(Plotly) {\n                    window.PLOTLYENV=window.PLOTLYENV || {};\n                    \n                if (document.getElementById(\"67a21735-44fd-4a28-a521-173d75930388\")) {\n                    Plotly.newPlot(\n                        '67a21735-44fd-4a28-a521-173d75930388',\n                        [{\"branchvalues\": \"total\", \"hoverinfo\": \"text\", \"hovertext\": [\"Abe et al., 2019<br>R<sup>2</sup>: 0.0121<br>Number of samples: 60.0\", \"Abe et al., 2019<br>R<sup>2</sup>: 0.1024<br>Number of samples: 60.0\", \"Abe et al., 2019<br>R<sup>2</sup>: 0.1681<br>Number of samples: 60.0\", \"Aojula et al., 2016<br>R<sup>2</sup>: 0.1296<br>Number of samples: 17.0\", \"Aojula et al., 2016<br>R<sup>2</sup>: 0.1197<br>Number of samples: 17.0\", \"Aojula et al., 2016<br>R<sup>2</sup>: 0.245<br>Number of samples: 17.0\", \"Aojula et al., 2016<br>R<sup>2</sup>: 0.2097<br>Number of samples: 17.0\", \"Beckmann et al., 2018<br>R<sup>2</sup>: 0.7668<br>Number of samples: 20.0\", \"Berman et al., 2018<br>R<sup>2</sup>: 0.74<br>Number of samples: 4.0\", \"Chandran et al., 2012<br>R<sup>2</sup>: 0.5<br>Number of samples: 20.0\", \"Chandran et al., 2012<br>R<sup>2</sup>: 0.34<br>Number of samples: 20.0\", \"Chang et al., 2017<br>R<sup>2</sup>: 0.1482<br>Number of samples: 56.0\", \"Chang et al., 2017<br>R<sup>2</sup>: 0.1989<br>Number of samples: 56.0\", \"Chang et al., 2017<br>R<sup>2</sup>: 0.0129<br>Number of samples: 56.0\", \"Chang et al., 2017<br>R<sup>2</sup>: 0.038<br>Number of samples: 56.0\", \"Duhamel et al., 2019<br>R<sup>2</sup>: 0.78<br>Number of samples: 21.0\", \"Duhamel et al., 2019<br>R<sup>2</sup>: 0.96<br>Number of samples: 21.0\", \"Fatemi et al., 2011<br>R<sup>2</sup>: 0.695<br>Number of samples: 600.0\", \"Fjaer et al., 2013<br>R<sup>2</sup>: 0.338<br>Number of samples: 54.0\", \"Fjaer et al., 2015<br>R<sup>2</sup>: 0.01<br>Number of samples: 24.0\", \"Guglielmetti et al., 2020<br>R<sup>2</sup>: 0.46<br>Number of samples: 9.0\", \"Guglielmetti et al., 2020<br>R<sup>2</sup>: 0.76<br>Number of samples: 9.0\", \"Hakkarainen et al., 2016<br>R<sup>2</sup>: 0.34<br>Number of samples: 60.0\", \"Hakkarainen et al., 2016<br>R<sup>2</sup>: 0.84<br>Number of samples: 60.0\", \"Hakkarainen et al., 2016<br>R<sup>2</sup>: 0.77<br>Number of samples: 60.0\", \"Hakkarainen et al., 2016<br>R<sup>2</sup>: 0.63<br>Number of samples: 60.0\", \"Hakkarainen et al., 2016<br>R<sup>2</sup>: 0.18<br>Number of samples: 60.0\", \"Hakkarainen et al., 2016<br>R<sup>2</sup>: 0.34<br>Number of samples: 60.0\", \"Hametner et al., 2018<br>R<sup>2</sup>: 0.1239<br>Number of samples: 474.0\", \"Hametner et al., 2018<br>R<sup>2</sup>: 0.0007<br>Number of samples: 474.0\", \"Hametner et al., 2018<br>R<sup>2</sup>: 0.3398<br>Number of samples: 474.0\", \"Janve et al., 2013<br>R<sup>2</sup>: 0.0064<br>Number of samples: 48.0\", \"Janve et al., 2013<br>R<sup>2</sup>: 0.0729<br>Number of samples: 48.0\", \"Janve et al., 2013<br>R<sup>2</sup>: 0.0784<br>Number of samples: 48.0\", \"Janve et al., 2013<br>R<sup>2</sup>: 0.7225<br>Number of samples: 48.0\", \"Janve et al., 2013<br>R<sup>2</sup>: 0.0961<br>Number of samples: 48.0\", \"Janve et al., 2013<br>R<sup>2</sup>: 0.2401<br>Number of samples: 48.0\", \"Janve et al., 2013<br>R<sup>2</sup>: 0.0256<br>Number of samples: 48.0\", \"Jelescu et al., 2016<br>R<sup>2</sup>: 0.3025<br>Number of samples: 21.0\", \"Jelescu et al., 2016<br>R<sup>2</sup>: 0.1024<br>Number of samples: 21.0\", \"Jelescu et al., 2016<br>R<sup>2</sup>: 0.5041<br>Number of samples: 21.0\", \"Jelescu et al., 2016<br>R<sup>2</sup>: 0.25<br>Number of samples: 21.0\", \"Jelescu et al., 2016<br>R<sup>2</sup>: 0.0196<br>Number of samples: 21.0\", \"Jelescu et al., 2016<br>R<sup>2</sup>: 0.4096<br>Number of samples: 21.0\", \"Jito et al., 2008<br>R<sup>2</sup>: 0.7327<br>Number of samples: 36.0\", \"Kelm et al., 2016<br>R<sup>2</sup>: 0.3364<br>Number of samples: 78.0\", \"Kelm et al., 2016<br>R<sup>2</sup>: 0.1225<br>Number of samples: 78.0\", \"Kelm et al., 2016<br>R<sup>2</sup>: 0.2304<br>Number of samples: 78.0\", \"Kelm et al., 2016<br>R<sup>2</sup>: 0.1369<br>Number of samples: 78.0\", \"Kelm et al., 2016<br>R<sup>2</sup>: 0.2401<br>Number of samples: 78.0\", \"Khodanovic et al., 2017<br>R<sup>2</sup>: 0.779<br>Number of samples: 112.0\", \"Khodanovic et al., 2019<br>R<sup>2</sup>: 0.82<br>Number of samples: 13.0\", \"Laule et al., 2006<br>R<sup>2</sup>: 0.67<br>Number of samples: 572.0\", \"Laule et al., 2008<br>R<sup>2</sup>: 0.78<br>Number of samples: 219.0\", \"Lehto et al., 2017a<br>R<sup>2</sup>: 0.4199<br>Number of samples: 80.0\", \"Lehto et al., 2017a<br>R<sup>2</sup>: 0.2237<br>Number of samples: 80.0\", \"Lehto et al., 2017a<br>R<sup>2</sup>: 0.3492<br>Number of samples: 80.0\", \"Lehto et al., 2017a<br>R<sup>2</sup>: 0.5169<br>Number of samples: 80.0\", \"Lehto et al., 2017a<br>R<sup>2</sup>: 0.552<br>Number of samples: 80.0\", \"Lehto et al., 2017a<br>R<sup>2</sup>: 0.0015<br>Number of samples: 80.0\", \"Lehto et al., 2017a<br>R<sup>2</sup>: 0.49<br>Number of samples: 80.0\", \"Lehto et al., 2017b<br>R<sup>2</sup>: 0.94<br>Number of samples: 32.0\", \"Mollink et al., 2019<br>R<sup>2</sup>: 0.2704<br>Number of samples: 18.0\", \"Pol et al., 2019<br>R<sup>2</sup>: 0.0576<br>Number of samples: 11.0\", \"Pol et al., 2019<br>R<sup>2</sup>: 0.3481<br>Number of samples: 11.0\", \"Pol et al., 2019<br>R<sup>2</sup>: 0.0361<br>Number of samples: 11.0\", \"Reeves et al., 2016<br>R<sup>2</sup>: 0.27<br>Number of samples: 39.0\", \"Reeves et al., 2016<br>R<sup>2</sup>: 0.235<br>Number of samples: 39.0\", \"Schmierer et al., 2004<br>R<sup>2</sup>: 0.7055999999999999<br>Number of samples: 60.0\", \"Schmierer et al., 2004<br>R<sup>2</sup>: 0.48999999999999994<br>Number of samples: 60.0\", \"Schmierer et al., 2007a<br>R<sup>2</sup>: 0.6400000000000001<br>Number of samples: 111.0\", \"Schmierer et al., 2007a<br>R<sup>2</sup>: 0.7055999999999999<br>Number of samples: 111.0\", \"Schmierer et al., 2007a<br>R<sup>2</sup>: 0.4760999999999999<br>Number of samples: 111.0\", \"Schmierer et al., 2007a<br>R<sup>2</sup>: 0.0001<br>Number of samples: 111.0\", \"Schmierer et al., 2007b<br>R<sup>2</sup>: 0.6241000000000001<br>Number of samples: 48.0\", \"Schmierer et al., 2007b<br>R<sup>2</sup>: 0.4624000000000001<br>Number of samples: 48.0\", \"Schmierer et al., 2008<br>R<sup>2</sup>: 0.64<br>Number of samples: 30.0\", \"Schmierer et al., 2008<br>R<sup>2</sup>: 0.6889<br>Number of samples: 30.0\", \"Schmierer et al., 2008<br>R<sup>2</sup>: 0.6084<br>Number of samples: 30.0\", \"Schmierer et al., 2008<br>R<sup>2</sup>: 0.7396<br>Number of samples: 30.0\", \"Schmierer et al., 2008<br>R<sup>2</sup>: 0.4624<br>Number of samples: 30.0\", \"Schmierer et al., 2008<br>R<sup>2</sup>: 0.6561<br>Number of samples: 30.0\", \"Schmierer et al., 2008<br>R<sup>2</sup>: 0.7921<br>Number of samples: 30.0\", \"Schmierer et al., 2008<br>R<sup>2</sup>: 0.8464<br>Number of samples: 30.0\", \"Soustelle et al., 2019<br>R<sup>2</sup>: 0.7569<br>Number of samples: 15.0\", \"Soustelle et al., 2019<br>R<sup>2</sup>: 0.4624<br>Number of samples: 15.0\", \"Soustelle et al., 2019<br>R<sup>2</sup>: 0.49<br>Number of samples: 15.0\", \"Soustelle et al., 2019<br>R<sup>2</sup>: 0.7396<br>Number of samples: 15.0\", \"Tardif et al., 2012<br>R<sup>2</sup>: 0.36<br>Number of samples: 18.0\", \"Tardif et al., 2012<br>R<sup>2</sup>: 0.3481<br>Number of samples: 18.0\", \"Tardif et al., 2012<br>R<sup>2</sup>: 0.5929<br>Number of samples: 18.0\", \"Tardif et al., 2012<br>R<sup>2</sup>: 0.4225<br>Number of samples: 18.0\", \"Thiessen et al., 2013<br>R<sup>2</sup>: 0.5625<br>Number of samples: 10.0\", \"Thiessen et al., 2013<br>R<sup>2</sup>: 0.7056<br>Number of samples: 10.0\", \"Thiessen et al., 2013<br>R<sup>2</sup>: 0.6561<br>Number of samples: 10.0\", \"Thiessen et al., 2013<br>R<sup>2</sup>: 0.8649<br>Number of samples: 10.0\", \"Thiessen et al., 2013<br>R<sup>2</sup>: 0.4356<br>Number of samples: 10.0\", \"Thiessen et al., 2013<br>R<sup>2</sup>: 0.7569<br>Number of samples: 10.0\", \"Thiessen et al., 2013<br>R<sup>2</sup>: 0.4356<br>Number of samples: 10.0\", \"Thiessen et al., 2013<br>R<sup>2</sup>: 0.0676<br>Number of samples: 10.0\", \"Thiessen et al., 2013<br>R<sup>2</sup>: 0.36<br>Number of samples: 10.0\", \"Thiessen et al., 2013<br>R<sup>2</sup>: 0.1521<br>Number of samples: 10.0\", \"Thiessen et al., 2013<br>R<sup>2</sup>: 0.1089<br>Number of samples: 10.0\", \"Thiessen et al., 2013<br>R<sup>2</sup>: 0.6724<br>Number of samples: 10.0\", \"Tu et al., 2016<br>R<sup>2</sup>: 0.0001<br>Number of samples: 25.0\", \"Tu et al., 2016<br>R<sup>2</sup>: 0.0169<br>Number of samples: 25.0\", \"Tu et al., 2016<br>R<sup>2</sup>: 0.0289<br>Number of samples: 25.0\", \"Tu et al., 2016<br>R<sup>2</sup>: 0.1444<br>Number of samples: 25.0\", \"Tu et al., 2016<br>R<sup>2</sup>: 0.2116<br>Number of samples: 25.0\", \"Turati et al., 2015<br>R<sup>2</sup>: 0.2872<br>Number of samples: 15.0\", \"Underhill et al., 2011<br>R<sup>2</sup>: 0.9801<br>Number of samples: 9.0\", \"Wang et al., 2009<br>R<sup>2</sup>: 0.4637<br>Number of samples: 15.0\", \"Wang et al., 2009<br>R<sup>2</sup>: 0.2787<br>Number of samples: 15.0\", \"Wendel et al., 2018<br>R<sup>2</sup>: 0.1987<br>Number of samples: 36.0\", \"Wendel et al., 2018<br>R<sup>2</sup>: 0.5707<br>Number of samples: 36.0\", \"Wendel et al., 2018<br>R<sup>2</sup>: 0.0564<br>Number of samples: 36.0\", \"Wendel et al., 2018<br>R<sup>2</sup>: 0.2973<br>Number of samples: 36.0\", \"West et al., 2018<br>R<sup>2</sup>: 0.7<br>Number of samples: 60.0\", \"West et al., 2018<br>R<sup>2</sup>: 0.7<br>Number of samples: 60.0\", \"West et al., 2018<br>R<sup>2</sup>: 0.68<br>Number of samples: 60.0\", \"West et al., 2018<br>R<sup>2</sup>: 0.66<br>Number of samples: 60.0\", \"Wu et al., 2008<br>R<sup>2</sup>: 0.5184<br>Number of samples: 24.0\", \"Yano et al., 2018<br>R<sup>2</sup>: 0.7569<br>Number of samples: 21.0\", \"Yano et al., 2018<br>R<sup>2</sup>: 0.5329<br>Number of samples: 21.0\", \"Yano et al., 2018<br>R<sup>2</sup>: 0.8281<br>Number of samples: 21.0\", \"Zaaraoui et al., 2008<br>R<sup>2</sup>: 0.6241000000000001<br>Number of samples: 16.0\", \"van Tilborg et al., 2017<br>R<sup>2</sup>: 0.334<br>Number of samples: 12.0\"], \"ids\": [\"AD/Abe et al., 2019\", \"FA/Abe et al., 2019\", \"RD/Abe et al., 2019\", \"AD/Aojula et al., 2016\", \"FA/Aojula et al., 2016\", \"MD/Aojula et al., 2016\", \"RD/Aojula et al., 2016\", \"MTR/Beckmann et al., 2018\", \"MTV/Berman et al., 2018\", \"FA/Chandran et al., 2012\", \"RD/Chandran et al., 2012\", \"AD/Chang et al., 2017\", \"FA/Chang et al., 2017\", \"MD/Chang et al., 2017\", \"RD/Chang et al., 2017\", \"MTR/Duhamel et al., 2019\", \"ihMTR/Duhamel et al., 2019\", \"MTR/Fatemi et al., 2011\", \"MTR/Fjaer et al., 2013\", \"MTR/Fjaer et al., 2015\", \"MTR/Guglielmetti et al., 2020\", \"MTR-UTE/Guglielmetti et al., 2020\", \"MTR/Hakkarainen et al., 2016\", \"RAFF/Hakkarainen et al., 2016\", \"T1/Hakkarainen et al., 2016\", \"T1p/Hakkarainen et al., 2016\", \"T2/Hakkarainen et al., 2016\", \"T2p/Hakkarainen et al., 2016\", \"QSM/Hametner et al., 2018\", \"R2*/Hametner et al., 2018\", \"T1/Hametner et al., 2018\", \"AD/Janve et al., 2013\", \"FA/Janve et al., 2013\", \"MD/Janve et al., 2013\", \"MPF/Janve et al., 2013\", \"R1f/Janve et al., 2013\", \"RD/Janve et al., 2013\", \"k_mf/Janve et al., 2013\", \"AWF/Jelescu et al., 2016\", \"MTR/Jelescu et al., 2016\", \"RD/Jelescu et al., 2016\", \"RDe/Jelescu et al., 2016\", \"RK/Jelescu et al., 2016\", \"T2/Jelescu et al., 2016\", \"FA/Jito et al., 2008\", \"AWF/Kelm et al., 2016\", \"MD/Kelm et al., 2016\", \"MK/Kelm et al., 2016\", \"RD/Kelm et al., 2016\", \"RK/Kelm et al., 2016\", \"MPF/Khodanovic et al., 2017\", \"MPF/Khodanovic et al., 2019\", \"MWF/Laule et al., 2006\", \"MWF/Laule et al., 2008\", \"AD/Lehto et al., 2017a\", \"FA/Lehto et al., 2017a\", \"MD/Lehto et al., 2017a\", \"MTR/Lehto et al., 2017a\", \"RAFF/Lehto et al., 2017a\", \"RD/Lehto et al., 2017a\", \"T1sat/Lehto et al., 2017a\", \"MTR/Lehto et al., 2017b\", \"FA/Mollink et al., 2019\", \"FA/Pol et al., 2019\", \"MD/Pol et al., 2019\", \"QSM/Pol et al., 2019\", \"T1/Reeves et al., 2016\", \"T2/Reeves et al., 2016\", \"MTR/Schmierer et al., 2004\", \"T1/Schmierer et al., 2004\", \"MPF/Schmierer et al., 2007a\", \"MTR/Schmierer et al., 2007a\", \"T1/Schmierer et al., 2007a\", \"T2m/Schmierer et al., 2007a\", \"FA/Schmierer et al., 2007b\", \"MD/Schmierer et al., 2007b\", \"AD/Schmierer et al., 2008\", \"FA/Schmierer et al., 2008\", \"MD/Schmierer et al., 2008\", \"MPF/Schmierer et al., 2008\", \"MTR/Schmierer et al., 2008\", \"RD/Schmierer et al., 2008\", \"T1/Schmierer et al., 2008\", \"T2/Schmierer et al., 2008\", \"MPF/Soustelle et al., 2019\", \"MWF/Soustelle et al., 2019\", \"RD/Soustelle et al., 2019\", \"rSPF/Soustelle et al., 2019\", \"MTR/Tardif et al., 2012\", \"PD/Tardif et al., 2012\", \"T1/Tardif et al., 2012\", \"T2/Tardif et al., 2012\", \"AD/Thiessen et al., 2013\", \"FA/Thiessen et al., 2013\", \"MD/Thiessen et al., 2013\", \"MPF/Thiessen et al., 2013\", \"R1f/Thiessen et al., 2013\", \"RD/Thiessen et al., 2013\", \"T1/Thiessen et al., 2013\", \"T2/Thiessen et al., 2013\", \"T2f/Thiessen et al., 2013\", \"T2m/Thiessen et al., 2013\", \"k_fm/Thiessen et al., 2013\", \"k_mf/Thiessen et al., 2013\", \"AD/Tu et al., 2016\", \"FA/Tu et al., 2016\", \"MD/Tu et al., 2016\", \"MTR/Tu et al., 2016\", \"RD/Tu et al., 2016\", \"MPF/Turati et al., 2015\", \"MPF/Underhill et al., 2011\", \"FA/Wang et al., 2009\", \"RD/Wang et al., 2009\", \"AD/Wendel et al., 2018\", \"FA/Wendel et al., 2018\", \"MD/Wendel et al., 2018\", \"RD/Wendel et al., 2018\", \"MPF/West et al., 2018\", \"MVF-MT/West et al., 2018\", \"MVF-T2/West et al., 2018\", \"MWF/West et al., 2018\", \"T2/Wu et al., 2008\", \"FA/Yano et al., 2018\", \"MD/Yano et al., 2018\", \"RD/Yano et al., 2018\", \"MTR/Zaaraoui et al., 2008\", \"FA/van Tilborg et al., 2017\", \"AD\", \"AWF\", \"FA\", \"MD\", \"MK\", \"MPF\", \"MTR\", \"MTR-UTE\", \"MTV\", \"MVF-MT\", \"MVF-T2\", \"MWF\", \"PD\", \"QSM\", \"R1f\", \"R2*\", \"RAFF\", \"RD\", \"RDe\", \"RK\", \"T1\", \"T1p\", \"T1sat\", \"T2\", \"T2f\", \"T2m\", \"T2p\", \"ihMTR\", \"k_fm\", \"k_mf\", \"rSPF\"], \"labels\": [\"Abe et al., 2019\", \"Abe et al., 2019\", \"Abe et al., 2019\", \"Aojula et al., 2016\", \"Aojula et al., 2016\", \"Aojula et al., 2016\", \"Aojula et al., 2016\", \"Beckmann et al., 2018\", \"Berman et al., 2018\", \"Chandran et al., 2012\", \"Chandran et al., 2012\", \"Chang et al., 2017\", \"Chang et al., 2017\", \"Chang et al., 2017\", \"Chang et al., 2017\", \"Duhamel et al., 2019\", \"Duhamel et al., 2019\", \"Fatemi et al., 2011\", \"Fjaer et al., 2013\", \"Fjaer et al., 2015\", \"Guglielmetti et al., 2020\", \"Guglielmetti et al., 2020\", \"Hakkarainen et al., 2016\", \"Hakkarainen et al., 2016\", \"Hakkarainen et al., 2016\", \"Hakkarainen et al., 2016\", \"Hakkarainen et al., 2016\", \"Hakkarainen et al., 2016\", \"Hametner et al., 2018\", \"Hametner et al., 2018\", \"Hametner et al., 2018\", \"Janve et al., 2013\", \"Janve et al., 2013\", \"Janve et al., 2013\", \"Janve et al., 2013\", \"Janve et al., 2013\", \"Janve et al., 2013\", \"Janve et al., 2013\", \"Jelescu et al., 2016\", \"Jelescu et al., 2016\", \"Jelescu et al., 2016\", \"Jelescu et al., 2016\", \"Jelescu et al., 2016\", \"Jelescu et al., 2016\", \"Jito et al., 2008\", \"Kelm et al., 2016\", \"Kelm et al., 2016\", \"Kelm et al., 2016\", \"Kelm et al., 2016\", \"Kelm et al., 2016\", \"Khodanovic et al., 2017\", \"Khodanovic et al., 2019\", \"Laule et al., 2006\", \"Laule et al., 2008\", \"Lehto et al., 2017a\", \"Lehto et al., 2017a\", \"Lehto et al., 2017a\", \"Lehto et al., 2017a\", \"Lehto et al., 2017a\", \"Lehto et al., 2017a\", \"Lehto et al., 2017a\", \"Lehto et al., 2017b\", \"Mollink et al., 2019\", \"Pol et al., 2019\", \"Pol et al., 2019\", \"Pol et al., 2019\", \"Reeves et al., 2016\", \"Reeves et al., 2016\", \"Schmierer et al., 2004\", \"Schmierer et al., 2004\", \"Schmierer et al., 2007a\", \"Schmierer et al., 2007a\", \"Schmierer et al., 2007a\", \"Schmierer et al., 2007a\", \"Schmierer et al., 2007b\", \"Schmierer et al., 2007b\", \"Schmierer et al., 2008\", \"Schmierer et al., 2008\", \"Schmierer et al., 2008\", \"Schmierer et al., 2008\", \"Schmierer et al., 2008\", \"Schmierer et al., 2008\", \"Schmierer et al., 2008\", \"Schmierer et al., 2008\", \"Soustelle et al., 2019\", \"Soustelle et al., 2019\", \"Soustelle et al., 2019\", \"Soustelle et al., 2019\", \"Tardif et al., 2012\", \"Tardif et al., 2012\", \"Tardif et al., 2012\", \"Tardif et al., 2012\", \"Thiessen et al., 2013\", \"Thiessen et al., 2013\", \"Thiessen et al., 2013\", \"Thiessen et al., 2013\", \"Thiessen et al., 2013\", \"Thiessen et al., 2013\", \"Thiessen et al., 2013\", \"Thiessen et al., 2013\", \"Thiessen et al., 2013\", \"Thiessen et al., 2013\", \"Thiessen et al., 2013\", \"Thiessen et al., 2013\", \"Tu et al., 2016\", \"Tu et al., 2016\", \"Tu et al., 2016\", \"Tu et al., 2016\", \"Tu et al., 2016\", \"Turati et al., 2015\", \"Underhill et al., 2011\", \"Wang et al., 2009\", \"Wang et al., 2009\", \"Wendel et al., 2018\", \"Wendel et al., 2018\", \"Wendel et al., 2018\", \"Wendel et al., 2018\", \"West et al., 2018\", \"West et al., 2018\", \"West et al., 2018\", \"West et al., 2018\", \"Wu et al., 2008\", \"Yano et al., 2018\", \"Yano et al., 2018\", \"Yano et al., 2018\", \"Zaaraoui et al., 2008\", \"van Tilborg et al., 2017\", \"AD\", \"AWF\", \"FA\", \"MD\", \"MK\", \"MPF\", \"MTR\", \"MTR-UTE\", \"MTV\", \"MVF-MT\", \"MVF-T2\", \"MWF\", \"PD\", \"QSM\", \"R1f\", \"R2*\", \"RAFF\", \"RD\", \"RDe\", \"RK\", \"T1\", \"T1p\", \"T1sat\", \"T2\", \"T2f\", \"T2m\", \"T2p\", \"ihMTR\", \"k_fm\", \"k_mf\", \"rSPF\"], \"marker\": {\"colorbar\": {\"title\": {\"text\": \"R<sup>2</sup>\"}}, \"colors\": [0.0121, 0.1024, 0.1681, 0.1296, 0.1197, 0.245, 0.2097, 0.7668, 0.74, 0.5, 0.34, 0.1482, 0.1989, 0.0129, 0.038, 0.78, 0.96, 0.695, 0.338, 0.01, 0.46, 0.76, 0.34, 0.84, 0.77, 0.63, 0.18, 0.34, 0.1239, 0.0007, 0.3398, 0.0064, 0.0729, 0.0784, 0.7225, 0.0961, 0.2401, 0.0256, 0.3025, 0.1024, 0.5041, 0.25, 0.0196, 0.4096, 0.7327, 0.3364, 0.1225, 0.2304, 0.1369, 0.2401, 0.779, 0.82, 0.67, 0.78, 0.4199, 0.2237, 0.3492, 0.5169, 0.552, 0.0015, 0.49, 0.94, 0.2704, 0.0576, 0.3481, 0.0361, 0.27, 0.235, 0.7055999999999999, 0.48999999999999994, 0.6400000000000001, 0.7055999999999999, 0.4760999999999999, 0.0001, 0.6241000000000001, 0.4624000000000001, 0.64, 0.6889, 0.6084, 0.7396, 0.4624, 0.6561, 0.7921, 0.8464, 0.7569, 0.4624, 0.49, 0.7396, 0.36, 0.3481, 0.5929, 0.4225, 0.5625, 0.7056, 0.6561, 0.8649, 0.4356, 0.7569, 0.4356, 0.0676, 0.36, 0.1521, 0.1089, 0.6724, 0.0001, 0.0169, 0.0289, 0.1444, 0.2116, 0.2872, 0.9801, 0.4637, 0.2787, 0.1987, 0.5707, 0.0564, 0.2973, 0.7, 0.7, 0.68, 0.66, 0.5184, 0.7569, 0.5329, 0.8281, 0.6241000000000001, 0.334], \"colorscale\": [[0.0, \"#440154\"], [0.1111111111111111, \"#482878\"], [0.2222222222222222, \"#3e4989\"], [0.3333333333333333, \"#31688e\"], [0.4444444444444444, \"#26828e\"], [0.5555555555555556, \"#1f9e89\"], [0.6666666666666666, \"#35b779\"], [0.7777777777777778, \"#6ece58\"], [0.8888888888888888, \"#b5de2b\"], [1.0, \"#fde725\"]], \"showscale\": true}, \"parents\": [\"AD\", \"FA\", \"RD\", \"AD\", \"FA\", \"MD\", \"RD\", \"MTR\", \"MTV\", \"FA\", \"RD\", \"AD\", \"FA\", \"MD\", \"RD\", \"MTR\", \"ihMTR\", \"MTR\", \"MTR\", \"MTR\", \"MTR\", \"MTR-UTE\", \"MTR\", \"RAFF\", \"T1\", \"T1p\", \"T2\", \"T2p\", \"QSM\", \"R2*\", \"T1\", \"AD\", \"FA\", \"MD\", \"MPF\", \"R1f\", \"RD\", \"k_mf\", \"AWF\", \"MTR\", \"RD\", \"RDe\", \"RK\", \"T2\", \"FA\", \"AWF\", \"MD\", \"MK\", \"RD\", \"RK\", \"MPF\", \"MPF\", \"MWF\", \"MWF\", \"AD\", \"FA\", \"MD\", \"MTR\", \"RAFF\", \"RD\", \"T1sat\", \"MTR\", \"FA\", \"FA\", \"MD\", \"QSM\", \"T1\", \"T2\", \"MTR\", \"T1\", \"MPF\", \"MTR\", \"T1\", \"T2m\", \"FA\", \"MD\", \"AD\", \"FA\", \"MD\", \"MPF\", \"MTR\", \"RD\", \"T1\", \"T2\", \"MPF\", \"MWF\", \"RD\", \"rSPF\", \"MTR\", \"PD\", \"T1\", \"T2\", \"AD\", \"FA\", \"MD\", \"MPF\", \"R1f\", \"RD\", \"T1\", \"T2\", \"T2f\", \"T2m\", \"k_fm\", \"k_mf\", \"AD\", \"FA\", \"MD\", \"MTR\", \"RD\", \"MPF\", \"MPF\", \"FA\", \"RD\", \"AD\", \"FA\", \"MD\", \"RD\", \"MPF\", \"MVF-MT\", \"MVF-T2\", \"MWF\", \"T2\", \"FA\", \"MD\", \"RD\", \"MTR\", \"FA\", \"\", \"\", \"\", \"\", \"\", \"\", \"\", \"\", \"\", \"\", \"\", \"\", \"\", \"\", \"\", \"\", \"\", \"\", \"\", \"\", \"\", \"\", \"\", \"\", \"\", \"\", \"\", \"\", \"\", \"\", \"\"], \"text\": [\"R<sup>2</sup>: 0.0121<br>Measure: AD<br>Number of subjects: 5.0<br>ROIs per subject: 12.0<br>Total number of samples: 60.0\", \"R<sup>2</sup>: 0.1024<br>Measure: FA<br>Number of subjects: 5.0<br>ROIs per subject: 12.0<br>Total number of samples: 60.0\", \"R<sup>2</sup>: 0.1681<br>Measure: RD<br>Number of subjects: 5.0<br>ROIs per subject: 12.0<br>Total number of samples: 60.0\", \"R<sup>2</sup>: 0.1296<br>Measure: AD<br>Number of subjects: 17.0<br>ROIs per subject: 1.0<br>Total number of samples: 17.0\", \"R<sup>2</sup>: 0.1197<br>Measure: FA<br>Number of subjects: 17.0<br>ROIs per subject: 1.0<br>Total number of samples: 17.0\", \"R<sup>2</sup>: 0.245<br>Measure: MD<br>Number of subjects: 17.0<br>ROIs per subject: 1.0<br>Total number of samples: 17.0\", \"R<sup>2</sup>: 0.2097<br>Measure: RD<br>Number of subjects: 17.0<br>ROIs per subject: 1.0<br>Total number of samples: 17.0\", \"R<sup>2</sup>: 0.7668<br>Measure: MTR<br>Number of subjects: 20.0<br>ROIs per subject: 1.0<br>Total number of samples: 20.0\", \"R<sup>2</sup>: 0.74<br>Measure: MTV<br>Number of subjects: 4.0<br>ROIs per subject: 1.0<br>Total number of samples: 4.0\", \"R<sup>2</sup>: 0.5<br>Measure: FA<br>Number of subjects: 20.0<br>ROIs per subject: 1.0<br>Total number of samples: 20.0\", \"R<sup>2</sup>: 0.34<br>Measure: RD<br>Number of subjects: 20.0<br>ROIs per subject: 1.0<br>Total number of samples: 20.0\", \"R<sup>2</sup>: 0.1482<br>Measure: AD<br>Number of subjects: 4.0<br>ROIs per subject: 14.0<br>Total number of samples: 56.0\", \"R<sup>2</sup>: 0.1989<br>Measure: FA<br>Number of subjects: 4.0<br>ROIs per subject: 14.0<br>Total number of samples: 56.0\", \"R<sup>2</sup>: 0.0129<br>Measure: MD<br>Number of subjects: 4.0<br>ROIs per subject: 14.0<br>Total number of samples: 56.0\", \"R<sup>2</sup>: 0.038<br>Measure: RD<br>Number of subjects: 4.0<br>ROIs per subject: 14.0<br>Total number of samples: 56.0\", \"R<sup>2</sup>: 0.78<br>Measure: MTR<br>Number of subjects: 3.0<br>ROIs per subject: 7.0<br>Total number of samples: 21.0\", \"R<sup>2</sup>: 0.96<br>Measure: ihMTR<br>Number of subjects: 3.0<br>ROIs per subject: 7.0<br>Total number of samples: 21.0\", \"R<sup>2</sup>: 0.695<br>Measure: MTR<br>Number of subjects: 24.0<br>ROIs per subject: 25.0<br>Total number of samples: 600.0\", \"R<sup>2</sup>: 0.338<br>Measure: MTR<br>Number of subjects: 54.0<br>ROIs per subject: 1.0<br>Total number of samples: 54.0\", \"R<sup>2</sup>: 0.01<br>Measure: MTR<br>Number of subjects: 24.0<br>ROIs per subject: 1.0<br>Total number of samples: 24.0\", \"R<sup>2</sup>: 0.46<br>Measure: MTR<br>Number of subjects: 1.0<br>ROIs per subject: 9.0<br>Total number of samples: 9.0\", \"R<sup>2</sup>: 0.76<br>Measure: MTR-UTE<br>Number of subjects: 1.0<br>ROIs per subject: 9.0<br>Total number of samples: 9.0\", \"R<sup>2</sup>: 0.34<br>Measure: MTR<br>Number of subjects: 5.0<br>ROIs per subject: 12.0<br>Total number of samples: 60.0\", \"R<sup>2</sup>: 0.84<br>Measure: RAFF<br>Number of subjects: 5.0<br>ROIs per subject: 12.0<br>Total number of samples: 60.0\", \"R<sup>2</sup>: 0.77<br>Measure: T1<br>Number of subjects: 5.0<br>ROIs per subject: 12.0<br>Total number of samples: 60.0\", \"R<sup>2</sup>: 0.63<br>Measure: T1p<br>Number of subjects: 5.0<br>ROIs per subject: 12.0<br>Total number of samples: 60.0\", \"R<sup>2</sup>: 0.18<br>Measure: T2<br>Number of subjects: 5.0<br>ROIs per subject: 12.0<br>Total number of samples: 60.0\", \"R<sup>2</sup>: 0.34<br>Measure: T2p<br>Number of subjects: 5.0<br>ROIs per subject: 12.0<br>Total number of samples: 60.0\", \"R<sup>2</sup>: 0.1239<br>Measure: QSM<br>Number of subjects: 6.0<br>ROIs per subject: 79.0<br>Total number of samples: 474.0\", \"R<sup>2</sup>: 0.0007<br>Measure: R2*<br>Number of subjects: 6.0<br>ROIs per subject: 79.0<br>Total number of samples: 474.0\", \"R<sup>2</sup>: 0.3398<br>Measure: T1<br>Number of subjects: 6.0<br>ROIs per subject: 79.0<br>Total number of samples: 474.0\", \"R<sup>2</sup>: 0.0064<br>Measure: AD<br>Number of subjects: 8.0<br>ROIs per subject: 6.0<br>Total number of samples: 48.0\", \"R<sup>2</sup>: 0.0729<br>Measure: FA<br>Number of subjects: 8.0<br>ROIs per subject: 6.0<br>Total number of samples: 48.0\", \"R<sup>2</sup>: 0.0784<br>Measure: MD<br>Number of subjects: 8.0<br>ROIs per subject: 6.0<br>Total number of samples: 48.0\", \"R<sup>2</sup>: 0.7225<br>Measure: MPF<br>Number of subjects: 8.0<br>ROIs per subject: 6.0<br>Total number of samples: 48.0\", \"R<sup>2</sup>: 0.0961<br>Measure: R1f<br>Number of subjects: 8.0<br>ROIs per subject: 6.0<br>Total number of samples: 48.0\", \"R<sup>2</sup>: 0.2401<br>Measure: RD<br>Number of subjects: 8.0<br>ROIs per subject: 6.0<br>Total number of samples: 48.0\", \"R<sup>2</sup>: 0.0256<br>Measure: k_mf<br>Number of subjects: 8.0<br>ROIs per subject: 6.0<br>Total number of samples: 48.0\", \"R<sup>2</sup>: 0.3025<br>Measure: AWF<br>Number of subjects: 21.0<br>ROIs per subject: 1.0<br>Total number of samples: 21.0\", \"R<sup>2</sup>: 0.1024<br>Measure: MTR<br>Number of subjects: 21.0<br>ROIs per subject: 1.0<br>Total number of samples: 21.0\", \"R<sup>2</sup>: 0.5041<br>Measure: RD<br>Number of subjects: 21.0<br>ROIs per subject: 1.0<br>Total number of samples: 21.0\", \"R<sup>2</sup>: 0.25<br>Measure: RDe<br>Number of subjects: 21.0<br>ROIs per subject: 1.0<br>Total number of samples: 21.0\", \"R<sup>2</sup>: 0.0196<br>Measure: RK<br>Number of subjects: 21.0<br>ROIs per subject: 1.0<br>Total number of samples: 21.0\", \"R<sup>2</sup>: 0.4096<br>Measure: T2<br>Number of subjects: 21.0<br>ROIs per subject: 1.0<br>Total number of samples: 21.0\", \"R<sup>2</sup>: 0.7327<br>Measure: FA<br>Number of subjects: 36.0<br>ROIs per subject: 1.0<br>Total number of samples: 36.0\", \"R<sup>2</sup>: 0.3364<br>Measure: AWF<br>Number of subjects: 13.0<br>ROIs per subject: 6.0<br>Total number of samples: 78.0\", \"R<sup>2</sup>: 0.1225<br>Measure: MD<br>Number of subjects: 13.0<br>ROIs per subject: 6.0<br>Total number of samples: 78.0\", \"R<sup>2</sup>: 0.2304<br>Measure: MK<br>Number of subjects: 13.0<br>ROIs per subject: 6.0<br>Total number of samples: 78.0\", \"R<sup>2</sup>: 0.1369<br>Measure: RD<br>Number of subjects: 13.0<br>ROIs per subject: 6.0<br>Total number of samples: 78.0\", \"R<sup>2</sup>: 0.2401<br>Measure: RK<br>Number of subjects: 13.0<br>ROIs per subject: 6.0<br>Total number of samples: 78.0\", \"R<sup>2</sup>: 0.779<br>Measure: MPF<br>Number of subjects: 14.0<br>ROIs per subject: 8.0<br>Total number of samples: 112.0\", \"R<sup>2</sup>: 0.82<br>Measure: MPF<br>Number of subjects: 13.0<br>ROIs per subject: 1.0<br>Total number of samples: 13.0\", \"R<sup>2</sup>: 0.67<br>Measure: MWF<br>Number of subjects: 13.0<br>ROIs per subject: 44.0<br>Total number of samples: 572.0\", \"R<sup>2</sup>: 0.78<br>Measure: MWF<br>Number of subjects: 3.0<br>ROIs per subject: 73.0<br>Total number of samples: 219.0\", \"R<sup>2</sup>: 0.4199<br>Measure: AD<br>Number of subjects: 20.0<br>ROIs per subject: 4.0<br>Total number of samples: 80.0\", \"R<sup>2</sup>: 0.2237<br>Measure: FA<br>Number of subjects: 20.0<br>ROIs per subject: 4.0<br>Total number of samples: 80.0\", \"R<sup>2</sup>: 0.3492<br>Measure: MD<br>Number of subjects: 20.0<br>ROIs per subject: 4.0<br>Total number of samples: 80.0\", \"R<sup>2</sup>: 0.5169<br>Measure: MTR<br>Number of subjects: 20.0<br>ROIs per subject: 4.0<br>Total number of samples: 80.0\", \"R<sup>2</sup>: 0.552<br>Measure: RAFF<br>Number of subjects: 20.0<br>ROIs per subject: 4.0<br>Total number of samples: 80.0\", \"R<sup>2</sup>: 0.0015<br>Measure: RD<br>Number of subjects: 20.0<br>ROIs per subject: 4.0<br>Total number of samples: 80.0\", \"R<sup>2</sup>: 0.49<br>Measure: T1sat<br>Number of subjects: 20.0<br>ROIs per subject: 4.0<br>Total number of samples: 80.0\", \"R<sup>2</sup>: 0.94<br>Measure: MTR<br>Number of subjects: 2.0<br>ROIs per subject: 16.0<br>Total number of samples: 32.0\", \"R<sup>2</sup>: 0.2704<br>Measure: FA<br>Number of subjects: 18.0<br>ROIs per subject: 1.0<br>Total number of samples: 18.0\", \"R<sup>2</sup>: 0.0576<br>Measure: FA<br>Number of subjects: 11.0<br>ROIs per subject: 1.0<br>Total number of samples: 11.0\", \"R<sup>2</sup>: 0.3481<br>Measure: MD<br>Number of subjects: 11.0<br>ROIs per subject: 1.0<br>Total number of samples: 11.0\", \"R<sup>2</sup>: 0.0361<br>Measure: QSM<br>Number of subjects: 11.0<br>ROIs per subject: 1.0<br>Total number of samples: 11.0\", \"R<sup>2</sup>: 0.27<br>Measure: T1<br>Number of subjects: 13.0<br>ROIs per subject: 3.0<br>Total number of samples: 39.0\", \"R<sup>2</sup>: 0.235<br>Measure: T2<br>Number of subjects: 13.0<br>ROIs per subject: 3.0<br>Total number of samples: 39.0\", \"R<sup>2</sup>: 0.7055999999999999<br>Measure: MTR<br>Number of subjects: 20.0<br>ROIs per subject: 3.0<br>Total number of samples: 60.0\", \"R<sup>2</sup>: 0.48999999999999994<br>Measure: T1<br>Number of subjects: 20.0<br>ROIs per subject: 3.0<br>Total number of samples: 60.0\", \"R<sup>2</sup>: 0.6400000000000001<br>Measure: MPF<br>Number of subjects: 37.0<br>ROIs per subject: 3.0<br>Total number of samples: 111.0\", \"R<sup>2</sup>: 0.7055999999999999<br>Measure: MTR<br>Number of subjects: 37.0<br>ROIs per subject: 3.0<br>Total number of samples: 111.0\", \"R<sup>2</sup>: 0.4760999999999999<br>Measure: T1<br>Number of subjects: 37.0<br>ROIs per subject: 3.0<br>Total number of samples: 111.0\", \"R<sup>2</sup>: 0.0001<br>Measure: T2m<br>Number of subjects: 37.0<br>ROIs per subject: 3.0<br>Total number of samples: 111.0\", \"R<sup>2</sup>: 0.6241000000000001<br>Measure: FA<br>Number of subjects: 16.0<br>ROIs per subject: 3.0<br>Total number of samples: 48.0\", \"R<sup>2</sup>: 0.4624000000000001<br>Measure: MD<br>Number of subjects: 16.0<br>ROIs per subject: 3.0<br>Total number of samples: 48.0\", \"R<sup>2</sup>: 0.64<br>Measure: AD<br>Number of subjects: 15.0<br>ROIs per subject: 2.0<br>Total number of samples: 30.0\", \"R<sup>2</sup>: 0.6889<br>Measure: FA<br>Number of subjects: 15.0<br>ROIs per subject: 2.0<br>Total number of samples: 30.0\", \"R<sup>2</sup>: 0.6084<br>Measure: MD<br>Number of subjects: 15.0<br>ROIs per subject: 2.0<br>Total number of samples: 30.0\", \"R<sup>2</sup>: 0.7396<br>Measure: MPF<br>Number of subjects: 15.0<br>ROIs per subject: 2.0<br>Total number of samples: 30.0\", \"R<sup>2</sup>: 0.4624<br>Measure: MTR<br>Number of subjects: 15.0<br>ROIs per subject: 2.0<br>Total number of samples: 30.0\", \"R<sup>2</sup>: 0.6561<br>Measure: RD<br>Number of subjects: 15.0<br>ROIs per subject: 2.0<br>Total number of samples: 30.0\", \"R<sup>2</sup>: 0.7921<br>Measure: T1<br>Number of subjects: 15.0<br>ROIs per subject: 2.0<br>Total number of samples: 30.0\", \"R<sup>2</sup>: 0.8464<br>Measure: T2<br>Number of subjects: 15.0<br>ROIs per subject: 2.0<br>Total number of samples: 30.0\", \"R<sup>2</sup>: 0.7569<br>Measure: MPF<br>Number of subjects: 15.0<br>ROIs per subject: 1.0<br>Total number of samples: 15.0\", \"R<sup>2</sup>: 0.4624<br>Measure: MWF<br>Number of subjects: 15.0<br>ROIs per subject: 1.0<br>Total number of samples: 15.0\", \"R<sup>2</sup>: 0.49<br>Measure: RD<br>Number of subjects: 15.0<br>ROIs per subject: 1.0<br>Total number of samples: 15.0\", \"R<sup>2</sup>: 0.7396<br>Measure: rSPF<br>Number of subjects: 15.0<br>ROIs per subject: 1.0<br>Total number of samples: 15.0\", \"R<sup>2</sup>: 0.36<br>Measure: MTR<br>Number of subjects: 1.0<br>ROIs per subject: 18.0<br>Total number of samples: 18.0\", \"R<sup>2</sup>: 0.3481<br>Measure: PD<br>Number of subjects: 1.0<br>ROIs per subject: 18.0<br>Total number of samples: 18.0\", \"R<sup>2</sup>: 0.5929<br>Measure: T1<br>Number of subjects: 1.0<br>ROIs per subject: 18.0<br>Total number of samples: 18.0\", \"R<sup>2</sup>: 0.4225<br>Measure: T2<br>Number of subjects: 1.0<br>ROIs per subject: 18.0<br>Total number of samples: 18.0\", \"R<sup>2</sup>: 0.5625<br>Measure: AD<br>Number of subjects: 10.0<br>ROIs per subject: 1.0<br>Total number of samples: 10.0\", \"R<sup>2</sup>: 0.7056<br>Measure: FA<br>Number of subjects: 10.0<br>ROIs per subject: 1.0<br>Total number of samples: 10.0\", \"R<sup>2</sup>: 0.6561<br>Measure: MD<br>Number of subjects: 10.0<br>ROIs per subject: 1.0<br>Total number of samples: 10.0\", \"R<sup>2</sup>: 0.8649<br>Measure: MPF<br>Number of subjects: 10.0<br>ROIs per subject: 1.0<br>Total number of samples: 10.0\", \"R<sup>2</sup>: 0.4356<br>Measure: R1f<br>Number of subjects: 10.0<br>ROIs per subject: 1.0<br>Total number of samples: 10.0\", \"R<sup>2</sup>: 0.7569<br>Measure: RD<br>Number of subjects: 10.0<br>ROIs per subject: 1.0<br>Total number of samples: 10.0\", \"R<sup>2</sup>: 0.4356<br>Measure: T1<br>Number of subjects: 10.0<br>ROIs per subject: 1.0<br>Total number of samples: 10.0\", \"R<sup>2</sup>: 0.0676<br>Measure: T2<br>Number of subjects: 10.0<br>ROIs per subject: 1.0<br>Total number of samples: 10.0\", \"R<sup>2</sup>: 0.36<br>Measure: T2f<br>Number of subjects: 10.0<br>ROIs per subject: 1.0<br>Total number of samples: 10.0\", \"R<sup>2</sup>: 0.1521<br>Measure: T2m<br>Number of subjects: 10.0<br>ROIs per subject: 1.0<br>Total number of samples: 10.0\", \"R<sup>2</sup>: 0.1089<br>Measure: k_fm<br>Number of subjects: 10.0<br>ROIs per subject: 1.0<br>Total number of samples: 10.0\", \"R<sup>2</sup>: 0.6724<br>Measure: k_mf<br>Number of subjects: 10.0<br>ROIs per subject: 1.0<br>Total number of samples: 10.0\", \"R<sup>2</sup>: 0.0001<br>Measure: AD<br>Number of subjects: 25.0<br>ROIs per subject: 1.0<br>Total number of samples: 25.0\", \"R<sup>2</sup>: 0.0169<br>Measure: FA<br>Number of subjects: 25.0<br>ROIs per subject: 1.0<br>Total number of samples: 25.0\", \"R<sup>2</sup>: 0.0289<br>Measure: MD<br>Number of subjects: 25.0<br>ROIs per subject: 1.0<br>Total number of samples: 25.0\", \"R<sup>2</sup>: 0.1444<br>Measure: MTR<br>Number of subjects: 25.0<br>ROIs per subject: 1.0<br>Total number of samples: 25.0\", \"R<sup>2</sup>: 0.2116<br>Measure: RD<br>Number of subjects: 25.0<br>ROIs per subject: 1.0<br>Total number of samples: 25.0\", \"R<sup>2</sup>: 0.2872<br>Measure: MPF<br>Number of subjects: 15.0<br>ROIs per subject: 1.0<br>Total number of samples: 15.0\", \"R<sup>2</sup>: 0.9801<br>Measure: MPF<br>Number of subjects: 1.0<br>ROIs per subject: 9.0<br>Total number of samples: 9.0\", \"R<sup>2</sup>: 0.4637<br>Measure: FA<br>Number of subjects: 15.0<br>ROIs per subject: 1.0<br>Total number of samples: 15.0\", \"R<sup>2</sup>: 0.2787<br>Measure: RD<br>Number of subjects: 15.0<br>ROIs per subject: 1.0<br>Total number of samples: 15.0\", \"R<sup>2</sup>: 0.1987<br>Measure: AD<br>Number of subjects: 12.0<br>ROIs per subject: 3.0<br>Total number of samples: 36.0\", \"R<sup>2</sup>: 0.5707<br>Measure: FA<br>Number of subjects: 12.0<br>ROIs per subject: 3.0<br>Total number of samples: 36.0\", \"R<sup>2</sup>: 0.0564<br>Measure: MD<br>Number of subjects: 12.0<br>ROIs per subject: 3.0<br>Total number of samples: 36.0\", \"R<sup>2</sup>: 0.2973<br>Measure: RD<br>Number of subjects: 12.0<br>ROIs per subject: 3.0<br>Total number of samples: 36.0\", \"R<sup>2</sup>: 0.7<br>Measure: MPF<br>Number of subjects: 15.0<br>ROIs per subject: 4.0<br>Total number of samples: 60.0\", \"R<sup>2</sup>: 0.7<br>Measure: MVF-MT<br>Number of subjects: 15.0<br>ROIs per subject: 4.0<br>Total number of samples: 60.0\", \"R<sup>2</sup>: 0.68<br>Measure: MVF-T2<br>Number of subjects: 15.0<br>ROIs per subject: 4.0<br>Total number of samples: 60.0\", \"R<sup>2</sup>: 0.66<br>Measure: MWF<br>Number of subjects: 15.0<br>ROIs per subject: 4.0<br>Total number of samples: 60.0\", \"R<sup>2</sup>: 0.5184<br>Measure: T2<br>Number of subjects: 8.0<br>ROIs per subject: 3.0<br>Total number of samples: 24.0\", \"R<sup>2</sup>: 0.7569<br>Measure: FA<br>Number of subjects: 21.0<br>ROIs per subject: 1.0<br>Total number of samples: 21.0\", \"R<sup>2</sup>: 0.5329<br>Measure: MD<br>Number of subjects: 21.0<br>ROIs per subject: 1.0<br>Total number of samples: 21.0\", \"R<sup>2</sup>: 0.8281<br>Measure: RD<br>Number of subjects: 21.0<br>ROIs per subject: 1.0<br>Total number of samples: 21.0\", \"R<sup>2</sup>: 0.6241000000000001<br>Measure: MTR<br>Number of subjects: 16.0<br>ROIs per subject: 1.0<br>Total number of samples: 16.0\", \"R<sup>2</sup>: 0.334<br>Measure: FA<br>Number of subjects: 12.0<br>ROIs per subject: 1.0<br>Total number of samples: 12.0\"], \"textfont\": {\"size\": 15}, \"type\": \"treemap\", \"values\": [60.0, 60.0, 60.0, 17.0, 17.0, 17.0, 17.0, 20.0, 4.0, 20.0, 20.0, 56.0, 56.0, 56.0, 56.0, 21.0, 21.0, 600.0, 54.0, 24.0, 9.0, 9.0, 60.0, 60.0, 60.0, 60.0, 60.0, 60.0, 474.0, 474.0, 474.0, 48.0, 48.0, 48.0, 48.0, 48.0, 48.0, 48.0, 21.0, 21.0, 21.0, 21.0, 21.0, 21.0, 36.0, 78.0, 78.0, 78.0, 78.0, 78.0, 112.0, 13.0, 572.0, 219.0, 80.0, 80.0, 80.0, 80.0, 80.0, 80.0, 80.0, 32.0, 18.0, 11.0, 11.0, 11.0, 39.0, 39.0, 60.0, 60.0, 111.0, 111.0, 111.0, 111.0, 48.0, 48.0, 30.0, 30.0, 30.0, 30.0, 30.0, 30.0, 30.0, 30.0, 15.0, 15.0, 15.0, 15.0, 18.0, 18.0, 18.0, 18.0, 10.0, 10.0, 10.0, 10.0, 10.0, 10.0, 10.0, 10.0, 10.0, 10.0, 10.0, 10.0, 25.0, 25.0, 25.0, 25.0, 25.0, 15.0, 9.0, 15.0, 15.0, 36.0, 36.0, 36.0, 36.0, 60.0, 60.0, 60.0, 60.0, 24.0, 21.0, 21.0, 21.0, 16.0, 12.0, 362.0, 99.0, 543.0, 460.0, 78.0, 423.0, 1181.0, 9.0, 4.0, 60.0, 60.0, 866.0, 18.0, 485.0, 58.0, 474.0, 140.0, 532.0, 21.0, 99.0, 802.0, 60.0, 80.0, 202.0, 10.0, 121.0, 60.0, 21.0, 10.0, 58.0, 15.0]}],\n                        {\"annotations\": [{\"font\": {\"color\": \"gray\", \"size\": 8}, \"showarrow\": false, \"text\": \"<a href=\\\"https://neurolibre.com\\\" target=\\\"_blank\\\" style=\\\"color:gray!important\\\">NeuroLibre</a>\", \"x\": 1, \"xref\": \"paper\", \"y\": -0.055, \"yref\": \"paper\"}], \"autosize\": false, \"height\": 600, \"images\": [{\"opacity\": 0.9, \"sizex\": 0.04, \"sizey\": 0.04, \"source\": \"https://raw.githubusercontent.com/notebook-factory/brand/main/nlibre_custom2.svg\", \"x\": 0.89, \"xref\": \"paper\", \"y\": -0.010000000000000002, \"yref\": \"paper\"}], \"margin\": {\"l\": 0}, \"template\": {\"data\": {\"bar\": [{\"error_x\": {\"color\": \"#2a3f5f\"}, \"error_y\": {\"color\": \"#2a3f5f\"}, \"marker\": {\"line\": {\"color\": \"#E5ECF6\", \"width\": 0.5}}, \"type\": \"bar\"}], \"barpolar\": [{\"marker\": {\"line\": {\"color\": \"#E5ECF6\", \"width\": 0.5}}, \"type\": \"barpolar\"}], \"carpet\": [{\"aaxis\": {\"endlinecolor\": \"#2a3f5f\", \"gridcolor\": \"white\", \"linecolor\": \"white\", \"minorgridcolor\": \"white\", \"startlinecolor\": \"#2a3f5f\"}, \"baxis\": {\"endlinecolor\": \"#2a3f5f\", \"gridcolor\": \"white\", \"linecolor\": \"white\", \"minorgridcolor\": \"white\", \"startlinecolor\": \"#2a3f5f\"}, \"type\": \"carpet\"}], \"choropleth\": [{\"colorbar\": {\"outlinewidth\": 0, \"ticks\": \"\"}, \"type\": \"choropleth\"}], \"contour\": [{\"colorbar\": {\"outlinewidth\": 0, \"ticks\": \"\"}, \"colorscale\": [[0.0, \"#0d0887\"], [0.1111111111111111, \"#46039f\"], [0.2222222222222222, \"#7201a8\"], [0.3333333333333333, \"#9c179e\"], [0.4444444444444444, \"#bd3786\"], [0.5555555555555556, \"#d8576b\"], [0.6666666666666666, \"#ed7953\"], [0.7777777777777778, \"#fb9f3a\"], [0.8888888888888888, \"#fdca26\"], [1.0, \"#f0f921\"]], \"type\": \"contour\"}], \"contourcarpet\": [{\"colorbar\": {\"outlinewidth\": 0, \"ticks\": \"\"}, \"type\": \"contourcarpet\"}], \"heatmap\": [{\"colorbar\": {\"outlinewidth\": 0, \"ticks\": \"\"}, \"colorscale\": [[0.0, \"#0d0887\"], [0.1111111111111111, \"#46039f\"], [0.2222222222222222, \"#7201a8\"], [0.3333333333333333, \"#9c179e\"], [0.4444444444444444, \"#bd3786\"], [0.5555555555555556, \"#d8576b\"], [0.6666666666666666, \"#ed7953\"], [0.7777777777777778, \"#fb9f3a\"], [0.8888888888888888, \"#fdca26\"], [1.0, \"#f0f921\"]], \"type\": \"heatmap\"}], \"heatmapgl\": [{\"colorbar\": {\"outlinewidth\": 0, \"ticks\": \"\"}, \"colorscale\": [[0.0, \"#0d0887\"], [0.1111111111111111, \"#46039f\"], [0.2222222222222222, \"#7201a8\"], [0.3333333333333333, \"#9c179e\"], [0.4444444444444444, \"#bd3786\"], [0.5555555555555556, \"#d8576b\"], [0.6666666666666666, \"#ed7953\"], [0.7777777777777778, \"#fb9f3a\"], [0.8888888888888888, \"#fdca26\"], [1.0, \"#f0f921\"]], \"type\": \"heatmapgl\"}], \"histogram\": [{\"marker\": {\"colorbar\": {\"outlinewidth\": 0, \"ticks\": \"\"}}, \"type\": \"histogram\"}], \"histogram2d\": [{\"colorbar\": {\"outlinewidth\": 0, \"ticks\": \"\"}, \"colorscale\": [[0.0, \"#0d0887\"], [0.1111111111111111, \"#46039f\"], [0.2222222222222222, \"#7201a8\"], [0.3333333333333333, \"#9c179e\"], [0.4444444444444444, \"#bd3786\"], [0.5555555555555556, \"#d8576b\"], [0.6666666666666666, \"#ed7953\"], [0.7777777777777778, \"#fb9f3a\"], [0.8888888888888888, \"#fdca26\"], [1.0, \"#f0f921\"]], \"type\": \"histogram2d\"}], \"histogram2dcontour\": [{\"colorbar\": {\"outlinewidth\": 0, \"ticks\": \"\"}, \"colorscale\": [[0.0, \"#0d0887\"], [0.1111111111111111, \"#46039f\"], [0.2222222222222222, \"#7201a8\"], [0.3333333333333333, \"#9c179e\"], [0.4444444444444444, \"#bd3786\"], [0.5555555555555556, \"#d8576b\"], [0.6666666666666666, \"#ed7953\"], [0.7777777777777778, \"#fb9f3a\"], [0.8888888888888888, \"#fdca26\"], [1.0, \"#f0f921\"]], \"type\": \"histogram2dcontour\"}], \"mesh3d\": [{\"colorbar\": {\"outlinewidth\": 0, \"ticks\": \"\"}, \"type\": \"mesh3d\"}], \"parcoords\": [{\"line\": {\"colorbar\": {\"outlinewidth\": 0, \"ticks\": \"\"}}, \"type\": \"parcoords\"}], \"pie\": [{\"automargin\": true, \"type\": \"pie\"}], \"scatter\": [{\"marker\": {\"colorbar\": {\"outlinewidth\": 0, \"ticks\": \"\"}}, \"type\": \"scatter\"}], \"scatter3d\": [{\"line\": {\"colorbar\": {\"outlinewidth\": 0, \"ticks\": \"\"}}, \"marker\": {\"colorbar\": {\"outlinewidth\": 0, \"ticks\": \"\"}}, \"type\": \"scatter3d\"}], \"scattercarpet\": [{\"marker\": {\"colorbar\": {\"outlinewidth\": 0, \"ticks\": \"\"}}, \"type\": \"scattercarpet\"}], \"scattergeo\": [{\"marker\": {\"colorbar\": {\"outlinewidth\": 0, \"ticks\": \"\"}}, \"type\": \"scattergeo\"}], \"scattergl\": [{\"marker\": {\"colorbar\": {\"outlinewidth\": 0, \"ticks\": \"\"}}, \"type\": \"scattergl\"}], \"scattermapbox\": [{\"marker\": {\"colorbar\": {\"outlinewidth\": 0, \"ticks\": \"\"}}, \"type\": \"scattermapbox\"}], \"scatterpolar\": [{\"marker\": {\"colorbar\": {\"outlinewidth\": 0, \"ticks\": \"\"}}, \"type\": \"scatterpolar\"}], \"scatterpolargl\": [{\"marker\": {\"colorbar\": {\"outlinewidth\": 0, \"ticks\": \"\"}}, \"type\": \"scatterpolargl\"}], \"scatterternary\": [{\"marker\": {\"colorbar\": {\"outlinewidth\": 0, \"ticks\": \"\"}}, \"type\": \"scatterternary\"}], \"surface\": [{\"colorbar\": {\"outlinewidth\": 0, \"ticks\": \"\"}, \"colorscale\": [[0.0, \"#0d0887\"], [0.1111111111111111, \"#46039f\"], [0.2222222222222222, \"#7201a8\"], [0.3333333333333333, \"#9c179e\"], [0.4444444444444444, \"#bd3786\"], [0.5555555555555556, \"#d8576b\"], [0.6666666666666666, \"#ed7953\"], [0.7777777777777778, \"#fb9f3a\"], [0.8888888888888888, \"#fdca26\"], [1.0, \"#f0f921\"]], \"type\": \"surface\"}], \"table\": [{\"cells\": {\"fill\": {\"color\": \"#EBF0F8\"}, \"line\": {\"color\": \"white\"}}, \"header\": {\"fill\": {\"color\": \"#C8D4E3\"}, \"line\": {\"color\": \"white\"}}, \"type\": \"table\"}]}, \"layout\": {\"annotationdefaults\": {\"arrowcolor\": \"#2a3f5f\", \"arrowhead\": 0, \"arrowwidth\": 1}, \"coloraxis\": {\"colorbar\": {\"outlinewidth\": 0, \"ticks\": \"\"}}, \"colorscale\": {\"diverging\": [[0, \"#8e0152\"], [0.1, \"#c51b7d\"], [0.2, \"#de77ae\"], [0.3, \"#f1b6da\"], [0.4, \"#fde0ef\"], [0.5, \"#f7f7f7\"], [0.6, \"#e6f5d0\"], [0.7, \"#b8e186\"], [0.8, \"#7fbc41\"], [0.9, \"#4d9221\"], [1, \"#276419\"]], \"sequential\": [[0.0, \"#0d0887\"], [0.1111111111111111, \"#46039f\"], [0.2222222222222222, \"#7201a8\"], [0.3333333333333333, \"#9c179e\"], [0.4444444444444444, \"#bd3786\"], [0.5555555555555556, \"#d8576b\"], [0.6666666666666666, \"#ed7953\"], [0.7777777777777778, \"#fb9f3a\"], [0.8888888888888888, \"#fdca26\"], [1.0, \"#f0f921\"]], \"sequentialminus\": [[0.0, \"#0d0887\"], [0.1111111111111111, \"#46039f\"], [0.2222222222222222, \"#7201a8\"], [0.3333333333333333, \"#9c179e\"], [0.4444444444444444, \"#bd3786\"], [0.5555555555555556, \"#d8576b\"], [0.6666666666666666, \"#ed7953\"], [0.7777777777777778, \"#fb9f3a\"], [0.8888888888888888, \"#fdca26\"], [1.0, \"#f0f921\"]]}, \"colorway\": [\"#636efa\", \"#EF553B\", \"#00cc96\", \"#ab63fa\", \"#FFA15A\", \"#19d3f3\", \"#FF6692\", \"#B6E880\", \"#FF97FF\", \"#FECB52\"], \"font\": {\"color\": \"#2a3f5f\"}, \"geo\": {\"bgcolor\": \"white\", \"lakecolor\": \"white\", \"landcolor\": \"#E5ECF6\", \"showlakes\": true, \"showland\": true, \"subunitcolor\": \"white\"}, \"hoverlabel\": {\"align\": \"left\"}, \"hovermode\": \"closest\", \"mapbox\": {\"style\": \"light\"}, \"paper_bgcolor\": \"white\", \"plot_bgcolor\": \"#E5ECF6\", \"polar\": {\"angularaxis\": {\"gridcolor\": \"white\", \"linecolor\": \"white\", \"ticks\": \"\"}, \"bgcolor\": \"#E5ECF6\", \"radialaxis\": {\"gridcolor\": \"white\", \"linecolor\": \"white\", \"ticks\": \"\"}}, \"scene\": {\"xaxis\": {\"backgroundcolor\": \"#E5ECF6\", \"gridcolor\": \"white\", \"gridwidth\": 2, \"linecolor\": \"white\", \"showbackground\": true, \"ticks\": \"\", \"zerolinecolor\": \"white\"}, \"yaxis\": {\"backgroundcolor\": \"#E5ECF6\", \"gridcolor\": \"white\", \"gridwidth\": 2, \"linecolor\": \"white\", \"showbackground\": true, \"ticks\": \"\", \"zerolinecolor\": \"white\"}, \"zaxis\": {\"backgroundcolor\": \"#E5ECF6\", \"gridcolor\": \"white\", \"gridwidth\": 2, \"linecolor\": \"white\", \"showbackground\": true, \"ticks\": \"\", \"zerolinecolor\": \"white\"}}, \"shapedefaults\": {\"line\": {\"color\": \"#2a3f5f\"}}, \"ternary\": {\"aaxis\": {\"gridcolor\": \"white\", \"linecolor\": \"white\", \"ticks\": \"\"}, \"baxis\": {\"gridcolor\": \"white\", \"linecolor\": \"white\", \"ticks\": \"\"}, \"bgcolor\": \"#E5ECF6\", \"caxis\": {\"gridcolor\": \"white\", \"linecolor\": \"white\", \"ticks\": \"\"}}, \"title\": {\"x\": 0.05}, \"xaxis\": {\"automargin\": true, \"gridcolor\": \"white\", \"linecolor\": \"white\", \"ticks\": \"\", \"title\": {\"standoff\": 15}, \"zerolinecolor\": \"white\", \"zerolinewidth\": 2}, \"yaxis\": {\"automargin\": true, \"gridcolor\": \"white\", \"linecolor\": \"white\", \"ticks\": \"\", \"title\": {\"standoff\": 15}, \"zerolinecolor\": \"white\", \"zerolinewidth\": 2}}}, \"title\": {\"text\": \"Figure 4 - R<sup>2</sup> values across studies\"}, \"width\": 650},\n                        {\"responsive\": true}\n                    ).then(function(){\n                            \nvar gd = document.getElementById('67a21735-44fd-4a28-a521-173d75930388');\nvar x = new MutationObserver(function (mutations, observer) {{\n        var display = window.getComputedStyle(gd).display;\n        if (!display || display === 'none') {{\n            console.log([gd, 'removed!']);\n            Plotly.purge(gd);\n            observer.disconnect();\n        }}\n}});\n\n// Listen for the removal of the full notebook cells\nvar notebookContainer = gd.closest('#notebook-container');\nif (notebookContainer) {{\n    x.observe(notebookContainer, {childList: true});\n}}\n\n// Listen for the clearing of the current output cell\nvar outputEl = gd.closest('.output');\nif (outputEl) {{\n    x.observe(outputEl, {childList: true});\n}}\n\n                        })\n                };\n                });\n            </script>\n        </div>"
     },
     "metadata": {},
     "output_type": "display_data"
    }
   ],
   "source": [
    "filtered_df=filtered_df.sort_values(by=['Study','Measure'])\n",
    "\n",
    "args = dict(data_frame=filtered_df, values='Sample points',\n",
    "            color='R^2', hover_data='',\n",
    "            path=['Measure', 'Study'],\n",
    "            color_continuous_scale='Viridis')\n",
    "args = px._core.build_dataframe(args, go.Treemap)\n",
    "treemap_df = px._core.process_dataframe_hierarchy(args)['data_frame']\n",
    "\n",
    "fig4 = go.Figure(go.Treemap(\n",
    "        ids=treemap_df['id'].tolist(),\n",
    "        labels=treemap_df['labels'].tolist(),\n",
    "        parents=treemap_df['parent'].tolist(),\n",
    "        values=treemap_df['Sample points'].tolist(),\n",
    "        branchvalues='total',\n",
    "        text='R<sup>2</sup>: ' + filtered_df['R^2'].astype(str) + '<br>' + filtered_df['Details'],\n",
    "        hovertext=filtered_df['Study'] + '<br>R<sup>2</sup>: ' + filtered_df['R^2'].astype(str) +\n",
    "            '<br>Number of samples: ' + filtered_df['Sample points'].astype(str),\n",
    "        hoverinfo='text',\n",
    "        textfont=dict(\n",
    "            size=15,\n",
    "        ),\n",
    "        marker=dict(\n",
    "            colors=filtered_df['R^2'],\n",
    "            colorscale='Viridis',\n",
    "            colorbar=dict(title='R<sup>2</sup>'),\n",
    "            showscale=True\n",
    "        )\n",
    "    )\n",
    ")\n",
    "\n",
    "fig4 = fig4.update_layout(\n",
    "    title=dict(text=\"Figure 4 - R<sup>2</sup> values across studies\"),\n",
    "    autosize=False,\n",
    "    width=650,\n",
    "    height=600,\n",
    "    margin=dict(\n",
    "        l=0\n",
    "    )\n",
    ")\n",
    "\n",
    "# Save (pickle) filtered dataframe\n",
    "# filtered_df.to_pickle('filtered_df.pkl')\n",
    "\n",
    "plot(insertLogo(fig4,0.04,0.04,1,-0.055,-0.11,0.045), filename = 'fig4.html',config = config)\n",
    "# display(HTML('fig4.html'))\n",
    "\n",
    "# fig4.show()\n",
    "plotly.offline.iplot(fig4, filename=\"Figure 4\")\n"
   ],
   "metadata": {
    "collapsed": false,
    "pycharm": {
     "name": "#%%\n"
    }
   }
  },
  {
   "cell_type": "markdown",
   "metadata": {
    "collapsed": true,
    "pycharm": {
     "name": "#%% md\n"
    }
   },
   "source": [
    "\n",
    "### Figure 5"
   ]
  },
  {
   "cell_type": "code",
   "execution_count": 17,
   "outputs": [
    {
     "data": {
      "application/vnd.plotly.v1+json": {
       "config": {
        "linkText": "Export to plot.ly",
        "plotlyServerURL": "https://plot.ly",
        "showLink": false
       },
       "data": [
        {
         "hovertemplate": "Prediction boundary: %{x}<extra></extra>",
         "line": {
          "color": "black",
          "dash": "dot",
          "width": 2
         },
         "marker": {
          "size": 8,
          "symbol": "hourglass-open"
         },
         "type": "scatter",
         "x": [
          0,
          0.89
         ],
         "xaxis": "x",
         "y": [
          "Mixed model",
          "Mixed model"
         ],
         "yaxis": "y"
        },
        {
         "error_x": {
          "array": [
           0.15
          ],
          "arrayminus": [
           0.15
          ],
          "type": "data"
         },
         "hovertemplate": "R<sup>2</sup> estimate: %{x}<extra></extra>",
         "marker": {
          "color": "black",
          "size": 10,
          "symbol": "diamond-wide"
         },
         "mode": "markers",
         "type": "scatter",
         "x": [
          0.34
         ],
         "xaxis": "x",
         "y": [
          "Mixed model"
         ],
         "yaxis": "y"
        },
        {
         "customdata": [
          "Microscopy - Myelin thickness",
          "Immunohistochemistry - MBP",
          "Immunohistochemistry - MBP",
          "Immunohistochemistry - PLP",
          "Immunohistochemistry - MBP",
          "Histology - Gold chloride",
          "Immunohistochemistry - MBP",
          "EM - Myelin fraction",
          "EM - Myelin fraction",
          "Immunohistochemistry - MBP",
          "Histology - LFB",
          "EM - Myelin thickness",
          "Immunohistochemistry - MBP",
          "Histology - LFB",
          "Histology - LFB"
         ],
         "error_x": {
          "array": [
           0.17613243823214395,
           0.3687080145589461,
           0.2554324971207331,
           0.13654242540690423,
           0.1002381051012324,
           0.017294527313575243,
           0.35109668408372674,
           0.3073284750212013,
           0.14463570960918967,
           0.29013120000000003,
           0.21497695008302636,
           0.2675248953170527,
           0.3442138869946998,
           0.3932772082935903,
           0.20343073052810876
          ],
          "type": "data"
         },
         "hovertemplate": "%{y}<br>R<sup>2</sup>: %{x}<br>Number of samples: %{text}<br>Reference: %{customdata}<extra></extra>",
         "marker": {
          "color": "rgb(127, 60, 141)",
          "size": [
           8.771355520482514,
           7.293817839815461,
           8.027911573310421,
           9.280557174160828,
           9.898731110932017,
           13.413047702108644,
           7.391704646981149,
           7.657993670899328,
           9.165391457198632,
           7.773161455581593,
           8.37276629758387,
           7.935402667289435,
           7.431301467157509,
           7.16479846884972,
           8.48317681168955
          ],
          "symbol": "square"
         },
         "mode": "markers",
         "text": [
          60.0,
          15.0,
          36.0,
          21.0,
          56.0,
          80.0,
          17.0,
          21.0,
          78.0,
          25.0,
          48.0,
          10.0,
          20.0,
          15.0,
          30.0
         ],
         "type": "scatter",
         "x": [
          0.1681,
          0.49,
          0.2973,
          0.8281,
          0.038,
          0.0015,
          0.2097,
          0.5041,
          0.1369,
          0.2116,
          0.2401,
          0.7569,
          0.34,
          0.2787,
          0.6561
         ],
         "xaxis": "x",
         "y": [
          "Abe et al., 2019",
          "Soustelle et al., 2019",
          "Wendel et al., 2018",
          "Yano et al., 2018",
          "Chang et al., 2017",
          "Lehto et al., 2017a",
          "Aojula et al., 2016",
          "Jelescu et al., 2016",
          "Kelm et al., 2016",
          "Tu et al., 2016",
          "Janve et al., 2013",
          "Thiessen et al., 2013",
          "Chandran et al., 2012",
          "Wang et al., 2009",
          "Schmierer et al., 2008"
         ],
         "yaxis": "y"
        },
        {
         "hovertemplate": "Prediction boundary: %{x}<extra></extra>",
         "line": {
          "color": "black",
          "dash": "dot",
          "width": 2
         },
         "marker": {
          "size": 8,
          "symbol": "hourglass-open"
         },
         "type": "scatter",
         "x": [
          0,
          0.75
         ],
         "xaxis": "x2",
         "y": [
          "Mixed model",
          "Mixed model"
         ],
         "yaxis": "y2"
        },
        {
         "error_x": {
          "array": [
           0.18
          ],
          "arrayminus": [
           0.18
          ],
          "type": "data"
         },
         "hovertemplate": "R<sup>2</sup> estimate: %{x}<extra></extra>",
         "marker": {
          "color": "black",
          "size": 10,
          "symbol": "diamond-wide"
         },
         "mode": "markers",
         "type": "scatter",
         "x": [
          0.21
         ],
         "xaxis": "x2",
         "y": [
          "Mixed model"
         ],
         "yaxis": "y2"
        },
        {
         "customdata": [
          "Microscopy - Myelin thickness",
          "Immunohistochemistry - MBP",
          "Immunohistochemistry - MBP",
          "Histology - Gold chloride",
          "Immunohistochemistry - MBP",
          "Immunohistochemistry - MBP",
          "Histology - LFB",
          "EM - Myelin thickness",
          "Histology - LFB"
         ],
         "error_x": {
          "array": [
           0.05611643029986851,
           0.2381238070164342,
           0.1752781236190888,
           0.16810893646620934,
           0.3039883315655389,
           0.007999200000000001,
           0.04589241819734498,
           0.4150489428970998,
           0.2103254620819838
          ],
          "type": "data"
         },
         "hovertemplate": "%{y}<br>R<sup>2</sup>: %{x}<br>Number of samples: %{text}<br>Reference: %{customdata}<extra></extra>",
         "marker": {
          "color": "rgb(127, 60, 141)",
          "size": [
           11.058970634773216,
           8.168246452584956,
           8.781079944149603,
           8.864603523294363,
           7.6798492891893515,
           14.955144851153305,
           11.461228079438502,
           7.0570350285747985,
           8.416515623662793
          ],
          "symbol": "square"
         },
         "mode": "markers",
         "text": [
          60.0,
          36.0,
          56.0,
          80.0,
          17.0,
          25.0,
          48.0,
          10.0,
          30.0
         ],
         "type": "scatter",
         "x": [
          0.0121,
          0.1987,
          0.1482,
          0.4199,
          0.1296,
          1.0E-4,
          0.0064,
          0.5625,
          0.64
         ],
         "xaxis": "x2",
         "y": [
          "Abe et al., 2019",
          "Wendel et al., 2018",
          "Chang et al., 2017",
          "Lehto et al., 2017a",
          "Aojula et al., 2016",
          "Tu et al., 2016",
          "Janve et al., 2013",
          "Thiessen et al., 2013",
          "Schmierer et al., 2008"
         ],
         "yaxis": "y2"
        },
        {
         "hovertemplate": "Prediction boundary: %{x}<extra></extra>",
         "line": {
          "color": "black",
          "dash": "dot",
          "width": 2
         },
         "marker": {
          "size": 8,
          "symbol": "hourglass-open"
         },
         "type": "scatter",
         "x": [
          0,
          0.94
         ],
         "xaxis": "x3",
         "y": [
          "Mixed model",
          "Mixed model"
         ],
         "yaxis": "y3"
        },
        {
         "error_x": {
          "array": [
           0.14
          ],
          "arrayminus": [
           0.14
          ],
          "type": "data"
         },
         "hovertemplate": "R<sup>2</sup> estimate: %{x}<extra></extra>",
         "marker": {
          "color": "black",
          "size": 10,
          "symbol": "diamond-wide"
         },
         "mode": "markers",
         "type": "scatter",
         "x": [
          0.38
         ],
         "xaxis": "x3",
         "y": [
          "Mixed model"
         ],
         "yaxis": "y3"
        },
        {
         "customdata": [
          "Microscopy - Myelin thickness",
          "Immunohistochemistry - MBP",
          "Histology - Solochrome",
          "Immunohistochemistry - MBP",
          "Immunohistochemistry - PLP",
          "Immunohistochemistry - MBP",
          "Histology - Gold chloride",
          "Immunohistochemistry - MBP",
          "Immunohistochemistry - MBP",
          "Immunohistochemistry - MBP",
          "Histology - LFB",
          "EM - Myelin thickness",
          "Immunohistochemistry - MBP",
          "Histology - LFB",
          "Microscopy - Myelin sheath area",
          "Histology - LFB",
          "Histology - LFB"
         ],
         "error_x": {
          "array": [
           0.14832596699971318,
           0.35769420790390216,
           0.2727785194848811,
           0.21620889923405096,
           0.18460971652496672,
           0.1909721779803839,
           0.16420167237455288,
           0.4444437782217228,
           0.29546994253103664,
           0.1022424,
           0.14452058733273956,
           0.3128074464995998,
           0.31622776601683794,
           0.37717309604017796,
           0.15253545275771138,
           0.18857211298810864,
           0.1714505132888204
          ],
          "type": "data"
         },
         "hovertemplate": "%{y}<br>R<sup>2</sup>: %{x}<br>Number of samples: %{text}<br>Reference: %{customdata}<extra></extra>",
         "marker": {
          "color": "rgb(127, 60, 141)",
          "size": [
           9.115003261334497,
           7.354471017461779,
           7.896507560556547,
           8.361337791707085,
           8.677340012018812,
           8.609572419687748,
           8.911637160609194,
           6.920180796985188,
           7.736693695813234,
           9.859134995448082,
           9.166983983922071,
           7.622652295846688,
           7.600902459542082,
           7.2484194789817025,
           9.059033832255112,
           8.634866932510489,
           8.825238579082296
          ],
          "symbol": "square"
         },
         "mode": "markers",
         "text": [
          60.0,
          18.0,
          11.0,
          36.0,
          21.0,
          56.0,
          80.0,
          12.0,
          17.0,
          25.0,
          48.0,
          10.0,
          20.0,
          15.0,
          36.0,
          30.0,
          48.0
         ],
         "type": "scatter",
         "x": [
          0.1024,
          0.2704,
          0.0576,
          0.5707,
          0.7569,
          0.1989,
          0.2237,
          0.334,
          0.1197,
          0.0169,
          0.0729,
          0.7056,
          0.5,
          0.4637,
          0.7327,
          0.6889,
          0.6241000000000001
         ],
         "xaxis": "x3",
         "y": [
          "Abe et al., 2019",
          "Mollink et al., 2019",
          "Pol et al., 2019",
          "Wendel et al., 2018",
          "Yano et al., 2018",
          "Chang et al., 2017",
          "Lehto et al., 2017a",
          "van Tilborg et al., 2017",
          "Aojula et al., 2016",
          "Tu et al., 2016",
          "Janve et al., 2013",
          "Thiessen et al., 2013",
          "Chandran et al., 2012",
          "Wang et al., 2009",
          "Jito et al., 2008",
          "Schmierer et al., 2008",
          "Schmierer et al., 2007b"
         ],
         "yaxis": "y3"
        },
        {
         "hovertemplate": "Prediction boundary: %{x}<extra></extra>",
         "line": {
          "color": "black",
          "dash": "dot",
          "width": 2
         },
         "marker": {
          "size": 8,
          "symbol": "hourglass-open"
         },
         "type": "scatter",
         "x": [
          0,
          0.75
         ],
         "xaxis": "x4",
         "y": [
          "Mixed model",
          "Mixed model"
         ],
         "yaxis": "y4"
        },
        {
         "error_x": {
          "array": [
           0.15
          ],
          "arrayminus": [
           0.15
          ],
          "type": "data"
         },
         "hovertemplate": "R<sup>2</sup> estimate: %{x}<extra></extra>",
         "marker": {
          "color": "black",
          "size": 10,
          "symbol": "diamond-wide"
         },
         "mode": "markers",
         "type": "scatter",
         "x": [
          0.26
         ],
         "xaxis": "x4",
         "y": [
          "Mixed model"
         ],
         "yaxis": "y4"
        },
        {
         "customdata": [
          "Histology - Solochrome",
          "Immunohistochemistry - MBP",
          "Immunohistochemistry - PLP",
          "Immunohistochemistry - MBP",
          "Histology - Gold chloride",
          "Immunohistochemistry - MBP",
          "EM - Myelin fraction",
          "Immunohistochemistry - MBP",
          "Histology - LFB",
          "EM - Myelin thickness",
          "Histology - LFB",
          "Histology - LFB"
         ],
         "error_x": {
          "array": [
           0.46387037945137605,
           0.14939505591105304,
           0.29763436346535754,
           0.05992692380605851,
           0.17198859932449012,
           0.36254800899126366,
           0.1391002336446636,
           0.13206959999999998,
           0.14898408226384455,
           0.3523523610955374,
           0.22306767965978397,
           0.21106078320711308
          ],
          "type": "data"
         },
         "hovertemplate": "%{y}<br>R<sup>2</sup>: %{x}<br>Number of samples: %{text}<br>Reference: %{customdata}<extra></extra>",
         "marker": {
          "color": "rgb(127, 60, 141)",
          "size": [
           6.834617607374657,
           9.100639566139723,
           7.7220963946592285,
           10.927576157774505,
           8.818971541273335,
           7.327514116268106,
           9.243438367279435,
           9.347169811803864,
           9.106148984922942,
           7.38456452302144,
           8.298877481218973,
           8.40953559638651
          ],
          "symbol": "square"
         },
         "mode": "markers",
         "text": [
          11.0,
          36.0,
          21.0,
          56.0,
          80.0,
          17.0,
          78.0,
          25.0,
          48.0,
          10.0,
          30.0,
          48.0
         ],
         "type": "scatter",
         "x": [
          0.3481,
          0.0564,
          0.5329,
          0.0129,
          0.3492,
          0.245,
          0.1225,
          0.0289,
          0.0784,
          0.6561,
          0.6084,
          0.4624000000000001
         ],
         "xaxis": "x4",
         "y": [
          "Pol et al., 2019",
          "Wendel et al., 2018",
          "Yano et al., 2018",
          "Chang et al., 2017",
          "Lehto et al., 2017a",
          "Aojula et al., 2016",
          "Kelm et al., 2016",
          "Tu et al., 2016",
          "Janve et al., 2013",
          "Thiessen et al., 2013",
          "Schmierer et al., 2008",
          "Schmierer et al., 2007b"
         ],
         "yaxis": "y4"
        },
        {
         "hovertemplate": "Prediction boundary: %{x}<extra></extra>",
         "line": {
          "color": "black",
          "dash": "dot",
          "width": 2
         },
         "marker": {
          "size": 8,
          "symbol": "hourglass-open"
         },
         "type": "scatter",
         "x": [
          0,
          1
         ],
         "xaxis": "x5",
         "y": [
          "Mixed model",
          "Mixed model"
         ],
         "yaxis": "y5"
        },
        {
         "error_x": {
          "array": [
           0.15
          ],
          "arrayminus": [
           0.15
          ],
          "type": "data"
         },
         "hovertemplate": "R<sup>2</sup> estimate: %{x}<extra></extra>",
         "marker": {
          "color": "black",
          "size": 10,
          "symbol": "diamond-wide"
         },
         "mode": "markers",
         "type": "scatter",
         "x": [
          0.51
         ],
         "xaxis": "x5",
         "y": [
          "Mixed model"
         ],
         "yaxis": "y5"
        },
        {
         "customdata": [
          "Immunohistochemistry - MBP",
          "Microscopy - Fluorescence",
          "Histology - LFB",
          "Histology - Gold chloride",
          "Histology - Gold chloride",
          "Histology - Gold chloride",
          "EM - Myelin fraction",
          "Immunohistochemistry - MBP",
          "Immunohistochemistry - PLP",
          "Immunohistochemistry - PLP",
          "Immunohistochemistry - MBP",
          "Immunohistochemistry - MBP",
          "Histology - LFB",
          "Immunohistochemistry - MBP",
          "Histology - LFB",
          "Histology - LFB"
         ],
         "error_x": {
          "array": [
           0.48832775878501933,
           0.16959784365205993,
           0.1826478614865227,
           0.15532998539174592,
           0.0411339276024063,
           0.19873198031519737,
           0.2507166441930582,
           0.2601024,
           0.08083316151184489,
           0.20949779243953154,
           0.3620386719675123,
           0.041521841641879685,
           0.2669731198693981,
           0.2969609999999999,
           0.09388919028704402,
           0.12770310527782794
          ],
          "type": "data"
         },
         "hovertemplate": "%{y}<br>R<sup>2</sup>: %{x}<br>Number of samples: %{text}<br>Reference: %{customdata}<extra></extra>",
         "marker": {
          "color": "rgb(17, 165, 121)",
          "size": [
           6.731854289991105,
           8.846967906589729,
           8.698707834684495,
           9.022724340605832,
           11.68016138434614,
           8.529913755825618,
           8.065181136835818,
           7.99167712524764,
           10.329053332351295,
           8.424401520461906,
           7.330325854993241,
           11.661388737691198,
           7.939531967140774,
           7.7266262904141865,
           10.029597404164976,
           9.414411765074743
          ],
          "symbol": "square"
         },
         "mode": "markers",
         "text": [
          9.0,
          21.0,
          20.0,
          80.0,
          32.0,
          60.0,
          21.0,
          25.0,
          24.0,
          54.0,
          18.0,
          600.0,
          30.0,
          16.0,
          111.0,
          60.0
         ],
         "type": "scatter",
         "x": [
          0.46,
          0.78,
          0.7668,
          0.5169,
          0.94,
          0.34,
          0.1024,
          0.1444,
          0.01,
          0.338,
          0.36,
          0.695,
          0.4624,
          0.6241000000000001,
          0.7055999999999999,
          0.7055999999999999
         ],
         "xaxis": "x5",
         "y": [
          "Guglielmetti et al., 2020",
          "Duhamel et al., 2019",
          "Beckmann et al., 2018",
          "Lehto et al., 2017a",
          "Lehto et al., 2017b",
          "Hakkarainen et al., 2016",
          "Jelescu et al., 2016",
          "Tu et al., 2016",
          "Fjaer et al., 2015",
          "Fjaer et al., 2013",
          "Tardif et al., 2012",
          "Fatemi et al., 2011",
          "Schmierer et al., 2008",
          "Zaaraoui et al., 2008",
          "Schmierer et al., 2007a",
          "Schmierer et al., 2004"
         ],
         "yaxis": "y5"
        },
        {
         "hovertemplate": "Prediction boundary: %{x}<extra></extra>",
         "line": {
          "color": "black",
          "dash": "dot",
          "width": 2
         },
         "marker": {
          "size": 8,
          "symbol": "hourglass-open"
         },
         "type": "scatter",
         "x": [
          0.49,
          1
         ],
         "xaxis": "x6",
         "y": [
          "Mixed model",
          "Mixed model"
         ],
         "yaxis": "y6"
        },
        {
         "error_x": {
          "array": [
           0.1
          ],
          "arrayminus": [
           0.1
          ],
          "type": "data"
         },
         "hovertemplate": "R<sup>2</sup> estimate: %{x}<extra></extra>",
         "marker": {
          "color": "black",
          "size": 10,
          "symbol": "diamond-wide"
         },
         "mode": "markers",
         "type": "scatter",
         "x": [
          0.77
         ],
         "xaxis": "x6",
         "y": [
          "Mixed model"
         ],
         "yaxis": "y6"
        },
        {
         "customdata": [
          "Immunohistochemistry - MBP",
          "Immunohistochemistry - MBP",
          "EM - Myelin fraction",
          "Histology - LFB",
          "Immunohistochemistry - MBP",
          "Histology - LFB",
          "EM - Myelin thickness",
          "Histology - LFB",
          "Histology - LFB",
          "Histology - LFB"
         ],
         "error_x": {
          "array": [
           0.1808288608687146,
           0.21843316233942134,
           0.12961481396815722,
           0.07372452489795082,
           0.3945247657260568,
           0.13618249474510297,
           0.15892722082261426,
           0.026268000000000038,
           0.16354557389058252,
           0.10934300111068786
          ],
          "type": "data"
         },
         "hovertemplate": "%{y}<br>R<sup>2</sup>: %{x}<br>Number of samples: %{text}<br>Reference: %{customdata}<extra></extra>",
         "marker": {
          "color": "rgb(17, 165, 121)",
          "size": [
           8.718725796677484,
           8.3408677753976,
           9.38469375912096,
           10.513156903643507,
           7.158464092869608,
           9.285836205802992,
           8.976935191003939,
           12.577124987854855,
           8.919644542735025,
           9.724848443312972
          ],
          "symbol": "square"
         },
         "mode": "markers",
         "text": [
          13.0,
          15.0,
          60.0,
          112.0,
          15.0,
          48.0,
          10.0,
          9.0,
          30.0,
          111.0
         ],
         "type": "scatter",
         "x": [
          0.82,
          0.7569,
          0.7,
          0.779,
          0.2872,
          0.7225,
          0.8649,
          0.9801,
          0.7396,
          0.6400000000000001
         ],
         "xaxis": "x6",
         "y": [
          "Khodanovic et al., 2019",
          "Soustelle et al., 2019",
          "West et al., 2018",
          "Khodanovic et al., 2017",
          "Turati et al., 2015",
          "Janve et al., 2013",
          "Thiessen et al., 2013",
          "Underhill et al., 2011",
          "Schmierer et al., 2008",
          "Schmierer et al., 2007a"
         ],
         "yaxis": "y6"
        },
        {
         "hovertemplate": "Prediction boundary: %{x}<extra></extra>",
         "line": {
          "color": "black",
          "dash": "dot",
          "width": 2
         },
         "marker": {
          "size": 8,
          "symbol": "hourglass-open"
         },
         "type": "scatter",
         "x": [
          0.07,
          0.99
         ],
         "xaxis": "x7",
         "y": [
          "Mixed model",
          "Mixed model"
         ],
         "yaxis": "y7"
        },
        {
         "error_x": {
          "array": [
           0.16
          ],
          "arrayminus": [
           0.16
          ],
          "type": "data"
         },
         "hovertemplate": "R<sup>2</sup> estimate: %{x}<extra></extra>",
         "marker": {
          "color": "black",
          "size": 10,
          "symbol": "diamond-wide"
         },
         "mode": "markers",
         "type": "scatter",
         "x": [
          0.53
         ],
         "xaxis": "x7",
         "y": [
          "Mixed model"
         ],
         "yaxis": "y7"
        },
        {
         "customdata": [
          "Histology - LFB",
          "Histology - Gold chloride",
          "Immunohistochemistry - MBP",
          "EM - Myelin thickness",
          "Immunohistochemistry - MBP",
          "Histology - LFB",
          "Histology - LFB",
          "Histology - LFB"
         ],
         "error_x": {
          "array": [
           0.07070628635197697,
           0.10422155887019409,
           0.24295868594665035,
           0.47118443100934476,
           0.2955395218376047,
           0.1351275367169845,
           0.13724482921702663,
           0.18435400727947301
          ],
          "type": "data"
         },
         "hovertemplate": "%{y}<br>R<sup>2</sup>: %{x}<br>Number of samples: %{text}<br>Reference: %{customdata}<extra></extra>",
         "marker": {
          "color": "rgb(57, 105, 172)",
          "size": [
           10.596758954873726,
           9.820789910782647,
           8.128045100101065,
           6.803328743232589,
           7.736222777419643,
           9.301389826718653,
           9.270295113538179,
           8.680112200935353
          ],
          "symbol": "square"
         },
         "mode": "markers",
         "text": [
          474.0,
          60.0,
          39.0,
          10.0,
          18.0,
          30.0,
          111.0,
          60.0
         ],
         "type": "scatter",
         "x": [
          0.3398,
          0.77,
          0.27,
          0.4356,
          0.5929,
          0.7921,
          0.4760999999999999,
          0.48999999999999994
         ],
         "xaxis": "x7",
         "y": [
          "Hametner et al., 2018",
          "Hakkarainen et al., 2016",
          "Reeves et al., 2016",
          "Thiessen et al., 2013",
          "Tardif et al., 2012",
          "Schmierer et al., 2008",
          "Schmierer et al., 2007a",
          "Schmierer et al., 2004"
         ],
         "yaxis": "y7"
        },
        {
         "hovertemplate": "Prediction boundary: %{x}<extra></extra>",
         "line": {
          "color": "black",
          "dash": "dot",
          "width": 2
         },
         "marker": {
          "size": 8,
          "symbol": "hourglass-open"
         },
         "type": "scatter",
         "x": [
          0,
          1
         ],
         "xaxis": "x8",
         "y": [
          "Mixed model",
          "Mixed model"
         ],
         "yaxis": "y8"
        },
        {
         "error_x": {
          "array": [
           0.25
          ],
          "arrayminus": [
           0.25
          ],
          "type": "data"
         },
         "hovertemplate": "R<sup>2</sup> estimate: %{x}<extra></extra>",
         "marker": {
          "color": "black",
          "size": 10,
          "symbol": "diamond-wide"
         },
         "mode": "markers",
         "type": "scatter",
         "x": [
          0.39
         ],
         "xaxis": "x8",
         "y": [
          "Mixed model"
         ],
         "yaxis": "y8"
        },
        {
         "customdata": [
          "Histology - Gold chloride",
          "EM - Myelin fraction",
          "Immunohistochemistry - MBP",
          "EM - Myelin thickness",
          "Immunohistochemistry - MBP",
          "Histology - LFB",
          "Histology - LFB"
         ],
         "error_x": {
          "array": [
           0.1796529988616945,
           0.3298197565320446,
           0.23753250789669253,
           0.30664479979546366,
           0.353906943983867,
           0.10319969339489335,
           0.28312182242985084
          ],
          "type": "data"
         },
         "hovertemplate": "%{y}<br>R<sup>2</sup>: %{x}<br>Number of samples: %{text}<br>Reference: %{customdata}<extra></extra>",
         "marker": {
          "color": "rgb(242, 183, 1)",
          "size": [
           8.731773512069958,
           7.516735298680266,
           8.173218945587083,
           7.66244777687659,
           7.375759907561705,
           9.840496160385644,
           7.8220733785753245
          ],
          "symbol": "square"
         },
         "mode": "markers",
         "text": [
          60.0,
          21.0,
          39.0,
          10.0,
          18.0,
          30.0,
          24.0
         ],
         "type": "scatter",
         "x": [
          0.18,
          0.4096,
          0.235,
          0.0676,
          0.4225,
          0.8464,
          0.5184
         ],
         "xaxis": "x8",
         "y": [
          "Hakkarainen et al., 2016",
          "Jelescu et al., 2016",
          "Reeves et al., 2016",
          "Thiessen et al., 2013",
          "Tardif et al., 2012",
          "Schmierer et al., 2008",
          "Wu et al., 2008"
         ],
         "yaxis": "y8"
        },
        {
         "hovertemplate": "Prediction boundary: %{x}<extra></extra>",
         "line": {
          "color": "black",
          "dash": "dot",
          "width": 2
         },
         "marker": {
          "size": 8,
          "symbol": "hourglass-open"
         },
         "type": "scatter",
         "x": [
          0.45,
          0.95
         ],
         "xaxis": "x9",
         "y": [
          "Mixed model",
          "Mixed model"
         ],
         "yaxis": "y9"
        },
        {
         "error_x": {
          "array": [
           0.14
          ],
          "arrayminus": [
           0.14
          ],
          "type": "data"
         },
         "hovertemplate": "R<sup>2</sup> estimate: %{x}<extra></extra>",
         "marker": {
          "color": "black",
          "size": 10,
          "symbol": "diamond-wide"
         },
         "mode": "markers",
         "type": "scatter",
         "x": [
          0.7
         ],
         "xaxis": "x9",
         "y": [
          "Mixed model"
         ],
         "yaxis": "y9"
        },
        {
         "customdata": [
          "Immunohistochemistry - MBP",
          "EM - Myelin fraction",
          "Histology - LFB",
          "Histology - LFB"
         ],
         "error_x": {
          "array": [
           0.3775570069083608,
           0.1426380033511406,
           0.052517968223279254,
           0.04517657664014701
          ],
          "type": "data"
         },
         "hovertemplate": "%{y}<br>R<sup>2</sup>: %{x}<br>Number of samples: %{text}<br>Reference: %{customdata}<extra></extra>",
         "marker": {
          "color": "rgb(242, 183, 1)",
          "size": [
           7.246384786580829,
           9.193207973235882,
           11.191517198682806,
           11.4926704513284
          ],
          "symbol": "square"
         },
         "mode": "markers",
         "text": [
          15.0,
          60.0,
          219.0,
          572.0
         ],
         "type": "scatter",
         "x": [
          0.4624,
          0.66,
          0.78,
          0.67
         ],
         "xaxis": "x9",
         "y": [
          "Soustelle et al., 2019",
          "West et al., 2018",
          "Laule et al., 2008",
          "Laule et al., 2006"
         ],
         "yaxis": "y9"
        }
       ],
       "layout": {
        "annotations": [
         {
          "font": {
           "color": "black",
           "size": 10
          },
          "showarrow": false,
          "text": "RD",
          "x": 0.09999999999999999,
          "xanchor": "center",
          "xref": "paper",
          "y": 1.0,
          "yanchor": "bottom",
          "yref": "paper"
         },
         {
          "font": {
           "color": "black",
           "size": 10
          },
          "showarrow": false,
          "text": "AD",
          "x": 0.5,
          "xanchor": "center",
          "xref": "paper",
          "y": 1.0,
          "yanchor": "bottom",
          "yref": "paper"
         },
         {
          "font": {
           "color": "black",
           "size": 10
          },
          "showarrow": false,
          "text": "FA",
          "x": 0.9,
          "xanchor": "center",
          "xref": "paper",
          "y": 1.0,
          "yanchor": "bottom",
          "yref": "paper"
         },
         {
          "font": {
           "color": "black",
           "size": 10
          },
          "showarrow": false,
          "text": "MD",
          "x": 0.09999999999999999,
          "xanchor": "center",
          "xref": "paper",
          "y": 0.6466666666666667,
          "yanchor": "bottom",
          "yref": "paper"
         },
         {
          "font": {
           "color": "black",
           "size": 10
          },
          "showarrow": false,
          "text": "MTR",
          "x": 0.5,
          "xanchor": "center",
          "xref": "paper",
          "y": 0.6466666666666667,
          "yanchor": "bottom",
          "yref": "paper"
         },
         {
          "font": {
           "color": "black",
           "size": 10
          },
          "showarrow": false,
          "text": "MPF",
          "x": 0.9,
          "xanchor": "center",
          "xref": "paper",
          "y": 0.6466666666666667,
          "yanchor": "bottom",
          "yref": "paper"
         },
         {
          "font": {
           "color": "black",
           "size": 10
          },
          "showarrow": false,
          "text": "T1",
          "x": 0.09999999999999999,
          "xanchor": "center",
          "xref": "paper",
          "y": 0.29333333333333333,
          "yanchor": "bottom",
          "yref": "paper"
         },
         {
          "font": {
           "color": "black",
           "size": 10
          },
          "showarrow": false,
          "text": "T2",
          "x": 0.5,
          "xanchor": "center",
          "xref": "paper",
          "y": 0.29333333333333333,
          "yanchor": "bottom",
          "yref": "paper"
         },
         {
          "font": {
           "color": "black",
           "size": 10
          },
          "showarrow": false,
          "text": "MWF",
          "x": 0.9,
          "xanchor": "center",
          "xref": "paper",
          "y": 0.29333333333333333,
          "yanchor": "bottom",
          "yref": "paper"
         },
         {
          "font": {
           "size": 16
          },
          "showarrow": false,
          "text": "R<sup>2</sup>",
          "x": 0.5,
          "xanchor": "center",
          "xref": "paper",
          "y": 0,
          "yanchor": "top",
          "yref": "paper",
          "yshift": -30
         },
         {
          "font": {
           "color": "gray",
           "size": 8
          },
          "showarrow": false,
          "text": "<a href=\"https://neurolibre.com\" target=\"_blank\" style=\"color:gray!important\">NeuroLibre</a>",
          "x": 1,
          "xref": "paper",
          "y": -0.07,
          "yref": "paper"
         }
        ],
        "height": 800,
        "images": [
         {
          "opacity": 0.9,
          "sizex": 0.03,
          "sizey": 0.03,
          "source": "https://raw.githubusercontent.com/notebook-factory/brand/main/nlibre_custom2.svg",
          "x": 0.875,
          "xref": "paper",
          "y": -0.037000000000000005,
          "yref": "paper"
         }
        ],
        "margin": {
         "l": 0
        },
        "showlegend": false,
        "template": {
         "data": {
          "bar": [
           {
            "error_x": {
             "color": "#2a3f5f"
            },
            "error_y": {
             "color": "#2a3f5f"
            },
            "marker": {
             "line": {
              "color": "#E5ECF6",
              "width": 0.5
             }
            },
            "type": "bar"
           }
          ],
          "barpolar": [
           {
            "marker": {
             "line": {
              "color": "#E5ECF6",
              "width": 0.5
             }
            },
            "type": "barpolar"
           }
          ],
          "carpet": [
           {
            "aaxis": {
             "endlinecolor": "#2a3f5f",
             "gridcolor": "white",
             "linecolor": "white",
             "minorgridcolor": "white",
             "startlinecolor": "#2a3f5f"
            },
            "baxis": {
             "endlinecolor": "#2a3f5f",
             "gridcolor": "white",
             "linecolor": "white",
             "minorgridcolor": "white",
             "startlinecolor": "#2a3f5f"
            },
            "type": "carpet"
           }
          ],
          "choropleth": [
           {
            "colorbar": {
             "outlinewidth": 0,
             "ticks": ""
            },
            "type": "choropleth"
           }
          ],
          "contour": [
           {
            "colorbar": {
             "outlinewidth": 0,
             "ticks": ""
            },
            "colorscale": [
             [
              0.0,
              "#0d0887"
             ],
             [
              0.1111111111111111,
              "#46039f"
             ],
             [
              0.2222222222222222,
              "#7201a8"
             ],
             [
              0.3333333333333333,
              "#9c179e"
             ],
             [
              0.4444444444444444,
              "#bd3786"
             ],
             [
              0.5555555555555556,
              "#d8576b"
             ],
             [
              0.6666666666666666,
              "#ed7953"
             ],
             [
              0.7777777777777778,
              "#fb9f3a"
             ],
             [
              0.8888888888888888,
              "#fdca26"
             ],
             [
              1.0,
              "#f0f921"
             ]
            ],
            "type": "contour"
           }
          ],
          "contourcarpet": [
           {
            "colorbar": {
             "outlinewidth": 0,
             "ticks": ""
            },
            "type": "contourcarpet"
           }
          ],
          "heatmap": [
           {
            "colorbar": {
             "outlinewidth": 0,
             "ticks": ""
            },
            "colorscale": [
             [
              0.0,
              "#0d0887"
             ],
             [
              0.1111111111111111,
              "#46039f"
             ],
             [
              0.2222222222222222,
              "#7201a8"
             ],
             [
              0.3333333333333333,
              "#9c179e"
             ],
             [
              0.4444444444444444,
              "#bd3786"
             ],
             [
              0.5555555555555556,
              "#d8576b"
             ],
             [
              0.6666666666666666,
              "#ed7953"
             ],
             [
              0.7777777777777778,
              "#fb9f3a"
             ],
             [
              0.8888888888888888,
              "#fdca26"
             ],
             [
              1.0,
              "#f0f921"
             ]
            ],
            "type": "heatmap"
           }
          ],
          "heatmapgl": [
           {
            "colorbar": {
             "outlinewidth": 0,
             "ticks": ""
            },
            "colorscale": [
             [
              0.0,
              "#0d0887"
             ],
             [
              0.1111111111111111,
              "#46039f"
             ],
             [
              0.2222222222222222,
              "#7201a8"
             ],
             [
              0.3333333333333333,
              "#9c179e"
             ],
             [
              0.4444444444444444,
              "#bd3786"
             ],
             [
              0.5555555555555556,
              "#d8576b"
             ],
             [
              0.6666666666666666,
              "#ed7953"
             ],
             [
              0.7777777777777778,
              "#fb9f3a"
             ],
             [
              0.8888888888888888,
              "#fdca26"
             ],
             [
              1.0,
              "#f0f921"
             ]
            ],
            "type": "heatmapgl"
           }
          ],
          "histogram": [
           {
            "marker": {
             "colorbar": {
              "outlinewidth": 0,
              "ticks": ""
             }
            },
            "type": "histogram"
           }
          ],
          "histogram2d": [
           {
            "colorbar": {
             "outlinewidth": 0,
             "ticks": ""
            },
            "colorscale": [
             [
              0.0,
              "#0d0887"
             ],
             [
              0.1111111111111111,
              "#46039f"
             ],
             [
              0.2222222222222222,
              "#7201a8"
             ],
             [
              0.3333333333333333,
              "#9c179e"
             ],
             [
              0.4444444444444444,
              "#bd3786"
             ],
             [
              0.5555555555555556,
              "#d8576b"
             ],
             [
              0.6666666666666666,
              "#ed7953"
             ],
             [
              0.7777777777777778,
              "#fb9f3a"
             ],
             [
              0.8888888888888888,
              "#fdca26"
             ],
             [
              1.0,
              "#f0f921"
             ]
            ],
            "type": "histogram2d"
           }
          ],
          "histogram2dcontour": [
           {
            "colorbar": {
             "outlinewidth": 0,
             "ticks": ""
            },
            "colorscale": [
             [
              0.0,
              "#0d0887"
             ],
             [
              0.1111111111111111,
              "#46039f"
             ],
             [
              0.2222222222222222,
              "#7201a8"
             ],
             [
              0.3333333333333333,
              "#9c179e"
             ],
             [
              0.4444444444444444,
              "#bd3786"
             ],
             [
              0.5555555555555556,
              "#d8576b"
             ],
             [
              0.6666666666666666,
              "#ed7953"
             ],
             [
              0.7777777777777778,
              "#fb9f3a"
             ],
             [
              0.8888888888888888,
              "#fdca26"
             ],
             [
              1.0,
              "#f0f921"
             ]
            ],
            "type": "histogram2dcontour"
           }
          ],
          "mesh3d": [
           {
            "colorbar": {
             "outlinewidth": 0,
             "ticks": ""
            },
            "type": "mesh3d"
           }
          ],
          "parcoords": [
           {
            "line": {
             "colorbar": {
              "outlinewidth": 0,
              "ticks": ""
             }
            },
            "type": "parcoords"
           }
          ],
          "pie": [
           {
            "automargin": true,
            "type": "pie"
           }
          ],
          "scatter": [
           {
            "marker": {
             "colorbar": {
              "outlinewidth": 0,
              "ticks": ""
             }
            },
            "type": "scatter"
           }
          ],
          "scatter3d": [
           {
            "line": {
             "colorbar": {
              "outlinewidth": 0,
              "ticks": ""
             }
            },
            "marker": {
             "colorbar": {
              "outlinewidth": 0,
              "ticks": ""
             }
            },
            "type": "scatter3d"
           }
          ],
          "scattercarpet": [
           {
            "marker": {
             "colorbar": {
              "outlinewidth": 0,
              "ticks": ""
             }
            },
            "type": "scattercarpet"
           }
          ],
          "scattergeo": [
           {
            "marker": {
             "colorbar": {
              "outlinewidth": 0,
              "ticks": ""
             }
            },
            "type": "scattergeo"
           }
          ],
          "scattergl": [
           {
            "marker": {
             "colorbar": {
              "outlinewidth": 0,
              "ticks": ""
             }
            },
            "type": "scattergl"
           }
          ],
          "scattermapbox": [
           {
            "marker": {
             "colorbar": {
              "outlinewidth": 0,
              "ticks": ""
             }
            },
            "type": "scattermapbox"
           }
          ],
          "scatterpolar": [
           {
            "marker": {
             "colorbar": {
              "outlinewidth": 0,
              "ticks": ""
             }
            },
            "type": "scatterpolar"
           }
          ],
          "scatterpolargl": [
           {
            "marker": {
             "colorbar": {
              "outlinewidth": 0,
              "ticks": ""
             }
            },
            "type": "scatterpolargl"
           }
          ],
          "scatterternary": [
           {
            "marker": {
             "colorbar": {
              "outlinewidth": 0,
              "ticks": ""
             }
            },
            "type": "scatterternary"
           }
          ],
          "surface": [
           {
            "colorbar": {
             "outlinewidth": 0,
             "ticks": ""
            },
            "colorscale": [
             [
              0.0,
              "#0d0887"
             ],
             [
              0.1111111111111111,
              "#46039f"
             ],
             [
              0.2222222222222222,
              "#7201a8"
             ],
             [
              0.3333333333333333,
              "#9c179e"
             ],
             [
              0.4444444444444444,
              "#bd3786"
             ],
             [
              0.5555555555555556,
              "#d8576b"
             ],
             [
              0.6666666666666666,
              "#ed7953"
             ],
             [
              0.7777777777777778,
              "#fb9f3a"
             ],
             [
              0.8888888888888888,
              "#fdca26"
             ],
             [
              1.0,
              "#f0f921"
             ]
            ],
            "type": "surface"
           }
          ],
          "table": [
           {
            "cells": {
             "fill": {
              "color": "#EBF0F8"
             },
             "line": {
              "color": "white"
             }
            },
            "header": {
             "fill": {
              "color": "#C8D4E3"
             },
             "line": {
              "color": "white"
             }
            },
            "type": "table"
           }
          ]
         },
         "layout": {
          "annotationdefaults": {
           "arrowcolor": "#2a3f5f",
           "arrowhead": 0,
           "arrowwidth": 1
          },
          "coloraxis": {
           "colorbar": {
            "outlinewidth": 0,
            "ticks": ""
           }
          },
          "colorscale": {
           "diverging": [
            [
             0,
             "#8e0152"
            ],
            [
             0.1,
             "#c51b7d"
            ],
            [
             0.2,
             "#de77ae"
            ],
            [
             0.3,
             "#f1b6da"
            ],
            [
             0.4,
             "#fde0ef"
            ],
            [
             0.5,
             "#f7f7f7"
            ],
            [
             0.6,
             "#e6f5d0"
            ],
            [
             0.7,
             "#b8e186"
            ],
            [
             0.8,
             "#7fbc41"
            ],
            [
             0.9,
             "#4d9221"
            ],
            [
             1,
             "#276419"
            ]
           ],
           "sequential": [
            [
             0.0,
             "#0d0887"
            ],
            [
             0.1111111111111111,
             "#46039f"
            ],
            [
             0.2222222222222222,
             "#7201a8"
            ],
            [
             0.3333333333333333,
             "#9c179e"
            ],
            [
             0.4444444444444444,
             "#bd3786"
            ],
            [
             0.5555555555555556,
             "#d8576b"
            ],
            [
             0.6666666666666666,
             "#ed7953"
            ],
            [
             0.7777777777777778,
             "#fb9f3a"
            ],
            [
             0.8888888888888888,
             "#fdca26"
            ],
            [
             1.0,
             "#f0f921"
            ]
           ],
           "sequentialminus": [
            [
             0.0,
             "#0d0887"
            ],
            [
             0.1111111111111111,
             "#46039f"
            ],
            [
             0.2222222222222222,
             "#7201a8"
            ],
            [
             0.3333333333333333,
             "#9c179e"
            ],
            [
             0.4444444444444444,
             "#bd3786"
            ],
            [
             0.5555555555555556,
             "#d8576b"
            ],
            [
             0.6666666666666666,
             "#ed7953"
            ],
            [
             0.7777777777777778,
             "#fb9f3a"
            ],
            [
             0.8888888888888888,
             "#fdca26"
            ],
            [
             1.0,
             "#f0f921"
            ]
           ]
          },
          "colorway": [
           "#636efa",
           "#EF553B",
           "#00cc96",
           "#ab63fa",
           "#FFA15A",
           "#19d3f3",
           "#FF6692",
           "#B6E880",
           "#FF97FF",
           "#FECB52"
          ],
          "font": {
           "color": "#2a3f5f"
          },
          "geo": {
           "bgcolor": "white",
           "lakecolor": "white",
           "landcolor": "#E5ECF6",
           "showlakes": true,
           "showland": true,
           "subunitcolor": "white"
          },
          "hoverlabel": {
           "align": "left"
          },
          "hovermode": "closest",
          "mapbox": {
           "style": "light"
          },
          "paper_bgcolor": "white",
          "plot_bgcolor": "#E5ECF6",
          "polar": {
           "angularaxis": {
            "gridcolor": "white",
            "linecolor": "white",
            "ticks": ""
           },
           "bgcolor": "#E5ECF6",
           "radialaxis": {
            "gridcolor": "white",
            "linecolor": "white",
            "ticks": ""
           }
          },
          "scene": {
           "xaxis": {
            "backgroundcolor": "#E5ECF6",
            "gridcolor": "white",
            "gridwidth": 2,
            "linecolor": "white",
            "showbackground": true,
            "ticks": "",
            "zerolinecolor": "white"
           },
           "yaxis": {
            "backgroundcolor": "#E5ECF6",
            "gridcolor": "white",
            "gridwidth": 2,
            "linecolor": "white",
            "showbackground": true,
            "ticks": "",
            "zerolinecolor": "white"
           },
           "zaxis": {
            "backgroundcolor": "#E5ECF6",
            "gridcolor": "white",
            "gridwidth": 2,
            "linecolor": "white",
            "showbackground": true,
            "ticks": "",
            "zerolinecolor": "white"
           }
          },
          "shapedefaults": {
           "line": {
            "color": "#2a3f5f"
           }
          },
          "ternary": {
           "aaxis": {
            "gridcolor": "white",
            "linecolor": "white",
            "ticks": ""
           },
           "baxis": {
            "gridcolor": "white",
            "linecolor": "white",
            "ticks": ""
           },
           "bgcolor": "#E5ECF6",
           "caxis": {
            "gridcolor": "white",
            "linecolor": "white",
            "ticks": ""
           }
          },
          "title": {
           "x": 0.05
          },
          "xaxis": {
           "automargin": true,
           "gridcolor": "white",
           "linecolor": "white",
           "ticks": "",
           "title": {
            "standoff": 15
           },
           "zerolinecolor": "white",
           "zerolinewidth": 2
          },
          "yaxis": {
           "automargin": true,
           "gridcolor": "white",
           "linecolor": "white",
           "ticks": "",
           "title": {
            "standoff": 15
           },
           "zerolinecolor": "white",
           "zerolinewidth": 2
          }
         }
        },
        "title": {
         "text": "Figure 5: Forest plots and mixed modelling results"
        },
        "width": 700,
        "xaxis": {
         "anchor": "y",
         "domain": [
          0.0,
          0.19999999999999998
         ],
         "range": [
          0,
          1
         ]
        },
        "xaxis2": {
         "anchor": "y2",
         "domain": [
          0.4,
          0.6
         ],
         "range": [
          0,
          1
         ]
        },
        "xaxis3": {
         "anchor": "y3",
         "domain": [
          0.8,
          1.0
         ],
         "range": [
          0,
          1
         ]
        },
        "xaxis4": {
         "anchor": "y4",
         "domain": [
          0.0,
          0.19999999999999998
         ],
         "range": [
          0,
          1
         ]
        },
        "xaxis5": {
         "anchor": "y5",
         "domain": [
          0.4,
          0.6
         ],
         "range": [
          0,
          1
         ]
        },
        "xaxis6": {
         "anchor": "y6",
         "domain": [
          0.8,
          1.0
         ],
         "range": [
          0,
          1
         ]
        },
        "xaxis7": {
         "anchor": "y7",
         "domain": [
          0.0,
          0.19999999999999998
         ],
         "range": [
          0,
          1
         ]
        },
        "xaxis8": {
         "anchor": "y8",
         "domain": [
          0.4,
          0.6
         ],
         "range": [
          0,
          1
         ]
        },
        "xaxis9": {
         "anchor": "y9",
         "domain": [
          0.8,
          1.0
         ],
         "range": [
          0,
          1
         ]
        },
        "yaxis": {
         "anchor": "x",
         "domain": [
          0.7066666666666667,
          1.0
         ],
         "tickfont": {
          "size": 8
         }
        },
        "yaxis2": {
         "anchor": "x2",
         "domain": [
          0.7066666666666667,
          1.0
         ],
         "tickfont": {
          "size": 8
         }
        },
        "yaxis3": {
         "anchor": "x3",
         "domain": [
          0.7066666666666667,
          1.0
         ],
         "tickfont": {
          "size": 8
         }
        },
        "yaxis4": {
         "anchor": "x4",
         "domain": [
          0.35333333333333333,
          0.6466666666666667
         ],
         "tickfont": {
          "size": 8
         }
        },
        "yaxis5": {
         "anchor": "x5",
         "domain": [
          0.35333333333333333,
          0.6466666666666667
         ],
         "tickfont": {
          "size": 8
         }
        },
        "yaxis6": {
         "anchor": "x6",
         "domain": [
          0.35333333333333333,
          0.6466666666666667
         ],
         "tickfont": {
          "size": 8
         }
        },
        "yaxis7": {
         "anchor": "x7",
         "domain": [
          0.0,
          0.29333333333333333
         ],
         "tickfont": {
          "size": 8
         }
        },
        "yaxis8": {
         "anchor": "x8",
         "domain": [
          0.0,
          0.29333333333333333
         ],
         "tickfont": {
          "size": 8
         }
        },
        "yaxis9": {
         "anchor": "x9",
         "domain": [
          0.0,
          0.29333333333333333
         ],
         "tickfont": {
          "size": 8
         }
        }
       }
      },
      "text/html": "<div>\n        \n        \n            <div id=\"4ed9d90f-9907-41c4-b48f-2a91ece32558\" class=\"plotly-graph-div\" style=\"height:800px; width:700px;\"></div>\n            <script type=\"text/javascript\">\n                require([\"plotly\"], function(Plotly) {\n                    window.PLOTLYENV=window.PLOTLYENV || {};\n                    \n                if (document.getElementById(\"4ed9d90f-9907-41c4-b48f-2a91ece32558\")) {\n                    Plotly.newPlot(\n                        '4ed9d90f-9907-41c4-b48f-2a91ece32558',\n                        [{\"hovertemplate\": \"Prediction boundary: %{x}<extra></extra>\", \"line\": {\"color\": \"black\", \"dash\": \"dot\", \"width\": 2}, \"marker\": {\"size\": 8, \"symbol\": \"hourglass-open\"}, \"type\": \"scatter\", \"x\": [0, 0.89], \"xaxis\": \"x\", \"y\": [\"Mixed model\", \"Mixed model\"], \"yaxis\": \"y\"}, {\"error_x\": {\"array\": [0.15], \"arrayminus\": [0.15], \"type\": \"data\"}, \"hovertemplate\": \"R<sup>2</sup> estimate: %{x}<extra></extra>\", \"marker\": {\"color\": \"black\", \"size\": 10, \"symbol\": \"diamond-wide\"}, \"mode\": \"markers\", \"type\": \"scatter\", \"x\": [0.34], \"xaxis\": \"x\", \"y\": [\"Mixed model\"], \"yaxis\": \"y\"}, {\"customdata\": [\"Microscopy - Myelin thickness\", \"Immunohistochemistry - MBP\", \"Immunohistochemistry - MBP\", \"Immunohistochemistry - PLP\", \"Immunohistochemistry - MBP\", \"Histology - Gold chloride\", \"Immunohistochemistry - MBP\", \"EM - Myelin fraction\", \"EM - Myelin fraction\", \"Immunohistochemistry - MBP\", \"Histology - LFB\", \"EM - Myelin thickness\", \"Immunohistochemistry - MBP\", \"Histology - LFB\", \"Histology - LFB\"], \"error_x\": {\"array\": [0.17613243823214395, 0.3687080145589461, 0.2554324971207331, 0.13654242540690423, 0.1002381051012324, 0.017294527313575243, 0.35109668408372674, 0.3073284750212013, 0.14463570960918967, 0.29013120000000003, 0.21497695008302636, 0.2675248953170527, 0.3442138869946998, 0.3932772082935903, 0.20343073052810876], \"type\": \"data\"}, \"hovertemplate\": \"%{y}<br>R<sup>2</sup>: %{x}<br>Number of samples: %{text}<br>Reference: %{customdata}<extra></extra>\", \"marker\": {\"color\": \"rgb(127, 60, 141)\", \"size\": [8.771355520482514, 7.293817839815461, 8.027911573310421, 9.280557174160828, 9.898731110932017, 13.413047702108644, 7.391704646981149, 7.657993670899328, 9.165391457198632, 7.773161455581593, 8.37276629758387, 7.935402667289435, 7.431301467157509, 7.16479846884972, 8.48317681168955], \"symbol\": \"square\"}, \"mode\": \"markers\", \"text\": [60.0, 15.0, 36.0, 21.0, 56.0, 80.0, 17.0, 21.0, 78.0, 25.0, 48.0, 10.0, 20.0, 15.0, 30.0], \"type\": \"scatter\", \"x\": [0.1681, 0.49, 0.2973, 0.8281, 0.038, 0.0015, 0.2097, 0.5041, 0.1369, 0.2116, 0.2401, 0.7569, 0.34, 0.2787, 0.6561], \"xaxis\": \"x\", \"y\": [\"Abe et al., 2019\", \"Soustelle et al., 2019\", \"Wendel et al., 2018\", \"Yano et al., 2018\", \"Chang et al., 2017\", \"Lehto et al., 2017a\", \"Aojula et al., 2016\", \"Jelescu et al., 2016\", \"Kelm et al., 2016\", \"Tu et al., 2016\", \"Janve et al., 2013\", \"Thiessen et al., 2013\", \"Chandran et al., 2012\", \"Wang et al., 2009\", \"Schmierer et al., 2008\"], \"yaxis\": \"y\"}, {\"hovertemplate\": \"Prediction boundary: %{x}<extra></extra>\", \"line\": {\"color\": \"black\", \"dash\": \"dot\", \"width\": 2}, \"marker\": {\"size\": 8, \"symbol\": \"hourglass-open\"}, \"type\": \"scatter\", \"x\": [0, 0.75], \"xaxis\": \"x2\", \"y\": [\"Mixed model\", \"Mixed model\"], \"yaxis\": \"y2\"}, {\"error_x\": {\"array\": [0.18], \"arrayminus\": [0.18], \"type\": \"data\"}, \"hovertemplate\": \"R<sup>2</sup> estimate: %{x}<extra></extra>\", \"marker\": {\"color\": \"black\", \"size\": 10, \"symbol\": \"diamond-wide\"}, \"mode\": \"markers\", \"type\": \"scatter\", \"x\": [0.21], \"xaxis\": \"x2\", \"y\": [\"Mixed model\"], \"yaxis\": \"y2\"}, {\"customdata\": [\"Microscopy - Myelin thickness\", \"Immunohistochemistry - MBP\", \"Immunohistochemistry - MBP\", \"Histology - Gold chloride\", \"Immunohistochemistry - MBP\", \"Immunohistochemistry - MBP\", \"Histology - LFB\", \"EM - Myelin thickness\", \"Histology - LFB\"], \"error_x\": {\"array\": [0.05611643029986851, 0.2381238070164342, 0.1752781236190888, 0.16810893646620934, 0.3039883315655389, 0.007999200000000001, 0.04589241819734498, 0.4150489428970998, 0.2103254620819838], \"type\": \"data\"}, \"hovertemplate\": \"%{y}<br>R<sup>2</sup>: %{x}<br>Number of samples: %{text}<br>Reference: %{customdata}<extra></extra>\", \"marker\": {\"color\": \"rgb(127, 60, 141)\", \"size\": [11.058970634773216, 8.168246452584956, 8.781079944149603, 8.864603523294363, 7.6798492891893515, 14.955144851153305, 11.461228079438502, 7.0570350285747985, 8.416515623662793], \"symbol\": \"square\"}, \"mode\": \"markers\", \"text\": [60.0, 36.0, 56.0, 80.0, 17.0, 25.0, 48.0, 10.0, 30.0], \"type\": \"scatter\", \"x\": [0.0121, 0.1987, 0.1482, 0.4199, 0.1296, 0.0001, 0.0064, 0.5625, 0.64], \"xaxis\": \"x2\", \"y\": [\"Abe et al., 2019\", \"Wendel et al., 2018\", \"Chang et al., 2017\", \"Lehto et al., 2017a\", \"Aojula et al., 2016\", \"Tu et al., 2016\", \"Janve et al., 2013\", \"Thiessen et al., 2013\", \"Schmierer et al., 2008\"], \"yaxis\": \"y2\"}, {\"hovertemplate\": \"Prediction boundary: %{x}<extra></extra>\", \"line\": {\"color\": \"black\", \"dash\": \"dot\", \"width\": 2}, \"marker\": {\"size\": 8, \"symbol\": \"hourglass-open\"}, \"type\": \"scatter\", \"x\": [0, 0.94], \"xaxis\": \"x3\", \"y\": [\"Mixed model\", \"Mixed model\"], \"yaxis\": \"y3\"}, {\"error_x\": {\"array\": [0.14], \"arrayminus\": [0.14], \"type\": \"data\"}, \"hovertemplate\": \"R<sup>2</sup> estimate: %{x}<extra></extra>\", \"marker\": {\"color\": \"black\", \"size\": 10, \"symbol\": \"diamond-wide\"}, \"mode\": \"markers\", \"type\": \"scatter\", \"x\": [0.38], \"xaxis\": \"x3\", \"y\": [\"Mixed model\"], \"yaxis\": \"y3\"}, {\"customdata\": [\"Microscopy - Myelin thickness\", \"Immunohistochemistry - MBP\", \"Histology - Solochrome\", \"Immunohistochemistry - MBP\", \"Immunohistochemistry - PLP\", \"Immunohistochemistry - MBP\", \"Histology - Gold chloride\", \"Immunohistochemistry - MBP\", \"Immunohistochemistry - MBP\", \"Immunohistochemistry - MBP\", \"Histology - LFB\", \"EM - Myelin thickness\", \"Immunohistochemistry - MBP\", \"Histology - LFB\", \"Microscopy - Myelin sheath area\", \"Histology - LFB\", \"Histology - LFB\"], \"error_x\": {\"array\": [0.14832596699971318, 0.35769420790390216, 0.2727785194848811, 0.21620889923405096, 0.18460971652496672, 0.1909721779803839, 0.16420167237455288, 0.4444437782217228, 0.29546994253103664, 0.1022424, 0.14452058733273956, 0.3128074464995998, 0.31622776601683794, 0.37717309604017796, 0.15253545275771138, 0.18857211298810864, 0.1714505132888204], \"type\": \"data\"}, \"hovertemplate\": \"%{y}<br>R<sup>2</sup>: %{x}<br>Number of samples: %{text}<br>Reference: %{customdata}<extra></extra>\", \"marker\": {\"color\": \"rgb(127, 60, 141)\", \"size\": [9.115003261334497, 7.354471017461779, 7.896507560556547, 8.361337791707085, 8.677340012018812, 8.609572419687748, 8.911637160609194, 6.920180796985188, 7.736693695813234, 9.859134995448082, 9.166983983922071, 7.622652295846688, 7.600902459542082, 7.2484194789817025, 9.059033832255112, 8.634866932510489, 8.825238579082296], \"symbol\": \"square\"}, \"mode\": \"markers\", \"text\": [60.0, 18.0, 11.0, 36.0, 21.0, 56.0, 80.0, 12.0, 17.0, 25.0, 48.0, 10.0, 20.0, 15.0, 36.0, 30.0, 48.0], \"type\": \"scatter\", \"x\": [0.1024, 0.2704, 0.0576, 0.5707, 0.7569, 0.1989, 0.2237, 0.334, 0.1197, 0.0169, 0.0729, 0.7056, 0.5, 0.4637, 0.7327, 0.6889, 0.6241000000000001], \"xaxis\": \"x3\", \"y\": [\"Abe et al., 2019\", \"Mollink et al., 2019\", \"Pol et al., 2019\", \"Wendel et al., 2018\", \"Yano et al., 2018\", \"Chang et al., 2017\", \"Lehto et al., 2017a\", \"van Tilborg et al., 2017\", \"Aojula et al., 2016\", \"Tu et al., 2016\", \"Janve et al., 2013\", \"Thiessen et al., 2013\", \"Chandran et al., 2012\", \"Wang et al., 2009\", \"Jito et al., 2008\", \"Schmierer et al., 2008\", \"Schmierer et al., 2007b\"], \"yaxis\": \"y3\"}, {\"hovertemplate\": \"Prediction boundary: %{x}<extra></extra>\", \"line\": {\"color\": \"black\", \"dash\": \"dot\", \"width\": 2}, \"marker\": {\"size\": 8, \"symbol\": \"hourglass-open\"}, \"type\": \"scatter\", \"x\": [0, 0.75], \"xaxis\": \"x4\", \"y\": [\"Mixed model\", \"Mixed model\"], \"yaxis\": \"y4\"}, {\"error_x\": {\"array\": [0.15], \"arrayminus\": [0.15], \"type\": \"data\"}, \"hovertemplate\": \"R<sup>2</sup> estimate: %{x}<extra></extra>\", \"marker\": {\"color\": \"black\", \"size\": 10, \"symbol\": \"diamond-wide\"}, \"mode\": \"markers\", \"type\": \"scatter\", \"x\": [0.26], \"xaxis\": \"x4\", \"y\": [\"Mixed model\"], \"yaxis\": \"y4\"}, {\"customdata\": [\"Histology - Solochrome\", \"Immunohistochemistry - MBP\", \"Immunohistochemistry - PLP\", \"Immunohistochemistry - MBP\", \"Histology - Gold chloride\", \"Immunohistochemistry - MBP\", \"EM - Myelin fraction\", \"Immunohistochemistry - MBP\", \"Histology - LFB\", \"EM - Myelin thickness\", \"Histology - LFB\", \"Histology - LFB\"], \"error_x\": {\"array\": [0.46387037945137605, 0.14939505591105304, 0.29763436346535754, 0.05992692380605851, 0.17198859932449012, 0.36254800899126366, 0.1391002336446636, 0.13206959999999998, 0.14898408226384455, 0.3523523610955374, 0.22306767965978397, 0.21106078320711308], \"type\": \"data\"}, \"hovertemplate\": \"%{y}<br>R<sup>2</sup>: %{x}<br>Number of samples: %{text}<br>Reference: %{customdata}<extra></extra>\", \"marker\": {\"color\": \"rgb(127, 60, 141)\", \"size\": [6.834617607374657, 9.100639566139723, 7.7220963946592285, 10.927576157774505, 8.818971541273335, 7.327514116268106, 9.243438367279435, 9.347169811803864, 9.106148984922942, 7.38456452302144, 8.298877481218973, 8.40953559638651], \"symbol\": \"square\"}, \"mode\": \"markers\", \"text\": [11.0, 36.0, 21.0, 56.0, 80.0, 17.0, 78.0, 25.0, 48.0, 10.0, 30.0, 48.0], \"type\": \"scatter\", \"x\": [0.3481, 0.0564, 0.5329, 0.0129, 0.3492, 0.245, 0.1225, 0.0289, 0.0784, 0.6561, 0.6084, 0.4624000000000001], \"xaxis\": \"x4\", \"y\": [\"Pol et al., 2019\", \"Wendel et al., 2018\", \"Yano et al., 2018\", \"Chang et al., 2017\", \"Lehto et al., 2017a\", \"Aojula et al., 2016\", \"Kelm et al., 2016\", \"Tu et al., 2016\", \"Janve et al., 2013\", \"Thiessen et al., 2013\", \"Schmierer et al., 2008\", \"Schmierer et al., 2007b\"], \"yaxis\": \"y4\"}, {\"hovertemplate\": \"Prediction boundary: %{x}<extra></extra>\", \"line\": {\"color\": \"black\", \"dash\": \"dot\", \"width\": 2}, \"marker\": {\"size\": 8, \"symbol\": \"hourglass-open\"}, \"type\": \"scatter\", \"x\": [0, 1], \"xaxis\": \"x5\", \"y\": [\"Mixed model\", \"Mixed model\"], \"yaxis\": \"y5\"}, {\"error_x\": {\"array\": [0.15], \"arrayminus\": [0.15], \"type\": \"data\"}, \"hovertemplate\": \"R<sup>2</sup> estimate: %{x}<extra></extra>\", \"marker\": {\"color\": \"black\", \"size\": 10, \"symbol\": \"diamond-wide\"}, \"mode\": \"markers\", \"type\": \"scatter\", \"x\": [0.51], \"xaxis\": \"x5\", \"y\": [\"Mixed model\"], \"yaxis\": \"y5\"}, {\"customdata\": [\"Immunohistochemistry - MBP\", \"Microscopy - Fluorescence\", \"Histology - LFB\", \"Histology - Gold chloride\", \"Histology - Gold chloride\", \"Histology - Gold chloride\", \"EM - Myelin fraction\", \"Immunohistochemistry - MBP\", \"Immunohistochemistry - PLP\", \"Immunohistochemistry - PLP\", \"Immunohistochemistry - MBP\", \"Immunohistochemistry - MBP\", \"Histology - LFB\", \"Immunohistochemistry - MBP\", \"Histology - LFB\", \"Histology - LFB\"], \"error_x\": {\"array\": [0.48832775878501933, 0.16959784365205993, 0.1826478614865227, 0.15532998539174592, 0.0411339276024063, 0.19873198031519737, 0.2507166441930582, 0.2601024, 0.08083316151184489, 0.20949779243953154, 0.3620386719675123, 0.041521841641879685, 0.2669731198693981, 0.2969609999999999, 0.09388919028704402, 0.12770310527782794], \"type\": \"data\"}, \"hovertemplate\": \"%{y}<br>R<sup>2</sup>: %{x}<br>Number of samples: %{text}<br>Reference: %{customdata}<extra></extra>\", \"marker\": {\"color\": \"rgb(17, 165, 121)\", \"size\": [6.731854289991105, 8.846967906589729, 8.698707834684495, 9.022724340605832, 11.68016138434614, 8.529913755825618, 8.065181136835818, 7.99167712524764, 10.329053332351295, 8.424401520461906, 7.330325854993241, 11.661388737691198, 7.939531967140774, 7.7266262904141865, 10.029597404164976, 9.414411765074743], \"symbol\": \"square\"}, \"mode\": \"markers\", \"text\": [9.0, 21.0, 20.0, 80.0, 32.0, 60.0, 21.0, 25.0, 24.0, 54.0, 18.0, 600.0, 30.0, 16.0, 111.0, 60.0], \"type\": \"scatter\", \"x\": [0.46, 0.78, 0.7668, 0.5169, 0.94, 0.34, 0.1024, 0.1444, 0.01, 0.338, 0.36, 0.695, 0.4624, 0.6241000000000001, 0.7055999999999999, 0.7055999999999999], \"xaxis\": \"x5\", \"y\": [\"Guglielmetti et al., 2020\", \"Duhamel et al., 2019\", \"Beckmann et al., 2018\", \"Lehto et al., 2017a\", \"Lehto et al., 2017b\", \"Hakkarainen et al., 2016\", \"Jelescu et al., 2016\", \"Tu et al., 2016\", \"Fjaer et al., 2015\", \"Fjaer et al., 2013\", \"Tardif et al., 2012\", \"Fatemi et al., 2011\", \"Schmierer et al., 2008\", \"Zaaraoui et al., 2008\", \"Schmierer et al., 2007a\", \"Schmierer et al., 2004\"], \"yaxis\": \"y5\"}, {\"hovertemplate\": \"Prediction boundary: %{x}<extra></extra>\", \"line\": {\"color\": \"black\", \"dash\": \"dot\", \"width\": 2}, \"marker\": {\"size\": 8, \"symbol\": \"hourglass-open\"}, \"type\": \"scatter\", \"x\": [0.49, 1], \"xaxis\": \"x6\", \"y\": [\"Mixed model\", \"Mixed model\"], \"yaxis\": \"y6\"}, {\"error_x\": {\"array\": [0.1], \"arrayminus\": [0.1], \"type\": \"data\"}, \"hovertemplate\": \"R<sup>2</sup> estimate: %{x}<extra></extra>\", \"marker\": {\"color\": \"black\", \"size\": 10, \"symbol\": \"diamond-wide\"}, \"mode\": \"markers\", \"type\": \"scatter\", \"x\": [0.77], \"xaxis\": \"x6\", \"y\": [\"Mixed model\"], \"yaxis\": \"y6\"}, {\"customdata\": [\"Immunohistochemistry - MBP\", \"Immunohistochemistry - MBP\", \"EM - Myelin fraction\", \"Histology - LFB\", \"Immunohistochemistry - MBP\", \"Histology - LFB\", \"EM - Myelin thickness\", \"Histology - LFB\", \"Histology - LFB\", \"Histology - LFB\"], \"error_x\": {\"array\": [0.1808288608687146, 0.21843316233942134, 0.12961481396815722, 0.07372452489795082, 0.3945247657260568, 0.13618249474510297, 0.15892722082261426, 0.026268000000000038, 0.16354557389058252, 0.10934300111068786], \"type\": \"data\"}, \"hovertemplate\": \"%{y}<br>R<sup>2</sup>: %{x}<br>Number of samples: %{text}<br>Reference: %{customdata}<extra></extra>\", \"marker\": {\"color\": \"rgb(17, 165, 121)\", \"size\": [8.718725796677484, 8.3408677753976, 9.38469375912096, 10.513156903643507, 7.158464092869608, 9.285836205802992, 8.976935191003939, 12.577124987854855, 8.919644542735025, 9.724848443312972], \"symbol\": \"square\"}, \"mode\": \"markers\", \"text\": [13.0, 15.0, 60.0, 112.0, 15.0, 48.0, 10.0, 9.0, 30.0, 111.0], \"type\": \"scatter\", \"x\": [0.82, 0.7569, 0.7, 0.779, 0.2872, 0.7225, 0.8649, 0.9801, 0.7396, 0.6400000000000001], \"xaxis\": \"x6\", \"y\": [\"Khodanovic et al., 2019\", \"Soustelle et al., 2019\", \"West et al., 2018\", \"Khodanovic et al., 2017\", \"Turati et al., 2015\", \"Janve et al., 2013\", \"Thiessen et al., 2013\", \"Underhill et al., 2011\", \"Schmierer et al., 2008\", \"Schmierer et al., 2007a\"], \"yaxis\": \"y6\"}, {\"hovertemplate\": \"Prediction boundary: %{x}<extra></extra>\", \"line\": {\"color\": \"black\", \"dash\": \"dot\", \"width\": 2}, \"marker\": {\"size\": 8, \"symbol\": \"hourglass-open\"}, \"type\": \"scatter\", \"x\": [0.07, 0.99], \"xaxis\": \"x7\", \"y\": [\"Mixed model\", \"Mixed model\"], \"yaxis\": \"y7\"}, {\"error_x\": {\"array\": [0.16], \"arrayminus\": [0.16], \"type\": \"data\"}, \"hovertemplate\": \"R<sup>2</sup> estimate: %{x}<extra></extra>\", \"marker\": {\"color\": \"black\", \"size\": 10, \"symbol\": \"diamond-wide\"}, \"mode\": \"markers\", \"type\": \"scatter\", \"x\": [0.53], \"xaxis\": \"x7\", \"y\": [\"Mixed model\"], \"yaxis\": \"y7\"}, {\"customdata\": [\"Histology - LFB\", \"Histology - Gold chloride\", \"Immunohistochemistry - MBP\", \"EM - Myelin thickness\", \"Immunohistochemistry - MBP\", \"Histology - LFB\", \"Histology - LFB\", \"Histology - LFB\"], \"error_x\": {\"array\": [0.07070628635197697, 0.10422155887019409, 0.24295868594665035, 0.47118443100934476, 0.2955395218376047, 0.1351275367169845, 0.13724482921702663, 0.18435400727947301], \"type\": \"data\"}, \"hovertemplate\": \"%{y}<br>R<sup>2</sup>: %{x}<br>Number of samples: %{text}<br>Reference: %{customdata}<extra></extra>\", \"marker\": {\"color\": \"rgb(57, 105, 172)\", \"size\": [10.596758954873726, 9.820789910782647, 8.128045100101065, 6.803328743232589, 7.736222777419643, 9.301389826718653, 9.270295113538179, 8.680112200935353], \"symbol\": \"square\"}, \"mode\": \"markers\", \"text\": [474.0, 60.0, 39.0, 10.0, 18.0, 30.0, 111.0, 60.0], \"type\": \"scatter\", \"x\": [0.3398, 0.77, 0.27, 0.4356, 0.5929, 0.7921, 0.4760999999999999, 0.48999999999999994], \"xaxis\": \"x7\", \"y\": [\"Hametner et al., 2018\", \"Hakkarainen et al., 2016\", \"Reeves et al., 2016\", \"Thiessen et al., 2013\", \"Tardif et al., 2012\", \"Schmierer et al., 2008\", \"Schmierer et al., 2007a\", \"Schmierer et al., 2004\"], \"yaxis\": \"y7\"}, {\"hovertemplate\": \"Prediction boundary: %{x}<extra></extra>\", \"line\": {\"color\": \"black\", \"dash\": \"dot\", \"width\": 2}, \"marker\": {\"size\": 8, \"symbol\": \"hourglass-open\"}, \"type\": \"scatter\", \"x\": [0, 1], \"xaxis\": \"x8\", \"y\": [\"Mixed model\", \"Mixed model\"], \"yaxis\": \"y8\"}, {\"error_x\": {\"array\": [0.25], \"arrayminus\": [0.25], \"type\": \"data\"}, \"hovertemplate\": \"R<sup>2</sup> estimate: %{x}<extra></extra>\", \"marker\": {\"color\": \"black\", \"size\": 10, \"symbol\": \"diamond-wide\"}, \"mode\": \"markers\", \"type\": \"scatter\", \"x\": [0.39], \"xaxis\": \"x8\", \"y\": [\"Mixed model\"], \"yaxis\": \"y8\"}, {\"customdata\": [\"Histology - Gold chloride\", \"EM - Myelin fraction\", \"Immunohistochemistry - MBP\", \"EM - Myelin thickness\", \"Immunohistochemistry - MBP\", \"Histology - LFB\", \"Histology - LFB\"], \"error_x\": {\"array\": [0.1796529988616945, 0.3298197565320446, 0.23753250789669253, 0.30664479979546366, 0.353906943983867, 0.10319969339489335, 0.28312182242985084], \"type\": \"data\"}, \"hovertemplate\": \"%{y}<br>R<sup>2</sup>: %{x}<br>Number of samples: %{text}<br>Reference: %{customdata}<extra></extra>\", \"marker\": {\"color\": \"rgb(242, 183, 1)\", \"size\": [8.731773512069958, 7.516735298680266, 8.173218945587083, 7.66244777687659, 7.375759907561705, 9.840496160385644, 7.8220733785753245], \"symbol\": \"square\"}, \"mode\": \"markers\", \"text\": [60.0, 21.0, 39.0, 10.0, 18.0, 30.0, 24.0], \"type\": \"scatter\", \"x\": [0.18, 0.4096, 0.235, 0.0676, 0.4225, 0.8464, 0.5184], \"xaxis\": \"x8\", \"y\": [\"Hakkarainen et al., 2016\", \"Jelescu et al., 2016\", \"Reeves et al., 2016\", \"Thiessen et al., 2013\", \"Tardif et al., 2012\", \"Schmierer et al., 2008\", \"Wu et al., 2008\"], \"yaxis\": \"y8\"}, {\"hovertemplate\": \"Prediction boundary: %{x}<extra></extra>\", \"line\": {\"color\": \"black\", \"dash\": \"dot\", \"width\": 2}, \"marker\": {\"size\": 8, \"symbol\": \"hourglass-open\"}, \"type\": \"scatter\", \"x\": [0.45, 0.95], \"xaxis\": \"x9\", \"y\": [\"Mixed model\", \"Mixed model\"], \"yaxis\": \"y9\"}, {\"error_x\": {\"array\": [0.14], \"arrayminus\": [0.14], \"type\": \"data\"}, \"hovertemplate\": \"R<sup>2</sup> estimate: %{x}<extra></extra>\", \"marker\": {\"color\": \"black\", \"size\": 10, \"symbol\": \"diamond-wide\"}, \"mode\": \"markers\", \"type\": \"scatter\", \"x\": [0.7], \"xaxis\": \"x9\", \"y\": [\"Mixed model\"], \"yaxis\": \"y9\"}, {\"customdata\": [\"Immunohistochemistry - MBP\", \"EM - Myelin fraction\", \"Histology - LFB\", \"Histology - LFB\"], \"error_x\": {\"array\": [0.3775570069083608, 0.1426380033511406, 0.052517968223279254, 0.04517657664014701], \"type\": \"data\"}, \"hovertemplate\": \"%{y}<br>R<sup>2</sup>: %{x}<br>Number of samples: %{text}<br>Reference: %{customdata}<extra></extra>\", \"marker\": {\"color\": \"rgb(242, 183, 1)\", \"size\": [7.246384786580829, 9.193207973235882, 11.191517198682806, 11.4926704513284], \"symbol\": \"square\"}, \"mode\": \"markers\", \"text\": [15.0, 60.0, 219.0, 572.0], \"type\": \"scatter\", \"x\": [0.4624, 0.66, 0.78, 0.67], \"xaxis\": \"x9\", \"y\": [\"Soustelle et al., 2019\", \"West et al., 2018\", \"Laule et al., 2008\", \"Laule et al., 2006\"], \"yaxis\": \"y9\"}],\n                        {\"annotations\": [{\"font\": {\"color\": \"black\", \"size\": 10}, \"showarrow\": false, \"text\": \"RD\", \"x\": 0.09999999999999999, \"xanchor\": \"center\", \"xref\": \"paper\", \"y\": 1.0, \"yanchor\": \"bottom\", \"yref\": \"paper\"}, {\"font\": {\"color\": \"black\", \"size\": 10}, \"showarrow\": false, \"text\": \"AD\", \"x\": 0.5, \"xanchor\": \"center\", \"xref\": \"paper\", \"y\": 1.0, \"yanchor\": \"bottom\", \"yref\": \"paper\"}, {\"font\": {\"color\": \"black\", \"size\": 10}, \"showarrow\": false, \"text\": \"FA\", \"x\": 0.9, \"xanchor\": \"center\", \"xref\": \"paper\", \"y\": 1.0, \"yanchor\": \"bottom\", \"yref\": \"paper\"}, {\"font\": {\"color\": \"black\", \"size\": 10}, \"showarrow\": false, \"text\": \"MD\", \"x\": 0.09999999999999999, \"xanchor\": \"center\", \"xref\": \"paper\", \"y\": 0.6466666666666667, \"yanchor\": \"bottom\", \"yref\": \"paper\"}, {\"font\": {\"color\": \"black\", \"size\": 10}, \"showarrow\": false, \"text\": \"MTR\", \"x\": 0.5, \"xanchor\": \"center\", \"xref\": \"paper\", \"y\": 0.6466666666666667, \"yanchor\": \"bottom\", \"yref\": \"paper\"}, {\"font\": {\"color\": \"black\", \"size\": 10}, \"showarrow\": false, \"text\": \"MPF\", \"x\": 0.9, \"xanchor\": \"center\", \"xref\": \"paper\", \"y\": 0.6466666666666667, \"yanchor\": \"bottom\", \"yref\": \"paper\"}, {\"font\": {\"color\": \"black\", \"size\": 10}, \"showarrow\": false, \"text\": \"T1\", \"x\": 0.09999999999999999, \"xanchor\": \"center\", \"xref\": \"paper\", \"y\": 0.29333333333333333, \"yanchor\": \"bottom\", \"yref\": \"paper\"}, {\"font\": {\"color\": \"black\", \"size\": 10}, \"showarrow\": false, \"text\": \"T2\", \"x\": 0.5, \"xanchor\": \"center\", \"xref\": \"paper\", \"y\": 0.29333333333333333, \"yanchor\": \"bottom\", \"yref\": \"paper\"}, {\"font\": {\"color\": \"black\", \"size\": 10}, \"showarrow\": false, \"text\": \"MWF\", \"x\": 0.9, \"xanchor\": \"center\", \"xref\": \"paper\", \"y\": 0.29333333333333333, \"yanchor\": \"bottom\", \"yref\": \"paper\"}, {\"font\": {\"size\": 16}, \"showarrow\": false, \"text\": \"R<sup>2</sup>\", \"x\": 0.5, \"xanchor\": \"center\", \"xref\": \"paper\", \"y\": 0, \"yanchor\": \"top\", \"yref\": \"paper\", \"yshift\": -30}, {\"font\": {\"color\": \"gray\", \"size\": 8}, \"showarrow\": false, \"text\": \"<a href=\\\"https://neurolibre.com\\\" target=\\\"_blank\\\" style=\\\"color:gray!important\\\">NeuroLibre</a>\", \"x\": 1, \"xref\": \"paper\", \"y\": -0.07, \"yref\": \"paper\"}], \"height\": 800, \"images\": [{\"opacity\": 0.9, \"sizex\": 0.03, \"sizey\": 0.03, \"source\": \"https://raw.githubusercontent.com/notebook-factory/brand/main/nlibre_custom2.svg\", \"x\": 0.875, \"xref\": \"paper\", \"y\": -0.037000000000000005, \"yref\": \"paper\"}], \"margin\": {\"l\": 0}, \"showlegend\": false, \"template\": {\"data\": {\"bar\": [{\"error_x\": {\"color\": \"#2a3f5f\"}, \"error_y\": {\"color\": \"#2a3f5f\"}, \"marker\": {\"line\": {\"color\": \"#E5ECF6\", \"width\": 0.5}}, \"type\": \"bar\"}], \"barpolar\": [{\"marker\": {\"line\": {\"color\": \"#E5ECF6\", \"width\": 0.5}}, \"type\": \"barpolar\"}], \"carpet\": [{\"aaxis\": {\"endlinecolor\": \"#2a3f5f\", \"gridcolor\": \"white\", \"linecolor\": \"white\", \"minorgridcolor\": \"white\", \"startlinecolor\": \"#2a3f5f\"}, \"baxis\": {\"endlinecolor\": \"#2a3f5f\", \"gridcolor\": \"white\", \"linecolor\": \"white\", \"minorgridcolor\": \"white\", \"startlinecolor\": \"#2a3f5f\"}, \"type\": \"carpet\"}], \"choropleth\": [{\"colorbar\": {\"outlinewidth\": 0, \"ticks\": \"\"}, \"type\": \"choropleth\"}], \"contour\": [{\"colorbar\": {\"outlinewidth\": 0, \"ticks\": \"\"}, \"colorscale\": [[0.0, \"#0d0887\"], [0.1111111111111111, \"#46039f\"], [0.2222222222222222, \"#7201a8\"], [0.3333333333333333, \"#9c179e\"], [0.4444444444444444, \"#bd3786\"], [0.5555555555555556, \"#d8576b\"], [0.6666666666666666, \"#ed7953\"], [0.7777777777777778, \"#fb9f3a\"], [0.8888888888888888, \"#fdca26\"], [1.0, \"#f0f921\"]], \"type\": \"contour\"}], \"contourcarpet\": [{\"colorbar\": {\"outlinewidth\": 0, \"ticks\": \"\"}, \"type\": \"contourcarpet\"}], \"heatmap\": [{\"colorbar\": {\"outlinewidth\": 0, \"ticks\": \"\"}, \"colorscale\": [[0.0, \"#0d0887\"], [0.1111111111111111, \"#46039f\"], [0.2222222222222222, \"#7201a8\"], [0.3333333333333333, \"#9c179e\"], [0.4444444444444444, \"#bd3786\"], [0.5555555555555556, \"#d8576b\"], [0.6666666666666666, \"#ed7953\"], [0.7777777777777778, \"#fb9f3a\"], [0.8888888888888888, \"#fdca26\"], [1.0, \"#f0f921\"]], \"type\": \"heatmap\"}], \"heatmapgl\": [{\"colorbar\": {\"outlinewidth\": 0, \"ticks\": \"\"}, \"colorscale\": [[0.0, \"#0d0887\"], [0.1111111111111111, \"#46039f\"], [0.2222222222222222, \"#7201a8\"], [0.3333333333333333, \"#9c179e\"], [0.4444444444444444, \"#bd3786\"], [0.5555555555555556, \"#d8576b\"], [0.6666666666666666, \"#ed7953\"], [0.7777777777777778, \"#fb9f3a\"], [0.8888888888888888, \"#fdca26\"], [1.0, \"#f0f921\"]], \"type\": \"heatmapgl\"}], \"histogram\": [{\"marker\": {\"colorbar\": {\"outlinewidth\": 0, \"ticks\": \"\"}}, \"type\": \"histogram\"}], \"histogram2d\": [{\"colorbar\": {\"outlinewidth\": 0, \"ticks\": \"\"}, \"colorscale\": [[0.0, \"#0d0887\"], [0.1111111111111111, \"#46039f\"], [0.2222222222222222, \"#7201a8\"], [0.3333333333333333, \"#9c179e\"], [0.4444444444444444, \"#bd3786\"], [0.5555555555555556, \"#d8576b\"], [0.6666666666666666, \"#ed7953\"], [0.7777777777777778, \"#fb9f3a\"], [0.8888888888888888, \"#fdca26\"], [1.0, \"#f0f921\"]], \"type\": \"histogram2d\"}], \"histogram2dcontour\": [{\"colorbar\": {\"outlinewidth\": 0, \"ticks\": \"\"}, \"colorscale\": [[0.0, \"#0d0887\"], [0.1111111111111111, \"#46039f\"], [0.2222222222222222, \"#7201a8\"], [0.3333333333333333, \"#9c179e\"], [0.4444444444444444, \"#bd3786\"], [0.5555555555555556, \"#d8576b\"], [0.6666666666666666, \"#ed7953\"], [0.7777777777777778, \"#fb9f3a\"], [0.8888888888888888, \"#fdca26\"], [1.0, \"#f0f921\"]], \"type\": \"histogram2dcontour\"}], \"mesh3d\": [{\"colorbar\": {\"outlinewidth\": 0, \"ticks\": \"\"}, \"type\": \"mesh3d\"}], \"parcoords\": [{\"line\": {\"colorbar\": {\"outlinewidth\": 0, \"ticks\": \"\"}}, \"type\": \"parcoords\"}], \"pie\": [{\"automargin\": true, \"type\": \"pie\"}], \"scatter\": [{\"marker\": {\"colorbar\": {\"outlinewidth\": 0, \"ticks\": \"\"}}, \"type\": \"scatter\"}], \"scatter3d\": [{\"line\": {\"colorbar\": {\"outlinewidth\": 0, \"ticks\": \"\"}}, \"marker\": {\"colorbar\": {\"outlinewidth\": 0, \"ticks\": \"\"}}, \"type\": \"scatter3d\"}], \"scattercarpet\": [{\"marker\": {\"colorbar\": {\"outlinewidth\": 0, \"ticks\": \"\"}}, \"type\": \"scattercarpet\"}], \"scattergeo\": [{\"marker\": {\"colorbar\": {\"outlinewidth\": 0, \"ticks\": \"\"}}, \"type\": \"scattergeo\"}], \"scattergl\": [{\"marker\": {\"colorbar\": {\"outlinewidth\": 0, \"ticks\": \"\"}}, \"type\": \"scattergl\"}], \"scattermapbox\": [{\"marker\": {\"colorbar\": {\"outlinewidth\": 0, \"ticks\": \"\"}}, \"type\": \"scattermapbox\"}], \"scatterpolar\": [{\"marker\": {\"colorbar\": {\"outlinewidth\": 0, \"ticks\": \"\"}}, \"type\": \"scatterpolar\"}], \"scatterpolargl\": [{\"marker\": {\"colorbar\": {\"outlinewidth\": 0, \"ticks\": \"\"}}, \"type\": \"scatterpolargl\"}], \"scatterternary\": [{\"marker\": {\"colorbar\": {\"outlinewidth\": 0, \"ticks\": \"\"}}, \"type\": \"scatterternary\"}], \"surface\": [{\"colorbar\": {\"outlinewidth\": 0, \"ticks\": \"\"}, \"colorscale\": [[0.0, \"#0d0887\"], [0.1111111111111111, \"#46039f\"], [0.2222222222222222, \"#7201a8\"], [0.3333333333333333, \"#9c179e\"], [0.4444444444444444, \"#bd3786\"], [0.5555555555555556, \"#d8576b\"], [0.6666666666666666, \"#ed7953\"], [0.7777777777777778, \"#fb9f3a\"], [0.8888888888888888, \"#fdca26\"], [1.0, \"#f0f921\"]], \"type\": \"surface\"}], \"table\": [{\"cells\": {\"fill\": {\"color\": \"#EBF0F8\"}, \"line\": {\"color\": \"white\"}}, \"header\": {\"fill\": {\"color\": \"#C8D4E3\"}, \"line\": {\"color\": \"white\"}}, \"type\": \"table\"}]}, \"layout\": {\"annotationdefaults\": {\"arrowcolor\": \"#2a3f5f\", \"arrowhead\": 0, \"arrowwidth\": 1}, \"coloraxis\": {\"colorbar\": {\"outlinewidth\": 0, \"ticks\": \"\"}}, \"colorscale\": {\"diverging\": [[0, \"#8e0152\"], [0.1, \"#c51b7d\"], [0.2, \"#de77ae\"], [0.3, \"#f1b6da\"], [0.4, \"#fde0ef\"], [0.5, \"#f7f7f7\"], [0.6, \"#e6f5d0\"], [0.7, \"#b8e186\"], [0.8, \"#7fbc41\"], [0.9, \"#4d9221\"], [1, \"#276419\"]], \"sequential\": [[0.0, \"#0d0887\"], [0.1111111111111111, \"#46039f\"], [0.2222222222222222, \"#7201a8\"], [0.3333333333333333, \"#9c179e\"], [0.4444444444444444, \"#bd3786\"], [0.5555555555555556, \"#d8576b\"], [0.6666666666666666, \"#ed7953\"], [0.7777777777777778, \"#fb9f3a\"], [0.8888888888888888, \"#fdca26\"], [1.0, \"#f0f921\"]], \"sequentialminus\": [[0.0, \"#0d0887\"], [0.1111111111111111, \"#46039f\"], [0.2222222222222222, \"#7201a8\"], [0.3333333333333333, \"#9c179e\"], [0.4444444444444444, \"#bd3786\"], [0.5555555555555556, \"#d8576b\"], [0.6666666666666666, \"#ed7953\"], [0.7777777777777778, \"#fb9f3a\"], [0.8888888888888888, \"#fdca26\"], [1.0, \"#f0f921\"]]}, \"colorway\": [\"#636efa\", \"#EF553B\", \"#00cc96\", \"#ab63fa\", \"#FFA15A\", \"#19d3f3\", \"#FF6692\", \"#B6E880\", \"#FF97FF\", \"#FECB52\"], \"font\": {\"color\": \"#2a3f5f\"}, \"geo\": {\"bgcolor\": \"white\", \"lakecolor\": \"white\", \"landcolor\": \"#E5ECF6\", \"showlakes\": true, \"showland\": true, \"subunitcolor\": \"white\"}, \"hoverlabel\": {\"align\": \"left\"}, \"hovermode\": \"closest\", \"mapbox\": {\"style\": \"light\"}, \"paper_bgcolor\": \"white\", \"plot_bgcolor\": \"#E5ECF6\", \"polar\": {\"angularaxis\": {\"gridcolor\": \"white\", \"linecolor\": \"white\", \"ticks\": \"\"}, \"bgcolor\": \"#E5ECF6\", \"radialaxis\": {\"gridcolor\": \"white\", \"linecolor\": \"white\", \"ticks\": \"\"}}, \"scene\": {\"xaxis\": {\"backgroundcolor\": \"#E5ECF6\", \"gridcolor\": \"white\", \"gridwidth\": 2, \"linecolor\": \"white\", \"showbackground\": true, \"ticks\": \"\", \"zerolinecolor\": \"white\"}, \"yaxis\": {\"backgroundcolor\": \"#E5ECF6\", \"gridcolor\": \"white\", \"gridwidth\": 2, \"linecolor\": \"white\", \"showbackground\": true, \"ticks\": \"\", \"zerolinecolor\": \"white\"}, \"zaxis\": {\"backgroundcolor\": \"#E5ECF6\", \"gridcolor\": \"white\", \"gridwidth\": 2, \"linecolor\": \"white\", \"showbackground\": true, \"ticks\": \"\", \"zerolinecolor\": \"white\"}}, \"shapedefaults\": {\"line\": {\"color\": \"#2a3f5f\"}}, \"ternary\": {\"aaxis\": {\"gridcolor\": \"white\", \"linecolor\": \"white\", \"ticks\": \"\"}, \"baxis\": {\"gridcolor\": \"white\", \"linecolor\": \"white\", \"ticks\": \"\"}, \"bgcolor\": \"#E5ECF6\", \"caxis\": {\"gridcolor\": \"white\", \"linecolor\": \"white\", \"ticks\": \"\"}}, \"title\": {\"x\": 0.05}, \"xaxis\": {\"automargin\": true, \"gridcolor\": \"white\", \"linecolor\": \"white\", \"ticks\": \"\", \"title\": {\"standoff\": 15}, \"zerolinecolor\": \"white\", \"zerolinewidth\": 2}, \"yaxis\": {\"automargin\": true, \"gridcolor\": \"white\", \"linecolor\": \"white\", \"ticks\": \"\", \"title\": {\"standoff\": 15}, \"zerolinecolor\": \"white\", \"zerolinewidth\": 2}}}, \"title\": {\"text\": \"Figure 5: Forest plots and mixed modelling results\"}, \"width\": 700, \"xaxis\": {\"anchor\": \"y\", \"domain\": [0.0, 0.19999999999999998], \"range\": [0, 1]}, \"xaxis2\": {\"anchor\": \"y2\", \"domain\": [0.4, 0.6], \"range\": [0, 1]}, \"xaxis3\": {\"anchor\": \"y3\", \"domain\": [0.8, 1.0], \"range\": [0, 1]}, \"xaxis4\": {\"anchor\": \"y4\", \"domain\": [0.0, 0.19999999999999998], \"range\": [0, 1]}, \"xaxis5\": {\"anchor\": \"y5\", \"domain\": [0.4, 0.6], \"range\": [0, 1]}, \"xaxis6\": {\"anchor\": \"y6\", \"domain\": [0.8, 1.0], \"range\": [0, 1]}, \"xaxis7\": {\"anchor\": \"y7\", \"domain\": [0.0, 0.19999999999999998], \"range\": [0, 1]}, \"xaxis8\": {\"anchor\": \"y8\", \"domain\": [0.4, 0.6], \"range\": [0, 1]}, \"xaxis9\": {\"anchor\": \"y9\", \"domain\": [0.8, 1.0], \"range\": [0, 1]}, \"yaxis\": {\"anchor\": \"x\", \"domain\": [0.7066666666666667, 1.0], \"tickfont\": {\"size\": 8}}, \"yaxis2\": {\"anchor\": \"x2\", \"domain\": [0.7066666666666667, 1.0], \"tickfont\": {\"size\": 8}}, \"yaxis3\": {\"anchor\": \"x3\", \"domain\": [0.7066666666666667, 1.0], \"tickfont\": {\"size\": 8}}, \"yaxis4\": {\"anchor\": \"x4\", \"domain\": [0.35333333333333333, 0.6466666666666667], \"tickfont\": {\"size\": 8}}, \"yaxis5\": {\"anchor\": \"x5\", \"domain\": [0.35333333333333333, 0.6466666666666667], \"tickfont\": {\"size\": 8}}, \"yaxis6\": {\"anchor\": \"x6\", \"domain\": [0.35333333333333333, 0.6466666666666667], \"tickfont\": {\"size\": 8}}, \"yaxis7\": {\"anchor\": \"x7\", \"domain\": [0.0, 0.29333333333333333], \"tickfont\": {\"size\": 8}}, \"yaxis8\": {\"anchor\": \"x8\", \"domain\": [0.0, 0.29333333333333333], \"tickfont\": {\"size\": 8}}, \"yaxis9\": {\"anchor\": \"x9\", \"domain\": [0.0, 0.29333333333333333], \"tickfont\": {\"size\": 8}}},\n                        {\"responsive\": true}\n                    ).then(function(){\n                            \nvar gd = document.getElementById('4ed9d90f-9907-41c4-b48f-2a91ece32558');\nvar x = new MutationObserver(function (mutations, observer) {{\n        var display = window.getComputedStyle(gd).display;\n        if (!display || display === 'none') {{\n            console.log([gd, 'removed!']);\n            Plotly.purge(gd);\n            observer.disconnect();\n        }}\n}});\n\n// Listen for the removal of the full notebook cells\nvar notebookContainer = gd.closest('#notebook-container');\nif (notebookContainer) {{\n    x.observe(notebookContainer, {childList: true});\n}}\n\n// Listen for the clearing of the current output cell\nvar outputEl = gd.closest('.output');\nif (outputEl) {{\n    x.observe(outputEl, {childList: true});\n}}\n\n                        })\n                };\n                });\n            </script>\n        </div>"
     },
     "metadata": {},
     "output_type": "display_data"
    }
   ],
   "source": [
    "config={'showLink': False, 'displayModeBar': False}\n",
    "\n",
    "filtered_df = pd.read_pickle(\"filtered_df.pkl\")\n",
    "\n",
    "filtered_df['Variance'] = (4*filtered_df['R^2'])*((1-filtered_df['R^2'])**2)/filtered_df['Sample points']\n",
    "\n",
    "measure_type = {'Diffusion':['RD', 'AD', 'FA', 'MD',\n",
    "                'AWF', 'RK', 'RDe', 'MK'],\n",
    "                'Magnetization transfer':['MTR',\n",
    "                'ihMTR', 'MTR-UTE', 'MPF', 'MVF-MT',\n",
    "                'R1f', 'T2m', 'T2f', 'k_mf','k_fm'],\n",
    "                'T1 relaxometry':['T1'], 'T2 relaxometry':['T2', 'MWF', 'MVF-T2'],\n",
    "                'Other':['QSM', 'R2*', 'rSPF', 'MTV',\n",
    "                'T1p', 'T2p', 'RAFF', 'PD', 'T1sat']}\n",
    "\n",
    "color_dict = {m:plotly.colors.qualitative.Bold[n]\n",
    "              for n,m in enumerate(measure_type.keys())}\n",
    "\n",
    "metafor = importr('metafor')\n",
    "stats = importr('stats')\n",
    "\n",
    "metastudy = {}\n",
    "for m in filtered_df.Measure.unique():\n",
    "    nstudies=len(filtered_df.Measure[filtered_df.Measure==m])\n",
    "    if nstudies > 2:\n",
    "        df_m = filtered_df[filtered_df.Measure==m]\n",
    "        df_m = df_m.sort_values(by=['Year'])\n",
    "\n",
    "        r2 = rpy2.robjects.FloatVector(df_m['R^2'])\n",
    "        var = rpy2.robjects.FloatVector(df_m['Variance'])\n",
    "        fit = metafor.rma(r2, var, method=\"REML\", test=\"knha\")\n",
    "        res = stats.predict(fit)\n",
    "\n",
    "        results = dict(zip(res.names,list(res)))\n",
    "\n",
    "        metastudy[m] = dict(pred=results['pred'][0], cilb=results['pred'][0]-results['ci.lb'][0],\n",
    "                            ciub=results['ci.ub'][0]-results['pred'][0],\n",
    "                            crub=results['cr.ub'][0],\n",
    "                            crlb=results['cr.lb'][0])\n",
    "measure_type_reverse={m:t for t,mlist in measure_type.items() for m in mlist}\n",
    "fig5 = make_subplots(rows=3, cols=3, start_cell=\"top-left\", vertical_spacing=0.06,\n",
    "                      horizontal_spacing=0.2, x_title='R<sup>2</sup>',\n",
    "                      subplot_titles=sorted(metastudy.keys(), key=measure_type_reverse.get))\n",
    "\n",
    "row=1\n",
    "col=1\n",
    "for m in sorted(metastudy.keys(), key=measure_type_reverse.get):\n",
    "    fig5.add_trace(go.Scatter(\n",
    "        x=[round(metastudy[m]['crlb'],2) if round(metastudy[m]['crlb'],2)>0 else 0,\n",
    "           round(metastudy[m]['crub'],2) if round(metastudy[m]['crub'],2)<1 else 1],\n",
    "        y=['Mixed model','Mixed model'],\n",
    "        line=dict(color='black', width=2, dash='dot'),\n",
    "        hovertemplate = 'Prediction boundary: %{x}<extra></extra>',\n",
    "        marker_symbol = 'hourglass-open', marker_size = 8\n",
    "    ), row=row, col=col)\n",
    "\n",
    "    fig5.add_trace(go.Scatter(\n",
    "        x=[round(metastudy[m]['pred'],2)],\n",
    "        y=['Mixed model'],\n",
    "        mode='markers',\n",
    "        marker = dict(color = 'black'),\n",
    "        marker_symbol = 'diamond-wide',\n",
    "        marker_size = 10,\n",
    "        hovertemplate = 'R<sup>2</sup> estimate: %{x}<extra></extra>',\n",
    "        error_x=dict(\n",
    "            type='data',\n",
    "            arrayminus=[round(metastudy[m]['cilb'],2) if round(metastudy[m]['cilb'],2)>0 else 0],\n",
    "            array=[round(metastudy[m]['ciub'],2) if round(metastudy[m]['ciub'],2)<1 else 1])\n",
    "    ), row=row, col=col)\n",
    "\n",
    "    df_m = filtered_df[filtered_df.Measure==m]\n",
    "    df_m = df_m.sort_values(by=['Year'], ascending=False)\n",
    "    fig5.add_trace(go.Scatter(\n",
    "        x=df_m['R^2'],\n",
    "        y=df_m['Study'],\n",
    "        text=df_m['Sample points'],\n",
    "        customdata=df_m['Histology/microscopy measure'],\n",
    "        mode='markers',\n",
    "        marker = dict(color = color_dict[measure_type_reverse[m]]),\n",
    "        marker_symbol = 'square',\n",
    "        marker_size = np.log(50/df_m['Variance']),\n",
    "        hovertemplate = '%{y}<br>R<sup>2</sup>: %{x}<br>Number of samples: %{text}' +\n",
    "            '<br>Reference: %{customdata}<extra></extra>',\n",
    "        error_x=dict(\n",
    "            type='data',\n",
    "            array=2*np.sqrt(df_m['Variance']))\n",
    "    ), row=row, col=col)\n",
    "\n",
    "    if col == 3:\n",
    "        col = 1\n",
    "        row += 1\n",
    "    else:\n",
    "        col += 1\n",
    "\n",
    "fig5.update_xaxes(range=[0, 1])\n",
    "\n",
    "fig5.update_yaxes(tickfont=dict(size=8))\n",
    "\n",
    "fig5.update_layout(showlegend=False,\n",
    "    title=dict(text='Figure 5: Forest plots and mixed modelling results'),\n",
    "    margin=dict(l=0),\n",
    "    width=700,\n",
    "    height=800)\n",
    "\n",
    "for ii in range(9):\n",
    "    fig5.layout.annotations[ii][\"font\"] = {'size': 10,'color':'black'}\n",
    "\n",
    "plot(insertLogo(fig5,0.03,0.03,1,-0.07,-0.125,0.033), filename = 'fig5.html',config = config)\n",
    "# display(HTML('fig5.html'))\n",
    "\n",
    "# fig5.show()\n",
    "plotly.offline.iplot(fig5, filename=\"Figure 5\")"
   ],
   "metadata": {
    "collapsed": false,
    "pycharm": {
     "name": "#%%\n"
    }
   }
  },
  {
   "cell_type": "markdown",
   "source": [
    "The forest plot offers a detailed summary for each measure. What if we want to compare the R<sup>2</sup> estimates across measures? To do that, we pooled together all the measures from all the studies and computed first a repeated measures meta-regression and then all the possible pairwise comparisons (Tukey's test), correcting for multiple comparisons (Bonferroni correction).\n",
    "\n",
    "```{admonition} Figure 6\n",
    ":class: tip\n",
    "To visually represent these results, we used two heatmaps, one for the z-scores and one for the p-values: each element refers to the comparison between the measure on the x axis and the one on the y axis.\n",
    "```"
   ],
   "metadata": {
    "collapsed": false
   }
  },
  {
   "cell_type": "markdown",
   "source": [
    "### Figure 6"
   ],
   "metadata": {
    "collapsed": false
   }
  },
  {
   "cell_type": "code",
   "execution_count": 18,
   "outputs": [
    {
     "data": {
      "application/vnd.plotly.v1+json": {
       "config": {
        "linkText": "Export to plot.ly",
        "plotlyServerURL": "https://plot.ly",
        "showLink": false
       },
       "data": [
        {
         "colorbar": {
          "thickness": 20,
          "title": {
           "text": "z-score"
          },
          "x": 0.42
         },
         "colorscale": [
          [
           0.0,
           "rgb(103,0,31)"
          ],
          [
           0.1,
           "rgb(178,24,43)"
          ],
          [
           0.2,
           "rgb(214,96,77)"
          ],
          [
           0.3,
           "rgb(244,165,130)"
          ],
          [
           0.4,
           "rgb(253,219,199)"
          ],
          [
           0.5,
           "rgb(247,247,247)"
          ],
          [
           0.6,
           "rgb(209,229,240)"
          ],
          [
           0.7,
           "rgb(146,197,222)"
          ],
          [
           0.8,
           "rgb(67,147,195)"
          ],
          [
           0.9,
           "rgb(33,102,172)"
          ],
          [
           1.0,
           "rgb(5,48,97)"
          ]
         ],
         "customdata": [
          [
           null,
           0.037277618506793786,
           1.0,
           0.0,
           2.4796165121188096E-11,
           4.962359641043079E-4,
           1.0,
           1.6234235555856458E-7,
           0.11356049286256731
          ],
          [
           0.037277618506793786,
           null,
           0.2082914516650778,
           3.453237695794087E-11,
           7.204345401046197E-5,
           0.05828007380896505,
           0.01865245925468617,
           0.0044843940294096996,
           1.0
          ],
          [
           1.0,
           0.2082914516650778,
           null,
           0.0,
           5.238369737980975E-10,
           7.0686778374629E-4,
           1.0,
           7.160367259118061E-7,
           0.15146825503635952
          ],
          [
           0.0,
           3.453237695794087E-11,
           0.0,
           null,
           0.730259876969658,
           1.0,
           0.0,
           0.4390122299882844,
           6.499745087751307E-5
          ],
          [
           2.4796165121188096E-11,
           7.204345401046197E-5,
           5.238369737980975E-10,
           0.730259876969658,
           null,
           1.0,
           1.9984014443252818E-13,
           1.0,
           0.11085469993457231
          ],
          [
           4.962359641043079E-4,
           0.05828007380896505,
           7.0686778374629E-4,
           1.0,
           1.0,
           null,
           1.8152120429171248E-4,
           1.0,
           0.8710195655609301
          ],
          [
           1.0,
           0.01865245925468617,
           1.0,
           0.0,
           1.9984014443252818E-13,
           1.8152120429171248E-4,
           null,
           1.3363582240799587E-8,
           0.03198055436400438
          ],
          [
           1.6234235555856458E-7,
           0.0044843940294096996,
           7.160367259118061E-7,
           0.4390122299882844,
           1.0,
           1.0,
           1.3363582240799587E-8,
           null,
           0.2753799957987981
          ],
          [
           0.11356049286256731,
           1.0,
           0.15146825503635952,
           6.499745087751307E-5,
           0.11085469993457231,
           0.8710195655609301,
           0.03198055436400438,
           0.2753799957987981,
           null
          ]
         ],
         "hoverongaps": false,
         "hovertemplate": "%{x}-%{y}<br>z-score: %{z:.2f}<br>p-value: %{customdata:.5f}<extra></extra>",
         "showscale": true,
         "type": "heatmap",
         "x": [
          "AD",
          "FA",
          "MD",
          "MPF",
          "MTR",
          "MWF",
          "RD",
          "T1",
          "T2"
         ],
         "xaxis": "x",
         "y": [
          "AD",
          "FA",
          "MD",
          "MPF",
          "MTR",
          "MWF",
          "RD",
          "T1",
          "T2"
         ],
         "yaxis": "y",
         "z": [
          [
           null,
           3.280702397590244,
           -0.04231615216123632,
           9.887983519076196,
           7.181647288305042,
           4.347268680355353,
           -0.6551450735181739,
           5.864329578696917,
           2.9522711343489165
          ],
          [
           -3.280702397590244,
           null,
           -2.7596758622894306,
           7.136233643840816,
           4.7533023782456,
           3.15248147403148,
           -3.471207288020178,
           3.8369604956120957,
           1.1428744851727286
          ],
          [
           0.04231615216123632,
           2.7596758622894306,
           null,
           9.080857339050008,
           6.752308737388633,
           4.268998985177099,
           -0.5946688970187572,
           5.612956085715507,
           2.86217452529847
          ],
          [
           -9.887983519076196,
           -7.136233643840816,
           -9.080857339050008,
           null,
           -2.321034228524179,
           -0.7706539931266065,
           -9.983427135582481,
           -2.506457138784525,
           -4.774060087007149
          ],
          [
           -7.181647288305042,
           -4.7533023782456,
           -6.752308737388633,
           2.321034228524179,
           null,
           0.5392349582513247,
           -7.815451491179282,
           -0.46748799404582564,
           -2.9597090322411406
          ],
          [
           -4.347268680355353,
           -3.15248147403148,
           -4.268998985177099,
           0.7706539931266065,
           -0.5392349582513247,
           null,
           -4.563021883356941,
           -0.7596946170151639,
           -2.2540187580194986
          ],
          [
           0.6551450735181739,
           3.471207288020178,
           0.5946688970187572,
           9.983427135582481,
           7.815451491179282,
           4.563021883356941,
           null,
           6.265676388170765,
           3.323690038184478
          ],
          [
           -5.864329578696917,
           -3.8369604956120957,
           -5.612956085715507,
           2.506457138784525,
           0.46748799404582564,
           0.7596946170151639,
           -6.265676388170765,
           null,
           -2.6671635217267156
          ],
          [
           -2.9522711343489165,
           -1.1428744851727286,
           -2.86217452529847,
           4.774060087007149,
           2.9597090322411406,
           2.2540187580194986,
           -3.323690038184478,
           2.6671635217267156,
           null
          ]
         ]
        },
        {
         "colorbar": {
          "thickness": 20,
          "title": {
           "text": "p-value"
          }
         },
         "colorscale": [
          [
           0.0,
           "rgb(252,251,253)"
          ],
          [
           0.125,
           "rgb(239,237,245)"
          ],
          [
           0.25,
           "rgb(218,218,235)"
          ],
          [
           0.375,
           "rgb(188,189,220)"
          ],
          [
           0.5,
           "rgb(158,154,200)"
          ],
          [
           0.625,
           "rgb(128,125,186)"
          ],
          [
           0.75,
           "rgb(106,81,163)"
          ],
          [
           0.875,
           "rgb(84,39,143)"
          ],
          [
           1.0,
           "rgb(63,0,125)"
          ]
         ],
         "customdata": [
          [
           null,
           3.280702397590244,
           -0.04231615216123632,
           9.887983519076196,
           7.181647288305042,
           4.347268680355353,
           -0.6551450735181739,
           5.864329578696917,
           2.9522711343489165
          ],
          [
           -3.280702397590244,
           null,
           -2.7596758622894306,
           7.136233643840816,
           4.7533023782456,
           3.15248147403148,
           -3.471207288020178,
           3.8369604956120957,
           1.1428744851727286
          ],
          [
           0.04231615216123632,
           2.7596758622894306,
           null,
           9.080857339050008,
           6.752308737388633,
           4.268998985177099,
           -0.5946688970187572,
           5.612956085715507,
           2.86217452529847
          ],
          [
           -9.887983519076196,
           -7.136233643840816,
           -9.080857339050008,
           null,
           -2.321034228524179,
           -0.7706539931266065,
           -9.983427135582481,
           -2.506457138784525,
           -4.774060087007149
          ],
          [
           -7.181647288305042,
           -4.7533023782456,
           -6.752308737388633,
           2.321034228524179,
           null,
           0.5392349582513247,
           -7.815451491179282,
           -0.46748799404582564,
           -2.9597090322411406
          ],
          [
           -4.347268680355353,
           -3.15248147403148,
           -4.268998985177099,
           0.7706539931266065,
           -0.5392349582513247,
           null,
           -4.563021883356941,
           -0.7596946170151639,
           -2.2540187580194986
          ],
          [
           0.6551450735181739,
           3.471207288020178,
           0.5946688970187572,
           9.983427135582481,
           7.815451491179282,
           4.563021883356941,
           null,
           6.265676388170765,
           3.323690038184478
          ],
          [
           -5.864329578696917,
           -3.8369604956120957,
           -5.612956085715507,
           2.506457138784525,
           0.46748799404582564,
           0.7596946170151639,
           -6.265676388170765,
           null,
           -2.6671635217267156
          ],
          [
           -2.9522711343489165,
           -1.1428744851727286,
           -2.86217452529847,
           4.774060087007149,
           2.9597090322411406,
           2.2540187580194986,
           -3.323690038184478,
           2.6671635217267156,
           null
          ]
         ],
         "hoverongaps": false,
         "hovertemplate": "%{x}-%{y}<br>z-score: %{customdata:.2f}<br>p-value: %{z:.5f}<extra></extra>",
         "reversescale": true,
         "showscale": true,
         "type": "heatmap",
         "x": [
          "AD",
          "FA",
          "MD",
          "MPF",
          "MTR",
          "MWF",
          "RD",
          "T1",
          "T2"
         ],
         "xaxis": "x2",
         "y": [
          "AD",
          "FA",
          "MD",
          "MPF",
          "MTR",
          "MWF",
          "RD",
          "T1",
          "T2"
         ],
         "yaxis": "y2",
         "z": [
          [
           null,
           0.037277618506793786,
           1.0,
           0.0,
           2.4796165121188096E-11,
           4.962359641043079E-4,
           1.0,
           1.6234235555856458E-7,
           0.11356049286256731
          ],
          [
           0.037277618506793786,
           null,
           0.2082914516650778,
           3.453237695794087E-11,
           7.204345401046197E-5,
           0.05828007380896505,
           0.01865245925468617,
           0.0044843940294096996,
           1.0
          ],
          [
           1.0,
           0.2082914516650778,
           null,
           0.0,
           5.238369737980975E-10,
           7.0686778374629E-4,
           1.0,
           7.160367259118061E-7,
           0.15146825503635952
          ],
          [
           0.0,
           3.453237695794087E-11,
           0.0,
           null,
           0.730259876969658,
           1.0,
           0.0,
           0.4390122299882844,
           6.499745087751307E-5
          ],
          [
           2.4796165121188096E-11,
           7.204345401046197E-5,
           5.238369737980975E-10,
           0.730259876969658,
           null,
           1.0,
           1.9984014443252818E-13,
           1.0,
           0.11085469993457231
          ],
          [
           4.962359641043079E-4,
           0.05828007380896505,
           7.0686778374629E-4,
           1.0,
           1.0,
           null,
           1.8152120429171248E-4,
           1.0,
           0.8710195655609301
          ],
          [
           1.0,
           0.01865245925468617,
           1.0,
           0.0,
           1.9984014443252818E-13,
           1.8152120429171248E-4,
           null,
           1.3363582240799587E-8,
           0.03198055436400438
          ],
          [
           1.6234235555856458E-7,
           0.0044843940294096996,
           7.160367259118061E-7,
           0.4390122299882844,
           1.0,
           1.0,
           1.3363582240799587E-8,
           null,
           0.2753799957987981
          ],
          [
           0.11356049286256731,
           1.0,
           0.15146825503635952,
           6.499745087751307E-5,
           0.11085469993457231,
           0.8710195655609301,
           0.03198055436400438,
           0.2753799957987981,
           null
          ]
         ],
         "zmax": 0.05,
         "zmin": 0
        }
       ],
       "layout": {
        "annotations": [
         {
          "font": {
           "size": 16
          },
          "showarrow": false,
          "text": "z-scores",
          "x": 0.215,
          "xanchor": "center",
          "xref": "paper",
          "y": 1.0,
          "yanchor": "bottom",
          "yref": "paper"
         },
         {
          "font": {
           "size": 16
          },
          "showarrow": false,
          "text": "p-values",
          "x": 0.785,
          "xanchor": "center",
          "xref": "paper",
          "y": 1.0,
          "yanchor": "bottom",
          "yref": "paper"
         },
         {
          "font": {
           "color": "gray",
           "size": 8
          },
          "showarrow": false,
          "text": "<a href=\"https://neurolibre.com\" target=\"_blank\" style=\"color:gray!important\">NeuroLibre</a>",
          "x": 1.11,
          "xref": "paper",
          "y": -0.15,
          "yref": "paper"
         }
        ],
        "height": 420,
        "images": [
         {
          "opacity": 0.9,
          "sizex": 0.07,
          "sizey": 0.07,
          "source": "https://raw.githubusercontent.com/notebook-factory/brand/main/nlibre_custom2.svg",
          "x": 1.01,
          "xref": "paper",
          "y": -0.075,
          "yref": "paper"
         }
        ],
        "margin": {
         "l": 0,
         "r": 0
        },
        "paper_bgcolor": "rgba(0,0,0,0)",
        "plot_bgcolor": "rgba(0,0,0,0)",
        "template": {
         "data": {
          "bar": [
           {
            "error_x": {
             "color": "#2a3f5f"
            },
            "error_y": {
             "color": "#2a3f5f"
            },
            "marker": {
             "line": {
              "color": "#E5ECF6",
              "width": 0.5
             }
            },
            "type": "bar"
           }
          ],
          "barpolar": [
           {
            "marker": {
             "line": {
              "color": "#E5ECF6",
              "width": 0.5
             }
            },
            "type": "barpolar"
           }
          ],
          "carpet": [
           {
            "aaxis": {
             "endlinecolor": "#2a3f5f",
             "gridcolor": "white",
             "linecolor": "white",
             "minorgridcolor": "white",
             "startlinecolor": "#2a3f5f"
            },
            "baxis": {
             "endlinecolor": "#2a3f5f",
             "gridcolor": "white",
             "linecolor": "white",
             "minorgridcolor": "white",
             "startlinecolor": "#2a3f5f"
            },
            "type": "carpet"
           }
          ],
          "choropleth": [
           {
            "colorbar": {
             "outlinewidth": 0,
             "ticks": ""
            },
            "type": "choropleth"
           }
          ],
          "contour": [
           {
            "colorbar": {
             "outlinewidth": 0,
             "ticks": ""
            },
            "colorscale": [
             [
              0.0,
              "#0d0887"
             ],
             [
              0.1111111111111111,
              "#46039f"
             ],
             [
              0.2222222222222222,
              "#7201a8"
             ],
             [
              0.3333333333333333,
              "#9c179e"
             ],
             [
              0.4444444444444444,
              "#bd3786"
             ],
             [
              0.5555555555555556,
              "#d8576b"
             ],
             [
              0.6666666666666666,
              "#ed7953"
             ],
             [
              0.7777777777777778,
              "#fb9f3a"
             ],
             [
              0.8888888888888888,
              "#fdca26"
             ],
             [
              1.0,
              "#f0f921"
             ]
            ],
            "type": "contour"
           }
          ],
          "contourcarpet": [
           {
            "colorbar": {
             "outlinewidth": 0,
             "ticks": ""
            },
            "type": "contourcarpet"
           }
          ],
          "heatmap": [
           {
            "colorbar": {
             "outlinewidth": 0,
             "ticks": ""
            },
            "colorscale": [
             [
              0.0,
              "#0d0887"
             ],
             [
              0.1111111111111111,
              "#46039f"
             ],
             [
              0.2222222222222222,
              "#7201a8"
             ],
             [
              0.3333333333333333,
              "#9c179e"
             ],
             [
              0.4444444444444444,
              "#bd3786"
             ],
             [
              0.5555555555555556,
              "#d8576b"
             ],
             [
              0.6666666666666666,
              "#ed7953"
             ],
             [
              0.7777777777777778,
              "#fb9f3a"
             ],
             [
              0.8888888888888888,
              "#fdca26"
             ],
             [
              1.0,
              "#f0f921"
             ]
            ],
            "type": "heatmap"
           }
          ],
          "heatmapgl": [
           {
            "colorbar": {
             "outlinewidth": 0,
             "ticks": ""
            },
            "colorscale": [
             [
              0.0,
              "#0d0887"
             ],
             [
              0.1111111111111111,
              "#46039f"
             ],
             [
              0.2222222222222222,
              "#7201a8"
             ],
             [
              0.3333333333333333,
              "#9c179e"
             ],
             [
              0.4444444444444444,
              "#bd3786"
             ],
             [
              0.5555555555555556,
              "#d8576b"
             ],
             [
              0.6666666666666666,
              "#ed7953"
             ],
             [
              0.7777777777777778,
              "#fb9f3a"
             ],
             [
              0.8888888888888888,
              "#fdca26"
             ],
             [
              1.0,
              "#f0f921"
             ]
            ],
            "type": "heatmapgl"
           }
          ],
          "histogram": [
           {
            "marker": {
             "colorbar": {
              "outlinewidth": 0,
              "ticks": ""
             }
            },
            "type": "histogram"
           }
          ],
          "histogram2d": [
           {
            "colorbar": {
             "outlinewidth": 0,
             "ticks": ""
            },
            "colorscale": [
             [
              0.0,
              "#0d0887"
             ],
             [
              0.1111111111111111,
              "#46039f"
             ],
             [
              0.2222222222222222,
              "#7201a8"
             ],
             [
              0.3333333333333333,
              "#9c179e"
             ],
             [
              0.4444444444444444,
              "#bd3786"
             ],
             [
              0.5555555555555556,
              "#d8576b"
             ],
             [
              0.6666666666666666,
              "#ed7953"
             ],
             [
              0.7777777777777778,
              "#fb9f3a"
             ],
             [
              0.8888888888888888,
              "#fdca26"
             ],
             [
              1.0,
              "#f0f921"
             ]
            ],
            "type": "histogram2d"
           }
          ],
          "histogram2dcontour": [
           {
            "colorbar": {
             "outlinewidth": 0,
             "ticks": ""
            },
            "colorscale": [
             [
              0.0,
              "#0d0887"
             ],
             [
              0.1111111111111111,
              "#46039f"
             ],
             [
              0.2222222222222222,
              "#7201a8"
             ],
             [
              0.3333333333333333,
              "#9c179e"
             ],
             [
              0.4444444444444444,
              "#bd3786"
             ],
             [
              0.5555555555555556,
              "#d8576b"
             ],
             [
              0.6666666666666666,
              "#ed7953"
             ],
             [
              0.7777777777777778,
              "#fb9f3a"
             ],
             [
              0.8888888888888888,
              "#fdca26"
             ],
             [
              1.0,
              "#f0f921"
             ]
            ],
            "type": "histogram2dcontour"
           }
          ],
          "mesh3d": [
           {
            "colorbar": {
             "outlinewidth": 0,
             "ticks": ""
            },
            "type": "mesh3d"
           }
          ],
          "parcoords": [
           {
            "line": {
             "colorbar": {
              "outlinewidth": 0,
              "ticks": ""
             }
            },
            "type": "parcoords"
           }
          ],
          "pie": [
           {
            "automargin": true,
            "type": "pie"
           }
          ],
          "scatter": [
           {
            "marker": {
             "colorbar": {
              "outlinewidth": 0,
              "ticks": ""
             }
            },
            "type": "scatter"
           }
          ],
          "scatter3d": [
           {
            "line": {
             "colorbar": {
              "outlinewidth": 0,
              "ticks": ""
             }
            },
            "marker": {
             "colorbar": {
              "outlinewidth": 0,
              "ticks": ""
             }
            },
            "type": "scatter3d"
           }
          ],
          "scattercarpet": [
           {
            "marker": {
             "colorbar": {
              "outlinewidth": 0,
              "ticks": ""
             }
            },
            "type": "scattercarpet"
           }
          ],
          "scattergeo": [
           {
            "marker": {
             "colorbar": {
              "outlinewidth": 0,
              "ticks": ""
             }
            },
            "type": "scattergeo"
           }
          ],
          "scattergl": [
           {
            "marker": {
             "colorbar": {
              "outlinewidth": 0,
              "ticks": ""
             }
            },
            "type": "scattergl"
           }
          ],
          "scattermapbox": [
           {
            "marker": {
             "colorbar": {
              "outlinewidth": 0,
              "ticks": ""
             }
            },
            "type": "scattermapbox"
           }
          ],
          "scatterpolar": [
           {
            "marker": {
             "colorbar": {
              "outlinewidth": 0,
              "ticks": ""
             }
            },
            "type": "scatterpolar"
           }
          ],
          "scatterpolargl": [
           {
            "marker": {
             "colorbar": {
              "outlinewidth": 0,
              "ticks": ""
             }
            },
            "type": "scatterpolargl"
           }
          ],
          "scatterternary": [
           {
            "marker": {
             "colorbar": {
              "outlinewidth": 0,
              "ticks": ""
             }
            },
            "type": "scatterternary"
           }
          ],
          "surface": [
           {
            "colorbar": {
             "outlinewidth": 0,
             "ticks": ""
            },
            "colorscale": [
             [
              0.0,
              "#0d0887"
             ],
             [
              0.1111111111111111,
              "#46039f"
             ],
             [
              0.2222222222222222,
              "#7201a8"
             ],
             [
              0.3333333333333333,
              "#9c179e"
             ],
             [
              0.4444444444444444,
              "#bd3786"
             ],
             [
              0.5555555555555556,
              "#d8576b"
             ],
             [
              0.6666666666666666,
              "#ed7953"
             ],
             [
              0.7777777777777778,
              "#fb9f3a"
             ],
             [
              0.8888888888888888,
              "#fdca26"
             ],
             [
              1.0,
              "#f0f921"
             ]
            ],
            "type": "surface"
           }
          ],
          "table": [
           {
            "cells": {
             "fill": {
              "color": "#EBF0F8"
             },
             "line": {
              "color": "white"
             }
            },
            "header": {
             "fill": {
              "color": "#C8D4E3"
             },
             "line": {
              "color": "white"
             }
            },
            "type": "table"
           }
          ]
         },
         "layout": {
          "annotationdefaults": {
           "arrowcolor": "#2a3f5f",
           "arrowhead": 0,
           "arrowwidth": 1
          },
          "coloraxis": {
           "colorbar": {
            "outlinewidth": 0,
            "ticks": ""
           }
          },
          "colorscale": {
           "diverging": [
            [
             0,
             "#8e0152"
            ],
            [
             0.1,
             "#c51b7d"
            ],
            [
             0.2,
             "#de77ae"
            ],
            [
             0.3,
             "#f1b6da"
            ],
            [
             0.4,
             "#fde0ef"
            ],
            [
             0.5,
             "#f7f7f7"
            ],
            [
             0.6,
             "#e6f5d0"
            ],
            [
             0.7,
             "#b8e186"
            ],
            [
             0.8,
             "#7fbc41"
            ],
            [
             0.9,
             "#4d9221"
            ],
            [
             1,
             "#276419"
            ]
           ],
           "sequential": [
            [
             0.0,
             "#0d0887"
            ],
            [
             0.1111111111111111,
             "#46039f"
            ],
            [
             0.2222222222222222,
             "#7201a8"
            ],
            [
             0.3333333333333333,
             "#9c179e"
            ],
            [
             0.4444444444444444,
             "#bd3786"
            ],
            [
             0.5555555555555556,
             "#d8576b"
            ],
            [
             0.6666666666666666,
             "#ed7953"
            ],
            [
             0.7777777777777778,
             "#fb9f3a"
            ],
            [
             0.8888888888888888,
             "#fdca26"
            ],
            [
             1.0,
             "#f0f921"
            ]
           ],
           "sequentialminus": [
            [
             0.0,
             "#0d0887"
            ],
            [
             0.1111111111111111,
             "#46039f"
            ],
            [
             0.2222222222222222,
             "#7201a8"
            ],
            [
             0.3333333333333333,
             "#9c179e"
            ],
            [
             0.4444444444444444,
             "#bd3786"
            ],
            [
             0.5555555555555556,
             "#d8576b"
            ],
            [
             0.6666666666666666,
             "#ed7953"
            ],
            [
             0.7777777777777778,
             "#fb9f3a"
            ],
            [
             0.8888888888888888,
             "#fdca26"
            ],
            [
             1.0,
             "#f0f921"
            ]
           ]
          },
          "colorway": [
           "#636efa",
           "#EF553B",
           "#00cc96",
           "#ab63fa",
           "#FFA15A",
           "#19d3f3",
           "#FF6692",
           "#B6E880",
           "#FF97FF",
           "#FECB52"
          ],
          "font": {
           "color": "#2a3f5f"
          },
          "geo": {
           "bgcolor": "white",
           "lakecolor": "white",
           "landcolor": "#E5ECF6",
           "showlakes": true,
           "showland": true,
           "subunitcolor": "white"
          },
          "hoverlabel": {
           "align": "left"
          },
          "hovermode": "closest",
          "mapbox": {
           "style": "light"
          },
          "paper_bgcolor": "white",
          "plot_bgcolor": "#E5ECF6",
          "polar": {
           "angularaxis": {
            "gridcolor": "white",
            "linecolor": "white",
            "ticks": ""
           },
           "bgcolor": "#E5ECF6",
           "radialaxis": {
            "gridcolor": "white",
            "linecolor": "white",
            "ticks": ""
           }
          },
          "scene": {
           "xaxis": {
            "backgroundcolor": "#E5ECF6",
            "gridcolor": "white",
            "gridwidth": 2,
            "linecolor": "white",
            "showbackground": true,
            "ticks": "",
            "zerolinecolor": "white"
           },
           "yaxis": {
            "backgroundcolor": "#E5ECF6",
            "gridcolor": "white",
            "gridwidth": 2,
            "linecolor": "white",
            "showbackground": true,
            "ticks": "",
            "zerolinecolor": "white"
           },
           "zaxis": {
            "backgroundcolor": "#E5ECF6",
            "gridcolor": "white",
            "gridwidth": 2,
            "linecolor": "white",
            "showbackground": true,
            "ticks": "",
            "zerolinecolor": "white"
           }
          },
          "shapedefaults": {
           "line": {
            "color": "#2a3f5f"
           }
          },
          "ternary": {
           "aaxis": {
            "gridcolor": "white",
            "linecolor": "white",
            "ticks": ""
           },
           "baxis": {
            "gridcolor": "white",
            "linecolor": "white",
            "ticks": ""
           },
           "bgcolor": "#E5ECF6",
           "caxis": {
            "gridcolor": "white",
            "linecolor": "white",
            "ticks": ""
           }
          },
          "title": {
           "x": 0.05
          },
          "xaxis": {
           "automargin": true,
           "gridcolor": "white",
           "linecolor": "white",
           "ticks": "",
           "title": {
            "standoff": 15
           },
           "zerolinecolor": "white",
           "zerolinewidth": 2
          },
          "yaxis": {
           "automargin": true,
           "gridcolor": "white",
           "linecolor": "white",
           "ticks": "",
           "title": {
            "standoff": 15
           },
           "zerolinecolor": "white",
           "zerolinewidth": 2
          }
         }
        },
        "title": {
         "text": "Figure 6: Statistical pairwise comparisons between R<sup>2</sup> estimates"
        },
        "width": 740,
        "xaxis": {
         "anchor": "y",
         "domain": [
          0.0,
          0.43
         ]
        },
        "xaxis2": {
         "anchor": "y2",
         "domain": [
          0.5700000000000001,
          1.0
         ]
        },
        "yaxis": {
         "anchor": "x",
         "domain": [
          0.0,
          1.0
         ]
        },
        "yaxis2": {
         "anchor": "x2",
         "domain": [
          0.0,
          1.0
         ]
        }
       }
      },
      "text/html": "<div>\n        \n        \n            <div id=\"b752af42-6525-4af0-86a2-b906e6d4abce\" class=\"plotly-graph-div\" style=\"height:420px; width:740px;\"></div>\n            <script type=\"text/javascript\">\n                require([\"plotly\"], function(Plotly) {\n                    window.PLOTLYENV=window.PLOTLYENV || {};\n                    \n                if (document.getElementById(\"b752af42-6525-4af0-86a2-b906e6d4abce\")) {\n                    Plotly.newPlot(\n                        'b752af42-6525-4af0-86a2-b906e6d4abce',\n                        [{\"colorbar\": {\"thickness\": 20, \"title\": {\"text\": \"z-score\"}, \"x\": 0.42}, \"colorscale\": [[0.0, \"rgb(103,0,31)\"], [0.1, \"rgb(178,24,43)\"], [0.2, \"rgb(214,96,77)\"], [0.3, \"rgb(244,165,130)\"], [0.4, \"rgb(253,219,199)\"], [0.5, \"rgb(247,247,247)\"], [0.6, \"rgb(209,229,240)\"], [0.7, \"rgb(146,197,222)\"], [0.8, \"rgb(67,147,195)\"], [0.9, \"rgb(33,102,172)\"], [1.0, \"rgb(5,48,97)\"]], \"customdata\": [[null, 0.037277618506793786, 1.0, 0.0, 2.4796165121188096e-11, 0.0004962359641043079, 1.0, 1.6234235555856458e-07, 0.11356049286256731], [0.037277618506793786, null, 0.2082914516650778, 3.453237695794087e-11, 7.204345401046197e-05, 0.05828007380896505, 0.01865245925468617, 0.0044843940294096996, 1.0], [1.0, 0.2082914516650778, null, 0.0, 5.238369737980975e-10, 0.00070686778374629, 1.0, 7.160367259118061e-07, 0.15146825503635952], [0.0, 3.453237695794087e-11, 0.0, null, 0.730259876969658, 1.0, 0.0, 0.4390122299882844, 6.499745087751307e-05], [2.4796165121188096e-11, 7.204345401046197e-05, 5.238369737980975e-10, 0.730259876969658, null, 1.0, 1.9984014443252818e-13, 1.0, 0.11085469993457231], [0.0004962359641043079, 0.05828007380896505, 0.00070686778374629, 1.0, 1.0, null, 0.00018152120429171248, 1.0, 0.8710195655609301], [1.0, 0.01865245925468617, 1.0, 0.0, 1.9984014443252818e-13, 0.00018152120429171248, null, 1.3363582240799587e-08, 0.03198055436400438], [1.6234235555856458e-07, 0.0044843940294096996, 7.160367259118061e-07, 0.4390122299882844, 1.0, 1.0, 1.3363582240799587e-08, null, 0.2753799957987981], [0.11356049286256731, 1.0, 0.15146825503635952, 6.499745087751307e-05, 0.11085469993457231, 0.8710195655609301, 0.03198055436400438, 0.2753799957987981, null]], \"hoverongaps\": false, \"hovertemplate\": \"%{x}-%{y}<br>z-score: %{z:.2f}<br>p-value: %{customdata:.5f}<extra></extra>\", \"showscale\": true, \"type\": \"heatmap\", \"x\": [\"AD\", \"FA\", \"MD\", \"MPF\", \"MTR\", \"MWF\", \"RD\", \"T1\", \"T2\"], \"xaxis\": \"x\", \"y\": [\"AD\", \"FA\", \"MD\", \"MPF\", \"MTR\", \"MWF\", \"RD\", \"T1\", \"T2\"], \"yaxis\": \"y\", \"z\": [[null, 3.280702397590244, -0.04231615216123632, 9.887983519076196, 7.181647288305042, 4.347268680355353, -0.6551450735181739, 5.864329578696917, 2.9522711343489165], [-3.280702397590244, null, -2.7596758622894306, 7.136233643840816, 4.7533023782456, 3.15248147403148, -3.471207288020178, 3.8369604956120957, 1.1428744851727286], [0.04231615216123632, 2.7596758622894306, null, 9.080857339050008, 6.752308737388633, 4.268998985177099, -0.5946688970187572, 5.612956085715507, 2.86217452529847], [-9.887983519076196, -7.136233643840816, -9.080857339050008, null, -2.321034228524179, -0.7706539931266065, -9.983427135582481, -2.506457138784525, -4.774060087007149], [-7.181647288305042, -4.7533023782456, -6.752308737388633, 2.321034228524179, null, 0.5392349582513247, -7.815451491179282, -0.46748799404582564, -2.9597090322411406], [-4.347268680355353, -3.15248147403148, -4.268998985177099, 0.7706539931266065, -0.5392349582513247, null, -4.563021883356941, -0.7596946170151639, -2.2540187580194986], [0.6551450735181739, 3.471207288020178, 0.5946688970187572, 9.983427135582481, 7.815451491179282, 4.563021883356941, null, 6.265676388170765, 3.323690038184478], [-5.864329578696917, -3.8369604956120957, -5.612956085715507, 2.506457138784525, 0.46748799404582564, 0.7596946170151639, -6.265676388170765, null, -2.6671635217267156], [-2.9522711343489165, -1.1428744851727286, -2.86217452529847, 4.774060087007149, 2.9597090322411406, 2.2540187580194986, -3.323690038184478, 2.6671635217267156, null]]}, {\"colorbar\": {\"thickness\": 20, \"title\": {\"text\": \"p-value\"}}, \"colorscale\": [[0.0, \"rgb(252,251,253)\"], [0.125, \"rgb(239,237,245)\"], [0.25, \"rgb(218,218,235)\"], [0.375, \"rgb(188,189,220)\"], [0.5, \"rgb(158,154,200)\"], [0.625, \"rgb(128,125,186)\"], [0.75, \"rgb(106,81,163)\"], [0.875, \"rgb(84,39,143)\"], [1.0, \"rgb(63,0,125)\"]], \"customdata\": [[null, 3.280702397590244, -0.04231615216123632, 9.887983519076196, 7.181647288305042, 4.347268680355353, -0.6551450735181739, 5.864329578696917, 2.9522711343489165], [-3.280702397590244, null, -2.7596758622894306, 7.136233643840816, 4.7533023782456, 3.15248147403148, -3.471207288020178, 3.8369604956120957, 1.1428744851727286], [0.04231615216123632, 2.7596758622894306, null, 9.080857339050008, 6.752308737388633, 4.268998985177099, -0.5946688970187572, 5.612956085715507, 2.86217452529847], [-9.887983519076196, -7.136233643840816, -9.080857339050008, null, -2.321034228524179, -0.7706539931266065, -9.983427135582481, -2.506457138784525, -4.774060087007149], [-7.181647288305042, -4.7533023782456, -6.752308737388633, 2.321034228524179, null, 0.5392349582513247, -7.815451491179282, -0.46748799404582564, -2.9597090322411406], [-4.347268680355353, -3.15248147403148, -4.268998985177099, 0.7706539931266065, -0.5392349582513247, null, -4.563021883356941, -0.7596946170151639, -2.2540187580194986], [0.6551450735181739, 3.471207288020178, 0.5946688970187572, 9.983427135582481, 7.815451491179282, 4.563021883356941, null, 6.265676388170765, 3.323690038184478], [-5.864329578696917, -3.8369604956120957, -5.612956085715507, 2.506457138784525, 0.46748799404582564, 0.7596946170151639, -6.265676388170765, null, -2.6671635217267156], [-2.9522711343489165, -1.1428744851727286, -2.86217452529847, 4.774060087007149, 2.9597090322411406, 2.2540187580194986, -3.323690038184478, 2.6671635217267156, null]], \"hoverongaps\": false, \"hovertemplate\": \"%{x}-%{y}<br>z-score: %{customdata:.2f}<br>p-value: %{z:.5f}<extra></extra>\", \"reversescale\": true, \"showscale\": true, \"type\": \"heatmap\", \"x\": [\"AD\", \"FA\", \"MD\", \"MPF\", \"MTR\", \"MWF\", \"RD\", \"T1\", \"T2\"], \"xaxis\": \"x2\", \"y\": [\"AD\", \"FA\", \"MD\", \"MPF\", \"MTR\", \"MWF\", \"RD\", \"T1\", \"T2\"], \"yaxis\": \"y2\", \"z\": [[null, 0.037277618506793786, 1.0, 0.0, 2.4796165121188096e-11, 0.0004962359641043079, 1.0, 1.6234235555856458e-07, 0.11356049286256731], [0.037277618506793786, null, 0.2082914516650778, 3.453237695794087e-11, 7.204345401046197e-05, 0.05828007380896505, 0.01865245925468617, 0.0044843940294096996, 1.0], [1.0, 0.2082914516650778, null, 0.0, 5.238369737980975e-10, 0.00070686778374629, 1.0, 7.160367259118061e-07, 0.15146825503635952], [0.0, 3.453237695794087e-11, 0.0, null, 0.730259876969658, 1.0, 0.0, 0.4390122299882844, 6.499745087751307e-05], [2.4796165121188096e-11, 7.204345401046197e-05, 5.238369737980975e-10, 0.730259876969658, null, 1.0, 1.9984014443252818e-13, 1.0, 0.11085469993457231], [0.0004962359641043079, 0.05828007380896505, 0.00070686778374629, 1.0, 1.0, null, 0.00018152120429171248, 1.0, 0.8710195655609301], [1.0, 0.01865245925468617, 1.0, 0.0, 1.9984014443252818e-13, 0.00018152120429171248, null, 1.3363582240799587e-08, 0.03198055436400438], [1.6234235555856458e-07, 0.0044843940294096996, 7.160367259118061e-07, 0.4390122299882844, 1.0, 1.0, 1.3363582240799587e-08, null, 0.2753799957987981], [0.11356049286256731, 1.0, 0.15146825503635952, 6.499745087751307e-05, 0.11085469993457231, 0.8710195655609301, 0.03198055436400438, 0.2753799957987981, null]], \"zmax\": 0.05, \"zmin\": 0}],\n                        {\"annotations\": [{\"font\": {\"size\": 16}, \"showarrow\": false, \"text\": \"z-scores\", \"x\": 0.215, \"xanchor\": \"center\", \"xref\": \"paper\", \"y\": 1.0, \"yanchor\": \"bottom\", \"yref\": \"paper\"}, {\"font\": {\"size\": 16}, \"showarrow\": false, \"text\": \"p-values\", \"x\": 0.785, \"xanchor\": \"center\", \"xref\": \"paper\", \"y\": 1.0, \"yanchor\": \"bottom\", \"yref\": \"paper\"}, {\"font\": {\"color\": \"gray\", \"size\": 8}, \"showarrow\": false, \"text\": \"<a href=\\\"https://neurolibre.com\\\" target=\\\"_blank\\\" style=\\\"color:gray!important\\\">NeuroLibre</a>\", \"x\": 1.11, \"xref\": \"paper\", \"y\": -0.15, \"yref\": \"paper\"}], \"height\": 420, \"images\": [{\"opacity\": 0.9, \"sizex\": 0.07, \"sizey\": 0.07, \"source\": \"https://raw.githubusercontent.com/notebook-factory/brand/main/nlibre_custom2.svg\", \"x\": 1.01, \"xref\": \"paper\", \"y\": -0.075, \"yref\": \"paper\"}], \"margin\": {\"l\": 0, \"r\": 0}, \"paper_bgcolor\": \"rgba(0,0,0,0)\", \"plot_bgcolor\": \"rgba(0,0,0,0)\", \"template\": {\"data\": {\"bar\": [{\"error_x\": {\"color\": \"#2a3f5f\"}, \"error_y\": {\"color\": \"#2a3f5f\"}, \"marker\": {\"line\": {\"color\": \"#E5ECF6\", \"width\": 0.5}}, \"type\": \"bar\"}], \"barpolar\": [{\"marker\": {\"line\": {\"color\": \"#E5ECF6\", \"width\": 0.5}}, \"type\": \"barpolar\"}], \"carpet\": [{\"aaxis\": {\"endlinecolor\": \"#2a3f5f\", \"gridcolor\": \"white\", \"linecolor\": \"white\", \"minorgridcolor\": \"white\", \"startlinecolor\": \"#2a3f5f\"}, \"baxis\": {\"endlinecolor\": \"#2a3f5f\", \"gridcolor\": \"white\", \"linecolor\": \"white\", \"minorgridcolor\": \"white\", \"startlinecolor\": \"#2a3f5f\"}, \"type\": \"carpet\"}], \"choropleth\": [{\"colorbar\": {\"outlinewidth\": 0, \"ticks\": \"\"}, \"type\": \"choropleth\"}], \"contour\": [{\"colorbar\": {\"outlinewidth\": 0, \"ticks\": \"\"}, \"colorscale\": [[0.0, \"#0d0887\"], [0.1111111111111111, \"#46039f\"], [0.2222222222222222, \"#7201a8\"], [0.3333333333333333, \"#9c179e\"], [0.4444444444444444, \"#bd3786\"], [0.5555555555555556, \"#d8576b\"], [0.6666666666666666, \"#ed7953\"], [0.7777777777777778, \"#fb9f3a\"], [0.8888888888888888, \"#fdca26\"], [1.0, \"#f0f921\"]], \"type\": \"contour\"}], \"contourcarpet\": [{\"colorbar\": {\"outlinewidth\": 0, \"ticks\": \"\"}, \"type\": \"contourcarpet\"}], \"heatmap\": [{\"colorbar\": {\"outlinewidth\": 0, \"ticks\": \"\"}, \"colorscale\": [[0.0, \"#0d0887\"], [0.1111111111111111, \"#46039f\"], [0.2222222222222222, \"#7201a8\"], [0.3333333333333333, \"#9c179e\"], [0.4444444444444444, \"#bd3786\"], [0.5555555555555556, \"#d8576b\"], [0.6666666666666666, \"#ed7953\"], [0.7777777777777778, \"#fb9f3a\"], [0.8888888888888888, \"#fdca26\"], [1.0, \"#f0f921\"]], \"type\": \"heatmap\"}], \"heatmapgl\": [{\"colorbar\": {\"outlinewidth\": 0, \"ticks\": \"\"}, \"colorscale\": [[0.0, \"#0d0887\"], [0.1111111111111111, \"#46039f\"], [0.2222222222222222, \"#7201a8\"], [0.3333333333333333, \"#9c179e\"], [0.4444444444444444, \"#bd3786\"], [0.5555555555555556, \"#d8576b\"], [0.6666666666666666, \"#ed7953\"], [0.7777777777777778, \"#fb9f3a\"], [0.8888888888888888, \"#fdca26\"], [1.0, \"#f0f921\"]], \"type\": \"heatmapgl\"}], \"histogram\": [{\"marker\": {\"colorbar\": {\"outlinewidth\": 0, \"ticks\": \"\"}}, \"type\": \"histogram\"}], \"histogram2d\": [{\"colorbar\": {\"outlinewidth\": 0, \"ticks\": \"\"}, \"colorscale\": [[0.0, \"#0d0887\"], [0.1111111111111111, \"#46039f\"], [0.2222222222222222, \"#7201a8\"], [0.3333333333333333, \"#9c179e\"], [0.4444444444444444, \"#bd3786\"], [0.5555555555555556, \"#d8576b\"], [0.6666666666666666, \"#ed7953\"], [0.7777777777777778, \"#fb9f3a\"], [0.8888888888888888, \"#fdca26\"], [1.0, \"#f0f921\"]], \"type\": \"histogram2d\"}], \"histogram2dcontour\": [{\"colorbar\": {\"outlinewidth\": 0, \"ticks\": \"\"}, \"colorscale\": [[0.0, \"#0d0887\"], [0.1111111111111111, \"#46039f\"], [0.2222222222222222, \"#7201a8\"], [0.3333333333333333, \"#9c179e\"], [0.4444444444444444, \"#bd3786\"], [0.5555555555555556, \"#d8576b\"], [0.6666666666666666, \"#ed7953\"], [0.7777777777777778, \"#fb9f3a\"], [0.8888888888888888, \"#fdca26\"], [1.0, \"#f0f921\"]], \"type\": \"histogram2dcontour\"}], \"mesh3d\": [{\"colorbar\": {\"outlinewidth\": 0, \"ticks\": \"\"}, \"type\": \"mesh3d\"}], \"parcoords\": [{\"line\": {\"colorbar\": {\"outlinewidth\": 0, \"ticks\": \"\"}}, \"type\": \"parcoords\"}], \"pie\": [{\"automargin\": true, \"type\": \"pie\"}], \"scatter\": [{\"marker\": {\"colorbar\": {\"outlinewidth\": 0, \"ticks\": \"\"}}, \"type\": \"scatter\"}], \"scatter3d\": [{\"line\": {\"colorbar\": {\"outlinewidth\": 0, \"ticks\": \"\"}}, \"marker\": {\"colorbar\": {\"outlinewidth\": 0, \"ticks\": \"\"}}, \"type\": \"scatter3d\"}], \"scattercarpet\": [{\"marker\": {\"colorbar\": {\"outlinewidth\": 0, \"ticks\": \"\"}}, \"type\": \"scattercarpet\"}], \"scattergeo\": [{\"marker\": {\"colorbar\": {\"outlinewidth\": 0, \"ticks\": \"\"}}, \"type\": \"scattergeo\"}], \"scattergl\": [{\"marker\": {\"colorbar\": {\"outlinewidth\": 0, \"ticks\": \"\"}}, \"type\": \"scattergl\"}], \"scattermapbox\": [{\"marker\": {\"colorbar\": {\"outlinewidth\": 0, \"ticks\": \"\"}}, \"type\": \"scattermapbox\"}], \"scatterpolar\": [{\"marker\": {\"colorbar\": {\"outlinewidth\": 0, \"ticks\": \"\"}}, \"type\": \"scatterpolar\"}], \"scatterpolargl\": [{\"marker\": {\"colorbar\": {\"outlinewidth\": 0, \"ticks\": \"\"}}, \"type\": \"scatterpolargl\"}], \"scatterternary\": [{\"marker\": {\"colorbar\": {\"outlinewidth\": 0, \"ticks\": \"\"}}, \"type\": \"scatterternary\"}], \"surface\": [{\"colorbar\": {\"outlinewidth\": 0, \"ticks\": \"\"}, \"colorscale\": [[0.0, \"#0d0887\"], [0.1111111111111111, \"#46039f\"], [0.2222222222222222, \"#7201a8\"], [0.3333333333333333, \"#9c179e\"], [0.4444444444444444, \"#bd3786\"], [0.5555555555555556, \"#d8576b\"], [0.6666666666666666, \"#ed7953\"], [0.7777777777777778, \"#fb9f3a\"], [0.8888888888888888, \"#fdca26\"], [1.0, \"#f0f921\"]], \"type\": \"surface\"}], \"table\": [{\"cells\": {\"fill\": {\"color\": \"#EBF0F8\"}, \"line\": {\"color\": \"white\"}}, \"header\": {\"fill\": {\"color\": \"#C8D4E3\"}, \"line\": {\"color\": \"white\"}}, \"type\": \"table\"}]}, \"layout\": {\"annotationdefaults\": {\"arrowcolor\": \"#2a3f5f\", \"arrowhead\": 0, \"arrowwidth\": 1}, \"coloraxis\": {\"colorbar\": {\"outlinewidth\": 0, \"ticks\": \"\"}}, \"colorscale\": {\"diverging\": [[0, \"#8e0152\"], [0.1, \"#c51b7d\"], [0.2, \"#de77ae\"], [0.3, \"#f1b6da\"], [0.4, \"#fde0ef\"], [0.5, \"#f7f7f7\"], [0.6, \"#e6f5d0\"], [0.7, \"#b8e186\"], [0.8, \"#7fbc41\"], [0.9, \"#4d9221\"], [1, \"#276419\"]], \"sequential\": [[0.0, \"#0d0887\"], [0.1111111111111111, \"#46039f\"], [0.2222222222222222, \"#7201a8\"], [0.3333333333333333, \"#9c179e\"], [0.4444444444444444, \"#bd3786\"], [0.5555555555555556, \"#d8576b\"], [0.6666666666666666, \"#ed7953\"], [0.7777777777777778, \"#fb9f3a\"], [0.8888888888888888, \"#fdca26\"], [1.0, \"#f0f921\"]], \"sequentialminus\": [[0.0, \"#0d0887\"], [0.1111111111111111, \"#46039f\"], [0.2222222222222222, \"#7201a8\"], [0.3333333333333333, \"#9c179e\"], [0.4444444444444444, \"#bd3786\"], [0.5555555555555556, \"#d8576b\"], [0.6666666666666666, \"#ed7953\"], [0.7777777777777778, \"#fb9f3a\"], [0.8888888888888888, \"#fdca26\"], [1.0, \"#f0f921\"]]}, \"colorway\": [\"#636efa\", \"#EF553B\", \"#00cc96\", \"#ab63fa\", \"#FFA15A\", \"#19d3f3\", \"#FF6692\", \"#B6E880\", \"#FF97FF\", \"#FECB52\"], \"font\": {\"color\": \"#2a3f5f\"}, \"geo\": {\"bgcolor\": \"white\", \"lakecolor\": \"white\", \"landcolor\": \"#E5ECF6\", \"showlakes\": true, \"showland\": true, \"subunitcolor\": \"white\"}, \"hoverlabel\": {\"align\": \"left\"}, \"hovermode\": \"closest\", \"mapbox\": {\"style\": \"light\"}, \"paper_bgcolor\": \"white\", \"plot_bgcolor\": \"#E5ECF6\", \"polar\": {\"angularaxis\": {\"gridcolor\": \"white\", \"linecolor\": \"white\", \"ticks\": \"\"}, \"bgcolor\": \"#E5ECF6\", \"radialaxis\": {\"gridcolor\": \"white\", \"linecolor\": \"white\", \"ticks\": \"\"}}, \"scene\": {\"xaxis\": {\"backgroundcolor\": \"#E5ECF6\", \"gridcolor\": \"white\", \"gridwidth\": 2, \"linecolor\": \"white\", \"showbackground\": true, \"ticks\": \"\", \"zerolinecolor\": \"white\"}, \"yaxis\": {\"backgroundcolor\": \"#E5ECF6\", \"gridcolor\": \"white\", \"gridwidth\": 2, \"linecolor\": \"white\", \"showbackground\": true, \"ticks\": \"\", \"zerolinecolor\": \"white\"}, \"zaxis\": {\"backgroundcolor\": \"#E5ECF6\", \"gridcolor\": \"white\", \"gridwidth\": 2, \"linecolor\": \"white\", \"showbackground\": true, \"ticks\": \"\", \"zerolinecolor\": \"white\"}}, \"shapedefaults\": {\"line\": {\"color\": \"#2a3f5f\"}}, \"ternary\": {\"aaxis\": {\"gridcolor\": \"white\", \"linecolor\": \"white\", \"ticks\": \"\"}, \"baxis\": {\"gridcolor\": \"white\", \"linecolor\": \"white\", \"ticks\": \"\"}, \"bgcolor\": \"#E5ECF6\", \"caxis\": {\"gridcolor\": \"white\", \"linecolor\": \"white\", \"ticks\": \"\"}}, \"title\": {\"x\": 0.05}, \"xaxis\": {\"automargin\": true, \"gridcolor\": \"white\", \"linecolor\": \"white\", \"ticks\": \"\", \"title\": {\"standoff\": 15}, \"zerolinecolor\": \"white\", \"zerolinewidth\": 2}, \"yaxis\": {\"automargin\": true, \"gridcolor\": \"white\", \"linecolor\": \"white\", \"ticks\": \"\", \"title\": {\"standoff\": 15}, \"zerolinecolor\": \"white\", \"zerolinewidth\": 2}}}, \"title\": {\"text\": \"Figure 6: Statistical pairwise comparisons between R<sup>2</sup> estimates\"}, \"width\": 740, \"xaxis\": {\"anchor\": \"y\", \"domain\": [0.0, 0.43]}, \"xaxis2\": {\"anchor\": \"y2\", \"domain\": [0.5700000000000001, 1.0]}, \"yaxis\": {\"anchor\": \"x\", \"domain\": [0.0, 1.0]}, \"yaxis2\": {\"anchor\": \"x2\", \"domain\": [0.0, 1.0]}},\n                        {\"responsive\": true}\n                    ).then(function(){\n                            \nvar gd = document.getElementById('b752af42-6525-4af0-86a2-b906e6d4abce');\nvar x = new MutationObserver(function (mutations, observer) {{\n        var display = window.getComputedStyle(gd).display;\n        if (!display || display === 'none') {{\n            console.log([gd, 'removed!']);\n            Plotly.purge(gd);\n            observer.disconnect();\n        }}\n}});\n\n// Listen for the removal of the full notebook cells\nvar notebookContainer = gd.closest('#notebook-container');\nif (notebookContainer) {{\n    x.observe(notebookContainer, {childList: true});\n}}\n\n// Listen for the clearing of the current output cell\nvar outputEl = gd.closest('.output');\nif (outputEl) {{\n    x.observe(outputEl, {childList: true});\n}}\n\n                        })\n                };\n                });\n            </script>\n        </div>"
     },
     "metadata": {},
     "output_type": "display_data"
    }
   ],
   "source": [
    "multcomp = importr('multcomp')\n",
    "base = importr('base')\n",
    "\n",
    "thres = filtered_df.Measure.value_counts() > 2\n",
    "df_thres = filtered_df[filtered_df.Measure.isin(filtered_df.Measure.value_counts()[thres].index)]\n",
    "r2 = rpy2.robjects.FloatVector(df_thres['R^2'])\n",
    "var = rpy2.robjects.FloatVector(df_thres['Variance'])\n",
    "measure_v = rpy2.robjects.StrVector(df_thres['Measure'])\n",
    "measure_f = rpy2.robjects.Formula('~ -1 + measure')\n",
    "env = measure_f.environment\n",
    "env['measure'] = measure_v\n",
    "study_v = rpy2.robjects.StrVector(df_thres['Study'])\n",
    "study_f = rpy2.robjects.Formula('~ 1 | study')\n",
    "env = study_f.environment\n",
    "env['study'] = study_v\n",
    "fit_mv = metafor.rma_mv(r2, var, method=\"REML\", mods=measure_f, random=study_f)\n",
    "\n",
    "glht = multcomp.glht(fit_mv, base.cbind(multcomp.contrMat(base.rep(1,9), type=\"Tukey\")))\n",
    "mtests = multcomp.summary_glht(glht, test=multcomp.adjusted(\"bonferroni\"))\n",
    "mtest_res = dict(zip(mtests.names, list(mtests)))\n",
    "stat_res = dict(zip(mtest_res['test'].names, list(mtest_res['test'])))\n",
    "pvals = stat_res['pvalues']\n",
    "zvals = stat_res['tstat']\n",
    "\n",
    "measure_list = df_thres['Measure'].unique()\n",
    "measure_list.sort()\n",
    "n = len(measure_list)\n",
    "\n",
    "pvals_list = []\n",
    "zvals_list = []\n",
    "idx = 0\n",
    "for i in range(n):\n",
    "    pvals_i = [0] * i\n",
    "    pvals_i.append(np.nan)\n",
    "    pvals_i.extend(pvals[idx:idx+n-i-1])\n",
    "    zvals_i = [0] * i\n",
    "    zvals_i.append(np.nan)\n",
    "    zvals_i.extend(zvals[idx:idx+n-i-1])\n",
    "    idx = idx + n - i - 1\n",
    "    pvals_list.append(pvals_i)\n",
    "    zvals_list.append(zvals_i)\n",
    "\n",
    "pvals_list=np.array(pvals_list)\n",
    "zvals_list=np.array(zvals_list)\n",
    "pvals_list=pvals_list+pvals_list.T\n",
    "zvals_list=zvals_list-zvals_list.T\n",
    "\n",
    "fig6 = make_subplots(rows=1, cols=2, horizontal_spacing=0.14,\n",
    "                     subplot_titles=['z-scores',\n",
    "                                     'p-values'\n",
    "                                    ])\n",
    "\n",
    "fig6.add_trace(go.Heatmap(\n",
    "    z=zvals_list,\n",
    "    x=measure_list,\n",
    "    y=measure_list,\n",
    "    customdata=pvals_list,\n",
    "    hovertemplate = '%{x}-%{y}<br>z-score: %{z:.2f}<br>p-value: %{customdata:.5f}<extra></extra>',\n",
    "    hoverongaps = False,\n",
    "    colorscale='RdBu',\n",
    "    colorbar=dict(title='z-score', x=0.42,thickness=20),\n",
    "    showscale=True\n",
    "), col=1, row=1)\n",
    "\n",
    "fig6.add_trace(go.Heatmap(\n",
    "    z=pvals_list,\n",
    "    x=measure_list,\n",
    "    y=measure_list,\n",
    "    customdata=zvals_list,\n",
    "    hovertemplate = '%{x}-%{y}<br>z-score: %{customdata:.2f}<br>p-value: %{z:.5f}<extra></extra>',\n",
    "    hoverongaps = False,\n",
    "    colorscale='Purples',\n",
    "    colorbar=dict(title='p-value',thickness=20),\n",
    "    zmin=0,\n",
    "    zmax=0.05,\n",
    "    showscale=True,\n",
    "    reversescale=True\n",
    "), col=2, row=1)\n",
    "\n",
    "fig6.update_layout(\n",
    "    title='Figure 6: Statistical pairwise comparisons between R<sup>2</sup> estimates',\n",
    "    width=740,\n",
    "    height = 420,\n",
    "    paper_bgcolor='rgba(0,0,0,0)',\n",
    "    plot_bgcolor='rgba(0,0,0,0)',\n",
    "    margin=dict(l=0,r=0)\n",
    ")\n",
    "\n",
    "plot(insertLogo(fig6,0.07,0.07,1.11,-0.15,-0.1,0.075), filename = 'fig6.html',config = config)\n",
    "# display(HTML('fig6.html'))\n",
    "\n",
    "# fig6.show()\n",
    "plotly.offline.iplot(fig6, filename=\"Figure 6\")\n",
    "\n"
   ],
   "metadata": {
    "collapsed": false,
    "pycharm": {
     "name": "#%%\n"
    }
   }
  },
  {
   "cell_type": "markdown",
   "source": [
    "### Figure 7"
   ],
   "metadata": {
    "collapsed": false
   }
  },
  {
   "cell_type": "code",
   "execution_count": 19,
   "outputs": [
    {
     "data": {
      "application/vnd.plotly.v1+json": {
       "config": {
        "linkText": "Export to plot.ly",
        "plotlyServerURL": "https://plot.ly",
        "showLink": false
       },
       "data": [
        {
         "boxpoints": "all",
         "name": "Histology",
         "text": [
          "MTR - Beckmann et al., 2018",
          "T1 - Hakkarainen et al., 2016",
          "T2p - Hakkarainen et al., 2016",
          "RAFF - Hakkarainen et al., 2016",
          "T1p - Hakkarainen et al., 2016",
          "MTR - Hakkarainen et al., 2016",
          "T2 - Hakkarainen et al., 2016",
          "QSM - Hametner et al., 2018",
          "T1 - Hametner et al., 2018",
          "R2* - Hametner et al., 2018",
          "k_mf - Janve et al., 2013",
          "MPF - Janve et al., 2013",
          "RD - Janve et al., 2013",
          "R1f - Janve et al., 2013",
          "AD - Janve et al., 2013",
          "MD - Janve et al., 2013",
          "FA - Janve et al., 2013",
          "MPF - Khodanovic et al., 2017",
          "MWF - Laule et al., 2006",
          "MWF - Laule et al., 2008",
          "RD - Lehto et al., 2017a",
          "RAFF - Lehto et al., 2017a",
          "MTR - Lehto et al., 2017a",
          "AD - Lehto et al., 2017a",
          "T1sat - Lehto et al., 2017a",
          "FA - Lehto et al., 2017a",
          "MD - Lehto et al., 2017a",
          "MTR - Lehto et al., 2017b",
          "QSM - Pol et al., 2019",
          "FA - Pol et al., 2019",
          "MD - Pol et al., 2019",
          "MTR - Schmierer et al., 2004",
          "T1 - Schmierer et al., 2004",
          "T2m - Schmierer et al., 2007a",
          "T1 - Schmierer et al., 2007a",
          "MPF - Schmierer et al., 2007a",
          "MTR - Schmierer et al., 2007a",
          "FA - Schmierer et al., 2007b",
          "MD - Schmierer et al., 2007b",
          "RD - Schmierer et al., 2008",
          "AD - Schmierer et al., 2008",
          "MD - Schmierer et al., 2008",
          "T1 - Schmierer et al., 2008",
          "T2 - Schmierer et al., 2008",
          "FA - Schmierer et al., 2008",
          "MPF - Schmierer et al., 2008",
          "MTR - Schmierer et al., 2008",
          "MPF - Underhill et al., 2011",
          "FA - Wang et al., 2009",
          "RD - Wang et al., 2009",
          "T2 - Wu et al., 2008"
         ],
         "type": "box",
         "x": [
          "Histology - LFB",
          "Histology - Gold chloride",
          "Histology - Gold chloride",
          "Histology - Gold chloride",
          "Histology - Gold chloride",
          "Histology - Gold chloride",
          "Histology - Gold chloride",
          "Histology - LFB",
          "Histology - LFB",
          "Histology - LFB",
          "Histology - LFB",
          "Histology - LFB",
          "Histology - LFB",
          "Histology - LFB",
          "Histology - LFB",
          "Histology - LFB",
          "Histology - LFB",
          "Histology - LFB",
          "Histology - LFB",
          "Histology - LFB",
          "Histology - Gold chloride",
          "Histology - Gold chloride",
          "Histology - Gold chloride",
          "Histology - Gold chloride",
          "Histology - Gold chloride",
          "Histology - Gold chloride",
          "Histology - Gold chloride",
          "Histology - Gold chloride",
          "Histology - Solochrome",
          "Histology - Solochrome",
          "Histology - Solochrome",
          "Histology - LFB",
          "Histology - LFB",
          "Histology - LFB",
          "Histology - LFB",
          "Histology - LFB",
          "Histology - LFB",
          "Histology - LFB",
          "Histology - LFB",
          "Histology - LFB",
          "Histology - LFB",
          "Histology - LFB",
          "Histology - LFB",
          "Histology - LFB",
          "Histology - LFB",
          "Histology - LFB",
          "Histology - LFB",
          "Histology - LFB",
          "Histology - LFB",
          "Histology - LFB",
          "Histology - LFB"
         ],
         "xaxis": "x",
         "y": [
          0.7668,
          0.77,
          0.34,
          0.84,
          0.63,
          0.34,
          0.18,
          0.1239,
          0.3398,
          7.0E-4,
          0.0256,
          0.7225,
          0.2401,
          0.0961,
          0.0064,
          0.0784,
          0.0729,
          0.779,
          0.67,
          0.78,
          0.0015,
          0.552,
          0.5169,
          0.4199,
          0.49,
          0.2237,
          0.3492,
          0.94,
          0.0361,
          0.0576,
          0.3481,
          0.7055999999999999,
          0.48999999999999994,
          1.0E-4,
          0.4760999999999999,
          0.6400000000000001,
          0.7055999999999999,
          0.6241000000000001,
          0.4624000000000001,
          0.6561,
          0.64,
          0.6084,
          0.7921,
          0.8464,
          0.6889,
          0.7396,
          0.4624,
          0.9801,
          0.4637,
          0.2787,
          0.5184
         ],
         "yaxis": "y"
        },
        {
         "boxpoints": "all",
         "name": "Immunohistochemistry",
         "text": [
          "AD - Aojula et al., 2016",
          "RD - Aojula et al., 2016",
          "MD - Aojula et al., 2016",
          "FA - Aojula et al., 2016",
          "FA - Chandran et al., 2012",
          "RD - Chandran et al., 2012",
          "FA - Chang et al., 2017",
          "MD - Chang et al., 2017",
          "RD - Chang et al., 2017",
          "AD - Chang et al., 2017",
          "MTR - Fatemi et al., 2011",
          "MTR - Fjaer et al., 2013",
          "MTR - Fjaer et al., 2015",
          "MTR - Guglielmetti et al., 2020",
          "MTR-UTE - Guglielmetti et al., 2020",
          "MPF - Khodanovic et al., 2019",
          "FA - Mollink et al., 2019",
          "T1 - Reeves et al., 2016",
          "T2 - Reeves et al., 2016",
          "RD - Soustelle et al., 2019",
          "rSPF - Soustelle et al., 2019",
          "MPF - Soustelle et al., 2019",
          "MWF - Soustelle et al., 2019",
          "PD - Tardif et al., 2012",
          "MTR - Tardif et al., 2012",
          "T2 - Tardif et al., 2012",
          "T1 - Tardif et al., 2012",
          "AD - Tu et al., 2016",
          "MD - Tu et al., 2016",
          "RD - Tu et al., 2016",
          "FA - Tu et al., 2016",
          "MTR - Tu et al., 2016",
          "MPF - Turati et al., 2015",
          "MD - Wendel et al., 2018",
          "AD - Wendel et al., 2018",
          "FA - Wendel et al., 2018",
          "RD - Wendel et al., 2018",
          "FA - Yano et al., 2018",
          "RD - Yano et al., 2018",
          "MD - Yano et al., 2018",
          "MTR - Zaaraoui et al., 2008",
          "FA - van Tilborg et al., 2017"
         ],
         "type": "box",
         "x": [
          "Immunohistochemistry - MBP",
          "Immunohistochemistry - MBP",
          "Immunohistochemistry - MBP",
          "Immunohistochemistry - MBP",
          "Immunohistochemistry - MBP",
          "Immunohistochemistry - MBP",
          "Immunohistochemistry - MBP",
          "Immunohistochemistry - MBP",
          "Immunohistochemistry - MBP",
          "Immunohistochemistry - MBP",
          "Immunohistochemistry - MBP",
          "Immunohistochemistry - PLP",
          "Immunohistochemistry - PLP",
          "Immunohistochemistry - MBP",
          "Immunohistochemistry - MBP",
          "Immunohistochemistry - MBP",
          "Immunohistochemistry - MBP",
          "Immunohistochemistry - MBP",
          "Immunohistochemistry - MBP",
          "Immunohistochemistry - MBP",
          "Immunohistochemistry - MBP",
          "Immunohistochemistry - MBP",
          "Immunohistochemistry - MBP",
          "Immunohistochemistry - MBP",
          "Immunohistochemistry - MBP",
          "Immunohistochemistry - MBP",
          "Immunohistochemistry - MBP",
          "Immunohistochemistry - MBP",
          "Immunohistochemistry - MBP",
          "Immunohistochemistry - MBP",
          "Immunohistochemistry - MBP",
          "Immunohistochemistry - MBP",
          "Immunohistochemistry - MBP",
          "Immunohistochemistry - MBP",
          "Immunohistochemistry - MBP",
          "Immunohistochemistry - MBP",
          "Immunohistochemistry - MBP",
          "Immunohistochemistry - PLP",
          "Immunohistochemistry - PLP",
          "Immunohistochemistry - PLP",
          "Immunohistochemistry - MBP",
          "Immunohistochemistry - MBP"
         ],
         "xaxis": "x",
         "y": [
          0.1296,
          0.2097,
          0.245,
          0.1197,
          0.5,
          0.34,
          0.1989,
          0.0129,
          0.038,
          0.1482,
          0.695,
          0.338,
          0.01,
          0.46,
          0.76,
          0.82,
          0.2704,
          0.27,
          0.235,
          0.49,
          0.7396,
          0.7569,
          0.4624,
          0.3481,
          0.36,
          0.4225,
          0.5929,
          1.0E-4,
          0.0289,
          0.2116,
          0.0169,
          0.1444,
          0.2872,
          0.0564,
          0.1987,
          0.5707,
          0.2973,
          0.7569,
          0.8281,
          0.5329,
          0.6241000000000001,
          0.334
         ],
         "yaxis": "y"
        },
        {
         "boxpoints": "all",
         "name": "Microscopy",
         "text": [
          "RD - Abe et al., 2019",
          "AD - Abe et al., 2019",
          "FA - Abe et al., 2019",
          "MTR - Duhamel et al., 2019",
          "ihMTR - Duhamel et al., 2019",
          "FA - Jito et al., 2008"
         ],
         "type": "box",
         "x": [
          "Microscopy - Myelin thickness",
          "Microscopy - Myelin thickness",
          "Microscopy - Myelin thickness",
          "Microscopy - Fluorescence",
          "Microscopy - Fluorescence",
          "Microscopy - Myelin sheath area"
         ],
         "xaxis": "x",
         "y": [
          0.1681,
          0.0121,
          0.1024,
          0.78,
          0.96,
          0.7327
         ],
         "yaxis": "y"
        },
        {
         "boxpoints": "all",
         "name": "EM",
         "text": [
          "MTV - Berman et al., 2018",
          "T2 - Jelescu et al., 2016",
          "MTR - Jelescu et al., 2016",
          "AWF - Jelescu et al., 2016",
          "RK - Jelescu et al., 2016",
          "RDe - Jelescu et al., 2016",
          "RD - Jelescu et al., 2016",
          "AWF - Kelm et al., 2016",
          "RK - Kelm et al., 2016",
          "RD - Kelm et al., 2016",
          "MK - Kelm et al., 2016",
          "MD - Kelm et al., 2016",
          "MD - Thiessen et al., 2013",
          "T1 - Thiessen et al., 2013",
          "T2f - Thiessen et al., 2013",
          "AD - Thiessen et al., 2013",
          "T2m - Thiessen et al., 2013",
          "FA - Thiessen et al., 2013",
          "T2 - Thiessen et al., 2013",
          "k_fm - Thiessen et al., 2013",
          "R1f - Thiessen et al., 2013",
          "k_mf - Thiessen et al., 2013",
          "RD - Thiessen et al., 2013",
          "MPF - Thiessen et al., 2013",
          "MPF - West et al., 2018",
          "MVF-MT - West et al., 2018",
          "MVF-T2 - West et al., 2018",
          "MWF - West et al., 2018"
         ],
         "type": "box",
         "x": [
          "EM - Myelin fraction",
          "EM - Myelin fraction",
          "EM - Myelin fraction",
          "EM - Myelin fraction",
          "EM - Myelin fraction",
          "EM - Myelin fraction",
          "EM - Myelin fraction",
          "EM - Myelin fraction",
          "EM - Myelin fraction",
          "EM - Myelin fraction",
          "EM - Myelin fraction",
          "EM - Myelin fraction",
          "EM - Myelin thickness",
          "EM - Myelin thickness",
          "EM - Myelin thickness",
          "EM - Myelin thickness",
          "EM - Myelin thickness",
          "EM - Myelin thickness",
          "EM - Myelin thickness",
          "EM - Myelin thickness",
          "EM - Myelin thickness",
          "EM - Myelin thickness",
          "EM - Myelin thickness",
          "EM - Myelin thickness",
          "EM - Myelin fraction",
          "EM - Myelin fraction",
          "EM - Myelin fraction",
          "EM - Myelin fraction"
         ],
         "xaxis": "x",
         "y": [
          0.74,
          0.4096,
          0.1024,
          0.3025,
          0.0196,
          0.25,
          0.5041,
          0.3364,
          0.2401,
          0.1369,
          0.2304,
          0.1225,
          0.6561,
          0.4356,
          0.36,
          0.5625,
          0.1521,
          0.7056,
          0.0676,
          0.1089,
          0.4356,
          0.6724,
          0.7569,
          0.8649,
          0.7,
          0.7,
          0.68,
          0.66
         ],
         "yaxis": "y"
        },
        {
         "boxpoints": "all",
         "name": "Optogenetic stimulation",
         "text": [
          "RD - Abe et al., 2019",
          "AD - Abe et al., 2019",
          "FA - Abe et al., 2019"
         ],
         "type": "box",
         "x": [
          "Optogenetic stimulation",
          "Optogenetic stimulation",
          "Optogenetic stimulation"
         ],
         "xaxis": "x2",
         "y": [
          0.1681,
          0.0121,
          0.1024
         ],
         "yaxis": "y2"
        },
        {
         "boxpoints": "all",
         "name": "Hydrocephalus",
         "text": [
          "AD - Aojula et al., 2016",
          "RD - Aojula et al., 2016",
          "MD - Aojula et al., 2016",
          "FA - Aojula et al., 2016"
         ],
         "type": "box",
         "x": [
          "Hydrocephalus",
          "Hydrocephalus",
          "Hydrocephalus",
          "Hydrocephalus"
         ],
         "xaxis": "x2",
         "y": [
          0.1296,
          0.2097,
          0.245,
          0.1197
         ],
         "yaxis": "y2"
        },
        {
         "boxpoints": "all",
         "name": "Demyelination - Cuprizone",
         "text": [
          "MTR - Beckmann et al., 2018",
          "FA - Chandran et al., 2012",
          "RD - Chandran et al., 2012",
          "MTR - Fjaer et al., 2013",
          "T2 - Jelescu et al., 2016",
          "MTR - Jelescu et al., 2016",
          "AWF - Jelescu et al., 2016",
          "RK - Jelescu et al., 2016",
          "RDe - Jelescu et al., 2016",
          "RD - Jelescu et al., 2016",
          "MPF - Khodanovic et al., 2017",
          "MPF - Khodanovic et al., 2019",
          "RD - Soustelle et al., 2019",
          "rSPF - Soustelle et al., 2019",
          "MPF - Soustelle et al., 2019",
          "MWF - Soustelle et al., 2019",
          "MD - Thiessen et al., 2013",
          "T1 - Thiessen et al., 2013",
          "T2f - Thiessen et al., 2013",
          "AD - Thiessen et al., 2013",
          "T2m - Thiessen et al., 2013",
          "FA - Thiessen et al., 2013",
          "T2 - Thiessen et al., 2013",
          "k_fm - Thiessen et al., 2013",
          "R1f - Thiessen et al., 2013",
          "k_mf - Thiessen et al., 2013",
          "RD - Thiessen et al., 2013",
          "MPF - Thiessen et al., 2013",
          "MPF - Turati et al., 2015",
          "T2 - Wu et al., 2008",
          "FA - Yano et al., 2018",
          "RD - Yano et al., 2018",
          "MD - Yano et al., 2018",
          "MTR - Zaaraoui et al., 2008"
         ],
         "type": "box",
         "x": [
          "Demyelination - Cuprizone",
          "Demyelination - Cuprizone",
          "Demyelination - Cuprizone",
          "Demyelination - Cuprizone",
          "Demyelination - Cuprizone",
          "Demyelination - Cuprizone",
          "Demyelination - Cuprizone",
          "Demyelination - Cuprizone",
          "Demyelination - Cuprizone",
          "Demyelination - Cuprizone",
          "Demyelination - Cuprizone",
          "Demyelination - Cuprizone",
          "Demyelination - Cuprizone",
          "Demyelination - Cuprizone",
          "Demyelination - Cuprizone",
          "Demyelination - Cuprizone",
          "Demyelination - Cuprizone",
          "Demyelination - Cuprizone",
          "Demyelination - Cuprizone",
          "Demyelination - Cuprizone",
          "Demyelination - Cuprizone",
          "Demyelination - Cuprizone",
          "Demyelination - Cuprizone",
          "Demyelination - Cuprizone",
          "Demyelination - Cuprizone",
          "Demyelination - Cuprizone",
          "Demyelination - Cuprizone",
          "Demyelination - Cuprizone",
          "Demyelination - Cuprizone",
          "Demyelination - Cuprizone",
          "Demyelination - Cuprizone",
          "Demyelination - Cuprizone",
          "Demyelination - Cuprizone",
          "Demyelination - Cuprizone"
         ],
         "xaxis": "x2",
         "y": [
          0.7668,
          0.5,
          0.34,
          0.338,
          0.4096,
          0.1024,
          0.3025,
          0.0196,
          0.25,
          0.5041,
          0.779,
          0.82,
          0.49,
          0.7396,
          0.7569,
          0.4624,
          0.6561,
          0.4356,
          0.36,
          0.5625,
          0.1521,
          0.7056,
          0.0676,
          0.1089,
          0.4356,
          0.6724,
          0.7569,
          0.8649,
          0.2872,
          0.5184,
          0.7569,
          0.8281,
          0.5329,
          0.6241000000000001
         ],
         "yaxis": "y2"
        },
        {
         "boxpoints": "all",
         "name": "Demyelination - Knockout",
         "text": [
          "MTV - Berman et al., 2018",
          "AWF - Kelm et al., 2016",
          "RK - Kelm et al., 2016",
          "RD - Kelm et al., 2016",
          "MK - Kelm et al., 2016",
          "MD - Kelm et al., 2016",
          "MPF - West et al., 2018",
          "MVF-MT - West et al., 2018",
          "MVF-T2 - West et al., 2018",
          "MWF - West et al., 2018"
         ],
         "type": "box",
         "x": [
          "Demyelination - Knockout",
          "Demyelination - Knockout",
          "Demyelination - Knockout",
          "Demyelination - Knockout",
          "Demyelination - Knockout",
          "Demyelination - Knockout",
          "Demyelination - Knockout",
          "Demyelination - Knockout",
          "Demyelination - Knockout",
          "Demyelination - Knockout"
         ],
         "xaxis": "x2",
         "y": [
          0.74,
          0.3364,
          0.2401,
          0.1369,
          0.2304,
          0.1225,
          0.7,
          0.7,
          0.68,
          0.66
         ],
         "yaxis": "y2"
        },
        {
         "boxpoints": "all",
         "name": "Healthy",
         "text": [
          "FA - Chang et al., 2017",
          "MD - Chang et al., 2017",
          "RD - Chang et al., 2017",
          "AD - Chang et al., 2017",
          "MTR - Duhamel et al., 2019",
          "ihMTR - Duhamel et al., 2019",
          "MTR - Guglielmetti et al., 2020",
          "MTR-UTE - Guglielmetti et al., 2020",
          "T1 - Hakkarainen et al., 2016",
          "T2p - Hakkarainen et al., 2016",
          "RAFF - Hakkarainen et al., 2016",
          "T1p - Hakkarainen et al., 2016",
          "MTR - Hakkarainen et al., 2016",
          "T2 - Hakkarainen et al., 2016",
          "FA - Jito et al., 2008",
          "QSM - Pol et al., 2019",
          "FA - Pol et al., 2019",
          "MD - Pol et al., 2019",
          "MPF - Underhill et al., 2011"
         ],
         "type": "box",
         "x": [
          "Healthy",
          "Healthy",
          "Healthy",
          "Healthy",
          "Healthy",
          "Healthy",
          "Healthy",
          "Healthy",
          "Healthy",
          "Healthy",
          "Healthy",
          "Healthy",
          "Healthy",
          "Healthy",
          "Healthy",
          "Healthy",
          "Healthy",
          "Healthy",
          "Healthy"
         ],
         "xaxis": "x2",
         "y": [
          0.1989,
          0.0129,
          0.038,
          0.1482,
          0.78,
          0.96,
          0.46,
          0.76,
          0.77,
          0.34,
          0.84,
          0.63,
          0.34,
          0.18,
          0.7327,
          0.0361,
          0.0576,
          0.3481,
          0.9801
         ],
         "yaxis": "y2"
        },
        {
         "boxpoints": "all",
         "name": "Ischemia - Induced hypoxia",
         "text": [
          "MTR - Fatemi et al., 2011",
          "FA - Wang et al., 2009",
          "RD - Wang et al., 2009"
         ],
         "type": "box",
         "x": [
          "Ischemia - Induced hypoxia",
          "Ischemia - Induced hypoxia",
          "Ischemia - Induced hypoxia"
         ],
         "xaxis": "x2",
         "y": [
          0.695,
          0.4637,
          0.2787
         ],
         "yaxis": "y2"
        },
        {
         "boxpoints": "all",
         "name": "Demyelination - Autoimmune encephalomyelitis",
         "text": [
          "MTR - Fjaer et al., 2015"
         ],
         "type": "box",
         "x": [
          "Demyelination - Autoimmune encephalomyelitis"
         ],
         "xaxis": "x2",
         "y": [
          0.01
         ],
         "yaxis": "y2"
        },
        {
         "boxpoints": "all",
         "name": "Vascular diseases",
         "text": [
          "QSM - Hametner et al., 2018",
          "T1 - Hametner et al., 2018",
          "R2* - Hametner et al., 2018"
         ],
         "type": "box",
         "x": [
          "Vascular diseases",
          "Vascular diseases",
          "Vascular diseases"
         ],
         "xaxis": "x2",
         "y": [
          0.1239,
          0.3398,
          7.0E-4
         ],
         "yaxis": "y2"
        },
        {
         "boxpoints": "all",
         "name": "Demyelination - Lipopolysaccharide",
         "text": [
          "k_mf - Janve et al., 2013",
          "MPF - Janve et al., 2013",
          "RD - Janve et al., 2013",
          "R1f - Janve et al., 2013",
          "AD - Janve et al., 2013",
          "MD - Janve et al., 2013",
          "FA - Janve et al., 2013",
          "RD - Lehto et al., 2017a",
          "RAFF - Lehto et al., 2017a",
          "MTR - Lehto et al., 2017a",
          "AD - Lehto et al., 2017a",
          "T1sat - Lehto et al., 2017a",
          "FA - Lehto et al., 2017a",
          "MD - Lehto et al., 2017a"
         ],
         "type": "box",
         "x": [
          "Demyelination - Lipopolysaccharide",
          "Demyelination - Lipopolysaccharide",
          "Demyelination - Lipopolysaccharide",
          "Demyelination - Lipopolysaccharide",
          "Demyelination - Lipopolysaccharide",
          "Demyelination - Lipopolysaccharide",
          "Demyelination - Lipopolysaccharide",
          "Demyelination - Lipopolysaccharide",
          "Demyelination - Lipopolysaccharide",
          "Demyelination - Lipopolysaccharide",
          "Demyelination - Lipopolysaccharide",
          "Demyelination - Lipopolysaccharide",
          "Demyelination - Lipopolysaccharide",
          "Demyelination - Lipopolysaccharide"
         ],
         "xaxis": "x2",
         "y": [
          0.0256,
          0.7225,
          0.2401,
          0.0961,
          0.0064,
          0.0784,
          0.0729,
          0.0015,
          0.552,
          0.5169,
          0.4199,
          0.49,
          0.2237,
          0.3492
         ],
         "yaxis": "y2"
        },
        {
         "boxpoints": "all",
         "name": "Multiple sclerosis",
         "text": [
          "MWF - Laule et al., 2006",
          "MWF - Laule et al., 2008",
          "MTR - Schmierer et al., 2004",
          "T1 - Schmierer et al., 2004",
          "T2m - Schmierer et al., 2007a",
          "T1 - Schmierer et al., 2007a",
          "MPF - Schmierer et al., 2007a",
          "MTR - Schmierer et al., 2007a",
          "FA - Schmierer et al., 2007b",
          "MD - Schmierer et al., 2007b",
          "RD - Schmierer et al., 2008",
          "AD - Schmierer et al., 2008",
          "MD - Schmierer et al., 2008",
          "T1 - Schmierer et al., 2008",
          "T2 - Schmierer et al., 2008",
          "FA - Schmierer et al., 2008",
          "MPF - Schmierer et al., 2008",
          "MTR - Schmierer et al., 2008",
          "PD - Tardif et al., 2012",
          "MTR - Tardif et al., 2012",
          "T2 - Tardif et al., 2012",
          "T1 - Tardif et al., 2012"
         ],
         "type": "box",
         "x": [
          "Multiple sclerosis",
          "Multiple sclerosis",
          "Multiple sclerosis",
          "Multiple sclerosis",
          "Multiple sclerosis",
          "Multiple sclerosis",
          "Multiple sclerosis",
          "Multiple sclerosis",
          "Multiple sclerosis",
          "Multiple sclerosis",
          "Multiple sclerosis",
          "Multiple sclerosis",
          "Multiple sclerosis",
          "Multiple sclerosis",
          "Multiple sclerosis",
          "Multiple sclerosis",
          "Multiple sclerosis",
          "Multiple sclerosis",
          "Multiple sclerosis",
          "Multiple sclerosis",
          "Multiple sclerosis",
          "Multiple sclerosis"
         ],
         "xaxis": "x2",
         "y": [
          0.67,
          0.78,
          0.7055999999999999,
          0.48999999999999994,
          1.0E-4,
          0.4760999999999999,
          0.6400000000000001,
          0.7055999999999999,
          0.6241000000000001,
          0.4624000000000001,
          0.6561,
          0.64,
          0.6084,
          0.7921,
          0.8464,
          0.6889,
          0.7396,
          0.4624,
          0.3481,
          0.36,
          0.4225,
          0.5929
         ],
         "yaxis": "y2"
        },
        {
         "boxpoints": "all",
         "name": "Traumatic brain injury",
         "text": [
          "MTR - Lehto et al., 2017b",
          "AD - Tu et al., 2016",
          "MD - Tu et al., 2016",
          "RD - Tu et al., 2016",
          "FA - Tu et al., 2016",
          "MTR - Tu et al., 2016",
          "MD - Wendel et al., 2018",
          "AD - Wendel et al., 2018",
          "FA - Wendel et al., 2018",
          "RD - Wendel et al., 2018"
         ],
         "type": "box",
         "x": [
          "Traumatic brain injury",
          "Traumatic brain injury",
          "Traumatic brain injury",
          "Traumatic brain injury",
          "Traumatic brain injury",
          "Traumatic brain injury",
          "Traumatic brain injury",
          "Traumatic brain injury",
          "Traumatic brain injury",
          "Traumatic brain injury"
         ],
         "xaxis": "x2",
         "y": [
          0.94,
          1.0E-4,
          0.0289,
          0.2116,
          0.0169,
          0.1444,
          0.0564,
          0.1987,
          0.5707,
          0.2973
         ],
         "yaxis": "y2"
        },
        {
         "boxpoints": "all",
         "name": "Amyotrophic lateral sclerosis",
         "text": [
          "FA - Mollink et al., 2019"
         ],
         "type": "box",
         "x": [
          "Amyotrophic lateral sclerosis"
         ],
         "xaxis": "x2",
         "y": [
          0.2704
         ],
         "yaxis": "y2"
        },
        {
         "boxpoints": "all",
         "name": "Epilepsy",
         "text": [
          "T1 - Reeves et al., 2016",
          "T2 - Reeves et al., 2016"
         ],
         "type": "box",
         "x": [
          "Epilepsy",
          "Epilepsy"
         ],
         "xaxis": "x2",
         "y": [
          0.27,
          0.235
         ],
         "yaxis": "y2"
        },
        {
         "boxpoints": "all",
         "name": "White matter injury",
         "text": [
          "FA - van Tilborg et al., 2017"
         ],
         "type": "box",
         "x": [
          "White matter injury"
         ],
         "xaxis": "x2",
         "y": [
          0.334
         ],
         "yaxis": "y2"
        },
        {
         "boxpoints": "all",
         "name": "Grey matter+Deep grey matter",
         "text": [
          "RD - Abe et al., 2019",
          "AD - Abe et al., 2019",
          "FA - Abe et al., 2019"
         ],
         "type": "box",
         "x": [
          "Grey matter+Deep grey matter",
          "Grey matter+Deep grey matter",
          "Grey matter+Deep grey matter"
         ],
         "xaxis": "x3",
         "y": [
          0.1681,
          0.0121,
          0.1024
         ],
         "yaxis": "y3"
        },
        {
         "boxpoints": "all",
         "name": "White matter",
         "text": [
          "AD - Aojula et al., 2016",
          "RD - Aojula et al., 2016",
          "MD - Aojula et al., 2016",
          "FA - Aojula et al., 2016",
          "MTR - Beckmann et al., 2018",
          "MTV - Berman et al., 2018",
          "FA - Chandran et al., 2012",
          "RD - Chandran et al., 2012",
          "FA - Chang et al., 2017",
          "MD - Chang et al., 2017",
          "RD - Chang et al., 2017",
          "AD - Chang et al., 2017",
          "MTR - Fatemi et al., 2011",
          "MTR - Fjaer et al., 2013",
          "MTR - Fjaer et al., 2015",
          "k_mf - Janve et al., 2013",
          "MPF - Janve et al., 2013",
          "RD - Janve et al., 2013",
          "R1f - Janve et al., 2013",
          "AD - Janve et al., 2013",
          "MD - Janve et al., 2013",
          "FA - Janve et al., 2013",
          "T2 - Jelescu et al., 2016",
          "MTR - Jelescu et al., 2016",
          "AWF - Jelescu et al., 2016",
          "RK - Jelescu et al., 2016",
          "RDe - Jelescu et al., 2016",
          "RD - Jelescu et al., 2016",
          "FA - Jito et al., 2008",
          "AWF - Kelm et al., 2016",
          "RK - Kelm et al., 2016",
          "RD - Kelm et al., 2016",
          "MK - Kelm et al., 2016",
          "MD - Kelm et al., 2016",
          "MPF - Khodanovic et al., 2019",
          "RD - Lehto et al., 2017a",
          "RAFF - Lehto et al., 2017a",
          "MTR - Lehto et al., 2017a",
          "AD - Lehto et al., 2017a",
          "T1sat - Lehto et al., 2017a",
          "FA - Lehto et al., 2017a",
          "MD - Lehto et al., 2017a",
          "FA - Mollink et al., 2019",
          "QSM - Pol et al., 2019",
          "FA - Pol et al., 2019",
          "MD - Pol et al., 2019",
          "RD - Soustelle et al., 2019",
          "rSPF - Soustelle et al., 2019",
          "MPF - Soustelle et al., 2019",
          "MWF - Soustelle et al., 2019",
          "MD - Thiessen et al., 2013",
          "T1 - Thiessen et al., 2013",
          "T2f - Thiessen et al., 2013",
          "AD - Thiessen et al., 2013",
          "T2m - Thiessen et al., 2013",
          "FA - Thiessen et al., 2013",
          "T2 - Thiessen et al., 2013",
          "k_fm - Thiessen et al., 2013",
          "R1f - Thiessen et al., 2013",
          "k_mf - Thiessen et al., 2013",
          "RD - Thiessen et al., 2013",
          "MPF - Thiessen et al., 2013",
          "AD - Tu et al., 2016",
          "MD - Tu et al., 2016",
          "RD - Tu et al., 2016",
          "FA - Tu et al., 2016",
          "MTR - Tu et al., 2016",
          "MPF - Turati et al., 2015",
          "FA - Wang et al., 2009",
          "RD - Wang et al., 2009",
          "MD - Wendel et al., 2018",
          "AD - Wendel et al., 2018",
          "FA - Wendel et al., 2018",
          "RD - Wendel et al., 2018",
          "MPF - West et al., 2018",
          "MVF-MT - West et al., 2018",
          "MVF-T2 - West et al., 2018",
          "MWF - West et al., 2018",
          "T2 - Wu et al., 2008",
          "FA - Yano et al., 2018",
          "RD - Yano et al., 2018",
          "MD - Yano et al., 2018",
          "MTR - Zaaraoui et al., 2008"
         ],
         "type": "box",
         "x": [
          "White matter",
          "White matter",
          "White matter",
          "White matter",
          "White matter",
          "White matter",
          "White matter",
          "White matter",
          "White matter",
          "White matter",
          "White matter",
          "White matter",
          "White matter",
          "White matter",
          "White matter",
          "White matter",
          "White matter",
          "White matter",
          "White matter",
          "White matter",
          "White matter",
          "White matter",
          "White matter",
          "White matter",
          "White matter",
          "White matter",
          "White matter",
          "White matter",
          "White matter",
          "White matter",
          "White matter",
          "White matter",
          "White matter",
          "White matter",
          "White matter",
          "White matter",
          "White matter",
          "White matter",
          "White matter",
          "White matter",
          "White matter",
          "White matter",
          "White matter",
          "White matter",
          "White matter",
          "White matter",
          "White matter",
          "White matter",
          "White matter",
          "White matter",
          "White matter",
          "White matter",
          "White matter",
          "White matter",
          "White matter",
          "White matter",
          "White matter",
          "White matter",
          "White matter",
          "White matter",
          "White matter",
          "White matter",
          "White matter",
          "White matter",
          "White matter",
          "White matter",
          "White matter",
          "White matter",
          "White matter",
          "White matter",
          "White matter",
          "White matter",
          "White matter",
          "White matter",
          "White matter",
          "White matter",
          "White matter",
          "White matter",
          "White matter",
          "White matter",
          "White matter",
          "White matter",
          "White matter"
         ],
         "xaxis": "x3",
         "y": [
          0.1296,
          0.2097,
          0.245,
          0.1197,
          0.7668,
          0.74,
          0.5,
          0.34,
          0.1989,
          0.0129,
          0.038,
          0.1482,
          0.695,
          0.338,
          0.01,
          0.0256,
          0.7225,
          0.2401,
          0.0961,
          0.0064,
          0.0784,
          0.0729,
          0.4096,
          0.1024,
          0.3025,
          0.0196,
          0.25,
          0.5041,
          0.7327,
          0.3364,
          0.2401,
          0.1369,
          0.2304,
          0.1225,
          0.82,
          0.0015,
          0.552,
          0.5169,
          0.4199,
          0.49,
          0.2237,
          0.3492,
          0.2704,
          0.0361,
          0.0576,
          0.3481,
          0.49,
          0.7396,
          0.7569,
          0.4624,
          0.6561,
          0.4356,
          0.36,
          0.5625,
          0.1521,
          0.7056,
          0.0676,
          0.1089,
          0.4356,
          0.6724,
          0.7569,
          0.8649,
          1.0E-4,
          0.0289,
          0.2116,
          0.0169,
          0.1444,
          0.2872,
          0.4637,
          0.2787,
          0.0564,
          0.1987,
          0.5707,
          0.2973,
          0.7,
          0.7,
          0.68,
          0.66,
          0.5184,
          0.7569,
          0.8281,
          0.5329,
          0.6241000000000001
         ],
         "yaxis": "y3"
        },
        {
         "boxpoints": "all",
         "name": "Grey matter+White matter+Deep grey matter",
         "text": [
          "MTR - Duhamel et al., 2019",
          "ihMTR - Duhamel et al., 2019",
          "MTR - Guglielmetti et al., 2020",
          "MTR-UTE - Guglielmetti et al., 2020",
          "T1 - Hakkarainen et al., 2016",
          "T2p - Hakkarainen et al., 2016",
          "RAFF - Hakkarainen et al., 2016",
          "T1p - Hakkarainen et al., 2016",
          "MTR - Hakkarainen et al., 2016",
          "T2 - Hakkarainen et al., 2016",
          "QSM - Hametner et al., 2018",
          "T1 - Hametner et al., 2018",
          "R2* - Hametner et al., 2018",
          "MPF - Khodanovic et al., 2017",
          "MPF - Underhill et al., 2011"
         ],
         "type": "box",
         "x": [
          "Grey matter+White matter+Deep grey matter",
          "Grey matter+White matter+Deep grey matter",
          "Grey matter+White matter+Deep grey matter",
          "Grey matter+White matter+Deep grey matter",
          "Grey matter+White matter+Deep grey matter",
          "Grey matter+White matter+Deep grey matter",
          "Grey matter+White matter+Deep grey matter",
          "Grey matter+White matter+Deep grey matter",
          "Grey matter+White matter+Deep grey matter",
          "Grey matter+White matter+Deep grey matter",
          "Grey matter+White matter+Deep grey matter",
          "Grey matter+White matter+Deep grey matter",
          "Grey matter+White matter+Deep grey matter",
          "Grey matter+White matter+Deep grey matter",
          "Grey matter+White matter+Deep grey matter"
         ],
         "xaxis": "x3",
         "y": [
          0.78,
          0.96,
          0.46,
          0.76,
          0.77,
          0.34,
          0.84,
          0.63,
          0.34,
          0.18,
          0.1239,
          0.3398,
          7.0E-4,
          0.779,
          0.9801
         ],
         "yaxis": "y3"
        },
        {
         "boxpoints": "all",
         "name": "Grey matter+White matter",
         "text": [
          "MWF - Laule et al., 2006",
          "MWF - Laule et al., 2008",
          "T1 - Reeves et al., 2016",
          "T2 - Reeves et al., 2016"
         ],
         "type": "box",
         "x": [
          "Grey matter+White matter",
          "Grey matter+White matter",
          "Grey matter+White matter",
          "Grey matter+White matter"
         ],
         "xaxis": "x3",
         "y": [
          0.67,
          0.78,
          0.27,
          0.235
         ],
         "yaxis": "y3"
        },
        {
         "boxpoints": "all",
         "name": "White matter+Deep grey matter",
         "text": [
          "MTR - Lehto et al., 2017b"
         ],
         "type": "box",
         "x": [
          "White matter+Deep grey matter"
         ],
         "xaxis": "x3",
         "y": [
          0.94
         ],
         "yaxis": "y3"
        },
        {
         "boxpoints": "all",
         "name": "White matter+Lesions",
         "text": [
          "MTR - Schmierer et al., 2004",
          "T1 - Schmierer et al., 2004",
          "T2m - Schmierer et al., 2007a",
          "T1 - Schmierer et al., 2007a",
          "MPF - Schmierer et al., 2007a",
          "MTR - Schmierer et al., 2007a",
          "FA - Schmierer et al., 2007b",
          "MD - Schmierer et al., 2007b",
          "RD - Schmierer et al., 2008",
          "AD - Schmierer et al., 2008",
          "MD - Schmierer et al., 2008",
          "T1 - Schmierer et al., 2008",
          "T2 - Schmierer et al., 2008",
          "FA - Schmierer et al., 2008",
          "MPF - Schmierer et al., 2008",
          "MTR - Schmierer et al., 2008"
         ],
         "type": "box",
         "x": [
          "White matter+Lesions",
          "White matter+Lesions",
          "White matter+Lesions",
          "White matter+Lesions",
          "White matter+Lesions",
          "White matter+Lesions",
          "White matter+Lesions",
          "White matter+Lesions",
          "White matter+Lesions",
          "White matter+Lesions",
          "White matter+Lesions",
          "White matter+Lesions",
          "White matter+Lesions",
          "White matter+Lesions",
          "White matter+Lesions",
          "White matter+Lesions"
         ],
         "xaxis": "x3",
         "y": [
          0.7055999999999999,
          0.48999999999999994,
          1.0E-4,
          0.4760999999999999,
          0.6400000000000001,
          0.7055999999999999,
          0.6241000000000001,
          0.4624000000000001,
          0.6561,
          0.64,
          0.6084,
          0.7921,
          0.8464,
          0.6889,
          0.7396,
          0.4624
         ],
         "yaxis": "y3"
        },
        {
         "boxpoints": "all",
         "name": "Grey matter+White matter+Lesions",
         "text": [
          "PD - Tardif et al., 2012",
          "MTR - Tardif et al., 2012",
          "T2 - Tardif et al., 2012",
          "T1 - Tardif et al., 2012"
         ],
         "type": "box",
         "x": [
          "Grey matter+White matter+Lesions",
          "Grey matter+White matter+Lesions",
          "Grey matter+White matter+Lesions",
          "Grey matter+White matter+Lesions"
         ],
         "xaxis": "x3",
         "y": [
          0.3481,
          0.36,
          0.4225,
          0.5929
         ],
         "yaxis": "y3"
        },
        {
         "boxpoints": "all",
         "name": "Grey matter",
         "text": [
          "FA - van Tilborg et al., 2017"
         ],
         "type": "box",
         "x": [
          "Grey matter"
         ],
         "xaxis": "x3",
         "y": [
          0.334
         ],
         "yaxis": "y3"
        }
       ],
       "layout": {
        "annotations": [
         {
          "font": {
           "size": 16
          },
          "showarrow": false,
          "text": "R<sup>2</sup> values and reference techniques",
          "x": 0.5,
          "xanchor": "center",
          "xref": "paper",
          "y": 1.0,
          "yanchor": "bottom",
          "yref": "paper"
         },
         {
          "font": {
           "size": 16
          },
          "showarrow": false,
          "text": "R<sup>2</sup> values and pathology",
          "x": 0.5,
          "xanchor": "center",
          "xref": "paper",
          "y": 0.6,
          "yanchor": "bottom",
          "yref": "paper"
         },
         {
          "font": {
           "size": 16
          },
          "showarrow": false,
          "text": "R<sup>2</sup> values and tissue types",
          "x": 0.5,
          "xanchor": "center",
          "xref": "paper",
          "y": 0.19999999999999998,
          "yanchor": "bottom",
          "yref": "paper"
         },
         {
          "font": {
           "size": 16
          },
          "showarrow": false,
          "text": "R<sup>2</sup>",
          "textangle": -90,
          "x": 0,
          "xanchor": "right",
          "xref": "paper",
          "xshift": -40,
          "y": 0.5,
          "yanchor": "middle",
          "yref": "paper"
         },
         {
          "font": {
           "color": "gray",
           "size": 8
          },
          "showarrow": false,
          "text": "<a href=\"https://neurolibre.com\" target=\"_blank\" style=\"color:gray!important\">NeuroLibre</a>",
          "x": 1,
          "xref": "paper",
          "y": -0.149,
          "yref": "paper"
         }
        ],
        "height": 1000,
        "images": [
         {
          "opacity": 0.9,
          "sizex": 0.03,
          "sizey": 0.03,
          "source": "https://raw.githubusercontent.com/notebook-factory/brand/main/nlibre_custom2.svg",
          "x": 0.875,
          "xref": "paper",
          "y": -0.124,
          "yref": "paper"
         }
        ],
        "margin": {
         "l": 0
        },
        "showlegend": false,
        "template": {
         "data": {
          "bar": [
           {
            "error_x": {
             "color": "#2a3f5f"
            },
            "error_y": {
             "color": "#2a3f5f"
            },
            "marker": {
             "line": {
              "color": "#E5ECF6",
              "width": 0.5
             }
            },
            "type": "bar"
           }
          ],
          "barpolar": [
           {
            "marker": {
             "line": {
              "color": "#E5ECF6",
              "width": 0.5
             }
            },
            "type": "barpolar"
           }
          ],
          "carpet": [
           {
            "aaxis": {
             "endlinecolor": "#2a3f5f",
             "gridcolor": "white",
             "linecolor": "white",
             "minorgridcolor": "white",
             "startlinecolor": "#2a3f5f"
            },
            "baxis": {
             "endlinecolor": "#2a3f5f",
             "gridcolor": "white",
             "linecolor": "white",
             "minorgridcolor": "white",
             "startlinecolor": "#2a3f5f"
            },
            "type": "carpet"
           }
          ],
          "choropleth": [
           {
            "colorbar": {
             "outlinewidth": 0,
             "ticks": ""
            },
            "type": "choropleth"
           }
          ],
          "contour": [
           {
            "colorbar": {
             "outlinewidth": 0,
             "ticks": ""
            },
            "colorscale": [
             [
              0.0,
              "#0d0887"
             ],
             [
              0.1111111111111111,
              "#46039f"
             ],
             [
              0.2222222222222222,
              "#7201a8"
             ],
             [
              0.3333333333333333,
              "#9c179e"
             ],
             [
              0.4444444444444444,
              "#bd3786"
             ],
             [
              0.5555555555555556,
              "#d8576b"
             ],
             [
              0.6666666666666666,
              "#ed7953"
             ],
             [
              0.7777777777777778,
              "#fb9f3a"
             ],
             [
              0.8888888888888888,
              "#fdca26"
             ],
             [
              1.0,
              "#f0f921"
             ]
            ],
            "type": "contour"
           }
          ],
          "contourcarpet": [
           {
            "colorbar": {
             "outlinewidth": 0,
             "ticks": ""
            },
            "type": "contourcarpet"
           }
          ],
          "heatmap": [
           {
            "colorbar": {
             "outlinewidth": 0,
             "ticks": ""
            },
            "colorscale": [
             [
              0.0,
              "#0d0887"
             ],
             [
              0.1111111111111111,
              "#46039f"
             ],
             [
              0.2222222222222222,
              "#7201a8"
             ],
             [
              0.3333333333333333,
              "#9c179e"
             ],
             [
              0.4444444444444444,
              "#bd3786"
             ],
             [
              0.5555555555555556,
              "#d8576b"
             ],
             [
              0.6666666666666666,
              "#ed7953"
             ],
             [
              0.7777777777777778,
              "#fb9f3a"
             ],
             [
              0.8888888888888888,
              "#fdca26"
             ],
             [
              1.0,
              "#f0f921"
             ]
            ],
            "type": "heatmap"
           }
          ],
          "heatmapgl": [
           {
            "colorbar": {
             "outlinewidth": 0,
             "ticks": ""
            },
            "colorscale": [
             [
              0.0,
              "#0d0887"
             ],
             [
              0.1111111111111111,
              "#46039f"
             ],
             [
              0.2222222222222222,
              "#7201a8"
             ],
             [
              0.3333333333333333,
              "#9c179e"
             ],
             [
              0.4444444444444444,
              "#bd3786"
             ],
             [
              0.5555555555555556,
              "#d8576b"
             ],
             [
              0.6666666666666666,
              "#ed7953"
             ],
             [
              0.7777777777777778,
              "#fb9f3a"
             ],
             [
              0.8888888888888888,
              "#fdca26"
             ],
             [
              1.0,
              "#f0f921"
             ]
            ],
            "type": "heatmapgl"
           }
          ],
          "histogram": [
           {
            "marker": {
             "colorbar": {
              "outlinewidth": 0,
              "ticks": ""
             }
            },
            "type": "histogram"
           }
          ],
          "histogram2d": [
           {
            "colorbar": {
             "outlinewidth": 0,
             "ticks": ""
            },
            "colorscale": [
             [
              0.0,
              "#0d0887"
             ],
             [
              0.1111111111111111,
              "#46039f"
             ],
             [
              0.2222222222222222,
              "#7201a8"
             ],
             [
              0.3333333333333333,
              "#9c179e"
             ],
             [
              0.4444444444444444,
              "#bd3786"
             ],
             [
              0.5555555555555556,
              "#d8576b"
             ],
             [
              0.6666666666666666,
              "#ed7953"
             ],
             [
              0.7777777777777778,
              "#fb9f3a"
             ],
             [
              0.8888888888888888,
              "#fdca26"
             ],
             [
              1.0,
              "#f0f921"
             ]
            ],
            "type": "histogram2d"
           }
          ],
          "histogram2dcontour": [
           {
            "colorbar": {
             "outlinewidth": 0,
             "ticks": ""
            },
            "colorscale": [
             [
              0.0,
              "#0d0887"
             ],
             [
              0.1111111111111111,
              "#46039f"
             ],
             [
              0.2222222222222222,
              "#7201a8"
             ],
             [
              0.3333333333333333,
              "#9c179e"
             ],
             [
              0.4444444444444444,
              "#bd3786"
             ],
             [
              0.5555555555555556,
              "#d8576b"
             ],
             [
              0.6666666666666666,
              "#ed7953"
             ],
             [
              0.7777777777777778,
              "#fb9f3a"
             ],
             [
              0.8888888888888888,
              "#fdca26"
             ],
             [
              1.0,
              "#f0f921"
             ]
            ],
            "type": "histogram2dcontour"
           }
          ],
          "mesh3d": [
           {
            "colorbar": {
             "outlinewidth": 0,
             "ticks": ""
            },
            "type": "mesh3d"
           }
          ],
          "parcoords": [
           {
            "line": {
             "colorbar": {
              "outlinewidth": 0,
              "ticks": ""
             }
            },
            "type": "parcoords"
           }
          ],
          "pie": [
           {
            "automargin": true,
            "type": "pie"
           }
          ],
          "scatter": [
           {
            "marker": {
             "colorbar": {
              "outlinewidth": 0,
              "ticks": ""
             }
            },
            "type": "scatter"
           }
          ],
          "scatter3d": [
           {
            "line": {
             "colorbar": {
              "outlinewidth": 0,
              "ticks": ""
             }
            },
            "marker": {
             "colorbar": {
              "outlinewidth": 0,
              "ticks": ""
             }
            },
            "type": "scatter3d"
           }
          ],
          "scattercarpet": [
           {
            "marker": {
             "colorbar": {
              "outlinewidth": 0,
              "ticks": ""
             }
            },
            "type": "scattercarpet"
           }
          ],
          "scattergeo": [
           {
            "marker": {
             "colorbar": {
              "outlinewidth": 0,
              "ticks": ""
             }
            },
            "type": "scattergeo"
           }
          ],
          "scattergl": [
           {
            "marker": {
             "colorbar": {
              "outlinewidth": 0,
              "ticks": ""
             }
            },
            "type": "scattergl"
           }
          ],
          "scattermapbox": [
           {
            "marker": {
             "colorbar": {
              "outlinewidth": 0,
              "ticks": ""
             }
            },
            "type": "scattermapbox"
           }
          ],
          "scatterpolar": [
           {
            "marker": {
             "colorbar": {
              "outlinewidth": 0,
              "ticks": ""
             }
            },
            "type": "scatterpolar"
           }
          ],
          "scatterpolargl": [
           {
            "marker": {
             "colorbar": {
              "outlinewidth": 0,
              "ticks": ""
             }
            },
            "type": "scatterpolargl"
           }
          ],
          "scatterternary": [
           {
            "marker": {
             "colorbar": {
              "outlinewidth": 0,
              "ticks": ""
             }
            },
            "type": "scatterternary"
           }
          ],
          "surface": [
           {
            "colorbar": {
             "outlinewidth": 0,
             "ticks": ""
            },
            "colorscale": [
             [
              0.0,
              "#0d0887"
             ],
             [
              0.1111111111111111,
              "#46039f"
             ],
             [
              0.2222222222222222,
              "#7201a8"
             ],
             [
              0.3333333333333333,
              "#9c179e"
             ],
             [
              0.4444444444444444,
              "#bd3786"
             ],
             [
              0.5555555555555556,
              "#d8576b"
             ],
             [
              0.6666666666666666,
              "#ed7953"
             ],
             [
              0.7777777777777778,
              "#fb9f3a"
             ],
             [
              0.8888888888888888,
              "#fdca26"
             ],
             [
              1.0,
              "#f0f921"
             ]
            ],
            "type": "surface"
           }
          ],
          "table": [
           {
            "cells": {
             "fill": {
              "color": "#EBF0F8"
             },
             "line": {
              "color": "white"
             }
            },
            "header": {
             "fill": {
              "color": "#C8D4E3"
             },
             "line": {
              "color": "white"
             }
            },
            "type": "table"
           }
          ]
         },
         "layout": {
          "annotationdefaults": {
           "arrowcolor": "#2a3f5f",
           "arrowhead": 0,
           "arrowwidth": 1
          },
          "coloraxis": {
           "colorbar": {
            "outlinewidth": 0,
            "ticks": ""
           }
          },
          "colorscale": {
           "diverging": [
            [
             0,
             "#8e0152"
            ],
            [
             0.1,
             "#c51b7d"
            ],
            [
             0.2,
             "#de77ae"
            ],
            [
             0.3,
             "#f1b6da"
            ],
            [
             0.4,
             "#fde0ef"
            ],
            [
             0.5,
             "#f7f7f7"
            ],
            [
             0.6,
             "#e6f5d0"
            ],
            [
             0.7,
             "#b8e186"
            ],
            [
             0.8,
             "#7fbc41"
            ],
            [
             0.9,
             "#4d9221"
            ],
            [
             1,
             "#276419"
            ]
           ],
           "sequential": [
            [
             0.0,
             "#0d0887"
            ],
            [
             0.1111111111111111,
             "#46039f"
            ],
            [
             0.2222222222222222,
             "#7201a8"
            ],
            [
             0.3333333333333333,
             "#9c179e"
            ],
            [
             0.4444444444444444,
             "#bd3786"
            ],
            [
             0.5555555555555556,
             "#d8576b"
            ],
            [
             0.6666666666666666,
             "#ed7953"
            ],
            [
             0.7777777777777778,
             "#fb9f3a"
            ],
            [
             0.8888888888888888,
             "#fdca26"
            ],
            [
             1.0,
             "#f0f921"
            ]
           ],
           "sequentialminus": [
            [
             0.0,
             "#0d0887"
            ],
            [
             0.1111111111111111,
             "#46039f"
            ],
            [
             0.2222222222222222,
             "#7201a8"
            ],
            [
             0.3333333333333333,
             "#9c179e"
            ],
            [
             0.4444444444444444,
             "#bd3786"
            ],
            [
             0.5555555555555556,
             "#d8576b"
            ],
            [
             0.6666666666666666,
             "#ed7953"
            ],
            [
             0.7777777777777778,
             "#fb9f3a"
            ],
            [
             0.8888888888888888,
             "#fdca26"
            ],
            [
             1.0,
             "#f0f921"
            ]
           ]
          },
          "colorway": [
           "#636efa",
           "#EF553B",
           "#00cc96",
           "#ab63fa",
           "#FFA15A",
           "#19d3f3",
           "#FF6692",
           "#B6E880",
           "#FF97FF",
           "#FECB52"
          ],
          "font": {
           "color": "#2a3f5f"
          },
          "geo": {
           "bgcolor": "white",
           "lakecolor": "white",
           "landcolor": "#E5ECF6",
           "showlakes": true,
           "showland": true,
           "subunitcolor": "white"
          },
          "hoverlabel": {
           "align": "left"
          },
          "hovermode": "closest",
          "mapbox": {
           "style": "light"
          },
          "paper_bgcolor": "white",
          "plot_bgcolor": "#E5ECF6",
          "polar": {
           "angularaxis": {
            "gridcolor": "white",
            "linecolor": "white",
            "ticks": ""
           },
           "bgcolor": "#E5ECF6",
           "radialaxis": {
            "gridcolor": "white",
            "linecolor": "white",
            "ticks": ""
           }
          },
          "scene": {
           "xaxis": {
            "backgroundcolor": "#E5ECF6",
            "gridcolor": "white",
            "gridwidth": 2,
            "linecolor": "white",
            "showbackground": true,
            "ticks": "",
            "zerolinecolor": "white"
           },
           "yaxis": {
            "backgroundcolor": "#E5ECF6",
            "gridcolor": "white",
            "gridwidth": 2,
            "linecolor": "white",
            "showbackground": true,
            "ticks": "",
            "zerolinecolor": "white"
           },
           "zaxis": {
            "backgroundcolor": "#E5ECF6",
            "gridcolor": "white",
            "gridwidth": 2,
            "linecolor": "white",
            "showbackground": true,
            "ticks": "",
            "zerolinecolor": "white"
           }
          },
          "shapedefaults": {
           "line": {
            "color": "#2a3f5f"
           }
          },
          "ternary": {
           "aaxis": {
            "gridcolor": "white",
            "linecolor": "white",
            "ticks": ""
           },
           "baxis": {
            "gridcolor": "white",
            "linecolor": "white",
            "ticks": ""
           },
           "bgcolor": "#E5ECF6",
           "caxis": {
            "gridcolor": "white",
            "linecolor": "white",
            "ticks": ""
           }
          },
          "title": {
           "x": 0.05
          },
          "xaxis": {
           "automargin": true,
           "gridcolor": "white",
           "linecolor": "white",
           "ticks": "",
           "title": {
            "standoff": 15
           },
           "zerolinecolor": "white",
           "zerolinewidth": 2
          },
          "yaxis": {
           "automargin": true,
           "gridcolor": "white",
           "linecolor": "white",
           "ticks": "",
           "title": {
            "standoff": 15
           },
           "zerolinecolor": "white",
           "zerolinewidth": 2
          }
         }
        },
        "title": {
         "text": "Figure 7: Experimental conditions and methodological choices influencing the R<sup>2</sup> values",
         "x": 0
        },
        "width": 600,
        "xaxis": {
         "anchor": "y",
         "domain": [
          0.0,
          1.0
         ],
         "tickfont": {
          "size": 10
         }
        },
        "xaxis2": {
         "anchor": "y2",
         "domain": [
          0.0,
          1.0
         ],
         "tickfont": {
          "size": 10
         }
        },
        "xaxis3": {
         "anchor": "y3",
         "domain": [
          0.0,
          1.0
         ],
         "tickfont": {
          "size": 10
         }
        },
        "yaxis": {
         "anchor": "x",
         "domain": [
          0.8,
          1.0
         ]
        },
        "yaxis2": {
         "anchor": "x2",
         "domain": [
          0.4,
          0.6
         ]
        },
        "yaxis3": {
         "anchor": "x3",
         "domain": [
          0.0,
          0.19999999999999998
         ]
        }
       }
      },
      "text/html": "<div>\n        \n        \n            <div id=\"1d68d23e-67a2-4b6a-84d3-d04a9582b92c\" class=\"plotly-graph-div\" style=\"height:1000px; width:600px;\"></div>\n            <script type=\"text/javascript\">\n                require([\"plotly\"], function(Plotly) {\n                    window.PLOTLYENV=window.PLOTLYENV || {};\n                    \n                if (document.getElementById(\"1d68d23e-67a2-4b6a-84d3-d04a9582b92c\")) {\n                    Plotly.newPlot(\n                        '1d68d23e-67a2-4b6a-84d3-d04a9582b92c',\n                        [{\"boxpoints\": \"all\", \"name\": \"Histology\", \"text\": [\"MTR - Beckmann et al., 2018\", \"T1 - Hakkarainen et al., 2016\", \"T2p - Hakkarainen et al., 2016\", \"RAFF - Hakkarainen et al., 2016\", \"T1p - Hakkarainen et al., 2016\", \"MTR - Hakkarainen et al., 2016\", \"T2 - Hakkarainen et al., 2016\", \"QSM - Hametner et al., 2018\", \"T1 - Hametner et al., 2018\", \"R2* - Hametner et al., 2018\", \"k_mf - Janve et al., 2013\", \"MPF - Janve et al., 2013\", \"RD - Janve et al., 2013\", \"R1f - Janve et al., 2013\", \"AD - Janve et al., 2013\", \"MD - Janve et al., 2013\", \"FA - Janve et al., 2013\", \"MPF - Khodanovic et al., 2017\", \"MWF - Laule et al., 2006\", \"MWF - Laule et al., 2008\", \"RD - Lehto et al., 2017a\", \"RAFF - Lehto et al., 2017a\", \"MTR - Lehto et al., 2017a\", \"AD - Lehto et al., 2017a\", \"T1sat - Lehto et al., 2017a\", \"FA - Lehto et al., 2017a\", \"MD - Lehto et al., 2017a\", \"MTR - Lehto et al., 2017b\", \"QSM - Pol et al., 2019\", \"FA - Pol et al., 2019\", \"MD - Pol et al., 2019\", \"MTR - Schmierer et al., 2004\", \"T1 - Schmierer et al., 2004\", \"T2m - Schmierer et al., 2007a\", \"T1 - Schmierer et al., 2007a\", \"MPF - Schmierer et al., 2007a\", \"MTR - Schmierer et al., 2007a\", \"FA - Schmierer et al., 2007b\", \"MD - Schmierer et al., 2007b\", \"RD - Schmierer et al., 2008\", \"AD - Schmierer et al., 2008\", \"MD - Schmierer et al., 2008\", \"T1 - Schmierer et al., 2008\", \"T2 - Schmierer et al., 2008\", \"FA - Schmierer et al., 2008\", \"MPF - Schmierer et al., 2008\", \"MTR - Schmierer et al., 2008\", \"MPF - Underhill et al., 2011\", \"FA - Wang et al., 2009\", \"RD - Wang et al., 2009\", \"T2 - Wu et al., 2008\"], \"type\": \"box\", \"x\": [\"Histology - LFB\", \"Histology - Gold chloride\", \"Histology - Gold chloride\", \"Histology - Gold chloride\", \"Histology - Gold chloride\", \"Histology - Gold chloride\", \"Histology - Gold chloride\", \"Histology - LFB\", \"Histology - LFB\", \"Histology - LFB\", \"Histology - LFB\", \"Histology - LFB\", \"Histology - LFB\", \"Histology - LFB\", \"Histology - LFB\", \"Histology - LFB\", \"Histology - LFB\", \"Histology - LFB\", \"Histology - LFB\", \"Histology - LFB\", \"Histology - Gold chloride\", \"Histology - Gold chloride\", \"Histology - Gold chloride\", \"Histology - Gold chloride\", \"Histology - Gold chloride\", \"Histology - Gold chloride\", \"Histology - Gold chloride\", \"Histology - Gold chloride\", \"Histology - Solochrome\", \"Histology - Solochrome\", \"Histology - Solochrome\", \"Histology - LFB\", \"Histology - LFB\", \"Histology - LFB\", \"Histology - LFB\", \"Histology - LFB\", \"Histology - LFB\", \"Histology - LFB\", \"Histology - LFB\", \"Histology - LFB\", \"Histology - LFB\", \"Histology - LFB\", \"Histology - LFB\", \"Histology - LFB\", \"Histology - LFB\", \"Histology - LFB\", \"Histology - LFB\", \"Histology - LFB\", \"Histology - LFB\", \"Histology - LFB\", \"Histology - LFB\"], \"xaxis\": \"x\", \"y\": [0.7668, 0.77, 0.34, 0.84, 0.63, 0.34, 0.18, 0.1239, 0.3398, 0.0007, 0.0256, 0.7225, 0.2401, 0.0961, 0.0064, 0.0784, 0.0729, 0.779, 0.67, 0.78, 0.0015, 0.552, 0.5169, 0.4199, 0.49, 0.2237, 0.3492, 0.94, 0.0361, 0.0576, 0.3481, 0.7055999999999999, 0.48999999999999994, 0.0001, 0.4760999999999999, 0.6400000000000001, 0.7055999999999999, 0.6241000000000001, 0.4624000000000001, 0.6561, 0.64, 0.6084, 0.7921, 0.8464, 0.6889, 0.7396, 0.4624, 0.9801, 0.4637, 0.2787, 0.5184], \"yaxis\": \"y\"}, {\"boxpoints\": \"all\", \"name\": \"Immunohistochemistry\", \"text\": [\"AD - Aojula et al., 2016\", \"RD - Aojula et al., 2016\", \"MD - Aojula et al., 2016\", \"FA - Aojula et al., 2016\", \"FA - Chandran et al., 2012\", \"RD - Chandran et al., 2012\", \"FA - Chang et al., 2017\", \"MD - Chang et al., 2017\", \"RD - Chang et al., 2017\", \"AD - Chang et al., 2017\", \"MTR - Fatemi et al., 2011\", \"MTR - Fjaer et al., 2013\", \"MTR - Fjaer et al., 2015\", \"MTR - Guglielmetti et al., 2020\", \"MTR-UTE - Guglielmetti et al., 2020\", \"MPF - Khodanovic et al., 2019\", \"FA - Mollink et al., 2019\", \"T1 - Reeves et al., 2016\", \"T2 - Reeves et al., 2016\", \"RD - Soustelle et al., 2019\", \"rSPF - Soustelle et al., 2019\", \"MPF - Soustelle et al., 2019\", \"MWF - Soustelle et al., 2019\", \"PD - Tardif et al., 2012\", \"MTR - Tardif et al., 2012\", \"T2 - Tardif et al., 2012\", \"T1 - Tardif et al., 2012\", \"AD - Tu et al., 2016\", \"MD - Tu et al., 2016\", \"RD - Tu et al., 2016\", \"FA - Tu et al., 2016\", \"MTR - Tu et al., 2016\", \"MPF - Turati et al., 2015\", \"MD - Wendel et al., 2018\", \"AD - Wendel et al., 2018\", \"FA - Wendel et al., 2018\", \"RD - Wendel et al., 2018\", \"FA - Yano et al., 2018\", \"RD - Yano et al., 2018\", \"MD - Yano et al., 2018\", \"MTR - Zaaraoui et al., 2008\", \"FA - van Tilborg et al., 2017\"], \"type\": \"box\", \"x\": [\"Immunohistochemistry - MBP\", \"Immunohistochemistry - MBP\", \"Immunohistochemistry - MBP\", \"Immunohistochemistry - MBP\", \"Immunohistochemistry - MBP\", \"Immunohistochemistry - MBP\", \"Immunohistochemistry - MBP\", \"Immunohistochemistry - MBP\", \"Immunohistochemistry - MBP\", \"Immunohistochemistry - MBP\", \"Immunohistochemistry - MBP\", \"Immunohistochemistry - PLP\", \"Immunohistochemistry - PLP\", \"Immunohistochemistry - MBP\", \"Immunohistochemistry - MBP\", \"Immunohistochemistry - MBP\", \"Immunohistochemistry - MBP\", \"Immunohistochemistry - MBP\", \"Immunohistochemistry - MBP\", \"Immunohistochemistry - MBP\", \"Immunohistochemistry - MBP\", \"Immunohistochemistry - MBP\", \"Immunohistochemistry - MBP\", \"Immunohistochemistry - MBP\", \"Immunohistochemistry - MBP\", \"Immunohistochemistry - MBP\", \"Immunohistochemistry - MBP\", \"Immunohistochemistry - MBP\", \"Immunohistochemistry - MBP\", \"Immunohistochemistry - MBP\", \"Immunohistochemistry - MBP\", \"Immunohistochemistry - MBP\", \"Immunohistochemistry - MBP\", \"Immunohistochemistry - MBP\", \"Immunohistochemistry - MBP\", \"Immunohistochemistry - MBP\", \"Immunohistochemistry - MBP\", \"Immunohistochemistry - PLP\", \"Immunohistochemistry - PLP\", \"Immunohistochemistry - PLP\", \"Immunohistochemistry - MBP\", \"Immunohistochemistry - MBP\"], \"xaxis\": \"x\", \"y\": [0.1296, 0.2097, 0.245, 0.1197, 0.5, 0.34, 0.1989, 0.0129, 0.038, 0.1482, 0.695, 0.338, 0.01, 0.46, 0.76, 0.82, 0.2704, 0.27, 0.235, 0.49, 0.7396, 0.7569, 0.4624, 0.3481, 0.36, 0.4225, 0.5929, 0.0001, 0.0289, 0.2116, 0.0169, 0.1444, 0.2872, 0.0564, 0.1987, 0.5707, 0.2973, 0.7569, 0.8281, 0.5329, 0.6241000000000001, 0.334], \"yaxis\": \"y\"}, {\"boxpoints\": \"all\", \"name\": \"Microscopy\", \"text\": [\"RD - Abe et al., 2019\", \"AD - Abe et al., 2019\", \"FA - Abe et al., 2019\", \"MTR - Duhamel et al., 2019\", \"ihMTR - Duhamel et al., 2019\", \"FA - Jito et al., 2008\"], \"type\": \"box\", \"x\": [\"Microscopy - Myelin thickness\", \"Microscopy - Myelin thickness\", \"Microscopy - Myelin thickness\", \"Microscopy - Fluorescence\", \"Microscopy - Fluorescence\", \"Microscopy - Myelin sheath area\"], \"xaxis\": \"x\", \"y\": [0.1681, 0.0121, 0.1024, 0.78, 0.96, 0.7327], \"yaxis\": \"y\"}, {\"boxpoints\": \"all\", \"name\": \"EM\", \"text\": [\"MTV - Berman et al., 2018\", \"T2 - Jelescu et al., 2016\", \"MTR - Jelescu et al., 2016\", \"AWF - Jelescu et al., 2016\", \"RK - Jelescu et al., 2016\", \"RDe - Jelescu et al., 2016\", \"RD - Jelescu et al., 2016\", \"AWF - Kelm et al., 2016\", \"RK - Kelm et al., 2016\", \"RD - Kelm et al., 2016\", \"MK - Kelm et al., 2016\", \"MD - Kelm et al., 2016\", \"MD - Thiessen et al., 2013\", \"T1 - Thiessen et al., 2013\", \"T2f - Thiessen et al., 2013\", \"AD - Thiessen et al., 2013\", \"T2m - Thiessen et al., 2013\", \"FA - Thiessen et al., 2013\", \"T2 - Thiessen et al., 2013\", \"k_fm - Thiessen et al., 2013\", \"R1f - Thiessen et al., 2013\", \"k_mf - Thiessen et al., 2013\", \"RD - Thiessen et al., 2013\", \"MPF - Thiessen et al., 2013\", \"MPF - West et al., 2018\", \"MVF-MT - West et al., 2018\", \"MVF-T2 - West et al., 2018\", \"MWF - West et al., 2018\"], \"type\": \"box\", \"x\": [\"EM - Myelin fraction\", \"EM - Myelin fraction\", \"EM - Myelin fraction\", \"EM - Myelin fraction\", \"EM - Myelin fraction\", \"EM - Myelin fraction\", \"EM - Myelin fraction\", \"EM - Myelin fraction\", \"EM - Myelin fraction\", \"EM - Myelin fraction\", \"EM - Myelin fraction\", \"EM - Myelin fraction\", \"EM - Myelin thickness\", \"EM - Myelin thickness\", \"EM - Myelin thickness\", \"EM - Myelin thickness\", \"EM - Myelin thickness\", \"EM - Myelin thickness\", \"EM - Myelin thickness\", \"EM - Myelin thickness\", \"EM - Myelin thickness\", \"EM - Myelin thickness\", \"EM - Myelin thickness\", \"EM - Myelin thickness\", \"EM - Myelin fraction\", \"EM - Myelin fraction\", \"EM - Myelin fraction\", \"EM - Myelin fraction\"], \"xaxis\": \"x\", \"y\": [0.74, 0.4096, 0.1024, 0.3025, 0.0196, 0.25, 0.5041, 0.3364, 0.2401, 0.1369, 0.2304, 0.1225, 0.6561, 0.4356, 0.36, 0.5625, 0.1521, 0.7056, 0.0676, 0.1089, 0.4356, 0.6724, 0.7569, 0.8649, 0.7, 0.7, 0.68, 0.66], \"yaxis\": \"y\"}, {\"boxpoints\": \"all\", \"name\": \"Optogenetic stimulation\", \"text\": [\"RD - Abe et al., 2019\", \"AD - Abe et al., 2019\", \"FA - Abe et al., 2019\"], \"type\": \"box\", \"x\": [\"Optogenetic stimulation\", \"Optogenetic stimulation\", \"Optogenetic stimulation\"], \"xaxis\": \"x2\", \"y\": [0.1681, 0.0121, 0.1024], \"yaxis\": \"y2\"}, {\"boxpoints\": \"all\", \"name\": \"Hydrocephalus\", \"text\": [\"AD - Aojula et al., 2016\", \"RD - Aojula et al., 2016\", \"MD - Aojula et al., 2016\", \"FA - Aojula et al., 2016\"], \"type\": \"box\", \"x\": [\"Hydrocephalus\", \"Hydrocephalus\", \"Hydrocephalus\", \"Hydrocephalus\"], \"xaxis\": \"x2\", \"y\": [0.1296, 0.2097, 0.245, 0.1197], \"yaxis\": \"y2\"}, {\"boxpoints\": \"all\", \"name\": \"Demyelination - Cuprizone\", \"text\": [\"MTR - Beckmann et al., 2018\", \"FA - Chandran et al., 2012\", \"RD - Chandran et al., 2012\", \"MTR - Fjaer et al., 2013\", \"T2 - Jelescu et al., 2016\", \"MTR - Jelescu et al., 2016\", \"AWF - Jelescu et al., 2016\", \"RK - Jelescu et al., 2016\", \"RDe - Jelescu et al., 2016\", \"RD - Jelescu et al., 2016\", \"MPF - Khodanovic et al., 2017\", \"MPF - Khodanovic et al., 2019\", \"RD - Soustelle et al., 2019\", \"rSPF - Soustelle et al., 2019\", \"MPF - Soustelle et al., 2019\", \"MWF - Soustelle et al., 2019\", \"MD - Thiessen et al., 2013\", \"T1 - Thiessen et al., 2013\", \"T2f - Thiessen et al., 2013\", \"AD - Thiessen et al., 2013\", \"T2m - Thiessen et al., 2013\", \"FA - Thiessen et al., 2013\", \"T2 - Thiessen et al., 2013\", \"k_fm - Thiessen et al., 2013\", \"R1f - Thiessen et al., 2013\", \"k_mf - Thiessen et al., 2013\", \"RD - Thiessen et al., 2013\", \"MPF - Thiessen et al., 2013\", \"MPF - Turati et al., 2015\", \"T2 - Wu et al., 2008\", \"FA - Yano et al., 2018\", \"RD - Yano et al., 2018\", \"MD - Yano et al., 2018\", \"MTR - Zaaraoui et al., 2008\"], \"type\": \"box\", \"x\": [\"Demyelination - Cuprizone\", \"Demyelination - Cuprizone\", \"Demyelination - Cuprizone\", \"Demyelination - Cuprizone\", \"Demyelination - Cuprizone\", \"Demyelination - Cuprizone\", \"Demyelination - Cuprizone\", \"Demyelination - Cuprizone\", \"Demyelination - Cuprizone\", \"Demyelination - Cuprizone\", \"Demyelination - Cuprizone\", \"Demyelination - Cuprizone\", \"Demyelination - Cuprizone\", \"Demyelination - Cuprizone\", \"Demyelination - Cuprizone\", \"Demyelination - Cuprizone\", \"Demyelination - Cuprizone\", \"Demyelination - Cuprizone\", \"Demyelination - Cuprizone\", \"Demyelination - Cuprizone\", \"Demyelination - Cuprizone\", \"Demyelination - Cuprizone\", \"Demyelination - Cuprizone\", \"Demyelination - Cuprizone\", \"Demyelination - Cuprizone\", \"Demyelination - Cuprizone\", \"Demyelination - Cuprizone\", \"Demyelination - Cuprizone\", \"Demyelination - Cuprizone\", \"Demyelination - Cuprizone\", \"Demyelination - Cuprizone\", \"Demyelination - Cuprizone\", \"Demyelination - Cuprizone\", \"Demyelination - Cuprizone\"], \"xaxis\": \"x2\", \"y\": [0.7668, 0.5, 0.34, 0.338, 0.4096, 0.1024, 0.3025, 0.0196, 0.25, 0.5041, 0.779, 0.82, 0.49, 0.7396, 0.7569, 0.4624, 0.6561, 0.4356, 0.36, 0.5625, 0.1521, 0.7056, 0.0676, 0.1089, 0.4356, 0.6724, 0.7569, 0.8649, 0.2872, 0.5184, 0.7569, 0.8281, 0.5329, 0.6241000000000001], \"yaxis\": \"y2\"}, {\"boxpoints\": \"all\", \"name\": \"Demyelination - Knockout\", \"text\": [\"MTV - Berman et al., 2018\", \"AWF - Kelm et al., 2016\", \"RK - Kelm et al., 2016\", \"RD - Kelm et al., 2016\", \"MK - Kelm et al., 2016\", \"MD - Kelm et al., 2016\", \"MPF - West et al., 2018\", \"MVF-MT - West et al., 2018\", \"MVF-T2 - West et al., 2018\", \"MWF - West et al., 2018\"], \"type\": \"box\", \"x\": [\"Demyelination - Knockout\", \"Demyelination - Knockout\", \"Demyelination - Knockout\", \"Demyelination - Knockout\", \"Demyelination - Knockout\", \"Demyelination - Knockout\", \"Demyelination - Knockout\", \"Demyelination - Knockout\", \"Demyelination - Knockout\", \"Demyelination - Knockout\"], \"xaxis\": \"x2\", \"y\": [0.74, 0.3364, 0.2401, 0.1369, 0.2304, 0.1225, 0.7, 0.7, 0.68, 0.66], \"yaxis\": \"y2\"}, {\"boxpoints\": \"all\", \"name\": \"Healthy\", \"text\": [\"FA - Chang et al., 2017\", \"MD - Chang et al., 2017\", \"RD - Chang et al., 2017\", \"AD - Chang et al., 2017\", \"MTR - Duhamel et al., 2019\", \"ihMTR - Duhamel et al., 2019\", \"MTR - Guglielmetti et al., 2020\", \"MTR-UTE - Guglielmetti et al., 2020\", \"T1 - Hakkarainen et al., 2016\", \"T2p - Hakkarainen et al., 2016\", \"RAFF - Hakkarainen et al., 2016\", \"T1p - Hakkarainen et al., 2016\", \"MTR - Hakkarainen et al., 2016\", \"T2 - Hakkarainen et al., 2016\", \"FA - Jito et al., 2008\", \"QSM - Pol et al., 2019\", \"FA - Pol et al., 2019\", \"MD - Pol et al., 2019\", \"MPF - Underhill et al., 2011\"], \"type\": \"box\", \"x\": [\"Healthy\", \"Healthy\", \"Healthy\", \"Healthy\", \"Healthy\", \"Healthy\", \"Healthy\", \"Healthy\", \"Healthy\", \"Healthy\", \"Healthy\", \"Healthy\", \"Healthy\", \"Healthy\", \"Healthy\", \"Healthy\", \"Healthy\", \"Healthy\", \"Healthy\"], \"xaxis\": \"x2\", \"y\": [0.1989, 0.0129, 0.038, 0.1482, 0.78, 0.96, 0.46, 0.76, 0.77, 0.34, 0.84, 0.63, 0.34, 0.18, 0.7327, 0.0361, 0.0576, 0.3481, 0.9801], \"yaxis\": \"y2\"}, {\"boxpoints\": \"all\", \"name\": \"Ischemia - Induced hypoxia\", \"text\": [\"MTR - Fatemi et al., 2011\", \"FA - Wang et al., 2009\", \"RD - Wang et al., 2009\"], \"type\": \"box\", \"x\": [\"Ischemia - Induced hypoxia\", \"Ischemia - Induced hypoxia\", \"Ischemia - Induced hypoxia\"], \"xaxis\": \"x2\", \"y\": [0.695, 0.4637, 0.2787], \"yaxis\": \"y2\"}, {\"boxpoints\": \"all\", \"name\": \"Demyelination - Autoimmune encephalomyelitis\", \"text\": [\"MTR - Fjaer et al., 2015\"], \"type\": \"box\", \"x\": [\"Demyelination - Autoimmune encephalomyelitis\"], \"xaxis\": \"x2\", \"y\": [0.01], \"yaxis\": \"y2\"}, {\"boxpoints\": \"all\", \"name\": \"Vascular diseases\", \"text\": [\"QSM - Hametner et al., 2018\", \"T1 - Hametner et al., 2018\", \"R2* - Hametner et al., 2018\"], \"type\": \"box\", \"x\": [\"Vascular diseases\", \"Vascular diseases\", \"Vascular diseases\"], \"xaxis\": \"x2\", \"y\": [0.1239, 0.3398, 0.0007], \"yaxis\": \"y2\"}, {\"boxpoints\": \"all\", \"name\": \"Demyelination - Lipopolysaccharide\", \"text\": [\"k_mf - Janve et al., 2013\", \"MPF - Janve et al., 2013\", \"RD - Janve et al., 2013\", \"R1f - Janve et al., 2013\", \"AD - Janve et al., 2013\", \"MD - Janve et al., 2013\", \"FA - Janve et al., 2013\", \"RD - Lehto et al., 2017a\", \"RAFF - Lehto et al., 2017a\", \"MTR - Lehto et al., 2017a\", \"AD - Lehto et al., 2017a\", \"T1sat - Lehto et al., 2017a\", \"FA - Lehto et al., 2017a\", \"MD - Lehto et al., 2017a\"], \"type\": \"box\", \"x\": [\"Demyelination - Lipopolysaccharide\", \"Demyelination - Lipopolysaccharide\", \"Demyelination - Lipopolysaccharide\", \"Demyelination - Lipopolysaccharide\", \"Demyelination - Lipopolysaccharide\", \"Demyelination - Lipopolysaccharide\", \"Demyelination - Lipopolysaccharide\", \"Demyelination - Lipopolysaccharide\", \"Demyelination - Lipopolysaccharide\", \"Demyelination - Lipopolysaccharide\", \"Demyelination - Lipopolysaccharide\", \"Demyelination - Lipopolysaccharide\", \"Demyelination - Lipopolysaccharide\", \"Demyelination - Lipopolysaccharide\"], \"xaxis\": \"x2\", \"y\": [0.0256, 0.7225, 0.2401, 0.0961, 0.0064, 0.0784, 0.0729, 0.0015, 0.552, 0.5169, 0.4199, 0.49, 0.2237, 0.3492], \"yaxis\": \"y2\"}, {\"boxpoints\": \"all\", \"name\": \"Multiple sclerosis\", \"text\": [\"MWF - Laule et al., 2006\", \"MWF - Laule et al., 2008\", \"MTR - Schmierer et al., 2004\", \"T1 - Schmierer et al., 2004\", \"T2m - Schmierer et al., 2007a\", \"T1 - Schmierer et al., 2007a\", \"MPF - Schmierer et al., 2007a\", \"MTR - Schmierer et al., 2007a\", \"FA - Schmierer et al., 2007b\", \"MD - Schmierer et al., 2007b\", \"RD - Schmierer et al., 2008\", \"AD - Schmierer et al., 2008\", \"MD - Schmierer et al., 2008\", \"T1 - Schmierer et al., 2008\", \"T2 - Schmierer et al., 2008\", \"FA - Schmierer et al., 2008\", \"MPF - Schmierer et al., 2008\", \"MTR - Schmierer et al., 2008\", \"PD - Tardif et al., 2012\", \"MTR - Tardif et al., 2012\", \"T2 - Tardif et al., 2012\", \"T1 - Tardif et al., 2012\"], \"type\": \"box\", \"x\": [\"Multiple sclerosis\", \"Multiple sclerosis\", \"Multiple sclerosis\", \"Multiple sclerosis\", \"Multiple sclerosis\", \"Multiple sclerosis\", \"Multiple sclerosis\", \"Multiple sclerosis\", \"Multiple sclerosis\", \"Multiple sclerosis\", \"Multiple sclerosis\", \"Multiple sclerosis\", \"Multiple sclerosis\", \"Multiple sclerosis\", \"Multiple sclerosis\", \"Multiple sclerosis\", \"Multiple sclerosis\", \"Multiple sclerosis\", \"Multiple sclerosis\", \"Multiple sclerosis\", \"Multiple sclerosis\", \"Multiple sclerosis\"], \"xaxis\": \"x2\", \"y\": [0.67, 0.78, 0.7055999999999999, 0.48999999999999994, 0.0001, 0.4760999999999999, 0.6400000000000001, 0.7055999999999999, 0.6241000000000001, 0.4624000000000001, 0.6561, 0.64, 0.6084, 0.7921, 0.8464, 0.6889, 0.7396, 0.4624, 0.3481, 0.36, 0.4225, 0.5929], \"yaxis\": \"y2\"}, {\"boxpoints\": \"all\", \"name\": \"Traumatic brain injury\", \"text\": [\"MTR - Lehto et al., 2017b\", \"AD - Tu et al., 2016\", \"MD - Tu et al., 2016\", \"RD - Tu et al., 2016\", \"FA - Tu et al., 2016\", \"MTR - Tu et al., 2016\", \"MD - Wendel et al., 2018\", \"AD - Wendel et al., 2018\", \"FA - Wendel et al., 2018\", \"RD - Wendel et al., 2018\"], \"type\": \"box\", \"x\": [\"Traumatic brain injury\", \"Traumatic brain injury\", \"Traumatic brain injury\", \"Traumatic brain injury\", \"Traumatic brain injury\", \"Traumatic brain injury\", \"Traumatic brain injury\", \"Traumatic brain injury\", \"Traumatic brain injury\", \"Traumatic brain injury\"], \"xaxis\": \"x2\", \"y\": [0.94, 0.0001, 0.0289, 0.2116, 0.0169, 0.1444, 0.0564, 0.1987, 0.5707, 0.2973], \"yaxis\": \"y2\"}, {\"boxpoints\": \"all\", \"name\": \"Amyotrophic lateral sclerosis\", \"text\": [\"FA - Mollink et al., 2019\"], \"type\": \"box\", \"x\": [\"Amyotrophic lateral sclerosis\"], \"xaxis\": \"x2\", \"y\": [0.2704], \"yaxis\": \"y2\"}, {\"boxpoints\": \"all\", \"name\": \"Epilepsy\", \"text\": [\"T1 - Reeves et al., 2016\", \"T2 - Reeves et al., 2016\"], \"type\": \"box\", \"x\": [\"Epilepsy\", \"Epilepsy\"], \"xaxis\": \"x2\", \"y\": [0.27, 0.235], \"yaxis\": \"y2\"}, {\"boxpoints\": \"all\", \"name\": \"White matter injury\", \"text\": [\"FA - van Tilborg et al., 2017\"], \"type\": \"box\", \"x\": [\"White matter injury\"], \"xaxis\": \"x2\", \"y\": [0.334], \"yaxis\": \"y2\"}, {\"boxpoints\": \"all\", \"name\": \"Grey matter+Deep grey matter\", \"text\": [\"RD - Abe et al., 2019\", \"AD - Abe et al., 2019\", \"FA - Abe et al., 2019\"], \"type\": \"box\", \"x\": [\"Grey matter+Deep grey matter\", \"Grey matter+Deep grey matter\", \"Grey matter+Deep grey matter\"], \"xaxis\": \"x3\", \"y\": [0.1681, 0.0121, 0.1024], \"yaxis\": \"y3\"}, {\"boxpoints\": \"all\", \"name\": \"White matter\", \"text\": [\"AD - Aojula et al., 2016\", \"RD - Aojula et al., 2016\", \"MD - Aojula et al., 2016\", \"FA - Aojula et al., 2016\", \"MTR - Beckmann et al., 2018\", \"MTV - Berman et al., 2018\", \"FA - Chandran et al., 2012\", \"RD - Chandran et al., 2012\", \"FA - Chang et al., 2017\", \"MD - Chang et al., 2017\", \"RD - Chang et al., 2017\", \"AD - Chang et al., 2017\", \"MTR - Fatemi et al., 2011\", \"MTR - Fjaer et al., 2013\", \"MTR - Fjaer et al., 2015\", \"k_mf - Janve et al., 2013\", \"MPF - Janve et al., 2013\", \"RD - Janve et al., 2013\", \"R1f - Janve et al., 2013\", \"AD - Janve et al., 2013\", \"MD - Janve et al., 2013\", \"FA - Janve et al., 2013\", \"T2 - Jelescu et al., 2016\", \"MTR - Jelescu et al., 2016\", \"AWF - Jelescu et al., 2016\", \"RK - Jelescu et al., 2016\", \"RDe - Jelescu et al., 2016\", \"RD - Jelescu et al., 2016\", \"FA - Jito et al., 2008\", \"AWF - Kelm et al., 2016\", \"RK - Kelm et al., 2016\", \"RD - Kelm et al., 2016\", \"MK - Kelm et al., 2016\", \"MD - Kelm et al., 2016\", \"MPF - Khodanovic et al., 2019\", \"RD - Lehto et al., 2017a\", \"RAFF - Lehto et al., 2017a\", \"MTR - Lehto et al., 2017a\", \"AD - Lehto et al., 2017a\", \"T1sat - Lehto et al., 2017a\", \"FA - Lehto et al., 2017a\", \"MD - Lehto et al., 2017a\", \"FA - Mollink et al., 2019\", \"QSM - Pol et al., 2019\", \"FA - Pol et al., 2019\", \"MD - Pol et al., 2019\", \"RD - Soustelle et al., 2019\", \"rSPF - Soustelle et al., 2019\", \"MPF - Soustelle et al., 2019\", \"MWF - Soustelle et al., 2019\", \"MD - Thiessen et al., 2013\", \"T1 - Thiessen et al., 2013\", \"T2f - Thiessen et al., 2013\", \"AD - Thiessen et al., 2013\", \"T2m - Thiessen et al., 2013\", \"FA - Thiessen et al., 2013\", \"T2 - Thiessen et al., 2013\", \"k_fm - Thiessen et al., 2013\", \"R1f - Thiessen et al., 2013\", \"k_mf - Thiessen et al., 2013\", \"RD - Thiessen et al., 2013\", \"MPF - Thiessen et al., 2013\", \"AD - Tu et al., 2016\", \"MD - Tu et al., 2016\", \"RD - Tu et al., 2016\", \"FA - Tu et al., 2016\", \"MTR - Tu et al., 2016\", \"MPF - Turati et al., 2015\", \"FA - Wang et al., 2009\", \"RD - Wang et al., 2009\", \"MD - Wendel et al., 2018\", \"AD - Wendel et al., 2018\", \"FA - Wendel et al., 2018\", \"RD - Wendel et al., 2018\", \"MPF - West et al., 2018\", \"MVF-MT - West et al., 2018\", \"MVF-T2 - West et al., 2018\", \"MWF - West et al., 2018\", \"T2 - Wu et al., 2008\", \"FA - Yano et al., 2018\", \"RD - Yano et al., 2018\", \"MD - Yano et al., 2018\", \"MTR - Zaaraoui et al., 2008\"], \"type\": \"box\", \"x\": [\"White matter\", \"White matter\", \"White matter\", \"White matter\", \"White matter\", \"White matter\", \"White matter\", \"White matter\", \"White matter\", \"White matter\", \"White matter\", \"White matter\", \"White matter\", \"White matter\", \"White matter\", \"White matter\", \"White matter\", \"White matter\", \"White matter\", \"White matter\", \"White matter\", \"White matter\", \"White matter\", \"White matter\", \"White matter\", \"White matter\", \"White matter\", \"White matter\", \"White matter\", \"White matter\", \"White matter\", \"White matter\", \"White matter\", \"White matter\", \"White matter\", \"White matter\", \"White matter\", \"White matter\", \"White matter\", \"White matter\", \"White matter\", \"White matter\", \"White matter\", \"White matter\", \"White matter\", \"White matter\", \"White matter\", \"White matter\", \"White matter\", \"White matter\", \"White matter\", \"White matter\", \"White matter\", \"White matter\", \"White matter\", \"White matter\", \"White matter\", \"White matter\", \"White matter\", \"White matter\", \"White matter\", \"White matter\", \"White matter\", \"White matter\", \"White matter\", \"White matter\", \"White matter\", \"White matter\", \"White matter\", \"White matter\", \"White matter\", \"White matter\", \"White matter\", \"White matter\", \"White matter\", \"White matter\", \"White matter\", \"White matter\", \"White matter\", \"White matter\", \"White matter\", \"White matter\", \"White matter\"], \"xaxis\": \"x3\", \"y\": [0.1296, 0.2097, 0.245, 0.1197, 0.7668, 0.74, 0.5, 0.34, 0.1989, 0.0129, 0.038, 0.1482, 0.695, 0.338, 0.01, 0.0256, 0.7225, 0.2401, 0.0961, 0.0064, 0.0784, 0.0729, 0.4096, 0.1024, 0.3025, 0.0196, 0.25, 0.5041, 0.7327, 0.3364, 0.2401, 0.1369, 0.2304, 0.1225, 0.82, 0.0015, 0.552, 0.5169, 0.4199, 0.49, 0.2237, 0.3492, 0.2704, 0.0361, 0.0576, 0.3481, 0.49, 0.7396, 0.7569, 0.4624, 0.6561, 0.4356, 0.36, 0.5625, 0.1521, 0.7056, 0.0676, 0.1089, 0.4356, 0.6724, 0.7569, 0.8649, 0.0001, 0.0289, 0.2116, 0.0169, 0.1444, 0.2872, 0.4637, 0.2787, 0.0564, 0.1987, 0.5707, 0.2973, 0.7, 0.7, 0.68, 0.66, 0.5184, 0.7569, 0.8281, 0.5329, 0.6241000000000001], \"yaxis\": \"y3\"}, {\"boxpoints\": \"all\", \"name\": \"Grey matter+White matter+Deep grey matter\", \"text\": [\"MTR - Duhamel et al., 2019\", \"ihMTR - Duhamel et al., 2019\", \"MTR - Guglielmetti et al., 2020\", \"MTR-UTE - Guglielmetti et al., 2020\", \"T1 - Hakkarainen et al., 2016\", \"T2p - Hakkarainen et al., 2016\", \"RAFF - Hakkarainen et al., 2016\", \"T1p - Hakkarainen et al., 2016\", \"MTR - Hakkarainen et al., 2016\", \"T2 - Hakkarainen et al., 2016\", \"QSM - Hametner et al., 2018\", \"T1 - Hametner et al., 2018\", \"R2* - Hametner et al., 2018\", \"MPF - Khodanovic et al., 2017\", \"MPF - Underhill et al., 2011\"], \"type\": \"box\", \"x\": [\"Grey matter+White matter+Deep grey matter\", \"Grey matter+White matter+Deep grey matter\", \"Grey matter+White matter+Deep grey matter\", \"Grey matter+White matter+Deep grey matter\", \"Grey matter+White matter+Deep grey matter\", \"Grey matter+White matter+Deep grey matter\", \"Grey matter+White matter+Deep grey matter\", \"Grey matter+White matter+Deep grey matter\", \"Grey matter+White matter+Deep grey matter\", \"Grey matter+White matter+Deep grey matter\", \"Grey matter+White matter+Deep grey matter\", \"Grey matter+White matter+Deep grey matter\", \"Grey matter+White matter+Deep grey matter\", \"Grey matter+White matter+Deep grey matter\", \"Grey matter+White matter+Deep grey matter\"], \"xaxis\": \"x3\", \"y\": [0.78, 0.96, 0.46, 0.76, 0.77, 0.34, 0.84, 0.63, 0.34, 0.18, 0.1239, 0.3398, 0.0007, 0.779, 0.9801], \"yaxis\": \"y3\"}, {\"boxpoints\": \"all\", \"name\": \"Grey matter+White matter\", \"text\": [\"MWF - Laule et al., 2006\", \"MWF - Laule et al., 2008\", \"T1 - Reeves et al., 2016\", \"T2 - Reeves et al., 2016\"], \"type\": \"box\", \"x\": [\"Grey matter+White matter\", \"Grey matter+White matter\", \"Grey matter+White matter\", \"Grey matter+White matter\"], \"xaxis\": \"x3\", \"y\": [0.67, 0.78, 0.27, 0.235], \"yaxis\": \"y3\"}, {\"boxpoints\": \"all\", \"name\": \"White matter+Deep grey matter\", \"text\": [\"MTR - Lehto et al., 2017b\"], \"type\": \"box\", \"x\": [\"White matter+Deep grey matter\"], \"xaxis\": \"x3\", \"y\": [0.94], \"yaxis\": \"y3\"}, {\"boxpoints\": \"all\", \"name\": \"White matter+Lesions\", \"text\": [\"MTR - Schmierer et al., 2004\", \"T1 - Schmierer et al., 2004\", \"T2m - Schmierer et al., 2007a\", \"T1 - Schmierer et al., 2007a\", \"MPF - Schmierer et al., 2007a\", \"MTR - Schmierer et al., 2007a\", \"FA - Schmierer et al., 2007b\", \"MD - Schmierer et al., 2007b\", \"RD - Schmierer et al., 2008\", \"AD - Schmierer et al., 2008\", \"MD - Schmierer et al., 2008\", \"T1 - Schmierer et al., 2008\", \"T2 - Schmierer et al., 2008\", \"FA - Schmierer et al., 2008\", \"MPF - Schmierer et al., 2008\", \"MTR - Schmierer et al., 2008\"], \"type\": \"box\", \"x\": [\"White matter+Lesions\", \"White matter+Lesions\", \"White matter+Lesions\", \"White matter+Lesions\", \"White matter+Lesions\", \"White matter+Lesions\", \"White matter+Lesions\", \"White matter+Lesions\", \"White matter+Lesions\", \"White matter+Lesions\", \"White matter+Lesions\", \"White matter+Lesions\", \"White matter+Lesions\", \"White matter+Lesions\", \"White matter+Lesions\", \"White matter+Lesions\"], \"xaxis\": \"x3\", \"y\": [0.7055999999999999, 0.48999999999999994, 0.0001, 0.4760999999999999, 0.6400000000000001, 0.7055999999999999, 0.6241000000000001, 0.4624000000000001, 0.6561, 0.64, 0.6084, 0.7921, 0.8464, 0.6889, 0.7396, 0.4624], \"yaxis\": \"y3\"}, {\"boxpoints\": \"all\", \"name\": \"Grey matter+White matter+Lesions\", \"text\": [\"PD - Tardif et al., 2012\", \"MTR - Tardif et al., 2012\", \"T2 - Tardif et al., 2012\", \"T1 - Tardif et al., 2012\"], \"type\": \"box\", \"x\": [\"Grey matter+White matter+Lesions\", \"Grey matter+White matter+Lesions\", \"Grey matter+White matter+Lesions\", \"Grey matter+White matter+Lesions\"], \"xaxis\": \"x3\", \"y\": [0.3481, 0.36, 0.4225, 0.5929], \"yaxis\": \"y3\"}, {\"boxpoints\": \"all\", \"name\": \"Grey matter\", \"text\": [\"FA - van Tilborg et al., 2017\"], \"type\": \"box\", \"x\": [\"Grey matter\"], \"xaxis\": \"x3\", \"y\": [0.334], \"yaxis\": \"y3\"}],\n                        {\"annotations\": [{\"font\": {\"size\": 16}, \"showarrow\": false, \"text\": \"R<sup>2</sup> values and reference techniques\", \"x\": 0.5, \"xanchor\": \"center\", \"xref\": \"paper\", \"y\": 1.0, \"yanchor\": \"bottom\", \"yref\": \"paper\"}, {\"font\": {\"size\": 16}, \"showarrow\": false, \"text\": \"R<sup>2</sup> values and pathology\", \"x\": 0.5, \"xanchor\": \"center\", \"xref\": \"paper\", \"y\": 0.6, \"yanchor\": \"bottom\", \"yref\": \"paper\"}, {\"font\": {\"size\": 16}, \"showarrow\": false, \"text\": \"R<sup>2</sup> values and tissue types\", \"x\": 0.5, \"xanchor\": \"center\", \"xref\": \"paper\", \"y\": 0.19999999999999998, \"yanchor\": \"bottom\", \"yref\": \"paper\"}, {\"font\": {\"size\": 16}, \"showarrow\": false, \"text\": \"R<sup>2</sup>\", \"textangle\": -90, \"x\": 0, \"xanchor\": \"right\", \"xref\": \"paper\", \"xshift\": -40, \"y\": 0.5, \"yanchor\": \"middle\", \"yref\": \"paper\"}, {\"font\": {\"color\": \"gray\", \"size\": 8}, \"showarrow\": false, \"text\": \"<a href=\\\"https://neurolibre.com\\\" target=\\\"_blank\\\" style=\\\"color:gray!important\\\">NeuroLibre</a>\", \"x\": 1, \"xref\": \"paper\", \"y\": -0.149, \"yref\": \"paper\"}], \"height\": 1000, \"images\": [{\"opacity\": 0.9, \"sizex\": 0.03, \"sizey\": 0.03, \"source\": \"https://raw.githubusercontent.com/notebook-factory/brand/main/nlibre_custom2.svg\", \"x\": 0.875, \"xref\": \"paper\", \"y\": -0.124, \"yref\": \"paper\"}], \"margin\": {\"l\": 0}, \"showlegend\": false, \"template\": {\"data\": {\"bar\": [{\"error_x\": {\"color\": \"#2a3f5f\"}, \"error_y\": {\"color\": \"#2a3f5f\"}, \"marker\": {\"line\": {\"color\": \"#E5ECF6\", \"width\": 0.5}}, \"type\": \"bar\"}], \"barpolar\": [{\"marker\": {\"line\": {\"color\": \"#E5ECF6\", \"width\": 0.5}}, \"type\": \"barpolar\"}], \"carpet\": [{\"aaxis\": {\"endlinecolor\": \"#2a3f5f\", \"gridcolor\": \"white\", \"linecolor\": \"white\", \"minorgridcolor\": \"white\", \"startlinecolor\": \"#2a3f5f\"}, \"baxis\": {\"endlinecolor\": \"#2a3f5f\", \"gridcolor\": \"white\", \"linecolor\": \"white\", \"minorgridcolor\": \"white\", \"startlinecolor\": \"#2a3f5f\"}, \"type\": \"carpet\"}], \"choropleth\": [{\"colorbar\": {\"outlinewidth\": 0, \"ticks\": \"\"}, \"type\": \"choropleth\"}], \"contour\": [{\"colorbar\": {\"outlinewidth\": 0, \"ticks\": \"\"}, \"colorscale\": [[0.0, \"#0d0887\"], [0.1111111111111111, \"#46039f\"], [0.2222222222222222, \"#7201a8\"], [0.3333333333333333, \"#9c179e\"], [0.4444444444444444, \"#bd3786\"], [0.5555555555555556, \"#d8576b\"], [0.6666666666666666, \"#ed7953\"], [0.7777777777777778, \"#fb9f3a\"], [0.8888888888888888, \"#fdca26\"], [1.0, \"#f0f921\"]], \"type\": \"contour\"}], \"contourcarpet\": [{\"colorbar\": {\"outlinewidth\": 0, \"ticks\": \"\"}, \"type\": \"contourcarpet\"}], \"heatmap\": [{\"colorbar\": {\"outlinewidth\": 0, \"ticks\": \"\"}, \"colorscale\": [[0.0, \"#0d0887\"], [0.1111111111111111, \"#46039f\"], [0.2222222222222222, \"#7201a8\"], [0.3333333333333333, \"#9c179e\"], [0.4444444444444444, \"#bd3786\"], [0.5555555555555556, \"#d8576b\"], [0.6666666666666666, \"#ed7953\"], [0.7777777777777778, \"#fb9f3a\"], [0.8888888888888888, \"#fdca26\"], [1.0, \"#f0f921\"]], \"type\": \"heatmap\"}], \"heatmapgl\": [{\"colorbar\": {\"outlinewidth\": 0, \"ticks\": \"\"}, \"colorscale\": [[0.0, \"#0d0887\"], [0.1111111111111111, \"#46039f\"], [0.2222222222222222, \"#7201a8\"], [0.3333333333333333, \"#9c179e\"], [0.4444444444444444, \"#bd3786\"], [0.5555555555555556, \"#d8576b\"], [0.6666666666666666, \"#ed7953\"], [0.7777777777777778, \"#fb9f3a\"], [0.8888888888888888, \"#fdca26\"], [1.0, \"#f0f921\"]], \"type\": \"heatmapgl\"}], \"histogram\": [{\"marker\": {\"colorbar\": {\"outlinewidth\": 0, \"ticks\": \"\"}}, \"type\": \"histogram\"}], \"histogram2d\": [{\"colorbar\": {\"outlinewidth\": 0, \"ticks\": \"\"}, \"colorscale\": [[0.0, \"#0d0887\"], [0.1111111111111111, \"#46039f\"], [0.2222222222222222, \"#7201a8\"], [0.3333333333333333, \"#9c179e\"], [0.4444444444444444, \"#bd3786\"], [0.5555555555555556, \"#d8576b\"], [0.6666666666666666, \"#ed7953\"], [0.7777777777777778, \"#fb9f3a\"], [0.8888888888888888, \"#fdca26\"], [1.0, \"#f0f921\"]], \"type\": \"histogram2d\"}], \"histogram2dcontour\": [{\"colorbar\": {\"outlinewidth\": 0, \"ticks\": \"\"}, \"colorscale\": [[0.0, \"#0d0887\"], [0.1111111111111111, \"#46039f\"], [0.2222222222222222, \"#7201a8\"], [0.3333333333333333, \"#9c179e\"], [0.4444444444444444, \"#bd3786\"], [0.5555555555555556, \"#d8576b\"], [0.6666666666666666, \"#ed7953\"], [0.7777777777777778, \"#fb9f3a\"], [0.8888888888888888, \"#fdca26\"], [1.0, \"#f0f921\"]], \"type\": \"histogram2dcontour\"}], \"mesh3d\": [{\"colorbar\": {\"outlinewidth\": 0, \"ticks\": \"\"}, \"type\": \"mesh3d\"}], \"parcoords\": [{\"line\": {\"colorbar\": {\"outlinewidth\": 0, \"ticks\": \"\"}}, \"type\": \"parcoords\"}], \"pie\": [{\"automargin\": true, \"type\": \"pie\"}], \"scatter\": [{\"marker\": {\"colorbar\": {\"outlinewidth\": 0, \"ticks\": \"\"}}, \"type\": \"scatter\"}], \"scatter3d\": [{\"line\": {\"colorbar\": {\"outlinewidth\": 0, \"ticks\": \"\"}}, \"marker\": {\"colorbar\": {\"outlinewidth\": 0, \"ticks\": \"\"}}, \"type\": \"scatter3d\"}], \"scattercarpet\": [{\"marker\": {\"colorbar\": {\"outlinewidth\": 0, \"ticks\": \"\"}}, \"type\": \"scattercarpet\"}], \"scattergeo\": [{\"marker\": {\"colorbar\": {\"outlinewidth\": 0, \"ticks\": \"\"}}, \"type\": \"scattergeo\"}], \"scattergl\": [{\"marker\": {\"colorbar\": {\"outlinewidth\": 0, \"ticks\": \"\"}}, \"type\": \"scattergl\"}], \"scattermapbox\": [{\"marker\": {\"colorbar\": {\"outlinewidth\": 0, \"ticks\": \"\"}}, \"type\": \"scattermapbox\"}], \"scatterpolar\": [{\"marker\": {\"colorbar\": {\"outlinewidth\": 0, \"ticks\": \"\"}}, \"type\": \"scatterpolar\"}], \"scatterpolargl\": [{\"marker\": {\"colorbar\": {\"outlinewidth\": 0, \"ticks\": \"\"}}, \"type\": \"scatterpolargl\"}], \"scatterternary\": [{\"marker\": {\"colorbar\": {\"outlinewidth\": 0, \"ticks\": \"\"}}, \"type\": \"scatterternary\"}], \"surface\": [{\"colorbar\": {\"outlinewidth\": 0, \"ticks\": \"\"}, \"colorscale\": [[0.0, \"#0d0887\"], [0.1111111111111111, \"#46039f\"], [0.2222222222222222, \"#7201a8\"], [0.3333333333333333, \"#9c179e\"], [0.4444444444444444, \"#bd3786\"], [0.5555555555555556, \"#d8576b\"], [0.6666666666666666, \"#ed7953\"], [0.7777777777777778, \"#fb9f3a\"], [0.8888888888888888, \"#fdca26\"], [1.0, \"#f0f921\"]], \"type\": \"surface\"}], \"table\": [{\"cells\": {\"fill\": {\"color\": \"#EBF0F8\"}, \"line\": {\"color\": \"white\"}}, \"header\": {\"fill\": {\"color\": \"#C8D4E3\"}, \"line\": {\"color\": \"white\"}}, \"type\": \"table\"}]}, \"layout\": {\"annotationdefaults\": {\"arrowcolor\": \"#2a3f5f\", \"arrowhead\": 0, \"arrowwidth\": 1}, \"coloraxis\": {\"colorbar\": {\"outlinewidth\": 0, \"ticks\": \"\"}}, \"colorscale\": {\"diverging\": [[0, \"#8e0152\"], [0.1, \"#c51b7d\"], [0.2, \"#de77ae\"], [0.3, \"#f1b6da\"], [0.4, \"#fde0ef\"], [0.5, \"#f7f7f7\"], [0.6, \"#e6f5d0\"], [0.7, \"#b8e186\"], [0.8, \"#7fbc41\"], [0.9, \"#4d9221\"], [1, \"#276419\"]], \"sequential\": [[0.0, \"#0d0887\"], [0.1111111111111111, \"#46039f\"], [0.2222222222222222, \"#7201a8\"], [0.3333333333333333, \"#9c179e\"], [0.4444444444444444, \"#bd3786\"], [0.5555555555555556, \"#d8576b\"], [0.6666666666666666, \"#ed7953\"], [0.7777777777777778, \"#fb9f3a\"], [0.8888888888888888, \"#fdca26\"], [1.0, \"#f0f921\"]], \"sequentialminus\": [[0.0, \"#0d0887\"], [0.1111111111111111, \"#46039f\"], [0.2222222222222222, \"#7201a8\"], [0.3333333333333333, \"#9c179e\"], [0.4444444444444444, \"#bd3786\"], [0.5555555555555556, \"#d8576b\"], [0.6666666666666666, \"#ed7953\"], [0.7777777777777778, \"#fb9f3a\"], [0.8888888888888888, \"#fdca26\"], [1.0, \"#f0f921\"]]}, \"colorway\": [\"#636efa\", \"#EF553B\", \"#00cc96\", \"#ab63fa\", \"#FFA15A\", \"#19d3f3\", \"#FF6692\", \"#B6E880\", \"#FF97FF\", \"#FECB52\"], \"font\": {\"color\": \"#2a3f5f\"}, \"geo\": {\"bgcolor\": \"white\", \"lakecolor\": \"white\", \"landcolor\": \"#E5ECF6\", \"showlakes\": true, \"showland\": true, \"subunitcolor\": \"white\"}, \"hoverlabel\": {\"align\": \"left\"}, \"hovermode\": \"closest\", \"mapbox\": {\"style\": \"light\"}, \"paper_bgcolor\": \"white\", \"plot_bgcolor\": \"#E5ECF6\", \"polar\": {\"angularaxis\": {\"gridcolor\": \"white\", \"linecolor\": \"white\", \"ticks\": \"\"}, \"bgcolor\": \"#E5ECF6\", \"radialaxis\": {\"gridcolor\": \"white\", \"linecolor\": \"white\", \"ticks\": \"\"}}, \"scene\": {\"xaxis\": {\"backgroundcolor\": \"#E5ECF6\", \"gridcolor\": \"white\", \"gridwidth\": 2, \"linecolor\": \"white\", \"showbackground\": true, \"ticks\": \"\", \"zerolinecolor\": \"white\"}, \"yaxis\": {\"backgroundcolor\": \"#E5ECF6\", \"gridcolor\": \"white\", \"gridwidth\": 2, \"linecolor\": \"white\", \"showbackground\": true, \"ticks\": \"\", \"zerolinecolor\": \"white\"}, \"zaxis\": {\"backgroundcolor\": \"#E5ECF6\", \"gridcolor\": \"white\", \"gridwidth\": 2, \"linecolor\": \"white\", \"showbackground\": true, \"ticks\": \"\", \"zerolinecolor\": \"white\"}}, \"shapedefaults\": {\"line\": {\"color\": \"#2a3f5f\"}}, \"ternary\": {\"aaxis\": {\"gridcolor\": \"white\", \"linecolor\": \"white\", \"ticks\": \"\"}, \"baxis\": {\"gridcolor\": \"white\", \"linecolor\": \"white\", \"ticks\": \"\"}, \"bgcolor\": \"#E5ECF6\", \"caxis\": {\"gridcolor\": \"white\", \"linecolor\": \"white\", \"ticks\": \"\"}}, \"title\": {\"x\": 0.05}, \"xaxis\": {\"automargin\": true, \"gridcolor\": \"white\", \"linecolor\": \"white\", \"ticks\": \"\", \"title\": {\"standoff\": 15}, \"zerolinecolor\": \"white\", \"zerolinewidth\": 2}, \"yaxis\": {\"automargin\": true, \"gridcolor\": \"white\", \"linecolor\": \"white\", \"ticks\": \"\", \"title\": {\"standoff\": 15}, \"zerolinecolor\": \"white\", \"zerolinewidth\": 2}}}, \"title\": {\"text\": \"Figure 7: Experimental conditions and methodological choices influencing the R<sup>2</sup> values\", \"x\": 0}, \"width\": 600, \"xaxis\": {\"anchor\": \"y\", \"domain\": [0.0, 1.0], \"tickfont\": {\"size\": 10}}, \"xaxis2\": {\"anchor\": \"y2\", \"domain\": [0.0, 1.0], \"tickfont\": {\"size\": 10}}, \"xaxis3\": {\"anchor\": \"y3\", \"domain\": [0.0, 1.0], \"tickfont\": {\"size\": 10}}, \"yaxis\": {\"anchor\": \"x\", \"domain\": [0.8, 1.0]}, \"yaxis2\": {\"anchor\": \"x2\", \"domain\": [0.4, 0.6]}, \"yaxis3\": {\"anchor\": \"x3\", \"domain\": [0.0, 0.19999999999999998]}},\n                        {\"responsive\": true}\n                    ).then(function(){\n                            \nvar gd = document.getElementById('1d68d23e-67a2-4b6a-84d3-d04a9582b92c');\nvar x = new MutationObserver(function (mutations, observer) {{\n        var display = window.getComputedStyle(gd).display;\n        if (!display || display === 'none') {{\n            console.log([gd, 'removed!']);\n            Plotly.purge(gd);\n            observer.disconnect();\n        }}\n}});\n\n// Listen for the removal of the full notebook cells\nvar notebookContainer = gd.closest('#notebook-container');\nif (notebookContainer) {{\n    x.observe(notebookContainer, {childList: true});\n}}\n\n// Listen for the clearing of the current output cell\nvar outputEl = gd.closest('.output');\nif (outputEl) {{\n    x.observe(outputEl, {childList: true});\n}}\n\n                        })\n                };\n                });\n            </script>\n        </div>"
     },
     "metadata": {},
     "output_type": "display_data"
    }
   ],
   "source": [
    "config={'showLink': False, 'displayModeBar': False}\n",
    "\n",
    "metafor = importr('metafor')\n",
    "stats = importr('stats')\n",
    "\n",
    "filtered_df = pd.read_pickle(\"filtered_df.pkl\")\n",
    "\n",
    "filtered_df['Variance'] = (4*filtered_df['R^2'])*((1-filtered_df['R^2'])**2)/filtered_df['Sample points']\n",
    "\n",
    "structures={'Lesions':'Lesions',\n",
    "            'Substantia nigra':'Deep grey matter',\n",
    "            'Hippocampal commissure':'White matter',\n",
    "            'Putamen':'Deep grey matter',\n",
    "            'Motor cortex':'Grey matter',\n",
    "            'Globus pallidus':'Deep grey matter',\n",
    "            'Perforant pathway':'White matter',\n",
    "            'Mammilothalamic tract':'White matter',\n",
    "            'External capsule':'White matter',\n",
    "            'Inter-peduncular nuclues':'Deep grey matter',\n",
    "            'Hippocampus':'Deep grey matter',\n",
    "            'Thalamic nuclei':'Deep grey matter',\n",
    "            'Thalamus':'Deep grey matter',\n",
    "            'Cerebellum':'Grey matter',\n",
    "            'Amygdala':'Deep grey matter',\n",
    "            'Cingulum':'White matter',\n",
    "            'Striatum':'Deep grey matter',\n",
    "            'Accumbens':'Deep grey matter',\n",
    "            'Basal ganglia':'Deep grey matter',\n",
    "            'Anterior commissure':'White matter',\n",
    "            'Cortex':'Grey matter',\n",
    "            'Fimbria':'White matter',\n",
    "            'Somatosensory cortex':'Grey matter',\n",
    "            'Dorsal tegmental tract':'White matter',\n",
    "            'Superior colliculus':'Deep grey matter',\n",
    "            'Fasciculus retroflexus':'White matter',\n",
    "            'Optic nerve':'White matter',\n",
    "            'Dentate gyrus':'Grey matter',\n",
    "            'Corpus callosum':'White matter',\n",
    "            'Fornix':'White matter',\n",
    "            'White matter':'White matter',\n",
    "            'Grey matter':'Grey matter',\n",
    "            'Optic tract':'White matter',\n",
    "            'Internal capsule':'White matter',\n",
    "            'Stria medullaris':'White matter'}\n",
    "\n",
    "\n",
    "tissue_types=[]\n",
    "for s in filtered_df['Specific structure(s)']:\n",
    "    t_list=[]\n",
    "    for i in s.split(','):\n",
    "        t_list.append(structures[i.strip()])\n",
    "    tissue_types.append('+'.join(list(set(t_list))))\n",
    "\n",
    "filtered_df['Tissue types']=tissue_types\n",
    "\n",
    "fig7 = make_subplots(rows=3, cols=1, start_cell=\"top-left\", vertical_spacing=0.2, y_title='R<sup>2</sup>',\n",
    "                     subplot_titles=['R<sup>2</sup> values and reference techniques',\n",
    "                                     'R<sup>2</sup> values and pathology',\n",
    "                                     'R<sup>2</sup> values and tissue types'])\n",
    "\n",
    "references = ['Histology', 'Immunohistochemistry', 'Microscopy', 'EM']\n",
    "\n",
    "for r in references:\n",
    "    df_r=filtered_df[filtered_df['Histology/microscopy measure'].str.contains(r)]\n",
    "    fig7.add_trace(go.Box(\n",
    "        y=df_r['R^2'],\n",
    "        x=df_r['Histology/microscopy measure'],\n",
    "        boxpoints='all',\n",
    "        text=df_r['Measure'] + ' - ' + df_r['Study'],\n",
    "        name=r\n",
    "    ), col=1, row=1)\n",
    "\n",
    "for t in filtered_df['Condition'].unique():\n",
    "    df_t=filtered_df[filtered_df['Condition']==t]\n",
    "    fig7.add_trace(go.Box(\n",
    "        y=df_t['R^2'],\n",
    "        x=df_t['Condition'],\n",
    "        boxpoints='all',\n",
    "        text=df_t['Measure'] + ' - ' + df_t['Study'],\n",
    "        name=t\n",
    "    ), col=1, row=2)\n",
    "\n",
    "for t in filtered_df['Tissue types'].unique():\n",
    "    df_t=filtered_df[filtered_df['Tissue types']==t]\n",
    "    fig7.add_trace(go.Box(\n",
    "        y=df_t['R^2'],\n",
    "        x=df_t['Tissue types'],\n",
    "        boxpoints='all',\n",
    "        text=df_t['Measure'] + ' - ' + df_t['Study'],\n",
    "        name=t\n",
    "    ), col=1, row=3)\n",
    "\n",
    "fig7.update_layout(\n",
    "    title=dict(\n",
    "        text='Figure 7: Experimental conditions and methodological choices influencing the R<sup>2</sup> values',\n",
    "        x=0),\n",
    "    margin=dict(l=0),\n",
    "    showlegend=False,\n",
    "    height=1000,\n",
    "    width=600\n",
    ")\n",
    "\n",
    "fig7.update_xaxes(tickfont=dict(size=10))\n",
    "plot(insertLogo(fig7,0.03,0.03,1,-0.149,-0.125,0.025), filename = 'fig7.html',config = config)\n",
    "# display(HTML('fig7.html'))\n",
    "\n",
    "# fig7.show()\n",
    "plotly.offline.iplot(fig7, filename=\"Figure 7\")"
   ],
   "metadata": {
    "collapsed": false,
    "pycharm": {
     "name": "#%%\n"
    }
   }
  },
  {
   "cell_type": "markdown",
   "source": [
    "\n",
    "```{admonition} Figure 8\n",
    ":class: tip\n",
    "Other potential confounders include magnetic field strength, tissue conditions, co-registration and tissue type. You can mouse over markers in each panel to see the corresponding studies.\n",
    "```\n",
    "\n",
    "### Figure 8"
   ],
   "metadata": {
    "collapsed": false
   }
  },
  {
   "cell_type": "code",
   "execution_count": 20,
   "outputs": [
    {
     "data": {
      "application/vnd.plotly.v1+json": {
       "config": {
        "linkText": "Export to plot.ly",
        "plotlyServerURL": "https://plot.ly",
        "showLink": false
       },
       "data": [
        {
         "marker": {
          "color": "rgb(127, 60, 141)"
         },
         "mode": "markers",
         "name": "Diffusion",
         "text": [
          "RD - Abe et al., 2019",
          "AD - Abe et al., 2019",
          "FA - Abe et al., 2019",
          "AD - Aojula et al., 2016",
          "RD - Aojula et al., 2016",
          "MD - Aojula et al., 2016",
          "FA - Aojula et al., 2016",
          "FA - Chandran et al., 2012",
          "RD - Chandran et al., 2012",
          "FA - Chang et al., 2017",
          "MD - Chang et al., 2017",
          "RD - Chang et al., 2017",
          "AD - Chang et al., 2017",
          "RD - Janve et al., 2013",
          "AD - Janve et al., 2013",
          "MD - Janve et al., 2013",
          "FA - Janve et al., 2013",
          "AWF - Jelescu et al., 2016",
          "RK - Jelescu et al., 2016",
          "RDe - Jelescu et al., 2016",
          "RD - Jelescu et al., 2016",
          "FA - Jito et al., 2008",
          "AWF - Kelm et al., 2016",
          "RK - Kelm et al., 2016",
          "RD - Kelm et al., 2016",
          "MK - Kelm et al., 2016",
          "MD - Kelm et al., 2016",
          "RD - Lehto et al., 2017a",
          "AD - Lehto et al., 2017a",
          "FA - Lehto et al., 2017a",
          "MD - Lehto et al., 2017a",
          "FA - Mollink et al., 2019",
          "FA - Pol et al., 2019",
          "MD - Pol et al., 2019",
          "FA - Schmierer et al., 2007b",
          "MD - Schmierer et al., 2007b",
          "RD - Schmierer et al., 2008",
          "AD - Schmierer et al., 2008",
          "MD - Schmierer et al., 2008",
          "FA - Schmierer et al., 2008",
          "RD - Soustelle et al., 2019",
          "MD - Thiessen et al., 2013",
          "AD - Thiessen et al., 2013",
          "FA - Thiessen et al., 2013",
          "RD - Thiessen et al., 2013",
          "AD - Tu et al., 2016",
          "MD - Tu et al., 2016",
          "RD - Tu et al., 2016",
          "FA - Tu et al., 2016",
          "FA - Wang et al., 2009",
          "RD - Wang et al., 2009",
          "MD - Wendel et al., 2018",
          "AD - Wendel et al., 2018",
          "FA - Wendel et al., 2018",
          "RD - Wendel et al., 2018",
          "FA - Yano et al., 2018",
          "RD - Yano et al., 2018",
          "MD - Yano et al., 2018",
          "FA - van Tilborg et al., 2017"
         ],
         "type": "scatter",
         "x": [
          7.0,
          7.0,
          7.0,
          7.0,
          7.0,
          7.0,
          7.0,
          7.0,
          7.0,
          11.7,
          11.7,
          11.7,
          11.7,
          9.4,
          9.4,
          9.4,
          9.4,
          7.0,
          7.0,
          7.0,
          7.0,
          7.0,
          15.2,
          15.2,
          15.2,
          15.2,
          15.2,
          7.0,
          7.0,
          7.0,
          7.0,
          11.7,
          9.4,
          9.4,
          1.5,
          1.5,
          1.5,
          1.5,
          1.5,
          1.5,
          7.0,
          7.0,
          7.0,
          7.0,
          7.0,
          7.0,
          7.0,
          7.0,
          7.0,
          7.0,
          7.0,
          9.4,
          9.4,
          9.4,
          9.4,
          7.0,
          7.0,
          7.0,
          9.4
         ],
         "xaxis": "x",
         "y": [
          0.1681,
          0.0121,
          0.1024,
          0.1296,
          0.2097,
          0.245,
          0.1197,
          0.5,
          0.34,
          0.1989,
          0.0129,
          0.038,
          0.1482,
          0.2401,
          0.0064,
          0.0784,
          0.0729,
          0.3025,
          0.0196,
          0.25,
          0.5041,
          0.7327,
          0.3364,
          0.2401,
          0.1369,
          0.2304,
          0.1225,
          0.0015,
          0.4199,
          0.2237,
          0.3492,
          0.2704,
          0.0576,
          0.3481,
          0.6241000000000001,
          0.4624000000000001,
          0.6561,
          0.64,
          0.6084,
          0.6889,
          0.49,
          0.6561,
          0.5625,
          0.7056,
          0.7569,
          1.0E-4,
          0.0289,
          0.2116,
          0.0169,
          0.4637,
          0.2787,
          0.0564,
          0.1987,
          0.5707,
          0.2973,
          0.7569,
          0.8281,
          0.5329,
          0.334
         ],
         "yaxis": "y"
        },
        {
         "marker": {
          "color": "rgb(17, 165, 121)"
         },
         "mode": "markers",
         "name": "Magnetization transfer",
         "text": [
          "MTR - Beckmann et al., 2018",
          "MTR - Duhamel et al., 2019",
          "ihMTR - Duhamel et al., 2019",
          "MTR - Fatemi et al., 2011",
          "MTR - Fjaer et al., 2013",
          "MTR - Fjaer et al., 2015",
          "MTR - Guglielmetti et al., 2020",
          "MTR-UTE - Guglielmetti et al., 2020",
          "MTR - Hakkarainen et al., 2016",
          "k_mf - Janve et al., 2013",
          "MPF - Janve et al., 2013",
          "R1f - Janve et al., 2013",
          "MTR - Jelescu et al., 2016",
          "MPF - Khodanovic et al., 2017",
          "MPF - Khodanovic et al., 2019",
          "MTR - Lehto et al., 2017a",
          "MTR - Lehto et al., 2017b",
          "MTR - Schmierer et al., 2004",
          "T2m - Schmierer et al., 2007a",
          "MPF - Schmierer et al., 2007a",
          "MTR - Schmierer et al., 2007a",
          "MPF - Schmierer et al., 2008",
          "MTR - Schmierer et al., 2008",
          "MPF - Soustelle et al., 2019",
          "MTR - Tardif et al., 2012",
          "T2f - Thiessen et al., 2013",
          "T2m - Thiessen et al., 2013",
          "k_fm - Thiessen et al., 2013",
          "R1f - Thiessen et al., 2013",
          "k_mf - Thiessen et al., 2013",
          "MPF - Thiessen et al., 2013",
          "MTR - Tu et al., 2016",
          "MPF - Turati et al., 2015",
          "MPF - Underhill et al., 2011",
          "MPF - West et al., 2018",
          "MVF-MT - West et al., 2018",
          "MTR - Zaaraoui et al., 2008"
         ],
         "type": "scatter",
         "x": [
          7.0,
          11.75,
          11.75,
          9.4,
          7.0,
          7.0,
          7.0,
          7.0,
          9.4,
          9.4,
          9.4,
          9.4,
          7.0,
          11.7,
          11.7,
          7.0,
          9.4,
          1.5,
          1.5,
          1.5,
          1.5,
          1.5,
          1.5,
          7.0,
          3.0,
          7.0,
          7.0,
          7.0,
          7.0,
          7.0,
          7.0,
          7.0,
          7.0,
          3.0,
          15.2,
          15.2,
          9.4
         ],
         "xaxis": "x",
         "y": [
          0.7668,
          0.78,
          0.96,
          0.695,
          0.338,
          0.01,
          0.46,
          0.76,
          0.34,
          0.0256,
          0.7225,
          0.0961,
          0.1024,
          0.779,
          0.82,
          0.5169,
          0.94,
          0.7055999999999999,
          1.0E-4,
          0.6400000000000001,
          0.7055999999999999,
          0.7396,
          0.4624,
          0.7569,
          0.36,
          0.36,
          0.1521,
          0.1089,
          0.4356,
          0.6724,
          0.8649,
          0.1444,
          0.2872,
          0.9801,
          0.7,
          0.7,
          0.6241000000000001
         ],
         "yaxis": "y"
        },
        {
         "marker": {
          "color": "rgb(57, 105, 172)"
         },
         "mode": "markers",
         "name": "T1 relaxometry",
         "text": [
          "T1 - Hakkarainen et al., 2016",
          "T1 - Hametner et al., 2018",
          "T1 - Reeves et al., 2016",
          "T1 - Schmierer et al., 2004",
          "T1 - Schmierer et al., 2007a",
          "T1 - Schmierer et al., 2008",
          "T1 - Tardif et al., 2012",
          "T1 - Thiessen et al., 2013"
         ],
         "type": "scatter",
         "x": [
          9.4,
          7.0,
          9.4,
          1.5,
          1.5,
          1.5,
          3.0,
          7.0
         ],
         "xaxis": "x",
         "y": [
          0.77,
          0.3398,
          0.27,
          0.48999999999999994,
          0.4760999999999999,
          0.7921,
          0.5929,
          0.4356
         ],
         "yaxis": "y"
        },
        {
         "marker": {
          "color": "rgb(242, 183, 1)"
         },
         "mode": "markers",
         "name": "T2 relaxometry",
         "text": [
          "T2 - Hakkarainen et al., 2016",
          "T2 - Jelescu et al., 2016",
          "MWF - Laule et al., 2006",
          "MWF - Laule et al., 2008",
          "T2 - Reeves et al., 2016",
          "T2 - Schmierer et al., 2008",
          "MWF - Soustelle et al., 2019",
          "T2 - Tardif et al., 2012",
          "T2 - Thiessen et al., 2013",
          "MVF-T2 - West et al., 2018",
          "MWF - West et al., 2018",
          "T2 - Wu et al., 2008"
         ],
         "type": "scatter",
         "x": [
          9.4,
          7.0,
          1.5,
          7.0,
          9.4,
          1.5,
          7.0,
          3.0,
          7.0,
          15.2,
          15.2,
          4.7
         ],
         "xaxis": "x",
         "y": [
          0.18,
          0.4096,
          0.67,
          0.78,
          0.235,
          0.8464,
          0.4624,
          0.4225,
          0.0676,
          0.68,
          0.66,
          0.5184
         ],
         "yaxis": "y"
        },
        {
         "marker": {
          "color": "rgb(231, 63, 116)"
         },
         "mode": "markers",
         "name": "Other",
         "text": [
          "MTV - Berman et al., 2018",
          "T2p - Hakkarainen et al., 2016",
          "RAFF - Hakkarainen et al., 2016",
          "T1p - Hakkarainen et al., 2016",
          "QSM - Hametner et al., 2018",
          "R2* - Hametner et al., 2018",
          "RAFF - Lehto et al., 2017a",
          "T1sat - Lehto et al., 2017a",
          "QSM - Pol et al., 2019",
          "rSPF - Soustelle et al., 2019",
          "PD - Tardif et al., 2012"
         ],
         "type": "scatter",
         "x": [
          15.2,
          9.4,
          9.4,
          9.4,
          7.0,
          7.0,
          7.0,
          7.0,
          9.4,
          7.0,
          3.0
         ],
         "xaxis": "x",
         "y": [
          0.74,
          0.34,
          0.84,
          0.63,
          0.1239,
          7.0E-4,
          0.552,
          0.49,
          0.0361,
          0.7396,
          0.3481
         ],
         "yaxis": "y"
        },
        {
         "boxpoints": "all",
         "name": "Ex vivo - Fixed",
         "text": [
          "RD - Abe et al., 2019",
          "AD - Abe et al., 2019",
          "FA - Abe et al., 2019",
          "MTV - Berman et al., 2018",
          "FA - Chang et al., 2017",
          "MD - Chang et al., 2017",
          "RD - Chang et al., 2017",
          "AD - Chang et al., 2017",
          "T1 - Hakkarainen et al., 2016",
          "T2p - Hakkarainen et al., 2016",
          "RAFF - Hakkarainen et al., 2016",
          "T1p - Hakkarainen et al., 2016",
          "MTR - Hakkarainen et al., 2016",
          "T2 - Hakkarainen et al., 2016",
          "k_mf - Janve et al., 2013",
          "MPF - Janve et al., 2013",
          "RD - Janve et al., 2013",
          "R1f - Janve et al., 2013",
          "AD - Janve et al., 2013",
          "MD - Janve et al., 2013",
          "FA - Janve et al., 2013",
          "AWF - Kelm et al., 2016",
          "RK - Kelm et al., 2016",
          "RD - Kelm et al., 2016",
          "MK - Kelm et al., 2016",
          "MD - Kelm et al., 2016",
          "MWF - Laule et al., 2006",
          "MWF - Laule et al., 2008",
          "FA - Mollink et al., 2019",
          "T1 - Reeves et al., 2016",
          "T2 - Reeves et al., 2016",
          "RD - Schmierer et al., 2008",
          "AD - Schmierer et al., 2008",
          "MD - Schmierer et al., 2008",
          "T1 - Schmierer et al., 2008",
          "T2 - Schmierer et al., 2008",
          "FA - Schmierer et al., 2008",
          "MPF - Schmierer et al., 2008",
          "MTR - Schmierer et al., 2008",
          "PD - Tardif et al., 2012",
          "MTR - Tardif et al., 2012",
          "T2 - Tardif et al., 2012",
          "T1 - Tardif et al., 2012",
          "MD - Wendel et al., 2018",
          "AD - Wendel et al., 2018",
          "FA - Wendel et al., 2018",
          "RD - Wendel et al., 2018",
          "MPF - West et al., 2018",
          "MVF-MT - West et al., 2018",
          "MVF-T2 - West et al., 2018",
          "MWF - West et al., 2018",
          "FA - Yano et al., 2018",
          "RD - Yano et al., 2018",
          "MD - Yano et al., 2018",
          "FA - van Tilborg et al., 2017"
         ],
         "type": "box",
         "x": [
          "Ex vivo - Fixed",
          "Ex vivo - Fixed",
          "Ex vivo - Fixed",
          "Ex vivo - Fixed",
          "Ex vivo - Fixed",
          "Ex vivo - Fixed",
          "Ex vivo - Fixed",
          "Ex vivo - Fixed",
          "Ex vivo - Fixed",
          "Ex vivo - Fixed",
          "Ex vivo - Fixed",
          "Ex vivo - Fixed",
          "Ex vivo - Fixed",
          "Ex vivo - Fixed",
          "Ex vivo - Fixed",
          "Ex vivo - Fixed",
          "Ex vivo - Fixed",
          "Ex vivo - Fixed",
          "Ex vivo - Fixed",
          "Ex vivo - Fixed",
          "Ex vivo - Fixed",
          "Ex vivo - Fixed",
          "Ex vivo - Fixed",
          "Ex vivo - Fixed",
          "Ex vivo - Fixed",
          "Ex vivo - Fixed",
          "Ex vivo - Fixed",
          "Ex vivo - Fixed",
          "Ex vivo - Fixed",
          "Ex vivo - Fixed",
          "Ex vivo - Fixed",
          "Ex vivo - Fixed",
          "Ex vivo - Fixed",
          "Ex vivo - Fixed",
          "Ex vivo - Fixed",
          "Ex vivo - Fixed",
          "Ex vivo - Fixed",
          "Ex vivo - Fixed",
          "Ex vivo - Fixed",
          "Ex vivo - Fixed",
          "Ex vivo - Fixed",
          "Ex vivo - Fixed",
          "Ex vivo - Fixed",
          "Ex vivo - Fixed",
          "Ex vivo - Fixed",
          "Ex vivo - Fixed",
          "Ex vivo - Fixed",
          "Ex vivo - Fixed",
          "Ex vivo - Fixed",
          "Ex vivo - Fixed",
          "Ex vivo - Fixed",
          "Ex vivo - Fixed",
          "Ex vivo - Fixed",
          "Ex vivo - Fixed",
          "Ex vivo - Fixed"
         ],
         "xaxis": "x2",
         "y": [
          0.1681,
          0.0121,
          0.1024,
          0.74,
          0.1989,
          0.0129,
          0.038,
          0.1482,
          0.77,
          0.34,
          0.84,
          0.63,
          0.34,
          0.18,
          0.0256,
          0.7225,
          0.2401,
          0.0961,
          0.0064,
          0.0784,
          0.0729,
          0.3364,
          0.2401,
          0.1369,
          0.2304,
          0.1225,
          0.67,
          0.78,
          0.2704,
          0.27,
          0.235,
          0.6561,
          0.64,
          0.6084,
          0.7921,
          0.8464,
          0.6889,
          0.7396,
          0.4624,
          0.3481,
          0.36,
          0.4225,
          0.5929,
          0.0564,
          0.1987,
          0.5707,
          0.2973,
          0.7,
          0.7,
          0.68,
          0.66,
          0.7569,
          0.8281,
          0.5329,
          0.334
         ],
         "yaxis": "y2"
        },
        {
         "boxpoints": "all",
         "name": "In vivo",
         "text": [
          "AD - Aojula et al., 2016",
          "RD - Aojula et al., 2016",
          "MD - Aojula et al., 2016",
          "FA - Aojula et al., 2016",
          "MTR - Beckmann et al., 2018",
          "FA - Chandran et al., 2012",
          "RD - Chandran et al., 2012",
          "MTR - Duhamel et al., 2019",
          "ihMTR - Duhamel et al., 2019",
          "MTR - Fatemi et al., 2011",
          "MTR - Fjaer et al., 2013",
          "MTR - Fjaer et al., 2015",
          "MTR - Guglielmetti et al., 2020",
          "MTR-UTE - Guglielmetti et al., 2020",
          "T2 - Jelescu et al., 2016",
          "MTR - Jelescu et al., 2016",
          "AWF - Jelescu et al., 2016",
          "RK - Jelescu et al., 2016",
          "RDe - Jelescu et al., 2016",
          "RD - Jelescu et al., 2016",
          "FA - Jito et al., 2008",
          "MPF - Khodanovic et al., 2017",
          "MPF - Khodanovic et al., 2019",
          "RD - Lehto et al., 2017a",
          "RAFF - Lehto et al., 2017a",
          "MTR - Lehto et al., 2017a",
          "AD - Lehto et al., 2017a",
          "T1sat - Lehto et al., 2017a",
          "FA - Lehto et al., 2017a",
          "MD - Lehto et al., 2017a",
          "QSM - Pol et al., 2019",
          "FA - Pol et al., 2019",
          "MD - Pol et al., 2019",
          "AD - Tu et al., 2016",
          "MD - Tu et al., 2016",
          "RD - Tu et al., 2016",
          "FA - Tu et al., 2016",
          "MTR - Tu et al., 2016",
          "MPF - Turati et al., 2015",
          "MPF - Underhill et al., 2011",
          "FA - Wang et al., 2009",
          "RD - Wang et al., 2009",
          "T2 - Wu et al., 2008",
          "MTR - Zaaraoui et al., 2008"
         ],
         "type": "box",
         "x": [
          "In vivo",
          "In vivo",
          "In vivo",
          "In vivo",
          "In vivo",
          "In vivo",
          "In vivo",
          "In vivo",
          "In vivo",
          "In vivo",
          "In vivo",
          "In vivo",
          "In vivo",
          "In vivo",
          "In vivo",
          "In vivo",
          "In vivo",
          "In vivo",
          "In vivo",
          "In vivo",
          "In vivo",
          "In vivo",
          "In vivo",
          "In vivo",
          "In vivo",
          "In vivo",
          "In vivo",
          "In vivo",
          "In vivo",
          "In vivo",
          "In vivo",
          "In vivo",
          "In vivo",
          "In vivo",
          "In vivo",
          "In vivo",
          "In vivo",
          "In vivo",
          "In vivo",
          "In vivo",
          "In vivo",
          "In vivo",
          "In vivo",
          "In vivo"
         ],
         "xaxis": "x2",
         "y": [
          0.1296,
          0.2097,
          0.245,
          0.1197,
          0.7668,
          0.5,
          0.34,
          0.78,
          0.96,
          0.695,
          0.338,
          0.01,
          0.46,
          0.76,
          0.4096,
          0.1024,
          0.3025,
          0.0196,
          0.25,
          0.5041,
          0.7327,
          0.779,
          0.82,
          0.0015,
          0.552,
          0.5169,
          0.4199,
          0.49,
          0.2237,
          0.3492,
          0.0361,
          0.0576,
          0.3481,
          1.0E-4,
          0.0289,
          0.2116,
          0.0169,
          0.1444,
          0.2872,
          0.9801,
          0.4637,
          0.2787,
          0.5184,
          0.6241000000000001
         ],
         "yaxis": "y2"
        },
        {
         "boxpoints": "all",
         "name": "In situ",
         "text": [
          "QSM - Hametner et al., 2018",
          "T1 - Hametner et al., 2018",
          "R2* - Hametner et al., 2018",
          "RD - Soustelle et al., 2019",
          "rSPF - Soustelle et al., 2019",
          "MPF - Soustelle et al., 2019",
          "MWF - Soustelle et al., 2019"
         ],
         "type": "box",
         "x": [
          "In situ",
          "In situ",
          "In situ",
          "In situ",
          "In situ",
          "In situ",
          "In situ"
         ],
         "xaxis": "x2",
         "y": [
          0.1239,
          0.3398,
          7.0E-4,
          0.49,
          0.7396,
          0.7569,
          0.4624
         ],
         "yaxis": "y2"
        },
        {
         "boxpoints": "all",
         "name": "Ex vivo - Unfixed",
         "text": [
          "MTR - Lehto et al., 2017b",
          "MTR - Schmierer et al., 2004",
          "T1 - Schmierer et al., 2004",
          "T2m - Schmierer et al., 2007a",
          "T1 - Schmierer et al., 2007a",
          "MPF - Schmierer et al., 2007a",
          "MTR - Schmierer et al., 2007a",
          "FA - Schmierer et al., 2007b",
          "MD - Schmierer et al., 2007b",
          "MD - Thiessen et al., 2013",
          "T1 - Thiessen et al., 2013",
          "T2f - Thiessen et al., 2013",
          "AD - Thiessen et al., 2013",
          "T2m - Thiessen et al., 2013",
          "FA - Thiessen et al., 2013",
          "T2 - Thiessen et al., 2013",
          "k_fm - Thiessen et al., 2013",
          "R1f - Thiessen et al., 2013",
          "k_mf - Thiessen et al., 2013",
          "RD - Thiessen et al., 2013",
          "MPF - Thiessen et al., 2013"
         ],
         "type": "box",
         "x": [
          "Ex vivo - Unfixed",
          "Ex vivo - Unfixed",
          "Ex vivo - Unfixed",
          "Ex vivo - Unfixed",
          "Ex vivo - Unfixed",
          "Ex vivo - Unfixed",
          "Ex vivo - Unfixed",
          "Ex vivo - Unfixed",
          "Ex vivo - Unfixed",
          "Ex vivo - Unfixed",
          "Ex vivo - Unfixed",
          "Ex vivo - Unfixed",
          "Ex vivo - Unfixed",
          "Ex vivo - Unfixed",
          "Ex vivo - Unfixed",
          "Ex vivo - Unfixed",
          "Ex vivo - Unfixed",
          "Ex vivo - Unfixed",
          "Ex vivo - Unfixed",
          "Ex vivo - Unfixed",
          "Ex vivo - Unfixed"
         ],
         "xaxis": "x2",
         "y": [
          0.94,
          0.7055999999999999,
          0.48999999999999994,
          1.0E-4,
          0.4760999999999999,
          0.6400000000000001,
          0.7055999999999999,
          0.6241000000000001,
          0.4624000000000001,
          0.6561,
          0.4356,
          0.36,
          0.5625,
          0.1521,
          0.7056,
          0.0676,
          0.1089,
          0.4356,
          0.6724,
          0.7569,
          0.8649
         ],
         "yaxis": "y2"
        },
        {
         "boxpoints": "all",
         "name": "N",
         "text": [
          "RD - Abe et al., 2019",
          "AD - Abe et al., 2019",
          "FA - Abe et al., 2019",
          "AD - Aojula et al., 2016",
          "RD - Aojula et al., 2016",
          "MD - Aojula et al., 2016",
          "FA - Aojula et al., 2016",
          "MTR - Beckmann et al., 2018",
          "MTV - Berman et al., 2018",
          "FA - Chandran et al., 2012",
          "RD - Chandran et al., 2012",
          "MTR - Duhamel et al., 2019",
          "ihMTR - Duhamel et al., 2019",
          "MTR - Fatemi et al., 2011",
          "MTR - Fjaer et al., 2013",
          "MTR - Fjaer et al., 2015",
          "MTR - Guglielmetti et al., 2020",
          "MTR-UTE - Guglielmetti et al., 2020",
          "T1 - Hakkarainen et al., 2016",
          "T2p - Hakkarainen et al., 2016",
          "RAFF - Hakkarainen et al., 2016",
          "T1p - Hakkarainen et al., 2016",
          "MTR - Hakkarainen et al., 2016",
          "T2 - Hakkarainen et al., 2016",
          "T2 - Jelescu et al., 2016",
          "MTR - Jelescu et al., 2016",
          "AWF - Jelescu et al., 2016",
          "RK - Jelescu et al., 2016",
          "RDe - Jelescu et al., 2016",
          "RD - Jelescu et al., 2016",
          "FA - Jito et al., 2008",
          "AWF - Kelm et al., 2016",
          "RK - Kelm et al., 2016",
          "RD - Kelm et al., 2016",
          "MK - Kelm et al., 2016",
          "MD - Kelm et al., 2016",
          "MPF - Khodanovic et al., 2017",
          "MPF - Khodanovic et al., 2019",
          "RD - Lehto et al., 2017a",
          "RAFF - Lehto et al., 2017a",
          "MTR - Lehto et al., 2017a",
          "AD - Lehto et al., 2017a",
          "T1sat - Lehto et al., 2017a",
          "FA - Lehto et al., 2017a",
          "MD - Lehto et al., 2017a",
          "MTR - Lehto et al., 2017b",
          "FA - Mollink et al., 2019",
          "QSM - Pol et al., 2019",
          "FA - Pol et al., 2019",
          "MD - Pol et al., 2019",
          "T1 - Reeves et al., 2016",
          "T2 - Reeves et al., 2016",
          "RD - Soustelle et al., 2019",
          "rSPF - Soustelle et al., 2019",
          "MPF - Soustelle et al., 2019",
          "MWF - Soustelle et al., 2019",
          "MD - Thiessen et al., 2013",
          "T1 - Thiessen et al., 2013",
          "T2f - Thiessen et al., 2013",
          "AD - Thiessen et al., 2013",
          "T2m - Thiessen et al., 2013",
          "FA - Thiessen et al., 2013",
          "T2 - Thiessen et al., 2013",
          "k_fm - Thiessen et al., 2013",
          "R1f - Thiessen et al., 2013",
          "k_mf - Thiessen et al., 2013",
          "RD - Thiessen et al., 2013",
          "MPF - Thiessen et al., 2013",
          "AD - Tu et al., 2016",
          "MD - Tu et al., 2016",
          "RD - Tu et al., 2016",
          "FA - Tu et al., 2016",
          "MTR - Tu et al., 2016",
          "MPF - Turati et al., 2015",
          "MPF - Underhill et al., 2011",
          "FA - Wang et al., 2009",
          "RD - Wang et al., 2009",
          "MD - Wendel et al., 2018",
          "AD - Wendel et al., 2018",
          "FA - Wendel et al., 2018",
          "RD - Wendel et al., 2018",
          "MPF - West et al., 2018",
          "MVF-MT - West et al., 2018",
          "MVF-T2 - West et al., 2018",
          "MWF - West et al., 2018",
          "T2 - Wu et al., 2008",
          "FA - Yano et al., 2018",
          "RD - Yano et al., 2018",
          "MD - Yano et al., 2018",
          "MTR - Zaaraoui et al., 2008",
          "FA - van Tilborg et al., 2017"
         ],
         "type": "box",
         "x": [
          "N",
          "N",
          "N",
          "N",
          "N",
          "N",
          "N",
          "N",
          "N",
          "N",
          "N",
          "N",
          "N",
          "N",
          "N",
          "N",
          "N",
          "N",
          "N",
          "N",
          "N",
          "N",
          "N",
          "N",
          "N",
          "N",
          "N",
          "N",
          "N",
          "N",
          "N",
          "N",
          "N",
          "N",
          "N",
          "N",
          "N",
          "N",
          "N",
          "N",
          "N",
          "N",
          "N",
          "N",
          "N",
          "N",
          "N",
          "N",
          "N",
          "N",
          "N",
          "N",
          "N",
          "N",
          "N",
          "N",
          "N",
          "N",
          "N",
          "N",
          "N",
          "N",
          "N",
          "N",
          "N",
          "N",
          "N",
          "N",
          "N",
          "N",
          "N",
          "N",
          "N",
          "N",
          "N",
          "N",
          "N",
          "N",
          "N",
          "N",
          "N",
          "N",
          "N",
          "N",
          "N",
          "N",
          "N",
          "N",
          "N",
          "N",
          "N"
         ],
         "xaxis": "x3",
         "y": [
          0.1681,
          0.0121,
          0.1024,
          0.1296,
          0.2097,
          0.245,
          0.1197,
          0.7668,
          0.74,
          0.5,
          0.34,
          0.78,
          0.96,
          0.695,
          0.338,
          0.01,
          0.46,
          0.76,
          0.77,
          0.34,
          0.84,
          0.63,
          0.34,
          0.18,
          0.4096,
          0.1024,
          0.3025,
          0.0196,
          0.25,
          0.5041,
          0.7327,
          0.3364,
          0.2401,
          0.1369,
          0.2304,
          0.1225,
          0.779,
          0.82,
          0.0015,
          0.552,
          0.5169,
          0.4199,
          0.49,
          0.2237,
          0.3492,
          0.94,
          0.2704,
          0.0361,
          0.0576,
          0.3481,
          0.27,
          0.235,
          0.49,
          0.7396,
          0.7569,
          0.4624,
          0.6561,
          0.4356,
          0.36,
          0.5625,
          0.1521,
          0.7056,
          0.0676,
          0.1089,
          0.4356,
          0.6724,
          0.7569,
          0.8649,
          1.0E-4,
          0.0289,
          0.2116,
          0.0169,
          0.1444,
          0.2872,
          0.9801,
          0.4637,
          0.2787,
          0.0564,
          0.1987,
          0.5707,
          0.2973,
          0.7,
          0.7,
          0.68,
          0.66,
          0.5184,
          0.7569,
          0.8281,
          0.5329,
          0.6241000000000001,
          0.334
         ],
         "yaxis": "y3"
        },
        {
         "boxpoints": "all",
         "name": "Y",
         "text": [
          "FA - Chang et al., 2017",
          "MD - Chang et al., 2017",
          "RD - Chang et al., 2017",
          "AD - Chang et al., 2017",
          "QSM - Hametner et al., 2018",
          "T1 - Hametner et al., 2018",
          "R2* - Hametner et al., 2018",
          "k_mf - Janve et al., 2013",
          "MPF - Janve et al., 2013",
          "RD - Janve et al., 2013",
          "R1f - Janve et al., 2013",
          "AD - Janve et al., 2013",
          "MD - Janve et al., 2013",
          "FA - Janve et al., 2013",
          "MWF - Laule et al., 2006",
          "MWF - Laule et al., 2008",
          "MTR - Schmierer et al., 2004",
          "T1 - Schmierer et al., 2004",
          "T2m - Schmierer et al., 2007a",
          "T1 - Schmierer et al., 2007a",
          "MPF - Schmierer et al., 2007a",
          "MTR - Schmierer et al., 2007a",
          "FA - Schmierer et al., 2007b",
          "MD - Schmierer et al., 2007b",
          "RD - Schmierer et al., 2008",
          "AD - Schmierer et al., 2008",
          "MD - Schmierer et al., 2008",
          "T1 - Schmierer et al., 2008",
          "T2 - Schmierer et al., 2008",
          "FA - Schmierer et al., 2008",
          "MPF - Schmierer et al., 2008",
          "MTR - Schmierer et al., 2008",
          "PD - Tardif et al., 2012",
          "MTR - Tardif et al., 2012",
          "T2 - Tardif et al., 2012",
          "T1 - Tardif et al., 2012"
         ],
         "type": "box",
         "x": [
          "Y",
          "Y",
          "Y",
          "Y",
          "Y",
          "Y",
          "Y",
          "Y",
          "Y",
          "Y",
          "Y",
          "Y",
          "Y",
          "Y",
          "Y",
          "Y",
          "Y",
          "Y",
          "Y",
          "Y",
          "Y",
          "Y",
          "Y",
          "Y",
          "Y",
          "Y",
          "Y",
          "Y",
          "Y",
          "Y",
          "Y",
          "Y",
          "Y",
          "Y",
          "Y",
          "Y"
         ],
         "xaxis": "x3",
         "y": [
          0.1989,
          0.0129,
          0.038,
          0.1482,
          0.1239,
          0.3398,
          7.0E-4,
          0.0256,
          0.7225,
          0.2401,
          0.0961,
          0.0064,
          0.0784,
          0.0729,
          0.67,
          0.78,
          0.7055999999999999,
          0.48999999999999994,
          1.0E-4,
          0.4760999999999999,
          0.6400000000000001,
          0.7055999999999999,
          0.6241000000000001,
          0.4624000000000001,
          0.6561,
          0.64,
          0.6084,
          0.7921,
          0.8464,
          0.6889,
          0.7396,
          0.4624,
          0.3481,
          0.36,
          0.4225,
          0.5929
         ],
         "yaxis": "y3"
        },
        {
         "boxpoints": "all",
         "name": "Animal - Mouse",
         "text": [
          "RD - Abe et al., 2019",
          "AD - Abe et al., 2019",
          "FA - Abe et al., 2019",
          "MTR - Beckmann et al., 2018",
          "MTV - Berman et al., 2018",
          "FA - Chandran et al., 2012",
          "RD - Chandran et al., 2012",
          "FA - Chang et al., 2017",
          "MD - Chang et al., 2017",
          "RD - Chang et al., 2017",
          "AD - Chang et al., 2017",
          "MTR - Duhamel et al., 2019",
          "ihMTR - Duhamel et al., 2019",
          "MTR - Fatemi et al., 2011",
          "MTR - Fjaer et al., 2013",
          "MTR - Fjaer et al., 2015",
          "MTR - Guglielmetti et al., 2020",
          "MTR-UTE - Guglielmetti et al., 2020",
          "T2 - Jelescu et al., 2016",
          "MTR - Jelescu et al., 2016",
          "AWF - Jelescu et al., 2016",
          "RK - Jelescu et al., 2016",
          "RDe - Jelescu et al., 2016",
          "RD - Jelescu et al., 2016",
          "FA - Jito et al., 2008",
          "AWF - Kelm et al., 2016",
          "RK - Kelm et al., 2016",
          "RD - Kelm et al., 2016",
          "MK - Kelm et al., 2016",
          "MD - Kelm et al., 2016",
          "MPF - Khodanovic et al., 2017",
          "MPF - Khodanovic et al., 2019",
          "QSM - Pol et al., 2019",
          "FA - Pol et al., 2019",
          "MD - Pol et al., 2019",
          "RD - Soustelle et al., 2019",
          "rSPF - Soustelle et al., 2019",
          "MPF - Soustelle et al., 2019",
          "MWF - Soustelle et al., 2019",
          "MD - Thiessen et al., 2013",
          "T1 - Thiessen et al., 2013",
          "T2f - Thiessen et al., 2013",
          "AD - Thiessen et al., 2013",
          "T2m - Thiessen et al., 2013",
          "FA - Thiessen et al., 2013",
          "T2 - Thiessen et al., 2013",
          "k_fm - Thiessen et al., 2013",
          "R1f - Thiessen et al., 2013",
          "k_mf - Thiessen et al., 2013",
          "RD - Thiessen et al., 2013",
          "MPF - Thiessen et al., 2013",
          "MPF - Turati et al., 2015",
          "MPF - Underhill et al., 2011",
          "MD - Wendel et al., 2018",
          "AD - Wendel et al., 2018",
          "FA - Wendel et al., 2018",
          "RD - Wendel et al., 2018",
          "MPF - West et al., 2018",
          "MVF-MT - West et al., 2018",
          "MVF-T2 - West et al., 2018",
          "MWF - West et al., 2018",
          "T2 - Wu et al., 2008",
          "FA - Yano et al., 2018",
          "RD - Yano et al., 2018",
          "MD - Yano et al., 2018",
          "MTR - Zaaraoui et al., 2008"
         ],
         "type": "box",
         "x": [
          "Animal - Mouse",
          "Animal - Mouse",
          "Animal - Mouse",
          "Animal - Mouse",
          "Animal - Mouse",
          "Animal - Mouse",
          "Animal - Mouse",
          "Animal - Mouse",
          "Animal - Mouse",
          "Animal - Mouse",
          "Animal - Mouse",
          "Animal - Mouse",
          "Animal - Mouse",
          "Animal - Mouse",
          "Animal - Mouse",
          "Animal - Mouse",
          "Animal - Mouse",
          "Animal - Mouse",
          "Animal - Mouse",
          "Animal - Mouse",
          "Animal - Mouse",
          "Animal - Mouse",
          "Animal - Mouse",
          "Animal - Mouse",
          "Animal - Mouse",
          "Animal - Mouse",
          "Animal - Mouse",
          "Animal - Mouse",
          "Animal - Mouse",
          "Animal - Mouse",
          "Animal - Mouse",
          "Animal - Mouse",
          "Animal - Mouse",
          "Animal - Mouse",
          "Animal - Mouse",
          "Animal - Mouse",
          "Animal - Mouse",
          "Animal - Mouse",
          "Animal - Mouse",
          "Animal - Mouse",
          "Animal - Mouse",
          "Animal - Mouse",
          "Animal - Mouse",
          "Animal - Mouse",
          "Animal - Mouse",
          "Animal - Mouse",
          "Animal - Mouse",
          "Animal - Mouse",
          "Animal - Mouse",
          "Animal - Mouse",
          "Animal - Mouse",
          "Animal - Mouse",
          "Animal - Mouse",
          "Animal - Mouse",
          "Animal - Mouse",
          "Animal - Mouse",
          "Animal - Mouse",
          "Animal - Mouse",
          "Animal - Mouse",
          "Animal - Mouse",
          "Animal - Mouse",
          "Animal - Mouse",
          "Animal - Mouse",
          "Animal - Mouse",
          "Animal - Mouse",
          "Animal - Mouse"
         ],
         "xaxis": "x4",
         "y": [
          0.1681,
          0.0121,
          0.1024,
          0.7668,
          0.74,
          0.5,
          0.34,
          0.1989,
          0.0129,
          0.038,
          0.1482,
          0.78,
          0.96,
          0.695,
          0.338,
          0.01,
          0.46,
          0.76,
          0.4096,
          0.1024,
          0.3025,
          0.0196,
          0.25,
          0.5041,
          0.7327,
          0.3364,
          0.2401,
          0.1369,
          0.2304,
          0.1225,
          0.779,
          0.82,
          0.0361,
          0.0576,
          0.3481,
          0.49,
          0.7396,
          0.7569,
          0.4624,
          0.6561,
          0.4356,
          0.36,
          0.5625,
          0.1521,
          0.7056,
          0.0676,
          0.1089,
          0.4356,
          0.6724,
          0.7569,
          0.8649,
          0.2872,
          0.9801,
          0.0564,
          0.1987,
          0.5707,
          0.2973,
          0.7,
          0.7,
          0.68,
          0.66,
          0.5184,
          0.7569,
          0.8281,
          0.5329,
          0.6241000000000001
         ],
         "yaxis": "y4"
        },
        {
         "boxpoints": "all",
         "name": "Animal - Rat",
         "text": [
          "AD - Aojula et al., 2016",
          "RD - Aojula et al., 2016",
          "MD - Aojula et al., 2016",
          "FA - Aojula et al., 2016",
          "T1 - Hakkarainen et al., 2016",
          "T2p - Hakkarainen et al., 2016",
          "RAFF - Hakkarainen et al., 2016",
          "T1p - Hakkarainen et al., 2016",
          "MTR - Hakkarainen et al., 2016",
          "T2 - Hakkarainen et al., 2016",
          "k_mf - Janve et al., 2013",
          "MPF - Janve et al., 2013",
          "RD - Janve et al., 2013",
          "R1f - Janve et al., 2013",
          "AD - Janve et al., 2013",
          "MD - Janve et al., 2013",
          "FA - Janve et al., 2013",
          "RD - Lehto et al., 2017a",
          "RAFF - Lehto et al., 2017a",
          "MTR - Lehto et al., 2017a",
          "AD - Lehto et al., 2017a",
          "T1sat - Lehto et al., 2017a",
          "FA - Lehto et al., 2017a",
          "MD - Lehto et al., 2017a",
          "MTR - Lehto et al., 2017b",
          "AD - Tu et al., 2016",
          "MD - Tu et al., 2016",
          "RD - Tu et al., 2016",
          "FA - Tu et al., 2016",
          "MTR - Tu et al., 2016",
          "FA - Wang et al., 2009",
          "RD - Wang et al., 2009",
          "FA - van Tilborg et al., 2017"
         ],
         "type": "box",
         "x": [
          "Animal - Rat",
          "Animal - Rat",
          "Animal - Rat",
          "Animal - Rat",
          "Animal - Rat",
          "Animal - Rat",
          "Animal - Rat",
          "Animal - Rat",
          "Animal - Rat",
          "Animal - Rat",
          "Animal - Rat",
          "Animal - Rat",
          "Animal - Rat",
          "Animal - Rat",
          "Animal - Rat",
          "Animal - Rat",
          "Animal - Rat",
          "Animal - Rat",
          "Animal - Rat",
          "Animal - Rat",
          "Animal - Rat",
          "Animal - Rat",
          "Animal - Rat",
          "Animal - Rat",
          "Animal - Rat",
          "Animal - Rat",
          "Animal - Rat",
          "Animal - Rat",
          "Animal - Rat",
          "Animal - Rat",
          "Animal - Rat",
          "Animal - Rat",
          "Animal - Rat"
         ],
         "xaxis": "x4",
         "y": [
          0.1296,
          0.2097,
          0.245,
          0.1197,
          0.77,
          0.34,
          0.84,
          0.63,
          0.34,
          0.18,
          0.0256,
          0.7225,
          0.2401,
          0.0961,
          0.0064,
          0.0784,
          0.0729,
          0.0015,
          0.552,
          0.5169,
          0.4199,
          0.49,
          0.2237,
          0.3492,
          0.94,
          1.0E-4,
          0.0289,
          0.2116,
          0.0169,
          0.1444,
          0.4637,
          0.2787,
          0.334
         ],
         "yaxis": "y4"
        },
        {
         "boxpoints": "all",
         "name": "Human",
         "text": [
          "QSM - Hametner et al., 2018",
          "T1 - Hametner et al., 2018",
          "R2* - Hametner et al., 2018",
          "MWF - Laule et al., 2006",
          "MWF - Laule et al., 2008",
          "FA - Mollink et al., 2019",
          "T1 - Reeves et al., 2016",
          "T2 - Reeves et al., 2016",
          "MTR - Schmierer et al., 2004",
          "T1 - Schmierer et al., 2004",
          "T2m - Schmierer et al., 2007a",
          "T1 - Schmierer et al., 2007a",
          "MPF - Schmierer et al., 2007a",
          "MTR - Schmierer et al., 2007a",
          "FA - Schmierer et al., 2007b",
          "MD - Schmierer et al., 2007b",
          "RD - Schmierer et al., 2008",
          "AD - Schmierer et al., 2008",
          "MD - Schmierer et al., 2008",
          "T1 - Schmierer et al., 2008",
          "T2 - Schmierer et al., 2008",
          "FA - Schmierer et al., 2008",
          "MPF - Schmierer et al., 2008",
          "MTR - Schmierer et al., 2008",
          "PD - Tardif et al., 2012",
          "MTR - Tardif et al., 2012",
          "T2 - Tardif et al., 2012",
          "T1 - Tardif et al., 2012"
         ],
         "type": "box",
         "x": [
          "Human",
          "Human",
          "Human",
          "Human",
          "Human",
          "Human",
          "Human",
          "Human",
          "Human",
          "Human",
          "Human",
          "Human",
          "Human",
          "Human",
          "Human",
          "Human",
          "Human",
          "Human",
          "Human",
          "Human",
          "Human",
          "Human",
          "Human",
          "Human",
          "Human",
          "Human",
          "Human",
          "Human"
         ],
         "xaxis": "x4",
         "y": [
          0.1239,
          0.3398,
          7.0E-4,
          0.67,
          0.78,
          0.2704,
          0.27,
          0.235,
          0.7055999999999999,
          0.48999999999999994,
          1.0E-4,
          0.4760999999999999,
          0.6400000000000001,
          0.7055999999999999,
          0.6241000000000001,
          0.4624000000000001,
          0.6561,
          0.64,
          0.6084,
          0.7921,
          0.8464,
          0.6889,
          0.7396,
          0.4624,
          0.3481,
          0.36,
          0.4225,
          0.5929
         ],
         "yaxis": "y4"
        }
       ],
       "layout": {
        "annotations": [
         {
          "font": {
           "size": 16
          },
          "showarrow": false,
          "text": "R<sup>2</sup> values and magnetic fields",
          "x": 0.225,
          "xanchor": "center",
          "xref": "paper",
          "y": 1.0,
          "yanchor": "bottom",
          "yref": "paper"
         },
         {
          "font": {
           "size": 16
          },
          "showarrow": false,
          "text": "R<sup>2</sup> values and tissue conditions",
          "x": 0.775,
          "xanchor": "center",
          "xref": "paper",
          "y": 1.0,
          "yanchor": "bottom",
          "yref": "paper"
         },
         {
          "font": {
           "size": 16
          },
          "showarrow": false,
          "text": "R<sup>2</sup> values and co-registration",
          "x": 0.225,
          "xanchor": "center",
          "xref": "paper",
          "y": 0.41000000000000003,
          "yanchor": "bottom",
          "yref": "paper"
         },
         {
          "font": {
           "size": 16
          },
          "showarrow": false,
          "text": "R<sup>2</sup> values and human/animal tissue",
          "x": 0.775,
          "xanchor": "center",
          "xref": "paper",
          "y": 0.41000000000000003,
          "yanchor": "bottom",
          "yref": "paper"
         },
         {
          "font": {
           "size": 16
          },
          "showarrow": false,
          "text": "R<sup>2</sup>",
          "textangle": -90,
          "x": 0,
          "xanchor": "right",
          "xref": "paper",
          "xshift": -40,
          "y": 0.5,
          "yanchor": "middle",
          "yref": "paper"
         },
         {
          "font": {
           "color": "gray",
           "size": 8
          },
          "showarrow": false,
          "text": "<a href=\"https://neurolibre.com\" target=\"_blank\" style=\"color:gray!important\">NeuroLibre</a>",
          "x": 1,
          "xref": "paper",
          "y": -0.2,
          "yref": "paper"
         }
        ],
        "height": 600,
        "images": [
         {
          "opacity": 0.9,
          "sizex": 0.04,
          "sizey": 0.04,
          "source": "https://raw.githubusercontent.com/notebook-factory/brand/main/nlibre_custom2.svg",
          "x": 0.88,
          "xref": "paper",
          "y": -0.15200000000000002,
          "yref": "paper"
         }
        ],
        "margin": {
         "l": 100
        },
        "showlegend": false,
        "template": {
         "data": {
          "bar": [
           {
            "error_x": {
             "color": "#2a3f5f"
            },
            "error_y": {
             "color": "#2a3f5f"
            },
            "marker": {
             "line": {
              "color": "#E5ECF6",
              "width": 0.5
             }
            },
            "type": "bar"
           }
          ],
          "barpolar": [
           {
            "marker": {
             "line": {
              "color": "#E5ECF6",
              "width": 0.5
             }
            },
            "type": "barpolar"
           }
          ],
          "carpet": [
           {
            "aaxis": {
             "endlinecolor": "#2a3f5f",
             "gridcolor": "white",
             "linecolor": "white",
             "minorgridcolor": "white",
             "startlinecolor": "#2a3f5f"
            },
            "baxis": {
             "endlinecolor": "#2a3f5f",
             "gridcolor": "white",
             "linecolor": "white",
             "minorgridcolor": "white",
             "startlinecolor": "#2a3f5f"
            },
            "type": "carpet"
           }
          ],
          "choropleth": [
           {
            "colorbar": {
             "outlinewidth": 0,
             "ticks": ""
            },
            "type": "choropleth"
           }
          ],
          "contour": [
           {
            "colorbar": {
             "outlinewidth": 0,
             "ticks": ""
            },
            "colorscale": [
             [
              0.0,
              "#0d0887"
             ],
             [
              0.1111111111111111,
              "#46039f"
             ],
             [
              0.2222222222222222,
              "#7201a8"
             ],
             [
              0.3333333333333333,
              "#9c179e"
             ],
             [
              0.4444444444444444,
              "#bd3786"
             ],
             [
              0.5555555555555556,
              "#d8576b"
             ],
             [
              0.6666666666666666,
              "#ed7953"
             ],
             [
              0.7777777777777778,
              "#fb9f3a"
             ],
             [
              0.8888888888888888,
              "#fdca26"
             ],
             [
              1.0,
              "#f0f921"
             ]
            ],
            "type": "contour"
           }
          ],
          "contourcarpet": [
           {
            "colorbar": {
             "outlinewidth": 0,
             "ticks": ""
            },
            "type": "contourcarpet"
           }
          ],
          "heatmap": [
           {
            "colorbar": {
             "outlinewidth": 0,
             "ticks": ""
            },
            "colorscale": [
             [
              0.0,
              "#0d0887"
             ],
             [
              0.1111111111111111,
              "#46039f"
             ],
             [
              0.2222222222222222,
              "#7201a8"
             ],
             [
              0.3333333333333333,
              "#9c179e"
             ],
             [
              0.4444444444444444,
              "#bd3786"
             ],
             [
              0.5555555555555556,
              "#d8576b"
             ],
             [
              0.6666666666666666,
              "#ed7953"
             ],
             [
              0.7777777777777778,
              "#fb9f3a"
             ],
             [
              0.8888888888888888,
              "#fdca26"
             ],
             [
              1.0,
              "#f0f921"
             ]
            ],
            "type": "heatmap"
           }
          ],
          "heatmapgl": [
           {
            "colorbar": {
             "outlinewidth": 0,
             "ticks": ""
            },
            "colorscale": [
             [
              0.0,
              "#0d0887"
             ],
             [
              0.1111111111111111,
              "#46039f"
             ],
             [
              0.2222222222222222,
              "#7201a8"
             ],
             [
              0.3333333333333333,
              "#9c179e"
             ],
             [
              0.4444444444444444,
              "#bd3786"
             ],
             [
              0.5555555555555556,
              "#d8576b"
             ],
             [
              0.6666666666666666,
              "#ed7953"
             ],
             [
              0.7777777777777778,
              "#fb9f3a"
             ],
             [
              0.8888888888888888,
              "#fdca26"
             ],
             [
              1.0,
              "#f0f921"
             ]
            ],
            "type": "heatmapgl"
           }
          ],
          "histogram": [
           {
            "marker": {
             "colorbar": {
              "outlinewidth": 0,
              "ticks": ""
             }
            },
            "type": "histogram"
           }
          ],
          "histogram2d": [
           {
            "colorbar": {
             "outlinewidth": 0,
             "ticks": ""
            },
            "colorscale": [
             [
              0.0,
              "#0d0887"
             ],
             [
              0.1111111111111111,
              "#46039f"
             ],
             [
              0.2222222222222222,
              "#7201a8"
             ],
             [
              0.3333333333333333,
              "#9c179e"
             ],
             [
              0.4444444444444444,
              "#bd3786"
             ],
             [
              0.5555555555555556,
              "#d8576b"
             ],
             [
              0.6666666666666666,
              "#ed7953"
             ],
             [
              0.7777777777777778,
              "#fb9f3a"
             ],
             [
              0.8888888888888888,
              "#fdca26"
             ],
             [
              1.0,
              "#f0f921"
             ]
            ],
            "type": "histogram2d"
           }
          ],
          "histogram2dcontour": [
           {
            "colorbar": {
             "outlinewidth": 0,
             "ticks": ""
            },
            "colorscale": [
             [
              0.0,
              "#0d0887"
             ],
             [
              0.1111111111111111,
              "#46039f"
             ],
             [
              0.2222222222222222,
              "#7201a8"
             ],
             [
              0.3333333333333333,
              "#9c179e"
             ],
             [
              0.4444444444444444,
              "#bd3786"
             ],
             [
              0.5555555555555556,
              "#d8576b"
             ],
             [
              0.6666666666666666,
              "#ed7953"
             ],
             [
              0.7777777777777778,
              "#fb9f3a"
             ],
             [
              0.8888888888888888,
              "#fdca26"
             ],
             [
              1.0,
              "#f0f921"
             ]
            ],
            "type": "histogram2dcontour"
           }
          ],
          "mesh3d": [
           {
            "colorbar": {
             "outlinewidth": 0,
             "ticks": ""
            },
            "type": "mesh3d"
           }
          ],
          "parcoords": [
           {
            "line": {
             "colorbar": {
              "outlinewidth": 0,
              "ticks": ""
             }
            },
            "type": "parcoords"
           }
          ],
          "pie": [
           {
            "automargin": true,
            "type": "pie"
           }
          ],
          "scatter": [
           {
            "marker": {
             "colorbar": {
              "outlinewidth": 0,
              "ticks": ""
             }
            },
            "type": "scatter"
           }
          ],
          "scatter3d": [
           {
            "line": {
             "colorbar": {
              "outlinewidth": 0,
              "ticks": ""
             }
            },
            "marker": {
             "colorbar": {
              "outlinewidth": 0,
              "ticks": ""
             }
            },
            "type": "scatter3d"
           }
          ],
          "scattercarpet": [
           {
            "marker": {
             "colorbar": {
              "outlinewidth": 0,
              "ticks": ""
             }
            },
            "type": "scattercarpet"
           }
          ],
          "scattergeo": [
           {
            "marker": {
             "colorbar": {
              "outlinewidth": 0,
              "ticks": ""
             }
            },
            "type": "scattergeo"
           }
          ],
          "scattergl": [
           {
            "marker": {
             "colorbar": {
              "outlinewidth": 0,
              "ticks": ""
             }
            },
            "type": "scattergl"
           }
          ],
          "scattermapbox": [
           {
            "marker": {
             "colorbar": {
              "outlinewidth": 0,
              "ticks": ""
             }
            },
            "type": "scattermapbox"
           }
          ],
          "scatterpolar": [
           {
            "marker": {
             "colorbar": {
              "outlinewidth": 0,
              "ticks": ""
             }
            },
            "type": "scatterpolar"
           }
          ],
          "scatterpolargl": [
           {
            "marker": {
             "colorbar": {
              "outlinewidth": 0,
              "ticks": ""
             }
            },
            "type": "scatterpolargl"
           }
          ],
          "scatterternary": [
           {
            "marker": {
             "colorbar": {
              "outlinewidth": 0,
              "ticks": ""
             }
            },
            "type": "scatterternary"
           }
          ],
          "surface": [
           {
            "colorbar": {
             "outlinewidth": 0,
             "ticks": ""
            },
            "colorscale": [
             [
              0.0,
              "#0d0887"
             ],
             [
              0.1111111111111111,
              "#46039f"
             ],
             [
              0.2222222222222222,
              "#7201a8"
             ],
             [
              0.3333333333333333,
              "#9c179e"
             ],
             [
              0.4444444444444444,
              "#bd3786"
             ],
             [
              0.5555555555555556,
              "#d8576b"
             ],
             [
              0.6666666666666666,
              "#ed7953"
             ],
             [
              0.7777777777777778,
              "#fb9f3a"
             ],
             [
              0.8888888888888888,
              "#fdca26"
             ],
             [
              1.0,
              "#f0f921"
             ]
            ],
            "type": "surface"
           }
          ],
          "table": [
           {
            "cells": {
             "fill": {
              "color": "#EBF0F8"
             },
             "line": {
              "color": "white"
             }
            },
            "header": {
             "fill": {
              "color": "#C8D4E3"
             },
             "line": {
              "color": "white"
             }
            },
            "type": "table"
           }
          ]
         },
         "layout": {
          "annotationdefaults": {
           "arrowcolor": "#2a3f5f",
           "arrowhead": 0,
           "arrowwidth": 1
          },
          "coloraxis": {
           "colorbar": {
            "outlinewidth": 0,
            "ticks": ""
           }
          },
          "colorscale": {
           "diverging": [
            [
             0,
             "#8e0152"
            ],
            [
             0.1,
             "#c51b7d"
            ],
            [
             0.2,
             "#de77ae"
            ],
            [
             0.3,
             "#f1b6da"
            ],
            [
             0.4,
             "#fde0ef"
            ],
            [
             0.5,
             "#f7f7f7"
            ],
            [
             0.6,
             "#e6f5d0"
            ],
            [
             0.7,
             "#b8e186"
            ],
            [
             0.8,
             "#7fbc41"
            ],
            [
             0.9,
             "#4d9221"
            ],
            [
             1,
             "#276419"
            ]
           ],
           "sequential": [
            [
             0.0,
             "#0d0887"
            ],
            [
             0.1111111111111111,
             "#46039f"
            ],
            [
             0.2222222222222222,
             "#7201a8"
            ],
            [
             0.3333333333333333,
             "#9c179e"
            ],
            [
             0.4444444444444444,
             "#bd3786"
            ],
            [
             0.5555555555555556,
             "#d8576b"
            ],
            [
             0.6666666666666666,
             "#ed7953"
            ],
            [
             0.7777777777777778,
             "#fb9f3a"
            ],
            [
             0.8888888888888888,
             "#fdca26"
            ],
            [
             1.0,
             "#f0f921"
            ]
           ],
           "sequentialminus": [
            [
             0.0,
             "#0d0887"
            ],
            [
             0.1111111111111111,
             "#46039f"
            ],
            [
             0.2222222222222222,
             "#7201a8"
            ],
            [
             0.3333333333333333,
             "#9c179e"
            ],
            [
             0.4444444444444444,
             "#bd3786"
            ],
            [
             0.5555555555555556,
             "#d8576b"
            ],
            [
             0.6666666666666666,
             "#ed7953"
            ],
            [
             0.7777777777777778,
             "#fb9f3a"
            ],
            [
             0.8888888888888888,
             "#fdca26"
            ],
            [
             1.0,
             "#f0f921"
            ]
           ]
          },
          "colorway": [
           "#636efa",
           "#EF553B",
           "#00cc96",
           "#ab63fa",
           "#FFA15A",
           "#19d3f3",
           "#FF6692",
           "#B6E880",
           "#FF97FF",
           "#FECB52"
          ],
          "font": {
           "color": "#2a3f5f"
          },
          "geo": {
           "bgcolor": "white",
           "lakecolor": "white",
           "landcolor": "#E5ECF6",
           "showlakes": true,
           "showland": true,
           "subunitcolor": "white"
          },
          "hoverlabel": {
           "align": "left"
          },
          "hovermode": "closest",
          "mapbox": {
           "style": "light"
          },
          "paper_bgcolor": "white",
          "plot_bgcolor": "#E5ECF6",
          "polar": {
           "angularaxis": {
            "gridcolor": "white",
            "linecolor": "white",
            "ticks": ""
           },
           "bgcolor": "#E5ECF6",
           "radialaxis": {
            "gridcolor": "white",
            "linecolor": "white",
            "ticks": ""
           }
          },
          "scene": {
           "xaxis": {
            "backgroundcolor": "#E5ECF6",
            "gridcolor": "white",
            "gridwidth": 2,
            "linecolor": "white",
            "showbackground": true,
            "ticks": "",
            "zerolinecolor": "white"
           },
           "yaxis": {
            "backgroundcolor": "#E5ECF6",
            "gridcolor": "white",
            "gridwidth": 2,
            "linecolor": "white",
            "showbackground": true,
            "ticks": "",
            "zerolinecolor": "white"
           },
           "zaxis": {
            "backgroundcolor": "#E5ECF6",
            "gridcolor": "white",
            "gridwidth": 2,
            "linecolor": "white",
            "showbackground": true,
            "ticks": "",
            "zerolinecolor": "white"
           }
          },
          "shapedefaults": {
           "line": {
            "color": "#2a3f5f"
           }
          },
          "ternary": {
           "aaxis": {
            "gridcolor": "white",
            "linecolor": "white",
            "ticks": ""
           },
           "baxis": {
            "gridcolor": "white",
            "linecolor": "white",
            "ticks": ""
           },
           "bgcolor": "#E5ECF6",
           "caxis": {
            "gridcolor": "white",
            "linecolor": "white",
            "ticks": ""
           }
          },
          "title": {
           "x": 0.05
          },
          "xaxis": {
           "automargin": true,
           "gridcolor": "white",
           "linecolor": "white",
           "ticks": "",
           "title": {
            "standoff": 15
           },
           "zerolinecolor": "white",
           "zerolinewidth": 2
          },
          "yaxis": {
           "automargin": true,
           "gridcolor": "white",
           "linecolor": "white",
           "ticks": "",
           "title": {
            "standoff": 15
           },
           "zerolinecolor": "white",
           "zerolinewidth": 2
          }
         }
        },
        "title": {
         "text": "Figure 8: Other factors to consider when assessing R<sup>2</sup>",
         "x": 0.1
        },
        "width": 700,
        "xaxis": {
         "anchor": "y",
         "domain": [
          0.0,
          0.45
         ],
         "title": {
          "text": "Magnetic field [T]"
         }
        },
        "xaxis2": {
         "anchor": "y2",
         "domain": [
          0.55,
          1.0
         ]
        },
        "xaxis3": {
         "anchor": "y3",
         "domain": [
          0.0,
          0.45
         ]
        },
        "xaxis4": {
         "anchor": "y4",
         "domain": [
          0.55,
          1.0
         ]
        },
        "yaxis": {
         "anchor": "x",
         "domain": [
          0.5900000000000001,
          1.0
         ]
        },
        "yaxis2": {
         "anchor": "x2",
         "domain": [
          0.5900000000000001,
          1.0
         ]
        },
        "yaxis3": {
         "anchor": "x3",
         "domain": [
          0.0,
          0.41000000000000003
         ]
        },
        "yaxis4": {
         "anchor": "x4",
         "domain": [
          0.0,
          0.41000000000000003
         ]
        }
       }
      },
      "text/html": "<div>\n        \n        \n            <div id=\"77eca2fe-064c-4f6d-a7d5-3c91db073c9e\" class=\"plotly-graph-div\" style=\"height:600px; width:700px;\"></div>\n            <script type=\"text/javascript\">\n                require([\"plotly\"], function(Plotly) {\n                    window.PLOTLYENV=window.PLOTLYENV || {};\n                    \n                if (document.getElementById(\"77eca2fe-064c-4f6d-a7d5-3c91db073c9e\")) {\n                    Plotly.newPlot(\n                        '77eca2fe-064c-4f6d-a7d5-3c91db073c9e',\n                        [{\"marker\": {\"color\": \"rgb(127, 60, 141)\"}, \"mode\": \"markers\", \"name\": \"Diffusion\", \"text\": [\"RD - Abe et al., 2019\", \"AD - Abe et al., 2019\", \"FA - Abe et al., 2019\", \"AD - Aojula et al., 2016\", \"RD - Aojula et al., 2016\", \"MD - Aojula et al., 2016\", \"FA - Aojula et al., 2016\", \"FA - Chandran et al., 2012\", \"RD - Chandran et al., 2012\", \"FA - Chang et al., 2017\", \"MD - Chang et al., 2017\", \"RD - Chang et al., 2017\", \"AD - Chang et al., 2017\", \"RD - Janve et al., 2013\", \"AD - Janve et al., 2013\", \"MD - Janve et al., 2013\", \"FA - Janve et al., 2013\", \"AWF - Jelescu et al., 2016\", \"RK - Jelescu et al., 2016\", \"RDe - Jelescu et al., 2016\", \"RD - Jelescu et al., 2016\", \"FA - Jito et al., 2008\", \"AWF - Kelm et al., 2016\", \"RK - Kelm et al., 2016\", \"RD - Kelm et al., 2016\", \"MK - Kelm et al., 2016\", \"MD - Kelm et al., 2016\", \"RD - Lehto et al., 2017a\", \"AD - Lehto et al., 2017a\", \"FA - Lehto et al., 2017a\", \"MD - Lehto et al., 2017a\", \"FA - Mollink et al., 2019\", \"FA - Pol et al., 2019\", \"MD - Pol et al., 2019\", \"FA - Schmierer et al., 2007b\", \"MD - Schmierer et al., 2007b\", \"RD - Schmierer et al., 2008\", \"AD - Schmierer et al., 2008\", \"MD - Schmierer et al., 2008\", \"FA - Schmierer et al., 2008\", \"RD - Soustelle et al., 2019\", \"MD - Thiessen et al., 2013\", \"AD - Thiessen et al., 2013\", \"FA - Thiessen et al., 2013\", \"RD - Thiessen et al., 2013\", \"AD - Tu et al., 2016\", \"MD - Tu et al., 2016\", \"RD - Tu et al., 2016\", \"FA - Tu et al., 2016\", \"FA - Wang et al., 2009\", \"RD - Wang et al., 2009\", \"MD - Wendel et al., 2018\", \"AD - Wendel et al., 2018\", \"FA - Wendel et al., 2018\", \"RD - Wendel et al., 2018\", \"FA - Yano et al., 2018\", \"RD - Yano et al., 2018\", \"MD - Yano et al., 2018\", \"FA - van Tilborg et al., 2017\"], \"type\": \"scatter\", \"x\": [7.0, 7.0, 7.0, 7.0, 7.0, 7.0, 7.0, 7.0, 7.0, 11.7, 11.7, 11.7, 11.7, 9.4, 9.4, 9.4, 9.4, 7.0, 7.0, 7.0, 7.0, 7.0, 15.2, 15.2, 15.2, 15.2, 15.2, 7.0, 7.0, 7.0, 7.0, 11.7, 9.4, 9.4, 1.5, 1.5, 1.5, 1.5, 1.5, 1.5, 7.0, 7.0, 7.0, 7.0, 7.0, 7.0, 7.0, 7.0, 7.0, 7.0, 7.0, 9.4, 9.4, 9.4, 9.4, 7.0, 7.0, 7.0, 9.4], \"xaxis\": \"x\", \"y\": [0.1681, 0.0121, 0.1024, 0.1296, 0.2097, 0.245, 0.1197, 0.5, 0.34, 0.1989, 0.0129, 0.038, 0.1482, 0.2401, 0.0064, 0.0784, 0.0729, 0.3025, 0.0196, 0.25, 0.5041, 0.7327, 0.3364, 0.2401, 0.1369, 0.2304, 0.1225, 0.0015, 0.4199, 0.2237, 0.3492, 0.2704, 0.0576, 0.3481, 0.6241000000000001, 0.4624000000000001, 0.6561, 0.64, 0.6084, 0.6889, 0.49, 0.6561, 0.5625, 0.7056, 0.7569, 0.0001, 0.0289, 0.2116, 0.0169, 0.4637, 0.2787, 0.0564, 0.1987, 0.5707, 0.2973, 0.7569, 0.8281, 0.5329, 0.334], \"yaxis\": \"y\"}, {\"marker\": {\"color\": \"rgb(17, 165, 121)\"}, \"mode\": \"markers\", \"name\": \"Magnetization transfer\", \"text\": [\"MTR - Beckmann et al., 2018\", \"MTR - Duhamel et al., 2019\", \"ihMTR - Duhamel et al., 2019\", \"MTR - Fatemi et al., 2011\", \"MTR - Fjaer et al., 2013\", \"MTR - Fjaer et al., 2015\", \"MTR - Guglielmetti et al., 2020\", \"MTR-UTE - Guglielmetti et al., 2020\", \"MTR - Hakkarainen et al., 2016\", \"k_mf - Janve et al., 2013\", \"MPF - Janve et al., 2013\", \"R1f - Janve et al., 2013\", \"MTR - Jelescu et al., 2016\", \"MPF - Khodanovic et al., 2017\", \"MPF - Khodanovic et al., 2019\", \"MTR - Lehto et al., 2017a\", \"MTR - Lehto et al., 2017b\", \"MTR - Schmierer et al., 2004\", \"T2m - Schmierer et al., 2007a\", \"MPF - Schmierer et al., 2007a\", \"MTR - Schmierer et al., 2007a\", \"MPF - Schmierer et al., 2008\", \"MTR - Schmierer et al., 2008\", \"MPF - Soustelle et al., 2019\", \"MTR - Tardif et al., 2012\", \"T2f - Thiessen et al., 2013\", \"T2m - Thiessen et al., 2013\", \"k_fm - Thiessen et al., 2013\", \"R1f - Thiessen et al., 2013\", \"k_mf - Thiessen et al., 2013\", \"MPF - Thiessen et al., 2013\", \"MTR - Tu et al., 2016\", \"MPF - Turati et al., 2015\", \"MPF - Underhill et al., 2011\", \"MPF - West et al., 2018\", \"MVF-MT - West et al., 2018\", \"MTR - Zaaraoui et al., 2008\"], \"type\": \"scatter\", \"x\": [7.0, 11.75, 11.75, 9.4, 7.0, 7.0, 7.0, 7.0, 9.4, 9.4, 9.4, 9.4, 7.0, 11.7, 11.7, 7.0, 9.4, 1.5, 1.5, 1.5, 1.5, 1.5, 1.5, 7.0, 3.0, 7.0, 7.0, 7.0, 7.0, 7.0, 7.0, 7.0, 7.0, 3.0, 15.2, 15.2, 9.4], \"xaxis\": \"x\", \"y\": [0.7668, 0.78, 0.96, 0.695, 0.338, 0.01, 0.46, 0.76, 0.34, 0.0256, 0.7225, 0.0961, 0.1024, 0.779, 0.82, 0.5169, 0.94, 0.7055999999999999, 0.0001, 0.6400000000000001, 0.7055999999999999, 0.7396, 0.4624, 0.7569, 0.36, 0.36, 0.1521, 0.1089, 0.4356, 0.6724, 0.8649, 0.1444, 0.2872, 0.9801, 0.7, 0.7, 0.6241000000000001], \"yaxis\": \"y\"}, {\"marker\": {\"color\": \"rgb(57, 105, 172)\"}, \"mode\": \"markers\", \"name\": \"T1 relaxometry\", \"text\": [\"T1 - Hakkarainen et al., 2016\", \"T1 - Hametner et al., 2018\", \"T1 - Reeves et al., 2016\", \"T1 - Schmierer et al., 2004\", \"T1 - Schmierer et al., 2007a\", \"T1 - Schmierer et al., 2008\", \"T1 - Tardif et al., 2012\", \"T1 - Thiessen et al., 2013\"], \"type\": \"scatter\", \"x\": [9.4, 7.0, 9.4, 1.5, 1.5, 1.5, 3.0, 7.0], \"xaxis\": \"x\", \"y\": [0.77, 0.3398, 0.27, 0.48999999999999994, 0.4760999999999999, 0.7921, 0.5929, 0.4356], \"yaxis\": \"y\"}, {\"marker\": {\"color\": \"rgb(242, 183, 1)\"}, \"mode\": \"markers\", \"name\": \"T2 relaxometry\", \"text\": [\"T2 - Hakkarainen et al., 2016\", \"T2 - Jelescu et al., 2016\", \"MWF - Laule et al., 2006\", \"MWF - Laule et al., 2008\", \"T2 - Reeves et al., 2016\", \"T2 - Schmierer et al., 2008\", \"MWF - Soustelle et al., 2019\", \"T2 - Tardif et al., 2012\", \"T2 - Thiessen et al., 2013\", \"MVF-T2 - West et al., 2018\", \"MWF - West et al., 2018\", \"T2 - Wu et al., 2008\"], \"type\": \"scatter\", \"x\": [9.4, 7.0, 1.5, 7.0, 9.4, 1.5, 7.0, 3.0, 7.0, 15.2, 15.2, 4.7], \"xaxis\": \"x\", \"y\": [0.18, 0.4096, 0.67, 0.78, 0.235, 0.8464, 0.4624, 0.4225, 0.0676, 0.68, 0.66, 0.5184], \"yaxis\": \"y\"}, {\"marker\": {\"color\": \"rgb(231, 63, 116)\"}, \"mode\": \"markers\", \"name\": \"Other\", \"text\": [\"MTV - Berman et al., 2018\", \"T2p - Hakkarainen et al., 2016\", \"RAFF - Hakkarainen et al., 2016\", \"T1p - Hakkarainen et al., 2016\", \"QSM - Hametner et al., 2018\", \"R2* - Hametner et al., 2018\", \"RAFF - Lehto et al., 2017a\", \"T1sat - Lehto et al., 2017a\", \"QSM - Pol et al., 2019\", \"rSPF - Soustelle et al., 2019\", \"PD - Tardif et al., 2012\"], \"type\": \"scatter\", \"x\": [15.2, 9.4, 9.4, 9.4, 7.0, 7.0, 7.0, 7.0, 9.4, 7.0, 3.0], \"xaxis\": \"x\", \"y\": [0.74, 0.34, 0.84, 0.63, 0.1239, 0.0007, 0.552, 0.49, 0.0361, 0.7396, 0.3481], \"yaxis\": \"y\"}, {\"boxpoints\": \"all\", \"name\": \"Ex vivo - Fixed\", \"text\": [\"RD - Abe et al., 2019\", \"AD - Abe et al., 2019\", \"FA - Abe et al., 2019\", \"MTV - Berman et al., 2018\", \"FA - Chang et al., 2017\", \"MD - Chang et al., 2017\", \"RD - Chang et al., 2017\", \"AD - Chang et al., 2017\", \"T1 - Hakkarainen et al., 2016\", \"T2p - Hakkarainen et al., 2016\", \"RAFF - Hakkarainen et al., 2016\", \"T1p - Hakkarainen et al., 2016\", \"MTR - Hakkarainen et al., 2016\", \"T2 - Hakkarainen et al., 2016\", \"k_mf - Janve et al., 2013\", \"MPF - Janve et al., 2013\", \"RD - Janve et al., 2013\", \"R1f - Janve et al., 2013\", \"AD - Janve et al., 2013\", \"MD - Janve et al., 2013\", \"FA - Janve et al., 2013\", \"AWF - Kelm et al., 2016\", \"RK - Kelm et al., 2016\", \"RD - Kelm et al., 2016\", \"MK - Kelm et al., 2016\", \"MD - Kelm et al., 2016\", \"MWF - Laule et al., 2006\", \"MWF - Laule et al., 2008\", \"FA - Mollink et al., 2019\", \"T1 - Reeves et al., 2016\", \"T2 - Reeves et al., 2016\", \"RD - Schmierer et al., 2008\", \"AD - Schmierer et al., 2008\", \"MD - Schmierer et al., 2008\", \"T1 - Schmierer et al., 2008\", \"T2 - Schmierer et al., 2008\", \"FA - Schmierer et al., 2008\", \"MPF - Schmierer et al., 2008\", \"MTR - Schmierer et al., 2008\", \"PD - Tardif et al., 2012\", \"MTR - Tardif et al., 2012\", \"T2 - Tardif et al., 2012\", \"T1 - Tardif et al., 2012\", \"MD - Wendel et al., 2018\", \"AD - Wendel et al., 2018\", \"FA - Wendel et al., 2018\", \"RD - Wendel et al., 2018\", \"MPF - West et al., 2018\", \"MVF-MT - West et al., 2018\", \"MVF-T2 - West et al., 2018\", \"MWF - West et al., 2018\", \"FA - Yano et al., 2018\", \"RD - Yano et al., 2018\", \"MD - Yano et al., 2018\", \"FA - van Tilborg et al., 2017\"], \"type\": \"box\", \"x\": [\"Ex vivo - Fixed\", \"Ex vivo - Fixed\", \"Ex vivo - Fixed\", \"Ex vivo - Fixed\", \"Ex vivo - Fixed\", \"Ex vivo - Fixed\", \"Ex vivo - Fixed\", \"Ex vivo - Fixed\", \"Ex vivo - Fixed\", \"Ex vivo - Fixed\", \"Ex vivo - Fixed\", \"Ex vivo - Fixed\", \"Ex vivo - Fixed\", \"Ex vivo - Fixed\", \"Ex vivo - Fixed\", \"Ex vivo - Fixed\", \"Ex vivo - Fixed\", \"Ex vivo - Fixed\", \"Ex vivo - Fixed\", \"Ex vivo - Fixed\", \"Ex vivo - Fixed\", \"Ex vivo - Fixed\", \"Ex vivo - Fixed\", \"Ex vivo - Fixed\", \"Ex vivo - Fixed\", \"Ex vivo - Fixed\", \"Ex vivo - Fixed\", \"Ex vivo - Fixed\", \"Ex vivo - Fixed\", \"Ex vivo - Fixed\", \"Ex vivo - Fixed\", \"Ex vivo - Fixed\", \"Ex vivo - Fixed\", \"Ex vivo - Fixed\", \"Ex vivo - Fixed\", \"Ex vivo - Fixed\", \"Ex vivo - Fixed\", \"Ex vivo - Fixed\", \"Ex vivo - Fixed\", \"Ex vivo - Fixed\", \"Ex vivo - Fixed\", \"Ex vivo - Fixed\", \"Ex vivo - Fixed\", \"Ex vivo - Fixed\", \"Ex vivo - Fixed\", \"Ex vivo - Fixed\", \"Ex vivo - Fixed\", \"Ex vivo - Fixed\", \"Ex vivo - Fixed\", \"Ex vivo - Fixed\", \"Ex vivo - Fixed\", \"Ex vivo - Fixed\", \"Ex vivo - Fixed\", \"Ex vivo - Fixed\", \"Ex vivo - Fixed\"], \"xaxis\": \"x2\", \"y\": [0.1681, 0.0121, 0.1024, 0.74, 0.1989, 0.0129, 0.038, 0.1482, 0.77, 0.34, 0.84, 0.63, 0.34, 0.18, 0.0256, 0.7225, 0.2401, 0.0961, 0.0064, 0.0784, 0.0729, 0.3364, 0.2401, 0.1369, 0.2304, 0.1225, 0.67, 0.78, 0.2704, 0.27, 0.235, 0.6561, 0.64, 0.6084, 0.7921, 0.8464, 0.6889, 0.7396, 0.4624, 0.3481, 0.36, 0.4225, 0.5929, 0.0564, 0.1987, 0.5707, 0.2973, 0.7, 0.7, 0.68, 0.66, 0.7569, 0.8281, 0.5329, 0.334], \"yaxis\": \"y2\"}, {\"boxpoints\": \"all\", \"name\": \"In vivo\", \"text\": [\"AD - Aojula et al., 2016\", \"RD - Aojula et al., 2016\", \"MD - Aojula et al., 2016\", \"FA - Aojula et al., 2016\", \"MTR - Beckmann et al., 2018\", \"FA - Chandran et al., 2012\", \"RD - Chandran et al., 2012\", \"MTR - Duhamel et al., 2019\", \"ihMTR - Duhamel et al., 2019\", \"MTR - Fatemi et al., 2011\", \"MTR - Fjaer et al., 2013\", \"MTR - Fjaer et al., 2015\", \"MTR - Guglielmetti et al., 2020\", \"MTR-UTE - Guglielmetti et al., 2020\", \"T2 - Jelescu et al., 2016\", \"MTR - Jelescu et al., 2016\", \"AWF - Jelescu et al., 2016\", \"RK - Jelescu et al., 2016\", \"RDe - Jelescu et al., 2016\", \"RD - Jelescu et al., 2016\", \"FA - Jito et al., 2008\", \"MPF - Khodanovic et al., 2017\", \"MPF - Khodanovic et al., 2019\", \"RD - Lehto et al., 2017a\", \"RAFF - Lehto et al., 2017a\", \"MTR - Lehto et al., 2017a\", \"AD - Lehto et al., 2017a\", \"T1sat - Lehto et al., 2017a\", \"FA - Lehto et al., 2017a\", \"MD - Lehto et al., 2017a\", \"QSM - Pol et al., 2019\", \"FA - Pol et al., 2019\", \"MD - Pol et al., 2019\", \"AD - Tu et al., 2016\", \"MD - Tu et al., 2016\", \"RD - Tu et al., 2016\", \"FA - Tu et al., 2016\", \"MTR - Tu et al., 2016\", \"MPF - Turati et al., 2015\", \"MPF - Underhill et al., 2011\", \"FA - Wang et al., 2009\", \"RD - Wang et al., 2009\", \"T2 - Wu et al., 2008\", \"MTR - Zaaraoui et al., 2008\"], \"type\": \"box\", \"x\": [\"In vivo\", \"In vivo\", \"In vivo\", \"In vivo\", \"In vivo\", \"In vivo\", \"In vivo\", \"In vivo\", \"In vivo\", \"In vivo\", \"In vivo\", \"In vivo\", \"In vivo\", \"In vivo\", \"In vivo\", \"In vivo\", \"In vivo\", \"In vivo\", \"In vivo\", \"In vivo\", \"In vivo\", \"In vivo\", \"In vivo\", \"In vivo\", \"In vivo\", \"In vivo\", \"In vivo\", \"In vivo\", \"In vivo\", \"In vivo\", \"In vivo\", \"In vivo\", \"In vivo\", \"In vivo\", \"In vivo\", \"In vivo\", \"In vivo\", \"In vivo\", \"In vivo\", \"In vivo\", \"In vivo\", \"In vivo\", \"In vivo\", \"In vivo\"], \"xaxis\": \"x2\", \"y\": [0.1296, 0.2097, 0.245, 0.1197, 0.7668, 0.5, 0.34, 0.78, 0.96, 0.695, 0.338, 0.01, 0.46, 0.76, 0.4096, 0.1024, 0.3025, 0.0196, 0.25, 0.5041, 0.7327, 0.779, 0.82, 0.0015, 0.552, 0.5169, 0.4199, 0.49, 0.2237, 0.3492, 0.0361, 0.0576, 0.3481, 0.0001, 0.0289, 0.2116, 0.0169, 0.1444, 0.2872, 0.9801, 0.4637, 0.2787, 0.5184, 0.6241000000000001], \"yaxis\": \"y2\"}, {\"boxpoints\": \"all\", \"name\": \"In situ\", \"text\": [\"QSM - Hametner et al., 2018\", \"T1 - Hametner et al., 2018\", \"R2* - Hametner et al., 2018\", \"RD - Soustelle et al., 2019\", \"rSPF - Soustelle et al., 2019\", \"MPF - Soustelle et al., 2019\", \"MWF - Soustelle et al., 2019\"], \"type\": \"box\", \"x\": [\"In situ\", \"In situ\", \"In situ\", \"In situ\", \"In situ\", \"In situ\", \"In situ\"], \"xaxis\": \"x2\", \"y\": [0.1239, 0.3398, 0.0007, 0.49, 0.7396, 0.7569, 0.4624], \"yaxis\": \"y2\"}, {\"boxpoints\": \"all\", \"name\": \"Ex vivo - Unfixed\", \"text\": [\"MTR - Lehto et al., 2017b\", \"MTR - Schmierer et al., 2004\", \"T1 - Schmierer et al., 2004\", \"T2m - Schmierer et al., 2007a\", \"T1 - Schmierer et al., 2007a\", \"MPF - Schmierer et al., 2007a\", \"MTR - Schmierer et al., 2007a\", \"FA - Schmierer et al., 2007b\", \"MD - Schmierer et al., 2007b\", \"MD - Thiessen et al., 2013\", \"T1 - Thiessen et al., 2013\", \"T2f - Thiessen et al., 2013\", \"AD - Thiessen et al., 2013\", \"T2m - Thiessen et al., 2013\", \"FA - Thiessen et al., 2013\", \"T2 - Thiessen et al., 2013\", \"k_fm - Thiessen et al., 2013\", \"R1f - Thiessen et al., 2013\", \"k_mf - Thiessen et al., 2013\", \"RD - Thiessen et al., 2013\", \"MPF - Thiessen et al., 2013\"], \"type\": \"box\", \"x\": [\"Ex vivo - Unfixed\", \"Ex vivo - Unfixed\", \"Ex vivo - Unfixed\", \"Ex vivo - Unfixed\", \"Ex vivo - Unfixed\", \"Ex vivo - Unfixed\", \"Ex vivo - Unfixed\", \"Ex vivo - Unfixed\", \"Ex vivo - Unfixed\", \"Ex vivo - Unfixed\", \"Ex vivo - Unfixed\", \"Ex vivo - Unfixed\", \"Ex vivo - Unfixed\", \"Ex vivo - Unfixed\", \"Ex vivo - Unfixed\", \"Ex vivo - Unfixed\", \"Ex vivo - Unfixed\", \"Ex vivo - Unfixed\", \"Ex vivo - Unfixed\", \"Ex vivo - Unfixed\", \"Ex vivo - Unfixed\"], \"xaxis\": \"x2\", \"y\": [0.94, 0.7055999999999999, 0.48999999999999994, 0.0001, 0.4760999999999999, 0.6400000000000001, 0.7055999999999999, 0.6241000000000001, 0.4624000000000001, 0.6561, 0.4356, 0.36, 0.5625, 0.1521, 0.7056, 0.0676, 0.1089, 0.4356, 0.6724, 0.7569, 0.8649], \"yaxis\": \"y2\"}, {\"boxpoints\": \"all\", \"name\": \"N\", \"text\": [\"RD - Abe et al., 2019\", \"AD - Abe et al., 2019\", \"FA - Abe et al., 2019\", \"AD - Aojula et al., 2016\", \"RD - Aojula et al., 2016\", \"MD - Aojula et al., 2016\", \"FA - Aojula et al., 2016\", \"MTR - Beckmann et al., 2018\", \"MTV - Berman et al., 2018\", \"FA - Chandran et al., 2012\", \"RD - Chandran et al., 2012\", \"MTR - Duhamel et al., 2019\", \"ihMTR - Duhamel et al., 2019\", \"MTR - Fatemi et al., 2011\", \"MTR - Fjaer et al., 2013\", \"MTR - Fjaer et al., 2015\", \"MTR - Guglielmetti et al., 2020\", \"MTR-UTE - Guglielmetti et al., 2020\", \"T1 - Hakkarainen et al., 2016\", \"T2p - Hakkarainen et al., 2016\", \"RAFF - Hakkarainen et al., 2016\", \"T1p - Hakkarainen et al., 2016\", \"MTR - Hakkarainen et al., 2016\", \"T2 - Hakkarainen et al., 2016\", \"T2 - Jelescu et al., 2016\", \"MTR - Jelescu et al., 2016\", \"AWF - Jelescu et al., 2016\", \"RK - Jelescu et al., 2016\", \"RDe - Jelescu et al., 2016\", \"RD - Jelescu et al., 2016\", \"FA - Jito et al., 2008\", \"AWF - Kelm et al., 2016\", \"RK - Kelm et al., 2016\", \"RD - Kelm et al., 2016\", \"MK - Kelm et al., 2016\", \"MD - Kelm et al., 2016\", \"MPF - Khodanovic et al., 2017\", \"MPF - Khodanovic et al., 2019\", \"RD - Lehto et al., 2017a\", \"RAFF - Lehto et al., 2017a\", \"MTR - Lehto et al., 2017a\", \"AD - Lehto et al., 2017a\", \"T1sat - Lehto et al., 2017a\", \"FA - Lehto et al., 2017a\", \"MD - Lehto et al., 2017a\", \"MTR - Lehto et al., 2017b\", \"FA - Mollink et al., 2019\", \"QSM - Pol et al., 2019\", \"FA - Pol et al., 2019\", \"MD - Pol et al., 2019\", \"T1 - Reeves et al., 2016\", \"T2 - Reeves et al., 2016\", \"RD - Soustelle et al., 2019\", \"rSPF - Soustelle et al., 2019\", \"MPF - Soustelle et al., 2019\", \"MWF - Soustelle et al., 2019\", \"MD - Thiessen et al., 2013\", \"T1 - Thiessen et al., 2013\", \"T2f - Thiessen et al., 2013\", \"AD - Thiessen et al., 2013\", \"T2m - Thiessen et al., 2013\", \"FA - Thiessen et al., 2013\", \"T2 - Thiessen et al., 2013\", \"k_fm - Thiessen et al., 2013\", \"R1f - Thiessen et al., 2013\", \"k_mf - Thiessen et al., 2013\", \"RD - Thiessen et al., 2013\", \"MPF - Thiessen et al., 2013\", \"AD - Tu et al., 2016\", \"MD - Tu et al., 2016\", \"RD - Tu et al., 2016\", \"FA - Tu et al., 2016\", \"MTR - Tu et al., 2016\", \"MPF - Turati et al., 2015\", \"MPF - Underhill et al., 2011\", \"FA - Wang et al., 2009\", \"RD - Wang et al., 2009\", \"MD - Wendel et al., 2018\", \"AD - Wendel et al., 2018\", \"FA - Wendel et al., 2018\", \"RD - Wendel et al., 2018\", \"MPF - West et al., 2018\", \"MVF-MT - West et al., 2018\", \"MVF-T2 - West et al., 2018\", \"MWF - West et al., 2018\", \"T2 - Wu et al., 2008\", \"FA - Yano et al., 2018\", \"RD - Yano et al., 2018\", \"MD - Yano et al., 2018\", \"MTR - Zaaraoui et al., 2008\", \"FA - van Tilborg et al., 2017\"], \"type\": \"box\", \"x\": [\"N\", \"N\", \"N\", \"N\", \"N\", \"N\", \"N\", \"N\", \"N\", \"N\", \"N\", \"N\", \"N\", \"N\", \"N\", \"N\", \"N\", \"N\", \"N\", \"N\", \"N\", \"N\", \"N\", \"N\", \"N\", \"N\", \"N\", \"N\", \"N\", \"N\", \"N\", \"N\", \"N\", \"N\", \"N\", \"N\", \"N\", \"N\", \"N\", \"N\", \"N\", \"N\", \"N\", \"N\", \"N\", \"N\", \"N\", \"N\", \"N\", \"N\", \"N\", \"N\", \"N\", \"N\", \"N\", \"N\", \"N\", \"N\", \"N\", \"N\", \"N\", \"N\", \"N\", \"N\", \"N\", \"N\", \"N\", \"N\", \"N\", \"N\", \"N\", \"N\", \"N\", \"N\", \"N\", \"N\", \"N\", \"N\", \"N\", \"N\", \"N\", \"N\", \"N\", \"N\", \"N\", \"N\", \"N\", \"N\", \"N\", \"N\", \"N\"], \"xaxis\": \"x3\", \"y\": [0.1681, 0.0121, 0.1024, 0.1296, 0.2097, 0.245, 0.1197, 0.7668, 0.74, 0.5, 0.34, 0.78, 0.96, 0.695, 0.338, 0.01, 0.46, 0.76, 0.77, 0.34, 0.84, 0.63, 0.34, 0.18, 0.4096, 0.1024, 0.3025, 0.0196, 0.25, 0.5041, 0.7327, 0.3364, 0.2401, 0.1369, 0.2304, 0.1225, 0.779, 0.82, 0.0015, 0.552, 0.5169, 0.4199, 0.49, 0.2237, 0.3492, 0.94, 0.2704, 0.0361, 0.0576, 0.3481, 0.27, 0.235, 0.49, 0.7396, 0.7569, 0.4624, 0.6561, 0.4356, 0.36, 0.5625, 0.1521, 0.7056, 0.0676, 0.1089, 0.4356, 0.6724, 0.7569, 0.8649, 0.0001, 0.0289, 0.2116, 0.0169, 0.1444, 0.2872, 0.9801, 0.4637, 0.2787, 0.0564, 0.1987, 0.5707, 0.2973, 0.7, 0.7, 0.68, 0.66, 0.5184, 0.7569, 0.8281, 0.5329, 0.6241000000000001, 0.334], \"yaxis\": \"y3\"}, {\"boxpoints\": \"all\", \"name\": \"Y\", \"text\": [\"FA - Chang et al., 2017\", \"MD - Chang et al., 2017\", \"RD - Chang et al., 2017\", \"AD - Chang et al., 2017\", \"QSM - Hametner et al., 2018\", \"T1 - Hametner et al., 2018\", \"R2* - Hametner et al., 2018\", \"k_mf - Janve et al., 2013\", \"MPF - Janve et al., 2013\", \"RD - Janve et al., 2013\", \"R1f - Janve et al., 2013\", \"AD - Janve et al., 2013\", \"MD - Janve et al., 2013\", \"FA - Janve et al., 2013\", \"MWF - Laule et al., 2006\", \"MWF - Laule et al., 2008\", \"MTR - Schmierer et al., 2004\", \"T1 - Schmierer et al., 2004\", \"T2m - Schmierer et al., 2007a\", \"T1 - Schmierer et al., 2007a\", \"MPF - Schmierer et al., 2007a\", \"MTR - Schmierer et al., 2007a\", \"FA - Schmierer et al., 2007b\", \"MD - Schmierer et al., 2007b\", \"RD - Schmierer et al., 2008\", \"AD - Schmierer et al., 2008\", \"MD - Schmierer et al., 2008\", \"T1 - Schmierer et al., 2008\", \"T2 - Schmierer et al., 2008\", \"FA - Schmierer et al., 2008\", \"MPF - Schmierer et al., 2008\", \"MTR - Schmierer et al., 2008\", \"PD - Tardif et al., 2012\", \"MTR - Tardif et al., 2012\", \"T2 - Tardif et al., 2012\", \"T1 - Tardif et al., 2012\"], \"type\": \"box\", \"x\": [\"Y\", \"Y\", \"Y\", \"Y\", \"Y\", \"Y\", \"Y\", \"Y\", \"Y\", \"Y\", \"Y\", \"Y\", \"Y\", \"Y\", \"Y\", \"Y\", \"Y\", \"Y\", \"Y\", \"Y\", \"Y\", \"Y\", \"Y\", \"Y\", \"Y\", \"Y\", \"Y\", \"Y\", \"Y\", \"Y\", \"Y\", \"Y\", \"Y\", \"Y\", \"Y\", \"Y\"], \"xaxis\": \"x3\", \"y\": [0.1989, 0.0129, 0.038, 0.1482, 0.1239, 0.3398, 0.0007, 0.0256, 0.7225, 0.2401, 0.0961, 0.0064, 0.0784, 0.0729, 0.67, 0.78, 0.7055999999999999, 0.48999999999999994, 0.0001, 0.4760999999999999, 0.6400000000000001, 0.7055999999999999, 0.6241000000000001, 0.4624000000000001, 0.6561, 0.64, 0.6084, 0.7921, 0.8464, 0.6889, 0.7396, 0.4624, 0.3481, 0.36, 0.4225, 0.5929], \"yaxis\": \"y3\"}, {\"boxpoints\": \"all\", \"name\": \"Animal - Mouse\", \"text\": [\"RD - Abe et al., 2019\", \"AD - Abe et al., 2019\", \"FA - Abe et al., 2019\", \"MTR - Beckmann et al., 2018\", \"MTV - Berman et al., 2018\", \"FA - Chandran et al., 2012\", \"RD - Chandran et al., 2012\", \"FA - Chang et al., 2017\", \"MD - Chang et al., 2017\", \"RD - Chang et al., 2017\", \"AD - Chang et al., 2017\", \"MTR - Duhamel et al., 2019\", \"ihMTR - Duhamel et al., 2019\", \"MTR - Fatemi et al., 2011\", \"MTR - Fjaer et al., 2013\", \"MTR - Fjaer et al., 2015\", \"MTR - Guglielmetti et al., 2020\", \"MTR-UTE - Guglielmetti et al., 2020\", \"T2 - Jelescu et al., 2016\", \"MTR - Jelescu et al., 2016\", \"AWF - Jelescu et al., 2016\", \"RK - Jelescu et al., 2016\", \"RDe - Jelescu et al., 2016\", \"RD - Jelescu et al., 2016\", \"FA - Jito et al., 2008\", \"AWF - Kelm et al., 2016\", \"RK - Kelm et al., 2016\", \"RD - Kelm et al., 2016\", \"MK - Kelm et al., 2016\", \"MD - Kelm et al., 2016\", \"MPF - Khodanovic et al., 2017\", \"MPF - Khodanovic et al., 2019\", \"QSM - Pol et al., 2019\", \"FA - Pol et al., 2019\", \"MD - Pol et al., 2019\", \"RD - Soustelle et al., 2019\", \"rSPF - Soustelle et al., 2019\", \"MPF - Soustelle et al., 2019\", \"MWF - Soustelle et al., 2019\", \"MD - Thiessen et al., 2013\", \"T1 - Thiessen et al., 2013\", \"T2f - Thiessen et al., 2013\", \"AD - Thiessen et al., 2013\", \"T2m - Thiessen et al., 2013\", \"FA - Thiessen et al., 2013\", \"T2 - Thiessen et al., 2013\", \"k_fm - Thiessen et al., 2013\", \"R1f - Thiessen et al., 2013\", \"k_mf - Thiessen et al., 2013\", \"RD - Thiessen et al., 2013\", \"MPF - Thiessen et al., 2013\", \"MPF - Turati et al., 2015\", \"MPF - Underhill et al., 2011\", \"MD - Wendel et al., 2018\", \"AD - Wendel et al., 2018\", \"FA - Wendel et al., 2018\", \"RD - Wendel et al., 2018\", \"MPF - West et al., 2018\", \"MVF-MT - West et al., 2018\", \"MVF-T2 - West et al., 2018\", \"MWF - West et al., 2018\", \"T2 - Wu et al., 2008\", \"FA - Yano et al., 2018\", \"RD - Yano et al., 2018\", \"MD - Yano et al., 2018\", \"MTR - Zaaraoui et al., 2008\"], \"type\": \"box\", \"x\": [\"Animal - Mouse\", \"Animal - Mouse\", \"Animal - Mouse\", \"Animal - Mouse\", \"Animal - Mouse\", \"Animal - Mouse\", \"Animal - Mouse\", \"Animal - Mouse\", \"Animal - Mouse\", \"Animal - Mouse\", \"Animal - Mouse\", \"Animal - Mouse\", \"Animal - Mouse\", \"Animal - Mouse\", \"Animal - Mouse\", \"Animal - Mouse\", \"Animal - Mouse\", \"Animal - Mouse\", \"Animal - Mouse\", \"Animal - Mouse\", \"Animal - Mouse\", \"Animal - Mouse\", \"Animal - Mouse\", \"Animal - Mouse\", \"Animal - Mouse\", \"Animal - Mouse\", \"Animal - Mouse\", \"Animal - Mouse\", \"Animal - Mouse\", \"Animal - Mouse\", \"Animal - Mouse\", \"Animal - Mouse\", \"Animal - Mouse\", \"Animal - Mouse\", \"Animal - Mouse\", \"Animal - Mouse\", \"Animal - Mouse\", \"Animal - Mouse\", \"Animal - Mouse\", \"Animal - Mouse\", \"Animal - Mouse\", \"Animal - Mouse\", \"Animal - Mouse\", \"Animal - Mouse\", \"Animal - Mouse\", \"Animal - Mouse\", \"Animal - Mouse\", \"Animal - Mouse\", \"Animal - Mouse\", \"Animal - Mouse\", \"Animal - Mouse\", \"Animal - Mouse\", \"Animal - Mouse\", \"Animal - Mouse\", \"Animal - Mouse\", \"Animal - Mouse\", \"Animal - Mouse\", \"Animal - Mouse\", \"Animal - Mouse\", \"Animal - Mouse\", \"Animal - Mouse\", \"Animal - Mouse\", \"Animal - Mouse\", \"Animal - Mouse\", \"Animal - Mouse\", \"Animal - Mouse\"], \"xaxis\": \"x4\", \"y\": [0.1681, 0.0121, 0.1024, 0.7668, 0.74, 0.5, 0.34, 0.1989, 0.0129, 0.038, 0.1482, 0.78, 0.96, 0.695, 0.338, 0.01, 0.46, 0.76, 0.4096, 0.1024, 0.3025, 0.0196, 0.25, 0.5041, 0.7327, 0.3364, 0.2401, 0.1369, 0.2304, 0.1225, 0.779, 0.82, 0.0361, 0.0576, 0.3481, 0.49, 0.7396, 0.7569, 0.4624, 0.6561, 0.4356, 0.36, 0.5625, 0.1521, 0.7056, 0.0676, 0.1089, 0.4356, 0.6724, 0.7569, 0.8649, 0.2872, 0.9801, 0.0564, 0.1987, 0.5707, 0.2973, 0.7, 0.7, 0.68, 0.66, 0.5184, 0.7569, 0.8281, 0.5329, 0.6241000000000001], \"yaxis\": \"y4\"}, {\"boxpoints\": \"all\", \"name\": \"Animal - Rat\", \"text\": [\"AD - Aojula et al., 2016\", \"RD - Aojula et al., 2016\", \"MD - Aojula et al., 2016\", \"FA - Aojula et al., 2016\", \"T1 - Hakkarainen et al., 2016\", \"T2p - Hakkarainen et al., 2016\", \"RAFF - Hakkarainen et al., 2016\", \"T1p - Hakkarainen et al., 2016\", \"MTR - Hakkarainen et al., 2016\", \"T2 - Hakkarainen et al., 2016\", \"k_mf - Janve et al., 2013\", \"MPF - Janve et al., 2013\", \"RD - Janve et al., 2013\", \"R1f - Janve et al., 2013\", \"AD - Janve et al., 2013\", \"MD - Janve et al., 2013\", \"FA - Janve et al., 2013\", \"RD - Lehto et al., 2017a\", \"RAFF - Lehto et al., 2017a\", \"MTR - Lehto et al., 2017a\", \"AD - Lehto et al., 2017a\", \"T1sat - Lehto et al., 2017a\", \"FA - Lehto et al., 2017a\", \"MD - Lehto et al., 2017a\", \"MTR - Lehto et al., 2017b\", \"AD - Tu et al., 2016\", \"MD - Tu et al., 2016\", \"RD - Tu et al., 2016\", \"FA - Tu et al., 2016\", \"MTR - Tu et al., 2016\", \"FA - Wang et al., 2009\", \"RD - Wang et al., 2009\", \"FA - van Tilborg et al., 2017\"], \"type\": \"box\", \"x\": [\"Animal - Rat\", \"Animal - Rat\", \"Animal - Rat\", \"Animal - Rat\", \"Animal - Rat\", \"Animal - Rat\", \"Animal - Rat\", \"Animal - Rat\", \"Animal - Rat\", \"Animal - Rat\", \"Animal - Rat\", \"Animal - Rat\", \"Animal - Rat\", \"Animal - Rat\", \"Animal - Rat\", \"Animal - Rat\", \"Animal - Rat\", \"Animal - Rat\", \"Animal - Rat\", \"Animal - Rat\", \"Animal - Rat\", \"Animal - Rat\", \"Animal - Rat\", \"Animal - Rat\", \"Animal - Rat\", \"Animal - Rat\", \"Animal - Rat\", \"Animal - Rat\", \"Animal - Rat\", \"Animal - Rat\", \"Animal - Rat\", \"Animal - Rat\", \"Animal - Rat\"], \"xaxis\": \"x4\", \"y\": [0.1296, 0.2097, 0.245, 0.1197, 0.77, 0.34, 0.84, 0.63, 0.34, 0.18, 0.0256, 0.7225, 0.2401, 0.0961, 0.0064, 0.0784, 0.0729, 0.0015, 0.552, 0.5169, 0.4199, 0.49, 0.2237, 0.3492, 0.94, 0.0001, 0.0289, 0.2116, 0.0169, 0.1444, 0.4637, 0.2787, 0.334], \"yaxis\": \"y4\"}, {\"boxpoints\": \"all\", \"name\": \"Human\", \"text\": [\"QSM - Hametner et al., 2018\", \"T1 - Hametner et al., 2018\", \"R2* - Hametner et al., 2018\", \"MWF - Laule et al., 2006\", \"MWF - Laule et al., 2008\", \"FA - Mollink et al., 2019\", \"T1 - Reeves et al., 2016\", \"T2 - Reeves et al., 2016\", \"MTR - Schmierer et al., 2004\", \"T1 - Schmierer et al., 2004\", \"T2m - Schmierer et al., 2007a\", \"T1 - Schmierer et al., 2007a\", \"MPF - Schmierer et al., 2007a\", \"MTR - Schmierer et al., 2007a\", \"FA - Schmierer et al., 2007b\", \"MD - Schmierer et al., 2007b\", \"RD - Schmierer et al., 2008\", \"AD - Schmierer et al., 2008\", \"MD - Schmierer et al., 2008\", \"T1 - Schmierer et al., 2008\", \"T2 - Schmierer et al., 2008\", \"FA - Schmierer et al., 2008\", \"MPF - Schmierer et al., 2008\", \"MTR - Schmierer et al., 2008\", \"PD - Tardif et al., 2012\", \"MTR - Tardif et al., 2012\", \"T2 - Tardif et al., 2012\", \"T1 - Tardif et al., 2012\"], \"type\": \"box\", \"x\": [\"Human\", \"Human\", \"Human\", \"Human\", \"Human\", \"Human\", \"Human\", \"Human\", \"Human\", \"Human\", \"Human\", \"Human\", \"Human\", \"Human\", \"Human\", \"Human\", \"Human\", \"Human\", \"Human\", \"Human\", \"Human\", \"Human\", \"Human\", \"Human\", \"Human\", \"Human\", \"Human\", \"Human\"], \"xaxis\": \"x4\", \"y\": [0.1239, 0.3398, 0.0007, 0.67, 0.78, 0.2704, 0.27, 0.235, 0.7055999999999999, 0.48999999999999994, 0.0001, 0.4760999999999999, 0.6400000000000001, 0.7055999999999999, 0.6241000000000001, 0.4624000000000001, 0.6561, 0.64, 0.6084, 0.7921, 0.8464, 0.6889, 0.7396, 0.4624, 0.3481, 0.36, 0.4225, 0.5929], \"yaxis\": \"y4\"}],\n                        {\"annotations\": [{\"font\": {\"size\": 16}, \"showarrow\": false, \"text\": \"R<sup>2</sup> values and magnetic fields\", \"x\": 0.225, \"xanchor\": \"center\", \"xref\": \"paper\", \"y\": 1.0, \"yanchor\": \"bottom\", \"yref\": \"paper\"}, {\"font\": {\"size\": 16}, \"showarrow\": false, \"text\": \"R<sup>2</sup> values and tissue conditions\", \"x\": 0.775, \"xanchor\": \"center\", \"xref\": \"paper\", \"y\": 1.0, \"yanchor\": \"bottom\", \"yref\": \"paper\"}, {\"font\": {\"size\": 16}, \"showarrow\": false, \"text\": \"R<sup>2</sup> values and co-registration\", \"x\": 0.225, \"xanchor\": \"center\", \"xref\": \"paper\", \"y\": 0.41000000000000003, \"yanchor\": \"bottom\", \"yref\": \"paper\"}, {\"font\": {\"size\": 16}, \"showarrow\": false, \"text\": \"R<sup>2</sup> values and human/animal tissue\", \"x\": 0.775, \"xanchor\": \"center\", \"xref\": \"paper\", \"y\": 0.41000000000000003, \"yanchor\": \"bottom\", \"yref\": \"paper\"}, {\"font\": {\"size\": 16}, \"showarrow\": false, \"text\": \"R<sup>2</sup>\", \"textangle\": -90, \"x\": 0, \"xanchor\": \"right\", \"xref\": \"paper\", \"xshift\": -40, \"y\": 0.5, \"yanchor\": \"middle\", \"yref\": \"paper\"}, {\"font\": {\"color\": \"gray\", \"size\": 8}, \"showarrow\": false, \"text\": \"<a href=\\\"https://neurolibre.com\\\" target=\\\"_blank\\\" style=\\\"color:gray!important\\\">NeuroLibre</a>\", \"x\": 1, \"xref\": \"paper\", \"y\": -0.2, \"yref\": \"paper\"}], \"height\": 600, \"images\": [{\"opacity\": 0.9, \"sizex\": 0.04, \"sizey\": 0.04, \"source\": \"https://raw.githubusercontent.com/notebook-factory/brand/main/nlibre_custom2.svg\", \"x\": 0.88, \"xref\": \"paper\", \"y\": -0.15200000000000002, \"yref\": \"paper\"}], \"margin\": {\"l\": 100}, \"showlegend\": false, \"template\": {\"data\": {\"bar\": [{\"error_x\": {\"color\": \"#2a3f5f\"}, \"error_y\": {\"color\": \"#2a3f5f\"}, \"marker\": {\"line\": {\"color\": \"#E5ECF6\", \"width\": 0.5}}, \"type\": \"bar\"}], \"barpolar\": [{\"marker\": {\"line\": {\"color\": \"#E5ECF6\", \"width\": 0.5}}, \"type\": \"barpolar\"}], \"carpet\": [{\"aaxis\": {\"endlinecolor\": \"#2a3f5f\", \"gridcolor\": \"white\", \"linecolor\": \"white\", \"minorgridcolor\": \"white\", \"startlinecolor\": \"#2a3f5f\"}, \"baxis\": {\"endlinecolor\": \"#2a3f5f\", \"gridcolor\": \"white\", \"linecolor\": \"white\", \"minorgridcolor\": \"white\", \"startlinecolor\": \"#2a3f5f\"}, \"type\": \"carpet\"}], \"choropleth\": [{\"colorbar\": {\"outlinewidth\": 0, \"ticks\": \"\"}, \"type\": \"choropleth\"}], \"contour\": [{\"colorbar\": {\"outlinewidth\": 0, \"ticks\": \"\"}, \"colorscale\": [[0.0, \"#0d0887\"], [0.1111111111111111, \"#46039f\"], [0.2222222222222222, \"#7201a8\"], [0.3333333333333333, \"#9c179e\"], [0.4444444444444444, \"#bd3786\"], [0.5555555555555556, \"#d8576b\"], [0.6666666666666666, \"#ed7953\"], [0.7777777777777778, \"#fb9f3a\"], [0.8888888888888888, \"#fdca26\"], [1.0, \"#f0f921\"]], \"type\": \"contour\"}], \"contourcarpet\": [{\"colorbar\": {\"outlinewidth\": 0, \"ticks\": \"\"}, \"type\": \"contourcarpet\"}], \"heatmap\": [{\"colorbar\": {\"outlinewidth\": 0, \"ticks\": \"\"}, \"colorscale\": [[0.0, \"#0d0887\"], [0.1111111111111111, \"#46039f\"], [0.2222222222222222, \"#7201a8\"], [0.3333333333333333, \"#9c179e\"], [0.4444444444444444, \"#bd3786\"], [0.5555555555555556, \"#d8576b\"], [0.6666666666666666, \"#ed7953\"], [0.7777777777777778, \"#fb9f3a\"], [0.8888888888888888, \"#fdca26\"], [1.0, \"#f0f921\"]], \"type\": \"heatmap\"}], \"heatmapgl\": [{\"colorbar\": {\"outlinewidth\": 0, \"ticks\": \"\"}, \"colorscale\": [[0.0, \"#0d0887\"], [0.1111111111111111, \"#46039f\"], [0.2222222222222222, \"#7201a8\"], [0.3333333333333333, \"#9c179e\"], [0.4444444444444444, \"#bd3786\"], [0.5555555555555556, \"#d8576b\"], [0.6666666666666666, \"#ed7953\"], [0.7777777777777778, \"#fb9f3a\"], [0.8888888888888888, \"#fdca26\"], [1.0, \"#f0f921\"]], \"type\": \"heatmapgl\"}], \"histogram\": [{\"marker\": {\"colorbar\": {\"outlinewidth\": 0, \"ticks\": \"\"}}, \"type\": \"histogram\"}], \"histogram2d\": [{\"colorbar\": {\"outlinewidth\": 0, \"ticks\": \"\"}, \"colorscale\": [[0.0, \"#0d0887\"], [0.1111111111111111, \"#46039f\"], [0.2222222222222222, \"#7201a8\"], [0.3333333333333333, \"#9c179e\"], [0.4444444444444444, \"#bd3786\"], [0.5555555555555556, \"#d8576b\"], [0.6666666666666666, \"#ed7953\"], [0.7777777777777778, \"#fb9f3a\"], [0.8888888888888888, \"#fdca26\"], [1.0, \"#f0f921\"]], \"type\": \"histogram2d\"}], \"histogram2dcontour\": [{\"colorbar\": {\"outlinewidth\": 0, \"ticks\": \"\"}, \"colorscale\": [[0.0, \"#0d0887\"], [0.1111111111111111, \"#46039f\"], [0.2222222222222222, \"#7201a8\"], [0.3333333333333333, \"#9c179e\"], [0.4444444444444444, \"#bd3786\"], [0.5555555555555556, \"#d8576b\"], [0.6666666666666666, \"#ed7953\"], [0.7777777777777778, \"#fb9f3a\"], [0.8888888888888888, \"#fdca26\"], [1.0, \"#f0f921\"]], \"type\": \"histogram2dcontour\"}], \"mesh3d\": [{\"colorbar\": {\"outlinewidth\": 0, \"ticks\": \"\"}, \"type\": \"mesh3d\"}], \"parcoords\": [{\"line\": {\"colorbar\": {\"outlinewidth\": 0, \"ticks\": \"\"}}, \"type\": \"parcoords\"}], \"pie\": [{\"automargin\": true, \"type\": \"pie\"}], \"scatter\": [{\"marker\": {\"colorbar\": {\"outlinewidth\": 0, \"ticks\": \"\"}}, \"type\": \"scatter\"}], \"scatter3d\": [{\"line\": {\"colorbar\": {\"outlinewidth\": 0, \"ticks\": \"\"}}, \"marker\": {\"colorbar\": {\"outlinewidth\": 0, \"ticks\": \"\"}}, \"type\": \"scatter3d\"}], \"scattercarpet\": [{\"marker\": {\"colorbar\": {\"outlinewidth\": 0, \"ticks\": \"\"}}, \"type\": \"scattercarpet\"}], \"scattergeo\": [{\"marker\": {\"colorbar\": {\"outlinewidth\": 0, \"ticks\": \"\"}}, \"type\": \"scattergeo\"}], \"scattergl\": [{\"marker\": {\"colorbar\": {\"outlinewidth\": 0, \"ticks\": \"\"}}, \"type\": \"scattergl\"}], \"scattermapbox\": [{\"marker\": {\"colorbar\": {\"outlinewidth\": 0, \"ticks\": \"\"}}, \"type\": \"scattermapbox\"}], \"scatterpolar\": [{\"marker\": {\"colorbar\": {\"outlinewidth\": 0, \"ticks\": \"\"}}, \"type\": \"scatterpolar\"}], \"scatterpolargl\": [{\"marker\": {\"colorbar\": {\"outlinewidth\": 0, \"ticks\": \"\"}}, \"type\": \"scatterpolargl\"}], \"scatterternary\": [{\"marker\": {\"colorbar\": {\"outlinewidth\": 0, \"ticks\": \"\"}}, \"type\": \"scatterternary\"}], \"surface\": [{\"colorbar\": {\"outlinewidth\": 0, \"ticks\": \"\"}, \"colorscale\": [[0.0, \"#0d0887\"], [0.1111111111111111, \"#46039f\"], [0.2222222222222222, \"#7201a8\"], [0.3333333333333333, \"#9c179e\"], [0.4444444444444444, \"#bd3786\"], [0.5555555555555556, \"#d8576b\"], [0.6666666666666666, \"#ed7953\"], [0.7777777777777778, \"#fb9f3a\"], [0.8888888888888888, \"#fdca26\"], [1.0, \"#f0f921\"]], \"type\": \"surface\"}], \"table\": [{\"cells\": {\"fill\": {\"color\": \"#EBF0F8\"}, \"line\": {\"color\": \"white\"}}, \"header\": {\"fill\": {\"color\": \"#C8D4E3\"}, \"line\": {\"color\": \"white\"}}, \"type\": \"table\"}]}, \"layout\": {\"annotationdefaults\": {\"arrowcolor\": \"#2a3f5f\", \"arrowhead\": 0, \"arrowwidth\": 1}, \"coloraxis\": {\"colorbar\": {\"outlinewidth\": 0, \"ticks\": \"\"}}, \"colorscale\": {\"diverging\": [[0, \"#8e0152\"], [0.1, \"#c51b7d\"], [0.2, \"#de77ae\"], [0.3, \"#f1b6da\"], [0.4, \"#fde0ef\"], [0.5, \"#f7f7f7\"], [0.6, \"#e6f5d0\"], [0.7, \"#b8e186\"], [0.8, \"#7fbc41\"], [0.9, \"#4d9221\"], [1, \"#276419\"]], \"sequential\": [[0.0, \"#0d0887\"], [0.1111111111111111, \"#46039f\"], [0.2222222222222222, \"#7201a8\"], [0.3333333333333333, \"#9c179e\"], [0.4444444444444444, \"#bd3786\"], [0.5555555555555556, \"#d8576b\"], [0.6666666666666666, \"#ed7953\"], [0.7777777777777778, \"#fb9f3a\"], [0.8888888888888888, \"#fdca26\"], [1.0, \"#f0f921\"]], \"sequentialminus\": [[0.0, \"#0d0887\"], [0.1111111111111111, \"#46039f\"], [0.2222222222222222, \"#7201a8\"], [0.3333333333333333, \"#9c179e\"], [0.4444444444444444, \"#bd3786\"], [0.5555555555555556, \"#d8576b\"], [0.6666666666666666, \"#ed7953\"], [0.7777777777777778, \"#fb9f3a\"], [0.8888888888888888, \"#fdca26\"], [1.0, \"#f0f921\"]]}, \"colorway\": [\"#636efa\", \"#EF553B\", \"#00cc96\", \"#ab63fa\", \"#FFA15A\", \"#19d3f3\", \"#FF6692\", \"#B6E880\", \"#FF97FF\", \"#FECB52\"], \"font\": {\"color\": \"#2a3f5f\"}, \"geo\": {\"bgcolor\": \"white\", \"lakecolor\": \"white\", \"landcolor\": \"#E5ECF6\", \"showlakes\": true, \"showland\": true, \"subunitcolor\": \"white\"}, \"hoverlabel\": {\"align\": \"left\"}, \"hovermode\": \"closest\", \"mapbox\": {\"style\": \"light\"}, \"paper_bgcolor\": \"white\", \"plot_bgcolor\": \"#E5ECF6\", \"polar\": {\"angularaxis\": {\"gridcolor\": \"white\", \"linecolor\": \"white\", \"ticks\": \"\"}, \"bgcolor\": \"#E5ECF6\", \"radialaxis\": {\"gridcolor\": \"white\", \"linecolor\": \"white\", \"ticks\": \"\"}}, \"scene\": {\"xaxis\": {\"backgroundcolor\": \"#E5ECF6\", \"gridcolor\": \"white\", \"gridwidth\": 2, \"linecolor\": \"white\", \"showbackground\": true, \"ticks\": \"\", \"zerolinecolor\": \"white\"}, \"yaxis\": {\"backgroundcolor\": \"#E5ECF6\", \"gridcolor\": \"white\", \"gridwidth\": 2, \"linecolor\": \"white\", \"showbackground\": true, \"ticks\": \"\", \"zerolinecolor\": \"white\"}, \"zaxis\": {\"backgroundcolor\": \"#E5ECF6\", \"gridcolor\": \"white\", \"gridwidth\": 2, \"linecolor\": \"white\", \"showbackground\": true, \"ticks\": \"\", \"zerolinecolor\": \"white\"}}, \"shapedefaults\": {\"line\": {\"color\": \"#2a3f5f\"}}, \"ternary\": {\"aaxis\": {\"gridcolor\": \"white\", \"linecolor\": \"white\", \"ticks\": \"\"}, \"baxis\": {\"gridcolor\": \"white\", \"linecolor\": \"white\", \"ticks\": \"\"}, \"bgcolor\": \"#E5ECF6\", \"caxis\": {\"gridcolor\": \"white\", \"linecolor\": \"white\", \"ticks\": \"\"}}, \"title\": {\"x\": 0.05}, \"xaxis\": {\"automargin\": true, \"gridcolor\": \"white\", \"linecolor\": \"white\", \"ticks\": \"\", \"title\": {\"standoff\": 15}, \"zerolinecolor\": \"white\", \"zerolinewidth\": 2}, \"yaxis\": {\"automargin\": true, \"gridcolor\": \"white\", \"linecolor\": \"white\", \"ticks\": \"\", \"title\": {\"standoff\": 15}, \"zerolinecolor\": \"white\", \"zerolinewidth\": 2}}}, \"title\": {\"text\": \"Figure 8: Other factors to consider when assessing R<sup>2</sup>\", \"x\": 0.1}, \"width\": 700, \"xaxis\": {\"anchor\": \"y\", \"domain\": [0.0, 0.45], \"title\": {\"text\": \"Magnetic field [T]\"}}, \"xaxis2\": {\"anchor\": \"y2\", \"domain\": [0.55, 1.0]}, \"xaxis3\": {\"anchor\": \"y3\", \"domain\": [0.0, 0.45]}, \"xaxis4\": {\"anchor\": \"y4\", \"domain\": [0.55, 1.0]}, \"yaxis\": {\"anchor\": \"x\", \"domain\": [0.5900000000000001, 1.0]}, \"yaxis2\": {\"anchor\": \"x2\", \"domain\": [0.5900000000000001, 1.0]}, \"yaxis3\": {\"anchor\": \"x3\", \"domain\": [0.0, 0.41000000000000003]}, \"yaxis4\": {\"anchor\": \"x4\", \"domain\": [0.0, 0.41000000000000003]}},\n                        {\"responsive\": true}\n                    ).then(function(){\n                            \nvar gd = document.getElementById('77eca2fe-064c-4f6d-a7d5-3c91db073c9e');\nvar x = new MutationObserver(function (mutations, observer) {{\n        var display = window.getComputedStyle(gd).display;\n        if (!display || display === 'none') {{\n            console.log([gd, 'removed!']);\n            Plotly.purge(gd);\n            observer.disconnect();\n        }}\n}});\n\n// Listen for the removal of the full notebook cells\nvar notebookContainer = gd.closest('#notebook-container');\nif (notebookContainer) {{\n    x.observe(notebookContainer, {childList: true});\n}}\n\n// Listen for the clearing of the current output cell\nvar outputEl = gd.closest('.output');\nif (outputEl) {{\n    x.observe(outputEl, {childList: true});\n}}\n\n                        })\n                };\n                });\n            </script>\n        </div>"
     },
     "metadata": {},
     "output_type": "display_data"
    }
   ],
   "source": [
    "measure_type = {'Diffusion':['RD', 'AD', 'FA', 'MD',\n",
    "                'AWF', 'RK', 'RDe', 'MK'],\n",
    "                'Magnetization transfer':['MTR',\n",
    "                'ihMTR', 'MTR-UTE', 'MPF', 'MVF-MT',\n",
    "                'R1f', 'T2m', 'T2f', 'k_mf','k_fm'],\n",
    "                'T1 relaxometry':['T1'], 'T2 relaxometry':['T2', 'MWF', 'MVF-T2'],\n",
    "                'Other':['QSM', 'R2*', 'rSPF', 'MTV',\n",
    "                'T1p', 'T2p', 'RAFF', 'PD', 'T1sat']}\n",
    "\n",
    "color_dict = {m:plotly.colors.qualitative.Bold[n]\n",
    "              for n,m in enumerate(measure_type.keys())}\n",
    "\n",
    "fig8 = make_subplots(rows=2, cols=2, start_cell=\"top-left\", vertical_spacing=0.18, y_title='R<sup>2</sup>',\n",
    "                     subplot_titles=['R<sup>2</sup> values and magnetic fields',\n",
    "                                     'R<sup>2</sup> values and tissue conditions',\n",
    "                                     'R<sup>2</sup> values and co-registration',\n",
    "                                     'R<sup>2</sup> values and human/animal tissue'\n",
    "                                    ])\n",
    "\n",
    "for m in measure_type.keys():\n",
    "    df_m=filtered_df[filtered_df[\"Measure\"].isin(measure_type[m])]\n",
    "    fig8.add_trace(go.Scatter(x=df_m['Magnetic field'],\n",
    "                              y=df_m['R^2'],\n",
    "                              text=df_m['Measure'] + ' - ' + df_m['Study'],\n",
    "                              marker=dict(color=color_dict[m]),\n",
    "                              name=m,\n",
    "                              mode='markers'), col=1, row=1)\n",
    "\n",
    "fig8.update_layout(\n",
    "    xaxis=dict(title='Magnetic field [T]')\n",
    ")\n",
    "\n",
    "for t in filtered_df['Tissue condition'].unique():\n",
    "    df_t=filtered_df[filtered_df['Tissue condition']==t]\n",
    "    fig8.add_trace(go.Box(\n",
    "        y=df_t['R^2'],\n",
    "        x=df_t['Tissue condition'],\n",
    "        boxpoints='all',\n",
    "        text=df_t['Measure'] + ' - ' + df_t['Study'],\n",
    "        name=t\n",
    "    ), col=2, row=1)\n",
    "\n",
    "for t in filtered_df['Co-registration'].unique():\n",
    "    df_t=filtered_df[filtered_df['Co-registration']==t]\n",
    "    fig8.add_trace(go.Box(\n",
    "        y=df_t['R^2'],\n",
    "        x=df_t['Co-registration'],\n",
    "        boxpoints='all',\n",
    "        text=df_t['Measure'] + ' - ' + df_t['Study'],\n",
    "        name=t\n",
    "    ), col=1, row=2)\n",
    "\n",
    "for t in filtered_df['Human/animal'].unique():\n",
    "    df_t=filtered_df[filtered_df['Human/animal']==t]\n",
    "    fig8.add_trace(go.Box(\n",
    "        y=df_t['R^2'],\n",
    "        x=df_t['Human/animal'],\n",
    "        boxpoints='all',\n",
    "        text=df_t['Measure'] + ' - ' + df_t['Study'],\n",
    "        name=t\n",
    "    ), col=2, row=2)\n",
    "\n",
    "fig8.update_layout(\n",
    "    title=dict(text='Figure 8: Other factors to consider when assessing R<sup>2</sup>', x=0.1),\n",
    "    margin=dict(l=100),\n",
    "    showlegend=False,\n",
    "    height=600,\n",
    "    width=700\n",
    ")\n",
    "\n",
    "plot(insertLogo(fig8,0.04,0.04,1,-0.2,-0.12,0.048), filename = 'fig8.html',config = config)\n",
    "# display(HTML('fig8.html'))\n",
    "\n",
    "# fig8.show()\n",
    "plotly.offline.iplot(fig8, filename=\"Figure 8\")"
   ],
   "metadata": {
    "collapsed": false,
    "pycharm": {
     "name": "#%%\n"
    }
   }
  },
  {
   "cell_type": "code",
   "execution_count": 20,
   "outputs": [],
   "source": [],
   "metadata": {
    "collapsed": false,
    "pycharm": {
     "name": "#%%"
    }
   }
  },
  {
   "cell_type": "code",
   "execution_count": 20,
   "outputs": [],
   "source": [],
   "metadata": {
    "collapsed": false,
    "pycharm": {
     "name": "#%%\n"
    }
   }
  }
 ],
 "metadata": {
  "kernelspec": {
   "display_name": "Python 3",
   "language": "python",
   "name": "python3"
  },
  "language_info": {
   "codemirror_mode": {
    "name": "ipython",
    "version": 2
   },
   "file_extension": ".py",
   "mimetype": "text/x-python",
   "name": "python",
   "nbconvert_exporter": "python",
   "pygments_lexer": "ipython2",
   "version": "2.7.6"
  }
 },
 "nbformat": 4,
 "nbformat_minor": 0
}