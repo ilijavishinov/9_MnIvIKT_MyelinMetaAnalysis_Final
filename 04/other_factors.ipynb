{
 "cells": [
  {
   "cell_type": "markdown",
   "metadata": {},
   "source": [
    "## Potential confounders\n",
    "Can some of this variance be explained by the differences in methodological choices and experimental conditions we mention? The number of studies is limited for a quantitative evaluation, but we can get a qualitative idea using bar plots and scatter plots organized by each condition.\n",
    "\n",
    "```{admonition} Figure 7\n",
    ":class: tip\n",
    "Distributions of R<sup>2</sup> values in relation to the reference techniques, pathology and tissue types are visualized using box plots. You can mouse over markers to see the studies they are drawn from.\n",
    "```"
   ]
  },
  {
   "cell_type": "code",
   "execution_count": 8,
   "metadata": {
    "ExecuteTime": {
     "end_time": "2020-10-05T19:20:08.152798Z",
     "start_time": "2020-10-05T19:20:03.843434Z"
    },
    "tags": [
     "hide_input"
    ]
   },
   "outputs": [],
   "source": [
    "import numpy as np\n",
    "import pandas as pd\n",
    "\n",
    "import plotly.graph_objects as go\n",
    "from IPython.core.display import display, HTML\n",
    "from plotly.offline import plot\n",
    "import plotly.express as px\n",
    "import plotly.colors\n",
    "from plotly.subplots import make_subplots\n",
    "\n",
    "from rpy2.robjects.packages import importr\n",
    "import rpy2.robjects\n",
    "import subprocess\n",
    "subprocess.call('curl https://raw.githubusercontent.com/Notebook-Factory/brand/main/insertLogo.py --output /tmp/insertLogo.py', shell=True)\n",
    "def insertLogo(fig,scX,scY,posX,posY,imXshift,imYshift):\n",
    "    fig.layout.images = [dict(source=\"https://raw.githubusercontent.com/notebook-factory/brand/main/nlibre_custom2.svg\",xref=\"paper\", yref=\"paper\",x=posX+imXshift, y=posY+imYshift,\n",
    "                sizex=scX , sizey=scY, opacity = 0.9)]\n",
    "    fig.add_annotation(x=posX,y=posY,xref=\"paper\",yref=\"paper\",text=\"<a href=\\\"https://neurolibre.com\\\" target=\\\"_blank\\\" style=\\\"color:gray!important\\\">NeuroLibre</a>\",\n",
    "               showarrow = False, font=dict(size=8, color=\"gray\"))\n",
    "\n",
    "    return fig"
   ]
  },
  {
   "cell_type": "markdown",
   "metadata": {},
   "source": [
    "### Figure 7"
   ]
  },
  {
   "cell_type": "code",
   "execution_count": 9,
   "metadata": {
    "tags": [
     "hide_input"
    ]
   },
   "outputs": [
    {
     "data": {
      "application/vnd.plotly.v1+json": {
       "config": {
        "plotlyServerURL": "https://plot.ly"
       },
       "data": [
        {
         "boxpoints": "all",
         "name": "Histology",
         "text": [
          "MTR - Beckmann et al., 2018",
          "T1 - Hakkarainen et al., 2016",
          "T2p - Hakkarainen et al., 2016",
          "RAFF - Hakkarainen et al., 2016",
          "T1p - Hakkarainen et al., 2016",
          "MTR - Hakkarainen et al., 2016",
          "T2 - Hakkarainen et al., 2016",
          "QSM - Hametner et al., 2018",
          "T1 - Hametner et al., 2018",
          "R2* - Hametner et al., 2018",
          "k_mf - Janve et al., 2013",
          "MPF - Janve et al., 2013",
          "RD - Janve et al., 2013",
          "R1f - Janve et al., 2013",
          "AD - Janve et al., 2013",
          "MD - Janve et al., 2013",
          "FA - Janve et al., 2013",
          "MPF - Khodanovic et al., 2017",
          "MWF - Laule et al., 2006",
          "MWF - Laule et al., 2008",
          "RD - Lehto et al., 2017a",
          "RAFF - Lehto et al., 2017a",
          "MTR - Lehto et al., 2017a",
          "AD - Lehto et al., 2017a",
          "T1sat - Lehto et al., 2017a",
          "FA - Lehto et al., 2017a",
          "MD - Lehto et al., 2017a",
          "MTR - Lehto et al., 2017b",
          "QSM - Pol et al., 2019",
          "FA - Pol et al., 2019",
          "MD - Pol et al., 2019",
          "MTR - Schmierer et al., 2004",
          "T1 - Schmierer et al., 2004",
          "T2m - Schmierer et al., 2007a",
          "T1 - Schmierer et al., 2007a",
          "MPF - Schmierer et al., 2007a",
          "MTR - Schmierer et al., 2007a",
          "FA - Schmierer et al., 2007b",
          "MD - Schmierer et al., 2007b",
          "RD - Schmierer et al., 2008",
          "AD - Schmierer et al., 2008",
          "MD - Schmierer et al., 2008",
          "T1 - Schmierer et al., 2008",
          "T2 - Schmierer et al., 2008",
          "FA - Schmierer et al., 2008",
          "MPF - Schmierer et al., 2008",
          "MTR - Schmierer et al., 2008",
          "MPF - Underhill et al., 2011",
          "FA - Wang et al., 2009",
          "RD - Wang et al., 2009",
          "T2 - Wu et al., 2008"
         ],
         "type": "box",
         "x": [
          "Histology - LFB",
          "Histology - Gold chloride",
          "Histology - Gold chloride",
          "Histology - Gold chloride",
          "Histology - Gold chloride",
          "Histology - Gold chloride",
          "Histology - Gold chloride",
          "Histology - LFB",
          "Histology - LFB",
          "Histology - LFB",
          "Histology - LFB",
          "Histology - LFB",
          "Histology - LFB",
          "Histology - LFB",
          "Histology - LFB",
          "Histology - LFB",
          "Histology - LFB",
          "Histology - LFB",
          "Histology - LFB",
          "Histology - LFB",
          "Histology - Gold chloride",
          "Histology - Gold chloride",
          "Histology - Gold chloride",
          "Histology - Gold chloride",
          "Histology - Gold chloride",
          "Histology - Gold chloride",
          "Histology - Gold chloride",
          "Histology - Gold chloride",
          "Histology - Solochrome",
          "Histology - Solochrome",
          "Histology - Solochrome",
          "Histology - LFB",
          "Histology - LFB",
          "Histology - LFB",
          "Histology - LFB",
          "Histology - LFB",
          "Histology - LFB",
          "Histology - LFB",
          "Histology - LFB",
          "Histology - LFB",
          "Histology - LFB",
          "Histology - LFB",
          "Histology - LFB",
          "Histology - LFB",
          "Histology - LFB",
          "Histology - LFB",
          "Histology - LFB",
          "Histology - LFB",
          "Histology - LFB",
          "Histology - LFB",
          "Histology - LFB"
         ],
         "xaxis": "x",
         "y": [
          0.7668,
          0.77,
          0.34,
          0.84,
          0.63,
          0.34,
          0.18,
          0.1239,
          0.3398,
          7.0E-4,
          0.0256,
          0.7225,
          0.2401,
          0.0961,
          0.0064,
          0.0784,
          0.0729,
          0.779,
          0.67,
          0.78,
          0.0015,
          0.552,
          0.5169,
          0.4199,
          0.49,
          0.2237,
          0.3492,
          0.94,
          0.0361,
          0.0576,
          0.3481,
          0.7055999999999999,
          0.48999999999999994,
          1.0E-4,
          0.4760999999999999,
          0.6400000000000001,
          0.7055999999999999,
          0.6241000000000001,
          0.4624000000000001,
          0.6561,
          0.64,
          0.6084,
          0.7921,
          0.8464,
          0.6889,
          0.7396,
          0.4624,
          0.9801,
          0.4637,
          0.2787,
          0.5184
         ],
         "yaxis": "y"
        },
        {
         "boxpoints": "all",
         "name": "Immunohistochemistry",
         "text": [
          "AD - Aojula et al., 2016",
          "RD - Aojula et al., 2016",
          "MD - Aojula et al., 2016",
          "FA - Aojula et al., 2016",
          "FA - Chandran et al., 2012",
          "RD - Chandran et al., 2012",
          "FA - Chang et al., 2017",
          "MD - Chang et al., 2017",
          "RD - Chang et al., 2017",
          "AD - Chang et al., 2017",
          "MTR - Fatemi et al., 2011",
          "MTR - Fjaer et al., 2013",
          "MTR - Fjaer et al., 2015",
          "MTR - Guglielmetti et al., 2020",
          "MTR-UTE - Guglielmetti et al., 2020",
          "MPF - Khodanovic et al., 2019",
          "FA - Mollink et al., 2019",
          "T1 - Reeves et al., 2016",
          "T2 - Reeves et al., 2016",
          "RD - Soustelle et al., 2019",
          "rSPF - Soustelle et al., 2019",
          "MPF - Soustelle et al., 2019",
          "MWF - Soustelle et al., 2019",
          "PD - Tardif et al., 2012",
          "MTR - Tardif et al., 2012",
          "T2 - Tardif et al., 2012",
          "T1 - Tardif et al., 2012",
          "AD - Tu et al., 2016",
          "MD - Tu et al., 2016",
          "RD - Tu et al., 2016",
          "FA - Tu et al., 2016",
          "MTR - Tu et al., 2016",
          "MPF - Turati et al., 2015",
          "MD - Wendel et al., 2018",
          "AD - Wendel et al., 2018",
          "FA - Wendel et al., 2018",
          "RD - Wendel et al., 2018",
          "FA - Yano et al., 2018",
          "RD - Yano et al., 2018",
          "MD - Yano et al., 2018",
          "MTR - Zaaraoui et al., 2008",
          "FA - van Tilborg et al., 2017"
         ],
         "type": "box",
         "x": [
          "Immunohistochemistry - MBP",
          "Immunohistochemistry - MBP",
          "Immunohistochemistry - MBP",
          "Immunohistochemistry - MBP",
          "Immunohistochemistry - MBP",
          "Immunohistochemistry - MBP",
          "Immunohistochemistry - MBP",
          "Immunohistochemistry - MBP",
          "Immunohistochemistry - MBP",
          "Immunohistochemistry - MBP",
          "Immunohistochemistry - MBP",
          "Immunohistochemistry - PLP",
          "Immunohistochemistry - PLP",
          "Immunohistochemistry - MBP",
          "Immunohistochemistry - MBP",
          "Immunohistochemistry - MBP",
          "Immunohistochemistry - MBP",
          "Immunohistochemistry - MBP",
          "Immunohistochemistry - MBP",
          "Immunohistochemistry - MBP",
          "Immunohistochemistry - MBP",
          "Immunohistochemistry - MBP",
          "Immunohistochemistry - MBP",
          "Immunohistochemistry - MBP",
          "Immunohistochemistry - MBP",
          "Immunohistochemistry - MBP",
          "Immunohistochemistry - MBP",
          "Immunohistochemistry - MBP",
          "Immunohistochemistry - MBP",
          "Immunohistochemistry - MBP",
          "Immunohistochemistry - MBP",
          "Immunohistochemistry - MBP",
          "Immunohistochemistry - MBP",
          "Immunohistochemistry - MBP",
          "Immunohistochemistry - MBP",
          "Immunohistochemistry - MBP",
          "Immunohistochemistry - MBP",
          "Immunohistochemistry - PLP",
          "Immunohistochemistry - PLP",
          "Immunohistochemistry - PLP",
          "Immunohistochemistry - MBP",
          "Immunohistochemistry - MBP"
         ],
         "xaxis": "x",
         "y": [
          0.1296,
          0.2097,
          0.245,
          0.1197,
          0.5,
          0.34,
          0.1989,
          0.0129,
          0.038,
          0.1482,
          0.695,
          0.338,
          0.01,
          0.46,
          0.76,
          0.82,
          0.2704,
          0.27,
          0.235,
          0.49,
          0.7396,
          0.7569,
          0.4624,
          0.3481,
          0.36,
          0.4225,
          0.5929,
          1.0E-4,
          0.0289,
          0.2116,
          0.0169,
          0.1444,
          0.2872,
          0.0564,
          0.1987,
          0.5707,
          0.2973,
          0.7569,
          0.8281,
          0.5329,
          0.6241000000000001,
          0.334
         ],
         "yaxis": "y"
        },
        {
         "boxpoints": "all",
         "name": "Microscopy",
         "text": [
          "RD - Abe et al., 2019",
          "AD - Abe et al., 2019",
          "FA - Abe et al., 2019",
          "MTR - Duhamel et al., 2019",
          "ihMTR - Duhamel et al., 2019",
          "FA - Jito et al., 2008"
         ],
         "type": "box",
         "x": [
          "Microscopy - Myelin thickness",
          "Microscopy - Myelin thickness",
          "Microscopy - Myelin thickness",
          "Microscopy - Fluorescence",
          "Microscopy - Fluorescence",
          "Microscopy - Myelin sheath area"
         ],
         "xaxis": "x",
         "y": [
          0.1681,
          0.0121,
          0.1024,
          0.78,
          0.96,
          0.7327
         ],
         "yaxis": "y"
        },
        {
         "boxpoints": "all",
         "name": "EM",
         "text": [
          "MTV - Berman et al., 2018",
          "T2 - Jelescu et al., 2016",
          "MTR - Jelescu et al., 2016",
          "AWF - Jelescu et al., 2016",
          "RK - Jelescu et al., 2016",
          "RDe - Jelescu et al., 2016",
          "RD - Jelescu et al., 2016",
          "AWF - Kelm et al., 2016",
          "RK - Kelm et al., 2016",
          "RD - Kelm et al., 2016",
          "MK - Kelm et al., 2016",
          "MD - Kelm et al., 2016",
          "MD - Thiessen et al., 2013",
          "T1 - Thiessen et al., 2013",
          "T2f - Thiessen et al., 2013",
          "AD - Thiessen et al., 2013",
          "T2m - Thiessen et al., 2013",
          "FA - Thiessen et al., 2013",
          "T2 - Thiessen et al., 2013",
          "k_fm - Thiessen et al., 2013",
          "R1f - Thiessen et al., 2013",
          "k_mf - Thiessen et al., 2013",
          "RD - Thiessen et al., 2013",
          "MPF - Thiessen et al., 2013",
          "MPF - West et al., 2018",
          "MVF-MT - West et al., 2018",
          "MVF-T2 - West et al., 2018",
          "MWF - West et al., 2018"
         ],
         "type": "box",
         "x": [
          "EM - Myelin fraction",
          "EM - Myelin fraction",
          "EM - Myelin fraction",
          "EM - Myelin fraction",
          "EM - Myelin fraction",
          "EM - Myelin fraction",
          "EM - Myelin fraction",
          "EM - Myelin fraction",
          "EM - Myelin fraction",
          "EM - Myelin fraction",
          "EM - Myelin fraction",
          "EM - Myelin fraction",
          "EM - Myelin thickness",
          "EM - Myelin thickness",
          "EM - Myelin thickness",
          "EM - Myelin thickness",
          "EM - Myelin thickness",
          "EM - Myelin thickness",
          "EM - Myelin thickness",
          "EM - Myelin thickness",
          "EM - Myelin thickness",
          "EM - Myelin thickness",
          "EM - Myelin thickness",
          "EM - Myelin thickness",
          "EM - Myelin fraction",
          "EM - Myelin fraction",
          "EM - Myelin fraction",
          "EM - Myelin fraction"
         ],
         "xaxis": "x",
         "y": [
          0.74,
          0.4096,
          0.1024,
          0.3025,
          0.0196,
          0.25,
          0.5041,
          0.3364,
          0.2401,
          0.1369,
          0.2304,
          0.1225,
          0.6561,
          0.4356,
          0.36,
          0.5625,
          0.1521,
          0.7056,
          0.0676,
          0.1089,
          0.4356,
          0.6724,
          0.7569,
          0.8649,
          0.7,
          0.7,
          0.68,
          0.66
         ],
         "yaxis": "y"
        },
        {
         "boxpoints": "all",
         "name": "Optogenetic stimulation",
         "text": [
          "RD - Abe et al., 2019",
          "AD - Abe et al., 2019",
          "FA - Abe et al., 2019"
         ],
         "type": "box",
         "x": [
          "Optogenetic stimulation",
          "Optogenetic stimulation",
          "Optogenetic stimulation"
         ],
         "xaxis": "x2",
         "y": [
          0.1681,
          0.0121,
          0.1024
         ],
         "yaxis": "y2"
        },
        {
         "boxpoints": "all",
         "name": "Hydrocephalus",
         "text": [
          "AD - Aojula et al., 2016",
          "RD - Aojula et al., 2016",
          "MD - Aojula et al., 2016",
          "FA - Aojula et al., 2016"
         ],
         "type": "box",
         "x": [
          "Hydrocephalus",
          "Hydrocephalus",
          "Hydrocephalus",
          "Hydrocephalus"
         ],
         "xaxis": "x2",
         "y": [
          0.1296,
          0.2097,
          0.245,
          0.1197
         ],
         "yaxis": "y2"
        },
        {
         "boxpoints": "all",
         "name": "Demyelination - Cuprizone",
         "text": [
          "MTR - Beckmann et al., 2018",
          "FA - Chandran et al., 2012",
          "RD - Chandran et al., 2012",
          "MTR - Fjaer et al., 2013",
          "T2 - Jelescu et al., 2016",
          "MTR - Jelescu et al., 2016",
          "AWF - Jelescu et al., 2016",
          "RK - Jelescu et al., 2016",
          "RDe - Jelescu et al., 2016",
          "RD - Jelescu et al., 2016",
          "MPF - Khodanovic et al., 2017",
          "MPF - Khodanovic et al., 2019",
          "RD - Soustelle et al., 2019",
          "rSPF - Soustelle et al., 2019",
          "MPF - Soustelle et al., 2019",
          "MWF - Soustelle et al., 2019",
          "MD - Thiessen et al., 2013",
          "T1 - Thiessen et al., 2013",
          "T2f - Thiessen et al., 2013",
          "AD - Thiessen et al., 2013",
          "T2m - Thiessen et al., 2013",
          "FA - Thiessen et al., 2013",
          "T2 - Thiessen et al., 2013",
          "k_fm - Thiessen et al., 2013",
          "R1f - Thiessen et al., 2013",
          "k_mf - Thiessen et al., 2013",
          "RD - Thiessen et al., 2013",
          "MPF - Thiessen et al., 2013",
          "MPF - Turati et al., 2015",
          "T2 - Wu et al., 2008",
          "FA - Yano et al., 2018",
          "RD - Yano et al., 2018",
          "MD - Yano et al., 2018",
          "MTR - Zaaraoui et al., 2008"
         ],
         "type": "box",
         "x": [
          "Demyelination - Cuprizone",
          "Demyelination - Cuprizone",
          "Demyelination - Cuprizone",
          "Demyelination - Cuprizone",
          "Demyelination - Cuprizone",
          "Demyelination - Cuprizone",
          "Demyelination - Cuprizone",
          "Demyelination - Cuprizone",
          "Demyelination - Cuprizone",
          "Demyelination - Cuprizone",
          "Demyelination - Cuprizone",
          "Demyelination - Cuprizone",
          "Demyelination - Cuprizone",
          "Demyelination - Cuprizone",
          "Demyelination - Cuprizone",
          "Demyelination - Cuprizone",
          "Demyelination - Cuprizone",
          "Demyelination - Cuprizone",
          "Demyelination - Cuprizone",
          "Demyelination - Cuprizone",
          "Demyelination - Cuprizone",
          "Demyelination - Cuprizone",
          "Demyelination - Cuprizone",
          "Demyelination - Cuprizone",
          "Demyelination - Cuprizone",
          "Demyelination - Cuprizone",
          "Demyelination - Cuprizone",
          "Demyelination - Cuprizone",
          "Demyelination - Cuprizone",
          "Demyelination - Cuprizone",
          "Demyelination - Cuprizone",
          "Demyelination - Cuprizone",
          "Demyelination - Cuprizone",
          "Demyelination - Cuprizone"
         ],
         "xaxis": "x2",
         "y": [
          0.7668,
          0.5,
          0.34,
          0.338,
          0.4096,
          0.1024,
          0.3025,
          0.0196,
          0.25,
          0.5041,
          0.779,
          0.82,
          0.49,
          0.7396,
          0.7569,
          0.4624,
          0.6561,
          0.4356,
          0.36,
          0.5625,
          0.1521,
          0.7056,
          0.0676,
          0.1089,
          0.4356,
          0.6724,
          0.7569,
          0.8649,
          0.2872,
          0.5184,
          0.7569,
          0.8281,
          0.5329,
          0.6241000000000001
         ],
         "yaxis": "y2"
        },
        {
         "boxpoints": "all",
         "name": "Demyelination - Knockout",
         "text": [
          "MTV - Berman et al., 2018",
          "AWF - Kelm et al., 2016",
          "RK - Kelm et al., 2016",
          "RD - Kelm et al., 2016",
          "MK - Kelm et al., 2016",
          "MD - Kelm et al., 2016",
          "MPF - West et al., 2018",
          "MVF-MT - West et al., 2018",
          "MVF-T2 - West et al., 2018",
          "MWF - West et al., 2018"
         ],
         "type": "box",
         "x": [
          "Demyelination - Knockout",
          "Demyelination - Knockout",
          "Demyelination - Knockout",
          "Demyelination - Knockout",
          "Demyelination - Knockout",
          "Demyelination - Knockout",
          "Demyelination - Knockout",
          "Demyelination - Knockout",
          "Demyelination - Knockout",
          "Demyelination - Knockout"
         ],
         "xaxis": "x2",
         "y": [
          0.74,
          0.3364,
          0.2401,
          0.1369,
          0.2304,
          0.1225,
          0.7,
          0.7,
          0.68,
          0.66
         ],
         "yaxis": "y2"
        },
        {
         "boxpoints": "all",
         "name": "Healthy",
         "text": [
          "FA - Chang et al., 2017",
          "MD - Chang et al., 2017",
          "RD - Chang et al., 2017",
          "AD - Chang et al., 2017",
          "MTR - Duhamel et al., 2019",
          "ihMTR - Duhamel et al., 2019",
          "MTR - Guglielmetti et al., 2020",
          "MTR-UTE - Guglielmetti et al., 2020",
          "T1 - Hakkarainen et al., 2016",
          "T2p - Hakkarainen et al., 2016",
          "RAFF - Hakkarainen et al., 2016",
          "T1p - Hakkarainen et al., 2016",
          "MTR - Hakkarainen et al., 2016",
          "T2 - Hakkarainen et al., 2016",
          "FA - Jito et al., 2008",
          "QSM - Pol et al., 2019",
          "FA - Pol et al., 2019",
          "MD - Pol et al., 2019",
          "MPF - Underhill et al., 2011"
         ],
         "type": "box",
         "x": [
          "Healthy",
          "Healthy",
          "Healthy",
          "Healthy",
          "Healthy",
          "Healthy",
          "Healthy",
          "Healthy",
          "Healthy",
          "Healthy",
          "Healthy",
          "Healthy",
          "Healthy",
          "Healthy",
          "Healthy",
          "Healthy",
          "Healthy",
          "Healthy",
          "Healthy"
         ],
         "xaxis": "x2",
         "y": [
          0.1989,
          0.0129,
          0.038,
          0.1482,
          0.78,
          0.96,
          0.46,
          0.76,
          0.77,
          0.34,
          0.84,
          0.63,
          0.34,
          0.18,
          0.7327,
          0.0361,
          0.0576,
          0.3481,
          0.9801
         ],
         "yaxis": "y2"
        },
        {
         "boxpoints": "all",
         "name": "Ischemia - Induced hypoxia",
         "text": [
          "MTR - Fatemi et al., 2011",
          "FA - Wang et al., 2009",
          "RD - Wang et al., 2009"
         ],
         "type": "box",
         "x": [
          "Ischemia - Induced hypoxia",
          "Ischemia - Induced hypoxia",
          "Ischemia - Induced hypoxia"
         ],
         "xaxis": "x2",
         "y": [
          0.695,
          0.4637,
          0.2787
         ],
         "yaxis": "y2"
        },
        {
         "boxpoints": "all",
         "name": "Demyelination - Autoimmune encephalomyelitis",
         "text": [
          "MTR - Fjaer et al., 2015"
         ],
         "type": "box",
         "x": [
          "Demyelination - Autoimmune encephalomyelitis"
         ],
         "xaxis": "x2",
         "y": [
          0.01
         ],
         "yaxis": "y2"
        },
        {
         "boxpoints": "all",
         "name": "Vascular diseases",
         "text": [
          "QSM - Hametner et al., 2018",
          "T1 - Hametner et al., 2018",
          "R2* - Hametner et al., 2018"
         ],
         "type": "box",
         "x": [
          "Vascular diseases",
          "Vascular diseases",
          "Vascular diseases"
         ],
         "xaxis": "x2",
         "y": [
          0.1239,
          0.3398,
          7.0E-4
         ],
         "yaxis": "y2"
        },
        {
         "boxpoints": "all",
         "name": "Demyelination - Lipopolysaccharide",
         "text": [
          "k_mf - Janve et al., 2013",
          "MPF - Janve et al., 2013",
          "RD - Janve et al., 2013",
          "R1f - Janve et al., 2013",
          "AD - Janve et al., 2013",
          "MD - Janve et al., 2013",
          "FA - Janve et al., 2013",
          "RD - Lehto et al., 2017a",
          "RAFF - Lehto et al., 2017a",
          "MTR - Lehto et al., 2017a",
          "AD - Lehto et al., 2017a",
          "T1sat - Lehto et al., 2017a",
          "FA - Lehto et al., 2017a",
          "MD - Lehto et al., 2017a"
         ],
         "type": "box",
         "x": [
          "Demyelination - Lipopolysaccharide",
          "Demyelination - Lipopolysaccharide",
          "Demyelination - Lipopolysaccharide",
          "Demyelination - Lipopolysaccharide",
          "Demyelination - Lipopolysaccharide",
          "Demyelination - Lipopolysaccharide",
          "Demyelination - Lipopolysaccharide",
          "Demyelination - Lipopolysaccharide",
          "Demyelination - Lipopolysaccharide",
          "Demyelination - Lipopolysaccharide",
          "Demyelination - Lipopolysaccharide",
          "Demyelination - Lipopolysaccharide",
          "Demyelination - Lipopolysaccharide",
          "Demyelination - Lipopolysaccharide"
         ],
         "xaxis": "x2",
         "y": [
          0.0256,
          0.7225,
          0.2401,
          0.0961,
          0.0064,
          0.0784,
          0.0729,
          0.0015,
          0.552,
          0.5169,
          0.4199,
          0.49,
          0.2237,
          0.3492
         ],
         "yaxis": "y2"
        },
        {
         "boxpoints": "all",
         "name": "Multiple sclerosis",
         "text": [
          "MWF - Laule et al., 2006",
          "MWF - Laule et al., 2008",
          "MTR - Schmierer et al., 2004",
          "T1 - Schmierer et al., 2004",
          "T2m - Schmierer et al., 2007a",
          "T1 - Schmierer et al., 2007a",
          "MPF - Schmierer et al., 2007a",
          "MTR - Schmierer et al., 2007a",
          "FA - Schmierer et al., 2007b",
          "MD - Schmierer et al., 2007b",
          "RD - Schmierer et al., 2008",
          "AD - Schmierer et al., 2008",
          "MD - Schmierer et al., 2008",
          "T1 - Schmierer et al., 2008",
          "T2 - Schmierer et al., 2008",
          "FA - Schmierer et al., 2008",
          "MPF - Schmierer et al., 2008",
          "MTR - Schmierer et al., 2008",
          "PD - Tardif et al., 2012",
          "MTR - Tardif et al., 2012",
          "T2 - Tardif et al., 2012",
          "T1 - Tardif et al., 2012"
         ],
         "type": "box",
         "x": [
          "Multiple sclerosis",
          "Multiple sclerosis",
          "Multiple sclerosis",
          "Multiple sclerosis",
          "Multiple sclerosis",
          "Multiple sclerosis",
          "Multiple sclerosis",
          "Multiple sclerosis",
          "Multiple sclerosis",
          "Multiple sclerosis",
          "Multiple sclerosis",
          "Multiple sclerosis",
          "Multiple sclerosis",
          "Multiple sclerosis",
          "Multiple sclerosis",
          "Multiple sclerosis",
          "Multiple sclerosis",
          "Multiple sclerosis",
          "Multiple sclerosis",
          "Multiple sclerosis",
          "Multiple sclerosis",
          "Multiple sclerosis"
         ],
         "xaxis": "x2",
         "y": [
          0.67,
          0.78,
          0.7055999999999999,
          0.48999999999999994,
          1.0E-4,
          0.4760999999999999,
          0.6400000000000001,
          0.7055999999999999,
          0.6241000000000001,
          0.4624000000000001,
          0.6561,
          0.64,
          0.6084,
          0.7921,
          0.8464,
          0.6889,
          0.7396,
          0.4624,
          0.3481,
          0.36,
          0.4225,
          0.5929
         ],
         "yaxis": "y2"
        },
        {
         "boxpoints": "all",
         "name": "Traumatic brain injury",
         "text": [
          "MTR - Lehto et al., 2017b",
          "AD - Tu et al., 2016",
          "MD - Tu et al., 2016",
          "RD - Tu et al., 2016",
          "FA - Tu et al., 2016",
          "MTR - Tu et al., 2016",
          "MD - Wendel et al., 2018",
          "AD - Wendel et al., 2018",
          "FA - Wendel et al., 2018",
          "RD - Wendel et al., 2018"
         ],
         "type": "box",
         "x": [
          "Traumatic brain injury",
          "Traumatic brain injury",
          "Traumatic brain injury",
          "Traumatic brain injury",
          "Traumatic brain injury",
          "Traumatic brain injury",
          "Traumatic brain injury",
          "Traumatic brain injury",
          "Traumatic brain injury",
          "Traumatic brain injury"
         ],
         "xaxis": "x2",
         "y": [
          0.94,
          1.0E-4,
          0.0289,
          0.2116,
          0.0169,
          0.1444,
          0.0564,
          0.1987,
          0.5707,
          0.2973
         ],
         "yaxis": "y2"
        },
        {
         "boxpoints": "all",
         "name": "Amyotrophic lateral sclerosis",
         "text": [
          "FA - Mollink et al., 2019"
         ],
         "type": "box",
         "x": [
          "Amyotrophic lateral sclerosis"
         ],
         "xaxis": "x2",
         "y": [
          0.2704
         ],
         "yaxis": "y2"
        },
        {
         "boxpoints": "all",
         "name": "Epilepsy",
         "text": [
          "T1 - Reeves et al., 2016",
          "T2 - Reeves et al., 2016"
         ],
         "type": "box",
         "x": [
          "Epilepsy",
          "Epilepsy"
         ],
         "xaxis": "x2",
         "y": [
          0.27,
          0.235
         ],
         "yaxis": "y2"
        },
        {
         "boxpoints": "all",
         "name": "White matter injury",
         "text": [
          "FA - van Tilborg et al., 2017"
         ],
         "type": "box",
         "x": [
          "White matter injury"
         ],
         "xaxis": "x2",
         "y": [
          0.334
         ],
         "yaxis": "y2"
        },
        {
         "boxpoints": "all",
         "name": "Deep grey matter+Grey matter",
         "text": [
          "RD - Abe et al., 2019",
          "AD - Abe et al., 2019",
          "FA - Abe et al., 2019"
         ],
         "type": "box",
         "x": [
          "Deep grey matter+Grey matter",
          "Deep grey matter+Grey matter",
          "Deep grey matter+Grey matter"
         ],
         "xaxis": "x3",
         "y": [
          0.1681,
          0.0121,
          0.1024
         ],
         "yaxis": "y3"
        },
        {
         "boxpoints": "all",
         "name": "White matter",
         "text": [
          "AD - Aojula et al., 2016",
          "RD - Aojula et al., 2016",
          "MD - Aojula et al., 2016",
          "FA - Aojula et al., 2016",
          "MTR - Beckmann et al., 2018",
          "MTV - Berman et al., 2018",
          "FA - Chandran et al., 2012",
          "RD - Chandran et al., 2012",
          "FA - Chang et al., 2017",
          "MD - Chang et al., 2017",
          "RD - Chang et al., 2017",
          "AD - Chang et al., 2017",
          "MTR - Fatemi et al., 2011",
          "MTR - Fjaer et al., 2013",
          "MTR - Fjaer et al., 2015",
          "k_mf - Janve et al., 2013",
          "MPF - Janve et al., 2013",
          "RD - Janve et al., 2013",
          "R1f - Janve et al., 2013",
          "AD - Janve et al., 2013",
          "MD - Janve et al., 2013",
          "FA - Janve et al., 2013",
          "T2 - Jelescu et al., 2016",
          "MTR - Jelescu et al., 2016",
          "AWF - Jelescu et al., 2016",
          "RK - Jelescu et al., 2016",
          "RDe - Jelescu et al., 2016",
          "RD - Jelescu et al., 2016",
          "FA - Jito et al., 2008",
          "AWF - Kelm et al., 2016",
          "RK - Kelm et al., 2016",
          "RD - Kelm et al., 2016",
          "MK - Kelm et al., 2016",
          "MD - Kelm et al., 2016",
          "MPF - Khodanovic et al., 2019",
          "RD - Lehto et al., 2017a",
          "RAFF - Lehto et al., 2017a",
          "MTR - Lehto et al., 2017a",
          "AD - Lehto et al., 2017a",
          "T1sat - Lehto et al., 2017a",
          "FA - Lehto et al., 2017a",
          "MD - Lehto et al., 2017a",
          "FA - Mollink et al., 2019",
          "QSM - Pol et al., 2019",
          "FA - Pol et al., 2019",
          "MD - Pol et al., 2019",
          "RD - Soustelle et al., 2019",
          "rSPF - Soustelle et al., 2019",
          "MPF - Soustelle et al., 2019",
          "MWF - Soustelle et al., 2019",
          "MD - Thiessen et al., 2013",
          "T1 - Thiessen et al., 2013",
          "T2f - Thiessen et al., 2013",
          "AD - Thiessen et al., 2013",
          "T2m - Thiessen et al., 2013",
          "FA - Thiessen et al., 2013",
          "T2 - Thiessen et al., 2013",
          "k_fm - Thiessen et al., 2013",
          "R1f - Thiessen et al., 2013",
          "k_mf - Thiessen et al., 2013",
          "RD - Thiessen et al., 2013",
          "MPF - Thiessen et al., 2013",
          "AD - Tu et al., 2016",
          "MD - Tu et al., 2016",
          "RD - Tu et al., 2016",
          "FA - Tu et al., 2016",
          "MTR - Tu et al., 2016",
          "MPF - Turati et al., 2015",
          "FA - Wang et al., 2009",
          "RD - Wang et al., 2009",
          "MD - Wendel et al., 2018",
          "AD - Wendel et al., 2018",
          "FA - Wendel et al., 2018",
          "RD - Wendel et al., 2018",
          "MPF - West et al., 2018",
          "MVF-MT - West et al., 2018",
          "MVF-T2 - West et al., 2018",
          "MWF - West et al., 2018",
          "T2 - Wu et al., 2008",
          "FA - Yano et al., 2018",
          "RD - Yano et al., 2018",
          "MD - Yano et al., 2018",
          "MTR - Zaaraoui et al., 2008"
         ],
         "type": "box",
         "x": [
          "White matter",
          "White matter",
          "White matter",
          "White matter",
          "White matter",
          "White matter",
          "White matter",
          "White matter",
          "White matter",
          "White matter",
          "White matter",
          "White matter",
          "White matter",
          "White matter",
          "White matter",
          "White matter",
          "White matter",
          "White matter",
          "White matter",
          "White matter",
          "White matter",
          "White matter",
          "White matter",
          "White matter",
          "White matter",
          "White matter",
          "White matter",
          "White matter",
          "White matter",
          "White matter",
          "White matter",
          "White matter",
          "White matter",
          "White matter",
          "White matter",
          "White matter",
          "White matter",
          "White matter",
          "White matter",
          "White matter",
          "White matter",
          "White matter",
          "White matter",
          "White matter",
          "White matter",
          "White matter",
          "White matter",
          "White matter",
          "White matter",
          "White matter",
          "White matter",
          "White matter",
          "White matter",
          "White matter",
          "White matter",
          "White matter",
          "White matter",
          "White matter",
          "White matter",
          "White matter",
          "White matter",
          "White matter",
          "White matter",
          "White matter",
          "White matter",
          "White matter",
          "White matter",
          "White matter",
          "White matter",
          "White matter",
          "White matter",
          "White matter",
          "White matter",
          "White matter",
          "White matter",
          "White matter",
          "White matter",
          "White matter",
          "White matter",
          "White matter",
          "White matter",
          "White matter",
          "White matter"
         ],
         "xaxis": "x3",
         "y": [
          0.1296,
          0.2097,
          0.245,
          0.1197,
          0.7668,
          0.74,
          0.5,
          0.34,
          0.1989,
          0.0129,
          0.038,
          0.1482,
          0.695,
          0.338,
          0.01,
          0.0256,
          0.7225,
          0.2401,
          0.0961,
          0.0064,
          0.0784,
          0.0729,
          0.4096,
          0.1024,
          0.3025,
          0.0196,
          0.25,
          0.5041,
          0.7327,
          0.3364,
          0.2401,
          0.1369,
          0.2304,
          0.1225,
          0.82,
          0.0015,
          0.552,
          0.5169,
          0.4199,
          0.49,
          0.2237,
          0.3492,
          0.2704,
          0.0361,
          0.0576,
          0.3481,
          0.49,
          0.7396,
          0.7569,
          0.4624,
          0.6561,
          0.4356,
          0.36,
          0.5625,
          0.1521,
          0.7056,
          0.0676,
          0.1089,
          0.4356,
          0.6724,
          0.7569,
          0.8649,
          1.0E-4,
          0.0289,
          0.2116,
          0.0169,
          0.1444,
          0.2872,
          0.4637,
          0.2787,
          0.0564,
          0.1987,
          0.5707,
          0.2973,
          0.7,
          0.7,
          0.68,
          0.66,
          0.5184,
          0.7569,
          0.8281,
          0.5329,
          0.6241000000000001
         ],
         "yaxis": "y3"
        },
        {
         "boxpoints": "all",
         "name": "White matter+Deep grey matter+Grey matter",
         "text": [
          "MTR - Duhamel et al., 2019",
          "ihMTR - Duhamel et al., 2019",
          "MTR - Guglielmetti et al., 2020",
          "MTR-UTE - Guglielmetti et al., 2020",
          "T1 - Hakkarainen et al., 2016",
          "T2p - Hakkarainen et al., 2016",
          "RAFF - Hakkarainen et al., 2016",
          "T1p - Hakkarainen et al., 2016",
          "MTR - Hakkarainen et al., 2016",
          "T2 - Hakkarainen et al., 2016",
          "QSM - Hametner et al., 2018",
          "T1 - Hametner et al., 2018",
          "R2* - Hametner et al., 2018",
          "MPF - Khodanovic et al., 2017",
          "MPF - Underhill et al., 2011"
         ],
         "type": "box",
         "x": [
          "White matter+Deep grey matter+Grey matter",
          "White matter+Deep grey matter+Grey matter",
          "White matter+Deep grey matter+Grey matter",
          "White matter+Deep grey matter+Grey matter",
          "White matter+Deep grey matter+Grey matter",
          "White matter+Deep grey matter+Grey matter",
          "White matter+Deep grey matter+Grey matter",
          "White matter+Deep grey matter+Grey matter",
          "White matter+Deep grey matter+Grey matter",
          "White matter+Deep grey matter+Grey matter",
          "White matter+Deep grey matter+Grey matter",
          "White matter+Deep grey matter+Grey matter",
          "White matter+Deep grey matter+Grey matter",
          "White matter+Deep grey matter+Grey matter",
          "White matter+Deep grey matter+Grey matter"
         ],
         "xaxis": "x3",
         "y": [
          0.78,
          0.96,
          0.46,
          0.76,
          0.77,
          0.34,
          0.84,
          0.63,
          0.34,
          0.18,
          0.1239,
          0.3398,
          7.0E-4,
          0.779,
          0.9801
         ],
         "yaxis": "y3"
        },
        {
         "boxpoints": "all",
         "name": "White matter+Grey matter",
         "text": [
          "MWF - Laule et al., 2006",
          "MWF - Laule et al., 2008",
          "T1 - Reeves et al., 2016",
          "T2 - Reeves et al., 2016"
         ],
         "type": "box",
         "x": [
          "White matter+Grey matter",
          "White matter+Grey matter",
          "White matter+Grey matter",
          "White matter+Grey matter"
         ],
         "xaxis": "x3",
         "y": [
          0.67,
          0.78,
          0.27,
          0.235
         ],
         "yaxis": "y3"
        },
        {
         "boxpoints": "all",
         "name": "White matter+Deep grey matter",
         "text": [
          "MTR - Lehto et al., 2017b"
         ],
         "type": "box",
         "x": [
          "White matter+Deep grey matter"
         ],
         "xaxis": "x3",
         "y": [
          0.94
         ],
         "yaxis": "y3"
        },
        {
         "boxpoints": "all",
         "name": "White matter+Lesions",
         "text": [
          "MTR - Schmierer et al., 2004",
          "T1 - Schmierer et al., 2004",
          "T2m - Schmierer et al., 2007a",
          "T1 - Schmierer et al., 2007a",
          "MPF - Schmierer et al., 2007a",
          "MTR - Schmierer et al., 2007a",
          "FA - Schmierer et al., 2007b",
          "MD - Schmierer et al., 2007b",
          "RD - Schmierer et al., 2008",
          "AD - Schmierer et al., 2008",
          "MD - Schmierer et al., 2008",
          "T1 - Schmierer et al., 2008",
          "T2 - Schmierer et al., 2008",
          "FA - Schmierer et al., 2008",
          "MPF - Schmierer et al., 2008",
          "MTR - Schmierer et al., 2008"
         ],
         "type": "box",
         "x": [
          "White matter+Lesions",
          "White matter+Lesions",
          "White matter+Lesions",
          "White matter+Lesions",
          "White matter+Lesions",
          "White matter+Lesions",
          "White matter+Lesions",
          "White matter+Lesions",
          "White matter+Lesions",
          "White matter+Lesions",
          "White matter+Lesions",
          "White matter+Lesions",
          "White matter+Lesions",
          "White matter+Lesions",
          "White matter+Lesions",
          "White matter+Lesions"
         ],
         "xaxis": "x3",
         "y": [
          0.7055999999999999,
          0.48999999999999994,
          1.0E-4,
          0.4760999999999999,
          0.6400000000000001,
          0.7055999999999999,
          0.6241000000000001,
          0.4624000000000001,
          0.6561,
          0.64,
          0.6084,
          0.7921,
          0.8464,
          0.6889,
          0.7396,
          0.4624
         ],
         "yaxis": "y3"
        },
        {
         "boxpoints": "all",
         "name": "White matter+Lesions+Grey matter",
         "text": [
          "PD - Tardif et al., 2012",
          "MTR - Tardif et al., 2012",
          "T2 - Tardif et al., 2012",
          "T1 - Tardif et al., 2012"
         ],
         "type": "box",
         "x": [
          "White matter+Lesions+Grey matter",
          "White matter+Lesions+Grey matter",
          "White matter+Lesions+Grey matter",
          "White matter+Lesions+Grey matter"
         ],
         "xaxis": "x3",
         "y": [
          0.3481,
          0.36,
          0.4225,
          0.5929
         ],
         "yaxis": "y3"
        },
        {
         "boxpoints": "all",
         "name": "Grey matter",
         "text": [
          "FA - van Tilborg et al., 2017"
         ],
         "type": "box",
         "x": [
          "Grey matter"
         ],
         "xaxis": "x3",
         "y": [
          0.334
         ],
         "yaxis": "y3"
        }
       ],
       "layout": {
        "annotations": [
         {
          "font": {
           "size": 16
          },
          "showarrow": false,
          "text": "R<sup>2</sup> values and reference techniques",
          "x": 0.5,
          "xanchor": "center",
          "xref": "paper",
          "y": 1.0,
          "yanchor": "bottom",
          "yref": "paper"
         },
         {
          "font": {
           "size": 16
          },
          "showarrow": false,
          "text": "R<sup>2</sup> values and pathology",
          "x": 0.5,
          "xanchor": "center",
          "xref": "paper",
          "y": 0.6,
          "yanchor": "bottom",
          "yref": "paper"
         },
         {
          "font": {
           "size": 16
          },
          "showarrow": false,
          "text": "R<sup>2</sup> values and tissue types",
          "x": 0.5,
          "xanchor": "center",
          "xref": "paper",
          "y": 0.19999999999999998,
          "yanchor": "bottom",
          "yref": "paper"
         },
         {
          "font": {
           "size": 16
          },
          "showarrow": false,
          "text": "R<sup>2</sup>",
          "textangle": -90,
          "x": 0,
          "xanchor": "right",
          "xref": "paper",
          "xshift": -40,
          "y": 0.5,
          "yanchor": "middle",
          "yref": "paper"
         },
         {
          "font": {
           "color": "gray",
           "size": 8
          },
          "showarrow": false,
          "text": "<a href=\"https://neurolibre.com\" target=\"_blank\" style=\"color:gray!important\">NeuroLibre</a>",
          "x": 1,
          "xref": "paper",
          "y": -0.149,
          "yref": "paper"
         }
        ],
        "height": 1000,
        "images": [
         {
          "opacity": 0.9,
          "sizex": 0.03,
          "sizey": 0.03,
          "source": "https://raw.githubusercontent.com/notebook-factory/brand/main/nlibre_custom2.svg",
          "x": 0.875,
          "xref": "paper",
          "y": -0.124,
          "yref": "paper"
         }
        ],
        "margin": {
         "l": 0
        },
        "showlegend": false,
        "template": {
         "data": {
          "bar": [
           {
            "error_x": {
             "color": "#2a3f5f"
            },
            "error_y": {
             "color": "#2a3f5f"
            },
            "marker": {
             "line": {
              "color": "#E5ECF6",
              "width": 0.5
             }
            },
            "type": "bar"
           }
          ],
          "barpolar": [
           {
            "marker": {
             "line": {
              "color": "#E5ECF6",
              "width": 0.5
             }
            },
            "type": "barpolar"
           }
          ],
          "carpet": [
           {
            "aaxis": {
             "endlinecolor": "#2a3f5f",
             "gridcolor": "white",
             "linecolor": "white",
             "minorgridcolor": "white",
             "startlinecolor": "#2a3f5f"
            },
            "baxis": {
             "endlinecolor": "#2a3f5f",
             "gridcolor": "white",
             "linecolor": "white",
             "minorgridcolor": "white",
             "startlinecolor": "#2a3f5f"
            },
            "type": "carpet"
           }
          ],
          "choropleth": [
           {
            "colorbar": {
             "outlinewidth": 0,
             "ticks": ""
            },
            "type": "choropleth"
           }
          ],
          "contour": [
           {
            "colorbar": {
             "outlinewidth": 0,
             "ticks": ""
            },
            "colorscale": [
             [
              0.0,
              "#0d0887"
             ],
             [
              0.1111111111111111,
              "#46039f"
             ],
             [
              0.2222222222222222,
              "#7201a8"
             ],
             [
              0.3333333333333333,
              "#9c179e"
             ],
             [
              0.4444444444444444,
              "#bd3786"
             ],
             [
              0.5555555555555556,
              "#d8576b"
             ],
             [
              0.6666666666666666,
              "#ed7953"
             ],
             [
              0.7777777777777778,
              "#fb9f3a"
             ],
             [
              0.8888888888888888,
              "#fdca26"
             ],
             [
              1.0,
              "#f0f921"
             ]
            ],
            "type": "contour"
           }
          ],
          "contourcarpet": [
           {
            "colorbar": {
             "outlinewidth": 0,
             "ticks": ""
            },
            "type": "contourcarpet"
           }
          ],
          "heatmap": [
           {
            "colorbar": {
             "outlinewidth": 0,
             "ticks": ""
            },
            "colorscale": [
             [
              0.0,
              "#0d0887"
             ],
             [
              0.1111111111111111,
              "#46039f"
             ],
             [
              0.2222222222222222,
              "#7201a8"
             ],
             [
              0.3333333333333333,
              "#9c179e"
             ],
             [
              0.4444444444444444,
              "#bd3786"
             ],
             [
              0.5555555555555556,
              "#d8576b"
             ],
             [
              0.6666666666666666,
              "#ed7953"
             ],
             [
              0.7777777777777778,
              "#fb9f3a"
             ],
             [
              0.8888888888888888,
              "#fdca26"
             ],
             [
              1.0,
              "#f0f921"
             ]
            ],
            "type": "heatmap"
           }
          ],
          "heatmapgl": [
           {
            "colorbar": {
             "outlinewidth": 0,
             "ticks": ""
            },
            "colorscale": [
             [
              0.0,
              "#0d0887"
             ],
             [
              0.1111111111111111,
              "#46039f"
             ],
             [
              0.2222222222222222,
              "#7201a8"
             ],
             [
              0.3333333333333333,
              "#9c179e"
             ],
             [
              0.4444444444444444,
              "#bd3786"
             ],
             [
              0.5555555555555556,
              "#d8576b"
             ],
             [
              0.6666666666666666,
              "#ed7953"
             ],
             [
              0.7777777777777778,
              "#fb9f3a"
             ],
             [
              0.8888888888888888,
              "#fdca26"
             ],
             [
              1.0,
              "#f0f921"
             ]
            ],
            "type": "heatmapgl"
           }
          ],
          "histogram": [
           {
            "marker": {
             "colorbar": {
              "outlinewidth": 0,
              "ticks": ""
             }
            },
            "type": "histogram"
           }
          ],
          "histogram2d": [
           {
            "colorbar": {
             "outlinewidth": 0,
             "ticks": ""
            },
            "colorscale": [
             [
              0.0,
              "#0d0887"
             ],
             [
              0.1111111111111111,
              "#46039f"
             ],
             [
              0.2222222222222222,
              "#7201a8"
             ],
             [
              0.3333333333333333,
              "#9c179e"
             ],
             [
              0.4444444444444444,
              "#bd3786"
             ],
             [
              0.5555555555555556,
              "#d8576b"
             ],
             [
              0.6666666666666666,
              "#ed7953"
             ],
             [
              0.7777777777777778,
              "#fb9f3a"
             ],
             [
              0.8888888888888888,
              "#fdca26"
             ],
             [
              1.0,
              "#f0f921"
             ]
            ],
            "type": "histogram2d"
           }
          ],
          "histogram2dcontour": [
           {
            "colorbar": {
             "outlinewidth": 0,
             "ticks": ""
            },
            "colorscale": [
             [
              0.0,
              "#0d0887"
             ],
             [
              0.1111111111111111,
              "#46039f"
             ],
             [
              0.2222222222222222,
              "#7201a8"
             ],
             [
              0.3333333333333333,
              "#9c179e"
             ],
             [
              0.4444444444444444,
              "#bd3786"
             ],
             [
              0.5555555555555556,
              "#d8576b"
             ],
             [
              0.6666666666666666,
              "#ed7953"
             ],
             [
              0.7777777777777778,
              "#fb9f3a"
             ],
             [
              0.8888888888888888,
              "#fdca26"
             ],
             [
              1.0,
              "#f0f921"
             ]
            ],
            "type": "histogram2dcontour"
           }
          ],
          "mesh3d": [
           {
            "colorbar": {
             "outlinewidth": 0,
             "ticks": ""
            },
            "type": "mesh3d"
           }
          ],
          "parcoords": [
           {
            "line": {
             "colorbar": {
              "outlinewidth": 0,
              "ticks": ""
             }
            },
            "type": "parcoords"
           }
          ],
          "pie": [
           {
            "automargin": true,
            "type": "pie"
           }
          ],
          "scatter": [
           {
            "marker": {
             "colorbar": {
              "outlinewidth": 0,
              "ticks": ""
             }
            },
            "type": "scatter"
           }
          ],
          "scatter3d": [
           {
            "line": {
             "colorbar": {
              "outlinewidth": 0,
              "ticks": ""
             }
            },
            "marker": {
             "colorbar": {
              "outlinewidth": 0,
              "ticks": ""
             }
            },
            "type": "scatter3d"
           }
          ],
          "scattercarpet": [
           {
            "marker": {
             "colorbar": {
              "outlinewidth": 0,
              "ticks": ""
             }
            },
            "type": "scattercarpet"
           }
          ],
          "scattergeo": [
           {
            "marker": {
             "colorbar": {
              "outlinewidth": 0,
              "ticks": ""
             }
            },
            "type": "scattergeo"
           }
          ],
          "scattergl": [
           {
            "marker": {
             "colorbar": {
              "outlinewidth": 0,
              "ticks": ""
             }
            },
            "type": "scattergl"
           }
          ],
          "scattermapbox": [
           {
            "marker": {
             "colorbar": {
              "outlinewidth": 0,
              "ticks": ""
             }
            },
            "type": "scattermapbox"
           }
          ],
          "scatterpolar": [
           {
            "marker": {
             "colorbar": {
              "outlinewidth": 0,
              "ticks": ""
             }
            },
            "type": "scatterpolar"
           }
          ],
          "scatterpolargl": [
           {
            "marker": {
             "colorbar": {
              "outlinewidth": 0,
              "ticks": ""
             }
            },
            "type": "scatterpolargl"
           }
          ],
          "scatterternary": [
           {
            "marker": {
             "colorbar": {
              "outlinewidth": 0,
              "ticks": ""
             }
            },
            "type": "scatterternary"
           }
          ],
          "surface": [
           {
            "colorbar": {
             "outlinewidth": 0,
             "ticks": ""
            },
            "colorscale": [
             [
              0.0,
              "#0d0887"
             ],
             [
              0.1111111111111111,
              "#46039f"
             ],
             [
              0.2222222222222222,
              "#7201a8"
             ],
             [
              0.3333333333333333,
              "#9c179e"
             ],
             [
              0.4444444444444444,
              "#bd3786"
             ],
             [
              0.5555555555555556,
              "#d8576b"
             ],
             [
              0.6666666666666666,
              "#ed7953"
             ],
             [
              0.7777777777777778,
              "#fb9f3a"
             ],
             [
              0.8888888888888888,
              "#fdca26"
             ],
             [
              1.0,
              "#f0f921"
             ]
            ],
            "type": "surface"
           }
          ],
          "table": [
           {
            "cells": {
             "fill": {
              "color": "#EBF0F8"
             },
             "line": {
              "color": "white"
             }
            },
            "header": {
             "fill": {
              "color": "#C8D4E3"
             },
             "line": {
              "color": "white"
             }
            },
            "type": "table"
           }
          ]
         },
         "layout": {
          "annotationdefaults": {
           "arrowcolor": "#2a3f5f",
           "arrowhead": 0,
           "arrowwidth": 1
          },
          "coloraxis": {
           "colorbar": {
            "outlinewidth": 0,
            "ticks": ""
           }
          },
          "colorscale": {
           "diverging": [
            [
             0,
             "#8e0152"
            ],
            [
             0.1,
             "#c51b7d"
            ],
            [
             0.2,
             "#de77ae"
            ],
            [
             0.3,
             "#f1b6da"
            ],
            [
             0.4,
             "#fde0ef"
            ],
            [
             0.5,
             "#f7f7f7"
            ],
            [
             0.6,
             "#e6f5d0"
            ],
            [
             0.7,
             "#b8e186"
            ],
            [
             0.8,
             "#7fbc41"
            ],
            [
             0.9,
             "#4d9221"
            ],
            [
             1,
             "#276419"
            ]
           ],
           "sequential": [
            [
             0.0,
             "#0d0887"
            ],
            [
             0.1111111111111111,
             "#46039f"
            ],
            [
             0.2222222222222222,
             "#7201a8"
            ],
            [
             0.3333333333333333,
             "#9c179e"
            ],
            [
             0.4444444444444444,
             "#bd3786"
            ],
            [
             0.5555555555555556,
             "#d8576b"
            ],
            [
             0.6666666666666666,
             "#ed7953"
            ],
            [
             0.7777777777777778,
             "#fb9f3a"
            ],
            [
             0.8888888888888888,
             "#fdca26"
            ],
            [
             1.0,
             "#f0f921"
            ]
           ],
           "sequentialminus": [
            [
             0.0,
             "#0d0887"
            ],
            [
             0.1111111111111111,
             "#46039f"
            ],
            [
             0.2222222222222222,
             "#7201a8"
            ],
            [
             0.3333333333333333,
             "#9c179e"
            ],
            [
             0.4444444444444444,
             "#bd3786"
            ],
            [
             0.5555555555555556,
             "#d8576b"
            ],
            [
             0.6666666666666666,
             "#ed7953"
            ],
            [
             0.7777777777777778,
             "#fb9f3a"
            ],
            [
             0.8888888888888888,
             "#fdca26"
            ],
            [
             1.0,
             "#f0f921"
            ]
           ]
          },
          "colorway": [
           "#636efa",
           "#EF553B",
           "#00cc96",
           "#ab63fa",
           "#FFA15A",
           "#19d3f3",
           "#FF6692",
           "#B6E880",
           "#FF97FF",
           "#FECB52"
          ],
          "font": {
           "color": "#2a3f5f"
          },
          "geo": {
           "bgcolor": "white",
           "lakecolor": "white",
           "landcolor": "#E5ECF6",
           "showlakes": true,
           "showland": true,
           "subunitcolor": "white"
          },
          "hoverlabel": {
           "align": "left"
          },
          "hovermode": "closest",
          "mapbox": {
           "style": "light"
          },
          "paper_bgcolor": "white",
          "plot_bgcolor": "#E5ECF6",
          "polar": {
           "angularaxis": {
            "gridcolor": "white",
            "linecolor": "white",
            "ticks": ""
           },
           "bgcolor": "#E5ECF6",
           "radialaxis": {
            "gridcolor": "white",
            "linecolor": "white",
            "ticks": ""
           }
          },
          "scene": {
           "xaxis": {
            "backgroundcolor": "#E5ECF6",
            "gridcolor": "white",
            "gridwidth": 2,
            "linecolor": "white",
            "showbackground": true,
            "ticks": "",
            "zerolinecolor": "white"
           },
           "yaxis": {
            "backgroundcolor": "#E5ECF6",
            "gridcolor": "white",
            "gridwidth": 2,
            "linecolor": "white",
            "showbackground": true,
            "ticks": "",
            "zerolinecolor": "white"
           },
           "zaxis": {
            "backgroundcolor": "#E5ECF6",
            "gridcolor": "white",
            "gridwidth": 2,
            "linecolor": "white",
            "showbackground": true,
            "ticks": "",
            "zerolinecolor": "white"
           }
          },
          "shapedefaults": {
           "line": {
            "color": "#2a3f5f"
           }
          },
          "ternary": {
           "aaxis": {
            "gridcolor": "white",
            "linecolor": "white",
            "ticks": ""
           },
           "baxis": {
            "gridcolor": "white",
            "linecolor": "white",
            "ticks": ""
           },
           "bgcolor": "#E5ECF6",
           "caxis": {
            "gridcolor": "white",
            "linecolor": "white",
            "ticks": ""
           }
          },
          "title": {
           "x": 0.05
          },
          "xaxis": {
           "automargin": true,
           "gridcolor": "white",
           "linecolor": "white",
           "ticks": "",
           "title": {
            "standoff": 15
           },
           "zerolinecolor": "white",
           "zerolinewidth": 2
          },
          "yaxis": {
           "automargin": true,
           "gridcolor": "white",
           "linecolor": "white",
           "ticks": "",
           "title": {
            "standoff": 15
           },
           "zerolinecolor": "white",
           "zerolinewidth": 2
          }
         }
        },
        "title": {
         "text": "Figure 7: Experimental conditions and methodological choices influencing the R<sup>2</sup> values",
         "x": 0
        },
        "width": 600,
        "xaxis": {
         "anchor": "y",
         "domain": [
          0.0,
          1.0
         ],
         "tickfont": {
          "size": 10
         }
        },
        "xaxis2": {
         "anchor": "y2",
         "domain": [
          0.0,
          1.0
         ],
         "tickfont": {
          "size": 10
         }
        },
        "xaxis3": {
         "anchor": "y3",
         "domain": [
          0.0,
          1.0
         ],
         "tickfont": {
          "size": 10
         }
        },
        "yaxis": {
         "anchor": "x",
         "domain": [
          0.8,
          1.0
         ]
        },
        "yaxis2": {
         "anchor": "x2",
         "domain": [
          0.4,
          0.6
         ]
        },
        "yaxis3": {
         "anchor": "x3",
         "domain": [
          0.0,
          0.19999999999999998
         ]
        }
       }
      },
      "text/html": "<div>\n        \n        \n            <div id=\"b8a68912-fd64-4ce3-9aca-bb90d1649cf0\" class=\"plotly-graph-div\" style=\"height:1000px; width:600px;\"></div>\n            <script type=\"text/javascript\">\n                require([\"plotly\"], function(Plotly) {\n                    window.PLOTLYENV=window.PLOTLYENV || {};\n                    \n                if (document.getElementById(\"b8a68912-fd64-4ce3-9aca-bb90d1649cf0\")) {\n                    Plotly.newPlot(\n                        'b8a68912-fd64-4ce3-9aca-bb90d1649cf0',\n                        [{\"boxpoints\": \"all\", \"name\": \"Histology\", \"text\": [\"MTR - Beckmann et al., 2018\", \"T1 - Hakkarainen et al., 2016\", \"T2p - Hakkarainen et al., 2016\", \"RAFF - Hakkarainen et al., 2016\", \"T1p - Hakkarainen et al., 2016\", \"MTR - Hakkarainen et al., 2016\", \"T2 - Hakkarainen et al., 2016\", \"QSM - Hametner et al., 2018\", \"T1 - Hametner et al., 2018\", \"R2* - Hametner et al., 2018\", \"k_mf - Janve et al., 2013\", \"MPF - Janve et al., 2013\", \"RD - Janve et al., 2013\", \"R1f - Janve et al., 2013\", \"AD - Janve et al., 2013\", \"MD - Janve et al., 2013\", \"FA - Janve et al., 2013\", \"MPF - Khodanovic et al., 2017\", \"MWF - Laule et al., 2006\", \"MWF - Laule et al., 2008\", \"RD - Lehto et al., 2017a\", \"RAFF - Lehto et al., 2017a\", \"MTR - Lehto et al., 2017a\", \"AD - Lehto et al., 2017a\", \"T1sat - Lehto et al., 2017a\", \"FA - Lehto et al., 2017a\", \"MD - Lehto et al., 2017a\", \"MTR - Lehto et al., 2017b\", \"QSM - Pol et al., 2019\", \"FA - Pol et al., 2019\", \"MD - Pol et al., 2019\", \"MTR - Schmierer et al., 2004\", \"T1 - Schmierer et al., 2004\", \"T2m - Schmierer et al., 2007a\", \"T1 - Schmierer et al., 2007a\", \"MPF - Schmierer et al., 2007a\", \"MTR - Schmierer et al., 2007a\", \"FA - Schmierer et al., 2007b\", \"MD - Schmierer et al., 2007b\", \"RD - Schmierer et al., 2008\", \"AD - Schmierer et al., 2008\", \"MD - Schmierer et al., 2008\", \"T1 - Schmierer et al., 2008\", \"T2 - Schmierer et al., 2008\", \"FA - Schmierer et al., 2008\", \"MPF - Schmierer et al., 2008\", \"MTR - Schmierer et al., 2008\", \"MPF - Underhill et al., 2011\", \"FA - Wang et al., 2009\", \"RD - Wang et al., 2009\", \"T2 - Wu et al., 2008\"], \"type\": \"box\", \"x\": [\"Histology - LFB\", \"Histology - Gold chloride\", \"Histology - Gold chloride\", \"Histology - Gold chloride\", \"Histology - Gold chloride\", \"Histology - Gold chloride\", \"Histology - Gold chloride\", \"Histology - LFB\", \"Histology - LFB\", \"Histology - LFB\", \"Histology - LFB\", \"Histology - LFB\", \"Histology - LFB\", \"Histology - LFB\", \"Histology - LFB\", \"Histology - LFB\", \"Histology - LFB\", \"Histology - LFB\", \"Histology - LFB\", \"Histology - LFB\", \"Histology - Gold chloride\", \"Histology - Gold chloride\", \"Histology - Gold chloride\", \"Histology - Gold chloride\", \"Histology - Gold chloride\", \"Histology - Gold chloride\", \"Histology - Gold chloride\", \"Histology - Gold chloride\", \"Histology - Solochrome\", \"Histology - Solochrome\", \"Histology - Solochrome\", \"Histology - LFB\", \"Histology - LFB\", \"Histology - LFB\", \"Histology - LFB\", \"Histology - LFB\", \"Histology - LFB\", \"Histology - LFB\", \"Histology - LFB\", \"Histology - LFB\", \"Histology - LFB\", \"Histology - LFB\", \"Histology - LFB\", \"Histology - LFB\", \"Histology - LFB\", \"Histology - LFB\", \"Histology - LFB\", \"Histology - LFB\", \"Histology - LFB\", \"Histology - LFB\", \"Histology - LFB\"], \"xaxis\": \"x\", \"y\": [0.7668, 0.77, 0.34, 0.84, 0.63, 0.34, 0.18, 0.1239, 0.3398, 0.0007, 0.0256, 0.7225, 0.2401, 0.0961, 0.0064, 0.0784, 0.0729, 0.779, 0.67, 0.78, 0.0015, 0.552, 0.5169, 0.4199, 0.49, 0.2237, 0.3492, 0.94, 0.0361, 0.0576, 0.3481, 0.7055999999999999, 0.48999999999999994, 0.0001, 0.4760999999999999, 0.6400000000000001, 0.7055999999999999, 0.6241000000000001, 0.4624000000000001, 0.6561, 0.64, 0.6084, 0.7921, 0.8464, 0.6889, 0.7396, 0.4624, 0.9801, 0.4637, 0.2787, 0.5184], \"yaxis\": \"y\"}, {\"boxpoints\": \"all\", \"name\": \"Immunohistochemistry\", \"text\": [\"AD - Aojula et al., 2016\", \"RD - Aojula et al., 2016\", \"MD - Aojula et al., 2016\", \"FA - Aojula et al., 2016\", \"FA - Chandran et al., 2012\", \"RD - Chandran et al., 2012\", \"FA - Chang et al., 2017\", \"MD - Chang et al., 2017\", \"RD - Chang et al., 2017\", \"AD - Chang et al., 2017\", \"MTR - Fatemi et al., 2011\", \"MTR - Fjaer et al., 2013\", \"MTR - Fjaer et al., 2015\", \"MTR - Guglielmetti et al., 2020\", \"MTR-UTE - Guglielmetti et al., 2020\", \"MPF - Khodanovic et al., 2019\", \"FA - Mollink et al., 2019\", \"T1 - Reeves et al., 2016\", \"T2 - Reeves et al., 2016\", \"RD - Soustelle et al., 2019\", \"rSPF - Soustelle et al., 2019\", \"MPF - Soustelle et al., 2019\", \"MWF - Soustelle et al., 2019\", \"PD - Tardif et al., 2012\", \"MTR - Tardif et al., 2012\", \"T2 - Tardif et al., 2012\", \"T1 - Tardif et al., 2012\", \"AD - Tu et al., 2016\", \"MD - Tu et al., 2016\", \"RD - Tu et al., 2016\", \"FA - Tu et al., 2016\", \"MTR - Tu et al., 2016\", \"MPF - Turati et al., 2015\", \"MD - Wendel et al., 2018\", \"AD - Wendel et al., 2018\", \"FA - Wendel et al., 2018\", \"RD - Wendel et al., 2018\", \"FA - Yano et al., 2018\", \"RD - Yano et al., 2018\", \"MD - Yano et al., 2018\", \"MTR - Zaaraoui et al., 2008\", \"FA - van Tilborg et al., 2017\"], \"type\": \"box\", \"x\": [\"Immunohistochemistry - MBP\", \"Immunohistochemistry - MBP\", \"Immunohistochemistry - MBP\", \"Immunohistochemistry - MBP\", \"Immunohistochemistry - MBP\", \"Immunohistochemistry - MBP\", \"Immunohistochemistry - MBP\", \"Immunohistochemistry - MBP\", \"Immunohistochemistry - MBP\", \"Immunohistochemistry - MBP\", \"Immunohistochemistry - MBP\", \"Immunohistochemistry - PLP\", \"Immunohistochemistry - PLP\", \"Immunohistochemistry - MBP\", \"Immunohistochemistry - MBP\", \"Immunohistochemistry - MBP\", \"Immunohistochemistry - MBP\", \"Immunohistochemistry - MBP\", \"Immunohistochemistry - MBP\", \"Immunohistochemistry - MBP\", \"Immunohistochemistry - MBP\", \"Immunohistochemistry - MBP\", \"Immunohistochemistry - MBP\", \"Immunohistochemistry - MBP\", \"Immunohistochemistry - MBP\", \"Immunohistochemistry - MBP\", \"Immunohistochemistry - MBP\", \"Immunohistochemistry - MBP\", \"Immunohistochemistry - MBP\", \"Immunohistochemistry - MBP\", \"Immunohistochemistry - MBP\", \"Immunohistochemistry - MBP\", \"Immunohistochemistry - MBP\", \"Immunohistochemistry - MBP\", \"Immunohistochemistry - MBP\", \"Immunohistochemistry - MBP\", \"Immunohistochemistry - MBP\", \"Immunohistochemistry - PLP\", \"Immunohistochemistry - PLP\", \"Immunohistochemistry - PLP\", \"Immunohistochemistry - MBP\", \"Immunohistochemistry - MBP\"], \"xaxis\": \"x\", \"y\": [0.1296, 0.2097, 0.245, 0.1197, 0.5, 0.34, 0.1989, 0.0129, 0.038, 0.1482, 0.695, 0.338, 0.01, 0.46, 0.76, 0.82, 0.2704, 0.27, 0.235, 0.49, 0.7396, 0.7569, 0.4624, 0.3481, 0.36, 0.4225, 0.5929, 0.0001, 0.0289, 0.2116, 0.0169, 0.1444, 0.2872, 0.0564, 0.1987, 0.5707, 0.2973, 0.7569, 0.8281, 0.5329, 0.6241000000000001, 0.334], \"yaxis\": \"y\"}, {\"boxpoints\": \"all\", \"name\": \"Microscopy\", \"text\": [\"RD - Abe et al., 2019\", \"AD - Abe et al., 2019\", \"FA - Abe et al., 2019\", \"MTR - Duhamel et al., 2019\", \"ihMTR - Duhamel et al., 2019\", \"FA - Jito et al., 2008\"], \"type\": \"box\", \"x\": [\"Microscopy - Myelin thickness\", \"Microscopy - Myelin thickness\", \"Microscopy - Myelin thickness\", \"Microscopy - Fluorescence\", \"Microscopy - Fluorescence\", \"Microscopy - Myelin sheath area\"], \"xaxis\": \"x\", \"y\": [0.1681, 0.0121, 0.1024, 0.78, 0.96, 0.7327], \"yaxis\": \"y\"}, {\"boxpoints\": \"all\", \"name\": \"EM\", \"text\": [\"MTV - Berman et al., 2018\", \"T2 - Jelescu et al., 2016\", \"MTR - Jelescu et al., 2016\", \"AWF - Jelescu et al., 2016\", \"RK - Jelescu et al., 2016\", \"RDe - Jelescu et al., 2016\", \"RD - Jelescu et al., 2016\", \"AWF - Kelm et al., 2016\", \"RK - Kelm et al., 2016\", \"RD - Kelm et al., 2016\", \"MK - Kelm et al., 2016\", \"MD - Kelm et al., 2016\", \"MD - Thiessen et al., 2013\", \"T1 - Thiessen et al., 2013\", \"T2f - Thiessen et al., 2013\", \"AD - Thiessen et al., 2013\", \"T2m - Thiessen et al., 2013\", \"FA - Thiessen et al., 2013\", \"T2 - Thiessen et al., 2013\", \"k_fm - Thiessen et al., 2013\", \"R1f - Thiessen et al., 2013\", \"k_mf - Thiessen et al., 2013\", \"RD - Thiessen et al., 2013\", \"MPF - Thiessen et al., 2013\", \"MPF - West et al., 2018\", \"MVF-MT - West et al., 2018\", \"MVF-T2 - West et al., 2018\", \"MWF - West et al., 2018\"], \"type\": \"box\", \"x\": [\"EM - Myelin fraction\", \"EM - Myelin fraction\", \"EM - Myelin fraction\", \"EM - Myelin fraction\", \"EM - Myelin fraction\", \"EM - Myelin fraction\", \"EM - Myelin fraction\", \"EM - Myelin fraction\", \"EM - Myelin fraction\", \"EM - Myelin fraction\", \"EM - Myelin fraction\", \"EM - Myelin fraction\", \"EM - Myelin thickness\", \"EM - Myelin thickness\", \"EM - Myelin thickness\", \"EM - Myelin thickness\", \"EM - Myelin thickness\", \"EM - Myelin thickness\", \"EM - Myelin thickness\", \"EM - Myelin thickness\", \"EM - Myelin thickness\", \"EM - Myelin thickness\", \"EM - Myelin thickness\", \"EM - Myelin thickness\", \"EM - Myelin fraction\", \"EM - Myelin fraction\", \"EM - Myelin fraction\", \"EM - Myelin fraction\"], \"xaxis\": \"x\", \"y\": [0.74, 0.4096, 0.1024, 0.3025, 0.0196, 0.25, 0.5041, 0.3364, 0.2401, 0.1369, 0.2304, 0.1225, 0.6561, 0.4356, 0.36, 0.5625, 0.1521, 0.7056, 0.0676, 0.1089, 0.4356, 0.6724, 0.7569, 0.8649, 0.7, 0.7, 0.68, 0.66], \"yaxis\": \"y\"}, {\"boxpoints\": \"all\", \"name\": \"Optogenetic stimulation\", \"text\": [\"RD - Abe et al., 2019\", \"AD - Abe et al., 2019\", \"FA - Abe et al., 2019\"], \"type\": \"box\", \"x\": [\"Optogenetic stimulation\", \"Optogenetic stimulation\", \"Optogenetic stimulation\"], \"xaxis\": \"x2\", \"y\": [0.1681, 0.0121, 0.1024], \"yaxis\": \"y2\"}, {\"boxpoints\": \"all\", \"name\": \"Hydrocephalus\", \"text\": [\"AD - Aojula et al., 2016\", \"RD - Aojula et al., 2016\", \"MD - Aojula et al., 2016\", \"FA - Aojula et al., 2016\"], \"type\": \"box\", \"x\": [\"Hydrocephalus\", \"Hydrocephalus\", \"Hydrocephalus\", \"Hydrocephalus\"], \"xaxis\": \"x2\", \"y\": [0.1296, 0.2097, 0.245, 0.1197], \"yaxis\": \"y2\"}, {\"boxpoints\": \"all\", \"name\": \"Demyelination - Cuprizone\", \"text\": [\"MTR - Beckmann et al., 2018\", \"FA - Chandran et al., 2012\", \"RD - Chandran et al., 2012\", \"MTR - Fjaer et al., 2013\", \"T2 - Jelescu et al., 2016\", \"MTR - Jelescu et al., 2016\", \"AWF - Jelescu et al., 2016\", \"RK - Jelescu et al., 2016\", \"RDe - Jelescu et al., 2016\", \"RD - Jelescu et al., 2016\", \"MPF - Khodanovic et al., 2017\", \"MPF - Khodanovic et al., 2019\", \"RD - Soustelle et al., 2019\", \"rSPF - Soustelle et al., 2019\", \"MPF - Soustelle et al., 2019\", \"MWF - Soustelle et al., 2019\", \"MD - Thiessen et al., 2013\", \"T1 - Thiessen et al., 2013\", \"T2f - Thiessen et al., 2013\", \"AD - Thiessen et al., 2013\", \"T2m - Thiessen et al., 2013\", \"FA - Thiessen et al., 2013\", \"T2 - Thiessen et al., 2013\", \"k_fm - Thiessen et al., 2013\", \"R1f - Thiessen et al., 2013\", \"k_mf - Thiessen et al., 2013\", \"RD - Thiessen et al., 2013\", \"MPF - Thiessen et al., 2013\", \"MPF - Turati et al., 2015\", \"T2 - Wu et al., 2008\", \"FA - Yano et al., 2018\", \"RD - Yano et al., 2018\", \"MD - Yano et al., 2018\", \"MTR - Zaaraoui et al., 2008\"], \"type\": \"box\", \"x\": [\"Demyelination - Cuprizone\", \"Demyelination - Cuprizone\", \"Demyelination - Cuprizone\", \"Demyelination - Cuprizone\", \"Demyelination - Cuprizone\", \"Demyelination - Cuprizone\", \"Demyelination - Cuprizone\", \"Demyelination - Cuprizone\", \"Demyelination - Cuprizone\", \"Demyelination - Cuprizone\", \"Demyelination - Cuprizone\", \"Demyelination - Cuprizone\", \"Demyelination - Cuprizone\", \"Demyelination - Cuprizone\", \"Demyelination - Cuprizone\", \"Demyelination - Cuprizone\", \"Demyelination - Cuprizone\", \"Demyelination - Cuprizone\", \"Demyelination - Cuprizone\", \"Demyelination - Cuprizone\", \"Demyelination - Cuprizone\", \"Demyelination - Cuprizone\", \"Demyelination - Cuprizone\", \"Demyelination - Cuprizone\", \"Demyelination - Cuprizone\", \"Demyelination - Cuprizone\", \"Demyelination - Cuprizone\", \"Demyelination - Cuprizone\", \"Demyelination - Cuprizone\", \"Demyelination - Cuprizone\", \"Demyelination - Cuprizone\", \"Demyelination - Cuprizone\", \"Demyelination - Cuprizone\", \"Demyelination - Cuprizone\"], \"xaxis\": \"x2\", \"y\": [0.7668, 0.5, 0.34, 0.338, 0.4096, 0.1024, 0.3025, 0.0196, 0.25, 0.5041, 0.779, 0.82, 0.49, 0.7396, 0.7569, 0.4624, 0.6561, 0.4356, 0.36, 0.5625, 0.1521, 0.7056, 0.0676, 0.1089, 0.4356, 0.6724, 0.7569, 0.8649, 0.2872, 0.5184, 0.7569, 0.8281, 0.5329, 0.6241000000000001], \"yaxis\": \"y2\"}, {\"boxpoints\": \"all\", \"name\": \"Demyelination - Knockout\", \"text\": [\"MTV - Berman et al., 2018\", \"AWF - Kelm et al., 2016\", \"RK - Kelm et al., 2016\", \"RD - Kelm et al., 2016\", \"MK - Kelm et al., 2016\", \"MD - Kelm et al., 2016\", \"MPF - West et al., 2018\", \"MVF-MT - West et al., 2018\", \"MVF-T2 - West et al., 2018\", \"MWF - West et al., 2018\"], \"type\": \"box\", \"x\": [\"Demyelination - Knockout\", \"Demyelination - Knockout\", \"Demyelination - Knockout\", \"Demyelination - Knockout\", \"Demyelination - Knockout\", \"Demyelination - Knockout\", \"Demyelination - Knockout\", \"Demyelination - Knockout\", \"Demyelination - Knockout\", \"Demyelination - Knockout\"], \"xaxis\": \"x2\", \"y\": [0.74, 0.3364, 0.2401, 0.1369, 0.2304, 0.1225, 0.7, 0.7, 0.68, 0.66], \"yaxis\": \"y2\"}, {\"boxpoints\": \"all\", \"name\": \"Healthy\", \"text\": [\"FA - Chang et al., 2017\", \"MD - Chang et al., 2017\", \"RD - Chang et al., 2017\", \"AD - Chang et al., 2017\", \"MTR - Duhamel et al., 2019\", \"ihMTR - Duhamel et al., 2019\", \"MTR - Guglielmetti et al., 2020\", \"MTR-UTE - Guglielmetti et al., 2020\", \"T1 - Hakkarainen et al., 2016\", \"T2p - Hakkarainen et al., 2016\", \"RAFF - Hakkarainen et al., 2016\", \"T1p - Hakkarainen et al., 2016\", \"MTR - Hakkarainen et al., 2016\", \"T2 - Hakkarainen et al., 2016\", \"FA - Jito et al., 2008\", \"QSM - Pol et al., 2019\", \"FA - Pol et al., 2019\", \"MD - Pol et al., 2019\", \"MPF - Underhill et al., 2011\"], \"type\": \"box\", \"x\": [\"Healthy\", \"Healthy\", \"Healthy\", \"Healthy\", \"Healthy\", \"Healthy\", \"Healthy\", \"Healthy\", \"Healthy\", \"Healthy\", \"Healthy\", \"Healthy\", \"Healthy\", \"Healthy\", \"Healthy\", \"Healthy\", \"Healthy\", \"Healthy\", \"Healthy\"], \"xaxis\": \"x2\", \"y\": [0.1989, 0.0129, 0.038, 0.1482, 0.78, 0.96, 0.46, 0.76, 0.77, 0.34, 0.84, 0.63, 0.34, 0.18, 0.7327, 0.0361, 0.0576, 0.3481, 0.9801], \"yaxis\": \"y2\"}, {\"boxpoints\": \"all\", \"name\": \"Ischemia - Induced hypoxia\", \"text\": [\"MTR - Fatemi et al., 2011\", \"FA - Wang et al., 2009\", \"RD - Wang et al., 2009\"], \"type\": \"box\", \"x\": [\"Ischemia - Induced hypoxia\", \"Ischemia - Induced hypoxia\", \"Ischemia - Induced hypoxia\"], \"xaxis\": \"x2\", \"y\": [0.695, 0.4637, 0.2787], \"yaxis\": \"y2\"}, {\"boxpoints\": \"all\", \"name\": \"Demyelination - Autoimmune encephalomyelitis\", \"text\": [\"MTR - Fjaer et al., 2015\"], \"type\": \"box\", \"x\": [\"Demyelination - Autoimmune encephalomyelitis\"], \"xaxis\": \"x2\", \"y\": [0.01], \"yaxis\": \"y2\"}, {\"boxpoints\": \"all\", \"name\": \"Vascular diseases\", \"text\": [\"QSM - Hametner et al., 2018\", \"T1 - Hametner et al., 2018\", \"R2* - Hametner et al., 2018\"], \"type\": \"box\", \"x\": [\"Vascular diseases\", \"Vascular diseases\", \"Vascular diseases\"], \"xaxis\": \"x2\", \"y\": [0.1239, 0.3398, 0.0007], \"yaxis\": \"y2\"}, {\"boxpoints\": \"all\", \"name\": \"Demyelination - Lipopolysaccharide\", \"text\": [\"k_mf - Janve et al., 2013\", \"MPF - Janve et al., 2013\", \"RD - Janve et al., 2013\", \"R1f - Janve et al., 2013\", \"AD - Janve et al., 2013\", \"MD - Janve et al., 2013\", \"FA - Janve et al., 2013\", \"RD - Lehto et al., 2017a\", \"RAFF - Lehto et al., 2017a\", \"MTR - Lehto et al., 2017a\", \"AD - Lehto et al., 2017a\", \"T1sat - Lehto et al., 2017a\", \"FA - Lehto et al., 2017a\", \"MD - Lehto et al., 2017a\"], \"type\": \"box\", \"x\": [\"Demyelination - Lipopolysaccharide\", \"Demyelination - Lipopolysaccharide\", \"Demyelination - Lipopolysaccharide\", \"Demyelination - Lipopolysaccharide\", \"Demyelination - Lipopolysaccharide\", \"Demyelination - Lipopolysaccharide\", \"Demyelination - Lipopolysaccharide\", \"Demyelination - Lipopolysaccharide\", \"Demyelination - Lipopolysaccharide\", \"Demyelination - Lipopolysaccharide\", \"Demyelination - Lipopolysaccharide\", \"Demyelination - Lipopolysaccharide\", \"Demyelination - Lipopolysaccharide\", \"Demyelination - Lipopolysaccharide\"], \"xaxis\": \"x2\", \"y\": [0.0256, 0.7225, 0.2401, 0.0961, 0.0064, 0.0784, 0.0729, 0.0015, 0.552, 0.5169, 0.4199, 0.49, 0.2237, 0.3492], \"yaxis\": \"y2\"}, {\"boxpoints\": \"all\", \"name\": \"Multiple sclerosis\", \"text\": [\"MWF - Laule et al., 2006\", \"MWF - Laule et al., 2008\", \"MTR - Schmierer et al., 2004\", \"T1 - Schmierer et al., 2004\", \"T2m - Schmierer et al., 2007a\", \"T1 - Schmierer et al., 2007a\", \"MPF - Schmierer et al., 2007a\", \"MTR - Schmierer et al., 2007a\", \"FA - Schmierer et al., 2007b\", \"MD - Schmierer et al., 2007b\", \"RD - Schmierer et al., 2008\", \"AD - Schmierer et al., 2008\", \"MD - Schmierer et al., 2008\", \"T1 - Schmierer et al., 2008\", \"T2 - Schmierer et al., 2008\", \"FA - Schmierer et al., 2008\", \"MPF - Schmierer et al., 2008\", \"MTR - Schmierer et al., 2008\", \"PD - Tardif et al., 2012\", \"MTR - Tardif et al., 2012\", \"T2 - Tardif et al., 2012\", \"T1 - Tardif et al., 2012\"], \"type\": \"box\", \"x\": [\"Multiple sclerosis\", \"Multiple sclerosis\", \"Multiple sclerosis\", \"Multiple sclerosis\", \"Multiple sclerosis\", \"Multiple sclerosis\", \"Multiple sclerosis\", \"Multiple sclerosis\", \"Multiple sclerosis\", \"Multiple sclerosis\", \"Multiple sclerosis\", \"Multiple sclerosis\", \"Multiple sclerosis\", \"Multiple sclerosis\", \"Multiple sclerosis\", \"Multiple sclerosis\", \"Multiple sclerosis\", \"Multiple sclerosis\", \"Multiple sclerosis\", \"Multiple sclerosis\", \"Multiple sclerosis\", \"Multiple sclerosis\"], \"xaxis\": \"x2\", \"y\": [0.67, 0.78, 0.7055999999999999, 0.48999999999999994, 0.0001, 0.4760999999999999, 0.6400000000000001, 0.7055999999999999, 0.6241000000000001, 0.4624000000000001, 0.6561, 0.64, 0.6084, 0.7921, 0.8464, 0.6889, 0.7396, 0.4624, 0.3481, 0.36, 0.4225, 0.5929], \"yaxis\": \"y2\"}, {\"boxpoints\": \"all\", \"name\": \"Traumatic brain injury\", \"text\": [\"MTR - Lehto et al., 2017b\", \"AD - Tu et al., 2016\", \"MD - Tu et al., 2016\", \"RD - Tu et al., 2016\", \"FA - Tu et al., 2016\", \"MTR - Tu et al., 2016\", \"MD - Wendel et al., 2018\", \"AD - Wendel et al., 2018\", \"FA - Wendel et al., 2018\", \"RD - Wendel et al., 2018\"], \"type\": \"box\", \"x\": [\"Traumatic brain injury\", \"Traumatic brain injury\", \"Traumatic brain injury\", \"Traumatic brain injury\", \"Traumatic brain injury\", \"Traumatic brain injury\", \"Traumatic brain injury\", \"Traumatic brain injury\", \"Traumatic brain injury\", \"Traumatic brain injury\"], \"xaxis\": \"x2\", \"y\": [0.94, 0.0001, 0.0289, 0.2116, 0.0169, 0.1444, 0.0564, 0.1987, 0.5707, 0.2973], \"yaxis\": \"y2\"}, {\"boxpoints\": \"all\", \"name\": \"Amyotrophic lateral sclerosis\", \"text\": [\"FA - Mollink et al., 2019\"], \"type\": \"box\", \"x\": [\"Amyotrophic lateral sclerosis\"], \"xaxis\": \"x2\", \"y\": [0.2704], \"yaxis\": \"y2\"}, {\"boxpoints\": \"all\", \"name\": \"Epilepsy\", \"text\": [\"T1 - Reeves et al., 2016\", \"T2 - Reeves et al., 2016\"], \"type\": \"box\", \"x\": [\"Epilepsy\", \"Epilepsy\"], \"xaxis\": \"x2\", \"y\": [0.27, 0.235], \"yaxis\": \"y2\"}, {\"boxpoints\": \"all\", \"name\": \"White matter injury\", \"text\": [\"FA - van Tilborg et al., 2017\"], \"type\": \"box\", \"x\": [\"White matter injury\"], \"xaxis\": \"x2\", \"y\": [0.334], \"yaxis\": \"y2\"}, {\"boxpoints\": \"all\", \"name\": \"Deep grey matter+Grey matter\", \"text\": [\"RD - Abe et al., 2019\", \"AD - Abe et al., 2019\", \"FA - Abe et al., 2019\"], \"type\": \"box\", \"x\": [\"Deep grey matter+Grey matter\", \"Deep grey matter+Grey matter\", \"Deep grey matter+Grey matter\"], \"xaxis\": \"x3\", \"y\": [0.1681, 0.0121, 0.1024], \"yaxis\": \"y3\"}, {\"boxpoints\": \"all\", \"name\": \"White matter\", \"text\": [\"AD - Aojula et al., 2016\", \"RD - Aojula et al., 2016\", \"MD - Aojula et al., 2016\", \"FA - Aojula et al., 2016\", \"MTR - Beckmann et al., 2018\", \"MTV - Berman et al., 2018\", \"FA - Chandran et al., 2012\", \"RD - Chandran et al., 2012\", \"FA - Chang et al., 2017\", \"MD - Chang et al., 2017\", \"RD - Chang et al., 2017\", \"AD - Chang et al., 2017\", \"MTR - Fatemi et al., 2011\", \"MTR - Fjaer et al., 2013\", \"MTR - Fjaer et al., 2015\", \"k_mf - Janve et al., 2013\", \"MPF - Janve et al., 2013\", \"RD - Janve et al., 2013\", \"R1f - Janve et al., 2013\", \"AD - Janve et al., 2013\", \"MD - Janve et al., 2013\", \"FA - Janve et al., 2013\", \"T2 - Jelescu et al., 2016\", \"MTR - Jelescu et al., 2016\", \"AWF - Jelescu et al., 2016\", \"RK - Jelescu et al., 2016\", \"RDe - Jelescu et al., 2016\", \"RD - Jelescu et al., 2016\", \"FA - Jito et al., 2008\", \"AWF - Kelm et al., 2016\", \"RK - Kelm et al., 2016\", \"RD - Kelm et al., 2016\", \"MK - Kelm et al., 2016\", \"MD - Kelm et al., 2016\", \"MPF - Khodanovic et al., 2019\", \"RD - Lehto et al., 2017a\", \"RAFF - Lehto et al., 2017a\", \"MTR - Lehto et al., 2017a\", \"AD - Lehto et al., 2017a\", \"T1sat - Lehto et al., 2017a\", \"FA - Lehto et al., 2017a\", \"MD - Lehto et al., 2017a\", \"FA - Mollink et al., 2019\", \"QSM - Pol et al., 2019\", \"FA - Pol et al., 2019\", \"MD - Pol et al., 2019\", \"RD - Soustelle et al., 2019\", \"rSPF - Soustelle et al., 2019\", \"MPF - Soustelle et al., 2019\", \"MWF - Soustelle et al., 2019\", \"MD - Thiessen et al., 2013\", \"T1 - Thiessen et al., 2013\", \"T2f - Thiessen et al., 2013\", \"AD - Thiessen et al., 2013\", \"T2m - Thiessen et al., 2013\", \"FA - Thiessen et al., 2013\", \"T2 - Thiessen et al., 2013\", \"k_fm - Thiessen et al., 2013\", \"R1f - Thiessen et al., 2013\", \"k_mf - Thiessen et al., 2013\", \"RD - Thiessen et al., 2013\", \"MPF - Thiessen et al., 2013\", \"AD - Tu et al., 2016\", \"MD - Tu et al., 2016\", \"RD - Tu et al., 2016\", \"FA - Tu et al., 2016\", \"MTR - Tu et al., 2016\", \"MPF - Turati et al., 2015\", \"FA - Wang et al., 2009\", \"RD - Wang et al., 2009\", \"MD - Wendel et al., 2018\", \"AD - Wendel et al., 2018\", \"FA - Wendel et al., 2018\", \"RD - Wendel et al., 2018\", \"MPF - West et al., 2018\", \"MVF-MT - West et al., 2018\", \"MVF-T2 - West et al., 2018\", \"MWF - West et al., 2018\", \"T2 - Wu et al., 2008\", \"FA - Yano et al., 2018\", \"RD - Yano et al., 2018\", \"MD - Yano et al., 2018\", \"MTR - Zaaraoui et al., 2008\"], \"type\": \"box\", \"x\": [\"White matter\", \"White matter\", \"White matter\", \"White matter\", \"White matter\", \"White matter\", \"White matter\", \"White matter\", \"White matter\", \"White matter\", \"White matter\", \"White matter\", \"White matter\", \"White matter\", \"White matter\", \"White matter\", \"White matter\", \"White matter\", \"White matter\", \"White matter\", \"White matter\", \"White matter\", \"White matter\", \"White matter\", \"White matter\", \"White matter\", \"White matter\", \"White matter\", \"White matter\", \"White matter\", \"White matter\", \"White matter\", \"White matter\", \"White matter\", \"White matter\", \"White matter\", \"White matter\", \"White matter\", \"White matter\", \"White matter\", \"White matter\", \"White matter\", \"White matter\", \"White matter\", \"White matter\", \"White matter\", \"White matter\", \"White matter\", \"White matter\", \"White matter\", \"White matter\", \"White matter\", \"White matter\", \"White matter\", \"White matter\", \"White matter\", \"White matter\", \"White matter\", \"White matter\", \"White matter\", \"White matter\", \"White matter\", \"White matter\", \"White matter\", \"White matter\", \"White matter\", \"White matter\", \"White matter\", \"White matter\", \"White matter\", \"White matter\", \"White matter\", \"White matter\", \"White matter\", \"White matter\", \"White matter\", \"White matter\", \"White matter\", \"White matter\", \"White matter\", \"White matter\", \"White matter\", \"White matter\"], \"xaxis\": \"x3\", \"y\": [0.1296, 0.2097, 0.245, 0.1197, 0.7668, 0.74, 0.5, 0.34, 0.1989, 0.0129, 0.038, 0.1482, 0.695, 0.338, 0.01, 0.0256, 0.7225, 0.2401, 0.0961, 0.0064, 0.0784, 0.0729, 0.4096, 0.1024, 0.3025, 0.0196, 0.25, 0.5041, 0.7327, 0.3364, 0.2401, 0.1369, 0.2304, 0.1225, 0.82, 0.0015, 0.552, 0.5169, 0.4199, 0.49, 0.2237, 0.3492, 0.2704, 0.0361, 0.0576, 0.3481, 0.49, 0.7396, 0.7569, 0.4624, 0.6561, 0.4356, 0.36, 0.5625, 0.1521, 0.7056, 0.0676, 0.1089, 0.4356, 0.6724, 0.7569, 0.8649, 0.0001, 0.0289, 0.2116, 0.0169, 0.1444, 0.2872, 0.4637, 0.2787, 0.0564, 0.1987, 0.5707, 0.2973, 0.7, 0.7, 0.68, 0.66, 0.5184, 0.7569, 0.8281, 0.5329, 0.6241000000000001], \"yaxis\": \"y3\"}, {\"boxpoints\": \"all\", \"name\": \"White matter+Deep grey matter+Grey matter\", \"text\": [\"MTR - Duhamel et al., 2019\", \"ihMTR - Duhamel et al., 2019\", \"MTR - Guglielmetti et al., 2020\", \"MTR-UTE - Guglielmetti et al., 2020\", \"T1 - Hakkarainen et al., 2016\", \"T2p - Hakkarainen et al., 2016\", \"RAFF - Hakkarainen et al., 2016\", \"T1p - Hakkarainen et al., 2016\", \"MTR - Hakkarainen et al., 2016\", \"T2 - Hakkarainen et al., 2016\", \"QSM - Hametner et al., 2018\", \"T1 - Hametner et al., 2018\", \"R2* - Hametner et al., 2018\", \"MPF - Khodanovic et al., 2017\", \"MPF - Underhill et al., 2011\"], \"type\": \"box\", \"x\": [\"White matter+Deep grey matter+Grey matter\", \"White matter+Deep grey matter+Grey matter\", \"White matter+Deep grey matter+Grey matter\", \"White matter+Deep grey matter+Grey matter\", \"White matter+Deep grey matter+Grey matter\", \"White matter+Deep grey matter+Grey matter\", \"White matter+Deep grey matter+Grey matter\", \"White matter+Deep grey matter+Grey matter\", \"White matter+Deep grey matter+Grey matter\", \"White matter+Deep grey matter+Grey matter\", \"White matter+Deep grey matter+Grey matter\", \"White matter+Deep grey matter+Grey matter\", \"White matter+Deep grey matter+Grey matter\", \"White matter+Deep grey matter+Grey matter\", \"White matter+Deep grey matter+Grey matter\"], \"xaxis\": \"x3\", \"y\": [0.78, 0.96, 0.46, 0.76, 0.77, 0.34, 0.84, 0.63, 0.34, 0.18, 0.1239, 0.3398, 0.0007, 0.779, 0.9801], \"yaxis\": \"y3\"}, {\"boxpoints\": \"all\", \"name\": \"White matter+Grey matter\", \"text\": [\"MWF - Laule et al., 2006\", \"MWF - Laule et al., 2008\", \"T1 - Reeves et al., 2016\", \"T2 - Reeves et al., 2016\"], \"type\": \"box\", \"x\": [\"White matter+Grey matter\", \"White matter+Grey matter\", \"White matter+Grey matter\", \"White matter+Grey matter\"], \"xaxis\": \"x3\", \"y\": [0.67, 0.78, 0.27, 0.235], \"yaxis\": \"y3\"}, {\"boxpoints\": \"all\", \"name\": \"White matter+Deep grey matter\", \"text\": [\"MTR - Lehto et al., 2017b\"], \"type\": \"box\", \"x\": [\"White matter+Deep grey matter\"], \"xaxis\": \"x3\", \"y\": [0.94], \"yaxis\": \"y3\"}, {\"boxpoints\": \"all\", \"name\": \"White matter+Lesions\", \"text\": [\"MTR - Schmierer et al., 2004\", \"T1 - Schmierer et al., 2004\", \"T2m - Schmierer et al., 2007a\", \"T1 - Schmierer et al., 2007a\", \"MPF - Schmierer et al., 2007a\", \"MTR - Schmierer et al., 2007a\", \"FA - Schmierer et al., 2007b\", \"MD - Schmierer et al., 2007b\", \"RD - Schmierer et al., 2008\", \"AD - Schmierer et al., 2008\", \"MD - Schmierer et al., 2008\", \"T1 - Schmierer et al., 2008\", \"T2 - Schmierer et al., 2008\", \"FA - Schmierer et al., 2008\", \"MPF - Schmierer et al., 2008\", \"MTR - Schmierer et al., 2008\"], \"type\": \"box\", \"x\": [\"White matter+Lesions\", \"White matter+Lesions\", \"White matter+Lesions\", \"White matter+Lesions\", \"White matter+Lesions\", \"White matter+Lesions\", \"White matter+Lesions\", \"White matter+Lesions\", \"White matter+Lesions\", \"White matter+Lesions\", \"White matter+Lesions\", \"White matter+Lesions\", \"White matter+Lesions\", \"White matter+Lesions\", \"White matter+Lesions\", \"White matter+Lesions\"], \"xaxis\": \"x3\", \"y\": [0.7055999999999999, 0.48999999999999994, 0.0001, 0.4760999999999999, 0.6400000000000001, 0.7055999999999999, 0.6241000000000001, 0.4624000000000001, 0.6561, 0.64, 0.6084, 0.7921, 0.8464, 0.6889, 0.7396, 0.4624], \"yaxis\": \"y3\"}, {\"boxpoints\": \"all\", \"name\": \"White matter+Lesions+Grey matter\", \"text\": [\"PD - Tardif et al., 2012\", \"MTR - Tardif et al., 2012\", \"T2 - Tardif et al., 2012\", \"T1 - Tardif et al., 2012\"], \"type\": \"box\", \"x\": [\"White matter+Lesions+Grey matter\", \"White matter+Lesions+Grey matter\", \"White matter+Lesions+Grey matter\", \"White matter+Lesions+Grey matter\"], \"xaxis\": \"x3\", \"y\": [0.3481, 0.36, 0.4225, 0.5929], \"yaxis\": \"y3\"}, {\"boxpoints\": \"all\", \"name\": \"Grey matter\", \"text\": [\"FA - van Tilborg et al., 2017\"], \"type\": \"box\", \"x\": [\"Grey matter\"], \"xaxis\": \"x3\", \"y\": [0.334], \"yaxis\": \"y3\"}],\n                        {\"annotations\": [{\"font\": {\"size\": 16}, \"showarrow\": false, \"text\": \"R<sup>2</sup> values and reference techniques\", \"x\": 0.5, \"xanchor\": \"center\", \"xref\": \"paper\", \"y\": 1.0, \"yanchor\": \"bottom\", \"yref\": \"paper\"}, {\"font\": {\"size\": 16}, \"showarrow\": false, \"text\": \"R<sup>2</sup> values and pathology\", \"x\": 0.5, \"xanchor\": \"center\", \"xref\": \"paper\", \"y\": 0.6, \"yanchor\": \"bottom\", \"yref\": \"paper\"}, {\"font\": {\"size\": 16}, \"showarrow\": false, \"text\": \"R<sup>2</sup> values and tissue types\", \"x\": 0.5, \"xanchor\": \"center\", \"xref\": \"paper\", \"y\": 0.19999999999999998, \"yanchor\": \"bottom\", \"yref\": \"paper\"}, {\"font\": {\"size\": 16}, \"showarrow\": false, \"text\": \"R<sup>2</sup>\", \"textangle\": -90, \"x\": 0, \"xanchor\": \"right\", \"xref\": \"paper\", \"xshift\": -40, \"y\": 0.5, \"yanchor\": \"middle\", \"yref\": \"paper\"}, {\"font\": {\"color\": \"gray\", \"size\": 8}, \"showarrow\": false, \"text\": \"<a href=\\\"https://neurolibre.com\\\" target=\\\"_blank\\\" style=\\\"color:gray!important\\\">NeuroLibre</a>\", \"x\": 1, \"xref\": \"paper\", \"y\": -0.149, \"yref\": \"paper\"}], \"height\": 1000, \"images\": [{\"opacity\": 0.9, \"sizex\": 0.03, \"sizey\": 0.03, \"source\": \"https://raw.githubusercontent.com/notebook-factory/brand/main/nlibre_custom2.svg\", \"x\": 0.875, \"xref\": \"paper\", \"y\": -0.124, \"yref\": \"paper\"}], \"margin\": {\"l\": 0}, \"showlegend\": false, \"template\": {\"data\": {\"bar\": [{\"error_x\": {\"color\": \"#2a3f5f\"}, \"error_y\": {\"color\": \"#2a3f5f\"}, \"marker\": {\"line\": {\"color\": \"#E5ECF6\", \"width\": 0.5}}, \"type\": \"bar\"}], \"barpolar\": [{\"marker\": {\"line\": {\"color\": \"#E5ECF6\", \"width\": 0.5}}, \"type\": \"barpolar\"}], \"carpet\": [{\"aaxis\": {\"endlinecolor\": \"#2a3f5f\", \"gridcolor\": \"white\", \"linecolor\": \"white\", \"minorgridcolor\": \"white\", \"startlinecolor\": \"#2a3f5f\"}, \"baxis\": {\"endlinecolor\": \"#2a3f5f\", \"gridcolor\": \"white\", \"linecolor\": \"white\", \"minorgridcolor\": \"white\", \"startlinecolor\": \"#2a3f5f\"}, \"type\": \"carpet\"}], \"choropleth\": [{\"colorbar\": {\"outlinewidth\": 0, \"ticks\": \"\"}, \"type\": \"choropleth\"}], \"contour\": [{\"colorbar\": {\"outlinewidth\": 0, \"ticks\": \"\"}, \"colorscale\": [[0.0, \"#0d0887\"], [0.1111111111111111, \"#46039f\"], [0.2222222222222222, \"#7201a8\"], [0.3333333333333333, \"#9c179e\"], [0.4444444444444444, \"#bd3786\"], [0.5555555555555556, \"#d8576b\"], [0.6666666666666666, \"#ed7953\"], [0.7777777777777778, \"#fb9f3a\"], [0.8888888888888888, \"#fdca26\"], [1.0, \"#f0f921\"]], \"type\": \"contour\"}], \"contourcarpet\": [{\"colorbar\": {\"outlinewidth\": 0, \"ticks\": \"\"}, \"type\": \"contourcarpet\"}], \"heatmap\": [{\"colorbar\": {\"outlinewidth\": 0, \"ticks\": \"\"}, \"colorscale\": [[0.0, \"#0d0887\"], [0.1111111111111111, \"#46039f\"], [0.2222222222222222, \"#7201a8\"], [0.3333333333333333, \"#9c179e\"], [0.4444444444444444, \"#bd3786\"], [0.5555555555555556, \"#d8576b\"], [0.6666666666666666, \"#ed7953\"], [0.7777777777777778, \"#fb9f3a\"], [0.8888888888888888, \"#fdca26\"], [1.0, \"#f0f921\"]], \"type\": \"heatmap\"}], \"heatmapgl\": [{\"colorbar\": {\"outlinewidth\": 0, \"ticks\": \"\"}, \"colorscale\": [[0.0, \"#0d0887\"], [0.1111111111111111, \"#46039f\"], [0.2222222222222222, \"#7201a8\"], [0.3333333333333333, \"#9c179e\"], [0.4444444444444444, \"#bd3786\"], [0.5555555555555556, \"#d8576b\"], [0.6666666666666666, \"#ed7953\"], [0.7777777777777778, \"#fb9f3a\"], [0.8888888888888888, \"#fdca26\"], [1.0, \"#f0f921\"]], \"type\": \"heatmapgl\"}], \"histogram\": [{\"marker\": {\"colorbar\": {\"outlinewidth\": 0, \"ticks\": \"\"}}, \"type\": \"histogram\"}], \"histogram2d\": [{\"colorbar\": {\"outlinewidth\": 0, \"ticks\": \"\"}, \"colorscale\": [[0.0, \"#0d0887\"], [0.1111111111111111, \"#46039f\"], [0.2222222222222222, \"#7201a8\"], [0.3333333333333333, \"#9c179e\"], [0.4444444444444444, \"#bd3786\"], [0.5555555555555556, \"#d8576b\"], [0.6666666666666666, \"#ed7953\"], [0.7777777777777778, \"#fb9f3a\"], [0.8888888888888888, \"#fdca26\"], [1.0, \"#f0f921\"]], \"type\": \"histogram2d\"}], \"histogram2dcontour\": [{\"colorbar\": {\"outlinewidth\": 0, \"ticks\": \"\"}, \"colorscale\": [[0.0, \"#0d0887\"], [0.1111111111111111, \"#46039f\"], [0.2222222222222222, \"#7201a8\"], [0.3333333333333333, \"#9c179e\"], [0.4444444444444444, \"#bd3786\"], [0.5555555555555556, \"#d8576b\"], [0.6666666666666666, \"#ed7953\"], [0.7777777777777778, \"#fb9f3a\"], [0.8888888888888888, \"#fdca26\"], [1.0, \"#f0f921\"]], \"type\": \"histogram2dcontour\"}], \"mesh3d\": [{\"colorbar\": {\"outlinewidth\": 0, \"ticks\": \"\"}, \"type\": \"mesh3d\"}], \"parcoords\": [{\"line\": {\"colorbar\": {\"outlinewidth\": 0, \"ticks\": \"\"}}, \"type\": \"parcoords\"}], \"pie\": [{\"automargin\": true, \"type\": \"pie\"}], \"scatter\": [{\"marker\": {\"colorbar\": {\"outlinewidth\": 0, \"ticks\": \"\"}}, \"type\": \"scatter\"}], \"scatter3d\": [{\"line\": {\"colorbar\": {\"outlinewidth\": 0, \"ticks\": \"\"}}, \"marker\": {\"colorbar\": {\"outlinewidth\": 0, \"ticks\": \"\"}}, \"type\": \"scatter3d\"}], \"scattercarpet\": [{\"marker\": {\"colorbar\": {\"outlinewidth\": 0, \"ticks\": \"\"}}, \"type\": \"scattercarpet\"}], \"scattergeo\": [{\"marker\": {\"colorbar\": {\"outlinewidth\": 0, \"ticks\": \"\"}}, \"type\": \"scattergeo\"}], \"scattergl\": [{\"marker\": {\"colorbar\": {\"outlinewidth\": 0, \"ticks\": \"\"}}, \"type\": \"scattergl\"}], \"scattermapbox\": [{\"marker\": {\"colorbar\": {\"outlinewidth\": 0, \"ticks\": \"\"}}, \"type\": \"scattermapbox\"}], \"scatterpolar\": [{\"marker\": {\"colorbar\": {\"outlinewidth\": 0, \"ticks\": \"\"}}, \"type\": \"scatterpolar\"}], \"scatterpolargl\": [{\"marker\": {\"colorbar\": {\"outlinewidth\": 0, \"ticks\": \"\"}}, \"type\": \"scatterpolargl\"}], \"scatterternary\": [{\"marker\": {\"colorbar\": {\"outlinewidth\": 0, \"ticks\": \"\"}}, \"type\": \"scatterternary\"}], \"surface\": [{\"colorbar\": {\"outlinewidth\": 0, \"ticks\": \"\"}, \"colorscale\": [[0.0, \"#0d0887\"], [0.1111111111111111, \"#46039f\"], [0.2222222222222222, \"#7201a8\"], [0.3333333333333333, \"#9c179e\"], [0.4444444444444444, \"#bd3786\"], [0.5555555555555556, \"#d8576b\"], [0.6666666666666666, \"#ed7953\"], [0.7777777777777778, \"#fb9f3a\"], [0.8888888888888888, \"#fdca26\"], [1.0, \"#f0f921\"]], \"type\": \"surface\"}], \"table\": [{\"cells\": {\"fill\": {\"color\": \"#EBF0F8\"}, \"line\": {\"color\": \"white\"}}, \"header\": {\"fill\": {\"color\": \"#C8D4E3\"}, \"line\": {\"color\": \"white\"}}, \"type\": \"table\"}]}, \"layout\": {\"annotationdefaults\": {\"arrowcolor\": \"#2a3f5f\", \"arrowhead\": 0, \"arrowwidth\": 1}, \"coloraxis\": {\"colorbar\": {\"outlinewidth\": 0, \"ticks\": \"\"}}, \"colorscale\": {\"diverging\": [[0, \"#8e0152\"], [0.1, \"#c51b7d\"], [0.2, \"#de77ae\"], [0.3, \"#f1b6da\"], [0.4, \"#fde0ef\"], [0.5, \"#f7f7f7\"], [0.6, \"#e6f5d0\"], [0.7, \"#b8e186\"], [0.8, \"#7fbc41\"], [0.9, \"#4d9221\"], [1, \"#276419\"]], \"sequential\": [[0.0, \"#0d0887\"], [0.1111111111111111, \"#46039f\"], [0.2222222222222222, \"#7201a8\"], [0.3333333333333333, \"#9c179e\"], [0.4444444444444444, \"#bd3786\"], [0.5555555555555556, \"#d8576b\"], [0.6666666666666666, \"#ed7953\"], [0.7777777777777778, \"#fb9f3a\"], [0.8888888888888888, \"#fdca26\"], [1.0, \"#f0f921\"]], \"sequentialminus\": [[0.0, \"#0d0887\"], [0.1111111111111111, \"#46039f\"], [0.2222222222222222, \"#7201a8\"], [0.3333333333333333, \"#9c179e\"], [0.4444444444444444, \"#bd3786\"], [0.5555555555555556, \"#d8576b\"], [0.6666666666666666, \"#ed7953\"], [0.7777777777777778, \"#fb9f3a\"], [0.8888888888888888, \"#fdca26\"], [1.0, \"#f0f921\"]]}, \"colorway\": [\"#636efa\", \"#EF553B\", \"#00cc96\", \"#ab63fa\", \"#FFA15A\", \"#19d3f3\", \"#FF6692\", \"#B6E880\", \"#FF97FF\", \"#FECB52\"], \"font\": {\"color\": \"#2a3f5f\"}, \"geo\": {\"bgcolor\": \"white\", \"lakecolor\": \"white\", \"landcolor\": \"#E5ECF6\", \"showlakes\": true, \"showland\": true, \"subunitcolor\": \"white\"}, \"hoverlabel\": {\"align\": \"left\"}, \"hovermode\": \"closest\", \"mapbox\": {\"style\": \"light\"}, \"paper_bgcolor\": \"white\", \"plot_bgcolor\": \"#E5ECF6\", \"polar\": {\"angularaxis\": {\"gridcolor\": \"white\", \"linecolor\": \"white\", \"ticks\": \"\"}, \"bgcolor\": \"#E5ECF6\", \"radialaxis\": {\"gridcolor\": \"white\", \"linecolor\": \"white\", \"ticks\": \"\"}}, \"scene\": {\"xaxis\": {\"backgroundcolor\": \"#E5ECF6\", \"gridcolor\": \"white\", \"gridwidth\": 2, \"linecolor\": \"white\", \"showbackground\": true, \"ticks\": \"\", \"zerolinecolor\": \"white\"}, \"yaxis\": {\"backgroundcolor\": \"#E5ECF6\", \"gridcolor\": \"white\", \"gridwidth\": 2, \"linecolor\": \"white\", \"showbackground\": true, \"ticks\": \"\", \"zerolinecolor\": \"white\"}, \"zaxis\": {\"backgroundcolor\": \"#E5ECF6\", \"gridcolor\": \"white\", \"gridwidth\": 2, \"linecolor\": \"white\", \"showbackground\": true, \"ticks\": \"\", \"zerolinecolor\": \"white\"}}, \"shapedefaults\": {\"line\": {\"color\": \"#2a3f5f\"}}, \"ternary\": {\"aaxis\": {\"gridcolor\": \"white\", \"linecolor\": \"white\", \"ticks\": \"\"}, \"baxis\": {\"gridcolor\": \"white\", \"linecolor\": \"white\", \"ticks\": \"\"}, \"bgcolor\": \"#E5ECF6\", \"caxis\": {\"gridcolor\": \"white\", \"linecolor\": \"white\", \"ticks\": \"\"}}, \"title\": {\"x\": 0.05}, \"xaxis\": {\"automargin\": true, \"gridcolor\": \"white\", \"linecolor\": \"white\", \"ticks\": \"\", \"title\": {\"standoff\": 15}, \"zerolinecolor\": \"white\", \"zerolinewidth\": 2}, \"yaxis\": {\"automargin\": true, \"gridcolor\": \"white\", \"linecolor\": \"white\", \"ticks\": \"\", \"title\": {\"standoff\": 15}, \"zerolinecolor\": \"white\", \"zerolinewidth\": 2}}}, \"title\": {\"text\": \"Figure 7: Experimental conditions and methodological choices influencing the R<sup>2</sup> values\", \"x\": 0}, \"width\": 600, \"xaxis\": {\"anchor\": \"y\", \"domain\": [0.0, 1.0], \"tickfont\": {\"size\": 10}}, \"xaxis2\": {\"anchor\": \"y2\", \"domain\": [0.0, 1.0], \"tickfont\": {\"size\": 10}}, \"xaxis3\": {\"anchor\": \"y3\", \"domain\": [0.0, 1.0], \"tickfont\": {\"size\": 10}}, \"yaxis\": {\"anchor\": \"x\", \"domain\": [0.8, 1.0]}, \"yaxis2\": {\"anchor\": \"x2\", \"domain\": [0.4, 0.6]}, \"yaxis3\": {\"anchor\": \"x3\", \"domain\": [0.0, 0.19999999999999998]}},\n                        {\"responsive\": true}\n                    ).then(function(){\n                            \nvar gd = document.getElementById('b8a68912-fd64-4ce3-9aca-bb90d1649cf0');\nvar x = new MutationObserver(function (mutations, observer) {{\n        var display = window.getComputedStyle(gd).display;\n        if (!display || display === 'none') {{\n            console.log([gd, 'removed!']);\n            Plotly.purge(gd);\n            observer.disconnect();\n        }}\n}});\n\n// Listen for the removal of the full notebook cells\nvar notebookContainer = gd.closest('#notebook-container');\nif (notebookContainer) {{\n    x.observe(notebookContainer, {childList: true});\n}}\n\n// Listen for the clearing of the current output cell\nvar outputEl = gd.closest('.output');\nif (outputEl) {{\n    x.observe(outputEl, {childList: true});\n}}\n\n                        })\n                };\n                });\n            </script>\n        </div>"
     },
     "metadata": {},
     "output_type": "display_data"
    }
   ],
   "source": [
    "config={'showLink': False, 'displayModeBar': False}\n",
    "\n",
    "metafor = importr('metafor')\n",
    "stats = importr('stats')\n",
    "\n",
    "filtered_df = pd.read_pickle(\"filtered_df.pkl\")\n",
    "\n",
    "filtered_df['Variance'] = (4*filtered_df['R^2'])*((1-filtered_df['R^2'])**2)/filtered_df['Sample points']\n",
    "\n",
    "structures={'Lesions':'Lesions',\n",
    "            'Substantia nigra':'Deep grey matter',\n",
    "            'Hippocampal commissure':'White matter',\n",
    "            'Putamen':'Deep grey matter',\n",
    "            'Motor cortex':'Grey matter',\n",
    "            'Globus pallidus':'Deep grey matter',\n",
    "            'Perforant pathway':'White matter',\n",
    "            'Mammilothalamic tract':'White matter',\n",
    "            'External capsule':'White matter',\n",
    "            'Inter-peduncular nuclues':'Deep grey matter',\n",
    "            'Hippocampus':'Deep grey matter',\n",
    "            'Thalamic nuclei':'Deep grey matter',\n",
    "            'Thalamus':'Deep grey matter',\n",
    "            'Cerebellum':'Grey matter',\n",
    "            'Amygdala':'Deep grey matter',\n",
    "            'Cingulum':'White matter',\n",
    "            'Striatum':'Deep grey matter',\n",
    "            'Accumbens':'Deep grey matter',\n",
    "            'Basal ganglia':'Deep grey matter',\n",
    "            'Anterior commissure':'White matter',\n",
    "            'Cortex':'Grey matter',\n",
    "            'Fimbria':'White matter',\n",
    "            'Somatosensory cortex':'Grey matter',\n",
    "            'Dorsal tegmental tract':'White matter',\n",
    "            'Superior colliculus':'Deep grey matter',\n",
    "            'Fasciculus retroflexus':'White matter',\n",
    "            'Optic nerve':'White matter',\n",
    "            'Dentate gyrus':'Grey matter',\n",
    "            'Corpus callosum':'White matter',\n",
    "            'Fornix':'White matter',\n",
    "            'White matter':'White matter',\n",
    "            'Grey matter':'Grey matter',\n",
    "            'Optic tract':'White matter',\n",
    "            'Internal capsule':'White matter',\n",
    "            'Stria medullaris':'White matter'}\n",
    "\n",
    "\n",
    "tissue_types=[]\n",
    "for s in filtered_df['Specific structure(s)']:\n",
    "    t_list=[]\n",
    "    for i in s.split(','):\n",
    "        t_list.append(structures[i.strip()])\n",
    "    tissue_types.append('+'.join(list(set(t_list))))\n",
    "\n",
    "filtered_df['Tissue types']=tissue_types\n",
    "\n",
    "fig7 = make_subplots(rows=3, cols=1, start_cell=\"top-left\", vertical_spacing=0.2, y_title='R<sup>2</sup>',\n",
    "                     subplot_titles=['R<sup>2</sup> values and reference techniques',\n",
    "                                     'R<sup>2</sup> values and pathology',\n",
    "                                     'R<sup>2</sup> values and tissue types'])\n",
    "\n",
    "references = ['Histology', 'Immunohistochemistry', 'Microscopy', 'EM']\n",
    "\n",
    "for r in references:\n",
    "    df_r=filtered_df[filtered_df['Histology/microscopy measure'].str.contains(r)]\n",
    "    fig7.add_trace(go.Box(\n",
    "        y=df_r['R^2'],\n",
    "        x=df_r['Histology/microscopy measure'],\n",
    "        boxpoints='all',\n",
    "        text=df_r['Measure'] + ' - ' + df_r['Study'],\n",
    "        name=r\n",
    "    ), col=1, row=1)\n",
    "\n",
    "for t in filtered_df['Condition'].unique():\n",
    "    df_t=filtered_df[filtered_df['Condition']==t]\n",
    "    fig7.add_trace(go.Box(\n",
    "        y=df_t['R^2'],\n",
    "        x=df_t['Condition'],\n",
    "        boxpoints='all',\n",
    "        text=df_t['Measure'] + ' - ' + df_t['Study'],\n",
    "        name=t\n",
    "    ), col=1, row=2)\n",
    "\n",
    "for t in filtered_df['Tissue types'].unique():\n",
    "    df_t=filtered_df[filtered_df['Tissue types']==t]\n",
    "    fig7.add_trace(go.Box(\n",
    "        y=df_t['R^2'],\n",
    "        x=df_t['Tissue types'],\n",
    "        boxpoints='all',\n",
    "        text=df_t['Measure'] + ' - ' + df_t['Study'],\n",
    "        name=t\n",
    "    ), col=1, row=3)   \n",
    "\n",
    "fig7.update_layout(\n",
    "    title=dict(\n",
    "        text='Figure 7: Experimental conditions and methodological choices influencing the R<sup>2</sup> values',\n",
    "        x=0),\n",
    "    margin=dict(l=0),\n",
    "    showlegend=False,\n",
    "    height=1000,\n",
    "    width=600\n",
    ")\n",
    "\n",
    "fig7.update_xaxes(tickfont=dict(size=10))\n",
    "plot(insertLogo(fig7,0.03,0.03,1,-0.149,-0.125,0.025), filename = 'fig7.html',config = config)\n",
    "# display(HTML('fig7.html'))\n",
    "\n",
    "fig7.show()"
   ]
  },
  {
   "cell_type": "markdown",
   "metadata": {},
   "source": [
    "\n",
    "```{admonition} Figure 8\n",
    ":class: tip\n",
    "Other potential confounders include magnetic field strength, tissue conditions, co-registration and tissue type. You can mouse over markers in each panel to see the corresponding studies.\n",
    "```\n",
    "\n",
    "### Figure 8"
   ]
  },
  {
   "cell_type": "code",
   "execution_count": 10,
   "metadata": {
    "tags": [
     "hide_input"
    ]
   },
   "outputs": [
    {
     "data": {
      "application/vnd.plotly.v1+json": {
       "config": {
        "plotlyServerURL": "https://plot.ly"
       },
       "data": [
        {
         "marker": {
          "color": "rgb(127, 60, 141)"
         },
         "mode": "markers",
         "name": "Diffusion",
         "text": [
          "RD - Abe et al., 2019",
          "AD - Abe et al., 2019",
          "FA - Abe et al., 2019",
          "AD - Aojula et al., 2016",
          "RD - Aojula et al., 2016",
          "MD - Aojula et al., 2016",
          "FA - Aojula et al., 2016",
          "FA - Chandran et al., 2012",
          "RD - Chandran et al., 2012",
          "FA - Chang et al., 2017",
          "MD - Chang et al., 2017",
          "RD - Chang et al., 2017",
          "AD - Chang et al., 2017",
          "RD - Janve et al., 2013",
          "AD - Janve et al., 2013",
          "MD - Janve et al., 2013",
          "FA - Janve et al., 2013",
          "AWF - Jelescu et al., 2016",
          "RK - Jelescu et al., 2016",
          "RDe - Jelescu et al., 2016",
          "RD - Jelescu et al., 2016",
          "FA - Jito et al., 2008",
          "AWF - Kelm et al., 2016",
          "RK - Kelm et al., 2016",
          "RD - Kelm et al., 2016",
          "MK - Kelm et al., 2016",
          "MD - Kelm et al., 2016",
          "RD - Lehto et al., 2017a",
          "AD - Lehto et al., 2017a",
          "FA - Lehto et al., 2017a",
          "MD - Lehto et al., 2017a",
          "FA - Mollink et al., 2019",
          "FA - Pol et al., 2019",
          "MD - Pol et al., 2019",
          "FA - Schmierer et al., 2007b",
          "MD - Schmierer et al., 2007b",
          "RD - Schmierer et al., 2008",
          "AD - Schmierer et al., 2008",
          "MD - Schmierer et al., 2008",
          "FA - Schmierer et al., 2008",
          "RD - Soustelle et al., 2019",
          "MD - Thiessen et al., 2013",
          "AD - Thiessen et al., 2013",
          "FA - Thiessen et al., 2013",
          "RD - Thiessen et al., 2013",
          "AD - Tu et al., 2016",
          "MD - Tu et al., 2016",
          "RD - Tu et al., 2016",
          "FA - Tu et al., 2016",
          "FA - Wang et al., 2009",
          "RD - Wang et al., 2009",
          "MD - Wendel et al., 2018",
          "AD - Wendel et al., 2018",
          "FA - Wendel et al., 2018",
          "RD - Wendel et al., 2018",
          "FA - Yano et al., 2018",
          "RD - Yano et al., 2018",
          "MD - Yano et al., 2018",
          "FA - van Tilborg et al., 2017"
         ],
         "type": "scatter",
         "x": [
          7.0,
          7.0,
          7.0,
          7.0,
          7.0,
          7.0,
          7.0,
          7.0,
          7.0,
          11.7,
          11.7,
          11.7,
          11.7,
          9.4,
          9.4,
          9.4,
          9.4,
          7.0,
          7.0,
          7.0,
          7.0,
          7.0,
          15.2,
          15.2,
          15.2,
          15.2,
          15.2,
          7.0,
          7.0,
          7.0,
          7.0,
          11.7,
          9.4,
          9.4,
          1.5,
          1.5,
          1.5,
          1.5,
          1.5,
          1.5,
          7.0,
          7.0,
          7.0,
          7.0,
          7.0,
          7.0,
          7.0,
          7.0,
          7.0,
          7.0,
          7.0,
          9.4,
          9.4,
          9.4,
          9.4,
          7.0,
          7.0,
          7.0,
          9.4
         ],
         "xaxis": "x",
         "y": [
          0.1681,
          0.0121,
          0.1024,
          0.1296,
          0.2097,
          0.245,
          0.1197,
          0.5,
          0.34,
          0.1989,
          0.0129,
          0.038,
          0.1482,
          0.2401,
          0.0064,
          0.0784,
          0.0729,
          0.3025,
          0.0196,
          0.25,
          0.5041,
          0.7327,
          0.3364,
          0.2401,
          0.1369,
          0.2304,
          0.1225,
          0.0015,
          0.4199,
          0.2237,
          0.3492,
          0.2704,
          0.0576,
          0.3481,
          0.6241000000000001,
          0.4624000000000001,
          0.6561,
          0.64,
          0.6084,
          0.6889,
          0.49,
          0.6561,
          0.5625,
          0.7056,
          0.7569,
          1.0E-4,
          0.0289,
          0.2116,
          0.0169,
          0.4637,
          0.2787,
          0.0564,
          0.1987,
          0.5707,
          0.2973,
          0.7569,
          0.8281,
          0.5329,
          0.334
         ],
         "yaxis": "y"
        },
        {
         "marker": {
          "color": "rgb(17, 165, 121)"
         },
         "mode": "markers",
         "name": "Magnetization transfer",
         "text": [
          "MTR - Beckmann et al., 2018",
          "MTR - Duhamel et al., 2019",
          "ihMTR - Duhamel et al., 2019",
          "MTR - Fatemi et al., 2011",
          "MTR - Fjaer et al., 2013",
          "MTR - Fjaer et al., 2015",
          "MTR - Guglielmetti et al., 2020",
          "MTR-UTE - Guglielmetti et al., 2020",
          "MTR - Hakkarainen et al., 2016",
          "k_mf - Janve et al., 2013",
          "MPF - Janve et al., 2013",
          "R1f - Janve et al., 2013",
          "MTR - Jelescu et al., 2016",
          "MPF - Khodanovic et al., 2017",
          "MPF - Khodanovic et al., 2019",
          "MTR - Lehto et al., 2017a",
          "MTR - Lehto et al., 2017b",
          "MTR - Schmierer et al., 2004",
          "T2m - Schmierer et al., 2007a",
          "MPF - Schmierer et al., 2007a",
          "MTR - Schmierer et al., 2007a",
          "MPF - Schmierer et al., 2008",
          "MTR - Schmierer et al., 2008",
          "MPF - Soustelle et al., 2019",
          "MTR - Tardif et al., 2012",
          "T2f - Thiessen et al., 2013",
          "T2m - Thiessen et al., 2013",
          "k_fm - Thiessen et al., 2013",
          "R1f - Thiessen et al., 2013",
          "k_mf - Thiessen et al., 2013",
          "MPF - Thiessen et al., 2013",
          "MTR - Tu et al., 2016",
          "MPF - Turati et al., 2015",
          "MPF - Underhill et al., 2011",
          "MPF - West et al., 2018",
          "MVF-MT - West et al., 2018",
          "MTR - Zaaraoui et al., 2008"
         ],
         "type": "scatter",
         "x": [
          7.0,
          11.75,
          11.75,
          9.4,
          7.0,
          7.0,
          7.0,
          7.0,
          9.4,
          9.4,
          9.4,
          9.4,
          7.0,
          11.7,
          11.7,
          7.0,
          9.4,
          1.5,
          1.5,
          1.5,
          1.5,
          1.5,
          1.5,
          7.0,
          3.0,
          7.0,
          7.0,
          7.0,
          7.0,
          7.0,
          7.0,
          7.0,
          7.0,
          3.0,
          15.2,
          15.2,
          9.4
         ],
         "xaxis": "x",
         "y": [
          0.7668,
          0.78,
          0.96,
          0.695,
          0.338,
          0.01,
          0.46,
          0.76,
          0.34,
          0.0256,
          0.7225,
          0.0961,
          0.1024,
          0.779,
          0.82,
          0.5169,
          0.94,
          0.7055999999999999,
          1.0E-4,
          0.6400000000000001,
          0.7055999999999999,
          0.7396,
          0.4624,
          0.7569,
          0.36,
          0.36,
          0.1521,
          0.1089,
          0.4356,
          0.6724,
          0.8649,
          0.1444,
          0.2872,
          0.9801,
          0.7,
          0.7,
          0.6241000000000001
         ],
         "yaxis": "y"
        },
        {
         "marker": {
          "color": "rgb(57, 105, 172)"
         },
         "mode": "markers",
         "name": "T1 relaxometry",
         "text": [
          "T1 - Hakkarainen et al., 2016",
          "T1 - Hametner et al., 2018",
          "T1 - Reeves et al., 2016",
          "T1 - Schmierer et al., 2004",
          "T1 - Schmierer et al., 2007a",
          "T1 - Schmierer et al., 2008",
          "T1 - Tardif et al., 2012",
          "T1 - Thiessen et al., 2013"
         ],
         "type": "scatter",
         "x": [
          9.4,
          7.0,
          9.4,
          1.5,
          1.5,
          1.5,
          3.0,
          7.0
         ],
         "xaxis": "x",
         "y": [
          0.77,
          0.3398,
          0.27,
          0.48999999999999994,
          0.4760999999999999,
          0.7921,
          0.5929,
          0.4356
         ],
         "yaxis": "y"
        },
        {
         "marker": {
          "color": "rgb(242, 183, 1)"
         },
         "mode": "markers",
         "name": "T2 relaxometry",
         "text": [
          "T2 - Hakkarainen et al., 2016",
          "T2 - Jelescu et al., 2016",
          "MWF - Laule et al., 2006",
          "MWF - Laule et al., 2008",
          "T2 - Reeves et al., 2016",
          "T2 - Schmierer et al., 2008",
          "MWF - Soustelle et al., 2019",
          "T2 - Tardif et al., 2012",
          "T2 - Thiessen et al., 2013",
          "MVF-T2 - West et al., 2018",
          "MWF - West et al., 2018",
          "T2 - Wu et al., 2008"
         ],
         "type": "scatter",
         "x": [
          9.4,
          7.0,
          1.5,
          7.0,
          9.4,
          1.5,
          7.0,
          3.0,
          7.0,
          15.2,
          15.2,
          4.7
         ],
         "xaxis": "x",
         "y": [
          0.18,
          0.4096,
          0.67,
          0.78,
          0.235,
          0.8464,
          0.4624,
          0.4225,
          0.0676,
          0.68,
          0.66,
          0.5184
         ],
         "yaxis": "y"
        },
        {
         "marker": {
          "color": "rgb(231, 63, 116)"
         },
         "mode": "markers",
         "name": "Other",
         "text": [
          "MTV - Berman et al., 2018",
          "T2p - Hakkarainen et al., 2016",
          "RAFF - Hakkarainen et al., 2016",
          "T1p - Hakkarainen et al., 2016",
          "QSM - Hametner et al., 2018",
          "R2* - Hametner et al., 2018",
          "RAFF - Lehto et al., 2017a",
          "T1sat - Lehto et al., 2017a",
          "QSM - Pol et al., 2019",
          "rSPF - Soustelle et al., 2019",
          "PD - Tardif et al., 2012"
         ],
         "type": "scatter",
         "x": [
          15.2,
          9.4,
          9.4,
          9.4,
          7.0,
          7.0,
          7.0,
          7.0,
          9.4,
          7.0,
          3.0
         ],
         "xaxis": "x",
         "y": [
          0.74,
          0.34,
          0.84,
          0.63,
          0.1239,
          7.0E-4,
          0.552,
          0.49,
          0.0361,
          0.7396,
          0.3481
         ],
         "yaxis": "y"
        },
        {
         "boxpoints": "all",
         "name": "Ex vivo - Fixed",
         "text": [
          "RD - Abe et al., 2019",
          "AD - Abe et al., 2019",
          "FA - Abe et al., 2019",
          "MTV - Berman et al., 2018",
          "FA - Chang et al., 2017",
          "MD - Chang et al., 2017",
          "RD - Chang et al., 2017",
          "AD - Chang et al., 2017",
          "T1 - Hakkarainen et al., 2016",
          "T2p - Hakkarainen et al., 2016",
          "RAFF - Hakkarainen et al., 2016",
          "T1p - Hakkarainen et al., 2016",
          "MTR - Hakkarainen et al., 2016",
          "T2 - Hakkarainen et al., 2016",
          "k_mf - Janve et al., 2013",
          "MPF - Janve et al., 2013",
          "RD - Janve et al., 2013",
          "R1f - Janve et al., 2013",
          "AD - Janve et al., 2013",
          "MD - Janve et al., 2013",
          "FA - Janve et al., 2013",
          "AWF - Kelm et al., 2016",
          "RK - Kelm et al., 2016",
          "RD - Kelm et al., 2016",
          "MK - Kelm et al., 2016",
          "MD - Kelm et al., 2016",
          "MWF - Laule et al., 2006",
          "MWF - Laule et al., 2008",
          "FA - Mollink et al., 2019",
          "T1 - Reeves et al., 2016",
          "T2 - Reeves et al., 2016",
          "RD - Schmierer et al., 2008",
          "AD - Schmierer et al., 2008",
          "MD - Schmierer et al., 2008",
          "T1 - Schmierer et al., 2008",
          "T2 - Schmierer et al., 2008",
          "FA - Schmierer et al., 2008",
          "MPF - Schmierer et al., 2008",
          "MTR - Schmierer et al., 2008",
          "PD - Tardif et al., 2012",
          "MTR - Tardif et al., 2012",
          "T2 - Tardif et al., 2012",
          "T1 - Tardif et al., 2012",
          "MD - Wendel et al., 2018",
          "AD - Wendel et al., 2018",
          "FA - Wendel et al., 2018",
          "RD - Wendel et al., 2018",
          "MPF - West et al., 2018",
          "MVF-MT - West et al., 2018",
          "MVF-T2 - West et al., 2018",
          "MWF - West et al., 2018",
          "FA - Yano et al., 2018",
          "RD - Yano et al., 2018",
          "MD - Yano et al., 2018",
          "FA - van Tilborg et al., 2017"
         ],
         "type": "box",
         "x": [
          "Ex vivo - Fixed",
          "Ex vivo - Fixed",
          "Ex vivo - Fixed",
          "Ex vivo - Fixed",
          "Ex vivo - Fixed",
          "Ex vivo - Fixed",
          "Ex vivo - Fixed",
          "Ex vivo - Fixed",
          "Ex vivo - Fixed",
          "Ex vivo - Fixed",
          "Ex vivo - Fixed",
          "Ex vivo - Fixed",
          "Ex vivo - Fixed",
          "Ex vivo - Fixed",
          "Ex vivo - Fixed",
          "Ex vivo - Fixed",
          "Ex vivo - Fixed",
          "Ex vivo - Fixed",
          "Ex vivo - Fixed",
          "Ex vivo - Fixed",
          "Ex vivo - Fixed",
          "Ex vivo - Fixed",
          "Ex vivo - Fixed",
          "Ex vivo - Fixed",
          "Ex vivo - Fixed",
          "Ex vivo - Fixed",
          "Ex vivo - Fixed",
          "Ex vivo - Fixed",
          "Ex vivo - Fixed",
          "Ex vivo - Fixed",
          "Ex vivo - Fixed",
          "Ex vivo - Fixed",
          "Ex vivo - Fixed",
          "Ex vivo - Fixed",
          "Ex vivo - Fixed",
          "Ex vivo - Fixed",
          "Ex vivo - Fixed",
          "Ex vivo - Fixed",
          "Ex vivo - Fixed",
          "Ex vivo - Fixed",
          "Ex vivo - Fixed",
          "Ex vivo - Fixed",
          "Ex vivo - Fixed",
          "Ex vivo - Fixed",
          "Ex vivo - Fixed",
          "Ex vivo - Fixed",
          "Ex vivo - Fixed",
          "Ex vivo - Fixed",
          "Ex vivo - Fixed",
          "Ex vivo - Fixed",
          "Ex vivo - Fixed",
          "Ex vivo - Fixed",
          "Ex vivo - Fixed",
          "Ex vivo - Fixed",
          "Ex vivo - Fixed"
         ],
         "xaxis": "x2",
         "y": [
          0.1681,
          0.0121,
          0.1024,
          0.74,
          0.1989,
          0.0129,
          0.038,
          0.1482,
          0.77,
          0.34,
          0.84,
          0.63,
          0.34,
          0.18,
          0.0256,
          0.7225,
          0.2401,
          0.0961,
          0.0064,
          0.0784,
          0.0729,
          0.3364,
          0.2401,
          0.1369,
          0.2304,
          0.1225,
          0.67,
          0.78,
          0.2704,
          0.27,
          0.235,
          0.6561,
          0.64,
          0.6084,
          0.7921,
          0.8464,
          0.6889,
          0.7396,
          0.4624,
          0.3481,
          0.36,
          0.4225,
          0.5929,
          0.0564,
          0.1987,
          0.5707,
          0.2973,
          0.7,
          0.7,
          0.68,
          0.66,
          0.7569,
          0.8281,
          0.5329,
          0.334
         ],
         "yaxis": "y2"
        },
        {
         "boxpoints": "all",
         "name": "In vivo",
         "text": [
          "AD - Aojula et al., 2016",
          "RD - Aojula et al., 2016",
          "MD - Aojula et al., 2016",
          "FA - Aojula et al., 2016",
          "MTR - Beckmann et al., 2018",
          "FA - Chandran et al., 2012",
          "RD - Chandran et al., 2012",
          "MTR - Duhamel et al., 2019",
          "ihMTR - Duhamel et al., 2019",
          "MTR - Fatemi et al., 2011",
          "MTR - Fjaer et al., 2013",
          "MTR - Fjaer et al., 2015",
          "MTR - Guglielmetti et al., 2020",
          "MTR-UTE - Guglielmetti et al., 2020",
          "T2 - Jelescu et al., 2016",
          "MTR - Jelescu et al., 2016",
          "AWF - Jelescu et al., 2016",
          "RK - Jelescu et al., 2016",
          "RDe - Jelescu et al., 2016",
          "RD - Jelescu et al., 2016",
          "FA - Jito et al., 2008",
          "MPF - Khodanovic et al., 2017",
          "MPF - Khodanovic et al., 2019",
          "RD - Lehto et al., 2017a",
          "RAFF - Lehto et al., 2017a",
          "MTR - Lehto et al., 2017a",
          "AD - Lehto et al., 2017a",
          "T1sat - Lehto et al., 2017a",
          "FA - Lehto et al., 2017a",
          "MD - Lehto et al., 2017a",
          "QSM - Pol et al., 2019",
          "FA - Pol et al., 2019",
          "MD - Pol et al., 2019",
          "AD - Tu et al., 2016",
          "MD - Tu et al., 2016",
          "RD - Tu et al., 2016",
          "FA - Tu et al., 2016",
          "MTR - Tu et al., 2016",
          "MPF - Turati et al., 2015",
          "MPF - Underhill et al., 2011",
          "FA - Wang et al., 2009",
          "RD - Wang et al., 2009",
          "T2 - Wu et al., 2008",
          "MTR - Zaaraoui et al., 2008"
         ],
         "type": "box",
         "x": [
          "In vivo",
          "In vivo",
          "In vivo",
          "In vivo",
          "In vivo",
          "In vivo",
          "In vivo",
          "In vivo",
          "In vivo",
          "In vivo",
          "In vivo",
          "In vivo",
          "In vivo",
          "In vivo",
          "In vivo",
          "In vivo",
          "In vivo",
          "In vivo",
          "In vivo",
          "In vivo",
          "In vivo",
          "In vivo",
          "In vivo",
          "In vivo",
          "In vivo",
          "In vivo",
          "In vivo",
          "In vivo",
          "In vivo",
          "In vivo",
          "In vivo",
          "In vivo",
          "In vivo",
          "In vivo",
          "In vivo",
          "In vivo",
          "In vivo",
          "In vivo",
          "In vivo",
          "In vivo",
          "In vivo",
          "In vivo",
          "In vivo",
          "In vivo"
         ],
         "xaxis": "x2",
         "y": [
          0.1296,
          0.2097,
          0.245,
          0.1197,
          0.7668,
          0.5,
          0.34,
          0.78,
          0.96,
          0.695,
          0.338,
          0.01,
          0.46,
          0.76,
          0.4096,
          0.1024,
          0.3025,
          0.0196,
          0.25,
          0.5041,
          0.7327,
          0.779,
          0.82,
          0.0015,
          0.552,
          0.5169,
          0.4199,
          0.49,
          0.2237,
          0.3492,
          0.0361,
          0.0576,
          0.3481,
          1.0E-4,
          0.0289,
          0.2116,
          0.0169,
          0.1444,
          0.2872,
          0.9801,
          0.4637,
          0.2787,
          0.5184,
          0.6241000000000001
         ],
         "yaxis": "y2"
        },
        {
         "boxpoints": "all",
         "name": "In situ",
         "text": [
          "QSM - Hametner et al., 2018",
          "T1 - Hametner et al., 2018",
          "R2* - Hametner et al., 2018",
          "RD - Soustelle et al., 2019",
          "rSPF - Soustelle et al., 2019",
          "MPF - Soustelle et al., 2019",
          "MWF - Soustelle et al., 2019"
         ],
         "type": "box",
         "x": [
          "In situ",
          "In situ",
          "In situ",
          "In situ",
          "In situ",
          "In situ",
          "In situ"
         ],
         "xaxis": "x2",
         "y": [
          0.1239,
          0.3398,
          7.0E-4,
          0.49,
          0.7396,
          0.7569,
          0.4624
         ],
         "yaxis": "y2"
        },
        {
         "boxpoints": "all",
         "name": "Ex vivo - Unfixed",
         "text": [
          "MTR - Lehto et al., 2017b",
          "MTR - Schmierer et al., 2004",
          "T1 - Schmierer et al., 2004",
          "T2m - Schmierer et al., 2007a",
          "T1 - Schmierer et al., 2007a",
          "MPF - Schmierer et al., 2007a",
          "MTR - Schmierer et al., 2007a",
          "FA - Schmierer et al., 2007b",
          "MD - Schmierer et al., 2007b",
          "MD - Thiessen et al., 2013",
          "T1 - Thiessen et al., 2013",
          "T2f - Thiessen et al., 2013",
          "AD - Thiessen et al., 2013",
          "T2m - Thiessen et al., 2013",
          "FA - Thiessen et al., 2013",
          "T2 - Thiessen et al., 2013",
          "k_fm - Thiessen et al., 2013",
          "R1f - Thiessen et al., 2013",
          "k_mf - Thiessen et al., 2013",
          "RD - Thiessen et al., 2013",
          "MPF - Thiessen et al., 2013"
         ],
         "type": "box",
         "x": [
          "Ex vivo - Unfixed",
          "Ex vivo - Unfixed",
          "Ex vivo - Unfixed",
          "Ex vivo - Unfixed",
          "Ex vivo - Unfixed",
          "Ex vivo - Unfixed",
          "Ex vivo - Unfixed",
          "Ex vivo - Unfixed",
          "Ex vivo - Unfixed",
          "Ex vivo - Unfixed",
          "Ex vivo - Unfixed",
          "Ex vivo - Unfixed",
          "Ex vivo - Unfixed",
          "Ex vivo - Unfixed",
          "Ex vivo - Unfixed",
          "Ex vivo - Unfixed",
          "Ex vivo - Unfixed",
          "Ex vivo - Unfixed",
          "Ex vivo - Unfixed",
          "Ex vivo - Unfixed",
          "Ex vivo - Unfixed"
         ],
         "xaxis": "x2",
         "y": [
          0.94,
          0.7055999999999999,
          0.48999999999999994,
          1.0E-4,
          0.4760999999999999,
          0.6400000000000001,
          0.7055999999999999,
          0.6241000000000001,
          0.4624000000000001,
          0.6561,
          0.4356,
          0.36,
          0.5625,
          0.1521,
          0.7056,
          0.0676,
          0.1089,
          0.4356,
          0.6724,
          0.7569,
          0.8649
         ],
         "yaxis": "y2"
        },
        {
         "boxpoints": "all",
         "name": "N",
         "text": [
          "RD - Abe et al., 2019",
          "AD - Abe et al., 2019",
          "FA - Abe et al., 2019",
          "AD - Aojula et al., 2016",
          "RD - Aojula et al., 2016",
          "MD - Aojula et al., 2016",
          "FA - Aojula et al., 2016",
          "MTR - Beckmann et al., 2018",
          "MTV - Berman et al., 2018",
          "FA - Chandran et al., 2012",
          "RD - Chandran et al., 2012",
          "MTR - Duhamel et al., 2019",
          "ihMTR - Duhamel et al., 2019",
          "MTR - Fatemi et al., 2011",
          "MTR - Fjaer et al., 2013",
          "MTR - Fjaer et al., 2015",
          "MTR - Guglielmetti et al., 2020",
          "MTR-UTE - Guglielmetti et al., 2020",
          "T1 - Hakkarainen et al., 2016",
          "T2p - Hakkarainen et al., 2016",
          "RAFF - Hakkarainen et al., 2016",
          "T1p - Hakkarainen et al., 2016",
          "MTR - Hakkarainen et al., 2016",
          "T2 - Hakkarainen et al., 2016",
          "T2 - Jelescu et al., 2016",
          "MTR - Jelescu et al., 2016",
          "AWF - Jelescu et al., 2016",
          "RK - Jelescu et al., 2016",
          "RDe - Jelescu et al., 2016",
          "RD - Jelescu et al., 2016",
          "FA - Jito et al., 2008",
          "AWF - Kelm et al., 2016",
          "RK - Kelm et al., 2016",
          "RD - Kelm et al., 2016",
          "MK - Kelm et al., 2016",
          "MD - Kelm et al., 2016",
          "MPF - Khodanovic et al., 2017",
          "MPF - Khodanovic et al., 2019",
          "RD - Lehto et al., 2017a",
          "RAFF - Lehto et al., 2017a",
          "MTR - Lehto et al., 2017a",
          "AD - Lehto et al., 2017a",
          "T1sat - Lehto et al., 2017a",
          "FA - Lehto et al., 2017a",
          "MD - Lehto et al., 2017a",
          "MTR - Lehto et al., 2017b",
          "FA - Mollink et al., 2019",
          "QSM - Pol et al., 2019",
          "FA - Pol et al., 2019",
          "MD - Pol et al., 2019",
          "T1 - Reeves et al., 2016",
          "T2 - Reeves et al., 2016",
          "RD - Soustelle et al., 2019",
          "rSPF - Soustelle et al., 2019",
          "MPF - Soustelle et al., 2019",
          "MWF - Soustelle et al., 2019",
          "MD - Thiessen et al., 2013",
          "T1 - Thiessen et al., 2013",
          "T2f - Thiessen et al., 2013",
          "AD - Thiessen et al., 2013",
          "T2m - Thiessen et al., 2013",
          "FA - Thiessen et al., 2013",
          "T2 - Thiessen et al., 2013",
          "k_fm - Thiessen et al., 2013",
          "R1f - Thiessen et al., 2013",
          "k_mf - Thiessen et al., 2013",
          "RD - Thiessen et al., 2013",
          "MPF - Thiessen et al., 2013",
          "AD - Tu et al., 2016",
          "MD - Tu et al., 2016",
          "RD - Tu et al., 2016",
          "FA - Tu et al., 2016",
          "MTR - Tu et al., 2016",
          "MPF - Turati et al., 2015",
          "MPF - Underhill et al., 2011",
          "FA - Wang et al., 2009",
          "RD - Wang et al., 2009",
          "MD - Wendel et al., 2018",
          "AD - Wendel et al., 2018",
          "FA - Wendel et al., 2018",
          "RD - Wendel et al., 2018",
          "MPF - West et al., 2018",
          "MVF-MT - West et al., 2018",
          "MVF-T2 - West et al., 2018",
          "MWF - West et al., 2018",
          "T2 - Wu et al., 2008",
          "FA - Yano et al., 2018",
          "RD - Yano et al., 2018",
          "MD - Yano et al., 2018",
          "MTR - Zaaraoui et al., 2008",
          "FA - van Tilborg et al., 2017"
         ],
         "type": "box",
         "x": [
          "N",
          "N",
          "N",
          "N",
          "N",
          "N",
          "N",
          "N",
          "N",
          "N",
          "N",
          "N",
          "N",
          "N",
          "N",
          "N",
          "N",
          "N",
          "N",
          "N",
          "N",
          "N",
          "N",
          "N",
          "N",
          "N",
          "N",
          "N",
          "N",
          "N",
          "N",
          "N",
          "N",
          "N",
          "N",
          "N",
          "N",
          "N",
          "N",
          "N",
          "N",
          "N",
          "N",
          "N",
          "N",
          "N",
          "N",
          "N",
          "N",
          "N",
          "N",
          "N",
          "N",
          "N",
          "N",
          "N",
          "N",
          "N",
          "N",
          "N",
          "N",
          "N",
          "N",
          "N",
          "N",
          "N",
          "N",
          "N",
          "N",
          "N",
          "N",
          "N",
          "N",
          "N",
          "N",
          "N",
          "N",
          "N",
          "N",
          "N",
          "N",
          "N",
          "N",
          "N",
          "N",
          "N",
          "N",
          "N",
          "N",
          "N",
          "N"
         ],
         "xaxis": "x3",
         "y": [
          0.1681,
          0.0121,
          0.1024,
          0.1296,
          0.2097,
          0.245,
          0.1197,
          0.7668,
          0.74,
          0.5,
          0.34,
          0.78,
          0.96,
          0.695,
          0.338,
          0.01,
          0.46,
          0.76,
          0.77,
          0.34,
          0.84,
          0.63,
          0.34,
          0.18,
          0.4096,
          0.1024,
          0.3025,
          0.0196,
          0.25,
          0.5041,
          0.7327,
          0.3364,
          0.2401,
          0.1369,
          0.2304,
          0.1225,
          0.779,
          0.82,
          0.0015,
          0.552,
          0.5169,
          0.4199,
          0.49,
          0.2237,
          0.3492,
          0.94,
          0.2704,
          0.0361,
          0.0576,
          0.3481,
          0.27,
          0.235,
          0.49,
          0.7396,
          0.7569,
          0.4624,
          0.6561,
          0.4356,
          0.36,
          0.5625,
          0.1521,
          0.7056,
          0.0676,
          0.1089,
          0.4356,
          0.6724,
          0.7569,
          0.8649,
          1.0E-4,
          0.0289,
          0.2116,
          0.0169,
          0.1444,
          0.2872,
          0.9801,
          0.4637,
          0.2787,
          0.0564,
          0.1987,
          0.5707,
          0.2973,
          0.7,
          0.7,
          0.68,
          0.66,
          0.5184,
          0.7569,
          0.8281,
          0.5329,
          0.6241000000000001,
          0.334
         ],
         "yaxis": "y3"
        },
        {
         "boxpoints": "all",
         "name": "Y",
         "text": [
          "FA - Chang et al., 2017",
          "MD - Chang et al., 2017",
          "RD - Chang et al., 2017",
          "AD - Chang et al., 2017",
          "QSM - Hametner et al., 2018",
          "T1 - Hametner et al., 2018",
          "R2* - Hametner et al., 2018",
          "k_mf - Janve et al., 2013",
          "MPF - Janve et al., 2013",
          "RD - Janve et al., 2013",
          "R1f - Janve et al., 2013",
          "AD - Janve et al., 2013",
          "MD - Janve et al., 2013",
          "FA - Janve et al., 2013",
          "MWF - Laule et al., 2006",
          "MWF - Laule et al., 2008",
          "MTR - Schmierer et al., 2004",
          "T1 - Schmierer et al., 2004",
          "T2m - Schmierer et al., 2007a",
          "T1 - Schmierer et al., 2007a",
          "MPF - Schmierer et al., 2007a",
          "MTR - Schmierer et al., 2007a",
          "FA - Schmierer et al., 2007b",
          "MD - Schmierer et al., 2007b",
          "RD - Schmierer et al., 2008",
          "AD - Schmierer et al., 2008",
          "MD - Schmierer et al., 2008",
          "T1 - Schmierer et al., 2008",
          "T2 - Schmierer et al., 2008",
          "FA - Schmierer et al., 2008",
          "MPF - Schmierer et al., 2008",
          "MTR - Schmierer et al., 2008",
          "PD - Tardif et al., 2012",
          "MTR - Tardif et al., 2012",
          "T2 - Tardif et al., 2012",
          "T1 - Tardif et al., 2012"
         ],
         "type": "box",
         "x": [
          "Y",
          "Y",
          "Y",
          "Y",
          "Y",
          "Y",
          "Y",
          "Y",
          "Y",
          "Y",
          "Y",
          "Y",
          "Y",
          "Y",
          "Y",
          "Y",
          "Y",
          "Y",
          "Y",
          "Y",
          "Y",
          "Y",
          "Y",
          "Y",
          "Y",
          "Y",
          "Y",
          "Y",
          "Y",
          "Y",
          "Y",
          "Y",
          "Y",
          "Y",
          "Y",
          "Y"
         ],
         "xaxis": "x3",
         "y": [
          0.1989,
          0.0129,
          0.038,
          0.1482,
          0.1239,
          0.3398,
          7.0E-4,
          0.0256,
          0.7225,
          0.2401,
          0.0961,
          0.0064,
          0.0784,
          0.0729,
          0.67,
          0.78,
          0.7055999999999999,
          0.48999999999999994,
          1.0E-4,
          0.4760999999999999,
          0.6400000000000001,
          0.7055999999999999,
          0.6241000000000001,
          0.4624000000000001,
          0.6561,
          0.64,
          0.6084,
          0.7921,
          0.8464,
          0.6889,
          0.7396,
          0.4624,
          0.3481,
          0.36,
          0.4225,
          0.5929
         ],
         "yaxis": "y3"
        },
        {
         "boxpoints": "all",
         "name": "Animal - Mouse",
         "text": [
          "RD - Abe et al., 2019",
          "AD - Abe et al., 2019",
          "FA - Abe et al., 2019",
          "MTR - Beckmann et al., 2018",
          "MTV - Berman et al., 2018",
          "FA - Chandran et al., 2012",
          "RD - Chandran et al., 2012",
          "FA - Chang et al., 2017",
          "MD - Chang et al., 2017",
          "RD - Chang et al., 2017",
          "AD - Chang et al., 2017",
          "MTR - Duhamel et al., 2019",
          "ihMTR - Duhamel et al., 2019",
          "MTR - Fatemi et al., 2011",
          "MTR - Fjaer et al., 2013",
          "MTR - Fjaer et al., 2015",
          "MTR - Guglielmetti et al., 2020",
          "MTR-UTE - Guglielmetti et al., 2020",
          "T2 - Jelescu et al., 2016",
          "MTR - Jelescu et al., 2016",
          "AWF - Jelescu et al., 2016",
          "RK - Jelescu et al., 2016",
          "RDe - Jelescu et al., 2016",
          "RD - Jelescu et al., 2016",
          "FA - Jito et al., 2008",
          "AWF - Kelm et al., 2016",
          "RK - Kelm et al., 2016",
          "RD - Kelm et al., 2016",
          "MK - Kelm et al., 2016",
          "MD - Kelm et al., 2016",
          "MPF - Khodanovic et al., 2017",
          "MPF - Khodanovic et al., 2019",
          "QSM - Pol et al., 2019",
          "FA - Pol et al., 2019",
          "MD - Pol et al., 2019",
          "RD - Soustelle et al., 2019",
          "rSPF - Soustelle et al., 2019",
          "MPF - Soustelle et al., 2019",
          "MWF - Soustelle et al., 2019",
          "MD - Thiessen et al., 2013",
          "T1 - Thiessen et al., 2013",
          "T2f - Thiessen et al., 2013",
          "AD - Thiessen et al., 2013",
          "T2m - Thiessen et al., 2013",
          "FA - Thiessen et al., 2013",
          "T2 - Thiessen et al., 2013",
          "k_fm - Thiessen et al., 2013",
          "R1f - Thiessen et al., 2013",
          "k_mf - Thiessen et al., 2013",
          "RD - Thiessen et al., 2013",
          "MPF - Thiessen et al., 2013",
          "MPF - Turati et al., 2015",
          "MPF - Underhill et al., 2011",
          "MD - Wendel et al., 2018",
          "AD - Wendel et al., 2018",
          "FA - Wendel et al., 2018",
          "RD - Wendel et al., 2018",
          "MPF - West et al., 2018",
          "MVF-MT - West et al., 2018",
          "MVF-T2 - West et al., 2018",
          "MWF - West et al., 2018",
          "T2 - Wu et al., 2008",
          "FA - Yano et al., 2018",
          "RD - Yano et al., 2018",
          "MD - Yano et al., 2018",
          "MTR - Zaaraoui et al., 2008"
         ],
         "type": "box",
         "x": [
          "Animal - Mouse",
          "Animal - Mouse",
          "Animal - Mouse",
          "Animal - Mouse",
          "Animal - Mouse",
          "Animal - Mouse",
          "Animal - Mouse",
          "Animal - Mouse",
          "Animal - Mouse",
          "Animal - Mouse",
          "Animal - Mouse",
          "Animal - Mouse",
          "Animal - Mouse",
          "Animal - Mouse",
          "Animal - Mouse",
          "Animal - Mouse",
          "Animal - Mouse",
          "Animal - Mouse",
          "Animal - Mouse",
          "Animal - Mouse",
          "Animal - Mouse",
          "Animal - Mouse",
          "Animal - Mouse",
          "Animal - Mouse",
          "Animal - Mouse",
          "Animal - Mouse",
          "Animal - Mouse",
          "Animal - Mouse",
          "Animal - Mouse",
          "Animal - Mouse",
          "Animal - Mouse",
          "Animal - Mouse",
          "Animal - Mouse",
          "Animal - Mouse",
          "Animal - Mouse",
          "Animal - Mouse",
          "Animal - Mouse",
          "Animal - Mouse",
          "Animal - Mouse",
          "Animal - Mouse",
          "Animal - Mouse",
          "Animal - Mouse",
          "Animal - Mouse",
          "Animal - Mouse",
          "Animal - Mouse",
          "Animal - Mouse",
          "Animal - Mouse",
          "Animal - Mouse",
          "Animal - Mouse",
          "Animal - Mouse",
          "Animal - Mouse",
          "Animal - Mouse",
          "Animal - Mouse",
          "Animal - Mouse",
          "Animal - Mouse",
          "Animal - Mouse",
          "Animal - Mouse",
          "Animal - Mouse",
          "Animal - Mouse",
          "Animal - Mouse",
          "Animal - Mouse",
          "Animal - Mouse",
          "Animal - Mouse",
          "Animal - Mouse",
          "Animal - Mouse",
          "Animal - Mouse"
         ],
         "xaxis": "x4",
         "y": [
          0.1681,
          0.0121,
          0.1024,
          0.7668,
          0.74,
          0.5,
          0.34,
          0.1989,
          0.0129,
          0.038,
          0.1482,
          0.78,
          0.96,
          0.695,
          0.338,
          0.01,
          0.46,
          0.76,
          0.4096,
          0.1024,
          0.3025,
          0.0196,
          0.25,
          0.5041,
          0.7327,
          0.3364,
          0.2401,
          0.1369,
          0.2304,
          0.1225,
          0.779,
          0.82,
          0.0361,
          0.0576,
          0.3481,
          0.49,
          0.7396,
          0.7569,
          0.4624,
          0.6561,
          0.4356,
          0.36,
          0.5625,
          0.1521,
          0.7056,
          0.0676,
          0.1089,
          0.4356,
          0.6724,
          0.7569,
          0.8649,
          0.2872,
          0.9801,
          0.0564,
          0.1987,
          0.5707,
          0.2973,
          0.7,
          0.7,
          0.68,
          0.66,
          0.5184,
          0.7569,
          0.8281,
          0.5329,
          0.6241000000000001
         ],
         "yaxis": "y4"
        },
        {
         "boxpoints": "all",
         "name": "Animal - Rat",
         "text": [
          "AD - Aojula et al., 2016",
          "RD - Aojula et al., 2016",
          "MD - Aojula et al., 2016",
          "FA - Aojula et al., 2016",
          "T1 - Hakkarainen et al., 2016",
          "T2p - Hakkarainen et al., 2016",
          "RAFF - Hakkarainen et al., 2016",
          "T1p - Hakkarainen et al., 2016",
          "MTR - Hakkarainen et al., 2016",
          "T2 - Hakkarainen et al., 2016",
          "k_mf - Janve et al., 2013",
          "MPF - Janve et al., 2013",
          "RD - Janve et al., 2013",
          "R1f - Janve et al., 2013",
          "AD - Janve et al., 2013",
          "MD - Janve et al., 2013",
          "FA - Janve et al., 2013",
          "RD - Lehto et al., 2017a",
          "RAFF - Lehto et al., 2017a",
          "MTR - Lehto et al., 2017a",
          "AD - Lehto et al., 2017a",
          "T1sat - Lehto et al., 2017a",
          "FA - Lehto et al., 2017a",
          "MD - Lehto et al., 2017a",
          "MTR - Lehto et al., 2017b",
          "AD - Tu et al., 2016",
          "MD - Tu et al., 2016",
          "RD - Tu et al., 2016",
          "FA - Tu et al., 2016",
          "MTR - Tu et al., 2016",
          "FA - Wang et al., 2009",
          "RD - Wang et al., 2009",
          "FA - van Tilborg et al., 2017"
         ],
         "type": "box",
         "x": [
          "Animal - Rat",
          "Animal - Rat",
          "Animal - Rat",
          "Animal - Rat",
          "Animal - Rat",
          "Animal - Rat",
          "Animal - Rat",
          "Animal - Rat",
          "Animal - Rat",
          "Animal - Rat",
          "Animal - Rat",
          "Animal - Rat",
          "Animal - Rat",
          "Animal - Rat",
          "Animal - Rat",
          "Animal - Rat",
          "Animal - Rat",
          "Animal - Rat",
          "Animal - Rat",
          "Animal - Rat",
          "Animal - Rat",
          "Animal - Rat",
          "Animal - Rat",
          "Animal - Rat",
          "Animal - Rat",
          "Animal - Rat",
          "Animal - Rat",
          "Animal - Rat",
          "Animal - Rat",
          "Animal - Rat",
          "Animal - Rat",
          "Animal - Rat",
          "Animal - Rat"
         ],
         "xaxis": "x4",
         "y": [
          0.1296,
          0.2097,
          0.245,
          0.1197,
          0.77,
          0.34,
          0.84,
          0.63,
          0.34,
          0.18,
          0.0256,
          0.7225,
          0.2401,
          0.0961,
          0.0064,
          0.0784,
          0.0729,
          0.0015,
          0.552,
          0.5169,
          0.4199,
          0.49,
          0.2237,
          0.3492,
          0.94,
          1.0E-4,
          0.0289,
          0.2116,
          0.0169,
          0.1444,
          0.4637,
          0.2787,
          0.334
         ],
         "yaxis": "y4"
        },
        {
         "boxpoints": "all",
         "name": "Human",
         "text": [
          "QSM - Hametner et al., 2018",
          "T1 - Hametner et al., 2018",
          "R2* - Hametner et al., 2018",
          "MWF - Laule et al., 2006",
          "MWF - Laule et al., 2008",
          "FA - Mollink et al., 2019",
          "T1 - Reeves et al., 2016",
          "T2 - Reeves et al., 2016",
          "MTR - Schmierer et al., 2004",
          "T1 - Schmierer et al., 2004",
          "T2m - Schmierer et al., 2007a",
          "T1 - Schmierer et al., 2007a",
          "MPF - Schmierer et al., 2007a",
          "MTR - Schmierer et al., 2007a",
          "FA - Schmierer et al., 2007b",
          "MD - Schmierer et al., 2007b",
          "RD - Schmierer et al., 2008",
          "AD - Schmierer et al., 2008",
          "MD - Schmierer et al., 2008",
          "T1 - Schmierer et al., 2008",
          "T2 - Schmierer et al., 2008",
          "FA - Schmierer et al., 2008",
          "MPF - Schmierer et al., 2008",
          "MTR - Schmierer et al., 2008",
          "PD - Tardif et al., 2012",
          "MTR - Tardif et al., 2012",
          "T2 - Tardif et al., 2012",
          "T1 - Tardif et al., 2012"
         ],
         "type": "box",
         "x": [
          "Human",
          "Human",
          "Human",
          "Human",
          "Human",
          "Human",
          "Human",
          "Human",
          "Human",
          "Human",
          "Human",
          "Human",
          "Human",
          "Human",
          "Human",
          "Human",
          "Human",
          "Human",
          "Human",
          "Human",
          "Human",
          "Human",
          "Human",
          "Human",
          "Human",
          "Human",
          "Human",
          "Human"
         ],
         "xaxis": "x4",
         "y": [
          0.1239,
          0.3398,
          7.0E-4,
          0.67,
          0.78,
          0.2704,
          0.27,
          0.235,
          0.7055999999999999,
          0.48999999999999994,
          1.0E-4,
          0.4760999999999999,
          0.6400000000000001,
          0.7055999999999999,
          0.6241000000000001,
          0.4624000000000001,
          0.6561,
          0.64,
          0.6084,
          0.7921,
          0.8464,
          0.6889,
          0.7396,
          0.4624,
          0.3481,
          0.36,
          0.4225,
          0.5929
         ],
         "yaxis": "y4"
        }
       ],
       "layout": {
        "annotations": [
         {
          "font": {
           "size": 16
          },
          "showarrow": false,
          "text": "R<sup>2</sup> values and magnetic fields",
          "x": 0.225,
          "xanchor": "center",
          "xref": "paper",
          "y": 1.0,
          "yanchor": "bottom",
          "yref": "paper"
         },
         {
          "font": {
           "size": 16
          },
          "showarrow": false,
          "text": "R<sup>2</sup> values and tissue conditions",
          "x": 0.775,
          "xanchor": "center",
          "xref": "paper",
          "y": 1.0,
          "yanchor": "bottom",
          "yref": "paper"
         },
         {
          "font": {
           "size": 16
          },
          "showarrow": false,
          "text": "R<sup>2</sup> values and co-registration",
          "x": 0.225,
          "xanchor": "center",
          "xref": "paper",
          "y": 0.41000000000000003,
          "yanchor": "bottom",
          "yref": "paper"
         },
         {
          "font": {
           "size": 16
          },
          "showarrow": false,
          "text": "R<sup>2</sup> values and human/animal tissue",
          "x": 0.775,
          "xanchor": "center",
          "xref": "paper",
          "y": 0.41000000000000003,
          "yanchor": "bottom",
          "yref": "paper"
         },
         {
          "font": {
           "size": 16
          },
          "showarrow": false,
          "text": "R<sup>2</sup>",
          "textangle": -90,
          "x": 0,
          "xanchor": "right",
          "xref": "paper",
          "xshift": -40,
          "y": 0.5,
          "yanchor": "middle",
          "yref": "paper"
         },
         {
          "font": {
           "color": "gray",
           "size": 8
          },
          "showarrow": false,
          "text": "<a href=\"https://neurolibre.com\" target=\"_blank\" style=\"color:gray!important\">NeuroLibre</a>",
          "x": 1,
          "xref": "paper",
          "y": -0.2,
          "yref": "paper"
         }
        ],
        "height": 600,
        "images": [
         {
          "opacity": 0.9,
          "sizex": 0.04,
          "sizey": 0.04,
          "source": "https://raw.githubusercontent.com/notebook-factory/brand/main/nlibre_custom2.svg",
          "x": 0.88,
          "xref": "paper",
          "y": -0.15200000000000002,
          "yref": "paper"
         }
        ],
        "margin": {
         "l": 100
        },
        "showlegend": false,
        "template": {
         "data": {
          "bar": [
           {
            "error_x": {
             "color": "#2a3f5f"
            },
            "error_y": {
             "color": "#2a3f5f"
            },
            "marker": {
             "line": {
              "color": "#E5ECF6",
              "width": 0.5
             }
            },
            "type": "bar"
           }
          ],
          "barpolar": [
           {
            "marker": {
             "line": {
              "color": "#E5ECF6",
              "width": 0.5
             }
            },
            "type": "barpolar"
           }
          ],
          "carpet": [
           {
            "aaxis": {
             "endlinecolor": "#2a3f5f",
             "gridcolor": "white",
             "linecolor": "white",
             "minorgridcolor": "white",
             "startlinecolor": "#2a3f5f"
            },
            "baxis": {
             "endlinecolor": "#2a3f5f",
             "gridcolor": "white",
             "linecolor": "white",
             "minorgridcolor": "white",
             "startlinecolor": "#2a3f5f"
            },
            "type": "carpet"
           }
          ],
          "choropleth": [
           {
            "colorbar": {
             "outlinewidth": 0,
             "ticks": ""
            },
            "type": "choropleth"
           }
          ],
          "contour": [
           {
            "colorbar": {
             "outlinewidth": 0,
             "ticks": ""
            },
            "colorscale": [
             [
              0.0,
              "#0d0887"
             ],
             [
              0.1111111111111111,
              "#46039f"
             ],
             [
              0.2222222222222222,
              "#7201a8"
             ],
             [
              0.3333333333333333,
              "#9c179e"
             ],
             [
              0.4444444444444444,
              "#bd3786"
             ],
             [
              0.5555555555555556,
              "#d8576b"
             ],
             [
              0.6666666666666666,
              "#ed7953"
             ],
             [
              0.7777777777777778,
              "#fb9f3a"
             ],
             [
              0.8888888888888888,
              "#fdca26"
             ],
             [
              1.0,
              "#f0f921"
             ]
            ],
            "type": "contour"
           }
          ],
          "contourcarpet": [
           {
            "colorbar": {
             "outlinewidth": 0,
             "ticks": ""
            },
            "type": "contourcarpet"
           }
          ],
          "heatmap": [
           {
            "colorbar": {
             "outlinewidth": 0,
             "ticks": ""
            },
            "colorscale": [
             [
              0.0,
              "#0d0887"
             ],
             [
              0.1111111111111111,
              "#46039f"
             ],
             [
              0.2222222222222222,
              "#7201a8"
             ],
             [
              0.3333333333333333,
              "#9c179e"
             ],
             [
              0.4444444444444444,
              "#bd3786"
             ],
             [
              0.5555555555555556,
              "#d8576b"
             ],
             [
              0.6666666666666666,
              "#ed7953"
             ],
             [
              0.7777777777777778,
              "#fb9f3a"
             ],
             [
              0.8888888888888888,
              "#fdca26"
             ],
             [
              1.0,
              "#f0f921"
             ]
            ],
            "type": "heatmap"
           }
          ],
          "heatmapgl": [
           {
            "colorbar": {
             "outlinewidth": 0,
             "ticks": ""
            },
            "colorscale": [
             [
              0.0,
              "#0d0887"
             ],
             [
              0.1111111111111111,
              "#46039f"
             ],
             [
              0.2222222222222222,
              "#7201a8"
             ],
             [
              0.3333333333333333,
              "#9c179e"
             ],
             [
              0.4444444444444444,
              "#bd3786"
             ],
             [
              0.5555555555555556,
              "#d8576b"
             ],
             [
              0.6666666666666666,
              "#ed7953"
             ],
             [
              0.7777777777777778,
              "#fb9f3a"
             ],
             [
              0.8888888888888888,
              "#fdca26"
             ],
             [
              1.0,
              "#f0f921"
             ]
            ],
            "type": "heatmapgl"
           }
          ],
          "histogram": [
           {
            "marker": {
             "colorbar": {
              "outlinewidth": 0,
              "ticks": ""
             }
            },
            "type": "histogram"
           }
          ],
          "histogram2d": [
           {
            "colorbar": {
             "outlinewidth": 0,
             "ticks": ""
            },
            "colorscale": [
             [
              0.0,
              "#0d0887"
             ],
             [
              0.1111111111111111,
              "#46039f"
             ],
             [
              0.2222222222222222,
              "#7201a8"
             ],
             [
              0.3333333333333333,
              "#9c179e"
             ],
             [
              0.4444444444444444,
              "#bd3786"
             ],
             [
              0.5555555555555556,
              "#d8576b"
             ],
             [
              0.6666666666666666,
              "#ed7953"
             ],
             [
              0.7777777777777778,
              "#fb9f3a"
             ],
             [
              0.8888888888888888,
              "#fdca26"
             ],
             [
              1.0,
              "#f0f921"
             ]
            ],
            "type": "histogram2d"
           }
          ],
          "histogram2dcontour": [
           {
            "colorbar": {
             "outlinewidth": 0,
             "ticks": ""
            },
            "colorscale": [
             [
              0.0,
              "#0d0887"
             ],
             [
              0.1111111111111111,
              "#46039f"
             ],
             [
              0.2222222222222222,
              "#7201a8"
             ],
             [
              0.3333333333333333,
              "#9c179e"
             ],
             [
              0.4444444444444444,
              "#bd3786"
             ],
             [
              0.5555555555555556,
              "#d8576b"
             ],
             [
              0.6666666666666666,
              "#ed7953"
             ],
             [
              0.7777777777777778,
              "#fb9f3a"
             ],
             [
              0.8888888888888888,
              "#fdca26"
             ],
             [
              1.0,
              "#f0f921"
             ]
            ],
            "type": "histogram2dcontour"
           }
          ],
          "mesh3d": [
           {
            "colorbar": {
             "outlinewidth": 0,
             "ticks": ""
            },
            "type": "mesh3d"
           }
          ],
          "parcoords": [
           {
            "line": {
             "colorbar": {
              "outlinewidth": 0,
              "ticks": ""
             }
            },
            "type": "parcoords"
           }
          ],
          "pie": [
           {
            "automargin": true,
            "type": "pie"
           }
          ],
          "scatter": [
           {
            "marker": {
             "colorbar": {
              "outlinewidth": 0,
              "ticks": ""
             }
            },
            "type": "scatter"
           }
          ],
          "scatter3d": [
           {
            "line": {
             "colorbar": {
              "outlinewidth": 0,
              "ticks": ""
             }
            },
            "marker": {
             "colorbar": {
              "outlinewidth": 0,
              "ticks": ""
             }
            },
            "type": "scatter3d"
           }
          ],
          "scattercarpet": [
           {
            "marker": {
             "colorbar": {
              "outlinewidth": 0,
              "ticks": ""
             }
            },
            "type": "scattercarpet"
           }
          ],
          "scattergeo": [
           {
            "marker": {
             "colorbar": {
              "outlinewidth": 0,
              "ticks": ""
             }
            },
            "type": "scattergeo"
           }
          ],
          "scattergl": [
           {
            "marker": {
             "colorbar": {
              "outlinewidth": 0,
              "ticks": ""
             }
            },
            "type": "scattergl"
           }
          ],
          "scattermapbox": [
           {
            "marker": {
             "colorbar": {
              "outlinewidth": 0,
              "ticks": ""
             }
            },
            "type": "scattermapbox"
           }
          ],
          "scatterpolar": [
           {
            "marker": {
             "colorbar": {
              "outlinewidth": 0,
              "ticks": ""
             }
            },
            "type": "scatterpolar"
           }
          ],
          "scatterpolargl": [
           {
            "marker": {
             "colorbar": {
              "outlinewidth": 0,
              "ticks": ""
             }
            },
            "type": "scatterpolargl"
           }
          ],
          "scatterternary": [
           {
            "marker": {
             "colorbar": {
              "outlinewidth": 0,
              "ticks": ""
             }
            },
            "type": "scatterternary"
           }
          ],
          "surface": [
           {
            "colorbar": {
             "outlinewidth": 0,
             "ticks": ""
            },
            "colorscale": [
             [
              0.0,
              "#0d0887"
             ],
             [
              0.1111111111111111,
              "#46039f"
             ],
             [
              0.2222222222222222,
              "#7201a8"
             ],
             [
              0.3333333333333333,
              "#9c179e"
             ],
             [
              0.4444444444444444,
              "#bd3786"
             ],
             [
              0.5555555555555556,
              "#d8576b"
             ],
             [
              0.6666666666666666,
              "#ed7953"
             ],
             [
              0.7777777777777778,
              "#fb9f3a"
             ],
             [
              0.8888888888888888,
              "#fdca26"
             ],
             [
              1.0,
              "#f0f921"
             ]
            ],
            "type": "surface"
           }
          ],
          "table": [
           {
            "cells": {
             "fill": {
              "color": "#EBF0F8"
             },
             "line": {
              "color": "white"
             }
            },
            "header": {
             "fill": {
              "color": "#C8D4E3"
             },
             "line": {
              "color": "white"
             }
            },
            "type": "table"
           }
          ]
         },
         "layout": {
          "annotationdefaults": {
           "arrowcolor": "#2a3f5f",
           "arrowhead": 0,
           "arrowwidth": 1
          },
          "coloraxis": {
           "colorbar": {
            "outlinewidth": 0,
            "ticks": ""
           }
          },
          "colorscale": {
           "diverging": [
            [
             0,
             "#8e0152"
            ],
            [
             0.1,
             "#c51b7d"
            ],
            [
             0.2,
             "#de77ae"
            ],
            [
             0.3,
             "#f1b6da"
            ],
            [
             0.4,
             "#fde0ef"
            ],
            [
             0.5,
             "#f7f7f7"
            ],
            [
             0.6,
             "#e6f5d0"
            ],
            [
             0.7,
             "#b8e186"
            ],
            [
             0.8,
             "#7fbc41"
            ],
            [
             0.9,
             "#4d9221"
            ],
            [
             1,
             "#276419"
            ]
           ],
           "sequential": [
            [
             0.0,
             "#0d0887"
            ],
            [
             0.1111111111111111,
             "#46039f"
            ],
            [
             0.2222222222222222,
             "#7201a8"
            ],
            [
             0.3333333333333333,
             "#9c179e"
            ],
            [
             0.4444444444444444,
             "#bd3786"
            ],
            [
             0.5555555555555556,
             "#d8576b"
            ],
            [
             0.6666666666666666,
             "#ed7953"
            ],
            [
             0.7777777777777778,
             "#fb9f3a"
            ],
            [
             0.8888888888888888,
             "#fdca26"
            ],
            [
             1.0,
             "#f0f921"
            ]
           ],
           "sequentialminus": [
            [
             0.0,
             "#0d0887"
            ],
            [
             0.1111111111111111,
             "#46039f"
            ],
            [
             0.2222222222222222,
             "#7201a8"
            ],
            [
             0.3333333333333333,
             "#9c179e"
            ],
            [
             0.4444444444444444,
             "#bd3786"
            ],
            [
             0.5555555555555556,
             "#d8576b"
            ],
            [
             0.6666666666666666,
             "#ed7953"
            ],
            [
             0.7777777777777778,
             "#fb9f3a"
            ],
            [
             0.8888888888888888,
             "#fdca26"
            ],
            [
             1.0,
             "#f0f921"
            ]
           ]
          },
          "colorway": [
           "#636efa",
           "#EF553B",
           "#00cc96",
           "#ab63fa",
           "#FFA15A",
           "#19d3f3",
           "#FF6692",
           "#B6E880",
           "#FF97FF",
           "#FECB52"
          ],
          "font": {
           "color": "#2a3f5f"
          },
          "geo": {
           "bgcolor": "white",
           "lakecolor": "white",
           "landcolor": "#E5ECF6",
           "showlakes": true,
           "showland": true,
           "subunitcolor": "white"
          },
          "hoverlabel": {
           "align": "left"
          },
          "hovermode": "closest",
          "mapbox": {
           "style": "light"
          },
          "paper_bgcolor": "white",
          "plot_bgcolor": "#E5ECF6",
          "polar": {
           "angularaxis": {
            "gridcolor": "white",
            "linecolor": "white",
            "ticks": ""
           },
           "bgcolor": "#E5ECF6",
           "radialaxis": {
            "gridcolor": "white",
            "linecolor": "white",
            "ticks": ""
           }
          },
          "scene": {
           "xaxis": {
            "backgroundcolor": "#E5ECF6",
            "gridcolor": "white",
            "gridwidth": 2,
            "linecolor": "white",
            "showbackground": true,
            "ticks": "",
            "zerolinecolor": "white"
           },
           "yaxis": {
            "backgroundcolor": "#E5ECF6",
            "gridcolor": "white",
            "gridwidth": 2,
            "linecolor": "white",
            "showbackground": true,
            "ticks": "",
            "zerolinecolor": "white"
           },
           "zaxis": {
            "backgroundcolor": "#E5ECF6",
            "gridcolor": "white",
            "gridwidth": 2,
            "linecolor": "white",
            "showbackground": true,
            "ticks": "",
            "zerolinecolor": "white"
           }
          },
          "shapedefaults": {
           "line": {
            "color": "#2a3f5f"
           }
          },
          "ternary": {
           "aaxis": {
            "gridcolor": "white",
            "linecolor": "white",
            "ticks": ""
           },
           "baxis": {
            "gridcolor": "white",
            "linecolor": "white",
            "ticks": ""
           },
           "bgcolor": "#E5ECF6",
           "caxis": {
            "gridcolor": "white",
            "linecolor": "white",
            "ticks": ""
           }
          },
          "title": {
           "x": 0.05
          },
          "xaxis": {
           "automargin": true,
           "gridcolor": "white",
           "linecolor": "white",
           "ticks": "",
           "title": {
            "standoff": 15
           },
           "zerolinecolor": "white",
           "zerolinewidth": 2
          },
          "yaxis": {
           "automargin": true,
           "gridcolor": "white",
           "linecolor": "white",
           "ticks": "",
           "title": {
            "standoff": 15
           },
           "zerolinecolor": "white",
           "zerolinewidth": 2
          }
         }
        },
        "title": {
         "text": "Figure 8: Other factors to consider when assessing R<sup>2</sup>",
         "x": 0.1
        },
        "width": 700,
        "xaxis": {
         "anchor": "y",
         "domain": [
          0.0,
          0.45
         ],
         "title": {
          "text": "Magnetic field [T]"
         }
        },
        "xaxis2": {
         "anchor": "y2",
         "domain": [
          0.55,
          1.0
         ]
        },
        "xaxis3": {
         "anchor": "y3",
         "domain": [
          0.0,
          0.45
         ]
        },
        "xaxis4": {
         "anchor": "y4",
         "domain": [
          0.55,
          1.0
         ]
        },
        "yaxis": {
         "anchor": "x",
         "domain": [
          0.5900000000000001,
          1.0
         ]
        },
        "yaxis2": {
         "anchor": "x2",
         "domain": [
          0.5900000000000001,
          1.0
         ]
        },
        "yaxis3": {
         "anchor": "x3",
         "domain": [
          0.0,
          0.41000000000000003
         ]
        },
        "yaxis4": {
         "anchor": "x4",
         "domain": [
          0.0,
          0.41000000000000003
         ]
        }
       }
      },
      "text/html": "<div>\n        \n        \n            <div id=\"91e4f2af-b685-4fc2-8b40-d1a785943136\" class=\"plotly-graph-div\" style=\"height:600px; width:700px;\"></div>\n            <script type=\"text/javascript\">\n                require([\"plotly\"], function(Plotly) {\n                    window.PLOTLYENV=window.PLOTLYENV || {};\n                    \n                if (document.getElementById(\"91e4f2af-b685-4fc2-8b40-d1a785943136\")) {\n                    Plotly.newPlot(\n                        '91e4f2af-b685-4fc2-8b40-d1a785943136',\n                        [{\"marker\": {\"color\": \"rgb(127, 60, 141)\"}, \"mode\": \"markers\", \"name\": \"Diffusion\", \"text\": [\"RD - Abe et al., 2019\", \"AD - Abe et al., 2019\", \"FA - Abe et al., 2019\", \"AD - Aojula et al., 2016\", \"RD - Aojula et al., 2016\", \"MD - Aojula et al., 2016\", \"FA - Aojula et al., 2016\", \"FA - Chandran et al., 2012\", \"RD - Chandran et al., 2012\", \"FA - Chang et al., 2017\", \"MD - Chang et al., 2017\", \"RD - Chang et al., 2017\", \"AD - Chang et al., 2017\", \"RD - Janve et al., 2013\", \"AD - Janve et al., 2013\", \"MD - Janve et al., 2013\", \"FA - Janve et al., 2013\", \"AWF - Jelescu et al., 2016\", \"RK - Jelescu et al., 2016\", \"RDe - Jelescu et al., 2016\", \"RD - Jelescu et al., 2016\", \"FA - Jito et al., 2008\", \"AWF - Kelm et al., 2016\", \"RK - Kelm et al., 2016\", \"RD - Kelm et al., 2016\", \"MK - Kelm et al., 2016\", \"MD - Kelm et al., 2016\", \"RD - Lehto et al., 2017a\", \"AD - Lehto et al., 2017a\", \"FA - Lehto et al., 2017a\", \"MD - Lehto et al., 2017a\", \"FA - Mollink et al., 2019\", \"FA - Pol et al., 2019\", \"MD - Pol et al., 2019\", \"FA - Schmierer et al., 2007b\", \"MD - Schmierer et al., 2007b\", \"RD - Schmierer et al., 2008\", \"AD - Schmierer et al., 2008\", \"MD - Schmierer et al., 2008\", \"FA - Schmierer et al., 2008\", \"RD - Soustelle et al., 2019\", \"MD - Thiessen et al., 2013\", \"AD - Thiessen et al., 2013\", \"FA - Thiessen et al., 2013\", \"RD - Thiessen et al., 2013\", \"AD - Tu et al., 2016\", \"MD - Tu et al., 2016\", \"RD - Tu et al., 2016\", \"FA - Tu et al., 2016\", \"FA - Wang et al., 2009\", \"RD - Wang et al., 2009\", \"MD - Wendel et al., 2018\", \"AD - Wendel et al., 2018\", \"FA - Wendel et al., 2018\", \"RD - Wendel et al., 2018\", \"FA - Yano et al., 2018\", \"RD - Yano et al., 2018\", \"MD - Yano et al., 2018\", \"FA - van Tilborg et al., 2017\"], \"type\": \"scatter\", \"x\": [7.0, 7.0, 7.0, 7.0, 7.0, 7.0, 7.0, 7.0, 7.0, 11.7, 11.7, 11.7, 11.7, 9.4, 9.4, 9.4, 9.4, 7.0, 7.0, 7.0, 7.0, 7.0, 15.2, 15.2, 15.2, 15.2, 15.2, 7.0, 7.0, 7.0, 7.0, 11.7, 9.4, 9.4, 1.5, 1.5, 1.5, 1.5, 1.5, 1.5, 7.0, 7.0, 7.0, 7.0, 7.0, 7.0, 7.0, 7.0, 7.0, 7.0, 7.0, 9.4, 9.4, 9.4, 9.4, 7.0, 7.0, 7.0, 9.4], \"xaxis\": \"x\", \"y\": [0.1681, 0.0121, 0.1024, 0.1296, 0.2097, 0.245, 0.1197, 0.5, 0.34, 0.1989, 0.0129, 0.038, 0.1482, 0.2401, 0.0064, 0.0784, 0.0729, 0.3025, 0.0196, 0.25, 0.5041, 0.7327, 0.3364, 0.2401, 0.1369, 0.2304, 0.1225, 0.0015, 0.4199, 0.2237, 0.3492, 0.2704, 0.0576, 0.3481, 0.6241000000000001, 0.4624000000000001, 0.6561, 0.64, 0.6084, 0.6889, 0.49, 0.6561, 0.5625, 0.7056, 0.7569, 0.0001, 0.0289, 0.2116, 0.0169, 0.4637, 0.2787, 0.0564, 0.1987, 0.5707, 0.2973, 0.7569, 0.8281, 0.5329, 0.334], \"yaxis\": \"y\"}, {\"marker\": {\"color\": \"rgb(17, 165, 121)\"}, \"mode\": \"markers\", \"name\": \"Magnetization transfer\", \"text\": [\"MTR - Beckmann et al., 2018\", \"MTR - Duhamel et al., 2019\", \"ihMTR - Duhamel et al., 2019\", \"MTR - Fatemi et al., 2011\", \"MTR - Fjaer et al., 2013\", \"MTR - Fjaer et al., 2015\", \"MTR - Guglielmetti et al., 2020\", \"MTR-UTE - Guglielmetti et al., 2020\", \"MTR - Hakkarainen et al., 2016\", \"k_mf - Janve et al., 2013\", \"MPF - Janve et al., 2013\", \"R1f - Janve et al., 2013\", \"MTR - Jelescu et al., 2016\", \"MPF - Khodanovic et al., 2017\", \"MPF - Khodanovic et al., 2019\", \"MTR - Lehto et al., 2017a\", \"MTR - Lehto et al., 2017b\", \"MTR - Schmierer et al., 2004\", \"T2m - Schmierer et al., 2007a\", \"MPF - Schmierer et al., 2007a\", \"MTR - Schmierer et al., 2007a\", \"MPF - Schmierer et al., 2008\", \"MTR - Schmierer et al., 2008\", \"MPF - Soustelle et al., 2019\", \"MTR - Tardif et al., 2012\", \"T2f - Thiessen et al., 2013\", \"T2m - Thiessen et al., 2013\", \"k_fm - Thiessen et al., 2013\", \"R1f - Thiessen et al., 2013\", \"k_mf - Thiessen et al., 2013\", \"MPF - Thiessen et al., 2013\", \"MTR - Tu et al., 2016\", \"MPF - Turati et al., 2015\", \"MPF - Underhill et al., 2011\", \"MPF - West et al., 2018\", \"MVF-MT - West et al., 2018\", \"MTR - Zaaraoui et al., 2008\"], \"type\": \"scatter\", \"x\": [7.0, 11.75, 11.75, 9.4, 7.0, 7.0, 7.0, 7.0, 9.4, 9.4, 9.4, 9.4, 7.0, 11.7, 11.7, 7.0, 9.4, 1.5, 1.5, 1.5, 1.5, 1.5, 1.5, 7.0, 3.0, 7.0, 7.0, 7.0, 7.0, 7.0, 7.0, 7.0, 7.0, 3.0, 15.2, 15.2, 9.4], \"xaxis\": \"x\", \"y\": [0.7668, 0.78, 0.96, 0.695, 0.338, 0.01, 0.46, 0.76, 0.34, 0.0256, 0.7225, 0.0961, 0.1024, 0.779, 0.82, 0.5169, 0.94, 0.7055999999999999, 0.0001, 0.6400000000000001, 0.7055999999999999, 0.7396, 0.4624, 0.7569, 0.36, 0.36, 0.1521, 0.1089, 0.4356, 0.6724, 0.8649, 0.1444, 0.2872, 0.9801, 0.7, 0.7, 0.6241000000000001], \"yaxis\": \"y\"}, {\"marker\": {\"color\": \"rgb(57, 105, 172)\"}, \"mode\": \"markers\", \"name\": \"T1 relaxometry\", \"text\": [\"T1 - Hakkarainen et al., 2016\", \"T1 - Hametner et al., 2018\", \"T1 - Reeves et al., 2016\", \"T1 - Schmierer et al., 2004\", \"T1 - Schmierer et al., 2007a\", \"T1 - Schmierer et al., 2008\", \"T1 - Tardif et al., 2012\", \"T1 - Thiessen et al., 2013\"], \"type\": \"scatter\", \"x\": [9.4, 7.0, 9.4, 1.5, 1.5, 1.5, 3.0, 7.0], \"xaxis\": \"x\", \"y\": [0.77, 0.3398, 0.27, 0.48999999999999994, 0.4760999999999999, 0.7921, 0.5929, 0.4356], \"yaxis\": \"y\"}, {\"marker\": {\"color\": \"rgb(242, 183, 1)\"}, \"mode\": \"markers\", \"name\": \"T2 relaxometry\", \"text\": [\"T2 - Hakkarainen et al., 2016\", \"T2 - Jelescu et al., 2016\", \"MWF - Laule et al., 2006\", \"MWF - Laule et al., 2008\", \"T2 - Reeves et al., 2016\", \"T2 - Schmierer et al., 2008\", \"MWF - Soustelle et al., 2019\", \"T2 - Tardif et al., 2012\", \"T2 - Thiessen et al., 2013\", \"MVF-T2 - West et al., 2018\", \"MWF - West et al., 2018\", \"T2 - Wu et al., 2008\"], \"type\": \"scatter\", \"x\": [9.4, 7.0, 1.5, 7.0, 9.4, 1.5, 7.0, 3.0, 7.0, 15.2, 15.2, 4.7], \"xaxis\": \"x\", \"y\": [0.18, 0.4096, 0.67, 0.78, 0.235, 0.8464, 0.4624, 0.4225, 0.0676, 0.68, 0.66, 0.5184], \"yaxis\": \"y\"}, {\"marker\": {\"color\": \"rgb(231, 63, 116)\"}, \"mode\": \"markers\", \"name\": \"Other\", \"text\": [\"MTV - Berman et al., 2018\", \"T2p - Hakkarainen et al., 2016\", \"RAFF - Hakkarainen et al., 2016\", \"T1p - Hakkarainen et al., 2016\", \"QSM - Hametner et al., 2018\", \"R2* - Hametner et al., 2018\", \"RAFF - Lehto et al., 2017a\", \"T1sat - Lehto et al., 2017a\", \"QSM - Pol et al., 2019\", \"rSPF - Soustelle et al., 2019\", \"PD - Tardif et al., 2012\"], \"type\": \"scatter\", \"x\": [15.2, 9.4, 9.4, 9.4, 7.0, 7.0, 7.0, 7.0, 9.4, 7.0, 3.0], \"xaxis\": \"x\", \"y\": [0.74, 0.34, 0.84, 0.63, 0.1239, 0.0007, 0.552, 0.49, 0.0361, 0.7396, 0.3481], \"yaxis\": \"y\"}, {\"boxpoints\": \"all\", \"name\": \"Ex vivo - Fixed\", \"text\": [\"RD - Abe et al., 2019\", \"AD - Abe et al., 2019\", \"FA - Abe et al., 2019\", \"MTV - Berman et al., 2018\", \"FA - Chang et al., 2017\", \"MD - Chang et al., 2017\", \"RD - Chang et al., 2017\", \"AD - Chang et al., 2017\", \"T1 - Hakkarainen et al., 2016\", \"T2p - Hakkarainen et al., 2016\", \"RAFF - Hakkarainen et al., 2016\", \"T1p - Hakkarainen et al., 2016\", \"MTR - Hakkarainen et al., 2016\", \"T2 - Hakkarainen et al., 2016\", \"k_mf - Janve et al., 2013\", \"MPF - Janve et al., 2013\", \"RD - Janve et al., 2013\", \"R1f - Janve et al., 2013\", \"AD - Janve et al., 2013\", \"MD - Janve et al., 2013\", \"FA - Janve et al., 2013\", \"AWF - Kelm et al., 2016\", \"RK - Kelm et al., 2016\", \"RD - Kelm et al., 2016\", \"MK - Kelm et al., 2016\", \"MD - Kelm et al., 2016\", \"MWF - Laule et al., 2006\", \"MWF - Laule et al., 2008\", \"FA - Mollink et al., 2019\", \"T1 - Reeves et al., 2016\", \"T2 - Reeves et al., 2016\", \"RD - Schmierer et al., 2008\", \"AD - Schmierer et al., 2008\", \"MD - Schmierer et al., 2008\", \"T1 - Schmierer et al., 2008\", \"T2 - Schmierer et al., 2008\", \"FA - Schmierer et al., 2008\", \"MPF - Schmierer et al., 2008\", \"MTR - Schmierer et al., 2008\", \"PD - Tardif et al., 2012\", \"MTR - Tardif et al., 2012\", \"T2 - Tardif et al., 2012\", \"T1 - Tardif et al., 2012\", \"MD - Wendel et al., 2018\", \"AD - Wendel et al., 2018\", \"FA - Wendel et al., 2018\", \"RD - Wendel et al., 2018\", \"MPF - West et al., 2018\", \"MVF-MT - West et al., 2018\", \"MVF-T2 - West et al., 2018\", \"MWF - West et al., 2018\", \"FA - Yano et al., 2018\", \"RD - Yano et al., 2018\", \"MD - Yano et al., 2018\", \"FA - van Tilborg et al., 2017\"], \"type\": \"box\", \"x\": [\"Ex vivo - Fixed\", \"Ex vivo - Fixed\", \"Ex vivo - Fixed\", \"Ex vivo - Fixed\", \"Ex vivo - Fixed\", \"Ex vivo - Fixed\", \"Ex vivo - Fixed\", \"Ex vivo - Fixed\", \"Ex vivo - Fixed\", \"Ex vivo - Fixed\", \"Ex vivo - Fixed\", \"Ex vivo - Fixed\", \"Ex vivo - Fixed\", \"Ex vivo - Fixed\", \"Ex vivo - Fixed\", \"Ex vivo - Fixed\", \"Ex vivo - Fixed\", \"Ex vivo - Fixed\", \"Ex vivo - Fixed\", \"Ex vivo - Fixed\", \"Ex vivo - Fixed\", \"Ex vivo - Fixed\", \"Ex vivo - Fixed\", \"Ex vivo - Fixed\", \"Ex vivo - Fixed\", \"Ex vivo - Fixed\", \"Ex vivo - Fixed\", \"Ex vivo - Fixed\", \"Ex vivo - Fixed\", \"Ex vivo - Fixed\", \"Ex vivo - Fixed\", \"Ex vivo - Fixed\", \"Ex vivo - Fixed\", \"Ex vivo - Fixed\", \"Ex vivo - Fixed\", \"Ex vivo - Fixed\", \"Ex vivo - Fixed\", \"Ex vivo - Fixed\", \"Ex vivo - Fixed\", \"Ex vivo - Fixed\", \"Ex vivo - Fixed\", \"Ex vivo - Fixed\", \"Ex vivo - Fixed\", \"Ex vivo - Fixed\", \"Ex vivo - Fixed\", \"Ex vivo - Fixed\", \"Ex vivo - Fixed\", \"Ex vivo - Fixed\", \"Ex vivo - Fixed\", \"Ex vivo - Fixed\", \"Ex vivo - Fixed\", \"Ex vivo - Fixed\", \"Ex vivo - Fixed\", \"Ex vivo - Fixed\", \"Ex vivo - Fixed\"], \"xaxis\": \"x2\", \"y\": [0.1681, 0.0121, 0.1024, 0.74, 0.1989, 0.0129, 0.038, 0.1482, 0.77, 0.34, 0.84, 0.63, 0.34, 0.18, 0.0256, 0.7225, 0.2401, 0.0961, 0.0064, 0.0784, 0.0729, 0.3364, 0.2401, 0.1369, 0.2304, 0.1225, 0.67, 0.78, 0.2704, 0.27, 0.235, 0.6561, 0.64, 0.6084, 0.7921, 0.8464, 0.6889, 0.7396, 0.4624, 0.3481, 0.36, 0.4225, 0.5929, 0.0564, 0.1987, 0.5707, 0.2973, 0.7, 0.7, 0.68, 0.66, 0.7569, 0.8281, 0.5329, 0.334], \"yaxis\": \"y2\"}, {\"boxpoints\": \"all\", \"name\": \"In vivo\", \"text\": [\"AD - Aojula et al., 2016\", \"RD - Aojula et al., 2016\", \"MD - Aojula et al., 2016\", \"FA - Aojula et al., 2016\", \"MTR - Beckmann et al., 2018\", \"FA - Chandran et al., 2012\", \"RD - Chandran et al., 2012\", \"MTR - Duhamel et al., 2019\", \"ihMTR - Duhamel et al., 2019\", \"MTR - Fatemi et al., 2011\", \"MTR - Fjaer et al., 2013\", \"MTR - Fjaer et al., 2015\", \"MTR - Guglielmetti et al., 2020\", \"MTR-UTE - Guglielmetti et al., 2020\", \"T2 - Jelescu et al., 2016\", \"MTR - Jelescu et al., 2016\", \"AWF - Jelescu et al., 2016\", \"RK - Jelescu et al., 2016\", \"RDe - Jelescu et al., 2016\", \"RD - Jelescu et al., 2016\", \"FA - Jito et al., 2008\", \"MPF - Khodanovic et al., 2017\", \"MPF - Khodanovic et al., 2019\", \"RD - Lehto et al., 2017a\", \"RAFF - Lehto et al., 2017a\", \"MTR - Lehto et al., 2017a\", \"AD - Lehto et al., 2017a\", \"T1sat - Lehto et al., 2017a\", \"FA - Lehto et al., 2017a\", \"MD - Lehto et al., 2017a\", \"QSM - Pol et al., 2019\", \"FA - Pol et al., 2019\", \"MD - Pol et al., 2019\", \"AD - Tu et al., 2016\", \"MD - Tu et al., 2016\", \"RD - Tu et al., 2016\", \"FA - Tu et al., 2016\", \"MTR - Tu et al., 2016\", \"MPF - Turati et al., 2015\", \"MPF - Underhill et al., 2011\", \"FA - Wang et al., 2009\", \"RD - Wang et al., 2009\", \"T2 - Wu et al., 2008\", \"MTR - Zaaraoui et al., 2008\"], \"type\": \"box\", \"x\": [\"In vivo\", \"In vivo\", \"In vivo\", \"In vivo\", \"In vivo\", \"In vivo\", \"In vivo\", \"In vivo\", \"In vivo\", \"In vivo\", \"In vivo\", \"In vivo\", \"In vivo\", \"In vivo\", \"In vivo\", \"In vivo\", \"In vivo\", \"In vivo\", \"In vivo\", \"In vivo\", \"In vivo\", \"In vivo\", \"In vivo\", \"In vivo\", \"In vivo\", \"In vivo\", \"In vivo\", \"In vivo\", \"In vivo\", \"In vivo\", \"In vivo\", \"In vivo\", \"In vivo\", \"In vivo\", \"In vivo\", \"In vivo\", \"In vivo\", \"In vivo\", \"In vivo\", \"In vivo\", \"In vivo\", \"In vivo\", \"In vivo\", \"In vivo\"], \"xaxis\": \"x2\", \"y\": [0.1296, 0.2097, 0.245, 0.1197, 0.7668, 0.5, 0.34, 0.78, 0.96, 0.695, 0.338, 0.01, 0.46, 0.76, 0.4096, 0.1024, 0.3025, 0.0196, 0.25, 0.5041, 0.7327, 0.779, 0.82, 0.0015, 0.552, 0.5169, 0.4199, 0.49, 0.2237, 0.3492, 0.0361, 0.0576, 0.3481, 0.0001, 0.0289, 0.2116, 0.0169, 0.1444, 0.2872, 0.9801, 0.4637, 0.2787, 0.5184, 0.6241000000000001], \"yaxis\": \"y2\"}, {\"boxpoints\": \"all\", \"name\": \"In situ\", \"text\": [\"QSM - Hametner et al., 2018\", \"T1 - Hametner et al., 2018\", \"R2* - Hametner et al., 2018\", \"RD - Soustelle et al., 2019\", \"rSPF - Soustelle et al., 2019\", \"MPF - Soustelle et al., 2019\", \"MWF - Soustelle et al., 2019\"], \"type\": \"box\", \"x\": [\"In situ\", \"In situ\", \"In situ\", \"In situ\", \"In situ\", \"In situ\", \"In situ\"], \"xaxis\": \"x2\", \"y\": [0.1239, 0.3398, 0.0007, 0.49, 0.7396, 0.7569, 0.4624], \"yaxis\": \"y2\"}, {\"boxpoints\": \"all\", \"name\": \"Ex vivo - Unfixed\", \"text\": [\"MTR - Lehto et al., 2017b\", \"MTR - Schmierer et al., 2004\", \"T1 - Schmierer et al., 2004\", \"T2m - Schmierer et al., 2007a\", \"T1 - Schmierer et al., 2007a\", \"MPF - Schmierer et al., 2007a\", \"MTR - Schmierer et al., 2007a\", \"FA - Schmierer et al., 2007b\", \"MD - Schmierer et al., 2007b\", \"MD - Thiessen et al., 2013\", \"T1 - Thiessen et al., 2013\", \"T2f - Thiessen et al., 2013\", \"AD - Thiessen et al., 2013\", \"T2m - Thiessen et al., 2013\", \"FA - Thiessen et al., 2013\", \"T2 - Thiessen et al., 2013\", \"k_fm - Thiessen et al., 2013\", \"R1f - Thiessen et al., 2013\", \"k_mf - Thiessen et al., 2013\", \"RD - Thiessen et al., 2013\", \"MPF - Thiessen et al., 2013\"], \"type\": \"box\", \"x\": [\"Ex vivo - Unfixed\", \"Ex vivo - Unfixed\", \"Ex vivo - Unfixed\", \"Ex vivo - Unfixed\", \"Ex vivo - Unfixed\", \"Ex vivo - Unfixed\", \"Ex vivo - Unfixed\", \"Ex vivo - Unfixed\", \"Ex vivo - Unfixed\", \"Ex vivo - Unfixed\", \"Ex vivo - Unfixed\", \"Ex vivo - Unfixed\", \"Ex vivo - Unfixed\", \"Ex vivo - Unfixed\", \"Ex vivo - Unfixed\", \"Ex vivo - Unfixed\", \"Ex vivo - Unfixed\", \"Ex vivo - Unfixed\", \"Ex vivo - Unfixed\", \"Ex vivo - Unfixed\", \"Ex vivo - Unfixed\"], \"xaxis\": \"x2\", \"y\": [0.94, 0.7055999999999999, 0.48999999999999994, 0.0001, 0.4760999999999999, 0.6400000000000001, 0.7055999999999999, 0.6241000000000001, 0.4624000000000001, 0.6561, 0.4356, 0.36, 0.5625, 0.1521, 0.7056, 0.0676, 0.1089, 0.4356, 0.6724, 0.7569, 0.8649], \"yaxis\": \"y2\"}, {\"boxpoints\": \"all\", \"name\": \"N\", \"text\": [\"RD - Abe et al., 2019\", \"AD - Abe et al., 2019\", \"FA - Abe et al., 2019\", \"AD - Aojula et al., 2016\", \"RD - Aojula et al., 2016\", \"MD - Aojula et al., 2016\", \"FA - Aojula et al., 2016\", \"MTR - Beckmann et al., 2018\", \"MTV - Berman et al., 2018\", \"FA - Chandran et al., 2012\", \"RD - Chandran et al., 2012\", \"MTR - Duhamel et al., 2019\", \"ihMTR - Duhamel et al., 2019\", \"MTR - Fatemi et al., 2011\", \"MTR - Fjaer et al., 2013\", \"MTR - Fjaer et al., 2015\", \"MTR - Guglielmetti et al., 2020\", \"MTR-UTE - Guglielmetti et al., 2020\", \"T1 - Hakkarainen et al., 2016\", \"T2p - Hakkarainen et al., 2016\", \"RAFF - Hakkarainen et al., 2016\", \"T1p - Hakkarainen et al., 2016\", \"MTR - Hakkarainen et al., 2016\", \"T2 - Hakkarainen et al., 2016\", \"T2 - Jelescu et al., 2016\", \"MTR - Jelescu et al., 2016\", \"AWF - Jelescu et al., 2016\", \"RK - Jelescu et al., 2016\", \"RDe - Jelescu et al., 2016\", \"RD - Jelescu et al., 2016\", \"FA - Jito et al., 2008\", \"AWF - Kelm et al., 2016\", \"RK - Kelm et al., 2016\", \"RD - Kelm et al., 2016\", \"MK - Kelm et al., 2016\", \"MD - Kelm et al., 2016\", \"MPF - Khodanovic et al., 2017\", \"MPF - Khodanovic et al., 2019\", \"RD - Lehto et al., 2017a\", \"RAFF - Lehto et al., 2017a\", \"MTR - Lehto et al., 2017a\", \"AD - Lehto et al., 2017a\", \"T1sat - Lehto et al., 2017a\", \"FA - Lehto et al., 2017a\", \"MD - Lehto et al., 2017a\", \"MTR - Lehto et al., 2017b\", \"FA - Mollink et al., 2019\", \"QSM - Pol et al., 2019\", \"FA - Pol et al., 2019\", \"MD - Pol et al., 2019\", \"T1 - Reeves et al., 2016\", \"T2 - Reeves et al., 2016\", \"RD - Soustelle et al., 2019\", \"rSPF - Soustelle et al., 2019\", \"MPF - Soustelle et al., 2019\", \"MWF - Soustelle et al., 2019\", \"MD - Thiessen et al., 2013\", \"T1 - Thiessen et al., 2013\", \"T2f - Thiessen et al., 2013\", \"AD - Thiessen et al., 2013\", \"T2m - Thiessen et al., 2013\", \"FA - Thiessen et al., 2013\", \"T2 - Thiessen et al., 2013\", \"k_fm - Thiessen et al., 2013\", \"R1f - Thiessen et al., 2013\", \"k_mf - Thiessen et al., 2013\", \"RD - Thiessen et al., 2013\", \"MPF - Thiessen et al., 2013\", \"AD - Tu et al., 2016\", \"MD - Tu et al., 2016\", \"RD - Tu et al., 2016\", \"FA - Tu et al., 2016\", \"MTR - Tu et al., 2016\", \"MPF - Turati et al., 2015\", \"MPF - Underhill et al., 2011\", \"FA - Wang et al., 2009\", \"RD - Wang et al., 2009\", \"MD - Wendel et al., 2018\", \"AD - Wendel et al., 2018\", \"FA - Wendel et al., 2018\", \"RD - Wendel et al., 2018\", \"MPF - West et al., 2018\", \"MVF-MT - West et al., 2018\", \"MVF-T2 - West et al., 2018\", \"MWF - West et al., 2018\", \"T2 - Wu et al., 2008\", \"FA - Yano et al., 2018\", \"RD - Yano et al., 2018\", \"MD - Yano et al., 2018\", \"MTR - Zaaraoui et al., 2008\", \"FA - van Tilborg et al., 2017\"], \"type\": \"box\", \"x\": [\"N\", \"N\", \"N\", \"N\", \"N\", \"N\", \"N\", \"N\", \"N\", \"N\", \"N\", \"N\", \"N\", \"N\", \"N\", \"N\", \"N\", \"N\", \"N\", \"N\", \"N\", \"N\", \"N\", \"N\", \"N\", \"N\", \"N\", \"N\", \"N\", \"N\", \"N\", \"N\", \"N\", \"N\", \"N\", \"N\", \"N\", \"N\", \"N\", \"N\", \"N\", \"N\", \"N\", \"N\", \"N\", \"N\", \"N\", \"N\", \"N\", \"N\", \"N\", \"N\", \"N\", \"N\", \"N\", \"N\", \"N\", \"N\", \"N\", \"N\", \"N\", \"N\", \"N\", \"N\", \"N\", \"N\", \"N\", \"N\", \"N\", \"N\", \"N\", \"N\", \"N\", \"N\", \"N\", \"N\", \"N\", \"N\", \"N\", \"N\", \"N\", \"N\", \"N\", \"N\", \"N\", \"N\", \"N\", \"N\", \"N\", \"N\", \"N\"], \"xaxis\": \"x3\", \"y\": [0.1681, 0.0121, 0.1024, 0.1296, 0.2097, 0.245, 0.1197, 0.7668, 0.74, 0.5, 0.34, 0.78, 0.96, 0.695, 0.338, 0.01, 0.46, 0.76, 0.77, 0.34, 0.84, 0.63, 0.34, 0.18, 0.4096, 0.1024, 0.3025, 0.0196, 0.25, 0.5041, 0.7327, 0.3364, 0.2401, 0.1369, 0.2304, 0.1225, 0.779, 0.82, 0.0015, 0.552, 0.5169, 0.4199, 0.49, 0.2237, 0.3492, 0.94, 0.2704, 0.0361, 0.0576, 0.3481, 0.27, 0.235, 0.49, 0.7396, 0.7569, 0.4624, 0.6561, 0.4356, 0.36, 0.5625, 0.1521, 0.7056, 0.0676, 0.1089, 0.4356, 0.6724, 0.7569, 0.8649, 0.0001, 0.0289, 0.2116, 0.0169, 0.1444, 0.2872, 0.9801, 0.4637, 0.2787, 0.0564, 0.1987, 0.5707, 0.2973, 0.7, 0.7, 0.68, 0.66, 0.5184, 0.7569, 0.8281, 0.5329, 0.6241000000000001, 0.334], \"yaxis\": \"y3\"}, {\"boxpoints\": \"all\", \"name\": \"Y\", \"text\": [\"FA - Chang et al., 2017\", \"MD - Chang et al., 2017\", \"RD - Chang et al., 2017\", \"AD - Chang et al., 2017\", \"QSM - Hametner et al., 2018\", \"T1 - Hametner et al., 2018\", \"R2* - Hametner et al., 2018\", \"k_mf - Janve et al., 2013\", \"MPF - Janve et al., 2013\", \"RD - Janve et al., 2013\", \"R1f - Janve et al., 2013\", \"AD - Janve et al., 2013\", \"MD - Janve et al., 2013\", \"FA - Janve et al., 2013\", \"MWF - Laule et al., 2006\", \"MWF - Laule et al., 2008\", \"MTR - Schmierer et al., 2004\", \"T1 - Schmierer et al., 2004\", \"T2m - Schmierer et al., 2007a\", \"T1 - Schmierer et al., 2007a\", \"MPF - Schmierer et al., 2007a\", \"MTR - Schmierer et al., 2007a\", \"FA - Schmierer et al., 2007b\", \"MD - Schmierer et al., 2007b\", \"RD - Schmierer et al., 2008\", \"AD - Schmierer et al., 2008\", \"MD - Schmierer et al., 2008\", \"T1 - Schmierer et al., 2008\", \"T2 - Schmierer et al., 2008\", \"FA - Schmierer et al., 2008\", \"MPF - Schmierer et al., 2008\", \"MTR - Schmierer et al., 2008\", \"PD - Tardif et al., 2012\", \"MTR - Tardif et al., 2012\", \"T2 - Tardif et al., 2012\", \"T1 - Tardif et al., 2012\"], \"type\": \"box\", \"x\": [\"Y\", \"Y\", \"Y\", \"Y\", \"Y\", \"Y\", \"Y\", \"Y\", \"Y\", \"Y\", \"Y\", \"Y\", \"Y\", \"Y\", \"Y\", \"Y\", \"Y\", \"Y\", \"Y\", \"Y\", \"Y\", \"Y\", \"Y\", \"Y\", \"Y\", \"Y\", \"Y\", \"Y\", \"Y\", \"Y\", \"Y\", \"Y\", \"Y\", \"Y\", \"Y\", \"Y\"], \"xaxis\": \"x3\", \"y\": [0.1989, 0.0129, 0.038, 0.1482, 0.1239, 0.3398, 0.0007, 0.0256, 0.7225, 0.2401, 0.0961, 0.0064, 0.0784, 0.0729, 0.67, 0.78, 0.7055999999999999, 0.48999999999999994, 0.0001, 0.4760999999999999, 0.6400000000000001, 0.7055999999999999, 0.6241000000000001, 0.4624000000000001, 0.6561, 0.64, 0.6084, 0.7921, 0.8464, 0.6889, 0.7396, 0.4624, 0.3481, 0.36, 0.4225, 0.5929], \"yaxis\": \"y3\"}, {\"boxpoints\": \"all\", \"name\": \"Animal - Mouse\", \"text\": [\"RD - Abe et al., 2019\", \"AD - Abe et al., 2019\", \"FA - Abe et al., 2019\", \"MTR - Beckmann et al., 2018\", \"MTV - Berman et al., 2018\", \"FA - Chandran et al., 2012\", \"RD - Chandran et al., 2012\", \"FA - Chang et al., 2017\", \"MD - Chang et al., 2017\", \"RD - Chang et al., 2017\", \"AD - Chang et al., 2017\", \"MTR - Duhamel et al., 2019\", \"ihMTR - Duhamel et al., 2019\", \"MTR - Fatemi et al., 2011\", \"MTR - Fjaer et al., 2013\", \"MTR - Fjaer et al., 2015\", \"MTR - Guglielmetti et al., 2020\", \"MTR-UTE - Guglielmetti et al., 2020\", \"T2 - Jelescu et al., 2016\", \"MTR - Jelescu et al., 2016\", \"AWF - Jelescu et al., 2016\", \"RK - Jelescu et al., 2016\", \"RDe - Jelescu et al., 2016\", \"RD - Jelescu et al., 2016\", \"FA - Jito et al., 2008\", \"AWF - Kelm et al., 2016\", \"RK - Kelm et al., 2016\", \"RD - Kelm et al., 2016\", \"MK - Kelm et al., 2016\", \"MD - Kelm et al., 2016\", \"MPF - Khodanovic et al., 2017\", \"MPF - Khodanovic et al., 2019\", \"QSM - Pol et al., 2019\", \"FA - Pol et al., 2019\", \"MD - Pol et al., 2019\", \"RD - Soustelle et al., 2019\", \"rSPF - Soustelle et al., 2019\", \"MPF - Soustelle et al., 2019\", \"MWF - Soustelle et al., 2019\", \"MD - Thiessen et al., 2013\", \"T1 - Thiessen et al., 2013\", \"T2f - Thiessen et al., 2013\", \"AD - Thiessen et al., 2013\", \"T2m - Thiessen et al., 2013\", \"FA - Thiessen et al., 2013\", \"T2 - Thiessen et al., 2013\", \"k_fm - Thiessen et al., 2013\", \"R1f - Thiessen et al., 2013\", \"k_mf - Thiessen et al., 2013\", \"RD - Thiessen et al., 2013\", \"MPF - Thiessen et al., 2013\", \"MPF - Turati et al., 2015\", \"MPF - Underhill et al., 2011\", \"MD - Wendel et al., 2018\", \"AD - Wendel et al., 2018\", \"FA - Wendel et al., 2018\", \"RD - Wendel et al., 2018\", \"MPF - West et al., 2018\", \"MVF-MT - West et al., 2018\", \"MVF-T2 - West et al., 2018\", \"MWF - West et al., 2018\", \"T2 - Wu et al., 2008\", \"FA - Yano et al., 2018\", \"RD - Yano et al., 2018\", \"MD - Yano et al., 2018\", \"MTR - Zaaraoui et al., 2008\"], \"type\": \"box\", \"x\": [\"Animal - Mouse\", \"Animal - Mouse\", \"Animal - Mouse\", \"Animal - Mouse\", \"Animal - Mouse\", \"Animal - Mouse\", \"Animal - Mouse\", \"Animal - Mouse\", \"Animal - Mouse\", \"Animal - Mouse\", \"Animal - Mouse\", \"Animal - Mouse\", \"Animal - Mouse\", \"Animal - Mouse\", \"Animal - Mouse\", \"Animal - Mouse\", \"Animal - Mouse\", \"Animal - Mouse\", \"Animal - Mouse\", \"Animal - Mouse\", \"Animal - Mouse\", \"Animal - Mouse\", \"Animal - Mouse\", \"Animal - Mouse\", \"Animal - Mouse\", \"Animal - Mouse\", \"Animal - Mouse\", \"Animal - Mouse\", \"Animal - Mouse\", \"Animal - Mouse\", \"Animal - Mouse\", \"Animal - Mouse\", \"Animal - Mouse\", \"Animal - Mouse\", \"Animal - Mouse\", \"Animal - Mouse\", \"Animal - Mouse\", \"Animal - Mouse\", \"Animal - Mouse\", \"Animal - Mouse\", \"Animal - Mouse\", \"Animal - Mouse\", \"Animal - Mouse\", \"Animal - Mouse\", \"Animal - Mouse\", \"Animal - Mouse\", \"Animal - Mouse\", \"Animal - Mouse\", \"Animal - Mouse\", \"Animal - Mouse\", \"Animal - Mouse\", \"Animal - Mouse\", \"Animal - Mouse\", \"Animal - Mouse\", \"Animal - Mouse\", \"Animal - Mouse\", \"Animal - Mouse\", \"Animal - Mouse\", \"Animal - Mouse\", \"Animal - Mouse\", \"Animal - Mouse\", \"Animal - Mouse\", \"Animal - Mouse\", \"Animal - Mouse\", \"Animal - Mouse\", \"Animal - Mouse\"], \"xaxis\": \"x4\", \"y\": [0.1681, 0.0121, 0.1024, 0.7668, 0.74, 0.5, 0.34, 0.1989, 0.0129, 0.038, 0.1482, 0.78, 0.96, 0.695, 0.338, 0.01, 0.46, 0.76, 0.4096, 0.1024, 0.3025, 0.0196, 0.25, 0.5041, 0.7327, 0.3364, 0.2401, 0.1369, 0.2304, 0.1225, 0.779, 0.82, 0.0361, 0.0576, 0.3481, 0.49, 0.7396, 0.7569, 0.4624, 0.6561, 0.4356, 0.36, 0.5625, 0.1521, 0.7056, 0.0676, 0.1089, 0.4356, 0.6724, 0.7569, 0.8649, 0.2872, 0.9801, 0.0564, 0.1987, 0.5707, 0.2973, 0.7, 0.7, 0.68, 0.66, 0.5184, 0.7569, 0.8281, 0.5329, 0.6241000000000001], \"yaxis\": \"y4\"}, {\"boxpoints\": \"all\", \"name\": \"Animal - Rat\", \"text\": [\"AD - Aojula et al., 2016\", \"RD - Aojula et al., 2016\", \"MD - Aojula et al., 2016\", \"FA - Aojula et al., 2016\", \"T1 - Hakkarainen et al., 2016\", \"T2p - Hakkarainen et al., 2016\", \"RAFF - Hakkarainen et al., 2016\", \"T1p - Hakkarainen et al., 2016\", \"MTR - Hakkarainen et al., 2016\", \"T2 - Hakkarainen et al., 2016\", \"k_mf - Janve et al., 2013\", \"MPF - Janve et al., 2013\", \"RD - Janve et al., 2013\", \"R1f - Janve et al., 2013\", \"AD - Janve et al., 2013\", \"MD - Janve et al., 2013\", \"FA - Janve et al., 2013\", \"RD - Lehto et al., 2017a\", \"RAFF - Lehto et al., 2017a\", \"MTR - Lehto et al., 2017a\", \"AD - Lehto et al., 2017a\", \"T1sat - Lehto et al., 2017a\", \"FA - Lehto et al., 2017a\", \"MD - Lehto et al., 2017a\", \"MTR - Lehto et al., 2017b\", \"AD - Tu et al., 2016\", \"MD - Tu et al., 2016\", \"RD - Tu et al., 2016\", \"FA - Tu et al., 2016\", \"MTR - Tu et al., 2016\", \"FA - Wang et al., 2009\", \"RD - Wang et al., 2009\", \"FA - van Tilborg et al., 2017\"], \"type\": \"box\", \"x\": [\"Animal - Rat\", \"Animal - Rat\", \"Animal - Rat\", \"Animal - Rat\", \"Animal - Rat\", \"Animal - Rat\", \"Animal - Rat\", \"Animal - Rat\", \"Animal - Rat\", \"Animal - Rat\", \"Animal - Rat\", \"Animal - Rat\", \"Animal - Rat\", \"Animal - Rat\", \"Animal - Rat\", \"Animal - Rat\", \"Animal - Rat\", \"Animal - Rat\", \"Animal - Rat\", \"Animal - Rat\", \"Animal - Rat\", \"Animal - Rat\", \"Animal - Rat\", \"Animal - Rat\", \"Animal - Rat\", \"Animal - Rat\", \"Animal - Rat\", \"Animal - Rat\", \"Animal - Rat\", \"Animal - Rat\", \"Animal - Rat\", \"Animal - Rat\", \"Animal - Rat\"], \"xaxis\": \"x4\", \"y\": [0.1296, 0.2097, 0.245, 0.1197, 0.77, 0.34, 0.84, 0.63, 0.34, 0.18, 0.0256, 0.7225, 0.2401, 0.0961, 0.0064, 0.0784, 0.0729, 0.0015, 0.552, 0.5169, 0.4199, 0.49, 0.2237, 0.3492, 0.94, 0.0001, 0.0289, 0.2116, 0.0169, 0.1444, 0.4637, 0.2787, 0.334], \"yaxis\": \"y4\"}, {\"boxpoints\": \"all\", \"name\": \"Human\", \"text\": [\"QSM - Hametner et al., 2018\", \"T1 - Hametner et al., 2018\", \"R2* - Hametner et al., 2018\", \"MWF - Laule et al., 2006\", \"MWF - Laule et al., 2008\", \"FA - Mollink et al., 2019\", \"T1 - Reeves et al., 2016\", \"T2 - Reeves et al., 2016\", \"MTR - Schmierer et al., 2004\", \"T1 - Schmierer et al., 2004\", \"T2m - Schmierer et al., 2007a\", \"T1 - Schmierer et al., 2007a\", \"MPF - Schmierer et al., 2007a\", \"MTR - Schmierer et al., 2007a\", \"FA - Schmierer et al., 2007b\", \"MD - Schmierer et al., 2007b\", \"RD - Schmierer et al., 2008\", \"AD - Schmierer et al., 2008\", \"MD - Schmierer et al., 2008\", \"T1 - Schmierer et al., 2008\", \"T2 - Schmierer et al., 2008\", \"FA - Schmierer et al., 2008\", \"MPF - Schmierer et al., 2008\", \"MTR - Schmierer et al., 2008\", \"PD - Tardif et al., 2012\", \"MTR - Tardif et al., 2012\", \"T2 - Tardif et al., 2012\", \"T1 - Tardif et al., 2012\"], \"type\": \"box\", \"x\": [\"Human\", \"Human\", \"Human\", \"Human\", \"Human\", \"Human\", \"Human\", \"Human\", \"Human\", \"Human\", \"Human\", \"Human\", \"Human\", \"Human\", \"Human\", \"Human\", \"Human\", \"Human\", \"Human\", \"Human\", \"Human\", \"Human\", \"Human\", \"Human\", \"Human\", \"Human\", \"Human\", \"Human\"], \"xaxis\": \"x4\", \"y\": [0.1239, 0.3398, 0.0007, 0.67, 0.78, 0.2704, 0.27, 0.235, 0.7055999999999999, 0.48999999999999994, 0.0001, 0.4760999999999999, 0.6400000000000001, 0.7055999999999999, 0.6241000000000001, 0.4624000000000001, 0.6561, 0.64, 0.6084, 0.7921, 0.8464, 0.6889, 0.7396, 0.4624, 0.3481, 0.36, 0.4225, 0.5929], \"yaxis\": \"y4\"}],\n                        {\"annotations\": [{\"font\": {\"size\": 16}, \"showarrow\": false, \"text\": \"R<sup>2</sup> values and magnetic fields\", \"x\": 0.225, \"xanchor\": \"center\", \"xref\": \"paper\", \"y\": 1.0, \"yanchor\": \"bottom\", \"yref\": \"paper\"}, {\"font\": {\"size\": 16}, \"showarrow\": false, \"text\": \"R<sup>2</sup> values and tissue conditions\", \"x\": 0.775, \"xanchor\": \"center\", \"xref\": \"paper\", \"y\": 1.0, \"yanchor\": \"bottom\", \"yref\": \"paper\"}, {\"font\": {\"size\": 16}, \"showarrow\": false, \"text\": \"R<sup>2</sup> values and co-registration\", \"x\": 0.225, \"xanchor\": \"center\", \"xref\": \"paper\", \"y\": 0.41000000000000003, \"yanchor\": \"bottom\", \"yref\": \"paper\"}, {\"font\": {\"size\": 16}, \"showarrow\": false, \"text\": \"R<sup>2</sup> values and human/animal tissue\", \"x\": 0.775, \"xanchor\": \"center\", \"xref\": \"paper\", \"y\": 0.41000000000000003, \"yanchor\": \"bottom\", \"yref\": \"paper\"}, {\"font\": {\"size\": 16}, \"showarrow\": false, \"text\": \"R<sup>2</sup>\", \"textangle\": -90, \"x\": 0, \"xanchor\": \"right\", \"xref\": \"paper\", \"xshift\": -40, \"y\": 0.5, \"yanchor\": \"middle\", \"yref\": \"paper\"}, {\"font\": {\"color\": \"gray\", \"size\": 8}, \"showarrow\": false, \"text\": \"<a href=\\\"https://neurolibre.com\\\" target=\\\"_blank\\\" style=\\\"color:gray!important\\\">NeuroLibre</a>\", \"x\": 1, \"xref\": \"paper\", \"y\": -0.2, \"yref\": \"paper\"}], \"height\": 600, \"images\": [{\"opacity\": 0.9, \"sizex\": 0.04, \"sizey\": 0.04, \"source\": \"https://raw.githubusercontent.com/notebook-factory/brand/main/nlibre_custom2.svg\", \"x\": 0.88, \"xref\": \"paper\", \"y\": -0.15200000000000002, \"yref\": \"paper\"}], \"margin\": {\"l\": 100}, \"showlegend\": false, \"template\": {\"data\": {\"bar\": [{\"error_x\": {\"color\": \"#2a3f5f\"}, \"error_y\": {\"color\": \"#2a3f5f\"}, \"marker\": {\"line\": {\"color\": \"#E5ECF6\", \"width\": 0.5}}, \"type\": \"bar\"}], \"barpolar\": [{\"marker\": {\"line\": {\"color\": \"#E5ECF6\", \"width\": 0.5}}, \"type\": \"barpolar\"}], \"carpet\": [{\"aaxis\": {\"endlinecolor\": \"#2a3f5f\", \"gridcolor\": \"white\", \"linecolor\": \"white\", \"minorgridcolor\": \"white\", \"startlinecolor\": \"#2a3f5f\"}, \"baxis\": {\"endlinecolor\": \"#2a3f5f\", \"gridcolor\": \"white\", \"linecolor\": \"white\", \"minorgridcolor\": \"white\", \"startlinecolor\": \"#2a3f5f\"}, \"type\": \"carpet\"}], \"choropleth\": [{\"colorbar\": {\"outlinewidth\": 0, \"ticks\": \"\"}, \"type\": \"choropleth\"}], \"contour\": [{\"colorbar\": {\"outlinewidth\": 0, \"ticks\": \"\"}, \"colorscale\": [[0.0, \"#0d0887\"], [0.1111111111111111, \"#46039f\"], [0.2222222222222222, \"#7201a8\"], [0.3333333333333333, \"#9c179e\"], [0.4444444444444444, \"#bd3786\"], [0.5555555555555556, \"#d8576b\"], [0.6666666666666666, \"#ed7953\"], [0.7777777777777778, \"#fb9f3a\"], [0.8888888888888888, \"#fdca26\"], [1.0, \"#f0f921\"]], \"type\": \"contour\"}], \"contourcarpet\": [{\"colorbar\": {\"outlinewidth\": 0, \"ticks\": \"\"}, \"type\": \"contourcarpet\"}], \"heatmap\": [{\"colorbar\": {\"outlinewidth\": 0, \"ticks\": \"\"}, \"colorscale\": [[0.0, \"#0d0887\"], [0.1111111111111111, \"#46039f\"], [0.2222222222222222, \"#7201a8\"], [0.3333333333333333, \"#9c179e\"], [0.4444444444444444, \"#bd3786\"], [0.5555555555555556, \"#d8576b\"], [0.6666666666666666, \"#ed7953\"], [0.7777777777777778, \"#fb9f3a\"], [0.8888888888888888, \"#fdca26\"], [1.0, \"#f0f921\"]], \"type\": \"heatmap\"}], \"heatmapgl\": [{\"colorbar\": {\"outlinewidth\": 0, \"ticks\": \"\"}, \"colorscale\": [[0.0, \"#0d0887\"], [0.1111111111111111, \"#46039f\"], [0.2222222222222222, \"#7201a8\"], [0.3333333333333333, \"#9c179e\"], [0.4444444444444444, \"#bd3786\"], [0.5555555555555556, \"#d8576b\"], [0.6666666666666666, \"#ed7953\"], [0.7777777777777778, \"#fb9f3a\"], [0.8888888888888888, \"#fdca26\"], [1.0, \"#f0f921\"]], \"type\": \"heatmapgl\"}], \"histogram\": [{\"marker\": {\"colorbar\": {\"outlinewidth\": 0, \"ticks\": \"\"}}, \"type\": \"histogram\"}], \"histogram2d\": [{\"colorbar\": {\"outlinewidth\": 0, \"ticks\": \"\"}, \"colorscale\": [[0.0, \"#0d0887\"], [0.1111111111111111, \"#46039f\"], [0.2222222222222222, \"#7201a8\"], [0.3333333333333333, \"#9c179e\"], [0.4444444444444444, \"#bd3786\"], [0.5555555555555556, \"#d8576b\"], [0.6666666666666666, \"#ed7953\"], [0.7777777777777778, \"#fb9f3a\"], [0.8888888888888888, \"#fdca26\"], [1.0, \"#f0f921\"]], \"type\": \"histogram2d\"}], \"histogram2dcontour\": [{\"colorbar\": {\"outlinewidth\": 0, \"ticks\": \"\"}, \"colorscale\": [[0.0, \"#0d0887\"], [0.1111111111111111, \"#46039f\"], [0.2222222222222222, \"#7201a8\"], [0.3333333333333333, \"#9c179e\"], [0.4444444444444444, \"#bd3786\"], [0.5555555555555556, \"#d8576b\"], [0.6666666666666666, \"#ed7953\"], [0.7777777777777778, \"#fb9f3a\"], [0.8888888888888888, \"#fdca26\"], [1.0, \"#f0f921\"]], \"type\": \"histogram2dcontour\"}], \"mesh3d\": [{\"colorbar\": {\"outlinewidth\": 0, \"ticks\": \"\"}, \"type\": \"mesh3d\"}], \"parcoords\": [{\"line\": {\"colorbar\": {\"outlinewidth\": 0, \"ticks\": \"\"}}, \"type\": \"parcoords\"}], \"pie\": [{\"automargin\": true, \"type\": \"pie\"}], \"scatter\": [{\"marker\": {\"colorbar\": {\"outlinewidth\": 0, \"ticks\": \"\"}}, \"type\": \"scatter\"}], \"scatter3d\": [{\"line\": {\"colorbar\": {\"outlinewidth\": 0, \"ticks\": \"\"}}, \"marker\": {\"colorbar\": {\"outlinewidth\": 0, \"ticks\": \"\"}}, \"type\": \"scatter3d\"}], \"scattercarpet\": [{\"marker\": {\"colorbar\": {\"outlinewidth\": 0, \"ticks\": \"\"}}, \"type\": \"scattercarpet\"}], \"scattergeo\": [{\"marker\": {\"colorbar\": {\"outlinewidth\": 0, \"ticks\": \"\"}}, \"type\": \"scattergeo\"}], \"scattergl\": [{\"marker\": {\"colorbar\": {\"outlinewidth\": 0, \"ticks\": \"\"}}, \"type\": \"scattergl\"}], \"scattermapbox\": [{\"marker\": {\"colorbar\": {\"outlinewidth\": 0, \"ticks\": \"\"}}, \"type\": \"scattermapbox\"}], \"scatterpolar\": [{\"marker\": {\"colorbar\": {\"outlinewidth\": 0, \"ticks\": \"\"}}, \"type\": \"scatterpolar\"}], \"scatterpolargl\": [{\"marker\": {\"colorbar\": {\"outlinewidth\": 0, \"ticks\": \"\"}}, \"type\": \"scatterpolargl\"}], \"scatterternary\": [{\"marker\": {\"colorbar\": {\"outlinewidth\": 0, \"ticks\": \"\"}}, \"type\": \"scatterternary\"}], \"surface\": [{\"colorbar\": {\"outlinewidth\": 0, \"ticks\": \"\"}, \"colorscale\": [[0.0, \"#0d0887\"], [0.1111111111111111, \"#46039f\"], [0.2222222222222222, \"#7201a8\"], [0.3333333333333333, \"#9c179e\"], [0.4444444444444444, \"#bd3786\"], [0.5555555555555556, \"#d8576b\"], [0.6666666666666666, \"#ed7953\"], [0.7777777777777778, \"#fb9f3a\"], [0.8888888888888888, \"#fdca26\"], [1.0, \"#f0f921\"]], \"type\": \"surface\"}], \"table\": [{\"cells\": {\"fill\": {\"color\": \"#EBF0F8\"}, \"line\": {\"color\": \"white\"}}, \"header\": {\"fill\": {\"color\": \"#C8D4E3\"}, \"line\": {\"color\": \"white\"}}, \"type\": \"table\"}]}, \"layout\": {\"annotationdefaults\": {\"arrowcolor\": \"#2a3f5f\", \"arrowhead\": 0, \"arrowwidth\": 1}, \"coloraxis\": {\"colorbar\": {\"outlinewidth\": 0, \"ticks\": \"\"}}, \"colorscale\": {\"diverging\": [[0, \"#8e0152\"], [0.1, \"#c51b7d\"], [0.2, \"#de77ae\"], [0.3, \"#f1b6da\"], [0.4, \"#fde0ef\"], [0.5, \"#f7f7f7\"], [0.6, \"#e6f5d0\"], [0.7, \"#b8e186\"], [0.8, \"#7fbc41\"], [0.9, \"#4d9221\"], [1, \"#276419\"]], \"sequential\": [[0.0, \"#0d0887\"], [0.1111111111111111, \"#46039f\"], [0.2222222222222222, \"#7201a8\"], [0.3333333333333333, \"#9c179e\"], [0.4444444444444444, \"#bd3786\"], [0.5555555555555556, \"#d8576b\"], [0.6666666666666666, \"#ed7953\"], [0.7777777777777778, \"#fb9f3a\"], [0.8888888888888888, \"#fdca26\"], [1.0, \"#f0f921\"]], \"sequentialminus\": [[0.0, \"#0d0887\"], [0.1111111111111111, \"#46039f\"], [0.2222222222222222, \"#7201a8\"], [0.3333333333333333, \"#9c179e\"], [0.4444444444444444, \"#bd3786\"], [0.5555555555555556, \"#d8576b\"], [0.6666666666666666, \"#ed7953\"], [0.7777777777777778, \"#fb9f3a\"], [0.8888888888888888, \"#fdca26\"], [1.0, \"#f0f921\"]]}, \"colorway\": [\"#636efa\", \"#EF553B\", \"#00cc96\", \"#ab63fa\", \"#FFA15A\", \"#19d3f3\", \"#FF6692\", \"#B6E880\", \"#FF97FF\", \"#FECB52\"], \"font\": {\"color\": \"#2a3f5f\"}, \"geo\": {\"bgcolor\": \"white\", \"lakecolor\": \"white\", \"landcolor\": \"#E5ECF6\", \"showlakes\": true, \"showland\": true, \"subunitcolor\": \"white\"}, \"hoverlabel\": {\"align\": \"left\"}, \"hovermode\": \"closest\", \"mapbox\": {\"style\": \"light\"}, \"paper_bgcolor\": \"white\", \"plot_bgcolor\": \"#E5ECF6\", \"polar\": {\"angularaxis\": {\"gridcolor\": \"white\", \"linecolor\": \"white\", \"ticks\": \"\"}, \"bgcolor\": \"#E5ECF6\", \"radialaxis\": {\"gridcolor\": \"white\", \"linecolor\": \"white\", \"ticks\": \"\"}}, \"scene\": {\"xaxis\": {\"backgroundcolor\": \"#E5ECF6\", \"gridcolor\": \"white\", \"gridwidth\": 2, \"linecolor\": \"white\", \"showbackground\": true, \"ticks\": \"\", \"zerolinecolor\": \"white\"}, \"yaxis\": {\"backgroundcolor\": \"#E5ECF6\", \"gridcolor\": \"white\", \"gridwidth\": 2, \"linecolor\": \"white\", \"showbackground\": true, \"ticks\": \"\", \"zerolinecolor\": \"white\"}, \"zaxis\": {\"backgroundcolor\": \"#E5ECF6\", \"gridcolor\": \"white\", \"gridwidth\": 2, \"linecolor\": \"white\", \"showbackground\": true, \"ticks\": \"\", \"zerolinecolor\": \"white\"}}, \"shapedefaults\": {\"line\": {\"color\": \"#2a3f5f\"}}, \"ternary\": {\"aaxis\": {\"gridcolor\": \"white\", \"linecolor\": \"white\", \"ticks\": \"\"}, \"baxis\": {\"gridcolor\": \"white\", \"linecolor\": \"white\", \"ticks\": \"\"}, \"bgcolor\": \"#E5ECF6\", \"caxis\": {\"gridcolor\": \"white\", \"linecolor\": \"white\", \"ticks\": \"\"}}, \"title\": {\"x\": 0.05}, \"xaxis\": {\"automargin\": true, \"gridcolor\": \"white\", \"linecolor\": \"white\", \"ticks\": \"\", \"title\": {\"standoff\": 15}, \"zerolinecolor\": \"white\", \"zerolinewidth\": 2}, \"yaxis\": {\"automargin\": true, \"gridcolor\": \"white\", \"linecolor\": \"white\", \"ticks\": \"\", \"title\": {\"standoff\": 15}, \"zerolinecolor\": \"white\", \"zerolinewidth\": 2}}}, \"title\": {\"text\": \"Figure 8: Other factors to consider when assessing R<sup>2</sup>\", \"x\": 0.1}, \"width\": 700, \"xaxis\": {\"anchor\": \"y\", \"domain\": [0.0, 0.45], \"title\": {\"text\": \"Magnetic field [T]\"}}, \"xaxis2\": {\"anchor\": \"y2\", \"domain\": [0.55, 1.0]}, \"xaxis3\": {\"anchor\": \"y3\", \"domain\": [0.0, 0.45]}, \"xaxis4\": {\"anchor\": \"y4\", \"domain\": [0.55, 1.0]}, \"yaxis\": {\"anchor\": \"x\", \"domain\": [0.5900000000000001, 1.0]}, \"yaxis2\": {\"anchor\": \"x2\", \"domain\": [0.5900000000000001, 1.0]}, \"yaxis3\": {\"anchor\": \"x3\", \"domain\": [0.0, 0.41000000000000003]}, \"yaxis4\": {\"anchor\": \"x4\", \"domain\": [0.0, 0.41000000000000003]}},\n                        {\"responsive\": true}\n                    ).then(function(){\n                            \nvar gd = document.getElementById('91e4f2af-b685-4fc2-8b40-d1a785943136');\nvar x = new MutationObserver(function (mutations, observer) {{\n        var display = window.getComputedStyle(gd).display;\n        if (!display || display === 'none') {{\n            console.log([gd, 'removed!']);\n            Plotly.purge(gd);\n            observer.disconnect();\n        }}\n}});\n\n// Listen for the removal of the full notebook cells\nvar notebookContainer = gd.closest('#notebook-container');\nif (notebookContainer) {{\n    x.observe(notebookContainer, {childList: true});\n}}\n\n// Listen for the clearing of the current output cell\nvar outputEl = gd.closest('.output');\nif (outputEl) {{\n    x.observe(outputEl, {childList: true});\n}}\n\n                        })\n                };\n                });\n            </script>\n        </div>"
     },
     "metadata": {},
     "output_type": "display_data"
    }
   ],
   "source": [
    "measure_type = {'Diffusion':['RD', 'AD', 'FA', 'MD',\n",
    "                'AWF', 'RK', 'RDe', 'MK'],\n",
    "                'Magnetization transfer':['MTR',\n",
    "                'ihMTR', 'MTR-UTE', 'MPF', 'MVF-MT',\n",
    "                'R1f', 'T2m', 'T2f', 'k_mf','k_fm'],\n",
    "                'T1 relaxometry':['T1'], 'T2 relaxometry':['T2', 'MWF', 'MVF-T2'],\n",
    "                'Other':['QSM', 'R2*', 'rSPF', 'MTV',\n",
    "                'T1p', 'T2p', 'RAFF', 'PD', 'T1sat']}\n",
    "\n",
    "color_dict = {m:plotly.colors.qualitative.Bold[n]\n",
    "              for n,m in enumerate(measure_type.keys())}\n",
    "\n",
    "fig8 = make_subplots(rows=2, cols=2, start_cell=\"top-left\", vertical_spacing=0.18, y_title='R<sup>2</sup>',\n",
    "                     subplot_titles=['R<sup>2</sup> values and magnetic fields',\n",
    "                                     'R<sup>2</sup> values and tissue conditions',\n",
    "                                     'R<sup>2</sup> values and co-registration',\n",
    "                                     'R<sup>2</sup> values and human/animal tissue'\n",
    "                                    ])\n",
    "\n",
    "for m in measure_type.keys():\n",
    "    df_m=filtered_df[filtered_df[\"Measure\"].isin(measure_type[m])]\n",
    "    fig8.add_trace(go.Scatter(x=df_m['Magnetic field'],\n",
    "                              y=df_m['R^2'],\n",
    "                              text=df_m['Measure'] + ' - ' + df_m['Study'],\n",
    "                              marker=dict(color=color_dict[m]),\n",
    "                              name=m,\n",
    "                              mode='markers'), col=1, row=1)\n",
    "\n",
    "fig8.update_layout(\n",
    "    xaxis=dict(title='Magnetic field [T]')\n",
    ")\n",
    "\n",
    "for t in filtered_df['Tissue condition'].unique():\n",
    "    df_t=filtered_df[filtered_df['Tissue condition']==t]\n",
    "    fig8.add_trace(go.Box(\n",
    "        y=df_t['R^2'],\n",
    "        x=df_t['Tissue condition'],\n",
    "        boxpoints='all',\n",
    "        text=df_t['Measure'] + ' - ' + df_t['Study'],\n",
    "        name=t\n",
    "    ), col=2, row=1)\n",
    "    \n",
    "for t in filtered_df['Co-registration'].unique():\n",
    "    df_t=filtered_df[filtered_df['Co-registration']==t]\n",
    "    fig8.add_trace(go.Box(\n",
    "        y=df_t['R^2'],\n",
    "        x=df_t['Co-registration'],\n",
    "        boxpoints='all',\n",
    "        text=df_t['Measure'] + ' - ' + df_t['Study'],\n",
    "        name=t\n",
    "    ), col=1, row=2)\n",
    "    \n",
    "for t in filtered_df['Human/animal'].unique():\n",
    "    df_t=filtered_df[filtered_df['Human/animal']==t]\n",
    "    fig8.add_trace(go.Box(\n",
    "        y=df_t['R^2'],\n",
    "        x=df_t['Human/animal'],\n",
    "        boxpoints='all',\n",
    "        text=df_t['Measure'] + ' - ' + df_t['Study'],\n",
    "        name=t\n",
    "    ), col=2, row=2)\n",
    "\n",
    "fig8.update_layout(\n",
    "    title=dict(text='Figure 8: Other factors to consider when assessing R<sup>2</sup>', x=0.1),\n",
    "    margin=dict(l=100),\n",
    "    showlegend=False,\n",
    "    height=600,\n",
    "    width=700\n",
    ")    \n",
    "  \n",
    "plot(insertLogo(fig8,0.04,0.04,1,-0.2,-0.12,0.048), filename = 'fig8.html',config = config)\n",
    "# display(HTML('fig8.html'))\n",
    "\n",
    "fig8.show()"
   ]
  },
  {
   "cell_type": "code",
   "execution_count": 10,
   "outputs": [],
   "source": [],
   "metadata": {
    "collapsed": false,
    "pycharm": {
     "name": "#%%\n"
    }
   }
  },
  {
   "cell_type": "code",
   "execution_count": null,
   "outputs": [],
   "source": [],
   "metadata": {
    "collapsed": false,
    "pycharm": {
     "name": "#%%\n"
    }
   }
  }
 ],
 "metadata": {
  "celltoolbar": "Edit Metadata",
  "kernelspec": {
   "display_name": "Python 3",
   "language": "python",
   "name": "python3"
  },
  "language_info": {
   "codemirror_mode": {
    "name": "ipython",
    "version": 3
   },
   "file_extension": ".py",
   "mimetype": "text/x-python",
   "name": "python",
   "nbconvert_exporter": "python",
   "pygments_lexer": "ipython3",
   "version": "3.6.12"
  },
  "latex_envs": {
   "LaTeX_envs_menu_present": true,
   "autoclose": false,
   "autocomplete": true,
   "bibliofile": "biblio.bib",
   "cite_by": "apalike",
   "current_citInitial": 1,
   "eqLabelWithNumbers": true,
   "eqNumInitial": 1,
   "hotkeys": {
    "equation": "Ctrl-E",
    "itemize": "Ctrl-I"
   },
   "labels_anchors": false,
   "latex_user_defs": false,
   "report_style_numbering": false,
   "user_envs_cfg": false
  },
  "varInspector": {
   "cols": {
    "lenName": 16,
    "lenType": 16,
    "lenVar": 40
   },
   "kernels_config": {
    "python": {
     "delete_cmd_postfix": "",
     "delete_cmd_prefix": "del ",
     "library": "var_list.py",
     "varRefreshCmd": "print(var_dic_list())"
    },
    "r": {
     "delete_cmd_postfix": ") ",
     "delete_cmd_prefix": "rm(",
     "library": "var_list.r",
     "varRefreshCmd": "cat(var_dic_list()) "
    }
   },
   "types_to_exclude": [
    "module",
    "function",
    "builtin_function_or_method",
    "instance",
    "_Feature"
   ],
   "window_display": false
  }
 },
 "nbformat": 4,
 "nbformat_minor": 4
}