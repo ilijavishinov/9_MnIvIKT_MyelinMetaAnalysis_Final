{
 "cells": [
  {
   "cell_type": "markdown",
   "metadata": {},
   "source": [
    "## Literature overview\n",
    "\n",
    "First, how were the studies selected? We used the [Medline database](https://pubmed.ncbi.nlm.nih.gov) and retrieved all the records mentioning (1) myelin, (2) MRI and (3) histology (or a related technique). The full list of keywords is provided in the preprint.\n",
    "\n",
    "\n",
    "```{admonition} Figure 1\n",
    ":class: tip\n",
    "The Sankey diagram shows the screening procdess. You can hover with the mouse on each block and connection to see details about the number of studies and exclusion criteria.\n",
    "```"
   ]
  },
  {
   "cell_type": "code",
   "execution_count": 5,
   "metadata": {
    "tags": [
     "hide_input"
    ]
   },
   "outputs": [],
   "source": [
    "import numpy as np\n",
    "import pandas as pd\n",
    "\n",
    "import plotly.graph_objects as go\n",
    "from IPython.core.display import display, HTML\n",
    "from plotly.offline import plot\n",
    "import plotly.express as px\n",
    "import plotly.colors\n",
    "from plotly.subplots import make_subplots\n",
    "\n",
    "from rpy2.robjects.packages import importr\n",
    "import rpy2.robjects\n",
    "import subprocess\n",
    "subprocess.call('curl https://raw.githubusercontent.com/Notebook-Factory/brand/main/insertLogo.py --output /tmp/insertLogo.py', shell=True)\n",
    "def insertLogo(fig,scX,scY,posX,posY,imXshift,imYshift):\n",
    "    fig.layout.images = [dict(source=\"https://raw.githubusercontent.com/notebook-factory/brand/main/nlibre_custom2.svg\",xref=\"paper\", yref=\"paper\",x=posX+imXshift, y=posY+imYshift,\n",
    "                sizex=scX , sizey=scY, opacity = 0.9)]\n",
    "    fig.add_annotation(x=posX,y=posY,xref=\"paper\",yref=\"paper\",text=\"<a href=\\\"https://neurolibre.com\\\" target=\\\"_blank\\\" style=\\\"color:gray!important\\\">NeuroLibre</a>\",\n",
    "               showarrow = False, font=dict(size=8, color=\"gray\"))\n",
    "\n",
    "    return fig"
   ]
  },
  {
   "cell_type": "markdown",
   "metadata": {},
   "source": [
    "### Figure 1"
   ]
  },
  {
   "cell_type": "code",
   "execution_count": 6,
   "metadata": {
    "tags": [
     "hide_input"
    ]
   },
   "outputs": [
    {
     "data": {
      "application/vnd.plotly.v1+json": {
       "config": {
        "plotlyServerURL": "https://plot.ly"
       },
       "data": [
        {
         "arrangement": "freeform",
         "link": {
          "customdata": [
           "Records obtained from the Medline database",
           "Records obtained from previous reviews",
           "\n                    Exclusion critera:<br>\n                    - work relying only on MRI;<br>\n                    - work relying only on histology or equivalent approach;<br>\n                    - work reporting only qualitative comparisons.\n                  ",
           "Records selected for full-text evaluation",
           "\n                    Exclusion criteria:<br>\n                    - studies using MRI-based measures in arbitrary units;<br>\n                    - studies using measures of variation in myelin content;<br>\n                    - studies using arbitrary assessment scales;<br>\n                    - studies comparing absolute measures of myelin with relative measures;<br>\n                    - studies reporting other quantitative measures than correlation or R^2 values;<br>\n                    - studies comparing histology from one dataset and MRI from a different one.\n                  ",
           "Studies selected for literature overview",
           "\n                    Exclusion criteria:<br>\n                     - not providing an indication of both number of subjects and number of ROIs.\n                  "
          ],
          "hovertemplate": "%{customdata}",
          "source": [
           0,
           1,
           2,
           2,
           4,
           4,
           6
          ],
          "target": [
           2,
           2,
           3,
           4,
           5,
           6,
           7
          ],
          "value": [
           688,
           1,
           597,
           92,
           34,
           58,
           43
          ]
         },
         "node": {
          "color": [
           "darkblue",
           "darkblue",
           "darkblue",
           "darkred",
           "darkgreen",
           "darkred",
           "darkgreen",
           "darkgreen"
          ],
          "hovertemplate": "%{label}<extra>%{value}</extra>",
          "label": [
           "Main records identified (database searching)",
           "Additional records (reviews)",
           "Records screened",
           "Records excluded",
           "Full-text articles assessed for eligibility",
           "Full-text articles excluded",
           "Studied included in the literature overview",
           "Studies included in the meta-analysis"
          ],
          "line": {
           "color": "black",
           "width": 0.5
          },
          "pad": 80,
          "thickness": 10,
          "x": [
           0,
           0,
           0.4,
           0.6,
           0.5,
           0.8,
           0.7,
           1
          ],
          "y": [
           0,
           0,
           0.5,
           0.8,
           0.15,
           0.05,
           0.4,
           0.6
          ]
         },
         "type": "sankey"
        }
       ],
       "layout": {
        "annotations": [
         {
          "font": {
           "color": "gray",
           "size": 8
          },
          "showarrow": false,
          "text": "<a href=\"https://neurolibre.com\" target=\"_blank\" style=\"color:gray!important\">NeuroLibre</a>",
          "x": 1.1,
          "xref": "paper",
          "y": 0,
          "yref": "paper"
         }
        ],
        "font": {
         "size": 10
        },
        "height": 450,
        "images": [
         {
          "opacity": 0.9,
          "sizex": 0.07,
          "sizey": 0.07,
          "source": "https://raw.githubusercontent.com/notebook-factory/brand/main/nlibre_custom2.svg",
          "x": 0.9870000000000001,
          "xref": "paper",
          "y": 0.07,
          "yref": "paper"
         }
        ],
        "margin": {
         "l": 0
        },
        "template": {
         "data": {
          "bar": [
           {
            "error_x": {
             "color": "#2a3f5f"
            },
            "error_y": {
             "color": "#2a3f5f"
            },
            "marker": {
             "line": {
              "color": "#E5ECF6",
              "width": 0.5
             }
            },
            "type": "bar"
           }
          ],
          "barpolar": [
           {
            "marker": {
             "line": {
              "color": "#E5ECF6",
              "width": 0.5
             }
            },
            "type": "barpolar"
           }
          ],
          "carpet": [
           {
            "aaxis": {
             "endlinecolor": "#2a3f5f",
             "gridcolor": "white",
             "linecolor": "white",
             "minorgridcolor": "white",
             "startlinecolor": "#2a3f5f"
            },
            "baxis": {
             "endlinecolor": "#2a3f5f",
             "gridcolor": "white",
             "linecolor": "white",
             "minorgridcolor": "white",
             "startlinecolor": "#2a3f5f"
            },
            "type": "carpet"
           }
          ],
          "choropleth": [
           {
            "colorbar": {
             "outlinewidth": 0,
             "ticks": ""
            },
            "type": "choropleth"
           }
          ],
          "contour": [
           {
            "colorbar": {
             "outlinewidth": 0,
             "ticks": ""
            },
            "colorscale": [
             [
              0.0,
              "#0d0887"
             ],
             [
              0.1111111111111111,
              "#46039f"
             ],
             [
              0.2222222222222222,
              "#7201a8"
             ],
             [
              0.3333333333333333,
              "#9c179e"
             ],
             [
              0.4444444444444444,
              "#bd3786"
             ],
             [
              0.5555555555555556,
              "#d8576b"
             ],
             [
              0.6666666666666666,
              "#ed7953"
             ],
             [
              0.7777777777777778,
              "#fb9f3a"
             ],
             [
              0.8888888888888888,
              "#fdca26"
             ],
             [
              1.0,
              "#f0f921"
             ]
            ],
            "type": "contour"
           }
          ],
          "contourcarpet": [
           {
            "colorbar": {
             "outlinewidth": 0,
             "ticks": ""
            },
            "type": "contourcarpet"
           }
          ],
          "heatmap": [
           {
            "colorbar": {
             "outlinewidth": 0,
             "ticks": ""
            },
            "colorscale": [
             [
              0.0,
              "#0d0887"
             ],
             [
              0.1111111111111111,
              "#46039f"
             ],
             [
              0.2222222222222222,
              "#7201a8"
             ],
             [
              0.3333333333333333,
              "#9c179e"
             ],
             [
              0.4444444444444444,
              "#bd3786"
             ],
             [
              0.5555555555555556,
              "#d8576b"
             ],
             [
              0.6666666666666666,
              "#ed7953"
             ],
             [
              0.7777777777777778,
              "#fb9f3a"
             ],
             [
              0.8888888888888888,
              "#fdca26"
             ],
             [
              1.0,
              "#f0f921"
             ]
            ],
            "type": "heatmap"
           }
          ],
          "heatmapgl": [
           {
            "colorbar": {
             "outlinewidth": 0,
             "ticks": ""
            },
            "colorscale": [
             [
              0.0,
              "#0d0887"
             ],
             [
              0.1111111111111111,
              "#46039f"
             ],
             [
              0.2222222222222222,
              "#7201a8"
             ],
             [
              0.3333333333333333,
              "#9c179e"
             ],
             [
              0.4444444444444444,
              "#bd3786"
             ],
             [
              0.5555555555555556,
              "#d8576b"
             ],
             [
              0.6666666666666666,
              "#ed7953"
             ],
             [
              0.7777777777777778,
              "#fb9f3a"
             ],
             [
              0.8888888888888888,
              "#fdca26"
             ],
             [
              1.0,
              "#f0f921"
             ]
            ],
            "type": "heatmapgl"
           }
          ],
          "histogram": [
           {
            "marker": {
             "colorbar": {
              "outlinewidth": 0,
              "ticks": ""
             }
            },
            "type": "histogram"
           }
          ],
          "histogram2d": [
           {
            "colorbar": {
             "outlinewidth": 0,
             "ticks": ""
            },
            "colorscale": [
             [
              0.0,
              "#0d0887"
             ],
             [
              0.1111111111111111,
              "#46039f"
             ],
             [
              0.2222222222222222,
              "#7201a8"
             ],
             [
              0.3333333333333333,
              "#9c179e"
             ],
             [
              0.4444444444444444,
              "#bd3786"
             ],
             [
              0.5555555555555556,
              "#d8576b"
             ],
             [
              0.6666666666666666,
              "#ed7953"
             ],
             [
              0.7777777777777778,
              "#fb9f3a"
             ],
             [
              0.8888888888888888,
              "#fdca26"
             ],
             [
              1.0,
              "#f0f921"
             ]
            ],
            "type": "histogram2d"
           }
          ],
          "histogram2dcontour": [
           {
            "colorbar": {
             "outlinewidth": 0,
             "ticks": ""
            },
            "colorscale": [
             [
              0.0,
              "#0d0887"
             ],
             [
              0.1111111111111111,
              "#46039f"
             ],
             [
              0.2222222222222222,
              "#7201a8"
             ],
             [
              0.3333333333333333,
              "#9c179e"
             ],
             [
              0.4444444444444444,
              "#bd3786"
             ],
             [
              0.5555555555555556,
              "#d8576b"
             ],
             [
              0.6666666666666666,
              "#ed7953"
             ],
             [
              0.7777777777777778,
              "#fb9f3a"
             ],
             [
              0.8888888888888888,
              "#fdca26"
             ],
             [
              1.0,
              "#f0f921"
             ]
            ],
            "type": "histogram2dcontour"
           }
          ],
          "mesh3d": [
           {
            "colorbar": {
             "outlinewidth": 0,
             "ticks": ""
            },
            "type": "mesh3d"
           }
          ],
          "parcoords": [
           {
            "line": {
             "colorbar": {
              "outlinewidth": 0,
              "ticks": ""
             }
            },
            "type": "parcoords"
           }
          ],
          "pie": [
           {
            "automargin": true,
            "type": "pie"
           }
          ],
          "scatter": [
           {
            "marker": {
             "colorbar": {
              "outlinewidth": 0,
              "ticks": ""
             }
            },
            "type": "scatter"
           }
          ],
          "scatter3d": [
           {
            "line": {
             "colorbar": {
              "outlinewidth": 0,
              "ticks": ""
             }
            },
            "marker": {
             "colorbar": {
              "outlinewidth": 0,
              "ticks": ""
             }
            },
            "type": "scatter3d"
           }
          ],
          "scattercarpet": [
           {
            "marker": {
             "colorbar": {
              "outlinewidth": 0,
              "ticks": ""
             }
            },
            "type": "scattercarpet"
           }
          ],
          "scattergeo": [
           {
            "marker": {
             "colorbar": {
              "outlinewidth": 0,
              "ticks": ""
             }
            },
            "type": "scattergeo"
           }
          ],
          "scattergl": [
           {
            "marker": {
             "colorbar": {
              "outlinewidth": 0,
              "ticks": ""
             }
            },
            "type": "scattergl"
           }
          ],
          "scattermapbox": [
           {
            "marker": {
             "colorbar": {
              "outlinewidth": 0,
              "ticks": ""
             }
            },
            "type": "scattermapbox"
           }
          ],
          "scatterpolar": [
           {
            "marker": {
             "colorbar": {
              "outlinewidth": 0,
              "ticks": ""
             }
            },
            "type": "scatterpolar"
           }
          ],
          "scatterpolargl": [
           {
            "marker": {
             "colorbar": {
              "outlinewidth": 0,
              "ticks": ""
             }
            },
            "type": "scatterpolargl"
           }
          ],
          "scatterternary": [
           {
            "marker": {
             "colorbar": {
              "outlinewidth": 0,
              "ticks": ""
             }
            },
            "type": "scatterternary"
           }
          ],
          "surface": [
           {
            "colorbar": {
             "outlinewidth": 0,
             "ticks": ""
            },
            "colorscale": [
             [
              0.0,
              "#0d0887"
             ],
             [
              0.1111111111111111,
              "#46039f"
             ],
             [
              0.2222222222222222,
              "#7201a8"
             ],
             [
              0.3333333333333333,
              "#9c179e"
             ],
             [
              0.4444444444444444,
              "#bd3786"
             ],
             [
              0.5555555555555556,
              "#d8576b"
             ],
             [
              0.6666666666666666,
              "#ed7953"
             ],
             [
              0.7777777777777778,
              "#fb9f3a"
             ],
             [
              0.8888888888888888,
              "#fdca26"
             ],
             [
              1.0,
              "#f0f921"
             ]
            ],
            "type": "surface"
           }
          ],
          "table": [
           {
            "cells": {
             "fill": {
              "color": "#EBF0F8"
             },
             "line": {
              "color": "white"
             }
            },
            "header": {
             "fill": {
              "color": "#C8D4E3"
             },
             "line": {
              "color": "white"
             }
            },
            "type": "table"
           }
          ]
         },
         "layout": {
          "annotationdefaults": {
           "arrowcolor": "#2a3f5f",
           "arrowhead": 0,
           "arrowwidth": 1
          },
          "coloraxis": {
           "colorbar": {
            "outlinewidth": 0,
            "ticks": ""
           }
          },
          "colorscale": {
           "diverging": [
            [
             0,
             "#8e0152"
            ],
            [
             0.1,
             "#c51b7d"
            ],
            [
             0.2,
             "#de77ae"
            ],
            [
             0.3,
             "#f1b6da"
            ],
            [
             0.4,
             "#fde0ef"
            ],
            [
             0.5,
             "#f7f7f7"
            ],
            [
             0.6,
             "#e6f5d0"
            ],
            [
             0.7,
             "#b8e186"
            ],
            [
             0.8,
             "#7fbc41"
            ],
            [
             0.9,
             "#4d9221"
            ],
            [
             1,
             "#276419"
            ]
           ],
           "sequential": [
            [
             0.0,
             "#0d0887"
            ],
            [
             0.1111111111111111,
             "#46039f"
            ],
            [
             0.2222222222222222,
             "#7201a8"
            ],
            [
             0.3333333333333333,
             "#9c179e"
            ],
            [
             0.4444444444444444,
             "#bd3786"
            ],
            [
             0.5555555555555556,
             "#d8576b"
            ],
            [
             0.6666666666666666,
             "#ed7953"
            ],
            [
             0.7777777777777778,
             "#fb9f3a"
            ],
            [
             0.8888888888888888,
             "#fdca26"
            ],
            [
             1.0,
             "#f0f921"
            ]
           ],
           "sequentialminus": [
            [
             0.0,
             "#0d0887"
            ],
            [
             0.1111111111111111,
             "#46039f"
            ],
            [
             0.2222222222222222,
             "#7201a8"
            ],
            [
             0.3333333333333333,
             "#9c179e"
            ],
            [
             0.4444444444444444,
             "#bd3786"
            ],
            [
             0.5555555555555556,
             "#d8576b"
            ],
            [
             0.6666666666666666,
             "#ed7953"
            ],
            [
             0.7777777777777778,
             "#fb9f3a"
            ],
            [
             0.8888888888888888,
             "#fdca26"
            ],
            [
             1.0,
             "#f0f921"
            ]
           ]
          },
          "colorway": [
           "#636efa",
           "#EF553B",
           "#00cc96",
           "#ab63fa",
           "#FFA15A",
           "#19d3f3",
           "#FF6692",
           "#B6E880",
           "#FF97FF",
           "#FECB52"
          ],
          "font": {
           "color": "#2a3f5f"
          },
          "geo": {
           "bgcolor": "white",
           "lakecolor": "white",
           "landcolor": "#E5ECF6",
           "showlakes": true,
           "showland": true,
           "subunitcolor": "white"
          },
          "hoverlabel": {
           "align": "left"
          },
          "hovermode": "closest",
          "mapbox": {
           "style": "light"
          },
          "paper_bgcolor": "white",
          "plot_bgcolor": "#E5ECF6",
          "polar": {
           "angularaxis": {
            "gridcolor": "white",
            "linecolor": "white",
            "ticks": ""
           },
           "bgcolor": "#E5ECF6",
           "radialaxis": {
            "gridcolor": "white",
            "linecolor": "white",
            "ticks": ""
           }
          },
          "scene": {
           "xaxis": {
            "backgroundcolor": "#E5ECF6",
            "gridcolor": "white",
            "gridwidth": 2,
            "linecolor": "white",
            "showbackground": true,
            "ticks": "",
            "zerolinecolor": "white"
           },
           "yaxis": {
            "backgroundcolor": "#E5ECF6",
            "gridcolor": "white",
            "gridwidth": 2,
            "linecolor": "white",
            "showbackground": true,
            "ticks": "",
            "zerolinecolor": "white"
           },
           "zaxis": {
            "backgroundcolor": "#E5ECF6",
            "gridcolor": "white",
            "gridwidth": 2,
            "linecolor": "white",
            "showbackground": true,
            "ticks": "",
            "zerolinecolor": "white"
           }
          },
          "shapedefaults": {
           "line": {
            "color": "#2a3f5f"
           }
          },
          "ternary": {
           "aaxis": {
            "gridcolor": "white",
            "linecolor": "white",
            "ticks": ""
           },
           "baxis": {
            "gridcolor": "white",
            "linecolor": "white",
            "ticks": ""
           },
           "bgcolor": "#E5ECF6",
           "caxis": {
            "gridcolor": "white",
            "linecolor": "white",
            "ticks": ""
           }
          },
          "title": {
           "x": 0.05
          },
          "xaxis": {
           "automargin": true,
           "gridcolor": "white",
           "linecolor": "white",
           "ticks": "",
           "title": {
            "standoff": 15
           },
           "zerolinecolor": "white",
           "zerolinewidth": 2
          },
          "yaxis": {
           "automargin": true,
           "gridcolor": "white",
           "linecolor": "white",
           "ticks": "",
           "title": {
            "standoff": 15
           },
           "zerolinecolor": "white",
           "zerolinewidth": 2
          }
         }
        },
        "title": {
         "text": "Figure 1 - Review methodology"
        },
        "width": 650
       }
      },
      "text/html": "<div>\n        \n        \n            <div id=\"394ec859-01d7-4ffa-ac36-020932775720\" class=\"plotly-graph-div\" style=\"height:450px; width:650px;\"></div>\n            <script type=\"text/javascript\">\n                require([\"plotly\"], function(Plotly) {\n                    window.PLOTLYENV=window.PLOTLYENV || {};\n                    \n                if (document.getElementById(\"394ec859-01d7-4ffa-ac36-020932775720\")) {\n                    Plotly.newPlot(\n                        '394ec859-01d7-4ffa-ac36-020932775720',\n                        [{\"arrangement\": \"freeform\", \"link\": {\"customdata\": [\"Records obtained from the Medline database\", \"Records obtained from previous reviews\", \"\\n                    Exclusion critera:<br>\\n                    - work relying only on MRI;<br>\\n                    - work relying only on histology or equivalent approach;<br>\\n                    - work reporting only qualitative comparisons.\\n                  \", \"Records selected for full-text evaluation\", \"\\n                    Exclusion criteria:<br>\\n                    - studies using MRI-based measures in arbitrary units;<br>\\n                    - studies using measures of variation in myelin content;<br>\\n                    - studies using arbitrary assessment scales;<br>\\n                    - studies comparing absolute measures of myelin with relative measures;<br>\\n                    - studies reporting other quantitative measures than correlation or R^2 values;<br>\\n                    - studies comparing histology from one dataset and MRI from a different one.\\n                  \", \"Studies selected for literature overview\", \"\\n                    Exclusion criteria:<br>\\n                     - not providing an indication of both number of subjects and number of ROIs.\\n                  \"], \"hovertemplate\": \"%{customdata}\", \"source\": [0, 1, 2, 2, 4, 4, 6], \"target\": [2, 2, 3, 4, 5, 6, 7], \"value\": [688, 1, 597, 92, 34, 58, 43]}, \"node\": {\"color\": [\"darkblue\", \"darkblue\", \"darkblue\", \"darkred\", \"darkgreen\", \"darkred\", \"darkgreen\", \"darkgreen\"], \"hovertemplate\": \"%{label}<extra>%{value}</extra>\", \"label\": [\"Main records identified (database searching)\", \"Additional records (reviews)\", \"Records screened\", \"Records excluded\", \"Full-text articles assessed for eligibility\", \"Full-text articles excluded\", \"Studied included in the literature overview\", \"Studies included in the meta-analysis\"], \"line\": {\"color\": \"black\", \"width\": 0.5}, \"pad\": 80, \"thickness\": 10, \"x\": [0, 0, 0.4, 0.6, 0.5, 0.8, 0.7, 1], \"y\": [0, 0, 0.5, 0.8, 0.15, 0.05, 0.4, 0.6]}, \"type\": \"sankey\"}],\n                        {\"annotations\": [{\"font\": {\"color\": \"gray\", \"size\": 8}, \"showarrow\": false, \"text\": \"<a href=\\\"https://neurolibre.com\\\" target=\\\"_blank\\\" style=\\\"color:gray!important\\\">NeuroLibre</a>\", \"x\": 1.1, \"xref\": \"paper\", \"y\": 0, \"yref\": \"paper\"}], \"font\": {\"size\": 10}, \"height\": 450, \"images\": [{\"opacity\": 0.9, \"sizex\": 0.07, \"sizey\": 0.07, \"source\": \"https://raw.githubusercontent.com/notebook-factory/brand/main/nlibre_custom2.svg\", \"x\": 0.9870000000000001, \"xref\": \"paper\", \"y\": 0.07, \"yref\": \"paper\"}], \"margin\": {\"l\": 0}, \"template\": {\"data\": {\"bar\": [{\"error_x\": {\"color\": \"#2a3f5f\"}, \"error_y\": {\"color\": \"#2a3f5f\"}, \"marker\": {\"line\": {\"color\": \"#E5ECF6\", \"width\": 0.5}}, \"type\": \"bar\"}], \"barpolar\": [{\"marker\": {\"line\": {\"color\": \"#E5ECF6\", \"width\": 0.5}}, \"type\": \"barpolar\"}], \"carpet\": [{\"aaxis\": {\"endlinecolor\": \"#2a3f5f\", \"gridcolor\": \"white\", \"linecolor\": \"white\", \"minorgridcolor\": \"white\", \"startlinecolor\": \"#2a3f5f\"}, \"baxis\": {\"endlinecolor\": \"#2a3f5f\", \"gridcolor\": \"white\", \"linecolor\": \"white\", \"minorgridcolor\": \"white\", \"startlinecolor\": \"#2a3f5f\"}, \"type\": \"carpet\"}], \"choropleth\": [{\"colorbar\": {\"outlinewidth\": 0, \"ticks\": \"\"}, \"type\": \"choropleth\"}], \"contour\": [{\"colorbar\": {\"outlinewidth\": 0, \"ticks\": \"\"}, \"colorscale\": [[0.0, \"#0d0887\"], [0.1111111111111111, \"#46039f\"], [0.2222222222222222, \"#7201a8\"], [0.3333333333333333, \"#9c179e\"], [0.4444444444444444, \"#bd3786\"], [0.5555555555555556, \"#d8576b\"], [0.6666666666666666, \"#ed7953\"], [0.7777777777777778, \"#fb9f3a\"], [0.8888888888888888, \"#fdca26\"], [1.0, \"#f0f921\"]], \"type\": \"contour\"}], \"contourcarpet\": [{\"colorbar\": {\"outlinewidth\": 0, \"ticks\": \"\"}, \"type\": \"contourcarpet\"}], \"heatmap\": [{\"colorbar\": {\"outlinewidth\": 0, \"ticks\": \"\"}, \"colorscale\": [[0.0, \"#0d0887\"], [0.1111111111111111, \"#46039f\"], [0.2222222222222222, \"#7201a8\"], [0.3333333333333333, \"#9c179e\"], [0.4444444444444444, \"#bd3786\"], [0.5555555555555556, \"#d8576b\"], [0.6666666666666666, \"#ed7953\"], [0.7777777777777778, \"#fb9f3a\"], [0.8888888888888888, \"#fdca26\"], [1.0, \"#f0f921\"]], \"type\": \"heatmap\"}], \"heatmapgl\": [{\"colorbar\": {\"outlinewidth\": 0, \"ticks\": \"\"}, \"colorscale\": [[0.0, \"#0d0887\"], [0.1111111111111111, \"#46039f\"], [0.2222222222222222, \"#7201a8\"], [0.3333333333333333, \"#9c179e\"], [0.4444444444444444, \"#bd3786\"], [0.5555555555555556, \"#d8576b\"], [0.6666666666666666, \"#ed7953\"], [0.7777777777777778, \"#fb9f3a\"], [0.8888888888888888, \"#fdca26\"], [1.0, \"#f0f921\"]], \"type\": \"heatmapgl\"}], \"histogram\": [{\"marker\": {\"colorbar\": {\"outlinewidth\": 0, \"ticks\": \"\"}}, \"type\": \"histogram\"}], \"histogram2d\": [{\"colorbar\": {\"outlinewidth\": 0, \"ticks\": \"\"}, \"colorscale\": [[0.0, \"#0d0887\"], [0.1111111111111111, \"#46039f\"], [0.2222222222222222, \"#7201a8\"], [0.3333333333333333, \"#9c179e\"], [0.4444444444444444, \"#bd3786\"], [0.5555555555555556, \"#d8576b\"], [0.6666666666666666, \"#ed7953\"], [0.7777777777777778, \"#fb9f3a\"], [0.8888888888888888, \"#fdca26\"], [1.0, \"#f0f921\"]], \"type\": \"histogram2d\"}], \"histogram2dcontour\": [{\"colorbar\": {\"outlinewidth\": 0, \"ticks\": \"\"}, \"colorscale\": [[0.0, \"#0d0887\"], [0.1111111111111111, \"#46039f\"], [0.2222222222222222, \"#7201a8\"], [0.3333333333333333, \"#9c179e\"], [0.4444444444444444, \"#bd3786\"], [0.5555555555555556, \"#d8576b\"], [0.6666666666666666, \"#ed7953\"], [0.7777777777777778, \"#fb9f3a\"], [0.8888888888888888, \"#fdca26\"], [1.0, \"#f0f921\"]], \"type\": \"histogram2dcontour\"}], \"mesh3d\": [{\"colorbar\": {\"outlinewidth\": 0, \"ticks\": \"\"}, \"type\": \"mesh3d\"}], \"parcoords\": [{\"line\": {\"colorbar\": {\"outlinewidth\": 0, \"ticks\": \"\"}}, \"type\": \"parcoords\"}], \"pie\": [{\"automargin\": true, \"type\": \"pie\"}], \"scatter\": [{\"marker\": {\"colorbar\": {\"outlinewidth\": 0, \"ticks\": \"\"}}, \"type\": \"scatter\"}], \"scatter3d\": [{\"line\": {\"colorbar\": {\"outlinewidth\": 0, \"ticks\": \"\"}}, \"marker\": {\"colorbar\": {\"outlinewidth\": 0, \"ticks\": \"\"}}, \"type\": \"scatter3d\"}], \"scattercarpet\": [{\"marker\": {\"colorbar\": {\"outlinewidth\": 0, \"ticks\": \"\"}}, \"type\": \"scattercarpet\"}], \"scattergeo\": [{\"marker\": {\"colorbar\": {\"outlinewidth\": 0, \"ticks\": \"\"}}, \"type\": \"scattergeo\"}], \"scattergl\": [{\"marker\": {\"colorbar\": {\"outlinewidth\": 0, \"ticks\": \"\"}}, \"type\": \"scattergl\"}], \"scattermapbox\": [{\"marker\": {\"colorbar\": {\"outlinewidth\": 0, \"ticks\": \"\"}}, \"type\": \"scattermapbox\"}], \"scatterpolar\": [{\"marker\": {\"colorbar\": {\"outlinewidth\": 0, \"ticks\": \"\"}}, \"type\": \"scatterpolar\"}], \"scatterpolargl\": [{\"marker\": {\"colorbar\": {\"outlinewidth\": 0, \"ticks\": \"\"}}, \"type\": \"scatterpolargl\"}], \"scatterternary\": [{\"marker\": {\"colorbar\": {\"outlinewidth\": 0, \"ticks\": \"\"}}, \"type\": \"scatterternary\"}], \"surface\": [{\"colorbar\": {\"outlinewidth\": 0, \"ticks\": \"\"}, \"colorscale\": [[0.0, \"#0d0887\"], [0.1111111111111111, \"#46039f\"], [0.2222222222222222, \"#7201a8\"], [0.3333333333333333, \"#9c179e\"], [0.4444444444444444, \"#bd3786\"], [0.5555555555555556, \"#d8576b\"], [0.6666666666666666, \"#ed7953\"], [0.7777777777777778, \"#fb9f3a\"], [0.8888888888888888, \"#fdca26\"], [1.0, \"#f0f921\"]], \"type\": \"surface\"}], \"table\": [{\"cells\": {\"fill\": {\"color\": \"#EBF0F8\"}, \"line\": {\"color\": \"white\"}}, \"header\": {\"fill\": {\"color\": \"#C8D4E3\"}, \"line\": {\"color\": \"white\"}}, \"type\": \"table\"}]}, \"layout\": {\"annotationdefaults\": {\"arrowcolor\": \"#2a3f5f\", \"arrowhead\": 0, \"arrowwidth\": 1}, \"coloraxis\": {\"colorbar\": {\"outlinewidth\": 0, \"ticks\": \"\"}}, \"colorscale\": {\"diverging\": [[0, \"#8e0152\"], [0.1, \"#c51b7d\"], [0.2, \"#de77ae\"], [0.3, \"#f1b6da\"], [0.4, \"#fde0ef\"], [0.5, \"#f7f7f7\"], [0.6, \"#e6f5d0\"], [0.7, \"#b8e186\"], [0.8, \"#7fbc41\"], [0.9, \"#4d9221\"], [1, \"#276419\"]], \"sequential\": [[0.0, \"#0d0887\"], [0.1111111111111111, \"#46039f\"], [0.2222222222222222, \"#7201a8\"], [0.3333333333333333, \"#9c179e\"], [0.4444444444444444, \"#bd3786\"], [0.5555555555555556, \"#d8576b\"], [0.6666666666666666, \"#ed7953\"], [0.7777777777777778, \"#fb9f3a\"], [0.8888888888888888, \"#fdca26\"], [1.0, \"#f0f921\"]], \"sequentialminus\": [[0.0, \"#0d0887\"], [0.1111111111111111, \"#46039f\"], [0.2222222222222222, \"#7201a8\"], [0.3333333333333333, \"#9c179e\"], [0.4444444444444444, \"#bd3786\"], [0.5555555555555556, \"#d8576b\"], [0.6666666666666666, \"#ed7953\"], [0.7777777777777778, \"#fb9f3a\"], [0.8888888888888888, \"#fdca26\"], [1.0, \"#f0f921\"]]}, \"colorway\": [\"#636efa\", \"#EF553B\", \"#00cc96\", \"#ab63fa\", \"#FFA15A\", \"#19d3f3\", \"#FF6692\", \"#B6E880\", \"#FF97FF\", \"#FECB52\"], \"font\": {\"color\": \"#2a3f5f\"}, \"geo\": {\"bgcolor\": \"white\", \"lakecolor\": \"white\", \"landcolor\": \"#E5ECF6\", \"showlakes\": true, \"showland\": true, \"subunitcolor\": \"white\"}, \"hoverlabel\": {\"align\": \"left\"}, \"hovermode\": \"closest\", \"mapbox\": {\"style\": \"light\"}, \"paper_bgcolor\": \"white\", \"plot_bgcolor\": \"#E5ECF6\", \"polar\": {\"angularaxis\": {\"gridcolor\": \"white\", \"linecolor\": \"white\", \"ticks\": \"\"}, \"bgcolor\": \"#E5ECF6\", \"radialaxis\": {\"gridcolor\": \"white\", \"linecolor\": \"white\", \"ticks\": \"\"}}, \"scene\": {\"xaxis\": {\"backgroundcolor\": \"#E5ECF6\", \"gridcolor\": \"white\", \"gridwidth\": 2, \"linecolor\": \"white\", \"showbackground\": true, \"ticks\": \"\", \"zerolinecolor\": \"white\"}, \"yaxis\": {\"backgroundcolor\": \"#E5ECF6\", \"gridcolor\": \"white\", \"gridwidth\": 2, \"linecolor\": \"white\", \"showbackground\": true, \"ticks\": \"\", \"zerolinecolor\": \"white\"}, \"zaxis\": {\"backgroundcolor\": \"#E5ECF6\", \"gridcolor\": \"white\", \"gridwidth\": 2, \"linecolor\": \"white\", \"showbackground\": true, \"ticks\": \"\", \"zerolinecolor\": \"white\"}}, \"shapedefaults\": {\"line\": {\"color\": \"#2a3f5f\"}}, \"ternary\": {\"aaxis\": {\"gridcolor\": \"white\", \"linecolor\": \"white\", \"ticks\": \"\"}, \"baxis\": {\"gridcolor\": \"white\", \"linecolor\": \"white\", \"ticks\": \"\"}, \"bgcolor\": \"#E5ECF6\", \"caxis\": {\"gridcolor\": \"white\", \"linecolor\": \"white\", \"ticks\": \"\"}}, \"title\": {\"x\": 0.05}, \"xaxis\": {\"automargin\": true, \"gridcolor\": \"white\", \"linecolor\": \"white\", \"ticks\": \"\", \"title\": {\"standoff\": 15}, \"zerolinecolor\": \"white\", \"zerolinewidth\": 2}, \"yaxis\": {\"automargin\": true, \"gridcolor\": \"white\", \"linecolor\": \"white\", \"ticks\": \"\", \"title\": {\"standoff\": 15}, \"zerolinecolor\": \"white\", \"zerolinewidth\": 2}}}, \"title\": {\"text\": \"Figure 1 - Review methodology\"}, \"width\": 650},\n                        {\"responsive\": true}\n                    ).then(function(){\n                            \nvar gd = document.getElementById('394ec859-01d7-4ffa-ac36-020932775720');\nvar x = new MutationObserver(function (mutations, observer) {{\n        var display = window.getComputedStyle(gd).display;\n        if (!display || display === 'none') {{\n            console.log([gd, 'removed!']);\n            Plotly.purge(gd);\n            observer.disconnect();\n        }}\n}});\n\n// Listen for the removal of the full notebook cells\nvar notebookContainer = gd.closest('#notebook-container');\nif (notebookContainer) {{\n    x.observe(notebookContainer, {childList: true});\n}}\n\n// Listen for the clearing of the current output cell\nvar outputEl = gd.closest('.output');\nif (outputEl) {{\n    x.observe(outputEl, {childList: true});\n}}\n\n                        })\n                };\n                });\n            </script>\n        </div>"
     },
     "metadata": {},
     "output_type": "display_data"
    }
   ],
   "source": [
    "config={'showLink': False, 'displayModeBar': False}\n",
    "\n",
    "screening_info = ['Records obtained from the Medline database',\n",
    "                  'Records obtained from previous reviews',\n",
    "                  \"\"\"\n",
    "                    Exclusion critera:<br>\n",
    "                    - work relying only on MRI;<br>\n",
    "                    - work relying only on histology or equivalent approach;<br>\n",
    "                    - work reporting only qualitative comparisons.\n",
    "                  \"\"\",\n",
    "                  'Records selected for full-text evaluation',\n",
    "                  \"\"\"\n",
    "                    Exclusion criteria:<br>\n",
    "                    - studies using MRI-based measures in arbitrary units;<br>\n",
    "                    - studies using measures of variation in myelin content;<br>\n",
    "                    - studies using arbitrary assessment scales;<br>\n",
    "                    - studies comparing absolute measures of myelin with relative measures;<br>\n",
    "                    - studies reporting other quantitative measures than correlation or R^2 values;<br>\n",
    "                    - studies comparing histology from one dataset and MRI from a different one.\n",
    "                  \"\"\",\n",
    "                  'Studies selected for literature overview',\n",
    "                  \"\"\"\n",
    "                    Exclusion criteria:<br>\n",
    "                     - not providing an indication of both number of subjects and number of ROIs.\n",
    "                  \"\"\"]\n",
    "\n",
    "fig1 = go.Figure(data=[go.Sankey(\n",
    "    arrangement = \"freeform\",\n",
    "    node = dict(\n",
    "      pad = 80,\n",
    "      thickness = 10,\n",
    "      line = dict(color = \"black\", width = 0.5),\n",
    "      label = [\"Main records identified (database searching)\",\n",
    "               \"Additional records (reviews)\",\n",
    "               \"Records screened\",\n",
    "               \"Records excluded\",\n",
    "               \"Full-text articles assessed for eligibility\",\n",
    "               \"Full-text articles excluded\",\n",
    "               \"Studied included in the literature overview\",\n",
    "               \"Studies included in the meta-analysis\"],\n",
    "      x = [0, 0, 0.4, 0.6, 0.5, 0.8, 0.7, 1],\n",
    "      y = [0, 0, 0.5, 0.8, 0.15, 0.05, 0.4, 0.6],\n",
    "      hovertemplate = \"%{label}<extra>%{value}</extra>\",\n",
    "      color = [\"darkblue\",\"darkblue\",\"darkblue\",\"darkred\",\"darkgreen\",\"darkred\",\"darkgreen\",\"darkgreen\"]\n",
    "    ),\n",
    "    link = dict(\n",
    "      source = [0, 1, 2, 2, 4, 4, 6],\n",
    "      target = [2, 2, 3, 4, 5, 6, 7],\n",
    "      value = [688, 1, 597, 92, 34, 58, 43],\n",
    "      customdata = screening_info,\n",
    "      hovertemplate = \"%{customdata}\",\n",
    "  ))])\n",
    "\n",
    "fig1.update_layout(title = dict(text=\"Figure 1 - Review methodology\"),\n",
    "                   width=650,\n",
    "                   height=450,\n",
    "                   font_size=10,\n",
    "                   margin=dict(l=0))\n",
    "    \n",
    "plot(insertLogo(fig1,0.07,0.07,1.1,0,-0.113,0.07), filename = 'fig1.html',config = config)\n",
    "# display(HTML('fig1.html'))\n",
    "\n",
    "fig1.show()"
   ]
  },
  {
   "cell_type": "markdown",
   "metadata": {},
   "source": [
    "We identified 58 studies reporting quantitative comparisons between MRI and histology: these included a variety of methodological choices and experimental conditions, in terms of tissue type (brain, spinal cord, peripheral nerve), condition (*in vivo*, *ex vivo*, *in situ*), species (human, animal), pathology model, and many more. A glimpse of these subdivisions is provided in the following treemap.\n",
    "\n",
    "```{admonition} Figure 2\n",
    ":class: tip\n",
    "You can click on each box to expand the related category, and for each study you can find out more details and the link to the original paper.\n",
    "```"
   ]
  },
  {
   "cell_type": "markdown",
   "metadata": {},
   "source": [
    "### Figure 2"
   ]
  },
  {
   "cell_type": "code",
   "execution_count": 7,
   "metadata": {
    "tags": [
     "hide_input"
    ]
   },
   "outputs": [
    {
     "data": {
      "application/vnd.plotly.v1+json": {
       "config": {
        "plotlyServerURL": "https://plot.ly"
       },
       "data": [
        {
         "branchvalues": "total",
         "hoverinfo": "label",
         "ids": [
          "Brain/Ex vivo - Fixed/Animal - Mouse/Optogenetic stimulation/Abe et al., 2019",
          "Brain/In vivo/Animal - Rat/Hydrocephalus/Aojula et al., 2016",
          "Brain/In vivo/Animal - Mouse/Demyelination - Cuprizone/Beckmann et al., 2018",
          "Brain/Ex vivo - Fixed/Animal - Mouse/Demyelination - Knockout/Berman et al., 2018",
          "Brain/In vivo/Animal - Mouse/Demyelination - Cuprizone/Chandran et al., 2012",
          "Brain/Ex vivo - Fixed/Animal - Mouse/Healthy/Chang et al., 2017",
          "Spinal cord/Ex vivo - Fixed/Animal - Rat/Injury - Dorsal columnar transection/Chen et al., 2017",
          "Brain/In vivo/Animal - Mouse/Healthy/Duhamel et al., 2019",
          "Brain/In vivo/Animal - Mouse/Ischemia - Induced hypoxia/Fatemi et al., 2011",
          "Brain/In vivo/Animal - Mouse/Demyelination - Cuprizone/Fjaer et al., 2013",
          "Brain/In vivo/Animal - Mouse/Demyelination - Autoimmune encephalomyelitis/Fjaer et al., 2015",
          "Brain/In vivo/Animal - Mouse/Healthy/Guglielmetti et al., 2020",
          "Brain/Ex vivo - Fixed/Animal - Rat/Healthy/Hakkarainen et al., 2016",
          "Brain/In situ/Human/Vascular diseases/Hametner et al., 2018",
          "Spinal cord/In vivo/Animal - Rat/Edema - Hexachlorophene/Harkins et al., 2013",
          "Brain/Ex vivo - Fixed/Animal - Rat/Demyelination - Lipopolysaccharide/Janve et al., 2013",
          "Brain/In vivo/Animal - Mouse/Demyelination - Cuprizone/Jelescu et al., 2016",
          "Brain/In vivo/Animal - Mouse/Healthy/Jito et al., 2008",
          "Brain/Ex vivo - Fixed/Animal - Mouse/Demyelination - Knockout/Kelm et al., 2016",
          "Brain/In vivo/Animal - Mouse/Demyelination - Cuprizone/Khodanovic et al., 2017",
          "Brain/In vivo/Animal - Mouse/Demyelination - Cuprizone/Khodanovic et al., 2019",
          "Spinal cord/Ex vivo - Fixed/Animal - Rat/Injury - Dorsal columnar transection/Kozlowski et al., 2008",
          "Spinal cord/In vivo/Animal - Rat/Injury - Dorsal columnar transection/Kozlowski et al., 2014",
          "Brain/Ex vivo - Fixed/Human/Multiple sclerosis/Laule et al., 2006",
          "Brain/Ex vivo - Fixed/Human/Multiple sclerosis/Laule et al., 2008",
          "Brain/Ex vivo - Fixed/Human/Multiple sclerosis/Laule et al., 2011",
          "Brain/In vivo/Animal - Rat/Demyelination - Lipopolysaccharide/Lehto et al., 2017a",
          "Brain/Ex vivo - Unfixed/Animal - Rat/Traumatic brain injury/Lehto et al., 2017b",
          "Brain/Ex vivo - Fixed/Human/Amyotrophic lateral sclerosis/Mollink et al., 2019",
          "Peripheral nerve/Ex vivo - Unfixed/Animal - Rat/Demyelination - Tellurium/Odrobina et al., 2005",
          "Brain/Ex vivo - Fixed/Human/Tuberous sclerosis complex/Peters et al., 2019",
          "Brain/In vivo/Animal - Mouse/Healthy/Pol et al., 2019",
          "Brain/In vivo/Animal - Mouse/Amyloidosis/Praet et al., 2018",
          "Peripheral nerve/Ex vivo - Unfixed/Animal - Rat/Demyelination - Tellurium/Pun et al., 2005",
          "Brain/Ex vivo - Fixed/Human/Epilepsy/Reeves et al., 2016",
          "Brain/Ex vivo - Unfixed/Human/Multiple sclerosis/Schmierer et al., 2004",
          "Brain/Ex vivo - Unfixed/Human/Multiple sclerosis/Schmierer et al., 2007a",
          "Brain/Ex vivo - Unfixed/Human/Multiple sclerosis/Schmierer et al., 2007b",
          "Brain/Ex vivo - Fixed/Human/Multiple sclerosis/Schmierer et al., 2008",
          "Brain/Ex vivo - Fixed/Human/Multiple sclerosis/Schmierer et al., 2010",
          "Brain/Ex vivo - Fixed/Human/Healthy/Seehaus et al., 2015",
          "Brain/In situ/Animal - Mouse/Demyelination - Cuprizone/Soustelle et al., 2019",
          "Peripheral nerve/Ex vivo - Unfixed/Animal - Rat/Degeneration - Contusive injury/Takagi et al., 2009",
          "Brain/Ex vivo - Fixed/Human/Multiple sclerosis/Tardif et al., 2012",
          "Brain/Ex vivo - Unfixed/Animal - Mouse/Demyelination - Cuprizone/Thiessen et al., 2013",
          "Brain/In vivo/Animal - Rat/Traumatic brain injury/Tu et al., 2016",
          "Brain/In vivo/Animal - Mouse/Demyelination - Cuprizone/Turati et al., 2015",
          "Brain/In vivo/Animal - Mouse/Healthy/Underhill et al., 2011",
          "Brain/In vivo/Animal - Rat/Ischemia - Induced hypoxia/Wang et al., 2009",
          "Spinal cord/Ex vivo - Fixed/Animal - Mouse/Demyelination - Autoimmune encephalomyelitis/Wang et al., 2014",
          "Spinal cord/Ex vivo - Fixed/Human/Multiple sclerosis/Wang et al., 2015",
          "Brain/Ex vivo - Fixed/Animal - Mouse/Traumatic brain injury/Wendel et al., 2018",
          "Brain/Ex vivo - Fixed/Animal - Mouse/Demyelination - Knockout/West et al., 2018",
          "Brain/In vivo/Animal - Mouse/Demyelination - Cuprizone/Wu et al., 2008",
          "Brain/Ex vivo - Fixed/Animal - Mouse/Demyelination - Cuprizone/Yano et al., 2018",
          "Brain/In vivo/Animal - Mouse/Demyelination - Cuprizone/Zaaraoui et al., 2008",
          "Spinal cord/Ex vivo - Fixed/Animal - Rat/Injury - Dorsal columnar transection/Zhang et al., 2009",
          "Brain/Ex vivo - Fixed/Animal - Rat/White matter injury/van Tilborg et al., 2017",
          "Brain/In vivo/Animal - Mouse/Amyloidosis",
          "Brain/Ex vivo - Fixed/Human/Amyotrophic lateral sclerosis",
          "Peripheral nerve/Ex vivo - Unfixed/Animal - Rat/Degeneration - Contusive injury",
          "Spinal cord/Ex vivo - Fixed/Animal - Mouse/Demyelination - Autoimmune encephalomyelitis",
          "Brain/In vivo/Animal - Mouse/Demyelination - Autoimmune encephalomyelitis",
          "Brain/Ex vivo - Fixed/Animal - Mouse/Demyelination - Cuprizone",
          "Brain/Ex vivo - Unfixed/Animal - Mouse/Demyelination - Cuprizone",
          "Brain/In situ/Animal - Mouse/Demyelination - Cuprizone",
          "Brain/In vivo/Animal - Mouse/Demyelination - Cuprizone",
          "Brain/Ex vivo - Fixed/Animal - Mouse/Demyelination - Knockout",
          "Brain/Ex vivo - Fixed/Animal - Rat/Demyelination - Lipopolysaccharide",
          "Brain/In vivo/Animal - Rat/Demyelination - Lipopolysaccharide",
          "Peripheral nerve/Ex vivo - Unfixed/Animal - Rat/Demyelination - Tellurium",
          "Spinal cord/In vivo/Animal - Rat/Edema - Hexachlorophene",
          "Brain/Ex vivo - Fixed/Human/Epilepsy",
          "Brain/Ex vivo - Fixed/Animal - Mouse/Healthy",
          "Brain/In vivo/Animal - Mouse/Healthy",
          "Brain/Ex vivo - Fixed/Animal - Rat/Healthy",
          "Brain/Ex vivo - Fixed/Human/Healthy",
          "Brain/In vivo/Animal - Rat/Hydrocephalus",
          "Spinal cord/Ex vivo - Fixed/Animal - Rat/Injury - Dorsal columnar transection",
          "Spinal cord/In vivo/Animal - Rat/Injury - Dorsal columnar transection",
          "Brain/In vivo/Animal - Mouse/Ischemia - Induced hypoxia",
          "Brain/In vivo/Animal - Rat/Ischemia - Induced hypoxia",
          "Brain/Ex vivo - Fixed/Human/Multiple sclerosis",
          "Spinal cord/Ex vivo - Fixed/Human/Multiple sclerosis",
          "Brain/Ex vivo - Unfixed/Human/Multiple sclerosis",
          "Brain/Ex vivo - Fixed/Animal - Mouse/Optogenetic stimulation",
          "Brain/Ex vivo - Fixed/Animal - Mouse/Traumatic brain injury",
          "Brain/Ex vivo - Unfixed/Animal - Rat/Traumatic brain injury",
          "Brain/In vivo/Animal - Rat/Traumatic brain injury",
          "Brain/Ex vivo - Fixed/Human/Tuberous sclerosis complex",
          "Brain/In situ/Human/Vascular diseases",
          "Brain/Ex vivo - Fixed/Animal - Rat/White matter injury",
          "Brain/Ex vivo - Fixed/Animal - Mouse",
          "Spinal cord/Ex vivo - Fixed/Animal - Mouse",
          "Brain/Ex vivo - Unfixed/Animal - Mouse",
          "Brain/In situ/Animal - Mouse",
          "Brain/In vivo/Animal - Mouse",
          "Brain/Ex vivo - Fixed/Animal - Rat",
          "Spinal cord/Ex vivo - Fixed/Animal - Rat",
          "Brain/Ex vivo - Unfixed/Animal - Rat",
          "Peripheral nerve/Ex vivo - Unfixed/Animal - Rat",
          "Brain/In vivo/Animal - Rat",
          "Spinal cord/In vivo/Animal - Rat",
          "Brain/Ex vivo - Fixed/Human",
          "Spinal cord/Ex vivo - Fixed/Human",
          "Brain/Ex vivo - Unfixed/Human",
          "Brain/In situ/Human",
          "Brain/Ex vivo - Fixed",
          "Spinal cord/Ex vivo - Fixed",
          "Brain/Ex vivo - Unfixed",
          "Peripheral nerve/Ex vivo - Unfixed",
          "Brain/In situ",
          "Brain/In vivo",
          "Spinal cord/In vivo",
          "Brain",
          "Peripheral nerve",
          "Spinal cord"
         ],
         "labels": [
          "Abe et al., 2019",
          "Aojula et al., 2016",
          "Beckmann et al., 2018",
          "Berman et al., 2018",
          "Chandran et al., 2012",
          "Chang et al., 2017",
          "Chen et al., 2017",
          "Duhamel et al., 2019",
          "Fatemi et al., 2011",
          "Fjaer et al., 2013",
          "Fjaer et al., 2015",
          "Guglielmetti et al., 2020",
          "Hakkarainen et al., 2016",
          "Hametner et al., 2018",
          "Harkins et al., 2013",
          "Janve et al., 2013",
          "Jelescu et al., 2016",
          "Jito et al., 2008",
          "Kelm et al., 2016",
          "Khodanovic et al., 2017",
          "Khodanovic et al., 2019",
          "Kozlowski et al., 2008",
          "Kozlowski et al., 2014",
          "Laule et al., 2006",
          "Laule et al., 2008",
          "Laule et al., 2011",
          "Lehto et al., 2017a",
          "Lehto et al., 2017b",
          "Mollink et al., 2019",
          "Odrobina et al., 2005",
          "Peters et al., 2019",
          "Pol et al., 2019",
          "Praet et al., 2018",
          "Pun et al., 2005",
          "Reeves et al., 2016",
          "Schmierer et al., 2004",
          "Schmierer et al., 2007a",
          "Schmierer et al., 2007b",
          "Schmierer et al., 2008",
          "Schmierer et al., 2010",
          "Seehaus et al., 2015",
          "Soustelle et al., 2019",
          "Takagi et al., 2009",
          "Tardif et al., 2012",
          "Thiessen et al., 2013",
          "Tu et al., 2016",
          "Turati et al., 2015",
          "Underhill et al., 2011",
          "Wang et al., 2009",
          "Wang et al., 2014",
          "Wang et al., 2015",
          "Wendel et al., 2018",
          "West et al., 2018",
          "Wu et al., 2008",
          "Yano et al., 2018",
          "Zaaraoui et al., 2008",
          "Zhang et al., 2009",
          "van Tilborg et al., 2017",
          "Amyloidosis",
          "Amyotrophic lateral sclerosis",
          "Degeneration - Contusive injury",
          "Demyelination - Autoimmune encephalomyelitis",
          "Demyelination - Autoimmune encephalomyelitis",
          "Demyelination - Cuprizone",
          "Demyelination - Cuprizone",
          "Demyelination - Cuprizone",
          "Demyelination - Cuprizone",
          "Demyelination - Knockout",
          "Demyelination - Lipopolysaccharide",
          "Demyelination - Lipopolysaccharide",
          "Demyelination - Tellurium",
          "Edema - Hexachlorophene",
          "Epilepsy",
          "Healthy",
          "Healthy",
          "Healthy",
          "Healthy",
          "Hydrocephalus",
          "Injury - Dorsal columnar transection",
          "Injury - Dorsal columnar transection",
          "Ischemia - Induced hypoxia",
          "Ischemia - Induced hypoxia",
          "Multiple sclerosis",
          "Multiple sclerosis",
          "Multiple sclerosis",
          "Optogenetic stimulation",
          "Traumatic brain injury",
          "Traumatic brain injury",
          "Traumatic brain injury",
          "Tuberous sclerosis complex",
          "Vascular diseases",
          "White matter injury",
          "Animal - Mouse",
          "Animal - Mouse",
          "Animal - Mouse",
          "Animal - Mouse",
          "Animal - Mouse",
          "Animal - Rat",
          "Animal - Rat",
          "Animal - Rat",
          "Animal - Rat",
          "Animal - Rat",
          "Animal - Rat",
          "Human",
          "Human",
          "Human",
          "Human",
          "Ex vivo - Fixed",
          "Ex vivo - Fixed",
          "Ex vivo - Unfixed",
          "Ex vivo - Unfixed",
          "In situ",
          "In vivo",
          "In vivo",
          "Brain",
          "Peripheral nerve",
          "Spinal cord"
         ],
         "parents": [
          "Brain/Ex vivo - Fixed/Animal - Mouse/Optogenetic stimulation",
          "Brain/In vivo/Animal - Rat/Hydrocephalus",
          "Brain/In vivo/Animal - Mouse/Demyelination - Cuprizone",
          "Brain/Ex vivo - Fixed/Animal - Mouse/Demyelination - Knockout",
          "Brain/In vivo/Animal - Mouse/Demyelination - Cuprizone",
          "Brain/Ex vivo - Fixed/Animal - Mouse/Healthy",
          "Spinal cord/Ex vivo - Fixed/Animal - Rat/Injury - Dorsal columnar transection",
          "Brain/In vivo/Animal - Mouse/Healthy",
          "Brain/In vivo/Animal - Mouse/Ischemia - Induced hypoxia",
          "Brain/In vivo/Animal - Mouse/Demyelination - Cuprizone",
          "Brain/In vivo/Animal - Mouse/Demyelination - Autoimmune encephalomyelitis",
          "Brain/In vivo/Animal - Mouse/Healthy",
          "Brain/Ex vivo - Fixed/Animal - Rat/Healthy",
          "Brain/In situ/Human/Vascular diseases",
          "Spinal cord/In vivo/Animal - Rat/Edema - Hexachlorophene",
          "Brain/Ex vivo - Fixed/Animal - Rat/Demyelination - Lipopolysaccharide",
          "Brain/In vivo/Animal - Mouse/Demyelination - Cuprizone",
          "Brain/In vivo/Animal - Mouse/Healthy",
          "Brain/Ex vivo - Fixed/Animal - Mouse/Demyelination - Knockout",
          "Brain/In vivo/Animal - Mouse/Demyelination - Cuprizone",
          "Brain/In vivo/Animal - Mouse/Demyelination - Cuprizone",
          "Spinal cord/Ex vivo - Fixed/Animal - Rat/Injury - Dorsal columnar transection",
          "Spinal cord/In vivo/Animal - Rat/Injury - Dorsal columnar transection",
          "Brain/Ex vivo - Fixed/Human/Multiple sclerosis",
          "Brain/Ex vivo - Fixed/Human/Multiple sclerosis",
          "Brain/Ex vivo - Fixed/Human/Multiple sclerosis",
          "Brain/In vivo/Animal - Rat/Demyelination - Lipopolysaccharide",
          "Brain/Ex vivo - Unfixed/Animal - Rat/Traumatic brain injury",
          "Brain/Ex vivo - Fixed/Human/Amyotrophic lateral sclerosis",
          "Peripheral nerve/Ex vivo - Unfixed/Animal - Rat/Demyelination - Tellurium",
          "Brain/Ex vivo - Fixed/Human/Tuberous sclerosis complex",
          "Brain/In vivo/Animal - Mouse/Healthy",
          "Brain/In vivo/Animal - Mouse/Amyloidosis",
          "Peripheral nerve/Ex vivo - Unfixed/Animal - Rat/Demyelination - Tellurium",
          "Brain/Ex vivo - Fixed/Human/Epilepsy",
          "Brain/Ex vivo - Unfixed/Human/Multiple sclerosis",
          "Brain/Ex vivo - Unfixed/Human/Multiple sclerosis",
          "Brain/Ex vivo - Unfixed/Human/Multiple sclerosis",
          "Brain/Ex vivo - Fixed/Human/Multiple sclerosis",
          "Brain/Ex vivo - Fixed/Human/Multiple sclerosis",
          "Brain/Ex vivo - Fixed/Human/Healthy",
          "Brain/In situ/Animal - Mouse/Demyelination - Cuprizone",
          "Peripheral nerve/Ex vivo - Unfixed/Animal - Rat/Degeneration - Contusive injury",
          "Brain/Ex vivo - Fixed/Human/Multiple sclerosis",
          "Brain/Ex vivo - Unfixed/Animal - Mouse/Demyelination - Cuprizone",
          "Brain/In vivo/Animal - Rat/Traumatic brain injury",
          "Brain/In vivo/Animal - Mouse/Demyelination - Cuprizone",
          "Brain/In vivo/Animal - Mouse/Healthy",
          "Brain/In vivo/Animal - Rat/Ischemia - Induced hypoxia",
          "Spinal cord/Ex vivo - Fixed/Animal - Mouse/Demyelination - Autoimmune encephalomyelitis",
          "Spinal cord/Ex vivo - Fixed/Human/Multiple sclerosis",
          "Brain/Ex vivo - Fixed/Animal - Mouse/Traumatic brain injury",
          "Brain/Ex vivo - Fixed/Animal - Mouse/Demyelination - Knockout",
          "Brain/In vivo/Animal - Mouse/Demyelination - Cuprizone",
          "Brain/Ex vivo - Fixed/Animal - Mouse/Demyelination - Cuprizone",
          "Brain/In vivo/Animal - Mouse/Demyelination - Cuprizone",
          "Spinal cord/Ex vivo - Fixed/Animal - Rat/Injury - Dorsal columnar transection",
          "Brain/Ex vivo - Fixed/Animal - Rat/White matter injury",
          "Brain/In vivo/Animal - Mouse",
          "Brain/Ex vivo - Fixed/Human",
          "Peripheral nerve/Ex vivo - Unfixed/Animal - Rat",
          "Spinal cord/Ex vivo - Fixed/Animal - Mouse",
          "Brain/In vivo/Animal - Mouse",
          "Brain/Ex vivo - Fixed/Animal - Mouse",
          "Brain/Ex vivo - Unfixed/Animal - Mouse",
          "Brain/In situ/Animal - Mouse",
          "Brain/In vivo/Animal - Mouse",
          "Brain/Ex vivo - Fixed/Animal - Mouse",
          "Brain/Ex vivo - Fixed/Animal - Rat",
          "Brain/In vivo/Animal - Rat",
          "Peripheral nerve/Ex vivo - Unfixed/Animal - Rat",
          "Spinal cord/In vivo/Animal - Rat",
          "Brain/Ex vivo - Fixed/Human",
          "Brain/Ex vivo - Fixed/Animal - Mouse",
          "Brain/In vivo/Animal - Mouse",
          "Brain/Ex vivo - Fixed/Animal - Rat",
          "Brain/Ex vivo - Fixed/Human",
          "Brain/In vivo/Animal - Rat",
          "Spinal cord/Ex vivo - Fixed/Animal - Rat",
          "Spinal cord/In vivo/Animal - Rat",
          "Brain/In vivo/Animal - Mouse",
          "Brain/In vivo/Animal - Rat",
          "Brain/Ex vivo - Fixed/Human",
          "Spinal cord/Ex vivo - Fixed/Human",
          "Brain/Ex vivo - Unfixed/Human",
          "Brain/Ex vivo - Fixed/Animal - Mouse",
          "Brain/Ex vivo - Fixed/Animal - Mouse",
          "Brain/Ex vivo - Unfixed/Animal - Rat",
          "Brain/In vivo/Animal - Rat",
          "Brain/Ex vivo - Fixed/Human",
          "Brain/In situ/Human",
          "Brain/Ex vivo - Fixed/Animal - Rat",
          "Brain/Ex vivo - Fixed",
          "Spinal cord/Ex vivo - Fixed",
          "Brain/Ex vivo - Unfixed",
          "Brain/In situ",
          "Brain/In vivo",
          "Brain/Ex vivo - Fixed",
          "Spinal cord/Ex vivo - Fixed",
          "Brain/Ex vivo - Unfixed",
          "Peripheral nerve/Ex vivo - Unfixed",
          "Brain/In vivo",
          "Spinal cord/In vivo",
          "Brain/Ex vivo - Fixed",
          "Spinal cord/Ex vivo - Fixed",
          "Brain/Ex vivo - Unfixed",
          "Brain/In situ",
          "Brain",
          "Spinal cord",
          "Brain",
          "Peripheral nerve",
          "Brain",
          "Brain",
          "Spinal cord",
          "",
          "",
          ""
         ],
         "text": [
          "<a style='color:white' href='https://doi.org/10.1016/j.neuint.2019.02.017'>->Go to the paper</a><br><br>Approach: Diffusion<br><br>Magnetic field: 7.0<br><br>MRI measure(s): FA, RD, AD<br><br>Histology/microscopy measure: Microscopy - Myelin thickness<br><br>Specific structure(s): Putamen, Accumbens, Globus pallidus, Substantia nigra, Cortex<br><br>",
          "<a style='color:white' href='https://doi.org/10.1186/s12987-016-0033-2'>->Go to the paper</a><br><br>Approach: Diffusion<br><br>Magnetic field: 7.0<br><br>MRI measure(s): FA, AD, RD, MD<br><br>Histology/microscopy measure: Immunohistochemistry - MBP<br><br>Specific structure(s): Corpus callosum<br><br>",
          "<a style='color:white' href='https://doi.org/10.1186/s40478-018-0510-8'>->Go to the paper</a><br><br>Approach: Magnetization transfer<br><br>Magnetic field: 7.0<br><br>MRI measure(s): MTR<br><br>Histology/microscopy measure: Histology - LFB<br><br>Specific structure(s): Corpus callosum, External capsule<br><br>",
          "<a style='color:white' href='https://doi.org/10.1016/j.neuroimage.2017.06.076'>->Go to the paper</a><br><br>Approach: Other<br><br>Magnetic field: 15.2<br><br>MRI measure(s): MTV<br><br>Histology/microscopy measure: EM - Myelin fraction<br><br>Specific structure(s): Corpus callosum<br><br>",
          "<a style='color:white' href='https://doi.org/10.1016/j.neuroscience.2011.10.051'>->Go to the paper</a><br><br>Approach: Diffusion<br><br>Magnetic field: 7.0<br><br>MRI measure(s): FA, RD<br><br>Histology/microscopy measure: Immunohistochemistry - MBP<br><br>Specific structure(s): White matter<br><br>",
          "<a style='color:white' href='https://doi.org/10.1016/j.dib.2016.12.018'>->Go to the paper</a><br><br>Approach: Diffusion<br><br>Magnetic field: 11.7<br><br>MRI measure(s): FA, AD, RD, MD<br><br>Histology/microscopy measure: Immunohistochemistry - MBP<br><br>Specific structure(s): Corpus callosum, Anterior commissure, Fimbria, Fornix, Stria medullaris, Fasciculus retroflexus, Mammilothalamic tract<br><br>",
          "<a style='color:white' href='https://doi.org/10.1016/j.neuroimage.2017.03.065'>->Go to the paper</a><br><br>Approach: T2 relaxometry<br><br>Magnetic field: 7.0<br><br>MRI measure(s): MWF<br><br>Histology/microscopy measure: EM - Myelin fraction<br><br>Specific structure(s): Cervical sections<br><br>",
          "<a style='color:white' href='https://doi.org/10.1016/j.neuroimage.2019.05.061'>->Go to the paper</a><br><br>Approach: Magnetization transfer<br><br>Magnetic field: 11.75<br><br>MRI measure(s): ihMTR, MTR<br><br>Histology/microscopy measure: Microscopy - Fluorescence<br><br>Specific structure(s): Corpus callosum, Internal capsule, Optic nerve, Thalamus, Cortex, Hippocampus, Inter-peduncular nuclues<br><br>",
          "<a style='color:white' href='https://doi.org/10.1038/jcbfm.2011.68'>->Go to the paper</a><br><br>Approach: Magnetization transfer<br><br>Magnetic field: 9.4<br><br>MRI measure(s): MTR<br><br>Histology/microscopy measure: Immunohistochemistry - MBP<br><br>Specific structure(s): Corpus callosum, Internal capsule<br><br>",
          "<a style='color:white' href='https://doi.org/10.1371/journal.pone.0084162'>->Go to the paper</a><br><br>Approach: Magnetization transfer<br><br>Magnetic field: 7.0<br><br>MRI measure(s): MTR<br><br>Histology/microscopy measure: Immunohistochemistry - PLP<br><br>Specific structure(s): Corpus callosum<br><br>",
          "<a style='color:white' href='https://doi.org/10.1016/j.neuint.2015.02.006'>->Go to the paper</a><br><br>Approach: Magnetization transfer<br><br>Magnetic field: 7.0<br><br>MRI measure(s): MTR<br><br>Histology/microscopy measure: Immunohistochemistry - PLP<br><br>Specific structure(s): Corpus callosum<br><br>",
          "<a style='color:white' href='https://doi.org/10.1016/j.neuroimage.2019.116415'>->Go to the paper</a><br><br>Approach: Magnetization transfer<br><br>Magnetic field: 7.0<br><br>MRI measure(s): MTR, MTR-UTE<br><br>Histology/microscopy measure: Immunohistochemistry - MBP<br><br>Specific structure(s): Corpus callosum, Internal capsule, Thalamus, Putamen, Hippocampus, Cortex<br><br>",
          "<a style='color:white' href='https://doi.org/10.1002/mrm.25590'>->Go to the paper</a><br><br>Approach: Magnetization transfer, T1 relaxometry, T2 relaxometry, Other<br><br>Magnetic field: 9.4<br><br>MRI measure(s): T1, T2, MTR, T1p, T2p, RAFF<br><br>Histology/microscopy measure: Histology - Gold chloride<br><br>Specific structure(s): Corpus callosum, External capsule, Internal capsule, Cingulum, Fimbria, Optic tract, Dentate gyrus, Hippocampus, Amygdala, Somatosensory cortex, Thalamic nuclei<br><br>",
          "<a style='color:white' href='https://doi.org/10.1016/j.neuroimage.2018.06.007'>->Go to the paper</a><br><br>Approach: T1 relaxometry, Other<br><br>Magnetic field: 7.0<br><br>MRI measure(s): R2*, T1, QSM<br><br>Histology/microscopy measure: Histology - LFB<br><br>Specific structure(s): White matter, Grey matter, Thalamus, Basal ganglia<br><br>",
          "<a style='color:white' href='https://doi.org/10.1016/j.nicl.2013.06.007'>->Go to the paper</a><br><br>Approach: Magnetization transfer, T2 relaxometry<br><br>Magnetic field: 9.4<br><br>MRI measure(s): MWF, MPF<br><br>Histology/microscopy measure: Microscopy - Myelin fraction<br><br>Specific structure(s): Cervical sections<br><br>",
          "<a style='color:white' href='https://doi.org/10.1016/j.neuroimage.2013.02.034'>->Go to the paper</a><br><br>Approach: Diffusion, Magnetization transfer<br><br>Magnetic field: 9.4<br><br>MRI measure(s): MPF, R1a, k_ba, FA, RD, MD, AD<br><br>Histology/microscopy measure: Histology - LFB<br><br>Specific structure(s): Corpus callosum<br><br>",
          "<a style='color:white' href='https://doi.org/10.1016/j.neuroimage.2016.02.004'>->Go to the paper</a><br><br>Approach: Diffusion, Magnetization transfer, T2 relaxometry<br><br>Magnetic field: 7.0<br><br>MRI measure(s): RD, RK, AWF, Rde, T2, MTR<br><br>Histology/microscopy measure: EM - Myelin fraction<br><br>Specific structure(s): Corpus callosum<br><br>",
          "<a style='color:white' href='https://doi.org/10.1002/jmri.21496'>->Go to the paper</a><br><br>Approach: Diffusion<br><br>Magnetic field: 7.0<br><br>MRI measure(s): FA<br><br>Histology/microscopy measure: Microscopy - Myelin sheath area<br><br>Specific structure(s): Corpus callosum<br><br>",
          "<a style='color:white' href='https://doi.org/10.1016/j.neuroimage.2015.09.028'>->Go to the paper</a><br><br>Approach: Diffusion<br><br>Magnetic field: 15.2<br><br>MRI measure(s): MD, RD, MK, RK, AWF<br><br>Histology/microscopy measure: EM - Myelin fraction<br><br>Specific structure(s): Corpus callosum, External capsule, Internal capsule, Anterior commissure<br><br>",
          "<a style='color:white' href='https://doi.org/10.1038/srep46686'>->Go to the paper</a><br><br>Approach: Magnetization transfer<br><br>Magnetic field: 11.7<br><br>MRI measure(s): MPF<br><br>Histology/microscopy measure: Histology - LFB<br><br>Specific structure(s): Corpus callosum, Internal capsule, Anterior commissure, Thalamus, Putamen, Cortex<br><br>",
          "<a style='color:white' href='https://doi.org/10.3390/cells8101204'>->Go to the paper</a><br><br>Approach: Magnetization transfer<br><br>Magnetic field: 11.7<br><br>MRI measure(s): MPF<br><br>Histology/microscopy measure: Immunohistochemistry - MBP<br><br>Specific structure(s): Corpus callosum<br><br>",
          "<a style='color:white' href='https://doi.org/10.1089/neu.2007.0462'>->Go to the paper</a><br><br>Approach: Diffusion, T2 relaxometry<br><br>Magnetic field: 7.0<br><br>MRI measure(s): MWF, FA, AD, RD, MD<br><br>Histology/microscopy measure: Immunohistochemistry - MBP<br><br>Specific structure(s): Cervical sections<br><br>",
          "<a style='color:white' href='https://doi.org/10.1016/j.mri.2013.12.006'>->Go to the paper</a><br><br>Approach: T2 relaxometry<br><br>Magnetic field: 7.0<br><br>MRI measure(s): MWF<br><br>Histology/microscopy measure: Immunohistochemistry - MBP<br><br>Specific structure(s): Cervical sections<br><br>",
          "<a style='color:white' href='https://doi.org/10.1177/1352458506070928'>->Go to the paper</a><br><br>Approach: T2 relaxometry<br><br>Magnetic field: 1.5<br><br>MRI measure(s): MWF<br><br>Histology/microscopy measure: Histology - LFB<br><br>Specific structure(s): White matter, Grey matter<br><br>",
          "<a style='color:white' href='https://doi.org/10.1016/j.neuroimage.2007.12.008'>->Go to the paper</a><br><br>Approach: T2 relaxometry<br><br>Magnetic field: 7.0<br><br>MRI measure(s): MWF<br><br>Histology/microscopy measure: Histology - LFB<br><br>Specific structure(s): White matter, Grey matter<br><br>",
          "<a style='color:white' href='https://doi.org/10.1177/1352458510384008'>->Go to the paper</a><br><br>Approach: T2 relaxometry<br><br>Magnetic field: 1.5<br><br>MRI measure(s): MWF<br><br>Histology/microscopy measure: Immunohistochemistry - MBP<br><br>Specific structure(s): White matter<br><br>",
          "<a style='color:white' href='https://doi.org/10.3389/fnins.2017.00433'>->Go to the paper</a><br><br>Approach: Diffusion, Magnetization transfer, Other<br><br>Magnetic field: 7.0<br><br>MRI measure(s): RAFF, MTR, T1sat, FA, MD, AD, RD<br><br>Histology/microscopy measure: Histology - Gold chloride<br><br>Specific structure(s): Corpus callosum, Dorsal tegmental tract<br><br>",
          "<a style='color:white' href='https://doi.org/10.1002/nbm.3678'>->Go to the paper</a><br><br>Approach: Magnetization transfer<br><br>Magnetic field: 9.4<br><br>MRI measure(s): MTR<br><br>Histology/microscopy measure: Histology - Gold chloride<br><br>Specific structure(s): Internal capsule, Globus pallidus, Striatum, Thalamus<br><br>",
          "<a style='color:white' href='https://doi.org/10.1111/nan.12555'>->Go to the paper</a><br><br>Approach: Diffusion<br><br>Magnetic field: 11.7<br><br>MRI measure(s): FA<br><br>Histology/microscopy measure: Immunohistochemistry - MBP<br><br>Specific structure(s): Perforant pathway<br><br>",
          "<a style='color:white' href='https://doi.org/10.1002/nbm.951'>->Go to the paper</a><br><br>Approach: Magnetization transfer, T1 relaxometry, T2 relaxometry<br><br>Magnetic field: 1.5<br><br>MRI measure(s): T1, T2, T2int, MWF, M0m, MTR<br><br>Histology/microscopy measure: Microscopy - Myelin fraction<br><br>Specific structure(s): Sciatic nerve<br><br>",
          "<a style='color:white' href='https://doi.org/10.1002/acn3.793'>->Go to the paper</a><br><br>Approach: Diffusion<br><br>Magnetic field: 3.0<br><br>MRI measure(s): FA, MD<br><br>Histology/microscopy measure: Histology - LFB<br><br>Specific structure(s): White matter<br><br>",
          "<a style='color:white' href='https://doi.org/10.1111/jon.12561'>->Go to the paper</a><br><br>Approach: Diffusion, Other<br><br>Magnetic field: 9.4<br><br>MRI measure(s): QSM, FA, MD<br><br>Histology/microscopy measure: Histology - Solochrome<br><br>Specific structure(s): Corpus callosum<br><br>",
          "<a style='color:white' href='https://doi.org/10.1186/s13195-017-0329-8'>->Go to the paper</a><br><br>Approach: Diffusion<br><br>Magnetic field: 7.0<br><br>MRI measure(s): MK, RK, AK, FA, MD, RD, AD<br><br>Histology/microscopy measure: Immunohistochemistry - MBP<br><br>Specific structure(s): Motor cortex<br><br>",
          "<a style='color:white' href='https://doi.org/10.1111/j.1085-9489.2005.10107.x'>->Go to the paper</a><br><br>Approach: T1 relaxometry, T2 relaxometry<br><br>Magnetic field: 1.5<br><br>MRI measure(s): T1, T2int, MWF<br><br>Histology/microscopy measure: Microscopy - Myelin fraction<br><br>Specific structure(s): Sciatic nerve<br><br>",
          "<a style='color:white' href='https://doi.org/10.1111/bpa.12298'>->Go to the paper</a><br><br>Approach: T1 relaxometry, T2 relaxometry<br><br>Magnetic field: 9.4<br><br>MRI measure(s): T1, T2<br><br>Histology/microscopy measure: Immunohistochemistry - MBP<br><br>Specific structure(s): White matter, Grey matter<br><br>",
          "<a style='color:white' href='https://doi.org/10.1002/ana.20202'>->Go to the paper</a><br><br>Approach: Magnetization transfer, T1 relaxometry<br><br>Magnetic field: 1.5<br><br>MRI measure(s): T1, MTR<br><br>Histology/microscopy measure: Histology - LFB<br><br>Specific structure(s): White matter, Lesions<br><br>",
          "<a style='color:white' href='https://doi.org/10.1002/jmri.20984'>->Go to the paper</a><br><br>Approach: Magnetization transfer, T1 relaxometry<br><br>Magnetic field: 1.5<br><br>MRI measure(s): T1, MTR, MPF, T2m<br><br>Histology/microscopy measure: Histology - LFB<br><br>Specific structure(s): White matter, Lesions<br><br>",
          "<a style='color:white' href='https://doi.org/10.1016/j.neuroimage.2006.12.010'>->Go to the paper</a><br><br>Approach: Diffusion<br><br>Magnetic field: 1.5<br><br>MRI measure(s): FA, MD<br><br>Histology/microscopy measure: Histology - LFB<br><br>Specific structure(s): White matter, Lesions<br><br>",
          "<a style='color:white' href='https://doi.org/10.1002/mrm.21487'>->Go to the paper</a><br><br>Approach: Diffusion, Magnetization transfer, T1 relaxometry, T2 relaxometry<br><br>Magnetic field: 1.5<br><br>MRI measure(s): T1, T2, MTR, MPF, MD, FA, AD, RD<br><br>Histology/microscopy measure: Histology - LFB<br><br>Specific structure(s): White matter, Lesions<br><br>",
          "<a style='color:white' href='https://doi.org/10.1093/brain/awp335'>->Go to the paper</a><br><br>Approach: Magnetization transfer, T2 relaxometry<br><br>Magnetic field: 9.4<br><br>MRI measure(s): MTR, T2<br><br>Histology/microscopy measure: Histology - LFB<br><br>Specific structure(s): Grey matter, Lesions<br><br>",
          "<a style='color:white' href='https://doi.org/10.3389/fnana.2015.00098'>->Go to the paper</a><br><br>Approach: Diffusion<br><br>Magnetic field: 9.4<br><br>MRI measure(s): FA, RD, MD<br><br>Histology/microscopy measure: Histology - Silver<br><br>Specific structure(s): White matter, Grey matter<br><br>",
          "<a style='color:white' href='https://doi.org/10.1002/nbm.4116'>->Go to the paper</a><br><br>Approach: Diffusion, Magnetization transfer, T2 relaxometry, Other<br><br>Magnetic field: 7.0<br><br>MRI measure(s): MPF, RD, MWF, rSPF<br><br>Histology/microscopy measure: Immunohistochemistry - MBP<br><br>Specific structure(s): Corpus callosum<br><br>",
          "<a style='color:white' href='https://doi.org/10.1016/j.neuroimage.2008.09.022'>->Go to the paper</a><br><br>Approach: Diffusion<br><br>Magnetic field: 7.0<br><br>MRI measure(s): FA, AD<br><br>Histology/microscopy measure: EM - Myelin thickness<br><br>Specific structure(s): Sciatic nerve<br><br>",
          "<a style='color:white' href='https://doi.org/10.1155/2012/742018'>->Go to the paper</a><br><br>Approach: Magnetization transfer, T1 relaxometry, T2 relaxometry, Other<br><br>Magnetic field: 3.0<br><br>MRI measure(s): T1, T2, MTR, PD<br><br>Histology/microscopy measure: Immunohistochemistry - MBP<br><br>Specific structure(s): White matter, Grey matter, Lesions<br><br>",
          "<a style='color:white' href='https://doi.org/10.1002/nbm.2992'>->Go to the paper</a><br><br>Approach: Diffusion, Magnetization transfer, T1 relaxometry, T2 relaxometry<br><br>Magnetic field: 7.0<br><br>MRI measure(s): MPF, R1f, k_fm, k_mf, T2f, T2m, MD, RD, AD, FA, T1, T2<br><br>Histology/microscopy measure: EM - Myelin thickness<br><br>Specific structure(s): Corpus callosum<br><br>",
          "<a style='color:white' href='https://doi.org/10.1002/ana.24641'>->Go to the paper</a><br><br>Approach: Diffusion, Magnetization transfer<br><br>Magnetic field: 7.0<br><br>MRI measure(s): FA, AD, RD, MD, MTR<br><br>Histology/microscopy measure: Immunohistochemistry - MBP<br><br>Specific structure(s): Corpus callosum<br><br>",
          "<a style='color:white' href='https://doi.org/10.1002/nbm.3253'>->Go to the paper</a><br><br>Approach: Magnetization transfer<br><br>Magnetic field: 7.0<br><br>MRI measure(s): MPF<br><br>Histology/microscopy measure: Immunohistochemistry - MBP<br><br>Specific structure(s): Corpus callosum<br><br>",
          "<a style='color:white' href='https://doi.org/10.1016/j.neuroimage.2010.10.065'>->Go to the paper</a><br><br>Approach: Magnetization transfer<br><br>Magnetic field: 3.0<br><br>MRI measure(s): MPF<br><br>Histology/microscopy measure: Histology - LFB<br><br>Specific structure(s): Putamen, Cerebellum, Cortex, Superior colliculus, Thalamus, Anterior commissure, Corpus callosum, Internal capsule, Hippocampal commissure<br><br>",
          "<a style='color:white' href='https://doi.org/10.3174/ajnr.A1697'>->Go to the paper</a><br><br>Approach: Diffusion<br><br>Magnetic field: 7.0<br><br>MRI measure(s): FA, RD<br><br>Histology/microscopy measure: Histology - LFB<br><br>Specific structure(s): External capsule<br><br>",
          "<a style='color:white' href='https://doi.org/10.1002/nbm.3129'>->Go to the paper</a><br><br>Approach: Diffusion<br><br>Magnetic field: 4.7<br><br>MRI measure(s): RD, RD-DBSI<br><br>Histology/microscopy measure: Immunohistochemistry - MBP<br><br>Specific structure(s): Cervical sections<br><br>",
          "<a style='color:white' href='https://doi.org/10.1093/brain/awv046'>->Go to the paper</a><br><br>Approach: Diffusion<br><br>Magnetic field: 4.7<br><br>MRI measure(s): RD-DBSI<br><br>Histology/microscopy measure: Histology - LFB<br><br>Specific structure(s): Cervical sections<br><br>",
          "<a style='color:white' href='https://doi.org/10.1089/neu.2018.5670'>->Go to the paper</a><br><br>Approach: Diffusion<br><br>Magnetic field: 9.4<br><br>MRI measure(s): FA, AD, RD, MD<br><br>Histology/microscopy measure: Immunohistochemistry - MBP<br><br>Specific structure(s): Corpus callosum<br><br>",
          "<a style='color:white' href='https://doi.org/10.1016/j.neuroimage.2016.12.067'>->Go to the paper</a><br><br>Approach: Magnetization transfer, T2 relaxometry<br><br>Magnetic field: 15.2<br><br>MRI measure(s): MPF, MWF, MVF-T2, MVF-MT<br><br>Histology/microscopy measure: EM - Myelin fraction<br><br>Specific structure(s): Corpus callosum, Anterior commissure<br><br>",
          "<a style='color:white' href='https://doi.org/10.1002/jmri.21111'>->Go to the paper</a><br><br>Approach: T2 relaxometry<br><br>Magnetic field: 4.7<br><br>MRI measure(s): T2<br><br>Histology/microscopy measure: Histology - LFB<br><br>Specific structure(s): Corpus callosum<br><br>",
          "<a style='color:white' href='https://doi.org/10.1016/j.neuint.2017.10.004'>->Go to the paper</a><br><br>Approach: Diffusion<br><br>Magnetic field: 7.0<br><br>MRI measure(s): FA, RD, MD<br><br>Histology/microscopy measure: Immunohistochemistry - PLP<br><br>Specific structure(s): Corpus callosum<br><br>",
          "<a style='color:white' href='https://doi.org/10.1007/s10334-008-0141-3'>->Go to the paper</a><br><br>Approach: Magnetization transfer<br><br>Magnetic field: 9.4<br><br>MRI measure(s): MTR<br><br>Histology/microscopy measure: Immunohistochemistry - MBP<br><br>Specific structure(s): Corpus callosum<br><br>",
          "<a style='color:white' href='https://doi.org/10.1523/jneurosci.3941-08.2009'>->Go to the paper</a><br><br>Approach: Diffusion<br><br>Magnetic field: 11.7<br><br>MRI measure(s): RD<br><br>Histology/microscopy measure: Histology - LFB<br><br>Specific structure(s): Lumbar sections<br><br>",
          "<a style='color:white' href='https://doi.org/10.1002/glia.23216'>->Go to the paper</a><br><br>Approach: Diffusion<br><br>Magnetic field: 9.4<br><br>MRI measure(s): FA<br><br>Histology/microscopy measure: Immunohistochemistry - MBP<br><br>Specific structure(s): Motor cortex<br><br>"
         ],
         "textfont": {
          "size": 15
         },
         "type": "treemap",
         "values": [
          1.0,
          1.0,
          1.0,
          1.0,
          1.0,
          1.0,
          1.0,
          1.0,
          1.0,
          1.0,
          1.0,
          1.0,
          1.0,
          1.0,
          1.0,
          1.0,
          1.0,
          1.0,
          1.0,
          1.0,
          1.0,
          1.0,
          1.0,
          1.0,
          1.0,
          1.0,
          1.0,
          1.0,
          1.0,
          1.0,
          1.0,
          1.0,
          1.0,
          1.0,
          1.0,
          1.0,
          1.0,
          1.0,
          1.0,
          1.0,
          1.0,
          1.0,
          1.0,
          1.0,
          1.0,
          1.0,
          1.0,
          1.0,
          1.0,
          1.0,
          1.0,
          1.0,
          1.0,
          1.0,
          1.0,
          1.0,
          1.0,
          1.0,
          1.0,
          1.0,
          1.0,
          1.0,
          1.0,
          1.0,
          1.0,
          1.0,
          9.0,
          3.0,
          1.0,
          1.0,
          2.0,
          1.0,
          1.0,
          1.0,
          5.0,
          1.0,
          1.0,
          1.0,
          3.0,
          1.0,
          1.0,
          1.0,
          6.0,
          1.0,
          3.0,
          1.0,
          1.0,
          1.0,
          1.0,
          1.0,
          1.0,
          1.0,
          7.0,
          1.0,
          1.0,
          1.0,
          17.0,
          3.0,
          3.0,
          1.0,
          3.0,
          4.0,
          2.0,
          10.0,
          1.0,
          3.0,
          1.0,
          20.0,
          5.0,
          5.0,
          3.0,
          2.0,
          21.0,
          2.0,
          48.0,
          3.0,
          7.0
         ]
        }
       ],
       "layout": {
        "annotations": [
         {
          "font": {
           "color": "gray",
           "size": 8
          },
          "showarrow": false,
          "text": "<a href=\"https://neurolibre.com\" target=\"_blank\" style=\"color:gray!important\">NeuroLibre</a>",
          "x": 0.99,
          "xref": "paper",
          "y": -0.02,
          "yref": "paper"
         }
        ],
        "autosize": false,
        "height": 600,
        "images": [
         {
          "opacity": 0.9,
          "sizex": 0.03,
          "sizey": 0.03,
          "source": "https://raw.githubusercontent.com/notebook-factory/brand/main/nlibre_custom2.svg",
          "x": 0.897,
          "xref": "paper",
          "y": 0.009999999999999998,
          "yref": "paper"
         }
        ],
        "margin": {
         "b": 45,
         "l": 0,
         "r": 0,
         "t": 0
        },
        "template": {
         "data": {
          "bar": [
           {
            "error_x": {
             "color": "#2a3f5f"
            },
            "error_y": {
             "color": "#2a3f5f"
            },
            "marker": {
             "line": {
              "color": "#E5ECF6",
              "width": 0.5
             }
            },
            "type": "bar"
           }
          ],
          "barpolar": [
           {
            "marker": {
             "line": {
              "color": "#E5ECF6",
              "width": 0.5
             }
            },
            "type": "barpolar"
           }
          ],
          "carpet": [
           {
            "aaxis": {
             "endlinecolor": "#2a3f5f",
             "gridcolor": "white",
             "linecolor": "white",
             "minorgridcolor": "white",
             "startlinecolor": "#2a3f5f"
            },
            "baxis": {
             "endlinecolor": "#2a3f5f",
             "gridcolor": "white",
             "linecolor": "white",
             "minorgridcolor": "white",
             "startlinecolor": "#2a3f5f"
            },
            "type": "carpet"
           }
          ],
          "choropleth": [
           {
            "colorbar": {
             "outlinewidth": 0,
             "ticks": ""
            },
            "type": "choropleth"
           }
          ],
          "contour": [
           {
            "colorbar": {
             "outlinewidth": 0,
             "ticks": ""
            },
            "colorscale": [
             [
              0.0,
              "#0d0887"
             ],
             [
              0.1111111111111111,
              "#46039f"
             ],
             [
              0.2222222222222222,
              "#7201a8"
             ],
             [
              0.3333333333333333,
              "#9c179e"
             ],
             [
              0.4444444444444444,
              "#bd3786"
             ],
             [
              0.5555555555555556,
              "#d8576b"
             ],
             [
              0.6666666666666666,
              "#ed7953"
             ],
             [
              0.7777777777777778,
              "#fb9f3a"
             ],
             [
              0.8888888888888888,
              "#fdca26"
             ],
             [
              1.0,
              "#f0f921"
             ]
            ],
            "type": "contour"
           }
          ],
          "contourcarpet": [
           {
            "colorbar": {
             "outlinewidth": 0,
             "ticks": ""
            },
            "type": "contourcarpet"
           }
          ],
          "heatmap": [
           {
            "colorbar": {
             "outlinewidth": 0,
             "ticks": ""
            },
            "colorscale": [
             [
              0.0,
              "#0d0887"
             ],
             [
              0.1111111111111111,
              "#46039f"
             ],
             [
              0.2222222222222222,
              "#7201a8"
             ],
             [
              0.3333333333333333,
              "#9c179e"
             ],
             [
              0.4444444444444444,
              "#bd3786"
             ],
             [
              0.5555555555555556,
              "#d8576b"
             ],
             [
              0.6666666666666666,
              "#ed7953"
             ],
             [
              0.7777777777777778,
              "#fb9f3a"
             ],
             [
              0.8888888888888888,
              "#fdca26"
             ],
             [
              1.0,
              "#f0f921"
             ]
            ],
            "type": "heatmap"
           }
          ],
          "heatmapgl": [
           {
            "colorbar": {
             "outlinewidth": 0,
             "ticks": ""
            },
            "colorscale": [
             [
              0.0,
              "#0d0887"
             ],
             [
              0.1111111111111111,
              "#46039f"
             ],
             [
              0.2222222222222222,
              "#7201a8"
             ],
             [
              0.3333333333333333,
              "#9c179e"
             ],
             [
              0.4444444444444444,
              "#bd3786"
             ],
             [
              0.5555555555555556,
              "#d8576b"
             ],
             [
              0.6666666666666666,
              "#ed7953"
             ],
             [
              0.7777777777777778,
              "#fb9f3a"
             ],
             [
              0.8888888888888888,
              "#fdca26"
             ],
             [
              1.0,
              "#f0f921"
             ]
            ],
            "type": "heatmapgl"
           }
          ],
          "histogram": [
           {
            "marker": {
             "colorbar": {
              "outlinewidth": 0,
              "ticks": ""
             }
            },
            "type": "histogram"
           }
          ],
          "histogram2d": [
           {
            "colorbar": {
             "outlinewidth": 0,
             "ticks": ""
            },
            "colorscale": [
             [
              0.0,
              "#0d0887"
             ],
             [
              0.1111111111111111,
              "#46039f"
             ],
             [
              0.2222222222222222,
              "#7201a8"
             ],
             [
              0.3333333333333333,
              "#9c179e"
             ],
             [
              0.4444444444444444,
              "#bd3786"
             ],
             [
              0.5555555555555556,
              "#d8576b"
             ],
             [
              0.6666666666666666,
              "#ed7953"
             ],
             [
              0.7777777777777778,
              "#fb9f3a"
             ],
             [
              0.8888888888888888,
              "#fdca26"
             ],
             [
              1.0,
              "#f0f921"
             ]
            ],
            "type": "histogram2d"
           }
          ],
          "histogram2dcontour": [
           {
            "colorbar": {
             "outlinewidth": 0,
             "ticks": ""
            },
            "colorscale": [
             [
              0.0,
              "#0d0887"
             ],
             [
              0.1111111111111111,
              "#46039f"
             ],
             [
              0.2222222222222222,
              "#7201a8"
             ],
             [
              0.3333333333333333,
              "#9c179e"
             ],
             [
              0.4444444444444444,
              "#bd3786"
             ],
             [
              0.5555555555555556,
              "#d8576b"
             ],
             [
              0.6666666666666666,
              "#ed7953"
             ],
             [
              0.7777777777777778,
              "#fb9f3a"
             ],
             [
              0.8888888888888888,
              "#fdca26"
             ],
             [
              1.0,
              "#f0f921"
             ]
            ],
            "type": "histogram2dcontour"
           }
          ],
          "mesh3d": [
           {
            "colorbar": {
             "outlinewidth": 0,
             "ticks": ""
            },
            "type": "mesh3d"
           }
          ],
          "parcoords": [
           {
            "line": {
             "colorbar": {
              "outlinewidth": 0,
              "ticks": ""
             }
            },
            "type": "parcoords"
           }
          ],
          "pie": [
           {
            "automargin": true,
            "type": "pie"
           }
          ],
          "scatter": [
           {
            "marker": {
             "colorbar": {
              "outlinewidth": 0,
              "ticks": ""
             }
            },
            "type": "scatter"
           }
          ],
          "scatter3d": [
           {
            "line": {
             "colorbar": {
              "outlinewidth": 0,
              "ticks": ""
             }
            },
            "marker": {
             "colorbar": {
              "outlinewidth": 0,
              "ticks": ""
             }
            },
            "type": "scatter3d"
           }
          ],
          "scattercarpet": [
           {
            "marker": {
             "colorbar": {
              "outlinewidth": 0,
              "ticks": ""
             }
            },
            "type": "scattercarpet"
           }
          ],
          "scattergeo": [
           {
            "marker": {
             "colorbar": {
              "outlinewidth": 0,
              "ticks": ""
             }
            },
            "type": "scattergeo"
           }
          ],
          "scattergl": [
           {
            "marker": {
             "colorbar": {
              "outlinewidth": 0,
              "ticks": ""
             }
            },
            "type": "scattergl"
           }
          ],
          "scattermapbox": [
           {
            "marker": {
             "colorbar": {
              "outlinewidth": 0,
              "ticks": ""
             }
            },
            "type": "scattermapbox"
           }
          ],
          "scatterpolar": [
           {
            "marker": {
             "colorbar": {
              "outlinewidth": 0,
              "ticks": ""
             }
            },
            "type": "scatterpolar"
           }
          ],
          "scatterpolargl": [
           {
            "marker": {
             "colorbar": {
              "outlinewidth": 0,
              "ticks": ""
             }
            },
            "type": "scatterpolargl"
           }
          ],
          "scatterternary": [
           {
            "marker": {
             "colorbar": {
              "outlinewidth": 0,
              "ticks": ""
             }
            },
            "type": "scatterternary"
           }
          ],
          "surface": [
           {
            "colorbar": {
             "outlinewidth": 0,
             "ticks": ""
            },
            "colorscale": [
             [
              0.0,
              "#0d0887"
             ],
             [
              0.1111111111111111,
              "#46039f"
             ],
             [
              0.2222222222222222,
              "#7201a8"
             ],
             [
              0.3333333333333333,
              "#9c179e"
             ],
             [
              0.4444444444444444,
              "#bd3786"
             ],
             [
              0.5555555555555556,
              "#d8576b"
             ],
             [
              0.6666666666666666,
              "#ed7953"
             ],
             [
              0.7777777777777778,
              "#fb9f3a"
             ],
             [
              0.8888888888888888,
              "#fdca26"
             ],
             [
              1.0,
              "#f0f921"
             ]
            ],
            "type": "surface"
           }
          ],
          "table": [
           {
            "cells": {
             "fill": {
              "color": "#EBF0F8"
             },
             "line": {
              "color": "white"
             }
            },
            "header": {
             "fill": {
              "color": "#C8D4E3"
             },
             "line": {
              "color": "white"
             }
            },
            "type": "table"
           }
          ]
         },
         "layout": {
          "annotationdefaults": {
           "arrowcolor": "#2a3f5f",
           "arrowhead": 0,
           "arrowwidth": 1
          },
          "coloraxis": {
           "colorbar": {
            "outlinewidth": 0,
            "ticks": ""
           }
          },
          "colorscale": {
           "diverging": [
            [
             0,
             "#8e0152"
            ],
            [
             0.1,
             "#c51b7d"
            ],
            [
             0.2,
             "#de77ae"
            ],
            [
             0.3,
             "#f1b6da"
            ],
            [
             0.4,
             "#fde0ef"
            ],
            [
             0.5,
             "#f7f7f7"
            ],
            [
             0.6,
             "#e6f5d0"
            ],
            [
             0.7,
             "#b8e186"
            ],
            [
             0.8,
             "#7fbc41"
            ],
            [
             0.9,
             "#4d9221"
            ],
            [
             1,
             "#276419"
            ]
           ],
           "sequential": [
            [
             0.0,
             "#0d0887"
            ],
            [
             0.1111111111111111,
             "#46039f"
            ],
            [
             0.2222222222222222,
             "#7201a8"
            ],
            [
             0.3333333333333333,
             "#9c179e"
            ],
            [
             0.4444444444444444,
             "#bd3786"
            ],
            [
             0.5555555555555556,
             "#d8576b"
            ],
            [
             0.6666666666666666,
             "#ed7953"
            ],
            [
             0.7777777777777778,
             "#fb9f3a"
            ],
            [
             0.8888888888888888,
             "#fdca26"
            ],
            [
             1.0,
             "#f0f921"
            ]
           ],
           "sequentialminus": [
            [
             0.0,
             "#0d0887"
            ],
            [
             0.1111111111111111,
             "#46039f"
            ],
            [
             0.2222222222222222,
             "#7201a8"
            ],
            [
             0.3333333333333333,
             "#9c179e"
            ],
            [
             0.4444444444444444,
             "#bd3786"
            ],
            [
             0.5555555555555556,
             "#d8576b"
            ],
            [
             0.6666666666666666,
             "#ed7953"
            ],
            [
             0.7777777777777778,
             "#fb9f3a"
            ],
            [
             0.8888888888888888,
             "#fdca26"
            ],
            [
             1.0,
             "#f0f921"
            ]
           ]
          },
          "colorway": [
           "#636efa",
           "#EF553B",
           "#00cc96",
           "#ab63fa",
           "#FFA15A",
           "#19d3f3",
           "#FF6692",
           "#B6E880",
           "#FF97FF",
           "#FECB52"
          ],
          "font": {
           "color": "#2a3f5f"
          },
          "geo": {
           "bgcolor": "white",
           "lakecolor": "white",
           "landcolor": "#E5ECF6",
           "showlakes": true,
           "showland": true,
           "subunitcolor": "white"
          },
          "hoverlabel": {
           "align": "left"
          },
          "hovermode": "closest",
          "mapbox": {
           "style": "light"
          },
          "paper_bgcolor": "white",
          "plot_bgcolor": "#E5ECF6",
          "polar": {
           "angularaxis": {
            "gridcolor": "white",
            "linecolor": "white",
            "ticks": ""
           },
           "bgcolor": "#E5ECF6",
           "radialaxis": {
            "gridcolor": "white",
            "linecolor": "white",
            "ticks": ""
           }
          },
          "scene": {
           "xaxis": {
            "backgroundcolor": "#E5ECF6",
            "gridcolor": "white",
            "gridwidth": 2,
            "linecolor": "white",
            "showbackground": true,
            "ticks": "",
            "zerolinecolor": "white"
           },
           "yaxis": {
            "backgroundcolor": "#E5ECF6",
            "gridcolor": "white",
            "gridwidth": 2,
            "linecolor": "white",
            "showbackground": true,
            "ticks": "",
            "zerolinecolor": "white"
           },
           "zaxis": {
            "backgroundcolor": "#E5ECF6",
            "gridcolor": "white",
            "gridwidth": 2,
            "linecolor": "white",
            "showbackground": true,
            "ticks": "",
            "zerolinecolor": "white"
           }
          },
          "shapedefaults": {
           "line": {
            "color": "#2a3f5f"
           }
          },
          "ternary": {
           "aaxis": {
            "gridcolor": "white",
            "linecolor": "white",
            "ticks": ""
           },
           "baxis": {
            "gridcolor": "white",
            "linecolor": "white",
            "ticks": ""
           },
           "bgcolor": "#E5ECF6",
           "caxis": {
            "gridcolor": "white",
            "linecolor": "white",
            "ticks": ""
           }
          },
          "title": {
           "x": 0.05
          },
          "xaxis": {
           "automargin": true,
           "gridcolor": "white",
           "linecolor": "white",
           "ticks": "",
           "title": {
            "standoff": 15
           },
           "zerolinecolor": "white",
           "zerolinewidth": 2
          },
          "yaxis": {
           "automargin": true,
           "gridcolor": "white",
           "linecolor": "white",
           "ticks": "",
           "title": {
            "standoff": 15
           },
           "zerolinecolor": "white",
           "zerolinewidth": 2
          }
         }
        },
        "width": 680
       }
      },
      "text/html": "<div>\n        \n        \n            <div id=\"076482f0-4187-40a9-a45b-2d2f5be8be23\" class=\"plotly-graph-div\" style=\"height:600px; width:680px;\"></div>\n            <script type=\"text/javascript\">\n                require([\"plotly\"], function(Plotly) {\n                    window.PLOTLYENV=window.PLOTLYENV || {};\n                    \n                if (document.getElementById(\"076482f0-4187-40a9-a45b-2d2f5be8be23\")) {\n                    Plotly.newPlot(\n                        '076482f0-4187-40a9-a45b-2d2f5be8be23',\n                        [{\"branchvalues\": \"total\", \"hoverinfo\": \"label\", \"ids\": [\"Brain/Ex vivo - Fixed/Animal - Mouse/Optogenetic stimulation/Abe et al., 2019\", \"Brain/In vivo/Animal - Rat/Hydrocephalus/Aojula et al., 2016\", \"Brain/In vivo/Animal - Mouse/Demyelination - Cuprizone/Beckmann et al., 2018\", \"Brain/Ex vivo - Fixed/Animal - Mouse/Demyelination - Knockout/Berman et al., 2018\", \"Brain/In vivo/Animal - Mouse/Demyelination - Cuprizone/Chandran et al., 2012\", \"Brain/Ex vivo - Fixed/Animal - Mouse/Healthy/Chang et al., 2017\", \"Spinal cord/Ex vivo - Fixed/Animal - Rat/Injury - Dorsal columnar transection/Chen et al., 2017\", \"Brain/In vivo/Animal - Mouse/Healthy/Duhamel et al., 2019\", \"Brain/In vivo/Animal - Mouse/Ischemia - Induced hypoxia/Fatemi et al., 2011\", \"Brain/In vivo/Animal - Mouse/Demyelination - Cuprizone/Fjaer et al., 2013\", \"Brain/In vivo/Animal - Mouse/Demyelination - Autoimmune encephalomyelitis/Fjaer et al., 2015\", \"Brain/In vivo/Animal - Mouse/Healthy/Guglielmetti et al., 2020\", \"Brain/Ex vivo - Fixed/Animal - Rat/Healthy/Hakkarainen et al., 2016\", \"Brain/In situ/Human/Vascular diseases/Hametner et al., 2018\", \"Spinal cord/In vivo/Animal - Rat/Edema - Hexachlorophene/Harkins et al., 2013\", \"Brain/Ex vivo - Fixed/Animal - Rat/Demyelination - Lipopolysaccharide/Janve et al., 2013\", \"Brain/In vivo/Animal - Mouse/Demyelination - Cuprizone/Jelescu et al., 2016\", \"Brain/In vivo/Animal - Mouse/Healthy/Jito et al., 2008\", \"Brain/Ex vivo - Fixed/Animal - Mouse/Demyelination - Knockout/Kelm et al., 2016\", \"Brain/In vivo/Animal - Mouse/Demyelination - Cuprizone/Khodanovic et al., 2017\", \"Brain/In vivo/Animal - Mouse/Demyelination - Cuprizone/Khodanovic et al., 2019\", \"Spinal cord/Ex vivo - Fixed/Animal - Rat/Injury - Dorsal columnar transection/Kozlowski et al., 2008\", \"Spinal cord/In vivo/Animal - Rat/Injury - Dorsal columnar transection/Kozlowski et al., 2014\", \"Brain/Ex vivo - Fixed/Human/Multiple sclerosis/Laule et al., 2006\", \"Brain/Ex vivo - Fixed/Human/Multiple sclerosis/Laule et al., 2008\", \"Brain/Ex vivo - Fixed/Human/Multiple sclerosis/Laule et al., 2011\", \"Brain/In vivo/Animal - Rat/Demyelination - Lipopolysaccharide/Lehto et al., 2017a\", \"Brain/Ex vivo - Unfixed/Animal - Rat/Traumatic brain injury/Lehto et al., 2017b\", \"Brain/Ex vivo - Fixed/Human/Amyotrophic lateral sclerosis/Mollink et al., 2019\", \"Peripheral nerve/Ex vivo - Unfixed/Animal - Rat/Demyelination - Tellurium/Odrobina et al., 2005\", \"Brain/Ex vivo - Fixed/Human/Tuberous sclerosis complex/Peters et al., 2019\", \"Brain/In vivo/Animal - Mouse/Healthy/Pol et al., 2019\", \"Brain/In vivo/Animal - Mouse/Amyloidosis/Praet et al., 2018\", \"Peripheral nerve/Ex vivo - Unfixed/Animal - Rat/Demyelination - Tellurium/Pun et al., 2005\", \"Brain/Ex vivo - Fixed/Human/Epilepsy/Reeves et al., 2016\", \"Brain/Ex vivo - Unfixed/Human/Multiple sclerosis/Schmierer et al., 2004\", \"Brain/Ex vivo - Unfixed/Human/Multiple sclerosis/Schmierer et al., 2007a\", \"Brain/Ex vivo - Unfixed/Human/Multiple sclerosis/Schmierer et al., 2007b\", \"Brain/Ex vivo - Fixed/Human/Multiple sclerosis/Schmierer et al., 2008\", \"Brain/Ex vivo - Fixed/Human/Multiple sclerosis/Schmierer et al., 2010\", \"Brain/Ex vivo - Fixed/Human/Healthy/Seehaus et al., 2015\", \"Brain/In situ/Animal - Mouse/Demyelination - Cuprizone/Soustelle et al., 2019\", \"Peripheral nerve/Ex vivo - Unfixed/Animal - Rat/Degeneration - Contusive injury/Takagi et al., 2009\", \"Brain/Ex vivo - Fixed/Human/Multiple sclerosis/Tardif et al., 2012\", \"Brain/Ex vivo - Unfixed/Animal - Mouse/Demyelination - Cuprizone/Thiessen et al., 2013\", \"Brain/In vivo/Animal - Rat/Traumatic brain injury/Tu et al., 2016\", \"Brain/In vivo/Animal - Mouse/Demyelination - Cuprizone/Turati et al., 2015\", \"Brain/In vivo/Animal - Mouse/Healthy/Underhill et al., 2011\", \"Brain/In vivo/Animal - Rat/Ischemia - Induced hypoxia/Wang et al., 2009\", \"Spinal cord/Ex vivo - Fixed/Animal - Mouse/Demyelination - Autoimmune encephalomyelitis/Wang et al., 2014\", \"Spinal cord/Ex vivo - Fixed/Human/Multiple sclerosis/Wang et al., 2015\", \"Brain/Ex vivo - Fixed/Animal - Mouse/Traumatic brain injury/Wendel et al., 2018\", \"Brain/Ex vivo - Fixed/Animal - Mouse/Demyelination - Knockout/West et al., 2018\", \"Brain/In vivo/Animal - Mouse/Demyelination - Cuprizone/Wu et al., 2008\", \"Brain/Ex vivo - Fixed/Animal - Mouse/Demyelination - Cuprizone/Yano et al., 2018\", \"Brain/In vivo/Animal - Mouse/Demyelination - Cuprizone/Zaaraoui et al., 2008\", \"Spinal cord/Ex vivo - Fixed/Animal - Rat/Injury - Dorsal columnar transection/Zhang et al., 2009\", \"Brain/Ex vivo - Fixed/Animal - Rat/White matter injury/van Tilborg et al., 2017\", \"Brain/In vivo/Animal - Mouse/Amyloidosis\", \"Brain/Ex vivo - Fixed/Human/Amyotrophic lateral sclerosis\", \"Peripheral nerve/Ex vivo - Unfixed/Animal - Rat/Degeneration - Contusive injury\", \"Spinal cord/Ex vivo - Fixed/Animal - Mouse/Demyelination - Autoimmune encephalomyelitis\", \"Brain/In vivo/Animal - Mouse/Demyelination - Autoimmune encephalomyelitis\", \"Brain/Ex vivo - Fixed/Animal - Mouse/Demyelination - Cuprizone\", \"Brain/Ex vivo - Unfixed/Animal - Mouse/Demyelination - Cuprizone\", \"Brain/In situ/Animal - Mouse/Demyelination - Cuprizone\", \"Brain/In vivo/Animal - Mouse/Demyelination - Cuprizone\", \"Brain/Ex vivo - Fixed/Animal - Mouse/Demyelination - Knockout\", \"Brain/Ex vivo - Fixed/Animal - Rat/Demyelination - Lipopolysaccharide\", \"Brain/In vivo/Animal - Rat/Demyelination - Lipopolysaccharide\", \"Peripheral nerve/Ex vivo - Unfixed/Animal - Rat/Demyelination - Tellurium\", \"Spinal cord/In vivo/Animal - Rat/Edema - Hexachlorophene\", \"Brain/Ex vivo - Fixed/Human/Epilepsy\", \"Brain/Ex vivo - Fixed/Animal - Mouse/Healthy\", \"Brain/In vivo/Animal - Mouse/Healthy\", \"Brain/Ex vivo - Fixed/Animal - Rat/Healthy\", \"Brain/Ex vivo - Fixed/Human/Healthy\", \"Brain/In vivo/Animal - Rat/Hydrocephalus\", \"Spinal cord/Ex vivo - Fixed/Animal - Rat/Injury - Dorsal columnar transection\", \"Spinal cord/In vivo/Animal - Rat/Injury - Dorsal columnar transection\", \"Brain/In vivo/Animal - Mouse/Ischemia - Induced hypoxia\", \"Brain/In vivo/Animal - Rat/Ischemia - Induced hypoxia\", \"Brain/Ex vivo - Fixed/Human/Multiple sclerosis\", \"Spinal cord/Ex vivo - Fixed/Human/Multiple sclerosis\", \"Brain/Ex vivo - Unfixed/Human/Multiple sclerosis\", \"Brain/Ex vivo - Fixed/Animal - Mouse/Optogenetic stimulation\", \"Brain/Ex vivo - Fixed/Animal - Mouse/Traumatic brain injury\", \"Brain/Ex vivo - Unfixed/Animal - Rat/Traumatic brain injury\", \"Brain/In vivo/Animal - Rat/Traumatic brain injury\", \"Brain/Ex vivo - Fixed/Human/Tuberous sclerosis complex\", \"Brain/In situ/Human/Vascular diseases\", \"Brain/Ex vivo - Fixed/Animal - Rat/White matter injury\", \"Brain/Ex vivo - Fixed/Animal - Mouse\", \"Spinal cord/Ex vivo - Fixed/Animal - Mouse\", \"Brain/Ex vivo - Unfixed/Animal - Mouse\", \"Brain/In situ/Animal - Mouse\", \"Brain/In vivo/Animal - Mouse\", \"Brain/Ex vivo - Fixed/Animal - Rat\", \"Spinal cord/Ex vivo - Fixed/Animal - Rat\", \"Brain/Ex vivo - Unfixed/Animal - Rat\", \"Peripheral nerve/Ex vivo - Unfixed/Animal - Rat\", \"Brain/In vivo/Animal - Rat\", \"Spinal cord/In vivo/Animal - Rat\", \"Brain/Ex vivo - Fixed/Human\", \"Spinal cord/Ex vivo - Fixed/Human\", \"Brain/Ex vivo - Unfixed/Human\", \"Brain/In situ/Human\", \"Brain/Ex vivo - Fixed\", \"Spinal cord/Ex vivo - Fixed\", \"Brain/Ex vivo - Unfixed\", \"Peripheral nerve/Ex vivo - Unfixed\", \"Brain/In situ\", \"Brain/In vivo\", \"Spinal cord/In vivo\", \"Brain\", \"Peripheral nerve\", \"Spinal cord\"], \"labels\": [\"Abe et al., 2019\", \"Aojula et al., 2016\", \"Beckmann et al., 2018\", \"Berman et al., 2018\", \"Chandran et al., 2012\", \"Chang et al., 2017\", \"Chen et al., 2017\", \"Duhamel et al., 2019\", \"Fatemi et al., 2011\", \"Fjaer et al., 2013\", \"Fjaer et al., 2015\", \"Guglielmetti et al., 2020\", \"Hakkarainen et al., 2016\", \"Hametner et al., 2018\", \"Harkins et al., 2013\", \"Janve et al., 2013\", \"Jelescu et al., 2016\", \"Jito et al., 2008\", \"Kelm et al., 2016\", \"Khodanovic et al., 2017\", \"Khodanovic et al., 2019\", \"Kozlowski et al., 2008\", \"Kozlowski et al., 2014\", \"Laule et al., 2006\", \"Laule et al., 2008\", \"Laule et al., 2011\", \"Lehto et al., 2017a\", \"Lehto et al., 2017b\", \"Mollink et al., 2019\", \"Odrobina et al., 2005\", \"Peters et al., 2019\", \"Pol et al., 2019\", \"Praet et al., 2018\", \"Pun et al., 2005\", \"Reeves et al., 2016\", \"Schmierer et al., 2004\", \"Schmierer et al., 2007a\", \"Schmierer et al., 2007b\", \"Schmierer et al., 2008\", \"Schmierer et al., 2010\", \"Seehaus et al., 2015\", \"Soustelle et al., 2019\", \"Takagi et al., 2009\", \"Tardif et al., 2012\", \"Thiessen et al., 2013\", \"Tu et al., 2016\", \"Turati et al., 2015\", \"Underhill et al., 2011\", \"Wang et al., 2009\", \"Wang et al., 2014\", \"Wang et al., 2015\", \"Wendel et al., 2018\", \"West et al., 2018\", \"Wu et al., 2008\", \"Yano et al., 2018\", \"Zaaraoui et al., 2008\", \"Zhang et al., 2009\", \"van Tilborg et al., 2017\", \"Amyloidosis\", \"Amyotrophic lateral sclerosis\", \"Degeneration - Contusive injury\", \"Demyelination - Autoimmune encephalomyelitis\", \"Demyelination - Autoimmune encephalomyelitis\", \"Demyelination - Cuprizone\", \"Demyelination - Cuprizone\", \"Demyelination - Cuprizone\", \"Demyelination - Cuprizone\", \"Demyelination - Knockout\", \"Demyelination - Lipopolysaccharide\", \"Demyelination - Lipopolysaccharide\", \"Demyelination - Tellurium\", \"Edema - Hexachlorophene\", \"Epilepsy\", \"Healthy\", \"Healthy\", \"Healthy\", \"Healthy\", \"Hydrocephalus\", \"Injury - Dorsal columnar transection\", \"Injury - Dorsal columnar transection\", \"Ischemia - Induced hypoxia\", \"Ischemia - Induced hypoxia\", \"Multiple sclerosis\", \"Multiple sclerosis\", \"Multiple sclerosis\", \"Optogenetic stimulation\", \"Traumatic brain injury\", \"Traumatic brain injury\", \"Traumatic brain injury\", \"Tuberous sclerosis complex\", \"Vascular diseases\", \"White matter injury\", \"Animal - Mouse\", \"Animal - Mouse\", \"Animal - Mouse\", \"Animal - Mouse\", \"Animal - Mouse\", \"Animal - Rat\", \"Animal - Rat\", \"Animal - Rat\", \"Animal - Rat\", \"Animal - Rat\", \"Animal - Rat\", \"Human\", \"Human\", \"Human\", \"Human\", \"Ex vivo - Fixed\", \"Ex vivo - Fixed\", \"Ex vivo - Unfixed\", \"Ex vivo - Unfixed\", \"In situ\", \"In vivo\", \"In vivo\", \"Brain\", \"Peripheral nerve\", \"Spinal cord\"], \"parents\": [\"Brain/Ex vivo - Fixed/Animal - Mouse/Optogenetic stimulation\", \"Brain/In vivo/Animal - Rat/Hydrocephalus\", \"Brain/In vivo/Animal - Mouse/Demyelination - Cuprizone\", \"Brain/Ex vivo - Fixed/Animal - Mouse/Demyelination - Knockout\", \"Brain/In vivo/Animal - Mouse/Demyelination - Cuprizone\", \"Brain/Ex vivo - Fixed/Animal - Mouse/Healthy\", \"Spinal cord/Ex vivo - Fixed/Animal - Rat/Injury - Dorsal columnar transection\", \"Brain/In vivo/Animal - Mouse/Healthy\", \"Brain/In vivo/Animal - Mouse/Ischemia - Induced hypoxia\", \"Brain/In vivo/Animal - Mouse/Demyelination - Cuprizone\", \"Brain/In vivo/Animal - Mouse/Demyelination - Autoimmune encephalomyelitis\", \"Brain/In vivo/Animal - Mouse/Healthy\", \"Brain/Ex vivo - Fixed/Animal - Rat/Healthy\", \"Brain/In situ/Human/Vascular diseases\", \"Spinal cord/In vivo/Animal - Rat/Edema - Hexachlorophene\", \"Brain/Ex vivo - Fixed/Animal - Rat/Demyelination - Lipopolysaccharide\", \"Brain/In vivo/Animal - Mouse/Demyelination - Cuprizone\", \"Brain/In vivo/Animal - Mouse/Healthy\", \"Brain/Ex vivo - Fixed/Animal - Mouse/Demyelination - Knockout\", \"Brain/In vivo/Animal - Mouse/Demyelination - Cuprizone\", \"Brain/In vivo/Animal - Mouse/Demyelination - Cuprizone\", \"Spinal cord/Ex vivo - Fixed/Animal - Rat/Injury - Dorsal columnar transection\", \"Spinal cord/In vivo/Animal - Rat/Injury - Dorsal columnar transection\", \"Brain/Ex vivo - Fixed/Human/Multiple sclerosis\", \"Brain/Ex vivo - Fixed/Human/Multiple sclerosis\", \"Brain/Ex vivo - Fixed/Human/Multiple sclerosis\", \"Brain/In vivo/Animal - Rat/Demyelination - Lipopolysaccharide\", \"Brain/Ex vivo - Unfixed/Animal - Rat/Traumatic brain injury\", \"Brain/Ex vivo - Fixed/Human/Amyotrophic lateral sclerosis\", \"Peripheral nerve/Ex vivo - Unfixed/Animal - Rat/Demyelination - Tellurium\", \"Brain/Ex vivo - Fixed/Human/Tuberous sclerosis complex\", \"Brain/In vivo/Animal - Mouse/Healthy\", \"Brain/In vivo/Animal - Mouse/Amyloidosis\", \"Peripheral nerve/Ex vivo - Unfixed/Animal - Rat/Demyelination - Tellurium\", \"Brain/Ex vivo - Fixed/Human/Epilepsy\", \"Brain/Ex vivo - Unfixed/Human/Multiple sclerosis\", \"Brain/Ex vivo - Unfixed/Human/Multiple sclerosis\", \"Brain/Ex vivo - Unfixed/Human/Multiple sclerosis\", \"Brain/Ex vivo - Fixed/Human/Multiple sclerosis\", \"Brain/Ex vivo - Fixed/Human/Multiple sclerosis\", \"Brain/Ex vivo - Fixed/Human/Healthy\", \"Brain/In situ/Animal - Mouse/Demyelination - Cuprizone\", \"Peripheral nerve/Ex vivo - Unfixed/Animal - Rat/Degeneration - Contusive injury\", \"Brain/Ex vivo - Fixed/Human/Multiple sclerosis\", \"Brain/Ex vivo - Unfixed/Animal - Mouse/Demyelination - Cuprizone\", \"Brain/In vivo/Animal - Rat/Traumatic brain injury\", \"Brain/In vivo/Animal - Mouse/Demyelination - Cuprizone\", \"Brain/In vivo/Animal - Mouse/Healthy\", \"Brain/In vivo/Animal - Rat/Ischemia - Induced hypoxia\", \"Spinal cord/Ex vivo - Fixed/Animal - Mouse/Demyelination - Autoimmune encephalomyelitis\", \"Spinal cord/Ex vivo - Fixed/Human/Multiple sclerosis\", \"Brain/Ex vivo - Fixed/Animal - Mouse/Traumatic brain injury\", \"Brain/Ex vivo - Fixed/Animal - Mouse/Demyelination - Knockout\", \"Brain/In vivo/Animal - Mouse/Demyelination - Cuprizone\", \"Brain/Ex vivo - Fixed/Animal - Mouse/Demyelination - Cuprizone\", \"Brain/In vivo/Animal - Mouse/Demyelination - Cuprizone\", \"Spinal cord/Ex vivo - Fixed/Animal - Rat/Injury - Dorsal columnar transection\", \"Brain/Ex vivo - Fixed/Animal - Rat/White matter injury\", \"Brain/In vivo/Animal - Mouse\", \"Brain/Ex vivo - Fixed/Human\", \"Peripheral nerve/Ex vivo - Unfixed/Animal - Rat\", \"Spinal cord/Ex vivo - Fixed/Animal - Mouse\", \"Brain/In vivo/Animal - Mouse\", \"Brain/Ex vivo - Fixed/Animal - Mouse\", \"Brain/Ex vivo - Unfixed/Animal - Mouse\", \"Brain/In situ/Animal - Mouse\", \"Brain/In vivo/Animal - Mouse\", \"Brain/Ex vivo - Fixed/Animal - Mouse\", \"Brain/Ex vivo - Fixed/Animal - Rat\", \"Brain/In vivo/Animal - Rat\", \"Peripheral nerve/Ex vivo - Unfixed/Animal - Rat\", \"Spinal cord/In vivo/Animal - Rat\", \"Brain/Ex vivo - Fixed/Human\", \"Brain/Ex vivo - Fixed/Animal - Mouse\", \"Brain/In vivo/Animal - Mouse\", \"Brain/Ex vivo - Fixed/Animal - Rat\", \"Brain/Ex vivo - Fixed/Human\", \"Brain/In vivo/Animal - Rat\", \"Spinal cord/Ex vivo - Fixed/Animal - Rat\", \"Spinal cord/In vivo/Animal - Rat\", \"Brain/In vivo/Animal - Mouse\", \"Brain/In vivo/Animal - Rat\", \"Brain/Ex vivo - Fixed/Human\", \"Spinal cord/Ex vivo - Fixed/Human\", \"Brain/Ex vivo - Unfixed/Human\", \"Brain/Ex vivo - Fixed/Animal - Mouse\", \"Brain/Ex vivo - Fixed/Animal - Mouse\", \"Brain/Ex vivo - Unfixed/Animal - Rat\", \"Brain/In vivo/Animal - Rat\", \"Brain/Ex vivo - Fixed/Human\", \"Brain/In situ/Human\", \"Brain/Ex vivo - Fixed/Animal - Rat\", \"Brain/Ex vivo - Fixed\", \"Spinal cord/Ex vivo - Fixed\", \"Brain/Ex vivo - Unfixed\", \"Brain/In situ\", \"Brain/In vivo\", \"Brain/Ex vivo - Fixed\", \"Spinal cord/Ex vivo - Fixed\", \"Brain/Ex vivo - Unfixed\", \"Peripheral nerve/Ex vivo - Unfixed\", \"Brain/In vivo\", \"Spinal cord/In vivo\", \"Brain/Ex vivo - Fixed\", \"Spinal cord/Ex vivo - Fixed\", \"Brain/Ex vivo - Unfixed\", \"Brain/In situ\", \"Brain\", \"Spinal cord\", \"Brain\", \"Peripheral nerve\", \"Brain\", \"Brain\", \"Spinal cord\", \"\", \"\", \"\"], \"text\": [\"<a style='color:white' href='https://doi.org/10.1016/j.neuint.2019.02.017'>->Go to the paper</a><br><br>Approach: Diffusion<br><br>Magnetic field: 7.0<br><br>MRI measure(s): FA, RD, AD<br><br>Histology/microscopy measure: Microscopy - Myelin thickness<br><br>Specific structure(s): Putamen, Accumbens, Globus pallidus, Substantia nigra, Cortex<br><br>\", \"<a style='color:white' href='https://doi.org/10.1186/s12987-016-0033-2'>->Go to the paper</a><br><br>Approach: Diffusion<br><br>Magnetic field: 7.0<br><br>MRI measure(s): FA, AD, RD, MD<br><br>Histology/microscopy measure: Immunohistochemistry - MBP<br><br>Specific structure(s): Corpus callosum<br><br>\", \"<a style='color:white' href='https://doi.org/10.1186/s40478-018-0510-8'>->Go to the paper</a><br><br>Approach: Magnetization transfer<br><br>Magnetic field: 7.0<br><br>MRI measure(s): MTR<br><br>Histology/microscopy measure: Histology - LFB<br><br>Specific structure(s): Corpus callosum, External capsule<br><br>\", \"<a style='color:white' href='https://doi.org/10.1016/j.neuroimage.2017.06.076'>->Go to the paper</a><br><br>Approach: Other<br><br>Magnetic field: 15.2<br><br>MRI measure(s): MTV<br><br>Histology/microscopy measure: EM - Myelin fraction<br><br>Specific structure(s): Corpus callosum<br><br>\", \"<a style='color:white' href='https://doi.org/10.1016/j.neuroscience.2011.10.051'>->Go to the paper</a><br><br>Approach: Diffusion<br><br>Magnetic field: 7.0<br><br>MRI measure(s): FA, RD<br><br>Histology/microscopy measure: Immunohistochemistry - MBP<br><br>Specific structure(s): White matter<br><br>\", \"<a style='color:white' href='https://doi.org/10.1016/j.dib.2016.12.018'>->Go to the paper</a><br><br>Approach: Diffusion<br><br>Magnetic field: 11.7<br><br>MRI measure(s): FA, AD, RD, MD<br><br>Histology/microscopy measure: Immunohistochemistry - MBP<br><br>Specific structure(s): Corpus callosum, Anterior commissure, Fimbria, Fornix, Stria medullaris, Fasciculus retroflexus, Mammilothalamic tract<br><br>\", \"<a style='color:white' href='https://doi.org/10.1016/j.neuroimage.2017.03.065'>->Go to the paper</a><br><br>Approach: T2 relaxometry<br><br>Magnetic field: 7.0<br><br>MRI measure(s): MWF<br><br>Histology/microscopy measure: EM - Myelin fraction<br><br>Specific structure(s): Cervical sections<br><br>\", \"<a style='color:white' href='https://doi.org/10.1016/j.neuroimage.2019.05.061'>->Go to the paper</a><br><br>Approach: Magnetization transfer<br><br>Magnetic field: 11.75<br><br>MRI measure(s): ihMTR, MTR<br><br>Histology/microscopy measure: Microscopy - Fluorescence<br><br>Specific structure(s): Corpus callosum, Internal capsule, Optic nerve, Thalamus, Cortex, Hippocampus, Inter-peduncular nuclues<br><br>\", \"<a style='color:white' href='https://doi.org/10.1038/jcbfm.2011.68'>->Go to the paper</a><br><br>Approach: Magnetization transfer<br><br>Magnetic field: 9.4<br><br>MRI measure(s): MTR<br><br>Histology/microscopy measure: Immunohistochemistry - MBP<br><br>Specific structure(s): Corpus callosum, Internal capsule<br><br>\", \"<a style='color:white' href='https://doi.org/10.1371/journal.pone.0084162'>->Go to the paper</a><br><br>Approach: Magnetization transfer<br><br>Magnetic field: 7.0<br><br>MRI measure(s): MTR<br><br>Histology/microscopy measure: Immunohistochemistry - PLP<br><br>Specific structure(s): Corpus callosum<br><br>\", \"<a style='color:white' href='https://doi.org/10.1016/j.neuint.2015.02.006'>->Go to the paper</a><br><br>Approach: Magnetization transfer<br><br>Magnetic field: 7.0<br><br>MRI measure(s): MTR<br><br>Histology/microscopy measure: Immunohistochemistry - PLP<br><br>Specific structure(s): Corpus callosum<br><br>\", \"<a style='color:white' href='https://doi.org/10.1016/j.neuroimage.2019.116415'>->Go to the paper</a><br><br>Approach: Magnetization transfer<br><br>Magnetic field: 7.0<br><br>MRI measure(s): MTR, MTR-UTE<br><br>Histology/microscopy measure: Immunohistochemistry - MBP<br><br>Specific structure(s): Corpus callosum, Internal capsule, Thalamus, Putamen, Hippocampus, Cortex<br><br>\", \"<a style='color:white' href='https://doi.org/10.1002/mrm.25590'>->Go to the paper</a><br><br>Approach: Magnetization transfer, T1 relaxometry, T2 relaxometry, Other<br><br>Magnetic field: 9.4<br><br>MRI measure(s): T1, T2, MTR, T1p, T2p, RAFF<br><br>Histology/microscopy measure: Histology - Gold chloride<br><br>Specific structure(s): Corpus callosum, External capsule, Internal capsule, Cingulum, Fimbria, Optic tract, Dentate gyrus, Hippocampus, Amygdala, Somatosensory cortex, Thalamic nuclei<br><br>\", \"<a style='color:white' href='https://doi.org/10.1016/j.neuroimage.2018.06.007'>->Go to the paper</a><br><br>Approach: T1 relaxometry, Other<br><br>Magnetic field: 7.0<br><br>MRI measure(s): R2*, T1, QSM<br><br>Histology/microscopy measure: Histology - LFB<br><br>Specific structure(s): White matter, Grey matter, Thalamus, Basal ganglia<br><br>\", \"<a style='color:white' href='https://doi.org/10.1016/j.nicl.2013.06.007'>->Go to the paper</a><br><br>Approach: Magnetization transfer, T2 relaxometry<br><br>Magnetic field: 9.4<br><br>MRI measure(s): MWF, MPF<br><br>Histology/microscopy measure: Microscopy - Myelin fraction<br><br>Specific structure(s): Cervical sections<br><br>\", \"<a style='color:white' href='https://doi.org/10.1016/j.neuroimage.2013.02.034'>->Go to the paper</a><br><br>Approach: Diffusion, Magnetization transfer<br><br>Magnetic field: 9.4<br><br>MRI measure(s): MPF, R1a, k_ba, FA, RD, MD, AD<br><br>Histology/microscopy measure: Histology - LFB<br><br>Specific structure(s): Corpus callosum<br><br>\", \"<a style='color:white' href='https://doi.org/10.1016/j.neuroimage.2016.02.004'>->Go to the paper</a><br><br>Approach: Diffusion, Magnetization transfer, T2 relaxometry<br><br>Magnetic field: 7.0<br><br>MRI measure(s): RD, RK, AWF, Rde, T2, MTR<br><br>Histology/microscopy measure: EM - Myelin fraction<br><br>Specific structure(s): Corpus callosum<br><br>\", \"<a style='color:white' href='https://doi.org/10.1002/jmri.21496'>->Go to the paper</a><br><br>Approach: Diffusion<br><br>Magnetic field: 7.0<br><br>MRI measure(s): FA<br><br>Histology/microscopy measure: Microscopy - Myelin sheath area<br><br>Specific structure(s): Corpus callosum<br><br>\", \"<a style='color:white' href='https://doi.org/10.1016/j.neuroimage.2015.09.028'>->Go to the paper</a><br><br>Approach: Diffusion<br><br>Magnetic field: 15.2<br><br>MRI measure(s): MD, RD, MK, RK, AWF<br><br>Histology/microscopy measure: EM - Myelin fraction<br><br>Specific structure(s): Corpus callosum, External capsule, Internal capsule, Anterior commissure<br><br>\", \"<a style='color:white' href='https://doi.org/10.1038/srep46686'>->Go to the paper</a><br><br>Approach: Magnetization transfer<br><br>Magnetic field: 11.7<br><br>MRI measure(s): MPF<br><br>Histology/microscopy measure: Histology - LFB<br><br>Specific structure(s): Corpus callosum, Internal capsule, Anterior commissure, Thalamus, Putamen, Cortex<br><br>\", \"<a style='color:white' href='https://doi.org/10.3390/cells8101204'>->Go to the paper</a><br><br>Approach: Magnetization transfer<br><br>Magnetic field: 11.7<br><br>MRI measure(s): MPF<br><br>Histology/microscopy measure: Immunohistochemistry - MBP<br><br>Specific structure(s): Corpus callosum<br><br>\", \"<a style='color:white' href='https://doi.org/10.1089/neu.2007.0462'>->Go to the paper</a><br><br>Approach: Diffusion, T2 relaxometry<br><br>Magnetic field: 7.0<br><br>MRI measure(s): MWF, FA, AD, RD, MD<br><br>Histology/microscopy measure: Immunohistochemistry - MBP<br><br>Specific structure(s): Cervical sections<br><br>\", \"<a style='color:white' href='https://doi.org/10.1016/j.mri.2013.12.006'>->Go to the paper</a><br><br>Approach: T2 relaxometry<br><br>Magnetic field: 7.0<br><br>MRI measure(s): MWF<br><br>Histology/microscopy measure: Immunohistochemistry - MBP<br><br>Specific structure(s): Cervical sections<br><br>\", \"<a style='color:white' href='https://doi.org/10.1177/1352458506070928'>->Go to the paper</a><br><br>Approach: T2 relaxometry<br><br>Magnetic field: 1.5<br><br>MRI measure(s): MWF<br><br>Histology/microscopy measure: Histology - LFB<br><br>Specific structure(s): White matter, Grey matter<br><br>\", \"<a style='color:white' href='https://doi.org/10.1016/j.neuroimage.2007.12.008'>->Go to the paper</a><br><br>Approach: T2 relaxometry<br><br>Magnetic field: 7.0<br><br>MRI measure(s): MWF<br><br>Histology/microscopy measure: Histology - LFB<br><br>Specific structure(s): White matter, Grey matter<br><br>\", \"<a style='color:white' href='https://doi.org/10.1177/1352458510384008'>->Go to the paper</a><br><br>Approach: T2 relaxometry<br><br>Magnetic field: 1.5<br><br>MRI measure(s): MWF<br><br>Histology/microscopy measure: Immunohistochemistry - MBP<br><br>Specific structure(s): White matter<br><br>\", \"<a style='color:white' href='https://doi.org/10.3389/fnins.2017.00433'>->Go to the paper</a><br><br>Approach: Diffusion, Magnetization transfer, Other<br><br>Magnetic field: 7.0<br><br>MRI measure(s): RAFF, MTR, T1sat, FA, MD, AD, RD<br><br>Histology/microscopy measure: Histology - Gold chloride<br><br>Specific structure(s): Corpus callosum, Dorsal tegmental tract<br><br>\", \"<a style='color:white' href='https://doi.org/10.1002/nbm.3678'>->Go to the paper</a><br><br>Approach: Magnetization transfer<br><br>Magnetic field: 9.4<br><br>MRI measure(s): MTR<br><br>Histology/microscopy measure: Histology - Gold chloride<br><br>Specific structure(s): Internal capsule, Globus pallidus, Striatum, Thalamus<br><br>\", \"<a style='color:white' href='https://doi.org/10.1111/nan.12555'>->Go to the paper</a><br><br>Approach: Diffusion<br><br>Magnetic field: 11.7<br><br>MRI measure(s): FA<br><br>Histology/microscopy measure: Immunohistochemistry - MBP<br><br>Specific structure(s): Perforant pathway<br><br>\", \"<a style='color:white' href='https://doi.org/10.1002/nbm.951'>->Go to the paper</a><br><br>Approach: Magnetization transfer, T1 relaxometry, T2 relaxometry<br><br>Magnetic field: 1.5<br><br>MRI measure(s): T1, T2, T2int, MWF, M0m, MTR<br><br>Histology/microscopy measure: Microscopy - Myelin fraction<br><br>Specific structure(s): Sciatic nerve<br><br>\", \"<a style='color:white' href='https://doi.org/10.1002/acn3.793'>->Go to the paper</a><br><br>Approach: Diffusion<br><br>Magnetic field: 3.0<br><br>MRI measure(s): FA, MD<br><br>Histology/microscopy measure: Histology - LFB<br><br>Specific structure(s): White matter<br><br>\", \"<a style='color:white' href='https://doi.org/10.1111/jon.12561'>->Go to the paper</a><br><br>Approach: Diffusion, Other<br><br>Magnetic field: 9.4<br><br>MRI measure(s): QSM, FA, MD<br><br>Histology/microscopy measure: Histology - Solochrome<br><br>Specific structure(s): Corpus callosum<br><br>\", \"<a style='color:white' href='https://doi.org/10.1186/s13195-017-0329-8'>->Go to the paper</a><br><br>Approach: Diffusion<br><br>Magnetic field: 7.0<br><br>MRI measure(s): MK, RK, AK, FA, MD, RD, AD<br><br>Histology/microscopy measure: Immunohistochemistry - MBP<br><br>Specific structure(s): Motor cortex<br><br>\", \"<a style='color:white' href='https://doi.org/10.1111/j.1085-9489.2005.10107.x'>->Go to the paper</a><br><br>Approach: T1 relaxometry, T2 relaxometry<br><br>Magnetic field: 1.5<br><br>MRI measure(s): T1, T2int, MWF<br><br>Histology/microscopy measure: Microscopy - Myelin fraction<br><br>Specific structure(s): Sciatic nerve<br><br>\", \"<a style='color:white' href='https://doi.org/10.1111/bpa.12298'>->Go to the paper</a><br><br>Approach: T1 relaxometry, T2 relaxometry<br><br>Magnetic field: 9.4<br><br>MRI measure(s): T1, T2<br><br>Histology/microscopy measure: Immunohistochemistry - MBP<br><br>Specific structure(s): White matter, Grey matter<br><br>\", \"<a style='color:white' href='https://doi.org/10.1002/ana.20202'>->Go to the paper</a><br><br>Approach: Magnetization transfer, T1 relaxometry<br><br>Magnetic field: 1.5<br><br>MRI measure(s): T1, MTR<br><br>Histology/microscopy measure: Histology - LFB<br><br>Specific structure(s): White matter, Lesions<br><br>\", \"<a style='color:white' href='https://doi.org/10.1002/jmri.20984'>->Go to the paper</a><br><br>Approach: Magnetization transfer, T1 relaxometry<br><br>Magnetic field: 1.5<br><br>MRI measure(s): T1, MTR, MPF, T2m<br><br>Histology/microscopy measure: Histology - LFB<br><br>Specific structure(s): White matter, Lesions<br><br>\", \"<a style='color:white' href='https://doi.org/10.1016/j.neuroimage.2006.12.010'>->Go to the paper</a><br><br>Approach: Diffusion<br><br>Magnetic field: 1.5<br><br>MRI measure(s): FA, MD<br><br>Histology/microscopy measure: Histology - LFB<br><br>Specific structure(s): White matter, Lesions<br><br>\", \"<a style='color:white' href='https://doi.org/10.1002/mrm.21487'>->Go to the paper</a><br><br>Approach: Diffusion, Magnetization transfer, T1 relaxometry, T2 relaxometry<br><br>Magnetic field: 1.5<br><br>MRI measure(s): T1, T2, MTR, MPF, MD, FA, AD, RD<br><br>Histology/microscopy measure: Histology - LFB<br><br>Specific structure(s): White matter, Lesions<br><br>\", \"<a style='color:white' href='https://doi.org/10.1093/brain/awp335'>->Go to the paper</a><br><br>Approach: Magnetization transfer, T2 relaxometry<br><br>Magnetic field: 9.4<br><br>MRI measure(s): MTR, T2<br><br>Histology/microscopy measure: Histology - LFB<br><br>Specific structure(s): Grey matter, Lesions<br><br>\", \"<a style='color:white' href='https://doi.org/10.3389/fnana.2015.00098'>->Go to the paper</a><br><br>Approach: Diffusion<br><br>Magnetic field: 9.4<br><br>MRI measure(s): FA, RD, MD<br><br>Histology/microscopy measure: Histology - Silver<br><br>Specific structure(s): White matter, Grey matter<br><br>\", \"<a style='color:white' href='https://doi.org/10.1002/nbm.4116'>->Go to the paper</a><br><br>Approach: Diffusion, Magnetization transfer, T2 relaxometry, Other<br><br>Magnetic field: 7.0<br><br>MRI measure(s): MPF, RD, MWF, rSPF<br><br>Histology/microscopy measure: Immunohistochemistry - MBP<br><br>Specific structure(s): Corpus callosum<br><br>\", \"<a style='color:white' href='https://doi.org/10.1016/j.neuroimage.2008.09.022'>->Go to the paper</a><br><br>Approach: Diffusion<br><br>Magnetic field: 7.0<br><br>MRI measure(s): FA, AD<br><br>Histology/microscopy measure: EM - Myelin thickness<br><br>Specific structure(s): Sciatic nerve<br><br>\", \"<a style='color:white' href='https://doi.org/10.1155/2012/742018'>->Go to the paper</a><br><br>Approach: Magnetization transfer, T1 relaxometry, T2 relaxometry, Other<br><br>Magnetic field: 3.0<br><br>MRI measure(s): T1, T2, MTR, PD<br><br>Histology/microscopy measure: Immunohistochemistry - MBP<br><br>Specific structure(s): White matter, Grey matter, Lesions<br><br>\", \"<a style='color:white' href='https://doi.org/10.1002/nbm.2992'>->Go to the paper</a><br><br>Approach: Diffusion, Magnetization transfer, T1 relaxometry, T2 relaxometry<br><br>Magnetic field: 7.0<br><br>MRI measure(s): MPF, R1f, k_fm, k_mf, T2f, T2m, MD, RD, AD, FA, T1, T2<br><br>Histology/microscopy measure: EM - Myelin thickness<br><br>Specific structure(s): Corpus callosum<br><br>\", \"<a style='color:white' href='https://doi.org/10.1002/ana.24641'>->Go to the paper</a><br><br>Approach: Diffusion, Magnetization transfer<br><br>Magnetic field: 7.0<br><br>MRI measure(s): FA, AD, RD, MD, MTR<br><br>Histology/microscopy measure: Immunohistochemistry - MBP<br><br>Specific structure(s): Corpus callosum<br><br>\", \"<a style='color:white' href='https://doi.org/10.1002/nbm.3253'>->Go to the paper</a><br><br>Approach: Magnetization transfer<br><br>Magnetic field: 7.0<br><br>MRI measure(s): MPF<br><br>Histology/microscopy measure: Immunohistochemistry - MBP<br><br>Specific structure(s): Corpus callosum<br><br>\", \"<a style='color:white' href='https://doi.org/10.1016/j.neuroimage.2010.10.065'>->Go to the paper</a><br><br>Approach: Magnetization transfer<br><br>Magnetic field: 3.0<br><br>MRI measure(s): MPF<br><br>Histology/microscopy measure: Histology - LFB<br><br>Specific structure(s): Putamen, Cerebellum, Cortex, Superior colliculus, Thalamus, Anterior commissure, Corpus callosum, Internal capsule, Hippocampal commissure<br><br>\", \"<a style='color:white' href='https://doi.org/10.3174/ajnr.A1697'>->Go to the paper</a><br><br>Approach: Diffusion<br><br>Magnetic field: 7.0<br><br>MRI measure(s): FA, RD<br><br>Histology/microscopy measure: Histology - LFB<br><br>Specific structure(s): External capsule<br><br>\", \"<a style='color:white' href='https://doi.org/10.1002/nbm.3129'>->Go to the paper</a><br><br>Approach: Diffusion<br><br>Magnetic field: 4.7<br><br>MRI measure(s): RD, RD-DBSI<br><br>Histology/microscopy measure: Immunohistochemistry - MBP<br><br>Specific structure(s): Cervical sections<br><br>\", \"<a style='color:white' href='https://doi.org/10.1093/brain/awv046'>->Go to the paper</a><br><br>Approach: Diffusion<br><br>Magnetic field: 4.7<br><br>MRI measure(s): RD-DBSI<br><br>Histology/microscopy measure: Histology - LFB<br><br>Specific structure(s): Cervical sections<br><br>\", \"<a style='color:white' href='https://doi.org/10.1089/neu.2018.5670'>->Go to the paper</a><br><br>Approach: Diffusion<br><br>Magnetic field: 9.4<br><br>MRI measure(s): FA, AD, RD, MD<br><br>Histology/microscopy measure: Immunohistochemistry - MBP<br><br>Specific structure(s): Corpus callosum<br><br>\", \"<a style='color:white' href='https://doi.org/10.1016/j.neuroimage.2016.12.067'>->Go to the paper</a><br><br>Approach: Magnetization transfer, T2 relaxometry<br><br>Magnetic field: 15.2<br><br>MRI measure(s): MPF, MWF, MVF-T2, MVF-MT<br><br>Histology/microscopy measure: EM - Myelin fraction<br><br>Specific structure(s): Corpus callosum, Anterior commissure<br><br>\", \"<a style='color:white' href='https://doi.org/10.1002/jmri.21111'>->Go to the paper</a><br><br>Approach: T2 relaxometry<br><br>Magnetic field: 4.7<br><br>MRI measure(s): T2<br><br>Histology/microscopy measure: Histology - LFB<br><br>Specific structure(s): Corpus callosum<br><br>\", \"<a style='color:white' href='https://doi.org/10.1016/j.neuint.2017.10.004'>->Go to the paper</a><br><br>Approach: Diffusion<br><br>Magnetic field: 7.0<br><br>MRI measure(s): FA, RD, MD<br><br>Histology/microscopy measure: Immunohistochemistry - PLP<br><br>Specific structure(s): Corpus callosum<br><br>\", \"<a style='color:white' href='https://doi.org/10.1007/s10334-008-0141-3'>->Go to the paper</a><br><br>Approach: Magnetization transfer<br><br>Magnetic field: 9.4<br><br>MRI measure(s): MTR<br><br>Histology/microscopy measure: Immunohistochemistry - MBP<br><br>Specific structure(s): Corpus callosum<br><br>\", \"<a style='color:white' href='https://doi.org/10.1523/jneurosci.3941-08.2009'>->Go to the paper</a><br><br>Approach: Diffusion<br><br>Magnetic field: 11.7<br><br>MRI measure(s): RD<br><br>Histology/microscopy measure: Histology - LFB<br><br>Specific structure(s): Lumbar sections<br><br>\", \"<a style='color:white' href='https://doi.org/10.1002/glia.23216'>->Go to the paper</a><br><br>Approach: Diffusion<br><br>Magnetic field: 9.4<br><br>MRI measure(s): FA<br><br>Histology/microscopy measure: Immunohistochemistry - MBP<br><br>Specific structure(s): Motor cortex<br><br>\"], \"textfont\": {\"size\": 15}, \"type\": \"treemap\", \"values\": [1.0, 1.0, 1.0, 1.0, 1.0, 1.0, 1.0, 1.0, 1.0, 1.0, 1.0, 1.0, 1.0, 1.0, 1.0, 1.0, 1.0, 1.0, 1.0, 1.0, 1.0, 1.0, 1.0, 1.0, 1.0, 1.0, 1.0, 1.0, 1.0, 1.0, 1.0, 1.0, 1.0, 1.0, 1.0, 1.0, 1.0, 1.0, 1.0, 1.0, 1.0, 1.0, 1.0, 1.0, 1.0, 1.0, 1.0, 1.0, 1.0, 1.0, 1.0, 1.0, 1.0, 1.0, 1.0, 1.0, 1.0, 1.0, 1.0, 1.0, 1.0, 1.0, 1.0, 1.0, 1.0, 1.0, 9.0, 3.0, 1.0, 1.0, 2.0, 1.0, 1.0, 1.0, 5.0, 1.0, 1.0, 1.0, 3.0, 1.0, 1.0, 1.0, 6.0, 1.0, 3.0, 1.0, 1.0, 1.0, 1.0, 1.0, 1.0, 1.0, 7.0, 1.0, 1.0, 1.0, 17.0, 3.0, 3.0, 1.0, 3.0, 4.0, 2.0, 10.0, 1.0, 3.0, 1.0, 20.0, 5.0, 5.0, 3.0, 2.0, 21.0, 2.0, 48.0, 3.0, 7.0]}],\n                        {\"annotations\": [{\"font\": {\"color\": \"gray\", \"size\": 8}, \"showarrow\": false, \"text\": \"<a href=\\\"https://neurolibre.com\\\" target=\\\"_blank\\\" style=\\\"color:gray!important\\\">NeuroLibre</a>\", \"x\": 0.99, \"xref\": \"paper\", \"y\": -0.02, \"yref\": \"paper\"}], \"autosize\": false, \"height\": 600, \"images\": [{\"opacity\": 0.9, \"sizex\": 0.03, \"sizey\": 0.03, \"source\": \"https://raw.githubusercontent.com/notebook-factory/brand/main/nlibre_custom2.svg\", \"x\": 0.897, \"xref\": \"paper\", \"y\": 0.009999999999999998, \"yref\": \"paper\"}], \"margin\": {\"b\": 45, \"l\": 0, \"r\": 0, \"t\": 0}, \"template\": {\"data\": {\"bar\": [{\"error_x\": {\"color\": \"#2a3f5f\"}, \"error_y\": {\"color\": \"#2a3f5f\"}, \"marker\": {\"line\": {\"color\": \"#E5ECF6\", \"width\": 0.5}}, \"type\": \"bar\"}], \"barpolar\": [{\"marker\": {\"line\": {\"color\": \"#E5ECF6\", \"width\": 0.5}}, \"type\": \"barpolar\"}], \"carpet\": [{\"aaxis\": {\"endlinecolor\": \"#2a3f5f\", \"gridcolor\": \"white\", \"linecolor\": \"white\", \"minorgridcolor\": \"white\", \"startlinecolor\": \"#2a3f5f\"}, \"baxis\": {\"endlinecolor\": \"#2a3f5f\", \"gridcolor\": \"white\", \"linecolor\": \"white\", \"minorgridcolor\": \"white\", \"startlinecolor\": \"#2a3f5f\"}, \"type\": \"carpet\"}], \"choropleth\": [{\"colorbar\": {\"outlinewidth\": 0, \"ticks\": \"\"}, \"type\": \"choropleth\"}], \"contour\": [{\"colorbar\": {\"outlinewidth\": 0, \"ticks\": \"\"}, \"colorscale\": [[0.0, \"#0d0887\"], [0.1111111111111111, \"#46039f\"], [0.2222222222222222, \"#7201a8\"], [0.3333333333333333, \"#9c179e\"], [0.4444444444444444, \"#bd3786\"], [0.5555555555555556, \"#d8576b\"], [0.6666666666666666, \"#ed7953\"], [0.7777777777777778, \"#fb9f3a\"], [0.8888888888888888, \"#fdca26\"], [1.0, \"#f0f921\"]], \"type\": \"contour\"}], \"contourcarpet\": [{\"colorbar\": {\"outlinewidth\": 0, \"ticks\": \"\"}, \"type\": \"contourcarpet\"}], \"heatmap\": [{\"colorbar\": {\"outlinewidth\": 0, \"ticks\": \"\"}, \"colorscale\": [[0.0, \"#0d0887\"], [0.1111111111111111, \"#46039f\"], [0.2222222222222222, \"#7201a8\"], [0.3333333333333333, \"#9c179e\"], [0.4444444444444444, \"#bd3786\"], [0.5555555555555556, \"#d8576b\"], [0.6666666666666666, \"#ed7953\"], [0.7777777777777778, \"#fb9f3a\"], [0.8888888888888888, \"#fdca26\"], [1.0, \"#f0f921\"]], \"type\": \"heatmap\"}], \"heatmapgl\": [{\"colorbar\": {\"outlinewidth\": 0, \"ticks\": \"\"}, \"colorscale\": [[0.0, \"#0d0887\"], [0.1111111111111111, \"#46039f\"], [0.2222222222222222, \"#7201a8\"], [0.3333333333333333, \"#9c179e\"], [0.4444444444444444, \"#bd3786\"], [0.5555555555555556, \"#d8576b\"], [0.6666666666666666, \"#ed7953\"], [0.7777777777777778, \"#fb9f3a\"], [0.8888888888888888, \"#fdca26\"], [1.0, \"#f0f921\"]], \"type\": \"heatmapgl\"}], \"histogram\": [{\"marker\": {\"colorbar\": {\"outlinewidth\": 0, \"ticks\": \"\"}}, \"type\": \"histogram\"}], \"histogram2d\": [{\"colorbar\": {\"outlinewidth\": 0, \"ticks\": \"\"}, \"colorscale\": [[0.0, \"#0d0887\"], [0.1111111111111111, \"#46039f\"], [0.2222222222222222, \"#7201a8\"], [0.3333333333333333, \"#9c179e\"], [0.4444444444444444, \"#bd3786\"], [0.5555555555555556, \"#d8576b\"], [0.6666666666666666, \"#ed7953\"], [0.7777777777777778, \"#fb9f3a\"], [0.8888888888888888, \"#fdca26\"], [1.0, \"#f0f921\"]], \"type\": \"histogram2d\"}], \"histogram2dcontour\": [{\"colorbar\": {\"outlinewidth\": 0, \"ticks\": \"\"}, \"colorscale\": [[0.0, \"#0d0887\"], [0.1111111111111111, \"#46039f\"], [0.2222222222222222, \"#7201a8\"], [0.3333333333333333, \"#9c179e\"], [0.4444444444444444, \"#bd3786\"], [0.5555555555555556, \"#d8576b\"], [0.6666666666666666, \"#ed7953\"], [0.7777777777777778, \"#fb9f3a\"], [0.8888888888888888, \"#fdca26\"], [1.0, \"#f0f921\"]], \"type\": \"histogram2dcontour\"}], \"mesh3d\": [{\"colorbar\": {\"outlinewidth\": 0, \"ticks\": \"\"}, \"type\": \"mesh3d\"}], \"parcoords\": [{\"line\": {\"colorbar\": {\"outlinewidth\": 0, \"ticks\": \"\"}}, \"type\": \"parcoords\"}], \"pie\": [{\"automargin\": true, \"type\": \"pie\"}], \"scatter\": [{\"marker\": {\"colorbar\": {\"outlinewidth\": 0, \"ticks\": \"\"}}, \"type\": \"scatter\"}], \"scatter3d\": [{\"line\": {\"colorbar\": {\"outlinewidth\": 0, \"ticks\": \"\"}}, \"marker\": {\"colorbar\": {\"outlinewidth\": 0, \"ticks\": \"\"}}, \"type\": \"scatter3d\"}], \"scattercarpet\": [{\"marker\": {\"colorbar\": {\"outlinewidth\": 0, \"ticks\": \"\"}}, \"type\": \"scattercarpet\"}], \"scattergeo\": [{\"marker\": {\"colorbar\": {\"outlinewidth\": 0, \"ticks\": \"\"}}, \"type\": \"scattergeo\"}], \"scattergl\": [{\"marker\": {\"colorbar\": {\"outlinewidth\": 0, \"ticks\": \"\"}}, \"type\": \"scattergl\"}], \"scattermapbox\": [{\"marker\": {\"colorbar\": {\"outlinewidth\": 0, \"ticks\": \"\"}}, \"type\": \"scattermapbox\"}], \"scatterpolar\": [{\"marker\": {\"colorbar\": {\"outlinewidth\": 0, \"ticks\": \"\"}}, \"type\": \"scatterpolar\"}], \"scatterpolargl\": [{\"marker\": {\"colorbar\": {\"outlinewidth\": 0, \"ticks\": \"\"}}, \"type\": \"scatterpolargl\"}], \"scatterternary\": [{\"marker\": {\"colorbar\": {\"outlinewidth\": 0, \"ticks\": \"\"}}, \"type\": \"scatterternary\"}], \"surface\": [{\"colorbar\": {\"outlinewidth\": 0, \"ticks\": \"\"}, \"colorscale\": [[0.0, \"#0d0887\"], [0.1111111111111111, \"#46039f\"], [0.2222222222222222, \"#7201a8\"], [0.3333333333333333, \"#9c179e\"], [0.4444444444444444, \"#bd3786\"], [0.5555555555555556, \"#d8576b\"], [0.6666666666666666, \"#ed7953\"], [0.7777777777777778, \"#fb9f3a\"], [0.8888888888888888, \"#fdca26\"], [1.0, \"#f0f921\"]], \"type\": \"surface\"}], \"table\": [{\"cells\": {\"fill\": {\"color\": \"#EBF0F8\"}, \"line\": {\"color\": \"white\"}}, \"header\": {\"fill\": {\"color\": \"#C8D4E3\"}, \"line\": {\"color\": \"white\"}}, \"type\": \"table\"}]}, \"layout\": {\"annotationdefaults\": {\"arrowcolor\": \"#2a3f5f\", \"arrowhead\": 0, \"arrowwidth\": 1}, \"coloraxis\": {\"colorbar\": {\"outlinewidth\": 0, \"ticks\": \"\"}}, \"colorscale\": {\"diverging\": [[0, \"#8e0152\"], [0.1, \"#c51b7d\"], [0.2, \"#de77ae\"], [0.3, \"#f1b6da\"], [0.4, \"#fde0ef\"], [0.5, \"#f7f7f7\"], [0.6, \"#e6f5d0\"], [0.7, \"#b8e186\"], [0.8, \"#7fbc41\"], [0.9, \"#4d9221\"], [1, \"#276419\"]], \"sequential\": [[0.0, \"#0d0887\"], [0.1111111111111111, \"#46039f\"], [0.2222222222222222, \"#7201a8\"], [0.3333333333333333, \"#9c179e\"], [0.4444444444444444, \"#bd3786\"], [0.5555555555555556, \"#d8576b\"], [0.6666666666666666, \"#ed7953\"], [0.7777777777777778, \"#fb9f3a\"], [0.8888888888888888, \"#fdca26\"], [1.0, \"#f0f921\"]], \"sequentialminus\": [[0.0, \"#0d0887\"], [0.1111111111111111, \"#46039f\"], [0.2222222222222222, \"#7201a8\"], [0.3333333333333333, \"#9c179e\"], [0.4444444444444444, \"#bd3786\"], [0.5555555555555556, \"#d8576b\"], [0.6666666666666666, \"#ed7953\"], [0.7777777777777778, \"#fb9f3a\"], [0.8888888888888888, \"#fdca26\"], [1.0, \"#f0f921\"]]}, \"colorway\": [\"#636efa\", \"#EF553B\", \"#00cc96\", \"#ab63fa\", \"#FFA15A\", \"#19d3f3\", \"#FF6692\", \"#B6E880\", \"#FF97FF\", \"#FECB52\"], \"font\": {\"color\": \"#2a3f5f\"}, \"geo\": {\"bgcolor\": \"white\", \"lakecolor\": \"white\", \"landcolor\": \"#E5ECF6\", \"showlakes\": true, \"showland\": true, \"subunitcolor\": \"white\"}, \"hoverlabel\": {\"align\": \"left\"}, \"hovermode\": \"closest\", \"mapbox\": {\"style\": \"light\"}, \"paper_bgcolor\": \"white\", \"plot_bgcolor\": \"#E5ECF6\", \"polar\": {\"angularaxis\": {\"gridcolor\": \"white\", \"linecolor\": \"white\", \"ticks\": \"\"}, \"bgcolor\": \"#E5ECF6\", \"radialaxis\": {\"gridcolor\": \"white\", \"linecolor\": \"white\", \"ticks\": \"\"}}, \"scene\": {\"xaxis\": {\"backgroundcolor\": \"#E5ECF6\", \"gridcolor\": \"white\", \"gridwidth\": 2, \"linecolor\": \"white\", \"showbackground\": true, \"ticks\": \"\", \"zerolinecolor\": \"white\"}, \"yaxis\": {\"backgroundcolor\": \"#E5ECF6\", \"gridcolor\": \"white\", \"gridwidth\": 2, \"linecolor\": \"white\", \"showbackground\": true, \"ticks\": \"\", \"zerolinecolor\": \"white\"}, \"zaxis\": {\"backgroundcolor\": \"#E5ECF6\", \"gridcolor\": \"white\", \"gridwidth\": 2, \"linecolor\": \"white\", \"showbackground\": true, \"ticks\": \"\", \"zerolinecolor\": \"white\"}}, \"shapedefaults\": {\"line\": {\"color\": \"#2a3f5f\"}}, \"ternary\": {\"aaxis\": {\"gridcolor\": \"white\", \"linecolor\": \"white\", \"ticks\": \"\"}, \"baxis\": {\"gridcolor\": \"white\", \"linecolor\": \"white\", \"ticks\": \"\"}, \"bgcolor\": \"#E5ECF6\", \"caxis\": {\"gridcolor\": \"white\", \"linecolor\": \"white\", \"ticks\": \"\"}}, \"title\": {\"x\": 0.05}, \"xaxis\": {\"automargin\": true, \"gridcolor\": \"white\", \"linecolor\": \"white\", \"ticks\": \"\", \"title\": {\"standoff\": 15}, \"zerolinecolor\": \"white\", \"zerolinewidth\": 2}, \"yaxis\": {\"automargin\": true, \"gridcolor\": \"white\", \"linecolor\": \"white\", \"ticks\": \"\", \"title\": {\"standoff\": 15}, \"zerolinecolor\": \"white\", \"zerolinewidth\": 2}}}, \"width\": 680},\n                        {\"responsive\": true}\n                    ).then(function(){\n                            \nvar gd = document.getElementById('076482f0-4187-40a9-a45b-2d2f5be8be23');\nvar x = new MutationObserver(function (mutations, observer) {{\n        var display = window.getComputedStyle(gd).display;\n        if (!display || display === 'none') {{\n            console.log([gd, 'removed!']);\n            Plotly.purge(gd);\n            observer.disconnect();\n        }}\n}});\n\n// Listen for the removal of the full notebook cells\nvar notebookContainer = gd.closest('#notebook-container');\nif (notebookContainer) {{\n    x.observe(notebookContainer, {childList: true});\n}}\n\n// Listen for the clearing of the current output cell\nvar outputEl = gd.closest('.output');\nif (outputEl) {{\n    x.observe(outputEl, {childList: true});\n}}\n\n                        })\n                };\n                });\n            </script>\n        </div>"
     },
     "metadata": {},
     "output_type": "display_data"
    }
   ],
   "source": [
    "info = pd.read_excel('database.xlsx', sheet_name='Details')\n",
    "\n",
    "year_str = info['Year'].astype(str)\n",
    "info['Study'] = info['First author'] + ' et al., ' + year_str\n",
    "info['Study'] = info.groupby('Study')['Study'].apply(lambda n: n+list(map(chr,np.arange(len(n))+97))\n",
    "                                                     if len(n)>1 else n)\n",
    "info['Number of studies'] = np.ones((len(info),1))\n",
    "info = info.sort_values('Study')\n",
    "\n",
    "info['Link'] = info['DOI']\n",
    "info['Link'].replace('http',\"\"\"<a style='color:white' href='http\"\"\",\n",
    "                    inplace=True, regex=True)\n",
    "info['Link'] = info['Link'] + \"\"\"'>->Go to the paper</a>\"\"\"\n",
    "\n",
    "fields = ['Approach', 'Magnetic field', 'MRI measure(s)',\n",
    "          'Histology/microscopy measure', 'Specific structure(s)']\n",
    "info['Summary'] = info['Link'] + '<br><br>'\n",
    "for i in fields:\n",
    "    info['Summary'] = info['Summary'] + i + ': ' + info[i].astype(str) + '<br><br>'\n",
    "\n",
    "args = dict(data_frame=info, values='Number of studies',\n",
    "            color='Number of studies', hover_data='',\n",
    "            path=['Focus', 'Tissue condition', 'Human/animal', 'Condition', 'Study'],\n",
    "            color_continuous_scale='Viridis')\n",
    "args = px._core.build_dataframe(args, go.Treemap)\n",
    "treemap_df = px._core.process_dataframe_hierarchy(args)['data_frame']\n",
    "\n",
    "fig2 = go.Figure(go.Treemap(\n",
    "        ids=treemap_df['id'].tolist(),\n",
    "        labels=treemap_df['labels'].tolist(),\n",
    "        parents=treemap_df['parent'].tolist(),\n",
    "        values=treemap_df['Number of studies'].tolist(),\n",
    "        branchvalues='total',\n",
    "        text=info['Summary'],\n",
    "        hoverinfo='label',\n",
    "        textfont=dict(\n",
    "            size=15,\n",
    "        )\n",
    "    )\n",
    ")\n",
    "\n",
    "fig2 = fig2.update_layout(\n",
    "    autosize=False,\n",
    "    width=680,\n",
    "    height=600,\n",
    "    margin=dict(\n",
    "        l=0,\n",
    "        r=0,\n",
    "        t=0,\n",
    "        b=45,\n",
    "    )\n",
    ")\n",
    "\n",
    "plot(insertLogo(fig2,0.03,0.03,0.99,-0.02,-0.093,0.03), filename = 'fig2.html',config = config)\n",
    "# display(HTML('fig2.html'))\n",
    "\n",
    "fig2.show()"
   ]
  },
  {
   "cell_type": "code",
   "execution_count": 7,
   "outputs": [],
   "source": [],
   "metadata": {
    "collapsed": false,
    "pycharm": {
     "name": "#%%\n"
    }
   }
  },
  {
   "cell_type": "code",
   "execution_count": null,
   "outputs": [],
   "source": [],
   "metadata": {
    "collapsed": false,
    "pycharm": {
     "name": "#%%\n"
    }
   }
  }
 ],
 "metadata": {
  "celltoolbar": "Edit Metadata",
  "kernelspec": {
   "display_name": "Python 3",
   "language": "python",
   "name": "python3"
  },
  "language_info": {
   "codemirror_mode": {
    "name": "ipython",
    "version": 3
   },
   "file_extension": ".py",
   "mimetype": "text/x-python",
   "name": "python",
   "nbconvert_exporter": "python",
   "pygments_lexer": "ipython3",
   "version": "3.6.12"
  }
 },
 "nbformat": 4,
 "nbformat_minor": 4
}