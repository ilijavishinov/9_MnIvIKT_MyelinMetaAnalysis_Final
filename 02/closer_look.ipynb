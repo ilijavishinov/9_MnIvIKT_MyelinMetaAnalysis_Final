{
 "cells": [
  {
   "cell_type": "markdown",
   "metadata": {},
   "source": [
    "## Sample size and effect size\n",
    "\n",
    "Given the number of different variables influencing the results, we decided to focus only on brain studies. As we needed to take into account the sample size for quantitative comparisons, we also further selected only the studies that reported both the number of subjects and the number of ROIs (regions of interest) considered for correlation purposes. This further screening led us to 43 studies. For these studies we wanted to quantitatively evaluate the reported effect size taking into account the respective samples sizes: we chose the coefficient of determination R<sup>2</sup>, as it was the most common quantitative result we could obtain from these studies.\n",
    "\n",
    "```{admonition} Figure 3\n",
    ":class: tip\n",
    "To have a look at both sample size and effect size for each measure, we prepared an interactive bubble chart, where the size of each bubble is proportional to the sample size. You can hover on the bubbles to obtain additional details.\n",
    "```"
   ]
  },
  {
   "cell_type": "code",
   "execution_count": 7,
   "metadata": {
    "tags": [
     "hide_input"
    ]
   },
   "outputs": [],
   "source": [
    "import numpy as np\n",
    "import pandas as pd\n",
    "\n",
    "import plotly.graph_objects as go\n",
    "from IPython.core.display import display, HTML\n",
    "from plotly.offline import plot\n",
    "import plotly.express as px\n",
    "import plotly.colors\n",
    "from plotly.subplots import make_subplots\n",
    "\n",
    "from rpy2.robjects.packages import importr\n",
    "import rpy2.robjects\n",
    "import subprocess\n",
    "subprocess.call('curl https://raw.githubusercontent.com/Notebook-Factory/brand/main/insertLogo.py --output /tmp/insertLogo.py', shell=True)\n",
    "\n",
    "def insertLogo(fig,scX,scY,posX,posY,imXshift,imYshift):\n",
    "    fig.layout.images = [dict(source=\"https://raw.githubusercontent.com/notebook-factory/brand/main/nlibre_custom2.svg\",xref=\"paper\", yref=\"paper\",x=posX+imXshift, y=posY+imYshift,\n",
    "                sizex=scX , sizey=scY, opacity = 0.9)]\n",
    "    fig.add_annotation(x=posX,y=posY,xref=\"paper\",yref=\"paper\",text=\"<a href=\\\"https://neurolibre.com\\\" target=\\\"_blank\\\" style=\\\"color:gray!important\\\">NeuroLibre</a>\",\n",
    "               showarrow = False, font=dict(size=8, color=\"gray\"))\n",
    "\n",
    "    return fig"
   ]
  },
  {
   "cell_type": "markdown",
   "metadata": {},
   "source": [
    "### Figure 3"
   ]
  },
  {
   "cell_type": "code",
   "execution_count": 8,
   "metadata": {
    "tags": [
     "hide_input"
    ]
   },
   "outputs": [
    {
     "data": {
      "application/vnd.plotly.v1+json": {
       "config": {
        "plotlyServerURL": "https://plot.ly"
       },
       "data": [
        {
         "line": {
          "color": "rgba(0,0,0,0)"
         },
         "marker": {
          "color": "rgb(127, 60, 141)",
          "size": [
           8.246211251235321,
           10.954451150103322,
           17.88854381999832,
           15.491933384829668,
           12.0,
           13.856406460551018,
           14.966629547095765,
           6.324555320336759,
           10.0,
           17.663521732655695,
           9.16515138991168,
           14.966629547095765,
           10.0,
           13.856406460551018,
           17.88854381999832,
           6.324555320336759,
           8.94427190999916,
           12.0,
           7.745966692414834,
           8.246211251235321,
           10.954451150103322,
           6.928203230275509,
           8.48528137423857,
           9.16515138991168,
           13.856406460551018,
           15.491933384829668,
           12.0,
           6.6332495807108,
           10.0,
           6.324555320336759,
           14.966629547095765,
           13.856406460551018,
           6.6332495807108,
           17.88854381999832,
           13.856406460551018,
           9.16515138991168,
           10.954451150103322,
           12.0,
           8.246211251235321,
           17.663521732655695,
           17.663521732655695,
           6.324555320336759,
           8.246211251235321,
           8.94427190999916,
           7.745966692414834,
           9.16515138991168,
           17.88854381999832,
           7.745966692414834,
           15.491933384829668,
           9.16515138991168,
           13.856406460551018,
           12.0,
           10.954451150103322,
           10.0,
           17.663521732655695,
           14.966629547095765,
           9.16515138991168,
           9.16515138991168,
           17.663521732655695
          ]
         },
         "mode": "markers",
         "name": "Diffusion",
         "opacity": 0.6,
         "text": [
          "Study: Aojula et al., 2016<br>Measure: AD<br>Number of subjects: 17.0<br>ROIs per subject: 1.0<br>Total number of samples: 17.0",
          "Study: Schmierer et al., 2008<br>Measure: AD<br>Number of subjects: 15.0<br>ROIs per subject: 2.0<br>Total number of samples: 30.0",
          "Study: Lehto et al., 2017a<br>Measure: AD<br>Number of subjects: 20.0<br>ROIs per subject: 4.0<br>Total number of samples: 80.0",
          "Study: Abe et al., 2019<br>Measure: AD<br>Number of subjects: 5.0<br>ROIs per subject: 12.0<br>Total number of samples: 60.0",
          "Study: Wendel et al., 2018<br>Measure: AD<br>Number of subjects: 12.0<br>ROIs per subject: 3.0<br>Total number of samples: 36.0",
          "Study: Janve et al., 2013<br>Measure: AD<br>Number of subjects: 8.0<br>ROIs per subject: 6.0<br>Total number of samples: 48.0",
          "Study: Chang et al., 2017<br>Measure: AD<br>Number of subjects: 4.0<br>ROIs per subject: 14.0<br>Total number of samples: 56.0",
          "Study: Thiessen et al., 2013<br>Measure: AD<br>Number of subjects: 10.0<br>ROIs per subject: 1.0<br>Total number of samples: 10.0",
          "Study: Tu et al., 2016<br>Measure: AD<br>Number of subjects: 25.0<br>ROIs per subject: 1.0<br>Total number of samples: 25.0",
          "Study: Kelm et al., 2016<br>Measure: AWF<br>Number of subjects: 13.0<br>ROIs per subject: 6.0<br>Total number of samples: 78.0",
          "Study: Jelescu et al., 2016<br>Measure: AWF<br>Number of subjects: 21.0<br>ROIs per subject: 1.0<br>Total number of samples: 21.0",
          "Study: Chang et al., 2017<br>Measure: FA<br>Number of subjects: 4.0<br>ROIs per subject: 14.0<br>Total number of samples: 56.0",
          "Study: Tu et al., 2016<br>Measure: FA<br>Number of subjects: 25.0<br>ROIs per subject: 1.0<br>Total number of samples: 25.0",
          "Study: Janve et al., 2013<br>Measure: FA<br>Number of subjects: 8.0<br>ROIs per subject: 6.0<br>Total number of samples: 48.0",
          "Study: Lehto et al., 2017a<br>Measure: FA<br>Number of subjects: 20.0<br>ROIs per subject: 4.0<br>Total number of samples: 80.0",
          "Study: Thiessen et al., 2013<br>Measure: FA<br>Number of subjects: 10.0<br>ROIs per subject: 1.0<br>Total number of samples: 10.0",
          "Study: Chandran et al., 2012<br>Measure: FA<br>Number of subjects: 20.0<br>ROIs per subject: 1.0<br>Total number of samples: 20.0",
          "Study: Wendel et al., 2018<br>Measure: FA<br>Number of subjects: 12.0<br>ROIs per subject: 3.0<br>Total number of samples: 36.0",
          "Study: Wang et al., 2009<br>Measure: FA<br>Number of subjects: 15.0<br>ROIs per subject: 1.0<br>Total number of samples: 15.0",
          "Study: Aojula et al., 2016<br>Measure: FA<br>Number of subjects: 17.0<br>ROIs per subject: 1.0<br>Total number of samples: 17.0",
          "Study: Schmierer et al., 2008<br>Measure: FA<br>Number of subjects: 15.0<br>ROIs per subject: 2.0<br>Total number of samples: 30.0",
          "Study: van Tilborg et al., 2017<br>Measure: FA<br>Number of subjects: 12.0<br>ROIs per subject: 1.0<br>Total number of samples: 12.0",
          "Study: Mollink et al., 2019<br>Measure: FA<br>Number of subjects: 18.0<br>ROIs per subject: 1.0<br>Total number of samples: 18.0",
          "Study: Yano et al., 2018<br>Measure: FA<br>Number of subjects: 21.0<br>ROIs per subject: 1.0<br>Total number of samples: 21.0",
          "Study: Schmierer et al., 2007b<br>Measure: FA<br>Number of subjects: 16.0<br>ROIs per subject: 3.0<br>Total number of samples: 48.0",
          "Study: Abe et al., 2019<br>Measure: FA<br>Number of subjects: 5.0<br>ROIs per subject: 12.0<br>Total number of samples: 60.0",
          "Study: Jito et al., 2008<br>Measure: FA<br>Number of subjects: 36.0<br>ROIs per subject: 1.0<br>Total number of samples: 36.0",
          "Study: Pol et al., 2019<br>Measure: FA<br>Number of subjects: 11.0<br>ROIs per subject: 1.0<br>Total number of samples: 11.0",
          "Study: Tu et al., 2016<br>Measure: MD<br>Number of subjects: 25.0<br>ROIs per subject: 1.0<br>Total number of samples: 25.0",
          "Study: Thiessen et al., 2013<br>Measure: MD<br>Number of subjects: 10.0<br>ROIs per subject: 1.0<br>Total number of samples: 10.0",
          "Study: Chang et al., 2017<br>Measure: MD<br>Number of subjects: 4.0<br>ROIs per subject: 14.0<br>Total number of samples: 56.0",
          "Study: Janve et al., 2013<br>Measure: MD<br>Number of subjects: 8.0<br>ROIs per subject: 6.0<br>Total number of samples: 48.0",
          "Study: Pol et al., 2019<br>Measure: MD<br>Number of subjects: 11.0<br>ROIs per subject: 1.0<br>Total number of samples: 11.0",
          "Study: Lehto et al., 2017a<br>Measure: MD<br>Number of subjects: 20.0<br>ROIs per subject: 4.0<br>Total number of samples: 80.0",
          "Study: Schmierer et al., 2007b<br>Measure: MD<br>Number of subjects: 16.0<br>ROIs per subject: 3.0<br>Total number of samples: 48.0",
          "Study: Yano et al., 2018<br>Measure: MD<br>Number of subjects: 21.0<br>ROIs per subject: 1.0<br>Total number of samples: 21.0",
          "Study: Schmierer et al., 2008<br>Measure: MD<br>Number of subjects: 15.0<br>ROIs per subject: 2.0<br>Total number of samples: 30.0",
          "Study: Wendel et al., 2018<br>Measure: MD<br>Number of subjects: 12.0<br>ROIs per subject: 3.0<br>Total number of samples: 36.0",
          "Study: Aojula et al., 2016<br>Measure: MD<br>Number of subjects: 17.0<br>ROIs per subject: 1.0<br>Total number of samples: 17.0",
          "Study: Kelm et al., 2016<br>Measure: MD<br>Number of subjects: 13.0<br>ROIs per subject: 6.0<br>Total number of samples: 78.0",
          "Study: Kelm et al., 2016<br>Measure: MK<br>Number of subjects: 13.0<br>ROIs per subject: 6.0<br>Total number of samples: 78.0",
          "Study: Thiessen et al., 2013<br>Measure: RD<br>Number of subjects: 10.0<br>ROIs per subject: 1.0<br>Total number of samples: 10.0",
          "Study: Aojula et al., 2016<br>Measure: RD<br>Number of subjects: 17.0<br>ROIs per subject: 1.0<br>Total number of samples: 17.0",
          "Study: Chandran et al., 2012<br>Measure: RD<br>Number of subjects: 20.0<br>ROIs per subject: 1.0<br>Total number of samples: 20.0",
          "Study: Wang et al., 2009<br>Measure: RD<br>Number of subjects: 15.0<br>ROIs per subject: 1.0<br>Total number of samples: 15.0",
          "Study: Yano et al., 2018<br>Measure: RD<br>Number of subjects: 21.0<br>ROIs per subject: 1.0<br>Total number of samples: 21.0",
          "Study: Lehto et al., 2017a<br>Measure: RD<br>Number of subjects: 20.0<br>ROIs per subject: 4.0<br>Total number of samples: 80.0",
          "Study: Soustelle et al., 2019<br>Measure: RD<br>Number of subjects: 15.0<br>ROIs per subject: 1.0<br>Total number of samples: 15.0",
          "Study: Abe et al., 2019<br>Measure: RD<br>Number of subjects: 5.0<br>ROIs per subject: 12.0<br>Total number of samples: 60.0",
          "Study: Jelescu et al., 2016<br>Measure: RD<br>Number of subjects: 21.0<br>ROIs per subject: 1.0<br>Total number of samples: 21.0",
          "Study: Janve et al., 2013<br>Measure: RD<br>Number of subjects: 8.0<br>ROIs per subject: 6.0<br>Total number of samples: 48.0",
          "Study: Wendel et al., 2018<br>Measure: RD<br>Number of subjects: 12.0<br>ROIs per subject: 3.0<br>Total number of samples: 36.0",
          "Study: Schmierer et al., 2008<br>Measure: RD<br>Number of subjects: 15.0<br>ROIs per subject: 2.0<br>Total number of samples: 30.0",
          "Study: Tu et al., 2016<br>Measure: RD<br>Number of subjects: 25.0<br>ROIs per subject: 1.0<br>Total number of samples: 25.0",
          "Study: Kelm et al., 2016<br>Measure: RD<br>Number of subjects: 13.0<br>ROIs per subject: 6.0<br>Total number of samples: 78.0",
          "Study: Chang et al., 2017<br>Measure: RD<br>Number of subjects: 4.0<br>ROIs per subject: 14.0<br>Total number of samples: 56.0",
          "Study: Jelescu et al., 2016<br>Measure: RDe<br>Number of subjects: 21.0<br>ROIs per subject: 1.0<br>Total number of samples: 21.0",
          "Study: Jelescu et al., 2016<br>Measure: RK<br>Number of subjects: 21.0<br>ROIs per subject: 1.0<br>Total number of samples: 21.0",
          "Study: Kelm et al., 2016<br>Measure: RK<br>Number of subjects: 13.0<br>ROIs per subject: 6.0<br>Total number of samples: 78.0"
         ],
         "type": "scatter",
         "x": [
          "AD",
          "AD",
          "AD",
          "AD",
          "AD",
          "AD",
          "AD",
          "AD",
          "AD",
          "AWF",
          "AWF",
          "FA",
          "FA",
          "FA",
          "FA",
          "FA",
          "FA",
          "FA",
          "FA",
          "FA",
          "FA",
          "FA",
          "FA",
          "FA",
          "FA",
          "FA",
          "FA",
          "FA",
          "MD",
          "MD",
          "MD",
          "MD",
          "MD",
          "MD",
          "MD",
          "MD",
          "MD",
          "MD",
          "MD",
          "MD",
          "MK",
          "RD",
          "RD",
          "RD",
          "RD",
          "RD",
          "RD",
          "RD",
          "RD",
          "RD",
          "RD",
          "RD",
          "RD",
          "RD",
          "RD",
          "RD",
          "RDe",
          "RK",
          "RK"
         ],
         "y": [
          0.1296,
          0.64,
          0.4199,
          0.0121,
          0.1987,
          0.0064,
          0.1482,
          0.5625,
          1.0E-4,
          0.3364,
          0.3025,
          0.1989,
          0.0169,
          0.0729,
          0.2237,
          0.7056,
          0.5,
          0.5707,
          0.4637,
          0.1197,
          0.6889,
          0.334,
          0.2704,
          0.7569,
          0.6241000000000001,
          0.1024,
          0.7327,
          0.0576,
          0.0289,
          0.6561,
          0.0129,
          0.0784,
          0.3481,
          0.3492,
          0.4624000000000001,
          0.5329,
          0.6084,
          0.0564,
          0.245,
          0.1225,
          0.2304,
          0.7569,
          0.2097,
          0.34,
          0.2787,
          0.8281,
          0.0015,
          0.49,
          0.1681,
          0.5041,
          0.2401,
          0.2973,
          0.6561,
          0.2116,
          0.1369,
          0.038,
          0.25,
          0.0196,
          0.2401
         ]
        },
        {
         "line": {
          "color": "rgba(0,0,0,0)"
         },
         "marker": {
          "color": "rgb(17, 165, 121)",
          "size": [
           13.856406460551018,
           21.166010488516726,
           10.954451150103322,
           6.0,
           21.071307505705477,
           15.491933384829668,
           6.324555320336759,
           7.745966692414834,
           7.211102550927978,
           7.745966692414834,
           15.491933384829668,
           9.797958971132712,
           9.16515138991168,
           10.954451150103322,
           9.16515138991168,
           21.071307505705477,
           17.88854381999832,
           14.696938456699069,
           8.48528137423857,
           11.313708498984761,
           15.491933384829668,
           48.98979485566356,
           8.94427190999916,
           8.0,
           10.0,
           6.0,
           6.0,
           15.491933384829668,
           13.856406460551018,
           6.324555320336759,
           6.324555320336759,
           6.324555320336759,
           21.071307505705477,
           9.16515138991168,
           6.324555320336759,
           6.324555320336759,
           13.856406460551018
          ]
         },
         "mode": "markers",
         "name": "Magnetization transfer",
         "opacity": 0.6,
         "text": [
          "Study: Janve et al., 2013<br>Measure: MPF<br>Number of subjects: 8.0<br>ROIs per subject: 6.0<br>Total number of samples: 48.0",
          "Study: Khodanovic et al., 2017<br>Measure: MPF<br>Number of subjects: 14.0<br>ROIs per subject: 8.0<br>Total number of samples: 112.0",
          "Study: Schmierer et al., 2008<br>Measure: MPF<br>Number of subjects: 15.0<br>ROIs per subject: 2.0<br>Total number of samples: 30.0",
          "Study: Underhill et al., 2011<br>Measure: MPF<br>Number of subjects: 1.0<br>ROIs per subject: 9.0<br>Total number of samples: 9.0",
          "Study: Schmierer et al., 2007a<br>Measure: MPF<br>Number of subjects: 37.0<br>ROIs per subject: 3.0<br>Total number of samples: 111.0",
          "Study: West et al., 2018<br>Measure: MPF<br>Number of subjects: 15.0<br>ROIs per subject: 4.0<br>Total number of samples: 60.0",
          "Study: Thiessen et al., 2013<br>Measure: MPF<br>Number of subjects: 10.0<br>ROIs per subject: 1.0<br>Total number of samples: 10.0",
          "Study: Soustelle et al., 2019<br>Measure: MPF<br>Number of subjects: 15.0<br>ROIs per subject: 1.0<br>Total number of samples: 15.0",
          "Study: Khodanovic et al., 2019<br>Measure: MPF<br>Number of subjects: 13.0<br>ROIs per subject: 1.0<br>Total number of samples: 13.0",
          "Study: Turati et al., 2015<br>Measure: MPF<br>Number of subjects: 15.0<br>ROIs per subject: 1.0<br>Total number of samples: 15.0",
          "Study: Schmierer et al., 2004<br>Measure: MTR<br>Number of subjects: 20.0<br>ROIs per subject: 3.0<br>Total number of samples: 60.0",
          "Study: Fjaer et al., 2015<br>Measure: MTR<br>Number of subjects: 24.0<br>ROIs per subject: 1.0<br>Total number of samples: 24.0",
          "Study: Jelescu et al., 2016<br>Measure: MTR<br>Number of subjects: 21.0<br>ROIs per subject: 1.0<br>Total number of samples: 21.0",
          "Study: Schmierer et al., 2008<br>Measure: MTR<br>Number of subjects: 15.0<br>ROIs per subject: 2.0<br>Total number of samples: 30.0",
          "Study: Duhamel et al., 2019<br>Measure: MTR<br>Number of subjects: 3.0<br>ROIs per subject: 7.0<br>Total number of samples: 21.0",
          "Study: Schmierer et al., 2007a<br>Measure: MTR<br>Number of subjects: 37.0<br>ROIs per subject: 3.0<br>Total number of samples: 111.0",
          "Study: Lehto et al., 2017a<br>Measure: MTR<br>Number of subjects: 20.0<br>ROIs per subject: 4.0<br>Total number of samples: 80.0",
          "Study: Fjaer et al., 2013<br>Measure: MTR<br>Number of subjects: 54.0<br>ROIs per subject: 1.0<br>Total number of samples: 54.0",
          "Study: Tardif et al., 2012<br>Measure: MTR<br>Number of subjects: 1.0<br>ROIs per subject: 18.0<br>Total number of samples: 18.0",
          "Study: Lehto et al., 2017b<br>Measure: MTR<br>Number of subjects: 2.0<br>ROIs per subject: 16.0<br>Total number of samples: 32.0",
          "Study: Hakkarainen et al., 2016<br>Measure: MTR<br>Number of subjects: 5.0<br>ROIs per subject: 12.0<br>Total number of samples: 60.0",
          "Study: Fatemi et al., 2011<br>Measure: MTR<br>Number of subjects: 24.0<br>ROIs per subject: 25.0<br>Total number of samples: 600.0",
          "Study: Beckmann et al., 2018<br>Measure: MTR<br>Number of subjects: 20.0<br>ROIs per subject: 1.0<br>Total number of samples: 20.0",
          "Study: Zaaraoui et al., 2008<br>Measure: MTR<br>Number of subjects: 16.0<br>ROIs per subject: 1.0<br>Total number of samples: 16.0",
          "Study: Tu et al., 2016<br>Measure: MTR<br>Number of subjects: 25.0<br>ROIs per subject: 1.0<br>Total number of samples: 25.0",
          "Study: Guglielmetti et al., 2020<br>Measure: MTR<br>Number of subjects: 1.0<br>ROIs per subject: 9.0<br>Total number of samples: 9.0",
          "Study: Guglielmetti et al., 2020<br>Measure: MTR-UTE<br>Number of subjects: 1.0<br>ROIs per subject: 9.0<br>Total number of samples: 9.0",
          "Study: West et al., 2018<br>Measure: MVF-MT<br>Number of subjects: 15.0<br>ROIs per subject: 4.0<br>Total number of samples: 60.0",
          "Study: Janve et al., 2013<br>Measure: R1f<br>Number of subjects: 8.0<br>ROIs per subject: 6.0<br>Total number of samples: 48.0",
          "Study: Thiessen et al., 2013<br>Measure: R1f<br>Number of subjects: 10.0<br>ROIs per subject: 1.0<br>Total number of samples: 10.0",
          "Study: Thiessen et al., 2013<br>Measure: T2f<br>Number of subjects: 10.0<br>ROIs per subject: 1.0<br>Total number of samples: 10.0",
          "Study: Thiessen et al., 2013<br>Measure: T2m<br>Number of subjects: 10.0<br>ROIs per subject: 1.0<br>Total number of samples: 10.0",
          "Study: Schmierer et al., 2007a<br>Measure: T2m<br>Number of subjects: 37.0<br>ROIs per subject: 3.0<br>Total number of samples: 111.0",
          "Study: Duhamel et al., 2019<br>Measure: ihMTR<br>Number of subjects: 3.0<br>ROIs per subject: 7.0<br>Total number of samples: 21.0",
          "Study: Thiessen et al., 2013<br>Measure: k_fm<br>Number of subjects: 10.0<br>ROIs per subject: 1.0<br>Total number of samples: 10.0",
          "Study: Thiessen et al., 2013<br>Measure: k_mf<br>Number of subjects: 10.0<br>ROIs per subject: 1.0<br>Total number of samples: 10.0",
          "Study: Janve et al., 2013<br>Measure: k_mf<br>Number of subjects: 8.0<br>ROIs per subject: 6.0<br>Total number of samples: 48.0"
         ],
         "type": "scatter",
         "x": [
          "MPF",
          "MPF",
          "MPF",
          "MPF",
          "MPF",
          "MPF",
          "MPF",
          "MPF",
          "MPF",
          "MPF",
          "MTR",
          "MTR",
          "MTR",
          "MTR",
          "MTR",
          "MTR",
          "MTR",
          "MTR",
          "MTR",
          "MTR",
          "MTR",
          "MTR",
          "MTR",
          "MTR",
          "MTR",
          "MTR",
          "MTR-UTE",
          "MVF-MT",
          "R1f",
          "R1f",
          "T2f",
          "T2m",
          "T2m",
          "ihMTR",
          "k_fm",
          "k_mf",
          "k_mf"
         ],
         "y": [
          0.7225,
          0.779,
          0.7396,
          0.9801,
          0.6400000000000001,
          0.7,
          0.8649,
          0.7569,
          0.82,
          0.2872,
          0.7055999999999999,
          0.01,
          0.1024,
          0.4624,
          0.78,
          0.7055999999999999,
          0.5169,
          0.338,
          0.36,
          0.94,
          0.34,
          0.695,
          0.7668,
          0.6241000000000001,
          0.1444,
          0.46,
          0.76,
          0.7,
          0.0961,
          0.4356,
          0.36,
          0.1521,
          1.0E-4,
          0.96,
          0.1089,
          0.6724,
          0.0256
         ]
        },
        {
         "line": {
          "color": "rgba(0,0,0,0)"
         },
         "marker": {
          "color": "rgb(57, 105, 172)",
          "size": [
           15.491933384829668,
           8.48528137423857,
           15.491933384829668,
           6.324555320336759,
           21.071307505705477,
           12.489995996796797,
           43.54308211415448,
           10.954451150103322
          ]
         },
         "mode": "markers",
         "name": "T1 relaxometry",
         "opacity": 0.6,
         "text": [
          "Study: Schmierer et al., 2004<br>Measure: T1<br>Number of subjects: 20.0<br>ROIs per subject: 3.0<br>Total number of samples: 60.0",
          "Study: Tardif et al., 2012<br>Measure: T1<br>Number of subjects: 1.0<br>ROIs per subject: 18.0<br>Total number of samples: 18.0",
          "Study: Hakkarainen et al., 2016<br>Measure: T1<br>Number of subjects: 5.0<br>ROIs per subject: 12.0<br>Total number of samples: 60.0",
          "Study: Thiessen et al., 2013<br>Measure: T1<br>Number of subjects: 10.0<br>ROIs per subject: 1.0<br>Total number of samples: 10.0",
          "Study: Schmierer et al., 2007a<br>Measure: T1<br>Number of subjects: 37.0<br>ROIs per subject: 3.0<br>Total number of samples: 111.0",
          "Study: Reeves et al., 2016<br>Measure: T1<br>Number of subjects: 13.0<br>ROIs per subject: 3.0<br>Total number of samples: 39.0",
          "Study: Hametner et al., 2018<br>Measure: T1<br>Number of subjects: 6.0<br>ROIs per subject: 79.0<br>Total number of samples: 474.0",
          "Study: Schmierer et al., 2008<br>Measure: T1<br>Number of subjects: 15.0<br>ROIs per subject: 2.0<br>Total number of samples: 30.0"
         ],
         "type": "scatter",
         "x": [
          "T1",
          "T1",
          "T1",
          "T1",
          "T1",
          "T1",
          "T1",
          "T1"
         ],
         "y": [
          0.48999999999999994,
          0.5929,
          0.77,
          0.4356,
          0.4760999999999999,
          0.27,
          0.3398,
          0.7921
         ]
        },
        {
         "line": {
          "color": "rgba(0,0,0,0)"
         },
         "marker": {
          "color": "rgb(242, 183, 1)",
          "size": [
           15.491933384829668,
           29.597297173897484,
           47.83304297240559,
           15.491933384829668,
           7.745966692414834,
           9.797958971132712,
           9.16515138991168,
           12.489995996796797,
           10.954451150103322,
           15.491933384829668,
           6.324555320336759,
           8.48528137423857
          ]
         },
         "mode": "markers",
         "name": "T2 relaxometry",
         "opacity": 0.6,
         "text": [
          "Study: West et al., 2018<br>Measure: MVF-T2<br>Number of subjects: 15.0<br>ROIs per subject: 4.0<br>Total number of samples: 60.0",
          "Study: Laule et al., 2008<br>Measure: MWF<br>Number of subjects: 3.0<br>ROIs per subject: 73.0<br>Total number of samples: 219.0",
          "Study: Laule et al., 2006<br>Measure: MWF<br>Number of subjects: 13.0<br>ROIs per subject: 44.0<br>Total number of samples: 572.0",
          "Study: West et al., 2018<br>Measure: MWF<br>Number of subjects: 15.0<br>ROIs per subject: 4.0<br>Total number of samples: 60.0",
          "Study: Soustelle et al., 2019<br>Measure: MWF<br>Number of subjects: 15.0<br>ROIs per subject: 1.0<br>Total number of samples: 15.0",
          "Study: Wu et al., 2008<br>Measure: T2<br>Number of subjects: 8.0<br>ROIs per subject: 3.0<br>Total number of samples: 24.0",
          "Study: Jelescu et al., 2016<br>Measure: T2<br>Number of subjects: 21.0<br>ROIs per subject: 1.0<br>Total number of samples: 21.0",
          "Study: Reeves et al., 2016<br>Measure: T2<br>Number of subjects: 13.0<br>ROIs per subject: 3.0<br>Total number of samples: 39.0",
          "Study: Schmierer et al., 2008<br>Measure: T2<br>Number of subjects: 15.0<br>ROIs per subject: 2.0<br>Total number of samples: 30.0",
          "Study: Hakkarainen et al., 2016<br>Measure: T2<br>Number of subjects: 5.0<br>ROIs per subject: 12.0<br>Total number of samples: 60.0",
          "Study: Thiessen et al., 2013<br>Measure: T2<br>Number of subjects: 10.0<br>ROIs per subject: 1.0<br>Total number of samples: 10.0",
          "Study: Tardif et al., 2012<br>Measure: T2<br>Number of subjects: 1.0<br>ROIs per subject: 18.0<br>Total number of samples: 18.0"
         ],
         "type": "scatter",
         "x": [
          "MVF-T2",
          "MWF",
          "MWF",
          "MWF",
          "MWF",
          "T2",
          "T2",
          "T2",
          "T2",
          "T2",
          "T2",
          "T2"
         ],
         "y": [
          0.68,
          0.78,
          0.67,
          0.66,
          0.4624,
          0.5184,
          0.4096,
          0.235,
          0.8464,
          0.18,
          0.0676,
          0.4225
         ]
        },
        {
         "line": {
          "color": "rgba(0,0,0,0)"
         },
         "marker": {
          "color": "rgb(231, 63, 116)",
          "size": [
           4.0,
           8.48528137423857,
           43.54308211415448,
           6.6332495807108,
           43.54308211415448,
           17.88854381999832,
           15.491933384829668,
           15.491933384829668,
           17.88854381999832,
           15.491933384829668,
           7.745966692414834
          ]
         },
         "mode": "markers",
         "name": "Other",
         "opacity": 0.6,
         "text": [
          "Study: Berman et al., 2018<br>Measure: MTV<br>Number of subjects: 4.0<br>ROIs per subject: 1.0<br>Total number of samples: 4.0",
          "Study: Tardif et al., 2012<br>Measure: PD<br>Number of subjects: 1.0<br>ROIs per subject: 18.0<br>Total number of samples: 18.0",
          "Study: Hametner et al., 2018<br>Measure: QSM<br>Number of subjects: 6.0<br>ROIs per subject: 79.0<br>Total number of samples: 474.0",
          "Study: Pol et al., 2019<br>Measure: QSM<br>Number of subjects: 11.0<br>ROIs per subject: 1.0<br>Total number of samples: 11.0",
          "Study: Hametner et al., 2018<br>Measure: R2*<br>Number of subjects: 6.0<br>ROIs per subject: 79.0<br>Total number of samples: 474.0",
          "Study: Lehto et al., 2017a<br>Measure: RAFF<br>Number of subjects: 20.0<br>ROIs per subject: 4.0<br>Total number of samples: 80.0",
          "Study: Hakkarainen et al., 2016<br>Measure: RAFF<br>Number of subjects: 5.0<br>ROIs per subject: 12.0<br>Total number of samples: 60.0",
          "Study: Hakkarainen et al., 2016<br>Measure: T1p<br>Number of subjects: 5.0<br>ROIs per subject: 12.0<br>Total number of samples: 60.0",
          "Study: Lehto et al., 2017a<br>Measure: T1sat<br>Number of subjects: 20.0<br>ROIs per subject: 4.0<br>Total number of samples: 80.0",
          "Study: Hakkarainen et al., 2016<br>Measure: T2p<br>Number of subjects: 5.0<br>ROIs per subject: 12.0<br>Total number of samples: 60.0",
          "Study: Soustelle et al., 2019<br>Measure: rSPF<br>Number of subjects: 15.0<br>ROIs per subject: 1.0<br>Total number of samples: 15.0"
         ],
         "type": "scatter",
         "x": [
          "MTV",
          "PD",
          "QSM",
          "QSM",
          "R2*",
          "RAFF",
          "RAFF",
          "T1p",
          "T1sat",
          "T2p",
          "rSPF"
         ],
         "y": [
          0.74,
          0.3481,
          0.1239,
          0.0361,
          7.0E-4,
          0.552,
          0.84,
          0.63,
          0.49,
          0.34,
          0.7396
         ]
        }
       ],
       "layout": {
        "annotations": [
         {
          "font": {
           "color": "gray",
           "size": 8
          },
          "showarrow": false,
          "text": "<a href=\"https://neurolibre.com\" target=\"_blank\" style=\"color:gray!important\">NeuroLibre</a>",
          "x": 1,
          "xref": "paper",
          "y": -0.25,
          "yref": "paper"
         }
        ],
        "autosize": false,
        "height": 500,
        "images": [
         {
          "opacity": 0.9,
          "sizex": 0.05,
          "sizey": 0.05,
          "source": "https://raw.githubusercontent.com/notebook-factory/brand/main/nlibre_custom2.svg",
          "x": 0.89,
          "xref": "paper",
          "y": -0.198,
          "yref": "paper"
         }
        ],
        "margin": {
         "l": 0
        },
        "template": {
         "data": {
          "bar": [
           {
            "error_x": {
             "color": "#2a3f5f"
            },
            "error_y": {
             "color": "#2a3f5f"
            },
            "marker": {
             "line": {
              "color": "#E5ECF6",
              "width": 0.5
             }
            },
            "type": "bar"
           }
          ],
          "barpolar": [
           {
            "marker": {
             "line": {
              "color": "#E5ECF6",
              "width": 0.5
             }
            },
            "type": "barpolar"
           }
          ],
          "carpet": [
           {
            "aaxis": {
             "endlinecolor": "#2a3f5f",
             "gridcolor": "white",
             "linecolor": "white",
             "minorgridcolor": "white",
             "startlinecolor": "#2a3f5f"
            },
            "baxis": {
             "endlinecolor": "#2a3f5f",
             "gridcolor": "white",
             "linecolor": "white",
             "minorgridcolor": "white",
             "startlinecolor": "#2a3f5f"
            },
            "type": "carpet"
           }
          ],
          "choropleth": [
           {
            "colorbar": {
             "outlinewidth": 0,
             "ticks": ""
            },
            "type": "choropleth"
           }
          ],
          "contour": [
           {
            "colorbar": {
             "outlinewidth": 0,
             "ticks": ""
            },
            "colorscale": [
             [
              0.0,
              "#0d0887"
             ],
             [
              0.1111111111111111,
              "#46039f"
             ],
             [
              0.2222222222222222,
              "#7201a8"
             ],
             [
              0.3333333333333333,
              "#9c179e"
             ],
             [
              0.4444444444444444,
              "#bd3786"
             ],
             [
              0.5555555555555556,
              "#d8576b"
             ],
             [
              0.6666666666666666,
              "#ed7953"
             ],
             [
              0.7777777777777778,
              "#fb9f3a"
             ],
             [
              0.8888888888888888,
              "#fdca26"
             ],
             [
              1.0,
              "#f0f921"
             ]
            ],
            "type": "contour"
           }
          ],
          "contourcarpet": [
           {
            "colorbar": {
             "outlinewidth": 0,
             "ticks": ""
            },
            "type": "contourcarpet"
           }
          ],
          "heatmap": [
           {
            "colorbar": {
             "outlinewidth": 0,
             "ticks": ""
            },
            "colorscale": [
             [
              0.0,
              "#0d0887"
             ],
             [
              0.1111111111111111,
              "#46039f"
             ],
             [
              0.2222222222222222,
              "#7201a8"
             ],
             [
              0.3333333333333333,
              "#9c179e"
             ],
             [
              0.4444444444444444,
              "#bd3786"
             ],
             [
              0.5555555555555556,
              "#d8576b"
             ],
             [
              0.6666666666666666,
              "#ed7953"
             ],
             [
              0.7777777777777778,
              "#fb9f3a"
             ],
             [
              0.8888888888888888,
              "#fdca26"
             ],
             [
              1.0,
              "#f0f921"
             ]
            ],
            "type": "heatmap"
           }
          ],
          "heatmapgl": [
           {
            "colorbar": {
             "outlinewidth": 0,
             "ticks": ""
            },
            "colorscale": [
             [
              0.0,
              "#0d0887"
             ],
             [
              0.1111111111111111,
              "#46039f"
             ],
             [
              0.2222222222222222,
              "#7201a8"
             ],
             [
              0.3333333333333333,
              "#9c179e"
             ],
             [
              0.4444444444444444,
              "#bd3786"
             ],
             [
              0.5555555555555556,
              "#d8576b"
             ],
             [
              0.6666666666666666,
              "#ed7953"
             ],
             [
              0.7777777777777778,
              "#fb9f3a"
             ],
             [
              0.8888888888888888,
              "#fdca26"
             ],
             [
              1.0,
              "#f0f921"
             ]
            ],
            "type": "heatmapgl"
           }
          ],
          "histogram": [
           {
            "marker": {
             "colorbar": {
              "outlinewidth": 0,
              "ticks": ""
             }
            },
            "type": "histogram"
           }
          ],
          "histogram2d": [
           {
            "colorbar": {
             "outlinewidth": 0,
             "ticks": ""
            },
            "colorscale": [
             [
              0.0,
              "#0d0887"
             ],
             [
              0.1111111111111111,
              "#46039f"
             ],
             [
              0.2222222222222222,
              "#7201a8"
             ],
             [
              0.3333333333333333,
              "#9c179e"
             ],
             [
              0.4444444444444444,
              "#bd3786"
             ],
             [
              0.5555555555555556,
              "#d8576b"
             ],
             [
              0.6666666666666666,
              "#ed7953"
             ],
             [
              0.7777777777777778,
              "#fb9f3a"
             ],
             [
              0.8888888888888888,
              "#fdca26"
             ],
             [
              1.0,
              "#f0f921"
             ]
            ],
            "type": "histogram2d"
           }
          ],
          "histogram2dcontour": [
           {
            "colorbar": {
             "outlinewidth": 0,
             "ticks": ""
            },
            "colorscale": [
             [
              0.0,
              "#0d0887"
             ],
             [
              0.1111111111111111,
              "#46039f"
             ],
             [
              0.2222222222222222,
              "#7201a8"
             ],
             [
              0.3333333333333333,
              "#9c179e"
             ],
             [
              0.4444444444444444,
              "#bd3786"
             ],
             [
              0.5555555555555556,
              "#d8576b"
             ],
             [
              0.6666666666666666,
              "#ed7953"
             ],
             [
              0.7777777777777778,
              "#fb9f3a"
             ],
             [
              0.8888888888888888,
              "#fdca26"
             ],
             [
              1.0,
              "#f0f921"
             ]
            ],
            "type": "histogram2dcontour"
           }
          ],
          "mesh3d": [
           {
            "colorbar": {
             "outlinewidth": 0,
             "ticks": ""
            },
            "type": "mesh3d"
           }
          ],
          "parcoords": [
           {
            "line": {
             "colorbar": {
              "outlinewidth": 0,
              "ticks": ""
             }
            },
            "type": "parcoords"
           }
          ],
          "pie": [
           {
            "automargin": true,
            "type": "pie"
           }
          ],
          "scatter": [
           {
            "marker": {
             "colorbar": {
              "outlinewidth": 0,
              "ticks": ""
             }
            },
            "type": "scatter"
           }
          ],
          "scatter3d": [
           {
            "line": {
             "colorbar": {
              "outlinewidth": 0,
              "ticks": ""
             }
            },
            "marker": {
             "colorbar": {
              "outlinewidth": 0,
              "ticks": ""
             }
            },
            "type": "scatter3d"
           }
          ],
          "scattercarpet": [
           {
            "marker": {
             "colorbar": {
              "outlinewidth": 0,
              "ticks": ""
             }
            },
            "type": "scattercarpet"
           }
          ],
          "scattergeo": [
           {
            "marker": {
             "colorbar": {
              "outlinewidth": 0,
              "ticks": ""
             }
            },
            "type": "scattergeo"
           }
          ],
          "scattergl": [
           {
            "marker": {
             "colorbar": {
              "outlinewidth": 0,
              "ticks": ""
             }
            },
            "type": "scattergl"
           }
          ],
          "scattermapbox": [
           {
            "marker": {
             "colorbar": {
              "outlinewidth": 0,
              "ticks": ""
             }
            },
            "type": "scattermapbox"
           }
          ],
          "scatterpolar": [
           {
            "marker": {
             "colorbar": {
              "outlinewidth": 0,
              "ticks": ""
             }
            },
            "type": "scatterpolar"
           }
          ],
          "scatterpolargl": [
           {
            "marker": {
             "colorbar": {
              "outlinewidth": 0,
              "ticks": ""
             }
            },
            "type": "scatterpolargl"
           }
          ],
          "scatterternary": [
           {
            "marker": {
             "colorbar": {
              "outlinewidth": 0,
              "ticks": ""
             }
            },
            "type": "scatterternary"
           }
          ],
          "surface": [
           {
            "colorbar": {
             "outlinewidth": 0,
             "ticks": ""
            },
            "colorscale": [
             [
              0.0,
              "#0d0887"
             ],
             [
              0.1111111111111111,
              "#46039f"
             ],
             [
              0.2222222222222222,
              "#7201a8"
             ],
             [
              0.3333333333333333,
              "#9c179e"
             ],
             [
              0.4444444444444444,
              "#bd3786"
             ],
             [
              0.5555555555555556,
              "#d8576b"
             ],
             [
              0.6666666666666666,
              "#ed7953"
             ],
             [
              0.7777777777777778,
              "#fb9f3a"
             ],
             [
              0.8888888888888888,
              "#fdca26"
             ],
             [
              1.0,
              "#f0f921"
             ]
            ],
            "type": "surface"
           }
          ],
          "table": [
           {
            "cells": {
             "fill": {
              "color": "#EBF0F8"
             },
             "line": {
              "color": "white"
             }
            },
            "header": {
             "fill": {
              "color": "#C8D4E3"
             },
             "line": {
              "color": "white"
             }
            },
            "type": "table"
           }
          ]
         },
         "layout": {
          "annotationdefaults": {
           "arrowcolor": "#2a3f5f",
           "arrowhead": 0,
           "arrowwidth": 1
          },
          "coloraxis": {
           "colorbar": {
            "outlinewidth": 0,
            "ticks": ""
           }
          },
          "colorscale": {
           "diverging": [
            [
             0,
             "#8e0152"
            ],
            [
             0.1,
             "#c51b7d"
            ],
            [
             0.2,
             "#de77ae"
            ],
            [
             0.3,
             "#f1b6da"
            ],
            [
             0.4,
             "#fde0ef"
            ],
            [
             0.5,
             "#f7f7f7"
            ],
            [
             0.6,
             "#e6f5d0"
            ],
            [
             0.7,
             "#b8e186"
            ],
            [
             0.8,
             "#7fbc41"
            ],
            [
             0.9,
             "#4d9221"
            ],
            [
             1,
             "#276419"
            ]
           ],
           "sequential": [
            [
             0.0,
             "#0d0887"
            ],
            [
             0.1111111111111111,
             "#46039f"
            ],
            [
             0.2222222222222222,
             "#7201a8"
            ],
            [
             0.3333333333333333,
             "#9c179e"
            ],
            [
             0.4444444444444444,
             "#bd3786"
            ],
            [
             0.5555555555555556,
             "#d8576b"
            ],
            [
             0.6666666666666666,
             "#ed7953"
            ],
            [
             0.7777777777777778,
             "#fb9f3a"
            ],
            [
             0.8888888888888888,
             "#fdca26"
            ],
            [
             1.0,
             "#f0f921"
            ]
           ],
           "sequentialminus": [
            [
             0.0,
             "#0d0887"
            ],
            [
             0.1111111111111111,
             "#46039f"
            ],
            [
             0.2222222222222222,
             "#7201a8"
            ],
            [
             0.3333333333333333,
             "#9c179e"
            ],
            [
             0.4444444444444444,
             "#bd3786"
            ],
            [
             0.5555555555555556,
             "#d8576b"
            ],
            [
             0.6666666666666666,
             "#ed7953"
            ],
            [
             0.7777777777777778,
             "#fb9f3a"
            ],
            [
             0.8888888888888888,
             "#fdca26"
            ],
            [
             1.0,
             "#f0f921"
            ]
           ]
          },
          "colorway": [
           "#636efa",
           "#EF553B",
           "#00cc96",
           "#ab63fa",
           "#FFA15A",
           "#19d3f3",
           "#FF6692",
           "#B6E880",
           "#FF97FF",
           "#FECB52"
          ],
          "font": {
           "color": "#2a3f5f"
          },
          "geo": {
           "bgcolor": "white",
           "lakecolor": "white",
           "landcolor": "#E5ECF6",
           "showlakes": true,
           "showland": true,
           "subunitcolor": "white"
          },
          "hoverlabel": {
           "align": "left"
          },
          "hovermode": "closest",
          "mapbox": {
           "style": "light"
          },
          "paper_bgcolor": "white",
          "plot_bgcolor": "#E5ECF6",
          "polar": {
           "angularaxis": {
            "gridcolor": "white",
            "linecolor": "white",
            "ticks": ""
           },
           "bgcolor": "#E5ECF6",
           "radialaxis": {
            "gridcolor": "white",
            "linecolor": "white",
            "ticks": ""
           }
          },
          "scene": {
           "xaxis": {
            "backgroundcolor": "#E5ECF6",
            "gridcolor": "white",
            "gridwidth": 2,
            "linecolor": "white",
            "showbackground": true,
            "ticks": "",
            "zerolinecolor": "white"
           },
           "yaxis": {
            "backgroundcolor": "#E5ECF6",
            "gridcolor": "white",
            "gridwidth": 2,
            "linecolor": "white",
            "showbackground": true,
            "ticks": "",
            "zerolinecolor": "white"
           },
           "zaxis": {
            "backgroundcolor": "#E5ECF6",
            "gridcolor": "white",
            "gridwidth": 2,
            "linecolor": "white",
            "showbackground": true,
            "ticks": "",
            "zerolinecolor": "white"
           }
          },
          "shapedefaults": {
           "line": {
            "color": "#2a3f5f"
           }
          },
          "ternary": {
           "aaxis": {
            "gridcolor": "white",
            "linecolor": "white",
            "ticks": ""
           },
           "baxis": {
            "gridcolor": "white",
            "linecolor": "white",
            "ticks": ""
           },
           "bgcolor": "#E5ECF6",
           "caxis": {
            "gridcolor": "white",
            "linecolor": "white",
            "ticks": ""
           }
          },
          "title": {
           "x": 0.05
          },
          "xaxis": {
           "automargin": true,
           "gridcolor": "white",
           "linecolor": "white",
           "ticks": "",
           "title": {
            "standoff": 15
           },
           "zerolinecolor": "white",
           "zerolinewidth": 2
          },
          "yaxis": {
           "automargin": true,
           "gridcolor": "white",
           "linecolor": "white",
           "ticks": "",
           "title": {
            "standoff": 15
           },
           "zerolinecolor": "white",
           "zerolinewidth": 2
          }
         }
        },
        "title": {
         "text": "Figure 3 - R<sup>2</sup> between MRI and histology across measures "
        },
        "width": 800,
        "xaxis": {
         "title": {
          "text": "MRI measure"
         }
        },
        "yaxis": {
         "title": {
          "text": "R<sup>2</sup>"
         }
        }
       }
      },
      "text/html": "<div>\n        \n        \n            <div id=\"c9590127-6ba2-477d-84f2-6a0e7e0c2f9c\" class=\"plotly-graph-div\" style=\"height:500px; width:800px;\"></div>\n            <script type=\"text/javascript\">\n                require([\"plotly\"], function(Plotly) {\n                    window.PLOTLYENV=window.PLOTLYENV || {};\n                    \n                if (document.getElementById(\"c9590127-6ba2-477d-84f2-6a0e7e0c2f9c\")) {\n                    Plotly.newPlot(\n                        'c9590127-6ba2-477d-84f2-6a0e7e0c2f9c',\n                        [{\"line\": {\"color\": \"rgba(0,0,0,0)\"}, \"marker\": {\"color\": \"rgb(127, 60, 141)\", \"size\": [8.246211251235321, 10.954451150103322, 17.88854381999832, 15.491933384829668, 12.0, 13.856406460551018, 14.966629547095765, 6.324555320336759, 10.0, 17.663521732655695, 9.16515138991168, 14.966629547095765, 10.0, 13.856406460551018, 17.88854381999832, 6.324555320336759, 8.94427190999916, 12.0, 7.745966692414834, 8.246211251235321, 10.954451150103322, 6.928203230275509, 8.48528137423857, 9.16515138991168, 13.856406460551018, 15.491933384829668, 12.0, 6.6332495807108, 10.0, 6.324555320336759, 14.966629547095765, 13.856406460551018, 6.6332495807108, 17.88854381999832, 13.856406460551018, 9.16515138991168, 10.954451150103322, 12.0, 8.246211251235321, 17.663521732655695, 17.663521732655695, 6.324555320336759, 8.246211251235321, 8.94427190999916, 7.745966692414834, 9.16515138991168, 17.88854381999832, 7.745966692414834, 15.491933384829668, 9.16515138991168, 13.856406460551018, 12.0, 10.954451150103322, 10.0, 17.663521732655695, 14.966629547095765, 9.16515138991168, 9.16515138991168, 17.663521732655695]}, \"mode\": \"markers\", \"name\": \"Diffusion\", \"opacity\": 0.6, \"text\": [\"Study: Aojula et al., 2016<br>Measure: AD<br>Number of subjects: 17.0<br>ROIs per subject: 1.0<br>Total number of samples: 17.0\", \"Study: Schmierer et al., 2008<br>Measure: AD<br>Number of subjects: 15.0<br>ROIs per subject: 2.0<br>Total number of samples: 30.0\", \"Study: Lehto et al., 2017a<br>Measure: AD<br>Number of subjects: 20.0<br>ROIs per subject: 4.0<br>Total number of samples: 80.0\", \"Study: Abe et al., 2019<br>Measure: AD<br>Number of subjects: 5.0<br>ROIs per subject: 12.0<br>Total number of samples: 60.0\", \"Study: Wendel et al., 2018<br>Measure: AD<br>Number of subjects: 12.0<br>ROIs per subject: 3.0<br>Total number of samples: 36.0\", \"Study: Janve et al., 2013<br>Measure: AD<br>Number of subjects: 8.0<br>ROIs per subject: 6.0<br>Total number of samples: 48.0\", \"Study: Chang et al., 2017<br>Measure: AD<br>Number of subjects: 4.0<br>ROIs per subject: 14.0<br>Total number of samples: 56.0\", \"Study: Thiessen et al., 2013<br>Measure: AD<br>Number of subjects: 10.0<br>ROIs per subject: 1.0<br>Total number of samples: 10.0\", \"Study: Tu et al., 2016<br>Measure: AD<br>Number of subjects: 25.0<br>ROIs per subject: 1.0<br>Total number of samples: 25.0\", \"Study: Kelm et al., 2016<br>Measure: AWF<br>Number of subjects: 13.0<br>ROIs per subject: 6.0<br>Total number of samples: 78.0\", \"Study: Jelescu et al., 2016<br>Measure: AWF<br>Number of subjects: 21.0<br>ROIs per subject: 1.0<br>Total number of samples: 21.0\", \"Study: Chang et al., 2017<br>Measure: FA<br>Number of subjects: 4.0<br>ROIs per subject: 14.0<br>Total number of samples: 56.0\", \"Study: Tu et al., 2016<br>Measure: FA<br>Number of subjects: 25.0<br>ROIs per subject: 1.0<br>Total number of samples: 25.0\", \"Study: Janve et al., 2013<br>Measure: FA<br>Number of subjects: 8.0<br>ROIs per subject: 6.0<br>Total number of samples: 48.0\", \"Study: Lehto et al., 2017a<br>Measure: FA<br>Number of subjects: 20.0<br>ROIs per subject: 4.0<br>Total number of samples: 80.0\", \"Study: Thiessen et al., 2013<br>Measure: FA<br>Number of subjects: 10.0<br>ROIs per subject: 1.0<br>Total number of samples: 10.0\", \"Study: Chandran et al., 2012<br>Measure: FA<br>Number of subjects: 20.0<br>ROIs per subject: 1.0<br>Total number of samples: 20.0\", \"Study: Wendel et al., 2018<br>Measure: FA<br>Number of subjects: 12.0<br>ROIs per subject: 3.0<br>Total number of samples: 36.0\", \"Study: Wang et al., 2009<br>Measure: FA<br>Number of subjects: 15.0<br>ROIs per subject: 1.0<br>Total number of samples: 15.0\", \"Study: Aojula et al., 2016<br>Measure: FA<br>Number of subjects: 17.0<br>ROIs per subject: 1.0<br>Total number of samples: 17.0\", \"Study: Schmierer et al., 2008<br>Measure: FA<br>Number of subjects: 15.0<br>ROIs per subject: 2.0<br>Total number of samples: 30.0\", \"Study: van Tilborg et al., 2017<br>Measure: FA<br>Number of subjects: 12.0<br>ROIs per subject: 1.0<br>Total number of samples: 12.0\", \"Study: Mollink et al., 2019<br>Measure: FA<br>Number of subjects: 18.0<br>ROIs per subject: 1.0<br>Total number of samples: 18.0\", \"Study: Yano et al., 2018<br>Measure: FA<br>Number of subjects: 21.0<br>ROIs per subject: 1.0<br>Total number of samples: 21.0\", \"Study: Schmierer et al., 2007b<br>Measure: FA<br>Number of subjects: 16.0<br>ROIs per subject: 3.0<br>Total number of samples: 48.0\", \"Study: Abe et al., 2019<br>Measure: FA<br>Number of subjects: 5.0<br>ROIs per subject: 12.0<br>Total number of samples: 60.0\", \"Study: Jito et al., 2008<br>Measure: FA<br>Number of subjects: 36.0<br>ROIs per subject: 1.0<br>Total number of samples: 36.0\", \"Study: Pol et al., 2019<br>Measure: FA<br>Number of subjects: 11.0<br>ROIs per subject: 1.0<br>Total number of samples: 11.0\", \"Study: Tu et al., 2016<br>Measure: MD<br>Number of subjects: 25.0<br>ROIs per subject: 1.0<br>Total number of samples: 25.0\", \"Study: Thiessen et al., 2013<br>Measure: MD<br>Number of subjects: 10.0<br>ROIs per subject: 1.0<br>Total number of samples: 10.0\", \"Study: Chang et al., 2017<br>Measure: MD<br>Number of subjects: 4.0<br>ROIs per subject: 14.0<br>Total number of samples: 56.0\", \"Study: Janve et al., 2013<br>Measure: MD<br>Number of subjects: 8.0<br>ROIs per subject: 6.0<br>Total number of samples: 48.0\", \"Study: Pol et al., 2019<br>Measure: MD<br>Number of subjects: 11.0<br>ROIs per subject: 1.0<br>Total number of samples: 11.0\", \"Study: Lehto et al., 2017a<br>Measure: MD<br>Number of subjects: 20.0<br>ROIs per subject: 4.0<br>Total number of samples: 80.0\", \"Study: Schmierer et al., 2007b<br>Measure: MD<br>Number of subjects: 16.0<br>ROIs per subject: 3.0<br>Total number of samples: 48.0\", \"Study: Yano et al., 2018<br>Measure: MD<br>Number of subjects: 21.0<br>ROIs per subject: 1.0<br>Total number of samples: 21.0\", \"Study: Schmierer et al., 2008<br>Measure: MD<br>Number of subjects: 15.0<br>ROIs per subject: 2.0<br>Total number of samples: 30.0\", \"Study: Wendel et al., 2018<br>Measure: MD<br>Number of subjects: 12.0<br>ROIs per subject: 3.0<br>Total number of samples: 36.0\", \"Study: Aojula et al., 2016<br>Measure: MD<br>Number of subjects: 17.0<br>ROIs per subject: 1.0<br>Total number of samples: 17.0\", \"Study: Kelm et al., 2016<br>Measure: MD<br>Number of subjects: 13.0<br>ROIs per subject: 6.0<br>Total number of samples: 78.0\", \"Study: Kelm et al., 2016<br>Measure: MK<br>Number of subjects: 13.0<br>ROIs per subject: 6.0<br>Total number of samples: 78.0\", \"Study: Thiessen et al., 2013<br>Measure: RD<br>Number of subjects: 10.0<br>ROIs per subject: 1.0<br>Total number of samples: 10.0\", \"Study: Aojula et al., 2016<br>Measure: RD<br>Number of subjects: 17.0<br>ROIs per subject: 1.0<br>Total number of samples: 17.0\", \"Study: Chandran et al., 2012<br>Measure: RD<br>Number of subjects: 20.0<br>ROIs per subject: 1.0<br>Total number of samples: 20.0\", \"Study: Wang et al., 2009<br>Measure: RD<br>Number of subjects: 15.0<br>ROIs per subject: 1.0<br>Total number of samples: 15.0\", \"Study: Yano et al., 2018<br>Measure: RD<br>Number of subjects: 21.0<br>ROIs per subject: 1.0<br>Total number of samples: 21.0\", \"Study: Lehto et al., 2017a<br>Measure: RD<br>Number of subjects: 20.0<br>ROIs per subject: 4.0<br>Total number of samples: 80.0\", \"Study: Soustelle et al., 2019<br>Measure: RD<br>Number of subjects: 15.0<br>ROIs per subject: 1.0<br>Total number of samples: 15.0\", \"Study: Abe et al., 2019<br>Measure: RD<br>Number of subjects: 5.0<br>ROIs per subject: 12.0<br>Total number of samples: 60.0\", \"Study: Jelescu et al., 2016<br>Measure: RD<br>Number of subjects: 21.0<br>ROIs per subject: 1.0<br>Total number of samples: 21.0\", \"Study: Janve et al., 2013<br>Measure: RD<br>Number of subjects: 8.0<br>ROIs per subject: 6.0<br>Total number of samples: 48.0\", \"Study: Wendel et al., 2018<br>Measure: RD<br>Number of subjects: 12.0<br>ROIs per subject: 3.0<br>Total number of samples: 36.0\", \"Study: Schmierer et al., 2008<br>Measure: RD<br>Number of subjects: 15.0<br>ROIs per subject: 2.0<br>Total number of samples: 30.0\", \"Study: Tu et al., 2016<br>Measure: RD<br>Number of subjects: 25.0<br>ROIs per subject: 1.0<br>Total number of samples: 25.0\", \"Study: Kelm et al., 2016<br>Measure: RD<br>Number of subjects: 13.0<br>ROIs per subject: 6.0<br>Total number of samples: 78.0\", \"Study: Chang et al., 2017<br>Measure: RD<br>Number of subjects: 4.0<br>ROIs per subject: 14.0<br>Total number of samples: 56.0\", \"Study: Jelescu et al., 2016<br>Measure: RDe<br>Number of subjects: 21.0<br>ROIs per subject: 1.0<br>Total number of samples: 21.0\", \"Study: Jelescu et al., 2016<br>Measure: RK<br>Number of subjects: 21.0<br>ROIs per subject: 1.0<br>Total number of samples: 21.0\", \"Study: Kelm et al., 2016<br>Measure: RK<br>Number of subjects: 13.0<br>ROIs per subject: 6.0<br>Total number of samples: 78.0\"], \"type\": \"scatter\", \"x\": [\"AD\", \"AD\", \"AD\", \"AD\", \"AD\", \"AD\", \"AD\", \"AD\", \"AD\", \"AWF\", \"AWF\", \"FA\", \"FA\", \"FA\", \"FA\", \"FA\", \"FA\", \"FA\", \"FA\", \"FA\", \"FA\", \"FA\", \"FA\", \"FA\", \"FA\", \"FA\", \"FA\", \"FA\", \"MD\", \"MD\", \"MD\", \"MD\", \"MD\", \"MD\", \"MD\", \"MD\", \"MD\", \"MD\", \"MD\", \"MD\", \"MK\", \"RD\", \"RD\", \"RD\", \"RD\", \"RD\", \"RD\", \"RD\", \"RD\", \"RD\", \"RD\", \"RD\", \"RD\", \"RD\", \"RD\", \"RD\", \"RDe\", \"RK\", \"RK\"], \"y\": [0.1296, 0.64, 0.4199, 0.0121, 0.1987, 0.0064, 0.1482, 0.5625, 0.0001, 0.3364, 0.3025, 0.1989, 0.0169, 0.0729, 0.2237, 0.7056, 0.5, 0.5707, 0.4637, 0.1197, 0.6889, 0.334, 0.2704, 0.7569, 0.6241000000000001, 0.1024, 0.7327, 0.0576, 0.0289, 0.6561, 0.0129, 0.0784, 0.3481, 0.3492, 0.4624000000000001, 0.5329, 0.6084, 0.0564, 0.245, 0.1225, 0.2304, 0.7569, 0.2097, 0.34, 0.2787, 0.8281, 0.0015, 0.49, 0.1681, 0.5041, 0.2401, 0.2973, 0.6561, 0.2116, 0.1369, 0.038, 0.25, 0.0196, 0.2401]}, {\"line\": {\"color\": \"rgba(0,0,0,0)\"}, \"marker\": {\"color\": \"rgb(17, 165, 121)\", \"size\": [13.856406460551018, 21.166010488516726, 10.954451150103322, 6.0, 21.071307505705477, 15.491933384829668, 6.324555320336759, 7.745966692414834, 7.211102550927978, 7.745966692414834, 15.491933384829668, 9.797958971132712, 9.16515138991168, 10.954451150103322, 9.16515138991168, 21.071307505705477, 17.88854381999832, 14.696938456699069, 8.48528137423857, 11.313708498984761, 15.491933384829668, 48.98979485566356, 8.94427190999916, 8.0, 10.0, 6.0, 6.0, 15.491933384829668, 13.856406460551018, 6.324555320336759, 6.324555320336759, 6.324555320336759, 21.071307505705477, 9.16515138991168, 6.324555320336759, 6.324555320336759, 13.856406460551018]}, \"mode\": \"markers\", \"name\": \"Magnetization transfer\", \"opacity\": 0.6, \"text\": [\"Study: Janve et al., 2013<br>Measure: MPF<br>Number of subjects: 8.0<br>ROIs per subject: 6.0<br>Total number of samples: 48.0\", \"Study: Khodanovic et al., 2017<br>Measure: MPF<br>Number of subjects: 14.0<br>ROIs per subject: 8.0<br>Total number of samples: 112.0\", \"Study: Schmierer et al., 2008<br>Measure: MPF<br>Number of subjects: 15.0<br>ROIs per subject: 2.0<br>Total number of samples: 30.0\", \"Study: Underhill et al., 2011<br>Measure: MPF<br>Number of subjects: 1.0<br>ROIs per subject: 9.0<br>Total number of samples: 9.0\", \"Study: Schmierer et al., 2007a<br>Measure: MPF<br>Number of subjects: 37.0<br>ROIs per subject: 3.0<br>Total number of samples: 111.0\", \"Study: West et al., 2018<br>Measure: MPF<br>Number of subjects: 15.0<br>ROIs per subject: 4.0<br>Total number of samples: 60.0\", \"Study: Thiessen et al., 2013<br>Measure: MPF<br>Number of subjects: 10.0<br>ROIs per subject: 1.0<br>Total number of samples: 10.0\", \"Study: Soustelle et al., 2019<br>Measure: MPF<br>Number of subjects: 15.0<br>ROIs per subject: 1.0<br>Total number of samples: 15.0\", \"Study: Khodanovic et al., 2019<br>Measure: MPF<br>Number of subjects: 13.0<br>ROIs per subject: 1.0<br>Total number of samples: 13.0\", \"Study: Turati et al., 2015<br>Measure: MPF<br>Number of subjects: 15.0<br>ROIs per subject: 1.0<br>Total number of samples: 15.0\", \"Study: Schmierer et al., 2004<br>Measure: MTR<br>Number of subjects: 20.0<br>ROIs per subject: 3.0<br>Total number of samples: 60.0\", \"Study: Fjaer et al., 2015<br>Measure: MTR<br>Number of subjects: 24.0<br>ROIs per subject: 1.0<br>Total number of samples: 24.0\", \"Study: Jelescu et al., 2016<br>Measure: MTR<br>Number of subjects: 21.0<br>ROIs per subject: 1.0<br>Total number of samples: 21.0\", \"Study: Schmierer et al., 2008<br>Measure: MTR<br>Number of subjects: 15.0<br>ROIs per subject: 2.0<br>Total number of samples: 30.0\", \"Study: Duhamel et al., 2019<br>Measure: MTR<br>Number of subjects: 3.0<br>ROIs per subject: 7.0<br>Total number of samples: 21.0\", \"Study: Schmierer et al., 2007a<br>Measure: MTR<br>Number of subjects: 37.0<br>ROIs per subject: 3.0<br>Total number of samples: 111.0\", \"Study: Lehto et al., 2017a<br>Measure: MTR<br>Number of subjects: 20.0<br>ROIs per subject: 4.0<br>Total number of samples: 80.0\", \"Study: Fjaer et al., 2013<br>Measure: MTR<br>Number of subjects: 54.0<br>ROIs per subject: 1.0<br>Total number of samples: 54.0\", \"Study: Tardif et al., 2012<br>Measure: MTR<br>Number of subjects: 1.0<br>ROIs per subject: 18.0<br>Total number of samples: 18.0\", \"Study: Lehto et al., 2017b<br>Measure: MTR<br>Number of subjects: 2.0<br>ROIs per subject: 16.0<br>Total number of samples: 32.0\", \"Study: Hakkarainen et al., 2016<br>Measure: MTR<br>Number of subjects: 5.0<br>ROIs per subject: 12.0<br>Total number of samples: 60.0\", \"Study: Fatemi et al., 2011<br>Measure: MTR<br>Number of subjects: 24.0<br>ROIs per subject: 25.0<br>Total number of samples: 600.0\", \"Study: Beckmann et al., 2018<br>Measure: MTR<br>Number of subjects: 20.0<br>ROIs per subject: 1.0<br>Total number of samples: 20.0\", \"Study: Zaaraoui et al., 2008<br>Measure: MTR<br>Number of subjects: 16.0<br>ROIs per subject: 1.0<br>Total number of samples: 16.0\", \"Study: Tu et al., 2016<br>Measure: MTR<br>Number of subjects: 25.0<br>ROIs per subject: 1.0<br>Total number of samples: 25.0\", \"Study: Guglielmetti et al., 2020<br>Measure: MTR<br>Number of subjects: 1.0<br>ROIs per subject: 9.0<br>Total number of samples: 9.0\", \"Study: Guglielmetti et al., 2020<br>Measure: MTR-UTE<br>Number of subjects: 1.0<br>ROIs per subject: 9.0<br>Total number of samples: 9.0\", \"Study: West et al., 2018<br>Measure: MVF-MT<br>Number of subjects: 15.0<br>ROIs per subject: 4.0<br>Total number of samples: 60.0\", \"Study: Janve et al., 2013<br>Measure: R1f<br>Number of subjects: 8.0<br>ROIs per subject: 6.0<br>Total number of samples: 48.0\", \"Study: Thiessen et al., 2013<br>Measure: R1f<br>Number of subjects: 10.0<br>ROIs per subject: 1.0<br>Total number of samples: 10.0\", \"Study: Thiessen et al., 2013<br>Measure: T2f<br>Number of subjects: 10.0<br>ROIs per subject: 1.0<br>Total number of samples: 10.0\", \"Study: Thiessen et al., 2013<br>Measure: T2m<br>Number of subjects: 10.0<br>ROIs per subject: 1.0<br>Total number of samples: 10.0\", \"Study: Schmierer et al., 2007a<br>Measure: T2m<br>Number of subjects: 37.0<br>ROIs per subject: 3.0<br>Total number of samples: 111.0\", \"Study: Duhamel et al., 2019<br>Measure: ihMTR<br>Number of subjects: 3.0<br>ROIs per subject: 7.0<br>Total number of samples: 21.0\", \"Study: Thiessen et al., 2013<br>Measure: k_fm<br>Number of subjects: 10.0<br>ROIs per subject: 1.0<br>Total number of samples: 10.0\", \"Study: Thiessen et al., 2013<br>Measure: k_mf<br>Number of subjects: 10.0<br>ROIs per subject: 1.0<br>Total number of samples: 10.0\", \"Study: Janve et al., 2013<br>Measure: k_mf<br>Number of subjects: 8.0<br>ROIs per subject: 6.0<br>Total number of samples: 48.0\"], \"type\": \"scatter\", \"x\": [\"MPF\", \"MPF\", \"MPF\", \"MPF\", \"MPF\", \"MPF\", \"MPF\", \"MPF\", \"MPF\", \"MPF\", \"MTR\", \"MTR\", \"MTR\", \"MTR\", \"MTR\", \"MTR\", \"MTR\", \"MTR\", \"MTR\", \"MTR\", \"MTR\", \"MTR\", \"MTR\", \"MTR\", \"MTR\", \"MTR\", \"MTR-UTE\", \"MVF-MT\", \"R1f\", \"R1f\", \"T2f\", \"T2m\", \"T2m\", \"ihMTR\", \"k_fm\", \"k_mf\", \"k_mf\"], \"y\": [0.7225, 0.779, 0.7396, 0.9801, 0.6400000000000001, 0.7, 0.8649, 0.7569, 0.82, 0.2872, 0.7055999999999999, 0.01, 0.1024, 0.4624, 0.78, 0.7055999999999999, 0.5169, 0.338, 0.36, 0.94, 0.34, 0.695, 0.7668, 0.6241000000000001, 0.1444, 0.46, 0.76, 0.7, 0.0961, 0.4356, 0.36, 0.1521, 0.0001, 0.96, 0.1089, 0.6724, 0.0256]}, {\"line\": {\"color\": \"rgba(0,0,0,0)\"}, \"marker\": {\"color\": \"rgb(57, 105, 172)\", \"size\": [15.491933384829668, 8.48528137423857, 15.491933384829668, 6.324555320336759, 21.071307505705477, 12.489995996796797, 43.54308211415448, 10.954451150103322]}, \"mode\": \"markers\", \"name\": \"T1 relaxometry\", \"opacity\": 0.6, \"text\": [\"Study: Schmierer et al., 2004<br>Measure: T1<br>Number of subjects: 20.0<br>ROIs per subject: 3.0<br>Total number of samples: 60.0\", \"Study: Tardif et al., 2012<br>Measure: T1<br>Number of subjects: 1.0<br>ROIs per subject: 18.0<br>Total number of samples: 18.0\", \"Study: Hakkarainen et al., 2016<br>Measure: T1<br>Number of subjects: 5.0<br>ROIs per subject: 12.0<br>Total number of samples: 60.0\", \"Study: Thiessen et al., 2013<br>Measure: T1<br>Number of subjects: 10.0<br>ROIs per subject: 1.0<br>Total number of samples: 10.0\", \"Study: Schmierer et al., 2007a<br>Measure: T1<br>Number of subjects: 37.0<br>ROIs per subject: 3.0<br>Total number of samples: 111.0\", \"Study: Reeves et al., 2016<br>Measure: T1<br>Number of subjects: 13.0<br>ROIs per subject: 3.0<br>Total number of samples: 39.0\", \"Study: Hametner et al., 2018<br>Measure: T1<br>Number of subjects: 6.0<br>ROIs per subject: 79.0<br>Total number of samples: 474.0\", \"Study: Schmierer et al., 2008<br>Measure: T1<br>Number of subjects: 15.0<br>ROIs per subject: 2.0<br>Total number of samples: 30.0\"], \"type\": \"scatter\", \"x\": [\"T1\", \"T1\", \"T1\", \"T1\", \"T1\", \"T1\", \"T1\", \"T1\"], \"y\": [0.48999999999999994, 0.5929, 0.77, 0.4356, 0.4760999999999999, 0.27, 0.3398, 0.7921]}, {\"line\": {\"color\": \"rgba(0,0,0,0)\"}, \"marker\": {\"color\": \"rgb(242, 183, 1)\", \"size\": [15.491933384829668, 29.597297173897484, 47.83304297240559, 15.491933384829668, 7.745966692414834, 9.797958971132712, 9.16515138991168, 12.489995996796797, 10.954451150103322, 15.491933384829668, 6.324555320336759, 8.48528137423857]}, \"mode\": \"markers\", \"name\": \"T2 relaxometry\", \"opacity\": 0.6, \"text\": [\"Study: West et al., 2018<br>Measure: MVF-T2<br>Number of subjects: 15.0<br>ROIs per subject: 4.0<br>Total number of samples: 60.0\", \"Study: Laule et al., 2008<br>Measure: MWF<br>Number of subjects: 3.0<br>ROIs per subject: 73.0<br>Total number of samples: 219.0\", \"Study: Laule et al., 2006<br>Measure: MWF<br>Number of subjects: 13.0<br>ROIs per subject: 44.0<br>Total number of samples: 572.0\", \"Study: West et al., 2018<br>Measure: MWF<br>Number of subjects: 15.0<br>ROIs per subject: 4.0<br>Total number of samples: 60.0\", \"Study: Soustelle et al., 2019<br>Measure: MWF<br>Number of subjects: 15.0<br>ROIs per subject: 1.0<br>Total number of samples: 15.0\", \"Study: Wu et al., 2008<br>Measure: T2<br>Number of subjects: 8.0<br>ROIs per subject: 3.0<br>Total number of samples: 24.0\", \"Study: Jelescu et al., 2016<br>Measure: T2<br>Number of subjects: 21.0<br>ROIs per subject: 1.0<br>Total number of samples: 21.0\", \"Study: Reeves et al., 2016<br>Measure: T2<br>Number of subjects: 13.0<br>ROIs per subject: 3.0<br>Total number of samples: 39.0\", \"Study: Schmierer et al., 2008<br>Measure: T2<br>Number of subjects: 15.0<br>ROIs per subject: 2.0<br>Total number of samples: 30.0\", \"Study: Hakkarainen et al., 2016<br>Measure: T2<br>Number of subjects: 5.0<br>ROIs per subject: 12.0<br>Total number of samples: 60.0\", \"Study: Thiessen et al., 2013<br>Measure: T2<br>Number of subjects: 10.0<br>ROIs per subject: 1.0<br>Total number of samples: 10.0\", \"Study: Tardif et al., 2012<br>Measure: T2<br>Number of subjects: 1.0<br>ROIs per subject: 18.0<br>Total number of samples: 18.0\"], \"type\": \"scatter\", \"x\": [\"MVF-T2\", \"MWF\", \"MWF\", \"MWF\", \"MWF\", \"T2\", \"T2\", \"T2\", \"T2\", \"T2\", \"T2\", \"T2\"], \"y\": [0.68, 0.78, 0.67, 0.66, 0.4624, 0.5184, 0.4096, 0.235, 0.8464, 0.18, 0.0676, 0.4225]}, {\"line\": {\"color\": \"rgba(0,0,0,0)\"}, \"marker\": {\"color\": \"rgb(231, 63, 116)\", \"size\": [4.0, 8.48528137423857, 43.54308211415448, 6.6332495807108, 43.54308211415448, 17.88854381999832, 15.491933384829668, 15.491933384829668, 17.88854381999832, 15.491933384829668, 7.745966692414834]}, \"mode\": \"markers\", \"name\": \"Other\", \"opacity\": 0.6, \"text\": [\"Study: Berman et al., 2018<br>Measure: MTV<br>Number of subjects: 4.0<br>ROIs per subject: 1.0<br>Total number of samples: 4.0\", \"Study: Tardif et al., 2012<br>Measure: PD<br>Number of subjects: 1.0<br>ROIs per subject: 18.0<br>Total number of samples: 18.0\", \"Study: Hametner et al., 2018<br>Measure: QSM<br>Number of subjects: 6.0<br>ROIs per subject: 79.0<br>Total number of samples: 474.0\", \"Study: Pol et al., 2019<br>Measure: QSM<br>Number of subjects: 11.0<br>ROIs per subject: 1.0<br>Total number of samples: 11.0\", \"Study: Hametner et al., 2018<br>Measure: R2*<br>Number of subjects: 6.0<br>ROIs per subject: 79.0<br>Total number of samples: 474.0\", \"Study: Lehto et al., 2017a<br>Measure: RAFF<br>Number of subjects: 20.0<br>ROIs per subject: 4.0<br>Total number of samples: 80.0\", \"Study: Hakkarainen et al., 2016<br>Measure: RAFF<br>Number of subjects: 5.0<br>ROIs per subject: 12.0<br>Total number of samples: 60.0\", \"Study: Hakkarainen et al., 2016<br>Measure: T1p<br>Number of subjects: 5.0<br>ROIs per subject: 12.0<br>Total number of samples: 60.0\", \"Study: Lehto et al., 2017a<br>Measure: T1sat<br>Number of subjects: 20.0<br>ROIs per subject: 4.0<br>Total number of samples: 80.0\", \"Study: Hakkarainen et al., 2016<br>Measure: T2p<br>Number of subjects: 5.0<br>ROIs per subject: 12.0<br>Total number of samples: 60.0\", \"Study: Soustelle et al., 2019<br>Measure: rSPF<br>Number of subjects: 15.0<br>ROIs per subject: 1.0<br>Total number of samples: 15.0\"], \"type\": \"scatter\", \"x\": [\"MTV\", \"PD\", \"QSM\", \"QSM\", \"R2*\", \"RAFF\", \"RAFF\", \"T1p\", \"T1sat\", \"T2p\", \"rSPF\"], \"y\": [0.74, 0.3481, 0.1239, 0.0361, 0.0007, 0.552, 0.84, 0.63, 0.49, 0.34, 0.7396]}],\n                        {\"annotations\": [{\"font\": {\"color\": \"gray\", \"size\": 8}, \"showarrow\": false, \"text\": \"<a href=\\\"https://neurolibre.com\\\" target=\\\"_blank\\\" style=\\\"color:gray!important\\\">NeuroLibre</a>\", \"x\": 1, \"xref\": \"paper\", \"y\": -0.25, \"yref\": \"paper\"}], \"autosize\": false, \"height\": 500, \"images\": [{\"opacity\": 0.9, \"sizex\": 0.05, \"sizey\": 0.05, \"source\": \"https://raw.githubusercontent.com/notebook-factory/brand/main/nlibre_custom2.svg\", \"x\": 0.89, \"xref\": \"paper\", \"y\": -0.198, \"yref\": \"paper\"}], \"margin\": {\"l\": 0}, \"template\": {\"data\": {\"bar\": [{\"error_x\": {\"color\": \"#2a3f5f\"}, \"error_y\": {\"color\": \"#2a3f5f\"}, \"marker\": {\"line\": {\"color\": \"#E5ECF6\", \"width\": 0.5}}, \"type\": \"bar\"}], \"barpolar\": [{\"marker\": {\"line\": {\"color\": \"#E5ECF6\", \"width\": 0.5}}, \"type\": \"barpolar\"}], \"carpet\": [{\"aaxis\": {\"endlinecolor\": \"#2a3f5f\", \"gridcolor\": \"white\", \"linecolor\": \"white\", \"minorgridcolor\": \"white\", \"startlinecolor\": \"#2a3f5f\"}, \"baxis\": {\"endlinecolor\": \"#2a3f5f\", \"gridcolor\": \"white\", \"linecolor\": \"white\", \"minorgridcolor\": \"white\", \"startlinecolor\": \"#2a3f5f\"}, \"type\": \"carpet\"}], \"choropleth\": [{\"colorbar\": {\"outlinewidth\": 0, \"ticks\": \"\"}, \"type\": \"choropleth\"}], \"contour\": [{\"colorbar\": {\"outlinewidth\": 0, \"ticks\": \"\"}, \"colorscale\": [[0.0, \"#0d0887\"], [0.1111111111111111, \"#46039f\"], [0.2222222222222222, \"#7201a8\"], [0.3333333333333333, \"#9c179e\"], [0.4444444444444444, \"#bd3786\"], [0.5555555555555556, \"#d8576b\"], [0.6666666666666666, \"#ed7953\"], [0.7777777777777778, \"#fb9f3a\"], [0.8888888888888888, \"#fdca26\"], [1.0, \"#f0f921\"]], \"type\": \"contour\"}], \"contourcarpet\": [{\"colorbar\": {\"outlinewidth\": 0, \"ticks\": \"\"}, \"type\": \"contourcarpet\"}], \"heatmap\": [{\"colorbar\": {\"outlinewidth\": 0, \"ticks\": \"\"}, \"colorscale\": [[0.0, \"#0d0887\"], [0.1111111111111111, \"#46039f\"], [0.2222222222222222, \"#7201a8\"], [0.3333333333333333, \"#9c179e\"], [0.4444444444444444, \"#bd3786\"], [0.5555555555555556, \"#d8576b\"], [0.6666666666666666, \"#ed7953\"], [0.7777777777777778, \"#fb9f3a\"], [0.8888888888888888, \"#fdca26\"], [1.0, \"#f0f921\"]], \"type\": \"heatmap\"}], \"heatmapgl\": [{\"colorbar\": {\"outlinewidth\": 0, \"ticks\": \"\"}, \"colorscale\": [[0.0, \"#0d0887\"], [0.1111111111111111, \"#46039f\"], [0.2222222222222222, \"#7201a8\"], [0.3333333333333333, \"#9c179e\"], [0.4444444444444444, \"#bd3786\"], [0.5555555555555556, \"#d8576b\"], [0.6666666666666666, \"#ed7953\"], [0.7777777777777778, \"#fb9f3a\"], [0.8888888888888888, \"#fdca26\"], [1.0, \"#f0f921\"]], \"type\": \"heatmapgl\"}], \"histogram\": [{\"marker\": {\"colorbar\": {\"outlinewidth\": 0, \"ticks\": \"\"}}, \"type\": \"histogram\"}], \"histogram2d\": [{\"colorbar\": {\"outlinewidth\": 0, \"ticks\": \"\"}, \"colorscale\": [[0.0, \"#0d0887\"], [0.1111111111111111, \"#46039f\"], [0.2222222222222222, \"#7201a8\"], [0.3333333333333333, \"#9c179e\"], [0.4444444444444444, \"#bd3786\"], [0.5555555555555556, \"#d8576b\"], [0.6666666666666666, \"#ed7953\"], [0.7777777777777778, \"#fb9f3a\"], [0.8888888888888888, \"#fdca26\"], [1.0, \"#f0f921\"]], \"type\": \"histogram2d\"}], \"histogram2dcontour\": [{\"colorbar\": {\"outlinewidth\": 0, \"ticks\": \"\"}, \"colorscale\": [[0.0, \"#0d0887\"], [0.1111111111111111, \"#46039f\"], [0.2222222222222222, \"#7201a8\"], [0.3333333333333333, \"#9c179e\"], [0.4444444444444444, \"#bd3786\"], [0.5555555555555556, \"#d8576b\"], [0.6666666666666666, \"#ed7953\"], [0.7777777777777778, \"#fb9f3a\"], [0.8888888888888888, \"#fdca26\"], [1.0, \"#f0f921\"]], \"type\": \"histogram2dcontour\"}], \"mesh3d\": [{\"colorbar\": {\"outlinewidth\": 0, \"ticks\": \"\"}, \"type\": \"mesh3d\"}], \"parcoords\": [{\"line\": {\"colorbar\": {\"outlinewidth\": 0, \"ticks\": \"\"}}, \"type\": \"parcoords\"}], \"pie\": [{\"automargin\": true, \"type\": \"pie\"}], \"scatter\": [{\"marker\": {\"colorbar\": {\"outlinewidth\": 0, \"ticks\": \"\"}}, \"type\": \"scatter\"}], \"scatter3d\": [{\"line\": {\"colorbar\": {\"outlinewidth\": 0, \"ticks\": \"\"}}, \"marker\": {\"colorbar\": {\"outlinewidth\": 0, \"ticks\": \"\"}}, \"type\": \"scatter3d\"}], \"scattercarpet\": [{\"marker\": {\"colorbar\": {\"outlinewidth\": 0, \"ticks\": \"\"}}, \"type\": \"scattercarpet\"}], \"scattergeo\": [{\"marker\": {\"colorbar\": {\"outlinewidth\": 0, \"ticks\": \"\"}}, \"type\": \"scattergeo\"}], \"scattergl\": [{\"marker\": {\"colorbar\": {\"outlinewidth\": 0, \"ticks\": \"\"}}, \"type\": \"scattergl\"}], \"scattermapbox\": [{\"marker\": {\"colorbar\": {\"outlinewidth\": 0, \"ticks\": \"\"}}, \"type\": \"scattermapbox\"}], \"scatterpolar\": [{\"marker\": {\"colorbar\": {\"outlinewidth\": 0, \"ticks\": \"\"}}, \"type\": \"scatterpolar\"}], \"scatterpolargl\": [{\"marker\": {\"colorbar\": {\"outlinewidth\": 0, \"ticks\": \"\"}}, \"type\": \"scatterpolargl\"}], \"scatterternary\": [{\"marker\": {\"colorbar\": {\"outlinewidth\": 0, \"ticks\": \"\"}}, \"type\": \"scatterternary\"}], \"surface\": [{\"colorbar\": {\"outlinewidth\": 0, \"ticks\": \"\"}, \"colorscale\": [[0.0, \"#0d0887\"], [0.1111111111111111, \"#46039f\"], [0.2222222222222222, \"#7201a8\"], [0.3333333333333333, \"#9c179e\"], [0.4444444444444444, \"#bd3786\"], [0.5555555555555556, \"#d8576b\"], [0.6666666666666666, \"#ed7953\"], [0.7777777777777778, \"#fb9f3a\"], [0.8888888888888888, \"#fdca26\"], [1.0, \"#f0f921\"]], \"type\": \"surface\"}], \"table\": [{\"cells\": {\"fill\": {\"color\": \"#EBF0F8\"}, \"line\": {\"color\": \"white\"}}, \"header\": {\"fill\": {\"color\": \"#C8D4E3\"}, \"line\": {\"color\": \"white\"}}, \"type\": \"table\"}]}, \"layout\": {\"annotationdefaults\": {\"arrowcolor\": \"#2a3f5f\", \"arrowhead\": 0, \"arrowwidth\": 1}, \"coloraxis\": {\"colorbar\": {\"outlinewidth\": 0, \"ticks\": \"\"}}, \"colorscale\": {\"diverging\": [[0, \"#8e0152\"], [0.1, \"#c51b7d\"], [0.2, \"#de77ae\"], [0.3, \"#f1b6da\"], [0.4, \"#fde0ef\"], [0.5, \"#f7f7f7\"], [0.6, \"#e6f5d0\"], [0.7, \"#b8e186\"], [0.8, \"#7fbc41\"], [0.9, \"#4d9221\"], [1, \"#276419\"]], \"sequential\": [[0.0, \"#0d0887\"], [0.1111111111111111, \"#46039f\"], [0.2222222222222222, \"#7201a8\"], [0.3333333333333333, \"#9c179e\"], [0.4444444444444444, \"#bd3786\"], [0.5555555555555556, \"#d8576b\"], [0.6666666666666666, \"#ed7953\"], [0.7777777777777778, \"#fb9f3a\"], [0.8888888888888888, \"#fdca26\"], [1.0, \"#f0f921\"]], \"sequentialminus\": [[0.0, \"#0d0887\"], [0.1111111111111111, \"#46039f\"], [0.2222222222222222, \"#7201a8\"], [0.3333333333333333, \"#9c179e\"], [0.4444444444444444, \"#bd3786\"], [0.5555555555555556, \"#d8576b\"], [0.6666666666666666, \"#ed7953\"], [0.7777777777777778, \"#fb9f3a\"], [0.8888888888888888, \"#fdca26\"], [1.0, \"#f0f921\"]]}, \"colorway\": [\"#636efa\", \"#EF553B\", \"#00cc96\", \"#ab63fa\", \"#FFA15A\", \"#19d3f3\", \"#FF6692\", \"#B6E880\", \"#FF97FF\", \"#FECB52\"], \"font\": {\"color\": \"#2a3f5f\"}, \"geo\": {\"bgcolor\": \"white\", \"lakecolor\": \"white\", \"landcolor\": \"#E5ECF6\", \"showlakes\": true, \"showland\": true, \"subunitcolor\": \"white\"}, \"hoverlabel\": {\"align\": \"left\"}, \"hovermode\": \"closest\", \"mapbox\": {\"style\": \"light\"}, \"paper_bgcolor\": \"white\", \"plot_bgcolor\": \"#E5ECF6\", \"polar\": {\"angularaxis\": {\"gridcolor\": \"white\", \"linecolor\": \"white\", \"ticks\": \"\"}, \"bgcolor\": \"#E5ECF6\", \"radialaxis\": {\"gridcolor\": \"white\", \"linecolor\": \"white\", \"ticks\": \"\"}}, \"scene\": {\"xaxis\": {\"backgroundcolor\": \"#E5ECF6\", \"gridcolor\": \"white\", \"gridwidth\": 2, \"linecolor\": \"white\", \"showbackground\": true, \"ticks\": \"\", \"zerolinecolor\": \"white\"}, \"yaxis\": {\"backgroundcolor\": \"#E5ECF6\", \"gridcolor\": \"white\", \"gridwidth\": 2, \"linecolor\": \"white\", \"showbackground\": true, \"ticks\": \"\", \"zerolinecolor\": \"white\"}, \"zaxis\": {\"backgroundcolor\": \"#E5ECF6\", \"gridcolor\": \"white\", \"gridwidth\": 2, \"linecolor\": \"white\", \"showbackground\": true, \"ticks\": \"\", \"zerolinecolor\": \"white\"}}, \"shapedefaults\": {\"line\": {\"color\": \"#2a3f5f\"}}, \"ternary\": {\"aaxis\": {\"gridcolor\": \"white\", \"linecolor\": \"white\", \"ticks\": \"\"}, \"baxis\": {\"gridcolor\": \"white\", \"linecolor\": \"white\", \"ticks\": \"\"}, \"bgcolor\": \"#E5ECF6\", \"caxis\": {\"gridcolor\": \"white\", \"linecolor\": \"white\", \"ticks\": \"\"}}, \"title\": {\"x\": 0.05}, \"xaxis\": {\"automargin\": true, \"gridcolor\": \"white\", \"linecolor\": \"white\", \"ticks\": \"\", \"title\": {\"standoff\": 15}, \"zerolinecolor\": \"white\", \"zerolinewidth\": 2}, \"yaxis\": {\"automargin\": true, \"gridcolor\": \"white\", \"linecolor\": \"white\", \"ticks\": \"\", \"title\": {\"standoff\": 15}, \"zerolinecolor\": \"white\", \"zerolinewidth\": 2}}}, \"title\": {\"text\": \"Figure 3 - R<sup>2</sup> between MRI and histology across measures \"}, \"width\": 800, \"xaxis\": {\"title\": {\"text\": \"MRI measure\"}}, \"yaxis\": {\"title\": {\"text\": \"R<sup>2</sup>\"}}},\n                        {\"responsive\": true}\n                    ).then(function(){\n                            \nvar gd = document.getElementById('c9590127-6ba2-477d-84f2-6a0e7e0c2f9c');\nvar x = new MutationObserver(function (mutations, observer) {{\n        var display = window.getComputedStyle(gd).display;\n        if (!display || display === 'none') {{\n            console.log([gd, 'removed!']);\n            Plotly.purge(gd);\n            observer.disconnect();\n        }}\n}});\n\n// Listen for the removal of the full notebook cells\nvar notebookContainer = gd.closest('#notebook-container');\nif (notebookContainer) {{\n    x.observe(notebookContainer, {childList: true});\n}}\n\n// Listen for the clearing of the current output cell\nvar outputEl = gd.closest('.output');\nif (outputEl) {{\n    x.observe(outputEl, {childList: true});\n}}\n\n                        })\n                };\n                });\n            </script>\n        </div>"
     },
     "metadata": {},
     "output_type": "display_data"
    }
   ],
   "source": [
    "config={'showLink': False, 'displayModeBar': False}\n",
    "\n",
    "info = pd.read_excel('database.xlsx', sheet_name='Details')\n",
    "\n",
    "year_str = info['Year'].astype(str)\n",
    "info['Study'] = info['First author'] + ' et al., ' + year_str\n",
    "info['Study'] = info.groupby('Study')['Study'].apply(lambda n: n+list(map(chr,np.arange(len(n))+97))\n",
    "                                                     if len(n)>1 else n)\n",
    "info['Number of studies'] = np.ones((len(info),1))\n",
    "info = info.sort_values('Study')\n",
    "\n",
    "info['Link'] = info['DOI']\n",
    "info['Link'].replace('http',\"\"\"<a style='color:white' href='http\"\"\",\n",
    "                    inplace=True, regex=True)\n",
    "info['Link'] = info['Link'] + \"\"\"'>->Go to the paper</a>\"\"\"\n",
    "\n",
    "fields = ['Approach', 'Magnetic field', 'MRI measure(s)',\n",
    "          'Histology/microscopy measure', 'Specific structure(s)']\n",
    "info['Summary'] = info['Link'] + '<br><br>'\n",
    "for i in fields:\n",
    "    info['Summary'] = info['Summary'] + i + ': ' + info[i].astype(str) + '<br><br>'\n",
    "\n",
    "df = pd.DataFrame()\n",
    "data = pd.read_excel('database.xlsx', sheet_name='R^2')\n",
    "\n",
    "measures = data.columns[1:]\n",
    "for _, row in data.iterrows():\n",
    "    measure_avail = {m:value for m, value in zip(measures, row.tolist()[1:])\n",
    "                    if not np.isnan(value)}\n",
    "    for m in measure_avail.keys():\n",
    "        df = df.append([[row.DOI, m, measure_avail[m],\n",
    "                         *info[info.DOI==row.DOI].values.tolist()[0][1:]]])\n",
    "df.columns = ['DOI', 'Measure', 'R^2', *info.columns[1:]]\n",
    "\n",
    "df['ROI per subject'] = pd.to_numeric(df['ROI per subject'], errors='coerce')\n",
    "df['Subjects'] = pd.to_numeric(df['Subjects'], errors='coerce')\n",
    "df = df.dropna(subset=['ROI per subject', 'Subjects'])\n",
    "df = df[df['ROI per subject']<100]\n",
    "df['Sample points'] = df['ROI per subject'] * df['Subjects']\n",
    "\n",
    "df=df.sort_values(by=['Measure'])\n",
    "\n",
    "filtered_df=df[df.Focus=='Brain'].copy()\n",
    "\n",
    "measure_type = {'Diffusion':['RD', 'AD', 'FA', 'MD',\n",
    "                'AWF', 'RK', 'RDe', 'MK'],\n",
    "                'Magnetization transfer':['MTR',\n",
    "                'ihMTR', 'MTR-UTE', 'MPF', 'MVF-MT',\n",
    "                'R1f', 'T2m', 'T2f', 'k_mf','k_fm'],\n",
    "                'T1 relaxometry':['T1'], 'T2 relaxometry':['T2', 'MWF', 'MVF-T2'],\n",
    "                'Other':['QSM', 'R2*', 'rSPF', 'MTV',\n",
    "                'T1p', 'T2p', 'RAFF', 'PD', 'T1sat']}\n",
    "\n",
    "color_dict = {m:plotly.colors.qualitative.Bold[n]\n",
    "              for n,m in enumerate(measure_type.keys())}\n",
    "\n",
    "hover_text = []\n",
    "bubble_size = []\n",
    "\n",
    "for index, row in filtered_df.iterrows():\n",
    "    hover_text.append(('Measure: {measure}<br>'+\n",
    "                      'Number of subjects: {subjects}<br>'+\n",
    "                      'ROIs per subject: {rois}<br>'+\n",
    "                      'Total number of samples: {samples}').format(measure=row['Measure'],\n",
    "                                            subjects=row['Subjects'],\n",
    "                                            rois=row['ROI per subject'],\n",
    "                                            samples=row['Sample points']))\n",
    "    bubble_size.append(2*np.sqrt(row['Sample points']))\n",
    "\n",
    "filtered_df['Details'] = hover_text\n",
    "filtered_df['Size'] = bubble_size\n",
    "\n",
    "fig3 = go.Figure()\n",
    "\n",
    "for m in measure_type.keys():\n",
    "    df_m = filtered_df[filtered_df['Measure'].isin(measure_type[m])]\n",
    "    fig3.add_trace(go.Scatter(\n",
    "                    x=df_m['Measure'],\n",
    "                    y=df_m['R^2'],\n",
    "                    text='Study: ' + \n",
    "                        df_m['Study']+ '<br>' + df_m['Details'],\n",
    "                    mode='markers',\n",
    "                    line = dict(color = 'rgba(0,0,0,0)'),\n",
    "                    marker = dict(color=color_dict[m]),\n",
    "                    marker_size = df_m['Size'],\n",
    "                    opacity=0.6,\n",
    "                    name=m\n",
    "                    ))\n",
    "    \n",
    "fig3.update_layout(\n",
    "    title = dict(text=\"Figure 3 - R<sup>2</sup> between MRI and histology across measures \"),\n",
    "    margin=dict(l=0),\n",
    "    xaxis=dict(title='MRI measure'),\n",
    "    yaxis=dict(title='R<sup>2</sup>'),\n",
    "    autosize=False,\n",
    "    width=800,\n",
    "    height=500\n",
    ")\n",
    "\n",
    "plot(insertLogo(fig3,0.05,0.05,1,-0.25,-0.11,0.052), filename = 'fig3.html',config = config)\n",
    "# display(HTML('fig3.html'))\n",
    "\n",
    "fig3.show()"
   ]
  },
  {
   "cell_type": "markdown",
   "metadata": {},
   "source": [
    "To provide a different way to explore sample size and effect size, we also prepared another treemap, where the studies are organised by measures. For each study, the area of its box is proportional to the sample size, while the color represents the related coefficient of determination.\n",
    "\n",
    "\n",
    "```{admonition} Figure 4\n",
    ":class: tip\n",
    "You can click on each box to expand the related category, and for each study you can find out more details.\n",
    "```"
   ]
  },
  {
   "cell_type": "markdown",
   "metadata": {},
   "source": [
    "### Figure 4"
   ]
  },
  {
   "cell_type": "code",
   "execution_count": 9,
   "metadata": {
    "tags": [
     "hide_input"
    ]
   },
   "outputs": [
    {
     "data": {
      "application/vnd.plotly.v1+json": {
       "config": {
        "plotlyServerURL": "https://plot.ly"
       },
       "data": [
        {
         "branchvalues": "total",
         "hoverinfo": "text",
         "hovertext": [
          "Abe et al., 2019<br>R<sup>2</sup>: 0.0121<br>Number of samples: 60.0",
          "Abe et al., 2019<br>R<sup>2</sup>: 0.1024<br>Number of samples: 60.0",
          "Abe et al., 2019<br>R<sup>2</sup>: 0.1681<br>Number of samples: 60.0",
          "Aojula et al., 2016<br>R<sup>2</sup>: 0.1296<br>Number of samples: 17.0",
          "Aojula et al., 2016<br>R<sup>2</sup>: 0.1197<br>Number of samples: 17.0",
          "Aojula et al., 2016<br>R<sup>2</sup>: 0.245<br>Number of samples: 17.0",
          "Aojula et al., 2016<br>R<sup>2</sup>: 0.2097<br>Number of samples: 17.0",
          "Beckmann et al., 2018<br>R<sup>2</sup>: 0.7668<br>Number of samples: 20.0",
          "Berman et al., 2018<br>R<sup>2</sup>: 0.74<br>Number of samples: 4.0",
          "Chandran et al., 2012<br>R<sup>2</sup>: 0.5<br>Number of samples: 20.0",
          "Chandran et al., 2012<br>R<sup>2</sup>: 0.34<br>Number of samples: 20.0",
          "Chang et al., 2017<br>R<sup>2</sup>: 0.1482<br>Number of samples: 56.0",
          "Chang et al., 2017<br>R<sup>2</sup>: 0.1989<br>Number of samples: 56.0",
          "Chang et al., 2017<br>R<sup>2</sup>: 0.0129<br>Number of samples: 56.0",
          "Chang et al., 2017<br>R<sup>2</sup>: 0.038<br>Number of samples: 56.0",
          "Duhamel et al., 2019<br>R<sup>2</sup>: 0.78<br>Number of samples: 21.0",
          "Duhamel et al., 2019<br>R<sup>2</sup>: 0.96<br>Number of samples: 21.0",
          "Fatemi et al., 2011<br>R<sup>2</sup>: 0.695<br>Number of samples: 600.0",
          "Fjaer et al., 2013<br>R<sup>2</sup>: 0.338<br>Number of samples: 54.0",
          "Fjaer et al., 2015<br>R<sup>2</sup>: 0.01<br>Number of samples: 24.0",
          "Guglielmetti et al., 2020<br>R<sup>2</sup>: 0.46<br>Number of samples: 9.0",
          "Guglielmetti et al., 2020<br>R<sup>2</sup>: 0.76<br>Number of samples: 9.0",
          "Hakkarainen et al., 2016<br>R<sup>2</sup>: 0.34<br>Number of samples: 60.0",
          "Hakkarainen et al., 2016<br>R<sup>2</sup>: 0.84<br>Number of samples: 60.0",
          "Hakkarainen et al., 2016<br>R<sup>2</sup>: 0.77<br>Number of samples: 60.0",
          "Hakkarainen et al., 2016<br>R<sup>2</sup>: 0.63<br>Number of samples: 60.0",
          "Hakkarainen et al., 2016<br>R<sup>2</sup>: 0.18<br>Number of samples: 60.0",
          "Hakkarainen et al., 2016<br>R<sup>2</sup>: 0.34<br>Number of samples: 60.0",
          "Hametner et al., 2018<br>R<sup>2</sup>: 0.1239<br>Number of samples: 474.0",
          "Hametner et al., 2018<br>R<sup>2</sup>: 0.0007<br>Number of samples: 474.0",
          "Hametner et al., 2018<br>R<sup>2</sup>: 0.3398<br>Number of samples: 474.0",
          "Janve et al., 2013<br>R<sup>2</sup>: 0.0064<br>Number of samples: 48.0",
          "Janve et al., 2013<br>R<sup>2</sup>: 0.0729<br>Number of samples: 48.0",
          "Janve et al., 2013<br>R<sup>2</sup>: 0.0784<br>Number of samples: 48.0",
          "Janve et al., 2013<br>R<sup>2</sup>: 0.7225<br>Number of samples: 48.0",
          "Janve et al., 2013<br>R<sup>2</sup>: 0.0961<br>Number of samples: 48.0",
          "Janve et al., 2013<br>R<sup>2</sup>: 0.2401<br>Number of samples: 48.0",
          "Janve et al., 2013<br>R<sup>2</sup>: 0.0256<br>Number of samples: 48.0",
          "Jelescu et al., 2016<br>R<sup>2</sup>: 0.3025<br>Number of samples: 21.0",
          "Jelescu et al., 2016<br>R<sup>2</sup>: 0.1024<br>Number of samples: 21.0",
          "Jelescu et al., 2016<br>R<sup>2</sup>: 0.5041<br>Number of samples: 21.0",
          "Jelescu et al., 2016<br>R<sup>2</sup>: 0.25<br>Number of samples: 21.0",
          "Jelescu et al., 2016<br>R<sup>2</sup>: 0.0196<br>Number of samples: 21.0",
          "Jelescu et al., 2016<br>R<sup>2</sup>: 0.4096<br>Number of samples: 21.0",
          "Jito et al., 2008<br>R<sup>2</sup>: 0.7327<br>Number of samples: 36.0",
          "Kelm et al., 2016<br>R<sup>2</sup>: 0.3364<br>Number of samples: 78.0",
          "Kelm et al., 2016<br>R<sup>2</sup>: 0.1225<br>Number of samples: 78.0",
          "Kelm et al., 2016<br>R<sup>2</sup>: 0.2304<br>Number of samples: 78.0",
          "Kelm et al., 2016<br>R<sup>2</sup>: 0.1369<br>Number of samples: 78.0",
          "Kelm et al., 2016<br>R<sup>2</sup>: 0.2401<br>Number of samples: 78.0",
          "Khodanovic et al., 2017<br>R<sup>2</sup>: 0.779<br>Number of samples: 112.0",
          "Khodanovic et al., 2019<br>R<sup>2</sup>: 0.82<br>Number of samples: 13.0",
          "Laule et al., 2006<br>R<sup>2</sup>: 0.67<br>Number of samples: 572.0",
          "Laule et al., 2008<br>R<sup>2</sup>: 0.78<br>Number of samples: 219.0",
          "Lehto et al., 2017a<br>R<sup>2</sup>: 0.4199<br>Number of samples: 80.0",
          "Lehto et al., 2017a<br>R<sup>2</sup>: 0.2237<br>Number of samples: 80.0",
          "Lehto et al., 2017a<br>R<sup>2</sup>: 0.3492<br>Number of samples: 80.0",
          "Lehto et al., 2017a<br>R<sup>2</sup>: 0.5169<br>Number of samples: 80.0",
          "Lehto et al., 2017a<br>R<sup>2</sup>: 0.552<br>Number of samples: 80.0",
          "Lehto et al., 2017a<br>R<sup>2</sup>: 0.0015<br>Number of samples: 80.0",
          "Lehto et al., 2017a<br>R<sup>2</sup>: 0.49<br>Number of samples: 80.0",
          "Lehto et al., 2017b<br>R<sup>2</sup>: 0.94<br>Number of samples: 32.0",
          "Mollink et al., 2019<br>R<sup>2</sup>: 0.2704<br>Number of samples: 18.0",
          "Pol et al., 2019<br>R<sup>2</sup>: 0.0576<br>Number of samples: 11.0",
          "Pol et al., 2019<br>R<sup>2</sup>: 0.3481<br>Number of samples: 11.0",
          "Pol et al., 2019<br>R<sup>2</sup>: 0.0361<br>Number of samples: 11.0",
          "Reeves et al., 2016<br>R<sup>2</sup>: 0.27<br>Number of samples: 39.0",
          "Reeves et al., 2016<br>R<sup>2</sup>: 0.235<br>Number of samples: 39.0",
          "Schmierer et al., 2004<br>R<sup>2</sup>: 0.7055999999999999<br>Number of samples: 60.0",
          "Schmierer et al., 2004<br>R<sup>2</sup>: 0.48999999999999994<br>Number of samples: 60.0",
          "Schmierer et al., 2007a<br>R<sup>2</sup>: 0.6400000000000001<br>Number of samples: 111.0",
          "Schmierer et al., 2007a<br>R<sup>2</sup>: 0.7055999999999999<br>Number of samples: 111.0",
          "Schmierer et al., 2007a<br>R<sup>2</sup>: 0.4760999999999999<br>Number of samples: 111.0",
          "Schmierer et al., 2007a<br>R<sup>2</sup>: 0.0001<br>Number of samples: 111.0",
          "Schmierer et al., 2007b<br>R<sup>2</sup>: 0.6241000000000001<br>Number of samples: 48.0",
          "Schmierer et al., 2007b<br>R<sup>2</sup>: 0.4624000000000001<br>Number of samples: 48.0",
          "Schmierer et al., 2008<br>R<sup>2</sup>: 0.64<br>Number of samples: 30.0",
          "Schmierer et al., 2008<br>R<sup>2</sup>: 0.6889<br>Number of samples: 30.0",
          "Schmierer et al., 2008<br>R<sup>2</sup>: 0.6084<br>Number of samples: 30.0",
          "Schmierer et al., 2008<br>R<sup>2</sup>: 0.7396<br>Number of samples: 30.0",
          "Schmierer et al., 2008<br>R<sup>2</sup>: 0.4624<br>Number of samples: 30.0",
          "Schmierer et al., 2008<br>R<sup>2</sup>: 0.6561<br>Number of samples: 30.0",
          "Schmierer et al., 2008<br>R<sup>2</sup>: 0.7921<br>Number of samples: 30.0",
          "Schmierer et al., 2008<br>R<sup>2</sup>: 0.8464<br>Number of samples: 30.0",
          "Soustelle et al., 2019<br>R<sup>2</sup>: 0.7569<br>Number of samples: 15.0",
          "Soustelle et al., 2019<br>R<sup>2</sup>: 0.4624<br>Number of samples: 15.0",
          "Soustelle et al., 2019<br>R<sup>2</sup>: 0.49<br>Number of samples: 15.0",
          "Soustelle et al., 2019<br>R<sup>2</sup>: 0.7396<br>Number of samples: 15.0",
          "Tardif et al., 2012<br>R<sup>2</sup>: 0.36<br>Number of samples: 18.0",
          "Tardif et al., 2012<br>R<sup>2</sup>: 0.3481<br>Number of samples: 18.0",
          "Tardif et al., 2012<br>R<sup>2</sup>: 0.5929<br>Number of samples: 18.0",
          "Tardif et al., 2012<br>R<sup>2</sup>: 0.4225<br>Number of samples: 18.0",
          "Thiessen et al., 2013<br>R<sup>2</sup>: 0.5625<br>Number of samples: 10.0",
          "Thiessen et al., 2013<br>R<sup>2</sup>: 0.7056<br>Number of samples: 10.0",
          "Thiessen et al., 2013<br>R<sup>2</sup>: 0.6561<br>Number of samples: 10.0",
          "Thiessen et al., 2013<br>R<sup>2</sup>: 0.8649<br>Number of samples: 10.0",
          "Thiessen et al., 2013<br>R<sup>2</sup>: 0.4356<br>Number of samples: 10.0",
          "Thiessen et al., 2013<br>R<sup>2</sup>: 0.7569<br>Number of samples: 10.0",
          "Thiessen et al., 2013<br>R<sup>2</sup>: 0.4356<br>Number of samples: 10.0",
          "Thiessen et al., 2013<br>R<sup>2</sup>: 0.0676<br>Number of samples: 10.0",
          "Thiessen et al., 2013<br>R<sup>2</sup>: 0.36<br>Number of samples: 10.0",
          "Thiessen et al., 2013<br>R<sup>2</sup>: 0.1521<br>Number of samples: 10.0",
          "Thiessen et al., 2013<br>R<sup>2</sup>: 0.1089<br>Number of samples: 10.0",
          "Thiessen et al., 2013<br>R<sup>2</sup>: 0.6724<br>Number of samples: 10.0",
          "Tu et al., 2016<br>R<sup>2</sup>: 0.0001<br>Number of samples: 25.0",
          "Tu et al., 2016<br>R<sup>2</sup>: 0.0169<br>Number of samples: 25.0",
          "Tu et al., 2016<br>R<sup>2</sup>: 0.0289<br>Number of samples: 25.0",
          "Tu et al., 2016<br>R<sup>2</sup>: 0.1444<br>Number of samples: 25.0",
          "Tu et al., 2016<br>R<sup>2</sup>: 0.2116<br>Number of samples: 25.0",
          "Turati et al., 2015<br>R<sup>2</sup>: 0.2872<br>Number of samples: 15.0",
          "Underhill et al., 2011<br>R<sup>2</sup>: 0.9801<br>Number of samples: 9.0",
          "Wang et al., 2009<br>R<sup>2</sup>: 0.4637<br>Number of samples: 15.0",
          "Wang et al., 2009<br>R<sup>2</sup>: 0.2787<br>Number of samples: 15.0",
          "Wendel et al., 2018<br>R<sup>2</sup>: 0.1987<br>Number of samples: 36.0",
          "Wendel et al., 2018<br>R<sup>2</sup>: 0.5707<br>Number of samples: 36.0",
          "Wendel et al., 2018<br>R<sup>2</sup>: 0.0564<br>Number of samples: 36.0",
          "Wendel et al., 2018<br>R<sup>2</sup>: 0.2973<br>Number of samples: 36.0",
          "West et al., 2018<br>R<sup>2</sup>: 0.7<br>Number of samples: 60.0",
          "West et al., 2018<br>R<sup>2</sup>: 0.7<br>Number of samples: 60.0",
          "West et al., 2018<br>R<sup>2</sup>: 0.68<br>Number of samples: 60.0",
          "West et al., 2018<br>R<sup>2</sup>: 0.66<br>Number of samples: 60.0",
          "Wu et al., 2008<br>R<sup>2</sup>: 0.5184<br>Number of samples: 24.0",
          "Yano et al., 2018<br>R<sup>2</sup>: 0.7569<br>Number of samples: 21.0",
          "Yano et al., 2018<br>R<sup>2</sup>: 0.5329<br>Number of samples: 21.0",
          "Yano et al., 2018<br>R<sup>2</sup>: 0.8281<br>Number of samples: 21.0",
          "Zaaraoui et al., 2008<br>R<sup>2</sup>: 0.6241000000000001<br>Number of samples: 16.0",
          "van Tilborg et al., 2017<br>R<sup>2</sup>: 0.334<br>Number of samples: 12.0"
         ],
         "ids": [
          "AD/Abe et al., 2019",
          "FA/Abe et al., 2019",
          "RD/Abe et al., 2019",
          "AD/Aojula et al., 2016",
          "FA/Aojula et al., 2016",
          "MD/Aojula et al., 2016",
          "RD/Aojula et al., 2016",
          "MTR/Beckmann et al., 2018",
          "MTV/Berman et al., 2018",
          "FA/Chandran et al., 2012",
          "RD/Chandran et al., 2012",
          "AD/Chang et al., 2017",
          "FA/Chang et al., 2017",
          "MD/Chang et al., 2017",
          "RD/Chang et al., 2017",
          "MTR/Duhamel et al., 2019",
          "ihMTR/Duhamel et al., 2019",
          "MTR/Fatemi et al., 2011",
          "MTR/Fjaer et al., 2013",
          "MTR/Fjaer et al., 2015",
          "MTR/Guglielmetti et al., 2020",
          "MTR-UTE/Guglielmetti et al., 2020",
          "MTR/Hakkarainen et al., 2016",
          "RAFF/Hakkarainen et al., 2016",
          "T1/Hakkarainen et al., 2016",
          "T1p/Hakkarainen et al., 2016",
          "T2/Hakkarainen et al., 2016",
          "T2p/Hakkarainen et al., 2016",
          "QSM/Hametner et al., 2018",
          "R2*/Hametner et al., 2018",
          "T1/Hametner et al., 2018",
          "AD/Janve et al., 2013",
          "FA/Janve et al., 2013",
          "MD/Janve et al., 2013",
          "MPF/Janve et al., 2013",
          "R1f/Janve et al., 2013",
          "RD/Janve et al., 2013",
          "k_mf/Janve et al., 2013",
          "AWF/Jelescu et al., 2016",
          "MTR/Jelescu et al., 2016",
          "RD/Jelescu et al., 2016",
          "RDe/Jelescu et al., 2016",
          "RK/Jelescu et al., 2016",
          "T2/Jelescu et al., 2016",
          "FA/Jito et al., 2008",
          "AWF/Kelm et al., 2016",
          "MD/Kelm et al., 2016",
          "MK/Kelm et al., 2016",
          "RD/Kelm et al., 2016",
          "RK/Kelm et al., 2016",
          "MPF/Khodanovic et al., 2017",
          "MPF/Khodanovic et al., 2019",
          "MWF/Laule et al., 2006",
          "MWF/Laule et al., 2008",
          "AD/Lehto et al., 2017a",
          "FA/Lehto et al., 2017a",
          "MD/Lehto et al., 2017a",
          "MTR/Lehto et al., 2017a",
          "RAFF/Lehto et al., 2017a",
          "RD/Lehto et al., 2017a",
          "T1sat/Lehto et al., 2017a",
          "MTR/Lehto et al., 2017b",
          "FA/Mollink et al., 2019",
          "FA/Pol et al., 2019",
          "MD/Pol et al., 2019",
          "QSM/Pol et al., 2019",
          "T1/Reeves et al., 2016",
          "T2/Reeves et al., 2016",
          "MTR/Schmierer et al., 2004",
          "T1/Schmierer et al., 2004",
          "MPF/Schmierer et al., 2007a",
          "MTR/Schmierer et al., 2007a",
          "T1/Schmierer et al., 2007a",
          "T2m/Schmierer et al., 2007a",
          "FA/Schmierer et al., 2007b",
          "MD/Schmierer et al., 2007b",
          "AD/Schmierer et al., 2008",
          "FA/Schmierer et al., 2008",
          "MD/Schmierer et al., 2008",
          "MPF/Schmierer et al., 2008",
          "MTR/Schmierer et al., 2008",
          "RD/Schmierer et al., 2008",
          "T1/Schmierer et al., 2008",
          "T2/Schmierer et al., 2008",
          "MPF/Soustelle et al., 2019",
          "MWF/Soustelle et al., 2019",
          "RD/Soustelle et al., 2019",
          "rSPF/Soustelle et al., 2019",
          "MTR/Tardif et al., 2012",
          "PD/Tardif et al., 2012",
          "T1/Tardif et al., 2012",
          "T2/Tardif et al., 2012",
          "AD/Thiessen et al., 2013",
          "FA/Thiessen et al., 2013",
          "MD/Thiessen et al., 2013",
          "MPF/Thiessen et al., 2013",
          "R1f/Thiessen et al., 2013",
          "RD/Thiessen et al., 2013",
          "T1/Thiessen et al., 2013",
          "T2/Thiessen et al., 2013",
          "T2f/Thiessen et al., 2013",
          "T2m/Thiessen et al., 2013",
          "k_fm/Thiessen et al., 2013",
          "k_mf/Thiessen et al., 2013",
          "AD/Tu et al., 2016",
          "FA/Tu et al., 2016",
          "MD/Tu et al., 2016",
          "MTR/Tu et al., 2016",
          "RD/Tu et al., 2016",
          "MPF/Turati et al., 2015",
          "MPF/Underhill et al., 2011",
          "FA/Wang et al., 2009",
          "RD/Wang et al., 2009",
          "AD/Wendel et al., 2018",
          "FA/Wendel et al., 2018",
          "MD/Wendel et al., 2018",
          "RD/Wendel et al., 2018",
          "MPF/West et al., 2018",
          "MVF-MT/West et al., 2018",
          "MVF-T2/West et al., 2018",
          "MWF/West et al., 2018",
          "T2/Wu et al., 2008",
          "FA/Yano et al., 2018",
          "MD/Yano et al., 2018",
          "RD/Yano et al., 2018",
          "MTR/Zaaraoui et al., 2008",
          "FA/van Tilborg et al., 2017",
          "AD",
          "AWF",
          "FA",
          "MD",
          "MK",
          "MPF",
          "MTR",
          "MTR-UTE",
          "MTV",
          "MVF-MT",
          "MVF-T2",
          "MWF",
          "PD",
          "QSM",
          "R1f",
          "R2*",
          "RAFF",
          "RD",
          "RDe",
          "RK",
          "T1",
          "T1p",
          "T1sat",
          "T2",
          "T2f",
          "T2m",
          "T2p",
          "ihMTR",
          "k_fm",
          "k_mf",
          "rSPF"
         ],
         "labels": [
          "Abe et al., 2019",
          "Abe et al., 2019",
          "Abe et al., 2019",
          "Aojula et al., 2016",
          "Aojula et al., 2016",
          "Aojula et al., 2016",
          "Aojula et al., 2016",
          "Beckmann et al., 2018",
          "Berman et al., 2018",
          "Chandran et al., 2012",
          "Chandran et al., 2012",
          "Chang et al., 2017",
          "Chang et al., 2017",
          "Chang et al., 2017",
          "Chang et al., 2017",
          "Duhamel et al., 2019",
          "Duhamel et al., 2019",
          "Fatemi et al., 2011",
          "Fjaer et al., 2013",
          "Fjaer et al., 2015",
          "Guglielmetti et al., 2020",
          "Guglielmetti et al., 2020",
          "Hakkarainen et al., 2016",
          "Hakkarainen et al., 2016",
          "Hakkarainen et al., 2016",
          "Hakkarainen et al., 2016",
          "Hakkarainen et al., 2016",
          "Hakkarainen et al., 2016",
          "Hametner et al., 2018",
          "Hametner et al., 2018",
          "Hametner et al., 2018",
          "Janve et al., 2013",
          "Janve et al., 2013",
          "Janve et al., 2013",
          "Janve et al., 2013",
          "Janve et al., 2013",
          "Janve et al., 2013",
          "Janve et al., 2013",
          "Jelescu et al., 2016",
          "Jelescu et al., 2016",
          "Jelescu et al., 2016",
          "Jelescu et al., 2016",
          "Jelescu et al., 2016",
          "Jelescu et al., 2016",
          "Jito et al., 2008",
          "Kelm et al., 2016",
          "Kelm et al., 2016",
          "Kelm et al., 2016",
          "Kelm et al., 2016",
          "Kelm et al., 2016",
          "Khodanovic et al., 2017",
          "Khodanovic et al., 2019",
          "Laule et al., 2006",
          "Laule et al., 2008",
          "Lehto et al., 2017a",
          "Lehto et al., 2017a",
          "Lehto et al., 2017a",
          "Lehto et al., 2017a",
          "Lehto et al., 2017a",
          "Lehto et al., 2017a",
          "Lehto et al., 2017a",
          "Lehto et al., 2017b",
          "Mollink et al., 2019",
          "Pol et al., 2019",
          "Pol et al., 2019",
          "Pol et al., 2019",
          "Reeves et al., 2016",
          "Reeves et al., 2016",
          "Schmierer et al., 2004",
          "Schmierer et al., 2004",
          "Schmierer et al., 2007a",
          "Schmierer et al., 2007a",
          "Schmierer et al., 2007a",
          "Schmierer et al., 2007a",
          "Schmierer et al., 2007b",
          "Schmierer et al., 2007b",
          "Schmierer et al., 2008",
          "Schmierer et al., 2008",
          "Schmierer et al., 2008",
          "Schmierer et al., 2008",
          "Schmierer et al., 2008",
          "Schmierer et al., 2008",
          "Schmierer et al., 2008",
          "Schmierer et al., 2008",
          "Soustelle et al., 2019",
          "Soustelle et al., 2019",
          "Soustelle et al., 2019",
          "Soustelle et al., 2019",
          "Tardif et al., 2012",
          "Tardif et al., 2012",
          "Tardif et al., 2012",
          "Tardif et al., 2012",
          "Thiessen et al., 2013",
          "Thiessen et al., 2013",
          "Thiessen et al., 2013",
          "Thiessen et al., 2013",
          "Thiessen et al., 2013",
          "Thiessen et al., 2013",
          "Thiessen et al., 2013",
          "Thiessen et al., 2013",
          "Thiessen et al., 2013",
          "Thiessen et al., 2013",
          "Thiessen et al., 2013",
          "Thiessen et al., 2013",
          "Tu et al., 2016",
          "Tu et al., 2016",
          "Tu et al., 2016",
          "Tu et al., 2016",
          "Tu et al., 2016",
          "Turati et al., 2015",
          "Underhill et al., 2011",
          "Wang et al., 2009",
          "Wang et al., 2009",
          "Wendel et al., 2018",
          "Wendel et al., 2018",
          "Wendel et al., 2018",
          "Wendel et al., 2018",
          "West et al., 2018",
          "West et al., 2018",
          "West et al., 2018",
          "West et al., 2018",
          "Wu et al., 2008",
          "Yano et al., 2018",
          "Yano et al., 2018",
          "Yano et al., 2018",
          "Zaaraoui et al., 2008",
          "van Tilborg et al., 2017",
          "AD",
          "AWF",
          "FA",
          "MD",
          "MK",
          "MPF",
          "MTR",
          "MTR-UTE",
          "MTV",
          "MVF-MT",
          "MVF-T2",
          "MWF",
          "PD",
          "QSM",
          "R1f",
          "R2*",
          "RAFF",
          "RD",
          "RDe",
          "RK",
          "T1",
          "T1p",
          "T1sat",
          "T2",
          "T2f",
          "T2m",
          "T2p",
          "ihMTR",
          "k_fm",
          "k_mf",
          "rSPF"
         ],
         "marker": {
          "colorbar": {
           "title": {
            "text": "R<sup>2</sup>"
           }
          },
          "colors": [
           0.0121,
           0.1024,
           0.1681,
           0.1296,
           0.1197,
           0.245,
           0.2097,
           0.7668,
           0.74,
           0.5,
           0.34,
           0.1482,
           0.1989,
           0.0129,
           0.038,
           0.78,
           0.96,
           0.695,
           0.338,
           0.01,
           0.46,
           0.76,
           0.34,
           0.84,
           0.77,
           0.63,
           0.18,
           0.34,
           0.1239,
           7.0E-4,
           0.3398,
           0.0064,
           0.0729,
           0.0784,
           0.7225,
           0.0961,
           0.2401,
           0.0256,
           0.3025,
           0.1024,
           0.5041,
           0.25,
           0.0196,
           0.4096,
           0.7327,
           0.3364,
           0.1225,
           0.2304,
           0.1369,
           0.2401,
           0.779,
           0.82,
           0.67,
           0.78,
           0.4199,
           0.2237,
           0.3492,
           0.5169,
           0.552,
           0.0015,
           0.49,
           0.94,
           0.2704,
           0.0576,
           0.3481,
           0.0361,
           0.27,
           0.235,
           0.7055999999999999,
           0.48999999999999994,
           0.6400000000000001,
           0.7055999999999999,
           0.4760999999999999,
           1.0E-4,
           0.6241000000000001,
           0.4624000000000001,
           0.64,
           0.6889,
           0.6084,
           0.7396,
           0.4624,
           0.6561,
           0.7921,
           0.8464,
           0.7569,
           0.4624,
           0.49,
           0.7396,
           0.36,
           0.3481,
           0.5929,
           0.4225,
           0.5625,
           0.7056,
           0.6561,
           0.8649,
           0.4356,
           0.7569,
           0.4356,
           0.0676,
           0.36,
           0.1521,
           0.1089,
           0.6724,
           1.0E-4,
           0.0169,
           0.0289,
           0.1444,
           0.2116,
           0.2872,
           0.9801,
           0.4637,
           0.2787,
           0.1987,
           0.5707,
           0.0564,
           0.2973,
           0.7,
           0.7,
           0.68,
           0.66,
           0.5184,
           0.7569,
           0.5329,
           0.8281,
           0.6241000000000001,
           0.334
          ],
          "colorscale": [
           [
            0.0,
            "#440154"
           ],
           [
            0.1111111111111111,
            "#482878"
           ],
           [
            0.2222222222222222,
            "#3e4989"
           ],
           [
            0.3333333333333333,
            "#31688e"
           ],
           [
            0.4444444444444444,
            "#26828e"
           ],
           [
            0.5555555555555556,
            "#1f9e89"
           ],
           [
            0.6666666666666666,
            "#35b779"
           ],
           [
            0.7777777777777778,
            "#6ece58"
           ],
           [
            0.8888888888888888,
            "#b5de2b"
           ],
           [
            1.0,
            "#fde725"
           ]
          ],
          "showscale": true
         },
         "parents": [
          "AD",
          "FA",
          "RD",
          "AD",
          "FA",
          "MD",
          "RD",
          "MTR",
          "MTV",
          "FA",
          "RD",
          "AD",
          "FA",
          "MD",
          "RD",
          "MTR",
          "ihMTR",
          "MTR",
          "MTR",
          "MTR",
          "MTR",
          "MTR-UTE",
          "MTR",
          "RAFF",
          "T1",
          "T1p",
          "T2",
          "T2p",
          "QSM",
          "R2*",
          "T1",
          "AD",
          "FA",
          "MD",
          "MPF",
          "R1f",
          "RD",
          "k_mf",
          "AWF",
          "MTR",
          "RD",
          "RDe",
          "RK",
          "T2",
          "FA",
          "AWF",
          "MD",
          "MK",
          "RD",
          "RK",
          "MPF",
          "MPF",
          "MWF",
          "MWF",
          "AD",
          "FA",
          "MD",
          "MTR",
          "RAFF",
          "RD",
          "T1sat",
          "MTR",
          "FA",
          "FA",
          "MD",
          "QSM",
          "T1",
          "T2",
          "MTR",
          "T1",
          "MPF",
          "MTR",
          "T1",
          "T2m",
          "FA",
          "MD",
          "AD",
          "FA",
          "MD",
          "MPF",
          "MTR",
          "RD",
          "T1",
          "T2",
          "MPF",
          "MWF",
          "RD",
          "rSPF",
          "MTR",
          "PD",
          "T1",
          "T2",
          "AD",
          "FA",
          "MD",
          "MPF",
          "R1f",
          "RD",
          "T1",
          "T2",
          "T2f",
          "T2m",
          "k_fm",
          "k_mf",
          "AD",
          "FA",
          "MD",
          "MTR",
          "RD",
          "MPF",
          "MPF",
          "FA",
          "RD",
          "AD",
          "FA",
          "MD",
          "RD",
          "MPF",
          "MVF-MT",
          "MVF-T2",
          "MWF",
          "T2",
          "FA",
          "MD",
          "RD",
          "MTR",
          "FA",
          "",
          "",
          "",
          "",
          "",
          "",
          "",
          "",
          "",
          "",
          "",
          "",
          "",
          "",
          "",
          "",
          "",
          "",
          "",
          "",
          "",
          "",
          "",
          "",
          "",
          "",
          "",
          "",
          "",
          "",
          ""
         ],
         "text": [
          "R<sup>2</sup>: 0.0121<br>Measure: AD<br>Number of subjects: 5.0<br>ROIs per subject: 12.0<br>Total number of samples: 60.0",
          "R<sup>2</sup>: 0.1024<br>Measure: FA<br>Number of subjects: 5.0<br>ROIs per subject: 12.0<br>Total number of samples: 60.0",
          "R<sup>2</sup>: 0.1681<br>Measure: RD<br>Number of subjects: 5.0<br>ROIs per subject: 12.0<br>Total number of samples: 60.0",
          "R<sup>2</sup>: 0.1296<br>Measure: AD<br>Number of subjects: 17.0<br>ROIs per subject: 1.0<br>Total number of samples: 17.0",
          "R<sup>2</sup>: 0.1197<br>Measure: FA<br>Number of subjects: 17.0<br>ROIs per subject: 1.0<br>Total number of samples: 17.0",
          "R<sup>2</sup>: 0.245<br>Measure: MD<br>Number of subjects: 17.0<br>ROIs per subject: 1.0<br>Total number of samples: 17.0",
          "R<sup>2</sup>: 0.2097<br>Measure: RD<br>Number of subjects: 17.0<br>ROIs per subject: 1.0<br>Total number of samples: 17.0",
          "R<sup>2</sup>: 0.7668<br>Measure: MTR<br>Number of subjects: 20.0<br>ROIs per subject: 1.0<br>Total number of samples: 20.0",
          "R<sup>2</sup>: 0.74<br>Measure: MTV<br>Number of subjects: 4.0<br>ROIs per subject: 1.0<br>Total number of samples: 4.0",
          "R<sup>2</sup>: 0.5<br>Measure: FA<br>Number of subjects: 20.0<br>ROIs per subject: 1.0<br>Total number of samples: 20.0",
          "R<sup>2</sup>: 0.34<br>Measure: RD<br>Number of subjects: 20.0<br>ROIs per subject: 1.0<br>Total number of samples: 20.0",
          "R<sup>2</sup>: 0.1482<br>Measure: AD<br>Number of subjects: 4.0<br>ROIs per subject: 14.0<br>Total number of samples: 56.0",
          "R<sup>2</sup>: 0.1989<br>Measure: FA<br>Number of subjects: 4.0<br>ROIs per subject: 14.0<br>Total number of samples: 56.0",
          "R<sup>2</sup>: 0.0129<br>Measure: MD<br>Number of subjects: 4.0<br>ROIs per subject: 14.0<br>Total number of samples: 56.0",
          "R<sup>2</sup>: 0.038<br>Measure: RD<br>Number of subjects: 4.0<br>ROIs per subject: 14.0<br>Total number of samples: 56.0",
          "R<sup>2</sup>: 0.78<br>Measure: MTR<br>Number of subjects: 3.0<br>ROIs per subject: 7.0<br>Total number of samples: 21.0",
          "R<sup>2</sup>: 0.96<br>Measure: ihMTR<br>Number of subjects: 3.0<br>ROIs per subject: 7.0<br>Total number of samples: 21.0",
          "R<sup>2</sup>: 0.695<br>Measure: MTR<br>Number of subjects: 24.0<br>ROIs per subject: 25.0<br>Total number of samples: 600.0",
          "R<sup>2</sup>: 0.338<br>Measure: MTR<br>Number of subjects: 54.0<br>ROIs per subject: 1.0<br>Total number of samples: 54.0",
          "R<sup>2</sup>: 0.01<br>Measure: MTR<br>Number of subjects: 24.0<br>ROIs per subject: 1.0<br>Total number of samples: 24.0",
          "R<sup>2</sup>: 0.46<br>Measure: MTR<br>Number of subjects: 1.0<br>ROIs per subject: 9.0<br>Total number of samples: 9.0",
          "R<sup>2</sup>: 0.76<br>Measure: MTR-UTE<br>Number of subjects: 1.0<br>ROIs per subject: 9.0<br>Total number of samples: 9.0",
          "R<sup>2</sup>: 0.34<br>Measure: MTR<br>Number of subjects: 5.0<br>ROIs per subject: 12.0<br>Total number of samples: 60.0",
          "R<sup>2</sup>: 0.84<br>Measure: RAFF<br>Number of subjects: 5.0<br>ROIs per subject: 12.0<br>Total number of samples: 60.0",
          "R<sup>2</sup>: 0.77<br>Measure: T1<br>Number of subjects: 5.0<br>ROIs per subject: 12.0<br>Total number of samples: 60.0",
          "R<sup>2</sup>: 0.63<br>Measure: T1p<br>Number of subjects: 5.0<br>ROIs per subject: 12.0<br>Total number of samples: 60.0",
          "R<sup>2</sup>: 0.18<br>Measure: T2<br>Number of subjects: 5.0<br>ROIs per subject: 12.0<br>Total number of samples: 60.0",
          "R<sup>2</sup>: 0.34<br>Measure: T2p<br>Number of subjects: 5.0<br>ROIs per subject: 12.0<br>Total number of samples: 60.0",
          "R<sup>2</sup>: 0.1239<br>Measure: QSM<br>Number of subjects: 6.0<br>ROIs per subject: 79.0<br>Total number of samples: 474.0",
          "R<sup>2</sup>: 0.0007<br>Measure: R2*<br>Number of subjects: 6.0<br>ROIs per subject: 79.0<br>Total number of samples: 474.0",
          "R<sup>2</sup>: 0.3398<br>Measure: T1<br>Number of subjects: 6.0<br>ROIs per subject: 79.0<br>Total number of samples: 474.0",
          "R<sup>2</sup>: 0.0064<br>Measure: AD<br>Number of subjects: 8.0<br>ROIs per subject: 6.0<br>Total number of samples: 48.0",
          "R<sup>2</sup>: 0.0729<br>Measure: FA<br>Number of subjects: 8.0<br>ROIs per subject: 6.0<br>Total number of samples: 48.0",
          "R<sup>2</sup>: 0.0784<br>Measure: MD<br>Number of subjects: 8.0<br>ROIs per subject: 6.0<br>Total number of samples: 48.0",
          "R<sup>2</sup>: 0.7225<br>Measure: MPF<br>Number of subjects: 8.0<br>ROIs per subject: 6.0<br>Total number of samples: 48.0",
          "R<sup>2</sup>: 0.0961<br>Measure: R1f<br>Number of subjects: 8.0<br>ROIs per subject: 6.0<br>Total number of samples: 48.0",
          "R<sup>2</sup>: 0.2401<br>Measure: RD<br>Number of subjects: 8.0<br>ROIs per subject: 6.0<br>Total number of samples: 48.0",
          "R<sup>2</sup>: 0.0256<br>Measure: k_mf<br>Number of subjects: 8.0<br>ROIs per subject: 6.0<br>Total number of samples: 48.0",
          "R<sup>2</sup>: 0.3025<br>Measure: AWF<br>Number of subjects: 21.0<br>ROIs per subject: 1.0<br>Total number of samples: 21.0",
          "R<sup>2</sup>: 0.1024<br>Measure: MTR<br>Number of subjects: 21.0<br>ROIs per subject: 1.0<br>Total number of samples: 21.0",
          "R<sup>2</sup>: 0.5041<br>Measure: RD<br>Number of subjects: 21.0<br>ROIs per subject: 1.0<br>Total number of samples: 21.0",
          "R<sup>2</sup>: 0.25<br>Measure: RDe<br>Number of subjects: 21.0<br>ROIs per subject: 1.0<br>Total number of samples: 21.0",
          "R<sup>2</sup>: 0.0196<br>Measure: RK<br>Number of subjects: 21.0<br>ROIs per subject: 1.0<br>Total number of samples: 21.0",
          "R<sup>2</sup>: 0.4096<br>Measure: T2<br>Number of subjects: 21.0<br>ROIs per subject: 1.0<br>Total number of samples: 21.0",
          "R<sup>2</sup>: 0.7327<br>Measure: FA<br>Number of subjects: 36.0<br>ROIs per subject: 1.0<br>Total number of samples: 36.0",
          "R<sup>2</sup>: 0.3364<br>Measure: AWF<br>Number of subjects: 13.0<br>ROIs per subject: 6.0<br>Total number of samples: 78.0",
          "R<sup>2</sup>: 0.1225<br>Measure: MD<br>Number of subjects: 13.0<br>ROIs per subject: 6.0<br>Total number of samples: 78.0",
          "R<sup>2</sup>: 0.2304<br>Measure: MK<br>Number of subjects: 13.0<br>ROIs per subject: 6.0<br>Total number of samples: 78.0",
          "R<sup>2</sup>: 0.1369<br>Measure: RD<br>Number of subjects: 13.0<br>ROIs per subject: 6.0<br>Total number of samples: 78.0",
          "R<sup>2</sup>: 0.2401<br>Measure: RK<br>Number of subjects: 13.0<br>ROIs per subject: 6.0<br>Total number of samples: 78.0",
          "R<sup>2</sup>: 0.779<br>Measure: MPF<br>Number of subjects: 14.0<br>ROIs per subject: 8.0<br>Total number of samples: 112.0",
          "R<sup>2</sup>: 0.82<br>Measure: MPF<br>Number of subjects: 13.0<br>ROIs per subject: 1.0<br>Total number of samples: 13.0",
          "R<sup>2</sup>: 0.67<br>Measure: MWF<br>Number of subjects: 13.0<br>ROIs per subject: 44.0<br>Total number of samples: 572.0",
          "R<sup>2</sup>: 0.78<br>Measure: MWF<br>Number of subjects: 3.0<br>ROIs per subject: 73.0<br>Total number of samples: 219.0",
          "R<sup>2</sup>: 0.4199<br>Measure: AD<br>Number of subjects: 20.0<br>ROIs per subject: 4.0<br>Total number of samples: 80.0",
          "R<sup>2</sup>: 0.2237<br>Measure: FA<br>Number of subjects: 20.0<br>ROIs per subject: 4.0<br>Total number of samples: 80.0",
          "R<sup>2</sup>: 0.3492<br>Measure: MD<br>Number of subjects: 20.0<br>ROIs per subject: 4.0<br>Total number of samples: 80.0",
          "R<sup>2</sup>: 0.5169<br>Measure: MTR<br>Number of subjects: 20.0<br>ROIs per subject: 4.0<br>Total number of samples: 80.0",
          "R<sup>2</sup>: 0.552<br>Measure: RAFF<br>Number of subjects: 20.0<br>ROIs per subject: 4.0<br>Total number of samples: 80.0",
          "R<sup>2</sup>: 0.0015<br>Measure: RD<br>Number of subjects: 20.0<br>ROIs per subject: 4.0<br>Total number of samples: 80.0",
          "R<sup>2</sup>: 0.49<br>Measure: T1sat<br>Number of subjects: 20.0<br>ROIs per subject: 4.0<br>Total number of samples: 80.0",
          "R<sup>2</sup>: 0.94<br>Measure: MTR<br>Number of subjects: 2.0<br>ROIs per subject: 16.0<br>Total number of samples: 32.0",
          "R<sup>2</sup>: 0.2704<br>Measure: FA<br>Number of subjects: 18.0<br>ROIs per subject: 1.0<br>Total number of samples: 18.0",
          "R<sup>2</sup>: 0.0576<br>Measure: FA<br>Number of subjects: 11.0<br>ROIs per subject: 1.0<br>Total number of samples: 11.0",
          "R<sup>2</sup>: 0.3481<br>Measure: MD<br>Number of subjects: 11.0<br>ROIs per subject: 1.0<br>Total number of samples: 11.0",
          "R<sup>2</sup>: 0.0361<br>Measure: QSM<br>Number of subjects: 11.0<br>ROIs per subject: 1.0<br>Total number of samples: 11.0",
          "R<sup>2</sup>: 0.27<br>Measure: T1<br>Number of subjects: 13.0<br>ROIs per subject: 3.0<br>Total number of samples: 39.0",
          "R<sup>2</sup>: 0.235<br>Measure: T2<br>Number of subjects: 13.0<br>ROIs per subject: 3.0<br>Total number of samples: 39.0",
          "R<sup>2</sup>: 0.7055999999999999<br>Measure: MTR<br>Number of subjects: 20.0<br>ROIs per subject: 3.0<br>Total number of samples: 60.0",
          "R<sup>2</sup>: 0.48999999999999994<br>Measure: T1<br>Number of subjects: 20.0<br>ROIs per subject: 3.0<br>Total number of samples: 60.0",
          "R<sup>2</sup>: 0.6400000000000001<br>Measure: MPF<br>Number of subjects: 37.0<br>ROIs per subject: 3.0<br>Total number of samples: 111.0",
          "R<sup>2</sup>: 0.7055999999999999<br>Measure: MTR<br>Number of subjects: 37.0<br>ROIs per subject: 3.0<br>Total number of samples: 111.0",
          "R<sup>2</sup>: 0.4760999999999999<br>Measure: T1<br>Number of subjects: 37.0<br>ROIs per subject: 3.0<br>Total number of samples: 111.0",
          "R<sup>2</sup>: 0.0001<br>Measure: T2m<br>Number of subjects: 37.0<br>ROIs per subject: 3.0<br>Total number of samples: 111.0",
          "R<sup>2</sup>: 0.6241000000000001<br>Measure: FA<br>Number of subjects: 16.0<br>ROIs per subject: 3.0<br>Total number of samples: 48.0",
          "R<sup>2</sup>: 0.4624000000000001<br>Measure: MD<br>Number of subjects: 16.0<br>ROIs per subject: 3.0<br>Total number of samples: 48.0",
          "R<sup>2</sup>: 0.64<br>Measure: AD<br>Number of subjects: 15.0<br>ROIs per subject: 2.0<br>Total number of samples: 30.0",
          "R<sup>2</sup>: 0.6889<br>Measure: FA<br>Number of subjects: 15.0<br>ROIs per subject: 2.0<br>Total number of samples: 30.0",
          "R<sup>2</sup>: 0.6084<br>Measure: MD<br>Number of subjects: 15.0<br>ROIs per subject: 2.0<br>Total number of samples: 30.0",
          "R<sup>2</sup>: 0.7396<br>Measure: MPF<br>Number of subjects: 15.0<br>ROIs per subject: 2.0<br>Total number of samples: 30.0",
          "R<sup>2</sup>: 0.4624<br>Measure: MTR<br>Number of subjects: 15.0<br>ROIs per subject: 2.0<br>Total number of samples: 30.0",
          "R<sup>2</sup>: 0.6561<br>Measure: RD<br>Number of subjects: 15.0<br>ROIs per subject: 2.0<br>Total number of samples: 30.0",
          "R<sup>2</sup>: 0.7921<br>Measure: T1<br>Number of subjects: 15.0<br>ROIs per subject: 2.0<br>Total number of samples: 30.0",
          "R<sup>2</sup>: 0.8464<br>Measure: T2<br>Number of subjects: 15.0<br>ROIs per subject: 2.0<br>Total number of samples: 30.0",
          "R<sup>2</sup>: 0.7569<br>Measure: MPF<br>Number of subjects: 15.0<br>ROIs per subject: 1.0<br>Total number of samples: 15.0",
          "R<sup>2</sup>: 0.4624<br>Measure: MWF<br>Number of subjects: 15.0<br>ROIs per subject: 1.0<br>Total number of samples: 15.0",
          "R<sup>2</sup>: 0.49<br>Measure: RD<br>Number of subjects: 15.0<br>ROIs per subject: 1.0<br>Total number of samples: 15.0",
          "R<sup>2</sup>: 0.7396<br>Measure: rSPF<br>Number of subjects: 15.0<br>ROIs per subject: 1.0<br>Total number of samples: 15.0",
          "R<sup>2</sup>: 0.36<br>Measure: MTR<br>Number of subjects: 1.0<br>ROIs per subject: 18.0<br>Total number of samples: 18.0",
          "R<sup>2</sup>: 0.3481<br>Measure: PD<br>Number of subjects: 1.0<br>ROIs per subject: 18.0<br>Total number of samples: 18.0",
          "R<sup>2</sup>: 0.5929<br>Measure: T1<br>Number of subjects: 1.0<br>ROIs per subject: 18.0<br>Total number of samples: 18.0",
          "R<sup>2</sup>: 0.4225<br>Measure: T2<br>Number of subjects: 1.0<br>ROIs per subject: 18.0<br>Total number of samples: 18.0",
          "R<sup>2</sup>: 0.5625<br>Measure: AD<br>Number of subjects: 10.0<br>ROIs per subject: 1.0<br>Total number of samples: 10.0",
          "R<sup>2</sup>: 0.7056<br>Measure: FA<br>Number of subjects: 10.0<br>ROIs per subject: 1.0<br>Total number of samples: 10.0",
          "R<sup>2</sup>: 0.6561<br>Measure: MD<br>Number of subjects: 10.0<br>ROIs per subject: 1.0<br>Total number of samples: 10.0",
          "R<sup>2</sup>: 0.8649<br>Measure: MPF<br>Number of subjects: 10.0<br>ROIs per subject: 1.0<br>Total number of samples: 10.0",
          "R<sup>2</sup>: 0.4356<br>Measure: R1f<br>Number of subjects: 10.0<br>ROIs per subject: 1.0<br>Total number of samples: 10.0",
          "R<sup>2</sup>: 0.7569<br>Measure: RD<br>Number of subjects: 10.0<br>ROIs per subject: 1.0<br>Total number of samples: 10.0",
          "R<sup>2</sup>: 0.4356<br>Measure: T1<br>Number of subjects: 10.0<br>ROIs per subject: 1.0<br>Total number of samples: 10.0",
          "R<sup>2</sup>: 0.0676<br>Measure: T2<br>Number of subjects: 10.0<br>ROIs per subject: 1.0<br>Total number of samples: 10.0",
          "R<sup>2</sup>: 0.36<br>Measure: T2f<br>Number of subjects: 10.0<br>ROIs per subject: 1.0<br>Total number of samples: 10.0",
          "R<sup>2</sup>: 0.1521<br>Measure: T2m<br>Number of subjects: 10.0<br>ROIs per subject: 1.0<br>Total number of samples: 10.0",
          "R<sup>2</sup>: 0.1089<br>Measure: k_fm<br>Number of subjects: 10.0<br>ROIs per subject: 1.0<br>Total number of samples: 10.0",
          "R<sup>2</sup>: 0.6724<br>Measure: k_mf<br>Number of subjects: 10.0<br>ROIs per subject: 1.0<br>Total number of samples: 10.0",
          "R<sup>2</sup>: 0.0001<br>Measure: AD<br>Number of subjects: 25.0<br>ROIs per subject: 1.0<br>Total number of samples: 25.0",
          "R<sup>2</sup>: 0.0169<br>Measure: FA<br>Number of subjects: 25.0<br>ROIs per subject: 1.0<br>Total number of samples: 25.0",
          "R<sup>2</sup>: 0.0289<br>Measure: MD<br>Number of subjects: 25.0<br>ROIs per subject: 1.0<br>Total number of samples: 25.0",
          "R<sup>2</sup>: 0.1444<br>Measure: MTR<br>Number of subjects: 25.0<br>ROIs per subject: 1.0<br>Total number of samples: 25.0",
          "R<sup>2</sup>: 0.2116<br>Measure: RD<br>Number of subjects: 25.0<br>ROIs per subject: 1.0<br>Total number of samples: 25.0",
          "R<sup>2</sup>: 0.2872<br>Measure: MPF<br>Number of subjects: 15.0<br>ROIs per subject: 1.0<br>Total number of samples: 15.0",
          "R<sup>2</sup>: 0.9801<br>Measure: MPF<br>Number of subjects: 1.0<br>ROIs per subject: 9.0<br>Total number of samples: 9.0",
          "R<sup>2</sup>: 0.4637<br>Measure: FA<br>Number of subjects: 15.0<br>ROIs per subject: 1.0<br>Total number of samples: 15.0",
          "R<sup>2</sup>: 0.2787<br>Measure: RD<br>Number of subjects: 15.0<br>ROIs per subject: 1.0<br>Total number of samples: 15.0",
          "R<sup>2</sup>: 0.1987<br>Measure: AD<br>Number of subjects: 12.0<br>ROIs per subject: 3.0<br>Total number of samples: 36.0",
          "R<sup>2</sup>: 0.5707<br>Measure: FA<br>Number of subjects: 12.0<br>ROIs per subject: 3.0<br>Total number of samples: 36.0",
          "R<sup>2</sup>: 0.0564<br>Measure: MD<br>Number of subjects: 12.0<br>ROIs per subject: 3.0<br>Total number of samples: 36.0",
          "R<sup>2</sup>: 0.2973<br>Measure: RD<br>Number of subjects: 12.0<br>ROIs per subject: 3.0<br>Total number of samples: 36.0",
          "R<sup>2</sup>: 0.7<br>Measure: MPF<br>Number of subjects: 15.0<br>ROIs per subject: 4.0<br>Total number of samples: 60.0",
          "R<sup>2</sup>: 0.7<br>Measure: MVF-MT<br>Number of subjects: 15.0<br>ROIs per subject: 4.0<br>Total number of samples: 60.0",
          "R<sup>2</sup>: 0.68<br>Measure: MVF-T2<br>Number of subjects: 15.0<br>ROIs per subject: 4.0<br>Total number of samples: 60.0",
          "R<sup>2</sup>: 0.66<br>Measure: MWF<br>Number of subjects: 15.0<br>ROIs per subject: 4.0<br>Total number of samples: 60.0",
          "R<sup>2</sup>: 0.5184<br>Measure: T2<br>Number of subjects: 8.0<br>ROIs per subject: 3.0<br>Total number of samples: 24.0",
          "R<sup>2</sup>: 0.7569<br>Measure: FA<br>Number of subjects: 21.0<br>ROIs per subject: 1.0<br>Total number of samples: 21.0",
          "R<sup>2</sup>: 0.5329<br>Measure: MD<br>Number of subjects: 21.0<br>ROIs per subject: 1.0<br>Total number of samples: 21.0",
          "R<sup>2</sup>: 0.8281<br>Measure: RD<br>Number of subjects: 21.0<br>ROIs per subject: 1.0<br>Total number of samples: 21.0",
          "R<sup>2</sup>: 0.6241000000000001<br>Measure: MTR<br>Number of subjects: 16.0<br>ROIs per subject: 1.0<br>Total number of samples: 16.0",
          "R<sup>2</sup>: 0.334<br>Measure: FA<br>Number of subjects: 12.0<br>ROIs per subject: 1.0<br>Total number of samples: 12.0"
         ],
         "textfont": {
          "size": 15
         },
         "type": "treemap",
         "values": [
          60.0,
          60.0,
          60.0,
          17.0,
          17.0,
          17.0,
          17.0,
          20.0,
          4.0,
          20.0,
          20.0,
          56.0,
          56.0,
          56.0,
          56.0,
          21.0,
          21.0,
          600.0,
          54.0,
          24.0,
          9.0,
          9.0,
          60.0,
          60.0,
          60.0,
          60.0,
          60.0,
          60.0,
          474.0,
          474.0,
          474.0,
          48.0,
          48.0,
          48.0,
          48.0,
          48.0,
          48.0,
          48.0,
          21.0,
          21.0,
          21.0,
          21.0,
          21.0,
          21.0,
          36.0,
          78.0,
          78.0,
          78.0,
          78.0,
          78.0,
          112.0,
          13.0,
          572.0,
          219.0,
          80.0,
          80.0,
          80.0,
          80.0,
          80.0,
          80.0,
          80.0,
          32.0,
          18.0,
          11.0,
          11.0,
          11.0,
          39.0,
          39.0,
          60.0,
          60.0,
          111.0,
          111.0,
          111.0,
          111.0,
          48.0,
          48.0,
          30.0,
          30.0,
          30.0,
          30.0,
          30.0,
          30.0,
          30.0,
          30.0,
          15.0,
          15.0,
          15.0,
          15.0,
          18.0,
          18.0,
          18.0,
          18.0,
          10.0,
          10.0,
          10.0,
          10.0,
          10.0,
          10.0,
          10.0,
          10.0,
          10.0,
          10.0,
          10.0,
          10.0,
          25.0,
          25.0,
          25.0,
          25.0,
          25.0,
          15.0,
          9.0,
          15.0,
          15.0,
          36.0,
          36.0,
          36.0,
          36.0,
          60.0,
          60.0,
          60.0,
          60.0,
          24.0,
          21.0,
          21.0,
          21.0,
          16.0,
          12.0,
          362.0,
          99.0,
          543.0,
          460.0,
          78.0,
          423.0,
          1181.0,
          9.0,
          4.0,
          60.0,
          60.0,
          866.0,
          18.0,
          485.0,
          58.0,
          474.0,
          140.0,
          532.0,
          21.0,
          99.0,
          802.0,
          60.0,
          80.0,
          202.0,
          10.0,
          121.0,
          60.0,
          21.0,
          10.0,
          58.0,
          15.0
         ]
        }
       ],
       "layout": {
        "annotations": [
         {
          "font": {
           "color": "gray",
           "size": 8
          },
          "showarrow": false,
          "text": "<a href=\"https://neurolibre.com\" target=\"_blank\" style=\"color:gray!important\">NeuroLibre</a>",
          "x": 1,
          "xref": "paper",
          "y": -0.055,
          "yref": "paper"
         }
        ],
        "autosize": false,
        "height": 600,
        "images": [
         {
          "opacity": 0.9,
          "sizex": 0.04,
          "sizey": 0.04,
          "source": "https://raw.githubusercontent.com/notebook-factory/brand/main/nlibre_custom2.svg",
          "x": 0.89,
          "xref": "paper",
          "y": -0.010000000000000002,
          "yref": "paper"
         }
        ],
        "margin": {
         "l": 0
        },
        "template": {
         "data": {
          "bar": [
           {
            "error_x": {
             "color": "#2a3f5f"
            },
            "error_y": {
             "color": "#2a3f5f"
            },
            "marker": {
             "line": {
              "color": "#E5ECF6",
              "width": 0.5
             }
            },
            "type": "bar"
           }
          ],
          "barpolar": [
           {
            "marker": {
             "line": {
              "color": "#E5ECF6",
              "width": 0.5
             }
            },
            "type": "barpolar"
           }
          ],
          "carpet": [
           {
            "aaxis": {
             "endlinecolor": "#2a3f5f",
             "gridcolor": "white",
             "linecolor": "white",
             "minorgridcolor": "white",
             "startlinecolor": "#2a3f5f"
            },
            "baxis": {
             "endlinecolor": "#2a3f5f",
             "gridcolor": "white",
             "linecolor": "white",
             "minorgridcolor": "white",
             "startlinecolor": "#2a3f5f"
            },
            "type": "carpet"
           }
          ],
          "choropleth": [
           {
            "colorbar": {
             "outlinewidth": 0,
             "ticks": ""
            },
            "type": "choropleth"
           }
          ],
          "contour": [
           {
            "colorbar": {
             "outlinewidth": 0,
             "ticks": ""
            },
            "colorscale": [
             [
              0.0,
              "#0d0887"
             ],
             [
              0.1111111111111111,
              "#46039f"
             ],
             [
              0.2222222222222222,
              "#7201a8"
             ],
             [
              0.3333333333333333,
              "#9c179e"
             ],
             [
              0.4444444444444444,
              "#bd3786"
             ],
             [
              0.5555555555555556,
              "#d8576b"
             ],
             [
              0.6666666666666666,
              "#ed7953"
             ],
             [
              0.7777777777777778,
              "#fb9f3a"
             ],
             [
              0.8888888888888888,
              "#fdca26"
             ],
             [
              1.0,
              "#f0f921"
             ]
            ],
            "type": "contour"
           }
          ],
          "contourcarpet": [
           {
            "colorbar": {
             "outlinewidth": 0,
             "ticks": ""
            },
            "type": "contourcarpet"
           }
          ],
          "heatmap": [
           {
            "colorbar": {
             "outlinewidth": 0,
             "ticks": ""
            },
            "colorscale": [
             [
              0.0,
              "#0d0887"
             ],
             [
              0.1111111111111111,
              "#46039f"
             ],
             [
              0.2222222222222222,
              "#7201a8"
             ],
             [
              0.3333333333333333,
              "#9c179e"
             ],
             [
              0.4444444444444444,
              "#bd3786"
             ],
             [
              0.5555555555555556,
              "#d8576b"
             ],
             [
              0.6666666666666666,
              "#ed7953"
             ],
             [
              0.7777777777777778,
              "#fb9f3a"
             ],
             [
              0.8888888888888888,
              "#fdca26"
             ],
             [
              1.0,
              "#f0f921"
             ]
            ],
            "type": "heatmap"
           }
          ],
          "heatmapgl": [
           {
            "colorbar": {
             "outlinewidth": 0,
             "ticks": ""
            },
            "colorscale": [
             [
              0.0,
              "#0d0887"
             ],
             [
              0.1111111111111111,
              "#46039f"
             ],
             [
              0.2222222222222222,
              "#7201a8"
             ],
             [
              0.3333333333333333,
              "#9c179e"
             ],
             [
              0.4444444444444444,
              "#bd3786"
             ],
             [
              0.5555555555555556,
              "#d8576b"
             ],
             [
              0.6666666666666666,
              "#ed7953"
             ],
             [
              0.7777777777777778,
              "#fb9f3a"
             ],
             [
              0.8888888888888888,
              "#fdca26"
             ],
             [
              1.0,
              "#f0f921"
             ]
            ],
            "type": "heatmapgl"
           }
          ],
          "histogram": [
           {
            "marker": {
             "colorbar": {
              "outlinewidth": 0,
              "ticks": ""
             }
            },
            "type": "histogram"
           }
          ],
          "histogram2d": [
           {
            "colorbar": {
             "outlinewidth": 0,
             "ticks": ""
            },
            "colorscale": [
             [
              0.0,
              "#0d0887"
             ],
             [
              0.1111111111111111,
              "#46039f"
             ],
             [
              0.2222222222222222,
              "#7201a8"
             ],
             [
              0.3333333333333333,
              "#9c179e"
             ],
             [
              0.4444444444444444,
              "#bd3786"
             ],
             [
              0.5555555555555556,
              "#d8576b"
             ],
             [
              0.6666666666666666,
              "#ed7953"
             ],
             [
              0.7777777777777778,
              "#fb9f3a"
             ],
             [
              0.8888888888888888,
              "#fdca26"
             ],
             [
              1.0,
              "#f0f921"
             ]
            ],
            "type": "histogram2d"
           }
          ],
          "histogram2dcontour": [
           {
            "colorbar": {
             "outlinewidth": 0,
             "ticks": ""
            },
            "colorscale": [
             [
              0.0,
              "#0d0887"
             ],
             [
              0.1111111111111111,
              "#46039f"
             ],
             [
              0.2222222222222222,
              "#7201a8"
             ],
             [
              0.3333333333333333,
              "#9c179e"
             ],
             [
              0.4444444444444444,
              "#bd3786"
             ],
             [
              0.5555555555555556,
              "#d8576b"
             ],
             [
              0.6666666666666666,
              "#ed7953"
             ],
             [
              0.7777777777777778,
              "#fb9f3a"
             ],
             [
              0.8888888888888888,
              "#fdca26"
             ],
             [
              1.0,
              "#f0f921"
             ]
            ],
            "type": "histogram2dcontour"
           }
          ],
          "mesh3d": [
           {
            "colorbar": {
             "outlinewidth": 0,
             "ticks": ""
            },
            "type": "mesh3d"
           }
          ],
          "parcoords": [
           {
            "line": {
             "colorbar": {
              "outlinewidth": 0,
              "ticks": ""
             }
            },
            "type": "parcoords"
           }
          ],
          "pie": [
           {
            "automargin": true,
            "type": "pie"
           }
          ],
          "scatter": [
           {
            "marker": {
             "colorbar": {
              "outlinewidth": 0,
              "ticks": ""
             }
            },
            "type": "scatter"
           }
          ],
          "scatter3d": [
           {
            "line": {
             "colorbar": {
              "outlinewidth": 0,
              "ticks": ""
             }
            },
            "marker": {
             "colorbar": {
              "outlinewidth": 0,
              "ticks": ""
             }
            },
            "type": "scatter3d"
           }
          ],
          "scattercarpet": [
           {
            "marker": {
             "colorbar": {
              "outlinewidth": 0,
              "ticks": ""
             }
            },
            "type": "scattercarpet"
           }
          ],
          "scattergeo": [
           {
            "marker": {
             "colorbar": {
              "outlinewidth": 0,
              "ticks": ""
             }
            },
            "type": "scattergeo"
           }
          ],
          "scattergl": [
           {
            "marker": {
             "colorbar": {
              "outlinewidth": 0,
              "ticks": ""
             }
            },
            "type": "scattergl"
           }
          ],
          "scattermapbox": [
           {
            "marker": {
             "colorbar": {
              "outlinewidth": 0,
              "ticks": ""
             }
            },
            "type": "scattermapbox"
           }
          ],
          "scatterpolar": [
           {
            "marker": {
             "colorbar": {
              "outlinewidth": 0,
              "ticks": ""
             }
            },
            "type": "scatterpolar"
           }
          ],
          "scatterpolargl": [
           {
            "marker": {
             "colorbar": {
              "outlinewidth": 0,
              "ticks": ""
             }
            },
            "type": "scatterpolargl"
           }
          ],
          "scatterternary": [
           {
            "marker": {
             "colorbar": {
              "outlinewidth": 0,
              "ticks": ""
             }
            },
            "type": "scatterternary"
           }
          ],
          "surface": [
           {
            "colorbar": {
             "outlinewidth": 0,
             "ticks": ""
            },
            "colorscale": [
             [
              0.0,
              "#0d0887"
             ],
             [
              0.1111111111111111,
              "#46039f"
             ],
             [
              0.2222222222222222,
              "#7201a8"
             ],
             [
              0.3333333333333333,
              "#9c179e"
             ],
             [
              0.4444444444444444,
              "#bd3786"
             ],
             [
              0.5555555555555556,
              "#d8576b"
             ],
             [
              0.6666666666666666,
              "#ed7953"
             ],
             [
              0.7777777777777778,
              "#fb9f3a"
             ],
             [
              0.8888888888888888,
              "#fdca26"
             ],
             [
              1.0,
              "#f0f921"
             ]
            ],
            "type": "surface"
           }
          ],
          "table": [
           {
            "cells": {
             "fill": {
              "color": "#EBF0F8"
             },
             "line": {
              "color": "white"
             }
            },
            "header": {
             "fill": {
              "color": "#C8D4E3"
             },
             "line": {
              "color": "white"
             }
            },
            "type": "table"
           }
          ]
         },
         "layout": {
          "annotationdefaults": {
           "arrowcolor": "#2a3f5f",
           "arrowhead": 0,
           "arrowwidth": 1
          },
          "coloraxis": {
           "colorbar": {
            "outlinewidth": 0,
            "ticks": ""
           }
          },
          "colorscale": {
           "diverging": [
            [
             0,
             "#8e0152"
            ],
            [
             0.1,
             "#c51b7d"
            ],
            [
             0.2,
             "#de77ae"
            ],
            [
             0.3,
             "#f1b6da"
            ],
            [
             0.4,
             "#fde0ef"
            ],
            [
             0.5,
             "#f7f7f7"
            ],
            [
             0.6,
             "#e6f5d0"
            ],
            [
             0.7,
             "#b8e186"
            ],
            [
             0.8,
             "#7fbc41"
            ],
            [
             0.9,
             "#4d9221"
            ],
            [
             1,
             "#276419"
            ]
           ],
           "sequential": [
            [
             0.0,
             "#0d0887"
            ],
            [
             0.1111111111111111,
             "#46039f"
            ],
            [
             0.2222222222222222,
             "#7201a8"
            ],
            [
             0.3333333333333333,
             "#9c179e"
            ],
            [
             0.4444444444444444,
             "#bd3786"
            ],
            [
             0.5555555555555556,
             "#d8576b"
            ],
            [
             0.6666666666666666,
             "#ed7953"
            ],
            [
             0.7777777777777778,
             "#fb9f3a"
            ],
            [
             0.8888888888888888,
             "#fdca26"
            ],
            [
             1.0,
             "#f0f921"
            ]
           ],
           "sequentialminus": [
            [
             0.0,
             "#0d0887"
            ],
            [
             0.1111111111111111,
             "#46039f"
            ],
            [
             0.2222222222222222,
             "#7201a8"
            ],
            [
             0.3333333333333333,
             "#9c179e"
            ],
            [
             0.4444444444444444,
             "#bd3786"
            ],
            [
             0.5555555555555556,
             "#d8576b"
            ],
            [
             0.6666666666666666,
             "#ed7953"
            ],
            [
             0.7777777777777778,
             "#fb9f3a"
            ],
            [
             0.8888888888888888,
             "#fdca26"
            ],
            [
             1.0,
             "#f0f921"
            ]
           ]
          },
          "colorway": [
           "#636efa",
           "#EF553B",
           "#00cc96",
           "#ab63fa",
           "#FFA15A",
           "#19d3f3",
           "#FF6692",
           "#B6E880",
           "#FF97FF",
           "#FECB52"
          ],
          "font": {
           "color": "#2a3f5f"
          },
          "geo": {
           "bgcolor": "white",
           "lakecolor": "white",
           "landcolor": "#E5ECF6",
           "showlakes": true,
           "showland": true,
           "subunitcolor": "white"
          },
          "hoverlabel": {
           "align": "left"
          },
          "hovermode": "closest",
          "mapbox": {
           "style": "light"
          },
          "paper_bgcolor": "white",
          "plot_bgcolor": "#E5ECF6",
          "polar": {
           "angularaxis": {
            "gridcolor": "white",
            "linecolor": "white",
            "ticks": ""
           },
           "bgcolor": "#E5ECF6",
           "radialaxis": {
            "gridcolor": "white",
            "linecolor": "white",
            "ticks": ""
           }
          },
          "scene": {
           "xaxis": {
            "backgroundcolor": "#E5ECF6",
            "gridcolor": "white",
            "gridwidth": 2,
            "linecolor": "white",
            "showbackground": true,
            "ticks": "",
            "zerolinecolor": "white"
           },
           "yaxis": {
            "backgroundcolor": "#E5ECF6",
            "gridcolor": "white",
            "gridwidth": 2,
            "linecolor": "white",
            "showbackground": true,
            "ticks": "",
            "zerolinecolor": "white"
           },
           "zaxis": {
            "backgroundcolor": "#E5ECF6",
            "gridcolor": "white",
            "gridwidth": 2,
            "linecolor": "white",
            "showbackground": true,
            "ticks": "",
            "zerolinecolor": "white"
           }
          },
          "shapedefaults": {
           "line": {
            "color": "#2a3f5f"
           }
          },
          "ternary": {
           "aaxis": {
            "gridcolor": "white",
            "linecolor": "white",
            "ticks": ""
           },
           "baxis": {
            "gridcolor": "white",
            "linecolor": "white",
            "ticks": ""
           },
           "bgcolor": "#E5ECF6",
           "caxis": {
            "gridcolor": "white",
            "linecolor": "white",
            "ticks": ""
           }
          },
          "title": {
           "x": 0.05
          },
          "xaxis": {
           "automargin": true,
           "gridcolor": "white",
           "linecolor": "white",
           "ticks": "",
           "title": {
            "standoff": 15
           },
           "zerolinecolor": "white",
           "zerolinewidth": 2
          },
          "yaxis": {
           "automargin": true,
           "gridcolor": "white",
           "linecolor": "white",
           "ticks": "",
           "title": {
            "standoff": 15
           },
           "zerolinecolor": "white",
           "zerolinewidth": 2
          }
         }
        },
        "title": {
         "text": "Figure 4 - R<sup>2</sup> values across studies"
        },
        "width": 650
       }
      },
      "text/html": "<div>\n        \n        \n            <div id=\"a183f0ba-315b-483f-a502-cc4504c6e4b2\" class=\"plotly-graph-div\" style=\"height:600px; width:650px;\"></div>\n            <script type=\"text/javascript\">\n                require([\"plotly\"], function(Plotly) {\n                    window.PLOTLYENV=window.PLOTLYENV || {};\n                    \n                if (document.getElementById(\"a183f0ba-315b-483f-a502-cc4504c6e4b2\")) {\n                    Plotly.newPlot(\n                        'a183f0ba-315b-483f-a502-cc4504c6e4b2',\n                        [{\"branchvalues\": \"total\", \"hoverinfo\": \"text\", \"hovertext\": [\"Abe et al., 2019<br>R<sup>2</sup>: 0.0121<br>Number of samples: 60.0\", \"Abe et al., 2019<br>R<sup>2</sup>: 0.1024<br>Number of samples: 60.0\", \"Abe et al., 2019<br>R<sup>2</sup>: 0.1681<br>Number of samples: 60.0\", \"Aojula et al., 2016<br>R<sup>2</sup>: 0.1296<br>Number of samples: 17.0\", \"Aojula et al., 2016<br>R<sup>2</sup>: 0.1197<br>Number of samples: 17.0\", \"Aojula et al., 2016<br>R<sup>2</sup>: 0.245<br>Number of samples: 17.0\", \"Aojula et al., 2016<br>R<sup>2</sup>: 0.2097<br>Number of samples: 17.0\", \"Beckmann et al., 2018<br>R<sup>2</sup>: 0.7668<br>Number of samples: 20.0\", \"Berman et al., 2018<br>R<sup>2</sup>: 0.74<br>Number of samples: 4.0\", \"Chandran et al., 2012<br>R<sup>2</sup>: 0.5<br>Number of samples: 20.0\", \"Chandran et al., 2012<br>R<sup>2</sup>: 0.34<br>Number of samples: 20.0\", \"Chang et al., 2017<br>R<sup>2</sup>: 0.1482<br>Number of samples: 56.0\", \"Chang et al., 2017<br>R<sup>2</sup>: 0.1989<br>Number of samples: 56.0\", \"Chang et al., 2017<br>R<sup>2</sup>: 0.0129<br>Number of samples: 56.0\", \"Chang et al., 2017<br>R<sup>2</sup>: 0.038<br>Number of samples: 56.0\", \"Duhamel et al., 2019<br>R<sup>2</sup>: 0.78<br>Number of samples: 21.0\", \"Duhamel et al., 2019<br>R<sup>2</sup>: 0.96<br>Number of samples: 21.0\", \"Fatemi et al., 2011<br>R<sup>2</sup>: 0.695<br>Number of samples: 600.0\", \"Fjaer et al., 2013<br>R<sup>2</sup>: 0.338<br>Number of samples: 54.0\", \"Fjaer et al., 2015<br>R<sup>2</sup>: 0.01<br>Number of samples: 24.0\", \"Guglielmetti et al., 2020<br>R<sup>2</sup>: 0.46<br>Number of samples: 9.0\", \"Guglielmetti et al., 2020<br>R<sup>2</sup>: 0.76<br>Number of samples: 9.0\", \"Hakkarainen et al., 2016<br>R<sup>2</sup>: 0.34<br>Number of samples: 60.0\", \"Hakkarainen et al., 2016<br>R<sup>2</sup>: 0.84<br>Number of samples: 60.0\", \"Hakkarainen et al., 2016<br>R<sup>2</sup>: 0.77<br>Number of samples: 60.0\", \"Hakkarainen et al., 2016<br>R<sup>2</sup>: 0.63<br>Number of samples: 60.0\", \"Hakkarainen et al., 2016<br>R<sup>2</sup>: 0.18<br>Number of samples: 60.0\", \"Hakkarainen et al., 2016<br>R<sup>2</sup>: 0.34<br>Number of samples: 60.0\", \"Hametner et al., 2018<br>R<sup>2</sup>: 0.1239<br>Number of samples: 474.0\", \"Hametner et al., 2018<br>R<sup>2</sup>: 0.0007<br>Number of samples: 474.0\", \"Hametner et al., 2018<br>R<sup>2</sup>: 0.3398<br>Number of samples: 474.0\", \"Janve et al., 2013<br>R<sup>2</sup>: 0.0064<br>Number of samples: 48.0\", \"Janve et al., 2013<br>R<sup>2</sup>: 0.0729<br>Number of samples: 48.0\", \"Janve et al., 2013<br>R<sup>2</sup>: 0.0784<br>Number of samples: 48.0\", \"Janve et al., 2013<br>R<sup>2</sup>: 0.7225<br>Number of samples: 48.0\", \"Janve et al., 2013<br>R<sup>2</sup>: 0.0961<br>Number of samples: 48.0\", \"Janve et al., 2013<br>R<sup>2</sup>: 0.2401<br>Number of samples: 48.0\", \"Janve et al., 2013<br>R<sup>2</sup>: 0.0256<br>Number of samples: 48.0\", \"Jelescu et al., 2016<br>R<sup>2</sup>: 0.3025<br>Number of samples: 21.0\", \"Jelescu et al., 2016<br>R<sup>2</sup>: 0.1024<br>Number of samples: 21.0\", \"Jelescu et al., 2016<br>R<sup>2</sup>: 0.5041<br>Number of samples: 21.0\", \"Jelescu et al., 2016<br>R<sup>2</sup>: 0.25<br>Number of samples: 21.0\", \"Jelescu et al., 2016<br>R<sup>2</sup>: 0.0196<br>Number of samples: 21.0\", \"Jelescu et al., 2016<br>R<sup>2</sup>: 0.4096<br>Number of samples: 21.0\", \"Jito et al., 2008<br>R<sup>2</sup>: 0.7327<br>Number of samples: 36.0\", \"Kelm et al., 2016<br>R<sup>2</sup>: 0.3364<br>Number of samples: 78.0\", \"Kelm et al., 2016<br>R<sup>2</sup>: 0.1225<br>Number of samples: 78.0\", \"Kelm et al., 2016<br>R<sup>2</sup>: 0.2304<br>Number of samples: 78.0\", \"Kelm et al., 2016<br>R<sup>2</sup>: 0.1369<br>Number of samples: 78.0\", \"Kelm et al., 2016<br>R<sup>2</sup>: 0.2401<br>Number of samples: 78.0\", \"Khodanovic et al., 2017<br>R<sup>2</sup>: 0.779<br>Number of samples: 112.0\", \"Khodanovic et al., 2019<br>R<sup>2</sup>: 0.82<br>Number of samples: 13.0\", \"Laule et al., 2006<br>R<sup>2</sup>: 0.67<br>Number of samples: 572.0\", \"Laule et al., 2008<br>R<sup>2</sup>: 0.78<br>Number of samples: 219.0\", \"Lehto et al., 2017a<br>R<sup>2</sup>: 0.4199<br>Number of samples: 80.0\", \"Lehto et al., 2017a<br>R<sup>2</sup>: 0.2237<br>Number of samples: 80.0\", \"Lehto et al., 2017a<br>R<sup>2</sup>: 0.3492<br>Number of samples: 80.0\", \"Lehto et al., 2017a<br>R<sup>2</sup>: 0.5169<br>Number of samples: 80.0\", \"Lehto et al., 2017a<br>R<sup>2</sup>: 0.552<br>Number of samples: 80.0\", \"Lehto et al., 2017a<br>R<sup>2</sup>: 0.0015<br>Number of samples: 80.0\", \"Lehto et al., 2017a<br>R<sup>2</sup>: 0.49<br>Number of samples: 80.0\", \"Lehto et al., 2017b<br>R<sup>2</sup>: 0.94<br>Number of samples: 32.0\", \"Mollink et al., 2019<br>R<sup>2</sup>: 0.2704<br>Number of samples: 18.0\", \"Pol et al., 2019<br>R<sup>2</sup>: 0.0576<br>Number of samples: 11.0\", \"Pol et al., 2019<br>R<sup>2</sup>: 0.3481<br>Number of samples: 11.0\", \"Pol et al., 2019<br>R<sup>2</sup>: 0.0361<br>Number of samples: 11.0\", \"Reeves et al., 2016<br>R<sup>2</sup>: 0.27<br>Number of samples: 39.0\", \"Reeves et al., 2016<br>R<sup>2</sup>: 0.235<br>Number of samples: 39.0\", \"Schmierer et al., 2004<br>R<sup>2</sup>: 0.7055999999999999<br>Number of samples: 60.0\", \"Schmierer et al., 2004<br>R<sup>2</sup>: 0.48999999999999994<br>Number of samples: 60.0\", \"Schmierer et al., 2007a<br>R<sup>2</sup>: 0.6400000000000001<br>Number of samples: 111.0\", \"Schmierer et al., 2007a<br>R<sup>2</sup>: 0.7055999999999999<br>Number of samples: 111.0\", \"Schmierer et al., 2007a<br>R<sup>2</sup>: 0.4760999999999999<br>Number of samples: 111.0\", \"Schmierer et al., 2007a<br>R<sup>2</sup>: 0.0001<br>Number of samples: 111.0\", \"Schmierer et al., 2007b<br>R<sup>2</sup>: 0.6241000000000001<br>Number of samples: 48.0\", \"Schmierer et al., 2007b<br>R<sup>2</sup>: 0.4624000000000001<br>Number of samples: 48.0\", \"Schmierer et al., 2008<br>R<sup>2</sup>: 0.64<br>Number of samples: 30.0\", \"Schmierer et al., 2008<br>R<sup>2</sup>: 0.6889<br>Number of samples: 30.0\", \"Schmierer et al., 2008<br>R<sup>2</sup>: 0.6084<br>Number of samples: 30.0\", \"Schmierer et al., 2008<br>R<sup>2</sup>: 0.7396<br>Number of samples: 30.0\", \"Schmierer et al., 2008<br>R<sup>2</sup>: 0.4624<br>Number of samples: 30.0\", \"Schmierer et al., 2008<br>R<sup>2</sup>: 0.6561<br>Number of samples: 30.0\", \"Schmierer et al., 2008<br>R<sup>2</sup>: 0.7921<br>Number of samples: 30.0\", \"Schmierer et al., 2008<br>R<sup>2</sup>: 0.8464<br>Number of samples: 30.0\", \"Soustelle et al., 2019<br>R<sup>2</sup>: 0.7569<br>Number of samples: 15.0\", \"Soustelle et al., 2019<br>R<sup>2</sup>: 0.4624<br>Number of samples: 15.0\", \"Soustelle et al., 2019<br>R<sup>2</sup>: 0.49<br>Number of samples: 15.0\", \"Soustelle et al., 2019<br>R<sup>2</sup>: 0.7396<br>Number of samples: 15.0\", \"Tardif et al., 2012<br>R<sup>2</sup>: 0.36<br>Number of samples: 18.0\", \"Tardif et al., 2012<br>R<sup>2</sup>: 0.3481<br>Number of samples: 18.0\", \"Tardif et al., 2012<br>R<sup>2</sup>: 0.5929<br>Number of samples: 18.0\", \"Tardif et al., 2012<br>R<sup>2</sup>: 0.4225<br>Number of samples: 18.0\", \"Thiessen et al., 2013<br>R<sup>2</sup>: 0.5625<br>Number of samples: 10.0\", \"Thiessen et al., 2013<br>R<sup>2</sup>: 0.7056<br>Number of samples: 10.0\", \"Thiessen et al., 2013<br>R<sup>2</sup>: 0.6561<br>Number of samples: 10.0\", \"Thiessen et al., 2013<br>R<sup>2</sup>: 0.8649<br>Number of samples: 10.0\", \"Thiessen et al., 2013<br>R<sup>2</sup>: 0.4356<br>Number of samples: 10.0\", \"Thiessen et al., 2013<br>R<sup>2</sup>: 0.7569<br>Number of samples: 10.0\", \"Thiessen et al., 2013<br>R<sup>2</sup>: 0.4356<br>Number of samples: 10.0\", \"Thiessen et al., 2013<br>R<sup>2</sup>: 0.0676<br>Number of samples: 10.0\", \"Thiessen et al., 2013<br>R<sup>2</sup>: 0.36<br>Number of samples: 10.0\", \"Thiessen et al., 2013<br>R<sup>2</sup>: 0.1521<br>Number of samples: 10.0\", \"Thiessen et al., 2013<br>R<sup>2</sup>: 0.1089<br>Number of samples: 10.0\", \"Thiessen et al., 2013<br>R<sup>2</sup>: 0.6724<br>Number of samples: 10.0\", \"Tu et al., 2016<br>R<sup>2</sup>: 0.0001<br>Number of samples: 25.0\", \"Tu et al., 2016<br>R<sup>2</sup>: 0.0169<br>Number of samples: 25.0\", \"Tu et al., 2016<br>R<sup>2</sup>: 0.0289<br>Number of samples: 25.0\", \"Tu et al., 2016<br>R<sup>2</sup>: 0.1444<br>Number of samples: 25.0\", \"Tu et al., 2016<br>R<sup>2</sup>: 0.2116<br>Number of samples: 25.0\", \"Turati et al., 2015<br>R<sup>2</sup>: 0.2872<br>Number of samples: 15.0\", \"Underhill et al., 2011<br>R<sup>2</sup>: 0.9801<br>Number of samples: 9.0\", \"Wang et al., 2009<br>R<sup>2</sup>: 0.4637<br>Number of samples: 15.0\", \"Wang et al., 2009<br>R<sup>2</sup>: 0.2787<br>Number of samples: 15.0\", \"Wendel et al., 2018<br>R<sup>2</sup>: 0.1987<br>Number of samples: 36.0\", \"Wendel et al., 2018<br>R<sup>2</sup>: 0.5707<br>Number of samples: 36.0\", \"Wendel et al., 2018<br>R<sup>2</sup>: 0.0564<br>Number of samples: 36.0\", \"Wendel et al., 2018<br>R<sup>2</sup>: 0.2973<br>Number of samples: 36.0\", \"West et al., 2018<br>R<sup>2</sup>: 0.7<br>Number of samples: 60.0\", \"West et al., 2018<br>R<sup>2</sup>: 0.7<br>Number of samples: 60.0\", \"West et al., 2018<br>R<sup>2</sup>: 0.68<br>Number of samples: 60.0\", \"West et al., 2018<br>R<sup>2</sup>: 0.66<br>Number of samples: 60.0\", \"Wu et al., 2008<br>R<sup>2</sup>: 0.5184<br>Number of samples: 24.0\", \"Yano et al., 2018<br>R<sup>2</sup>: 0.7569<br>Number of samples: 21.0\", \"Yano et al., 2018<br>R<sup>2</sup>: 0.5329<br>Number of samples: 21.0\", \"Yano et al., 2018<br>R<sup>2</sup>: 0.8281<br>Number of samples: 21.0\", \"Zaaraoui et al., 2008<br>R<sup>2</sup>: 0.6241000000000001<br>Number of samples: 16.0\", \"van Tilborg et al., 2017<br>R<sup>2</sup>: 0.334<br>Number of samples: 12.0\"], \"ids\": [\"AD/Abe et al., 2019\", \"FA/Abe et al., 2019\", \"RD/Abe et al., 2019\", \"AD/Aojula et al., 2016\", \"FA/Aojula et al., 2016\", \"MD/Aojula et al., 2016\", \"RD/Aojula et al., 2016\", \"MTR/Beckmann et al., 2018\", \"MTV/Berman et al., 2018\", \"FA/Chandran et al., 2012\", \"RD/Chandran et al., 2012\", \"AD/Chang et al., 2017\", \"FA/Chang et al., 2017\", \"MD/Chang et al., 2017\", \"RD/Chang et al., 2017\", \"MTR/Duhamel et al., 2019\", \"ihMTR/Duhamel et al., 2019\", \"MTR/Fatemi et al., 2011\", \"MTR/Fjaer et al., 2013\", \"MTR/Fjaer et al., 2015\", \"MTR/Guglielmetti et al., 2020\", \"MTR-UTE/Guglielmetti et al., 2020\", \"MTR/Hakkarainen et al., 2016\", \"RAFF/Hakkarainen et al., 2016\", \"T1/Hakkarainen et al., 2016\", \"T1p/Hakkarainen et al., 2016\", \"T2/Hakkarainen et al., 2016\", \"T2p/Hakkarainen et al., 2016\", \"QSM/Hametner et al., 2018\", \"R2*/Hametner et al., 2018\", \"T1/Hametner et al., 2018\", \"AD/Janve et al., 2013\", \"FA/Janve et al., 2013\", \"MD/Janve et al., 2013\", \"MPF/Janve et al., 2013\", \"R1f/Janve et al., 2013\", \"RD/Janve et al., 2013\", \"k_mf/Janve et al., 2013\", \"AWF/Jelescu et al., 2016\", \"MTR/Jelescu et al., 2016\", \"RD/Jelescu et al., 2016\", \"RDe/Jelescu et al., 2016\", \"RK/Jelescu et al., 2016\", \"T2/Jelescu et al., 2016\", \"FA/Jito et al., 2008\", \"AWF/Kelm et al., 2016\", \"MD/Kelm et al., 2016\", \"MK/Kelm et al., 2016\", \"RD/Kelm et al., 2016\", \"RK/Kelm et al., 2016\", \"MPF/Khodanovic et al., 2017\", \"MPF/Khodanovic et al., 2019\", \"MWF/Laule et al., 2006\", \"MWF/Laule et al., 2008\", \"AD/Lehto et al., 2017a\", \"FA/Lehto et al., 2017a\", \"MD/Lehto et al., 2017a\", \"MTR/Lehto et al., 2017a\", \"RAFF/Lehto et al., 2017a\", \"RD/Lehto et al., 2017a\", \"T1sat/Lehto et al., 2017a\", \"MTR/Lehto et al., 2017b\", \"FA/Mollink et al., 2019\", \"FA/Pol et al., 2019\", \"MD/Pol et al., 2019\", \"QSM/Pol et al., 2019\", \"T1/Reeves et al., 2016\", \"T2/Reeves et al., 2016\", \"MTR/Schmierer et al., 2004\", \"T1/Schmierer et al., 2004\", \"MPF/Schmierer et al., 2007a\", \"MTR/Schmierer et al., 2007a\", \"T1/Schmierer et al., 2007a\", \"T2m/Schmierer et al., 2007a\", \"FA/Schmierer et al., 2007b\", \"MD/Schmierer et al., 2007b\", \"AD/Schmierer et al., 2008\", \"FA/Schmierer et al., 2008\", \"MD/Schmierer et al., 2008\", \"MPF/Schmierer et al., 2008\", \"MTR/Schmierer et al., 2008\", \"RD/Schmierer et al., 2008\", \"T1/Schmierer et al., 2008\", \"T2/Schmierer et al., 2008\", \"MPF/Soustelle et al., 2019\", \"MWF/Soustelle et al., 2019\", \"RD/Soustelle et al., 2019\", \"rSPF/Soustelle et al., 2019\", \"MTR/Tardif et al., 2012\", \"PD/Tardif et al., 2012\", \"T1/Tardif et al., 2012\", \"T2/Tardif et al., 2012\", \"AD/Thiessen et al., 2013\", \"FA/Thiessen et al., 2013\", \"MD/Thiessen et al., 2013\", \"MPF/Thiessen et al., 2013\", \"R1f/Thiessen et al., 2013\", \"RD/Thiessen et al., 2013\", \"T1/Thiessen et al., 2013\", \"T2/Thiessen et al., 2013\", \"T2f/Thiessen et al., 2013\", \"T2m/Thiessen et al., 2013\", \"k_fm/Thiessen et al., 2013\", \"k_mf/Thiessen et al., 2013\", \"AD/Tu et al., 2016\", \"FA/Tu et al., 2016\", \"MD/Tu et al., 2016\", \"MTR/Tu et al., 2016\", \"RD/Tu et al., 2016\", \"MPF/Turati et al., 2015\", \"MPF/Underhill et al., 2011\", \"FA/Wang et al., 2009\", \"RD/Wang et al., 2009\", \"AD/Wendel et al., 2018\", \"FA/Wendel et al., 2018\", \"MD/Wendel et al., 2018\", \"RD/Wendel et al., 2018\", \"MPF/West et al., 2018\", \"MVF-MT/West et al., 2018\", \"MVF-T2/West et al., 2018\", \"MWF/West et al., 2018\", \"T2/Wu et al., 2008\", \"FA/Yano et al., 2018\", \"MD/Yano et al., 2018\", \"RD/Yano et al., 2018\", \"MTR/Zaaraoui et al., 2008\", \"FA/van Tilborg et al., 2017\", \"AD\", \"AWF\", \"FA\", \"MD\", \"MK\", \"MPF\", \"MTR\", \"MTR-UTE\", \"MTV\", \"MVF-MT\", \"MVF-T2\", \"MWF\", \"PD\", \"QSM\", \"R1f\", \"R2*\", \"RAFF\", \"RD\", \"RDe\", \"RK\", \"T1\", \"T1p\", \"T1sat\", \"T2\", \"T2f\", \"T2m\", \"T2p\", \"ihMTR\", \"k_fm\", \"k_mf\", \"rSPF\"], \"labels\": [\"Abe et al., 2019\", \"Abe et al., 2019\", \"Abe et al., 2019\", \"Aojula et al., 2016\", \"Aojula et al., 2016\", \"Aojula et al., 2016\", \"Aojula et al., 2016\", \"Beckmann et al., 2018\", \"Berman et al., 2018\", \"Chandran et al., 2012\", \"Chandran et al., 2012\", \"Chang et al., 2017\", \"Chang et al., 2017\", \"Chang et al., 2017\", \"Chang et al., 2017\", \"Duhamel et al., 2019\", \"Duhamel et al., 2019\", \"Fatemi et al., 2011\", \"Fjaer et al., 2013\", \"Fjaer et al., 2015\", \"Guglielmetti et al., 2020\", \"Guglielmetti et al., 2020\", \"Hakkarainen et al., 2016\", \"Hakkarainen et al., 2016\", \"Hakkarainen et al., 2016\", \"Hakkarainen et al., 2016\", \"Hakkarainen et al., 2016\", \"Hakkarainen et al., 2016\", \"Hametner et al., 2018\", \"Hametner et al., 2018\", \"Hametner et al., 2018\", \"Janve et al., 2013\", \"Janve et al., 2013\", \"Janve et al., 2013\", \"Janve et al., 2013\", \"Janve et al., 2013\", \"Janve et al., 2013\", \"Janve et al., 2013\", \"Jelescu et al., 2016\", \"Jelescu et al., 2016\", \"Jelescu et al., 2016\", \"Jelescu et al., 2016\", \"Jelescu et al., 2016\", \"Jelescu et al., 2016\", \"Jito et al., 2008\", \"Kelm et al., 2016\", \"Kelm et al., 2016\", \"Kelm et al., 2016\", \"Kelm et al., 2016\", \"Kelm et al., 2016\", \"Khodanovic et al., 2017\", \"Khodanovic et al., 2019\", \"Laule et al., 2006\", \"Laule et al., 2008\", \"Lehto et al., 2017a\", \"Lehto et al., 2017a\", \"Lehto et al., 2017a\", \"Lehto et al., 2017a\", \"Lehto et al., 2017a\", \"Lehto et al., 2017a\", \"Lehto et al., 2017a\", \"Lehto et al., 2017b\", \"Mollink et al., 2019\", \"Pol et al., 2019\", \"Pol et al., 2019\", \"Pol et al., 2019\", \"Reeves et al., 2016\", \"Reeves et al., 2016\", \"Schmierer et al., 2004\", \"Schmierer et al., 2004\", \"Schmierer et al., 2007a\", \"Schmierer et al., 2007a\", \"Schmierer et al., 2007a\", \"Schmierer et al., 2007a\", \"Schmierer et al., 2007b\", \"Schmierer et al., 2007b\", \"Schmierer et al., 2008\", \"Schmierer et al., 2008\", \"Schmierer et al., 2008\", \"Schmierer et al., 2008\", \"Schmierer et al., 2008\", \"Schmierer et al., 2008\", \"Schmierer et al., 2008\", \"Schmierer et al., 2008\", \"Soustelle et al., 2019\", \"Soustelle et al., 2019\", \"Soustelle et al., 2019\", \"Soustelle et al., 2019\", \"Tardif et al., 2012\", \"Tardif et al., 2012\", \"Tardif et al., 2012\", \"Tardif et al., 2012\", \"Thiessen et al., 2013\", \"Thiessen et al., 2013\", \"Thiessen et al., 2013\", \"Thiessen et al., 2013\", \"Thiessen et al., 2013\", \"Thiessen et al., 2013\", \"Thiessen et al., 2013\", \"Thiessen et al., 2013\", \"Thiessen et al., 2013\", \"Thiessen et al., 2013\", \"Thiessen et al., 2013\", \"Thiessen et al., 2013\", \"Tu et al., 2016\", \"Tu et al., 2016\", \"Tu et al., 2016\", \"Tu et al., 2016\", \"Tu et al., 2016\", \"Turati et al., 2015\", \"Underhill et al., 2011\", \"Wang et al., 2009\", \"Wang et al., 2009\", \"Wendel et al., 2018\", \"Wendel et al., 2018\", \"Wendel et al., 2018\", \"Wendel et al., 2018\", \"West et al., 2018\", \"West et al., 2018\", \"West et al., 2018\", \"West et al., 2018\", \"Wu et al., 2008\", \"Yano et al., 2018\", \"Yano et al., 2018\", \"Yano et al., 2018\", \"Zaaraoui et al., 2008\", \"van Tilborg et al., 2017\", \"AD\", \"AWF\", \"FA\", \"MD\", \"MK\", \"MPF\", \"MTR\", \"MTR-UTE\", \"MTV\", \"MVF-MT\", \"MVF-T2\", \"MWF\", \"PD\", \"QSM\", \"R1f\", \"R2*\", \"RAFF\", \"RD\", \"RDe\", \"RK\", \"T1\", \"T1p\", \"T1sat\", \"T2\", \"T2f\", \"T2m\", \"T2p\", \"ihMTR\", \"k_fm\", \"k_mf\", \"rSPF\"], \"marker\": {\"colorbar\": {\"title\": {\"text\": \"R<sup>2</sup>\"}}, \"colors\": [0.0121, 0.1024, 0.1681, 0.1296, 0.1197, 0.245, 0.2097, 0.7668, 0.74, 0.5, 0.34, 0.1482, 0.1989, 0.0129, 0.038, 0.78, 0.96, 0.695, 0.338, 0.01, 0.46, 0.76, 0.34, 0.84, 0.77, 0.63, 0.18, 0.34, 0.1239, 0.0007, 0.3398, 0.0064, 0.0729, 0.0784, 0.7225, 0.0961, 0.2401, 0.0256, 0.3025, 0.1024, 0.5041, 0.25, 0.0196, 0.4096, 0.7327, 0.3364, 0.1225, 0.2304, 0.1369, 0.2401, 0.779, 0.82, 0.67, 0.78, 0.4199, 0.2237, 0.3492, 0.5169, 0.552, 0.0015, 0.49, 0.94, 0.2704, 0.0576, 0.3481, 0.0361, 0.27, 0.235, 0.7055999999999999, 0.48999999999999994, 0.6400000000000001, 0.7055999999999999, 0.4760999999999999, 0.0001, 0.6241000000000001, 0.4624000000000001, 0.64, 0.6889, 0.6084, 0.7396, 0.4624, 0.6561, 0.7921, 0.8464, 0.7569, 0.4624, 0.49, 0.7396, 0.36, 0.3481, 0.5929, 0.4225, 0.5625, 0.7056, 0.6561, 0.8649, 0.4356, 0.7569, 0.4356, 0.0676, 0.36, 0.1521, 0.1089, 0.6724, 0.0001, 0.0169, 0.0289, 0.1444, 0.2116, 0.2872, 0.9801, 0.4637, 0.2787, 0.1987, 0.5707, 0.0564, 0.2973, 0.7, 0.7, 0.68, 0.66, 0.5184, 0.7569, 0.5329, 0.8281, 0.6241000000000001, 0.334], \"colorscale\": [[0.0, \"#440154\"], [0.1111111111111111, \"#482878\"], [0.2222222222222222, \"#3e4989\"], [0.3333333333333333, \"#31688e\"], [0.4444444444444444, \"#26828e\"], [0.5555555555555556, \"#1f9e89\"], [0.6666666666666666, \"#35b779\"], [0.7777777777777778, \"#6ece58\"], [0.8888888888888888, \"#b5de2b\"], [1.0, \"#fde725\"]], \"showscale\": true}, \"parents\": [\"AD\", \"FA\", \"RD\", \"AD\", \"FA\", \"MD\", \"RD\", \"MTR\", \"MTV\", \"FA\", \"RD\", \"AD\", \"FA\", \"MD\", \"RD\", \"MTR\", \"ihMTR\", \"MTR\", \"MTR\", \"MTR\", \"MTR\", \"MTR-UTE\", \"MTR\", \"RAFF\", \"T1\", \"T1p\", \"T2\", \"T2p\", \"QSM\", \"R2*\", \"T1\", \"AD\", \"FA\", \"MD\", \"MPF\", \"R1f\", \"RD\", \"k_mf\", \"AWF\", \"MTR\", \"RD\", \"RDe\", \"RK\", \"T2\", \"FA\", \"AWF\", \"MD\", \"MK\", \"RD\", \"RK\", \"MPF\", \"MPF\", \"MWF\", \"MWF\", \"AD\", \"FA\", \"MD\", \"MTR\", \"RAFF\", \"RD\", \"T1sat\", \"MTR\", \"FA\", \"FA\", \"MD\", \"QSM\", \"T1\", \"T2\", \"MTR\", \"T1\", \"MPF\", \"MTR\", \"T1\", \"T2m\", \"FA\", \"MD\", \"AD\", \"FA\", \"MD\", \"MPF\", \"MTR\", \"RD\", \"T1\", \"T2\", \"MPF\", \"MWF\", \"RD\", \"rSPF\", \"MTR\", \"PD\", \"T1\", \"T2\", \"AD\", \"FA\", \"MD\", \"MPF\", \"R1f\", \"RD\", \"T1\", \"T2\", \"T2f\", \"T2m\", \"k_fm\", \"k_mf\", \"AD\", \"FA\", \"MD\", \"MTR\", \"RD\", \"MPF\", \"MPF\", \"FA\", \"RD\", \"AD\", \"FA\", \"MD\", \"RD\", \"MPF\", \"MVF-MT\", \"MVF-T2\", \"MWF\", \"T2\", \"FA\", \"MD\", \"RD\", \"MTR\", \"FA\", \"\", \"\", \"\", \"\", \"\", \"\", \"\", \"\", \"\", \"\", \"\", \"\", \"\", \"\", \"\", \"\", \"\", \"\", \"\", \"\", \"\", \"\", \"\", \"\", \"\", \"\", \"\", \"\", \"\", \"\", \"\"], \"text\": [\"R<sup>2</sup>: 0.0121<br>Measure: AD<br>Number of subjects: 5.0<br>ROIs per subject: 12.0<br>Total number of samples: 60.0\", \"R<sup>2</sup>: 0.1024<br>Measure: FA<br>Number of subjects: 5.0<br>ROIs per subject: 12.0<br>Total number of samples: 60.0\", \"R<sup>2</sup>: 0.1681<br>Measure: RD<br>Number of subjects: 5.0<br>ROIs per subject: 12.0<br>Total number of samples: 60.0\", \"R<sup>2</sup>: 0.1296<br>Measure: AD<br>Number of subjects: 17.0<br>ROIs per subject: 1.0<br>Total number of samples: 17.0\", \"R<sup>2</sup>: 0.1197<br>Measure: FA<br>Number of subjects: 17.0<br>ROIs per subject: 1.0<br>Total number of samples: 17.0\", \"R<sup>2</sup>: 0.245<br>Measure: MD<br>Number of subjects: 17.0<br>ROIs per subject: 1.0<br>Total number of samples: 17.0\", \"R<sup>2</sup>: 0.2097<br>Measure: RD<br>Number of subjects: 17.0<br>ROIs per subject: 1.0<br>Total number of samples: 17.0\", \"R<sup>2</sup>: 0.7668<br>Measure: MTR<br>Number of subjects: 20.0<br>ROIs per subject: 1.0<br>Total number of samples: 20.0\", \"R<sup>2</sup>: 0.74<br>Measure: MTV<br>Number of subjects: 4.0<br>ROIs per subject: 1.0<br>Total number of samples: 4.0\", \"R<sup>2</sup>: 0.5<br>Measure: FA<br>Number of subjects: 20.0<br>ROIs per subject: 1.0<br>Total number of samples: 20.0\", \"R<sup>2</sup>: 0.34<br>Measure: RD<br>Number of subjects: 20.0<br>ROIs per subject: 1.0<br>Total number of samples: 20.0\", \"R<sup>2</sup>: 0.1482<br>Measure: AD<br>Number of subjects: 4.0<br>ROIs per subject: 14.0<br>Total number of samples: 56.0\", \"R<sup>2</sup>: 0.1989<br>Measure: FA<br>Number of subjects: 4.0<br>ROIs per subject: 14.0<br>Total number of samples: 56.0\", \"R<sup>2</sup>: 0.0129<br>Measure: MD<br>Number of subjects: 4.0<br>ROIs per subject: 14.0<br>Total number of samples: 56.0\", \"R<sup>2</sup>: 0.038<br>Measure: RD<br>Number of subjects: 4.0<br>ROIs per subject: 14.0<br>Total number of samples: 56.0\", \"R<sup>2</sup>: 0.78<br>Measure: MTR<br>Number of subjects: 3.0<br>ROIs per subject: 7.0<br>Total number of samples: 21.0\", \"R<sup>2</sup>: 0.96<br>Measure: ihMTR<br>Number of subjects: 3.0<br>ROIs per subject: 7.0<br>Total number of samples: 21.0\", \"R<sup>2</sup>: 0.695<br>Measure: MTR<br>Number of subjects: 24.0<br>ROIs per subject: 25.0<br>Total number of samples: 600.0\", \"R<sup>2</sup>: 0.338<br>Measure: MTR<br>Number of subjects: 54.0<br>ROIs per subject: 1.0<br>Total number of samples: 54.0\", \"R<sup>2</sup>: 0.01<br>Measure: MTR<br>Number of subjects: 24.0<br>ROIs per subject: 1.0<br>Total number of samples: 24.0\", \"R<sup>2</sup>: 0.46<br>Measure: MTR<br>Number of subjects: 1.0<br>ROIs per subject: 9.0<br>Total number of samples: 9.0\", \"R<sup>2</sup>: 0.76<br>Measure: MTR-UTE<br>Number of subjects: 1.0<br>ROIs per subject: 9.0<br>Total number of samples: 9.0\", \"R<sup>2</sup>: 0.34<br>Measure: MTR<br>Number of subjects: 5.0<br>ROIs per subject: 12.0<br>Total number of samples: 60.0\", \"R<sup>2</sup>: 0.84<br>Measure: RAFF<br>Number of subjects: 5.0<br>ROIs per subject: 12.0<br>Total number of samples: 60.0\", \"R<sup>2</sup>: 0.77<br>Measure: T1<br>Number of subjects: 5.0<br>ROIs per subject: 12.0<br>Total number of samples: 60.0\", \"R<sup>2</sup>: 0.63<br>Measure: T1p<br>Number of subjects: 5.0<br>ROIs per subject: 12.0<br>Total number of samples: 60.0\", \"R<sup>2</sup>: 0.18<br>Measure: T2<br>Number of subjects: 5.0<br>ROIs per subject: 12.0<br>Total number of samples: 60.0\", \"R<sup>2</sup>: 0.34<br>Measure: T2p<br>Number of subjects: 5.0<br>ROIs per subject: 12.0<br>Total number of samples: 60.0\", \"R<sup>2</sup>: 0.1239<br>Measure: QSM<br>Number of subjects: 6.0<br>ROIs per subject: 79.0<br>Total number of samples: 474.0\", \"R<sup>2</sup>: 0.0007<br>Measure: R2*<br>Number of subjects: 6.0<br>ROIs per subject: 79.0<br>Total number of samples: 474.0\", \"R<sup>2</sup>: 0.3398<br>Measure: T1<br>Number of subjects: 6.0<br>ROIs per subject: 79.0<br>Total number of samples: 474.0\", \"R<sup>2</sup>: 0.0064<br>Measure: AD<br>Number of subjects: 8.0<br>ROIs per subject: 6.0<br>Total number of samples: 48.0\", \"R<sup>2</sup>: 0.0729<br>Measure: FA<br>Number of subjects: 8.0<br>ROIs per subject: 6.0<br>Total number of samples: 48.0\", \"R<sup>2</sup>: 0.0784<br>Measure: MD<br>Number of subjects: 8.0<br>ROIs per subject: 6.0<br>Total number of samples: 48.0\", \"R<sup>2</sup>: 0.7225<br>Measure: MPF<br>Number of subjects: 8.0<br>ROIs per subject: 6.0<br>Total number of samples: 48.0\", \"R<sup>2</sup>: 0.0961<br>Measure: R1f<br>Number of subjects: 8.0<br>ROIs per subject: 6.0<br>Total number of samples: 48.0\", \"R<sup>2</sup>: 0.2401<br>Measure: RD<br>Number of subjects: 8.0<br>ROIs per subject: 6.0<br>Total number of samples: 48.0\", \"R<sup>2</sup>: 0.0256<br>Measure: k_mf<br>Number of subjects: 8.0<br>ROIs per subject: 6.0<br>Total number of samples: 48.0\", \"R<sup>2</sup>: 0.3025<br>Measure: AWF<br>Number of subjects: 21.0<br>ROIs per subject: 1.0<br>Total number of samples: 21.0\", \"R<sup>2</sup>: 0.1024<br>Measure: MTR<br>Number of subjects: 21.0<br>ROIs per subject: 1.0<br>Total number of samples: 21.0\", \"R<sup>2</sup>: 0.5041<br>Measure: RD<br>Number of subjects: 21.0<br>ROIs per subject: 1.0<br>Total number of samples: 21.0\", \"R<sup>2</sup>: 0.25<br>Measure: RDe<br>Number of subjects: 21.0<br>ROIs per subject: 1.0<br>Total number of samples: 21.0\", \"R<sup>2</sup>: 0.0196<br>Measure: RK<br>Number of subjects: 21.0<br>ROIs per subject: 1.0<br>Total number of samples: 21.0\", \"R<sup>2</sup>: 0.4096<br>Measure: T2<br>Number of subjects: 21.0<br>ROIs per subject: 1.0<br>Total number of samples: 21.0\", \"R<sup>2</sup>: 0.7327<br>Measure: FA<br>Number of subjects: 36.0<br>ROIs per subject: 1.0<br>Total number of samples: 36.0\", \"R<sup>2</sup>: 0.3364<br>Measure: AWF<br>Number of subjects: 13.0<br>ROIs per subject: 6.0<br>Total number of samples: 78.0\", \"R<sup>2</sup>: 0.1225<br>Measure: MD<br>Number of subjects: 13.0<br>ROIs per subject: 6.0<br>Total number of samples: 78.0\", \"R<sup>2</sup>: 0.2304<br>Measure: MK<br>Number of subjects: 13.0<br>ROIs per subject: 6.0<br>Total number of samples: 78.0\", \"R<sup>2</sup>: 0.1369<br>Measure: RD<br>Number of subjects: 13.0<br>ROIs per subject: 6.0<br>Total number of samples: 78.0\", \"R<sup>2</sup>: 0.2401<br>Measure: RK<br>Number of subjects: 13.0<br>ROIs per subject: 6.0<br>Total number of samples: 78.0\", \"R<sup>2</sup>: 0.779<br>Measure: MPF<br>Number of subjects: 14.0<br>ROIs per subject: 8.0<br>Total number of samples: 112.0\", \"R<sup>2</sup>: 0.82<br>Measure: MPF<br>Number of subjects: 13.0<br>ROIs per subject: 1.0<br>Total number of samples: 13.0\", \"R<sup>2</sup>: 0.67<br>Measure: MWF<br>Number of subjects: 13.0<br>ROIs per subject: 44.0<br>Total number of samples: 572.0\", \"R<sup>2</sup>: 0.78<br>Measure: MWF<br>Number of subjects: 3.0<br>ROIs per subject: 73.0<br>Total number of samples: 219.0\", \"R<sup>2</sup>: 0.4199<br>Measure: AD<br>Number of subjects: 20.0<br>ROIs per subject: 4.0<br>Total number of samples: 80.0\", \"R<sup>2</sup>: 0.2237<br>Measure: FA<br>Number of subjects: 20.0<br>ROIs per subject: 4.0<br>Total number of samples: 80.0\", \"R<sup>2</sup>: 0.3492<br>Measure: MD<br>Number of subjects: 20.0<br>ROIs per subject: 4.0<br>Total number of samples: 80.0\", \"R<sup>2</sup>: 0.5169<br>Measure: MTR<br>Number of subjects: 20.0<br>ROIs per subject: 4.0<br>Total number of samples: 80.0\", \"R<sup>2</sup>: 0.552<br>Measure: RAFF<br>Number of subjects: 20.0<br>ROIs per subject: 4.0<br>Total number of samples: 80.0\", \"R<sup>2</sup>: 0.0015<br>Measure: RD<br>Number of subjects: 20.0<br>ROIs per subject: 4.0<br>Total number of samples: 80.0\", \"R<sup>2</sup>: 0.49<br>Measure: T1sat<br>Number of subjects: 20.0<br>ROIs per subject: 4.0<br>Total number of samples: 80.0\", \"R<sup>2</sup>: 0.94<br>Measure: MTR<br>Number of subjects: 2.0<br>ROIs per subject: 16.0<br>Total number of samples: 32.0\", \"R<sup>2</sup>: 0.2704<br>Measure: FA<br>Number of subjects: 18.0<br>ROIs per subject: 1.0<br>Total number of samples: 18.0\", \"R<sup>2</sup>: 0.0576<br>Measure: FA<br>Number of subjects: 11.0<br>ROIs per subject: 1.0<br>Total number of samples: 11.0\", \"R<sup>2</sup>: 0.3481<br>Measure: MD<br>Number of subjects: 11.0<br>ROIs per subject: 1.0<br>Total number of samples: 11.0\", \"R<sup>2</sup>: 0.0361<br>Measure: QSM<br>Number of subjects: 11.0<br>ROIs per subject: 1.0<br>Total number of samples: 11.0\", \"R<sup>2</sup>: 0.27<br>Measure: T1<br>Number of subjects: 13.0<br>ROIs per subject: 3.0<br>Total number of samples: 39.0\", \"R<sup>2</sup>: 0.235<br>Measure: T2<br>Number of subjects: 13.0<br>ROIs per subject: 3.0<br>Total number of samples: 39.0\", \"R<sup>2</sup>: 0.7055999999999999<br>Measure: MTR<br>Number of subjects: 20.0<br>ROIs per subject: 3.0<br>Total number of samples: 60.0\", \"R<sup>2</sup>: 0.48999999999999994<br>Measure: T1<br>Number of subjects: 20.0<br>ROIs per subject: 3.0<br>Total number of samples: 60.0\", \"R<sup>2</sup>: 0.6400000000000001<br>Measure: MPF<br>Number of subjects: 37.0<br>ROIs per subject: 3.0<br>Total number of samples: 111.0\", \"R<sup>2</sup>: 0.7055999999999999<br>Measure: MTR<br>Number of subjects: 37.0<br>ROIs per subject: 3.0<br>Total number of samples: 111.0\", \"R<sup>2</sup>: 0.4760999999999999<br>Measure: T1<br>Number of subjects: 37.0<br>ROIs per subject: 3.0<br>Total number of samples: 111.0\", \"R<sup>2</sup>: 0.0001<br>Measure: T2m<br>Number of subjects: 37.0<br>ROIs per subject: 3.0<br>Total number of samples: 111.0\", \"R<sup>2</sup>: 0.6241000000000001<br>Measure: FA<br>Number of subjects: 16.0<br>ROIs per subject: 3.0<br>Total number of samples: 48.0\", \"R<sup>2</sup>: 0.4624000000000001<br>Measure: MD<br>Number of subjects: 16.0<br>ROIs per subject: 3.0<br>Total number of samples: 48.0\", \"R<sup>2</sup>: 0.64<br>Measure: AD<br>Number of subjects: 15.0<br>ROIs per subject: 2.0<br>Total number of samples: 30.0\", \"R<sup>2</sup>: 0.6889<br>Measure: FA<br>Number of subjects: 15.0<br>ROIs per subject: 2.0<br>Total number of samples: 30.0\", \"R<sup>2</sup>: 0.6084<br>Measure: MD<br>Number of subjects: 15.0<br>ROIs per subject: 2.0<br>Total number of samples: 30.0\", \"R<sup>2</sup>: 0.7396<br>Measure: MPF<br>Number of subjects: 15.0<br>ROIs per subject: 2.0<br>Total number of samples: 30.0\", \"R<sup>2</sup>: 0.4624<br>Measure: MTR<br>Number of subjects: 15.0<br>ROIs per subject: 2.0<br>Total number of samples: 30.0\", \"R<sup>2</sup>: 0.6561<br>Measure: RD<br>Number of subjects: 15.0<br>ROIs per subject: 2.0<br>Total number of samples: 30.0\", \"R<sup>2</sup>: 0.7921<br>Measure: T1<br>Number of subjects: 15.0<br>ROIs per subject: 2.0<br>Total number of samples: 30.0\", \"R<sup>2</sup>: 0.8464<br>Measure: T2<br>Number of subjects: 15.0<br>ROIs per subject: 2.0<br>Total number of samples: 30.0\", \"R<sup>2</sup>: 0.7569<br>Measure: MPF<br>Number of subjects: 15.0<br>ROIs per subject: 1.0<br>Total number of samples: 15.0\", \"R<sup>2</sup>: 0.4624<br>Measure: MWF<br>Number of subjects: 15.0<br>ROIs per subject: 1.0<br>Total number of samples: 15.0\", \"R<sup>2</sup>: 0.49<br>Measure: RD<br>Number of subjects: 15.0<br>ROIs per subject: 1.0<br>Total number of samples: 15.0\", \"R<sup>2</sup>: 0.7396<br>Measure: rSPF<br>Number of subjects: 15.0<br>ROIs per subject: 1.0<br>Total number of samples: 15.0\", \"R<sup>2</sup>: 0.36<br>Measure: MTR<br>Number of subjects: 1.0<br>ROIs per subject: 18.0<br>Total number of samples: 18.0\", \"R<sup>2</sup>: 0.3481<br>Measure: PD<br>Number of subjects: 1.0<br>ROIs per subject: 18.0<br>Total number of samples: 18.0\", \"R<sup>2</sup>: 0.5929<br>Measure: T1<br>Number of subjects: 1.0<br>ROIs per subject: 18.0<br>Total number of samples: 18.0\", \"R<sup>2</sup>: 0.4225<br>Measure: T2<br>Number of subjects: 1.0<br>ROIs per subject: 18.0<br>Total number of samples: 18.0\", \"R<sup>2</sup>: 0.5625<br>Measure: AD<br>Number of subjects: 10.0<br>ROIs per subject: 1.0<br>Total number of samples: 10.0\", \"R<sup>2</sup>: 0.7056<br>Measure: FA<br>Number of subjects: 10.0<br>ROIs per subject: 1.0<br>Total number of samples: 10.0\", \"R<sup>2</sup>: 0.6561<br>Measure: MD<br>Number of subjects: 10.0<br>ROIs per subject: 1.0<br>Total number of samples: 10.0\", \"R<sup>2</sup>: 0.8649<br>Measure: MPF<br>Number of subjects: 10.0<br>ROIs per subject: 1.0<br>Total number of samples: 10.0\", \"R<sup>2</sup>: 0.4356<br>Measure: R1f<br>Number of subjects: 10.0<br>ROIs per subject: 1.0<br>Total number of samples: 10.0\", \"R<sup>2</sup>: 0.7569<br>Measure: RD<br>Number of subjects: 10.0<br>ROIs per subject: 1.0<br>Total number of samples: 10.0\", \"R<sup>2</sup>: 0.4356<br>Measure: T1<br>Number of subjects: 10.0<br>ROIs per subject: 1.0<br>Total number of samples: 10.0\", \"R<sup>2</sup>: 0.0676<br>Measure: T2<br>Number of subjects: 10.0<br>ROIs per subject: 1.0<br>Total number of samples: 10.0\", \"R<sup>2</sup>: 0.36<br>Measure: T2f<br>Number of subjects: 10.0<br>ROIs per subject: 1.0<br>Total number of samples: 10.0\", \"R<sup>2</sup>: 0.1521<br>Measure: T2m<br>Number of subjects: 10.0<br>ROIs per subject: 1.0<br>Total number of samples: 10.0\", \"R<sup>2</sup>: 0.1089<br>Measure: k_fm<br>Number of subjects: 10.0<br>ROIs per subject: 1.0<br>Total number of samples: 10.0\", \"R<sup>2</sup>: 0.6724<br>Measure: k_mf<br>Number of subjects: 10.0<br>ROIs per subject: 1.0<br>Total number of samples: 10.0\", \"R<sup>2</sup>: 0.0001<br>Measure: AD<br>Number of subjects: 25.0<br>ROIs per subject: 1.0<br>Total number of samples: 25.0\", \"R<sup>2</sup>: 0.0169<br>Measure: FA<br>Number of subjects: 25.0<br>ROIs per subject: 1.0<br>Total number of samples: 25.0\", \"R<sup>2</sup>: 0.0289<br>Measure: MD<br>Number of subjects: 25.0<br>ROIs per subject: 1.0<br>Total number of samples: 25.0\", \"R<sup>2</sup>: 0.1444<br>Measure: MTR<br>Number of subjects: 25.0<br>ROIs per subject: 1.0<br>Total number of samples: 25.0\", \"R<sup>2</sup>: 0.2116<br>Measure: RD<br>Number of subjects: 25.0<br>ROIs per subject: 1.0<br>Total number of samples: 25.0\", \"R<sup>2</sup>: 0.2872<br>Measure: MPF<br>Number of subjects: 15.0<br>ROIs per subject: 1.0<br>Total number of samples: 15.0\", \"R<sup>2</sup>: 0.9801<br>Measure: MPF<br>Number of subjects: 1.0<br>ROIs per subject: 9.0<br>Total number of samples: 9.0\", \"R<sup>2</sup>: 0.4637<br>Measure: FA<br>Number of subjects: 15.0<br>ROIs per subject: 1.0<br>Total number of samples: 15.0\", \"R<sup>2</sup>: 0.2787<br>Measure: RD<br>Number of subjects: 15.0<br>ROIs per subject: 1.0<br>Total number of samples: 15.0\", \"R<sup>2</sup>: 0.1987<br>Measure: AD<br>Number of subjects: 12.0<br>ROIs per subject: 3.0<br>Total number of samples: 36.0\", \"R<sup>2</sup>: 0.5707<br>Measure: FA<br>Number of subjects: 12.0<br>ROIs per subject: 3.0<br>Total number of samples: 36.0\", \"R<sup>2</sup>: 0.0564<br>Measure: MD<br>Number of subjects: 12.0<br>ROIs per subject: 3.0<br>Total number of samples: 36.0\", \"R<sup>2</sup>: 0.2973<br>Measure: RD<br>Number of subjects: 12.0<br>ROIs per subject: 3.0<br>Total number of samples: 36.0\", \"R<sup>2</sup>: 0.7<br>Measure: MPF<br>Number of subjects: 15.0<br>ROIs per subject: 4.0<br>Total number of samples: 60.0\", \"R<sup>2</sup>: 0.7<br>Measure: MVF-MT<br>Number of subjects: 15.0<br>ROIs per subject: 4.0<br>Total number of samples: 60.0\", \"R<sup>2</sup>: 0.68<br>Measure: MVF-T2<br>Number of subjects: 15.0<br>ROIs per subject: 4.0<br>Total number of samples: 60.0\", \"R<sup>2</sup>: 0.66<br>Measure: MWF<br>Number of subjects: 15.0<br>ROIs per subject: 4.0<br>Total number of samples: 60.0\", \"R<sup>2</sup>: 0.5184<br>Measure: T2<br>Number of subjects: 8.0<br>ROIs per subject: 3.0<br>Total number of samples: 24.0\", \"R<sup>2</sup>: 0.7569<br>Measure: FA<br>Number of subjects: 21.0<br>ROIs per subject: 1.0<br>Total number of samples: 21.0\", \"R<sup>2</sup>: 0.5329<br>Measure: MD<br>Number of subjects: 21.0<br>ROIs per subject: 1.0<br>Total number of samples: 21.0\", \"R<sup>2</sup>: 0.8281<br>Measure: RD<br>Number of subjects: 21.0<br>ROIs per subject: 1.0<br>Total number of samples: 21.0\", \"R<sup>2</sup>: 0.6241000000000001<br>Measure: MTR<br>Number of subjects: 16.0<br>ROIs per subject: 1.0<br>Total number of samples: 16.0\", \"R<sup>2</sup>: 0.334<br>Measure: FA<br>Number of subjects: 12.0<br>ROIs per subject: 1.0<br>Total number of samples: 12.0\"], \"textfont\": {\"size\": 15}, \"type\": \"treemap\", \"values\": [60.0, 60.0, 60.0, 17.0, 17.0, 17.0, 17.0, 20.0, 4.0, 20.0, 20.0, 56.0, 56.0, 56.0, 56.0, 21.0, 21.0, 600.0, 54.0, 24.0, 9.0, 9.0, 60.0, 60.0, 60.0, 60.0, 60.0, 60.0, 474.0, 474.0, 474.0, 48.0, 48.0, 48.0, 48.0, 48.0, 48.0, 48.0, 21.0, 21.0, 21.0, 21.0, 21.0, 21.0, 36.0, 78.0, 78.0, 78.0, 78.0, 78.0, 112.0, 13.0, 572.0, 219.0, 80.0, 80.0, 80.0, 80.0, 80.0, 80.0, 80.0, 32.0, 18.0, 11.0, 11.0, 11.0, 39.0, 39.0, 60.0, 60.0, 111.0, 111.0, 111.0, 111.0, 48.0, 48.0, 30.0, 30.0, 30.0, 30.0, 30.0, 30.0, 30.0, 30.0, 15.0, 15.0, 15.0, 15.0, 18.0, 18.0, 18.0, 18.0, 10.0, 10.0, 10.0, 10.0, 10.0, 10.0, 10.0, 10.0, 10.0, 10.0, 10.0, 10.0, 25.0, 25.0, 25.0, 25.0, 25.0, 15.0, 9.0, 15.0, 15.0, 36.0, 36.0, 36.0, 36.0, 60.0, 60.0, 60.0, 60.0, 24.0, 21.0, 21.0, 21.0, 16.0, 12.0, 362.0, 99.0, 543.0, 460.0, 78.0, 423.0, 1181.0, 9.0, 4.0, 60.0, 60.0, 866.0, 18.0, 485.0, 58.0, 474.0, 140.0, 532.0, 21.0, 99.0, 802.0, 60.0, 80.0, 202.0, 10.0, 121.0, 60.0, 21.0, 10.0, 58.0, 15.0]}],\n                        {\"annotations\": [{\"font\": {\"color\": \"gray\", \"size\": 8}, \"showarrow\": false, \"text\": \"<a href=\\\"https://neurolibre.com\\\" target=\\\"_blank\\\" style=\\\"color:gray!important\\\">NeuroLibre</a>\", \"x\": 1, \"xref\": \"paper\", \"y\": -0.055, \"yref\": \"paper\"}], \"autosize\": false, \"height\": 600, \"images\": [{\"opacity\": 0.9, \"sizex\": 0.04, \"sizey\": 0.04, \"source\": \"https://raw.githubusercontent.com/notebook-factory/brand/main/nlibre_custom2.svg\", \"x\": 0.89, \"xref\": \"paper\", \"y\": -0.010000000000000002, \"yref\": \"paper\"}], \"margin\": {\"l\": 0}, \"template\": {\"data\": {\"bar\": [{\"error_x\": {\"color\": \"#2a3f5f\"}, \"error_y\": {\"color\": \"#2a3f5f\"}, \"marker\": {\"line\": {\"color\": \"#E5ECF6\", \"width\": 0.5}}, \"type\": \"bar\"}], \"barpolar\": [{\"marker\": {\"line\": {\"color\": \"#E5ECF6\", \"width\": 0.5}}, \"type\": \"barpolar\"}], \"carpet\": [{\"aaxis\": {\"endlinecolor\": \"#2a3f5f\", \"gridcolor\": \"white\", \"linecolor\": \"white\", \"minorgridcolor\": \"white\", \"startlinecolor\": \"#2a3f5f\"}, \"baxis\": {\"endlinecolor\": \"#2a3f5f\", \"gridcolor\": \"white\", \"linecolor\": \"white\", \"minorgridcolor\": \"white\", \"startlinecolor\": \"#2a3f5f\"}, \"type\": \"carpet\"}], \"choropleth\": [{\"colorbar\": {\"outlinewidth\": 0, \"ticks\": \"\"}, \"type\": \"choropleth\"}], \"contour\": [{\"colorbar\": {\"outlinewidth\": 0, \"ticks\": \"\"}, \"colorscale\": [[0.0, \"#0d0887\"], [0.1111111111111111, \"#46039f\"], [0.2222222222222222, \"#7201a8\"], [0.3333333333333333, \"#9c179e\"], [0.4444444444444444, \"#bd3786\"], [0.5555555555555556, \"#d8576b\"], [0.6666666666666666, \"#ed7953\"], [0.7777777777777778, \"#fb9f3a\"], [0.8888888888888888, \"#fdca26\"], [1.0, \"#f0f921\"]], \"type\": \"contour\"}], \"contourcarpet\": [{\"colorbar\": {\"outlinewidth\": 0, \"ticks\": \"\"}, \"type\": \"contourcarpet\"}], \"heatmap\": [{\"colorbar\": {\"outlinewidth\": 0, \"ticks\": \"\"}, \"colorscale\": [[0.0, \"#0d0887\"], [0.1111111111111111, \"#46039f\"], [0.2222222222222222, \"#7201a8\"], [0.3333333333333333, \"#9c179e\"], [0.4444444444444444, \"#bd3786\"], [0.5555555555555556, \"#d8576b\"], [0.6666666666666666, \"#ed7953\"], [0.7777777777777778, \"#fb9f3a\"], [0.8888888888888888, \"#fdca26\"], [1.0, \"#f0f921\"]], \"type\": \"heatmap\"}], \"heatmapgl\": [{\"colorbar\": {\"outlinewidth\": 0, \"ticks\": \"\"}, \"colorscale\": [[0.0, \"#0d0887\"], [0.1111111111111111, \"#46039f\"], [0.2222222222222222, \"#7201a8\"], [0.3333333333333333, \"#9c179e\"], [0.4444444444444444, \"#bd3786\"], [0.5555555555555556, \"#d8576b\"], [0.6666666666666666, \"#ed7953\"], [0.7777777777777778, \"#fb9f3a\"], [0.8888888888888888, \"#fdca26\"], [1.0, \"#f0f921\"]], \"type\": \"heatmapgl\"}], \"histogram\": [{\"marker\": {\"colorbar\": {\"outlinewidth\": 0, \"ticks\": \"\"}}, \"type\": \"histogram\"}], \"histogram2d\": [{\"colorbar\": {\"outlinewidth\": 0, \"ticks\": \"\"}, \"colorscale\": [[0.0, \"#0d0887\"], [0.1111111111111111, \"#46039f\"], [0.2222222222222222, \"#7201a8\"], [0.3333333333333333, \"#9c179e\"], [0.4444444444444444, \"#bd3786\"], [0.5555555555555556, \"#d8576b\"], [0.6666666666666666, \"#ed7953\"], [0.7777777777777778, \"#fb9f3a\"], [0.8888888888888888, \"#fdca26\"], [1.0, \"#f0f921\"]], \"type\": \"histogram2d\"}], \"histogram2dcontour\": [{\"colorbar\": {\"outlinewidth\": 0, \"ticks\": \"\"}, \"colorscale\": [[0.0, \"#0d0887\"], [0.1111111111111111, \"#46039f\"], [0.2222222222222222, \"#7201a8\"], [0.3333333333333333, \"#9c179e\"], [0.4444444444444444, \"#bd3786\"], [0.5555555555555556, \"#d8576b\"], [0.6666666666666666, \"#ed7953\"], [0.7777777777777778, \"#fb9f3a\"], [0.8888888888888888, \"#fdca26\"], [1.0, \"#f0f921\"]], \"type\": \"histogram2dcontour\"}], \"mesh3d\": [{\"colorbar\": {\"outlinewidth\": 0, \"ticks\": \"\"}, \"type\": \"mesh3d\"}], \"parcoords\": [{\"line\": {\"colorbar\": {\"outlinewidth\": 0, \"ticks\": \"\"}}, \"type\": \"parcoords\"}], \"pie\": [{\"automargin\": true, \"type\": \"pie\"}], \"scatter\": [{\"marker\": {\"colorbar\": {\"outlinewidth\": 0, \"ticks\": \"\"}}, \"type\": \"scatter\"}], \"scatter3d\": [{\"line\": {\"colorbar\": {\"outlinewidth\": 0, \"ticks\": \"\"}}, \"marker\": {\"colorbar\": {\"outlinewidth\": 0, \"ticks\": \"\"}}, \"type\": \"scatter3d\"}], \"scattercarpet\": [{\"marker\": {\"colorbar\": {\"outlinewidth\": 0, \"ticks\": \"\"}}, \"type\": \"scattercarpet\"}], \"scattergeo\": [{\"marker\": {\"colorbar\": {\"outlinewidth\": 0, \"ticks\": \"\"}}, \"type\": \"scattergeo\"}], \"scattergl\": [{\"marker\": {\"colorbar\": {\"outlinewidth\": 0, \"ticks\": \"\"}}, \"type\": \"scattergl\"}], \"scattermapbox\": [{\"marker\": {\"colorbar\": {\"outlinewidth\": 0, \"ticks\": \"\"}}, \"type\": \"scattermapbox\"}], \"scatterpolar\": [{\"marker\": {\"colorbar\": {\"outlinewidth\": 0, \"ticks\": \"\"}}, \"type\": \"scatterpolar\"}], \"scatterpolargl\": [{\"marker\": {\"colorbar\": {\"outlinewidth\": 0, \"ticks\": \"\"}}, \"type\": \"scatterpolargl\"}], \"scatterternary\": [{\"marker\": {\"colorbar\": {\"outlinewidth\": 0, \"ticks\": \"\"}}, \"type\": \"scatterternary\"}], \"surface\": [{\"colorbar\": {\"outlinewidth\": 0, \"ticks\": \"\"}, \"colorscale\": [[0.0, \"#0d0887\"], [0.1111111111111111, \"#46039f\"], [0.2222222222222222, \"#7201a8\"], [0.3333333333333333, \"#9c179e\"], [0.4444444444444444, \"#bd3786\"], [0.5555555555555556, \"#d8576b\"], [0.6666666666666666, \"#ed7953\"], [0.7777777777777778, \"#fb9f3a\"], [0.8888888888888888, \"#fdca26\"], [1.0, \"#f0f921\"]], \"type\": \"surface\"}], \"table\": [{\"cells\": {\"fill\": {\"color\": \"#EBF0F8\"}, \"line\": {\"color\": \"white\"}}, \"header\": {\"fill\": {\"color\": \"#C8D4E3\"}, \"line\": {\"color\": \"white\"}}, \"type\": \"table\"}]}, \"layout\": {\"annotationdefaults\": {\"arrowcolor\": \"#2a3f5f\", \"arrowhead\": 0, \"arrowwidth\": 1}, \"coloraxis\": {\"colorbar\": {\"outlinewidth\": 0, \"ticks\": \"\"}}, \"colorscale\": {\"diverging\": [[0, \"#8e0152\"], [0.1, \"#c51b7d\"], [0.2, \"#de77ae\"], [0.3, \"#f1b6da\"], [0.4, \"#fde0ef\"], [0.5, \"#f7f7f7\"], [0.6, \"#e6f5d0\"], [0.7, \"#b8e186\"], [0.8, \"#7fbc41\"], [0.9, \"#4d9221\"], [1, \"#276419\"]], \"sequential\": [[0.0, \"#0d0887\"], [0.1111111111111111, \"#46039f\"], [0.2222222222222222, \"#7201a8\"], [0.3333333333333333, \"#9c179e\"], [0.4444444444444444, \"#bd3786\"], [0.5555555555555556, \"#d8576b\"], [0.6666666666666666, \"#ed7953\"], [0.7777777777777778, \"#fb9f3a\"], [0.8888888888888888, \"#fdca26\"], [1.0, \"#f0f921\"]], \"sequentialminus\": [[0.0, \"#0d0887\"], [0.1111111111111111, \"#46039f\"], [0.2222222222222222, \"#7201a8\"], [0.3333333333333333, \"#9c179e\"], [0.4444444444444444, \"#bd3786\"], [0.5555555555555556, \"#d8576b\"], [0.6666666666666666, \"#ed7953\"], [0.7777777777777778, \"#fb9f3a\"], [0.8888888888888888, \"#fdca26\"], [1.0, \"#f0f921\"]]}, \"colorway\": [\"#636efa\", \"#EF553B\", \"#00cc96\", \"#ab63fa\", \"#FFA15A\", \"#19d3f3\", \"#FF6692\", \"#B6E880\", \"#FF97FF\", \"#FECB52\"], \"font\": {\"color\": \"#2a3f5f\"}, \"geo\": {\"bgcolor\": \"white\", \"lakecolor\": \"white\", \"landcolor\": \"#E5ECF6\", \"showlakes\": true, \"showland\": true, \"subunitcolor\": \"white\"}, \"hoverlabel\": {\"align\": \"left\"}, \"hovermode\": \"closest\", \"mapbox\": {\"style\": \"light\"}, \"paper_bgcolor\": \"white\", \"plot_bgcolor\": \"#E5ECF6\", \"polar\": {\"angularaxis\": {\"gridcolor\": \"white\", \"linecolor\": \"white\", \"ticks\": \"\"}, \"bgcolor\": \"#E5ECF6\", \"radialaxis\": {\"gridcolor\": \"white\", \"linecolor\": \"white\", \"ticks\": \"\"}}, \"scene\": {\"xaxis\": {\"backgroundcolor\": \"#E5ECF6\", \"gridcolor\": \"white\", \"gridwidth\": 2, \"linecolor\": \"white\", \"showbackground\": true, \"ticks\": \"\", \"zerolinecolor\": \"white\"}, \"yaxis\": {\"backgroundcolor\": \"#E5ECF6\", \"gridcolor\": \"white\", \"gridwidth\": 2, \"linecolor\": \"white\", \"showbackground\": true, \"ticks\": \"\", \"zerolinecolor\": \"white\"}, \"zaxis\": {\"backgroundcolor\": \"#E5ECF6\", \"gridcolor\": \"white\", \"gridwidth\": 2, \"linecolor\": \"white\", \"showbackground\": true, \"ticks\": \"\", \"zerolinecolor\": \"white\"}}, \"shapedefaults\": {\"line\": {\"color\": \"#2a3f5f\"}}, \"ternary\": {\"aaxis\": {\"gridcolor\": \"white\", \"linecolor\": \"white\", \"ticks\": \"\"}, \"baxis\": {\"gridcolor\": \"white\", \"linecolor\": \"white\", \"ticks\": \"\"}, \"bgcolor\": \"#E5ECF6\", \"caxis\": {\"gridcolor\": \"white\", \"linecolor\": \"white\", \"ticks\": \"\"}}, \"title\": {\"x\": 0.05}, \"xaxis\": {\"automargin\": true, \"gridcolor\": \"white\", \"linecolor\": \"white\", \"ticks\": \"\", \"title\": {\"standoff\": 15}, \"zerolinecolor\": \"white\", \"zerolinewidth\": 2}, \"yaxis\": {\"automargin\": true, \"gridcolor\": \"white\", \"linecolor\": \"white\", \"ticks\": \"\", \"title\": {\"standoff\": 15}, \"zerolinecolor\": \"white\", \"zerolinewidth\": 2}}}, \"title\": {\"text\": \"Figure 4 - R<sup>2</sup> values across studies\"}, \"width\": 650},\n                        {\"responsive\": true}\n                    ).then(function(){\n                            \nvar gd = document.getElementById('a183f0ba-315b-483f-a502-cc4504c6e4b2');\nvar x = new MutationObserver(function (mutations, observer) {{\n        var display = window.getComputedStyle(gd).display;\n        if (!display || display === 'none') {{\n            console.log([gd, 'removed!']);\n            Plotly.purge(gd);\n            observer.disconnect();\n        }}\n}});\n\n// Listen for the removal of the full notebook cells\nvar notebookContainer = gd.closest('#notebook-container');\nif (notebookContainer) {{\n    x.observe(notebookContainer, {childList: true});\n}}\n\n// Listen for the clearing of the current output cell\nvar outputEl = gd.closest('.output');\nif (outputEl) {{\n    x.observe(outputEl, {childList: true});\n}}\n\n                        })\n                };\n                });\n            </script>\n        </div>"
     },
     "metadata": {},
     "output_type": "display_data"
    }
   ],
   "source": [
    "filtered_df=filtered_df.sort_values(by=['Study','Measure'])\n",
    "\n",
    "args = dict(data_frame=filtered_df, values='Sample points',\n",
    "            color='R^2', hover_data='',\n",
    "            path=['Measure', 'Study'],\n",
    "            color_continuous_scale='Viridis')\n",
    "args = px._core.build_dataframe(args, go.Treemap)\n",
    "treemap_df = px._core.process_dataframe_hierarchy(args)['data_frame']\n",
    "\n",
    "fig4 = go.Figure(go.Treemap(\n",
    "        ids=treemap_df['id'].tolist(),\n",
    "        labels=treemap_df['labels'].tolist(),\n",
    "        parents=treemap_df['parent'].tolist(),\n",
    "        values=treemap_df['Sample points'].tolist(),\n",
    "        branchvalues='total',\n",
    "        text='R<sup>2</sup>: ' + filtered_df['R^2'].astype(str) + '<br>' + filtered_df['Details'],\n",
    "        hovertext=filtered_df['Study'] + '<br>R<sup>2</sup>: ' + filtered_df['R^2'].astype(str) +\n",
    "            '<br>Number of samples: ' + filtered_df['Sample points'].astype(str),\n",
    "        hoverinfo='text',\n",
    "        textfont=dict(\n",
    "            size=15,\n",
    "        ),\n",
    "        marker=dict(\n",
    "            colors=filtered_df['R^2'],\n",
    "            colorscale='Viridis',\n",
    "            colorbar=dict(title='R<sup>2</sup>'),\n",
    "            showscale=True\n",
    "        )\n",
    "    )\n",
    ")\n",
    "\n",
    "fig4 = fig4.update_layout(\n",
    "    title=dict(text=\"Figure 4 - R<sup>2</sup> values across studies\"),\n",
    "    autosize=False,\n",
    "    width=650,\n",
    "    height=600,\n",
    "    margin=dict(\n",
    "        l=0\n",
    "    )\n",
    ")\n",
    "\n",
    "# Save (pickle) filtered dataframe\n",
    "# filtered_df.to_pickle('filtered_df.pkl')\n",
    "\n",
    "plot(insertLogo(fig4,0.04,0.04,1,-0.055,-0.11,0.045), filename = 'fig4.html',config = config)\n",
    "# display(HTML('fig4.html'))\n",
    "\n",
    "fig4.show()"
   ]
  },
  {
   "cell_type": "code",
   "execution_count": 9,
   "outputs": [],
   "source": [],
   "metadata": {
    "collapsed": false,
    "pycharm": {
     "name": "#%%\n"
    }
   }
  }
 ],
 "metadata": {
  "celltoolbar": "Edit Metadata",
  "kernelspec": {
   "display_name": "Python 3",
   "language": "python",
   "name": "python3"
  },
  "language_info": {
   "codemirror_mode": {
    "name": "ipython",
    "version": 3
   },
   "file_extension": ".py",
   "mimetype": "text/x-python",
   "name": "python",
   "nbconvert_exporter": "python",
   "pygments_lexer": "ipython3",
   "version": "3.6.12"
  }
 },
 "nbformat": 4,
 "nbformat_minor": 4
}